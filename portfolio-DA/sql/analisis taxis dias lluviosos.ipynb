{
 "cells": [
  {
   "cell_type": "markdown",
   "metadata": {},
   "source": [
    "¡Hola!\n",
    "\n",
    "Mi nombre es Tonatiuh Cruz. Me complace revisar tu proyecto hoy.\n",
    "\n",
    "Al identificar cualquier error inicialmente, simplemente los destacaré. Te animo a localizar y abordar los problemas de forma independiente como parte de tu preparación para un rol como data-analyst. En un entorno profesional, tu líder de equipo seguiría un enfoque similar. Si encuentras la tarea desafiante, proporcionaré una pista más específica en la próxima iteración.\n",
    "\n",
    "Encontrarás mis comentarios a continuación - **por favor no los muevas, modifiques o elimines**.\n",
    "\n",
    "Puedes encontrar mis comentarios en cajas verdes, amarillas o rojas como esta:\n",
    "\n",
    "<div class=\"alert alert-block alert-success\">\n",
    "<b>Comentario del revisor</b> <a class=\"tocSkip\"></a>\n",
    "\n",
    "Éxito. Todo está hecho correctamente.\n",
    "</div>\n",
    "\n",
    "<div class=\"alert alert-block alert-warning\">\n",
    "<b>Comentario del revisor</b> <a class=\"tocSkip\"></a>\n",
    "\n",
    "Observaciones. Algunas recomendaciones.\n",
    "</div>\n",
    "\n",
    "<div class=\"alert alert-block alert-danger\">\n",
    "<b>Comentario del revisor</b> <a class=\"tocSkip\"></a>\n",
    "\n",
    "Necesita corrección. El bloque requiere algunas correcciones. El trabajo no puede ser aceptado con comentarios en rojo.\n",
    "</div>\n",
    "\n",
    "Puedes responderme utilizando esto:\n",
    "\n",
    "<div class=\"alert alert-block alert-info\">\n",
    "<b>Respuesta del estudiante.</b> <a class=\"tocSkip\"></a>"
   ]
  },
  {
   "cell_type": "markdown",
   "metadata": {},
   "source": [
    "<div class=\"alert alert-block alert-success\">\n",
    "<b>Resumen de la revisión 1</b> <a class=\"tocSkip\"></a>\n",
    "\n",
    "Hola! Tu trabajo es excelente, solo te hice un par de recomendaciones mínimas para mejorar algunas visualizaciones y te dejé un comentario en la prueba de hipótesis. Una vez hayas atendido este último comentario principalmente, tu proyecto quedará aprobado. Quedo pendiente de tus dudas y comentarios.\n",
    "</div>"
   ]
  },
  {
   "cell_type": "markdown",
   "metadata": {},
   "source": [
    "# Carga de Liberias"
   ]
  },
  {
   "cell_type": "markdown",
   "metadata": {},
   "source": [
    "\n",
    "import pandas as pd\n",
    "import seaborn as sns\n",
    "import matplotlib.pyplot as plt\n",
    "from datetime import datetime\n",
    "import numpy as np\n",
    "from scipy import stats as st\n",
    "from scipy.stats import levene"
   ]
  },
  {
   "cell_type": "markdown",
   "metadata": {},
   "source": [
    "# Carga de Datos a Python"
   ]
  },
  {
   "cell_type": "markdown",
   "metadata": {},
   "source": [
    "name_taxi = pd.read_csv(\"moved_project_sql_result_01.csv\")\n",
    "viaje_taxi = pd.read_csv(\"moved_project_sql_result_04.csv\")\n",
    "clima_taxi = pd.read_csv(\"moved_project_sql_result_07.csv\")"
   ]
  },
  {
   "cell_type": "markdown",
   "metadata": {},
   "source": [
    "<div class=\"alert alert-block alert-success\">\n",
    "\n",
    "<b>Comentario del revisor</b> <a class=\"tocSkip\"></a>\n",
    "\n",
    "Excelente trabajo con la carga de las bases de datos con las que vamos a trabajr y con las librerias\n",
    "\n"
   ]
  },
  {
   "cell_type": "markdown",
   "metadata": {},
   "source": [
    "# Preparar Datos"
   ]
  },
  {
   "cell_type": "code",
   "execution_count": null,
   "metadata": {},
   "outputs": [],
   "source": [
    "def info_gral(datos):\n",
    "    print(\"Primeras Filas\")\n",
    "    print(datos.head())\n",
    "    print()\n",
    "    print(\"Datos Generales\")\n",
    "    print(datos.info())\n",
    "    print()\n",
    "    print(\"Revision de Datos Ausentes\")\n",
    "    print(datos.isna().sum())\n",
    "    print()\n",
    "    print(\"Revision de Duplicados\")\n",
    "    print(datos.duplicated().sum())"
   ]
  },
  {
   "cell_type": "markdown",
   "metadata": {},
   "source": [
    "<div class=\"alert alert-block alert-success\">\n",
    "\n",
    "<b>Comentario del revisor</b> <a class=\"tocSkip\"></a>\n",
    "\n",
    "Excelente trabajo con el analisis de duplicados"
   ]
  },
  {
   "cell_type": "markdown",
   "metadata": {},
   "source": [
    "## Compañia y cantidad de viajes"
   ]
  },
  {
   "cell_type": "code",
   "execution_count": null,
   "metadata": {},
   "outputs": [],
   "source": [
    "info_gral(name_taxi)"
   ]
  },
  {
   "cell_type": "code",
   "execution_count": null,
   "metadata": {},
   "outputs": [],
   "source": [
    "top_compañias = ( name_taxi.groupby('company_name')['trips_amount'].sum().sort_values(ascending=False).head(10).reset_index())\n",
    "\n",
    "print(top_compañias)"
   ]
  },
  {
   "cell_type": "code",
   "execution_count": null,
   "metadata": {},
   "outputs": [],
   "source": [
    "# Crear gráfica de barras\n",
    "plt.figure(figsize=(10, 6))\n",
    "\n",
    "sns.barplot(data=top_compañias, x='trips_amount', y='company_name')\n",
    "\n",
    "# Personalizar la gráfica\n",
    "plt.title('Top 10 Compañias con mayor cantidad de Viajes', fontsize=16)\n",
    "plt.xlabel('Cantidad de Viajes', fontsize=14)\n",
    "plt.ylabel('Compañias', fontsize=20)\n",
    "plt.xticks(rotation=45, fontsize=12)\n",
    "plt.grid(axis='y', linestyle='--', alpha=0.7)\n",
    "\n",
    "plt.show()"
   ]
  },
  {
   "cell_type": "markdown",
   "metadata": {},
   "source": [
    "Aqui no encontramos ni datos ausentes ni datos duplicados asi que lo dejamos como esta solo visualizamos e hicimos un analisis del top 10 empresas de taxis por número de viajes (15 y 16 de noviembre de 2017) en el cual en la grafica nos damos cuenta que Flash Cab es la que cuenta con mayor numero de viajes teniendo 19,558 viajes como se dificulta la lectura poniendo en X ya fuera poniendo letra mas chica o cambiando la inclinacion decidi colocarla en el eje Y los datos de las compañias e hice las letras un poco mas grandes para su mejor visualizacion."
   ]
  },
  {
   "cell_type": "markdown",
   "metadata": {},
   "source": [
    "## Barrios y promedio de viaje"
   ]
  },
  {
   "cell_type": "code",
   "execution_count": null,
   "metadata": {},
   "outputs": [],
   "source": [
    "info_gral(viaje_taxi)"
   ]
  },
  {
   "cell_type": "code",
   "execution_count": null,
   "metadata": {},
   "outputs": [],
   "source": [
    "top_barrios = ( viaje_taxi.groupby('dropoff_location_name')['average_trips'].sum().sort_values(ascending=False).head(10).reset_index())\n",
    "\n",
    "print(top_barrios)"
   ]
  },
  {
   "cell_type": "code",
   "execution_count": null,
   "metadata": {},
   "outputs": [],
   "source": [
    "# Crear gráfica de barras\n",
    "plt.figure(figsize=(10, 6))\n",
    "\n",
    "sns.barplot(data=top_barrios, x='dropoff_location_name', y='average_trips')\n",
    "\n",
    "# Personalizar la gráfica\n",
    "plt.title('Top 10 Barrios por Promedio de Viajes', fontsize=16)\n",
    "plt.xlabel('Barrios', fontsize=14)\n",
    "plt.ylabel('Promedio de Viajes', fontsize=14)\n",
    "plt.xticks(rotation=45, fontsize=12)\n",
    "plt.grid(axis='y', linestyle='--', alpha=0.7)\n",
    "\n",
    "plt.show()"
   ]
  },
  {
   "cell_type": "markdown",
   "metadata": {},
   "source": [
    "<div class=\"alert alert-block alert-success\">\n",
    "\n",
    "<b>Comentario del revisor</b> <a class=\"tocSkip\"></a>\n",
    "\n",
    "Excelente trabajo con el desarrollo de este análisis y lo complementaste con una gráfica.\n",
    "    </div>"
   ]
  },
  {
   "cell_type": "markdown",
   "metadata": {},
   "source": [
    "Analizamos cuales son los barrios mas frecuentados por los taxis y lo graficamos para visualizar cual es el barrio mas frecuente que en este caso salio Loop como primer lugar con un promedio de viaje de 10,727 y asi sucesivamente, este archivo tampoco se encontraron ni datos ausentes ni datos duplicados. "
   ]
  },
  {
   "cell_type": "markdown",
   "metadata": {},
   "source": [
    "<div class=\"alert alert-block alert-danger\">\n",
    "\n",
    "<b>Comentario del revisor</b> <a class=\"tocSkip\"></a>\n",
    "\n",
    " Solamente dado que al cliente le interesa el top 10 de las principales empresas con número de viajes, te recomiendo complementar este análisis con una gráfica solamente mostrando el top 10 empresas de taxis por número de viajes (15 y 16 de noviembre de 2017).</div>"
   ]
  },
  {
   "cell_type": "markdown",
   "metadata": {},
   "source": [
    "<div class=\"alert alert-block alert-info\">\n",
    "<b>Listo agrege la tabla correspondiente en su lugar correspondiente que es la tabla anterior a esta asi como un comentario.</b> <a class=\"tocSkip\"></a>"
   ]
  },
  {
   "cell_type": "markdown",
   "metadata": {},
   "source": [
    "<div class=\"alert alert-block alert-success\">\n",
    "\n",
    "<b>Comentario del revisor</b> <a class=\"tocSkip\"></a>\n",
    "\n",
    "Excelente trabajo con el ajuste!"
   ]
  },
  {
   "cell_type": "markdown",
   "metadata": {},
   "source": [
    "## condiciones climaticas, duracion de viaje y Fecha y hora de corrida"
   ]
  },
  {
   "cell_type": "code",
   "execution_count": null,
   "metadata": {},
   "outputs": [],
   "source": [
    "info_gral(clima_taxi)"
   ]
  },
  {
   "cell_type": "markdown",
   "metadata": {},
   "source": [
    "Aqui encontramos 197 duplicados y actuamos para eliminarlos y tambien se visualizara y se revisara de nuevo para ver que ya no existen los duplicados."
   ]
  },
  {
   "cell_type": "code",
   "execution_count": null,
   "metadata": {},
   "outputs": [],
   "source": [
    "clima_taxi = clima_taxi.drop_duplicates()\n",
    "\n",
    "clima_taxi"
   ]
  },
  {
   "cell_type": "code",
   "execution_count": null,
   "metadata": {},
   "outputs": [],
   "source": [
    "clima_taxi.duplicated().sum()"
   ]
  },
  {
   "cell_type": "code",
   "execution_count": null,
   "metadata": {},
   "outputs": [],
   "source": [
    "clima_taxi['start_ts'] = pd.to_datetime(clima_taxi['start_ts'])"
   ]
  },
  {
   "cell_type": "code",
   "execution_count": null,
   "metadata": {},
   "outputs": [],
   "source": [
    "# Crear gráfica de comparación\n",
    "sns.boxplot(data=clima_taxi, x='weather_conditions', y='duration_seconds')\n",
    "plt.title('Duración de viajes por condiciones climáticas')\n",
    "plt.xlabel('Condiciones Climáticas')\n",
    "plt.ylabel('Duración de Viajes (segundos)')\n",
    "plt.show()\n"
   ]
  },
  {
   "cell_type": "markdown",
   "metadata": {},
   "source": [
    "Revisamos con un Boxplot como se visualizaban las tablas antes de seguir analizando y hacer nuestra hipotesis y notamos que en los dias buenos hay muchos valores a tipicos y en malos a pesar que solo es uno esta muy alejado del tercer cuartil Q3 asi que procedemos a eliminar los datos atipicos  "
   ]
  },
  {
   "cell_type": "code",
   "execution_count": null,
   "metadata": {},
   "outputs": [],
   "source": [
    "# Calcular los cuartiles y el IQR\n",
    "Q1 = clima_taxi['duration_seconds'].quantile(0.25)\n",
    "Q3 = clima_taxi['duration_seconds'].quantile(0.75)\n",
    "IQR = Q3 - Q1\n",
    "\n",
    "# Determinar los límites\n",
    "limite_inferior = Q1 - 1.5 * IQR\n",
    "limite_superior = Q3 + 1.5 * IQR\n",
    "\n",
    "# Filtrar valores atípicos\n",
    "df_sin_outliers = clima_taxi[(clima_taxi['duration_seconds'] >= limite_inferior) & (clima_taxi['duration_seconds'] <= limite_superior)]\n",
    "\n",
    "# Resultados\n",
    "print(\"Datos originales:\")\n",
    "print(clima_taxi)\n",
    "print(\"Datos sin outliers:\")\n",
    "print(df_sin_outliers)"
   ]
  },
  {
   "cell_type": "markdown",
   "metadata": {},
   "source": [
    "visualizamos hambas graficas para notar que si vemos una diferencia en cuanto a los valores atipicos eliminados y se hizo una nuevo DF corregido con los valores atipicos y procedemos a graficar un nuevo Boxplot sin valores atipicos "
   ]
  },
  {
   "cell_type": "code",
   "execution_count": null,
   "metadata": {},
   "outputs": [],
   "source": [
    "# Crear gráfica de comparación sin outliers\n",
    "sns.boxplot(data=df_sin_outliers, x='weather_conditions', y='duration_seconds')\n",
    "plt.title('Duración de viajes por condiciones climáticas sin valores atipicos')\n",
    "plt.xlabel('Condiciones Climáticas')\n",
    "plt.ylabel('Duración de Viajes (segundos)')\n",
    "plt.show()"
   ]
  },
  {
   "cell_type": "markdown",
   "metadata": {},
   "source": [
    "<div class=\"alert alert-block alert-success\">\n",
    "\n",
    "<b>Comentario del revisor</b> <a class=\"tocSkip\"></a>\n",
    "\n",
    "Gran trabajo con el análisis de valores atípicos"
   ]
  },
  {
   "cell_type": "markdown",
   "metadata": {},
   "source": [
    "# Prueba de Hipotesis #1"
   ]
  },
  {
   "cell_type": "markdown",
   "metadata": {},
   "source": [
    "Primero se pararemos los saturdays_bad (días lluviosos) y saturdays_good (días no lluviosos) para hacer nuestro analisis de las varianzas"
   ]
  },
  {
   "cell_type": "code",
   "execution_count": null,
   "metadata": {},
   "outputs": [],
   "source": [
    "saturdays_bad = df_sin_outliers[\n",
    "    (df_sin_outliers['start_ts'].dt.day_name() == 'Saturday') &\n",
    "    (df_sin_outliers['weather_conditions'] == 'Bad')\n",
    "]['duration_seconds']\n",
    "\n",
    "saturdays_good = df_sin_outliers[\n",
    "    ~((df_sin_outliers['start_ts'].dt.day_name() == 'Saturday') & \n",
    "      (df_sin_outliers['weather_conditions'] == 'Good'))\n",
    "]['duration_seconds']"
   ]
  },
  {
   "cell_type": "markdown",
   "metadata": {},
   "source": [
    "## primera hipotesis veremos si la varianza de los dias lluviosos son iguales o diferentes \n",
    "\n",
    "H0: Las varianzas de los dos grupos son iguales. No hay diferencia significativa entre las varianzas de saturdays_bad (días lluviosos) y saturdays_good (días no lluviosos).\n",
    "H1: Las varianzas de los dos grupos son diferentes. Existe una diferencia significativa entre las varianzas de saturdays_bad y saturdays_good.\n"
   ]
  },
  {
   "cell_type": "code",
   "execution_count": null,
   "metadata": {},
   "outputs": [],
   "source": [
    "varianza_saturdays = np.var(saturdays_bad, ddof=1)  # ddof=1 para obtener la varianza muestral\n",
    "print(\"Varianza Satudays Bad Day:\", varianza_saturdays)"
   ]
  },
  {
   "cell_type": "code",
   "execution_count": null,
   "metadata": {},
   "outputs": [],
   "source": [
    "varianza_others = np.var(saturdays_good, ddof=1)  # ddof=1 para obtener la varianza muestral\n",
    "print(\"Varianza Satudays Good Day:\", varianza_saturdays)"
   ]
  },
  {
   "cell_type": "markdown",
   "metadata": {},
   "source": [
    "Como podremos observar las varianzas son iguales por lo cual procedemos hacer tambien un analisis con la prueba de *levene* "
   ]
  },
  {
   "cell_type": "code",
   "execution_count": null,
   "metadata": {},
   "outputs": [],
   "source": [
    "# Realizar la prueba de dos muestras con levene\n",
    "\n",
    "stat, p_value = levene(saturdays_bad, saturdays_good)\n",
    "\n",
    "# Resultado\n",
    "alpha = 0.05\n",
    "    \n",
    "if p_value < alpha:\n",
    "    print(\"Rechazar H0: Las varianzas son significativamente diferentes.\")\n",
    "else:\n",
    "    print(\"No se puede rechazar H₀: Las varianzas no son significativamente diferentes.\")"
   ]
  },
  {
   "cell_type": "markdown",
   "metadata": {},
   "source": [
    "Aqui nos muestra que las varianzas no son diferentes quiere decir que son iguales."
   ]
  },
  {
   "cell_type": "markdown",
   "metadata": {},
   "source": [
    "<div class=\"alert alert-block alert-success\">\n",
    "\n",
    "<b>Comentario del revisor</b> <a class=\"tocSkip\"></a>\n",
    "\n",
    "Gran trabajo. Puedes seguir explorando esta herramienta en futuros proyectos. \n",
    "    \n",
    "Sigue con el excelente trabajo!    "
   ]
  },
  {
   "cell_type": "markdown",
   "metadata": {},
   "source": [
    "## Prueba de hipotesis 2"
   ]
  },
  {
   "cell_type": "markdown",
   "metadata": {},
   "source": [
    "Procedemos hacer una Hipotesis para saber si los dias buenos HAY diferencia o NO"
   ]
  },
  {
   "cell_type": "markdown",
   "metadata": {},
   "source": [
    "H0: NO hay diferencia significativa en la duración promedio de los viajes entre los sábados lluviosos y los demás días.\n",
    "    (En otras palabras, las duraciones promedio son iguales.)\n",
    "\n",
    "H1: Hay una diferencia significativa en la duración promedio de los viajes entre los sábados lluviosos y los demás días.\n",
    "    (En otras palabras, las duraciones promedio son diferentes, )\n"
   ]
  },
  {
   "cell_type": "code",
   "execution_count": null,
   "metadata": {},
   "outputs": [],
   "source": [
    "# Realizar la prueba t de dos muestras\n",
    "t_stat, p_value = st.ttest_ind(saturdays_bad, saturdays_good, equal_var=True)\n",
    "\n",
    "# Resultado\n",
    "alpha = 0.05\n",
    "if p_value < alpha:\n",
    "    print(\"Rechazar H0: NO hay diferencia significativa en la duración promedio de los viajes entre los sábados lluviosos. \")\n",
    "else:\n",
    "    print(\"No se puede rechazar H0 \")"
   ]
  },
  {
   "cell_type": "markdown",
   "metadata": {},
   "source": [
    "Al analizar la varianza que son iguales procedemos a poner el equal_var=True para saber la hipotesis 2 la cual nos dice que *NO* hay diferencias signidicativas en la duración promedio de los viajes desde el Loop hasta el Aeropuerto Internacional O'Hare."
   ]
  },
  {
   "cell_type": "markdown",
   "metadata": {},
   "source": [
    " <div class=\"alert alert-block alert-danger\">\n",
    "<b>Comentario revisor</b> <a class=\"tocSkip\"></a>\n",
    "\n",
    "Para esta prueba te recomiendo hacer una prueba de  Levene  para mostrar si las varianzas son iguales y agregarlo dentro de la función. Actualmente lo colocas como equal_var=False. Para esto, primero debes calcular las varianzas para cada uno de los días (lluvioso y no lluvioso) debes de hacer uso de la siguiente función: \n",
    "    \n",
    "    levene(saturdays_rainy, others)\n",
    "    \n",
    "Adoptaremos un nivel de significancia de 0.05; si el valor p resultante es mayor a 0.05, no podemos rechazar la hipótesis nula, y si es menor a 0.05, rechazamos la hipótesis nula, indicando que las varianzas no son iguales. \n",
    "    \n",
    "Solamente recuerda que la prueba de levene no es sustituto a la prueba de st.ttest_ind, más bien es complemento para saber que colocar dentro del elemento \"equal_var\".  Es por eso que para terminar la prueba debes de realizar la prueba de st.ttest_ind considernado el resultado de la prueba realizada de levene.  \n",
    "</div>"
   ]
  },
  {
   "cell_type": "markdown",
   "metadata": {},
   "source": [
    "<div class=\"alert alert-block alert-info\">\n",
    "<b>Ya lo corregui e hice unos cambios espero poderme a entender lo que hice o mi analisis. saludos y muchas gracias por la revision. </b> <a class=\"tocSkip\"></a>"
   ]
  },
  {
   "cell_type": "markdown",
   "metadata": {},
   "source": [
    "<div class=\"alert alert-block alert-warning\">\n",
    "<b>Comentario revisor</b> <a class=\"tocSkip\"></a>\n",
    "\n",
    "En general, considero que realizaste un excelente trabajo con el proyecto. Lograste limpiar y organizar las bases de datos eficazmente. Además, tu análisis exploratorio fue exhaustivo, presentando resultados relevantes que serán muy útiles para la toma de decisiones. También, desarrollaste las pruebas de hipótesis de manera acertada. Sin embargo, siempre hay espacio para mejorar y quisiera señalar algunos aspectos que podrías considerar:\n",
    "\n",
    "\n",
    "\n",
    "    \n",
    "*  Realizar análisis complementarios eliminando los valores que parecen ser atípicos.    \n",
    "    \n",
    "*  Considerar desarrollar un análisis para comprobar los supuestos de la prueba de hipótesis (varianzas iguales)\n",
    "    \n",
    "    \n",
    "</div>"
   ]
  }
 ],
 "metadata": {
  "ExecuteTimeLog": [
   {
    "duration": 231,
    "start_time": "2024-12-11T16:55:27.582Z"
   },
   {
    "duration": 2833,
    "start_time": "2024-12-11T16:55:31.801Z"
   },
   {
    "duration": 412,
    "start_time": "2024-12-11T16:55:34.636Z"
   },
   {
    "duration": 156,
    "start_time": "2024-12-13T04:49:39.059Z"
   },
   {
    "duration": 13,
    "start_time": "2024-12-13T04:51:57.697Z"
   },
   {
    "duration": 2540,
    "start_time": "2024-12-13T04:52:21.535Z"
   },
   {
    "duration": 557,
    "start_time": "2024-12-13T04:52:24.077Z"
   },
   {
    "duration": 0,
    "start_time": "2024-12-13T04:52:24.636Z"
   },
   {
    "duration": 0,
    "start_time": "2024-12-13T04:52:24.642Z"
   },
   {
    "duration": 0,
    "start_time": "2024-12-13T04:52:24.644Z"
   },
   {
    "duration": 0,
    "start_time": "2024-12-13T04:52:24.645Z"
   },
   {
    "duration": 0,
    "start_time": "2024-12-13T04:52:24.647Z"
   },
   {
    "duration": 0,
    "start_time": "2024-12-13T04:52:24.648Z"
   },
   {
    "duration": 0,
    "start_time": "2024-12-13T04:52:24.650Z"
   },
   {
    "duration": 0,
    "start_time": "2024-12-13T04:52:24.651Z"
   },
   {
    "duration": 0,
    "start_time": "2024-12-13T04:52:24.653Z"
   },
   {
    "duration": 0,
    "start_time": "2024-12-13T04:52:24.655Z"
   },
   {
    "duration": 0,
    "start_time": "2024-12-13T04:52:24.656Z"
   },
   {
    "duration": 0,
    "start_time": "2024-12-13T04:52:24.658Z"
   },
   {
    "duration": 0,
    "start_time": "2024-12-13T04:52:24.659Z"
   },
   {
    "duration": 0,
    "start_time": "2024-12-13T04:52:24.661Z"
   },
   {
    "duration": 0,
    "start_time": "2024-12-13T04:52:24.662Z"
   },
   {
    "duration": 0,
    "start_time": "2024-12-13T04:52:24.663Z"
   },
   {
    "duration": 0,
    "start_time": "2024-12-13T04:52:24.665Z"
   },
   {
    "duration": 0,
    "start_time": "2024-12-13T04:52:24.666Z"
   },
   {
    "duration": 0,
    "start_time": "2024-12-13T04:52:24.667Z"
   },
   {
    "duration": 802,
    "start_time": "2024-12-13T04:52:42.747Z"
   },
   {
    "duration": 575,
    "start_time": "2024-12-13T04:52:43.552Z"
   },
   {
    "duration": 0,
    "start_time": "2024-12-13T04:52:44.130Z"
   },
   {
    "duration": 0,
    "start_time": "2024-12-13T04:52:44.142Z"
   },
   {
    "duration": 0,
    "start_time": "2024-12-13T04:52:44.144Z"
   },
   {
    "duration": 0,
    "start_time": "2024-12-13T04:52:44.145Z"
   },
   {
    "duration": 0,
    "start_time": "2024-12-13T04:52:44.147Z"
   },
   {
    "duration": 0,
    "start_time": "2024-12-13T04:52:44.147Z"
   },
   {
    "duration": 0,
    "start_time": "2024-12-13T04:52:44.148Z"
   },
   {
    "duration": 0,
    "start_time": "2024-12-13T04:52:44.149Z"
   },
   {
    "duration": 0,
    "start_time": "2024-12-13T04:52:44.150Z"
   },
   {
    "duration": 0,
    "start_time": "2024-12-13T04:52:44.151Z"
   },
   {
    "duration": 0,
    "start_time": "2024-12-13T04:52:44.152Z"
   },
   {
    "duration": 0,
    "start_time": "2024-12-13T04:52:44.153Z"
   },
   {
    "duration": 0,
    "start_time": "2024-12-13T04:52:44.154Z"
   },
   {
    "duration": 0,
    "start_time": "2024-12-13T04:52:44.155Z"
   },
   {
    "duration": 0,
    "start_time": "2024-12-13T04:52:44.156Z"
   },
   {
    "duration": 0,
    "start_time": "2024-12-13T04:52:44.157Z"
   },
   {
    "duration": 0,
    "start_time": "2024-12-13T04:52:44.158Z"
   },
   {
    "duration": 0,
    "start_time": "2024-12-13T04:52:44.159Z"
   },
   {
    "duration": 0,
    "start_time": "2024-12-13T04:52:44.160Z"
   },
   {
    "duration": 14,
    "start_time": "2024-12-13T04:52:46.562Z"
   }
  ],
  "kernelspec": {
   "display_name": "Python 3 (ipykernel)",
   "language": "python",
   "name": "python3"
  },
  "language_info": {
   "codemirror_mode": {
    "name": "ipython",
    "version": 3
   },
   "file_extension": ".py",
   "mimetype": "text/x-python",
   "name": "python",
   "nbconvert_exporter": "python",
   "pygments_lexer": "ipython3",
   "version": "3.9.19"
  },
  "toc": {
   "base_numbering": 1,
   "nav_menu": {},
   "number_sections": true,
   "sideBar": true,
   "skip_h1_title": true,
   "title_cell": "Table of Contents",
   "title_sidebar": "Contents",
   "toc_cell": false,
   "toc_position": {},
   "toc_section_display": true,
   "toc_window_display": false
  }
 },
 "nbformat": 4,
 "nbformat_minor": 2
}

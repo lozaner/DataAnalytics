{
 "cells": [
  {
   "cell_type": "markdown",
   "metadata": {},
   "source": [
    "Hola **Elpidio**!\n",
    "\n",
    "Soy **Patricio Requena** 👋. Es un placer ser el revisor de tu proyecto el día de hoy!\n",
    "\n",
    "Revisaré tu proyecto detenidamente con el objetivo de ayudarte a mejorar y perfeccionar tus habilidades. Durante mi revisión, identificaré áreas donde puedas hacer mejoras en tu código, señalando específicamente qué y cómo podrías ajustar para optimizar el rendimiento y la claridad de tu proyecto. Además, es importante para mí destacar los aspectos que has manejado excepcionalmente bien. Reconocer tus fortalezas te ayudará a entender qué técnicas y métodos están funcionando a tu favor y cómo puedes aplicarlos en futuras tareas. \n",
    "\n",
    "_**Recuerda que al final de este notebook encontrarás un comentario general de mi parte**_, empecemos!\n",
    "\n",
    "Encontrarás mis comentarios dentro de cajas verdes, amarillas o rojas, ⚠️ **por favor, no muevas, modifiques o borres mis comentarios** ⚠️:\n",
    "\n",
    "\n",
    "<div class=\"alert alert-block alert-success\">\n",
    "<b>Comentario del revisor</b> <a class=“tocSkip”></a>\n",
    "Si todo está perfecto.\n",
    "</div>\n",
    "\n",
    "<div class=\"alert alert-block alert-warning\">\n",
    "<b>Comentario del revisor</b> <a class=“tocSkip”></a>\n",
    "Si tu código está bien pero se puede mejorar o hay algún detalle que le hace falta.\n",
    "</div>\n",
    "\n",
    "<div class=\"alert alert-block alert-danger\">\n",
    "<b>Comentario del revisor</b> <a class=“tocSkip”></a>\n",
    "Si de pronto hace falta algo o existe algún problema con tu código o conclusiones.\n",
    "</div>\n",
    "\n",
    "Puedes responderme de esta forma:\n",
    "<div class=\"alert alert-block alert-info\">\n",
    "<b>Respuesta del estudiante</b> <a class=“tocSkip”></a>\n",
    "</div>"
   ]
  },
  {
   "cell_type": "markdown",
   "metadata": {},
   "source": [
    "# **Test A/B**\n",
    "\n",
    "1. ## **Compresion del  Proyecto y Datos**\n",
    "\n",
    "Has recibido una tarea analítica de una tienda en línea internacional. Tus predecesores no consiguieron completarla: lanzaron una prueba A/B y luego abandonaron (para iniciar una granja de sandías en Brasil). Solo dejaron las especificaciones técnicas y los resultados de las pruebas.\n",
    "\n",
    "### Descripción técnica\n",
    "\n",
    "- Nombre de la prueba: `recommender_system_test`\n",
    "- Grupos: А (control), B (nuevo embudo de pago)\n",
    "- Launch date: 2020-12-07\n",
    "- Fecha en la que dejaron de aceptar nuevos usuarios: 2020-12-21\n",
    "- Fecha de finalización: 2021-01-01\n",
    "- Audiencia: 15% de los nuevos usuarios de la región de la UE\n",
    "- Propósito de la prueba: probar cambios relacionados con la introducción de un sistema de recomendaciones mejorado\n",
    "- Resultado esperado: dentro de los 14 días posteriores a la inscripción, los usuarios mostrarán una mejor conversión en vistas de la página del producto (el evento `product_page`), instancias de agregar artículos al carrito de compras (`product_card`) y compras (`purchase`). En cada etapa del embudo `product_page → product_card → purchase`, habrá al menos un 10% de aumento.\n",
    "- Número previsto de participantes de la prueba: 6 000\n",
    "\n",
    "\n",
    "\n",
    "### Data\n",
    "\n",
    "- `ab_project_marketing_events_us.csv`: el calendario de eventos de marketing para 2020\n",
    "- `final_ab_new_users_upd_us.csv`: todos los usuarios que se registraron en la tienda en línea desde el 7 hasta el 21 de diciembre de 2020\n",
    "- `final_ab_events_upd_us.csv`: todos los eventos de los nuevos usuarios en el período comprendido entre el 7 de diciembre de 2020 y el 1 de enero de 2021\n",
    "- `final_ab_participants_upd_us.csv`: tabla con los datos de los participantes de la prueba\n",
    "\n",
    "Estructura `ab_project_marketing_events_us.csv`:\n",
    "\n",
    "- `name`: el nombre del evento de marketing\n",
    "- `regions`: regiones donde se llevará a cabo la campaña publicitaria\n",
    "- `start_dt`: fecha de inicio de la campaña\n",
    "- `finish_dt`: fecha de finalización de la campaña\n",
    "\n",
    "Estructura `final_ab_new_users_upd_us.csv`:\n",
    "\n",
    "- `user_id`\n",
    "- `first_date`: fecha de inscripción\n",
    "- `region`\n",
    "- `device`: dispositivo utilizado para la inscripción\n",
    "\n",
    "Estructura `final_ab_events_upd_us.csv`:\n",
    "\n",
    "- `user_id`\n",
    "- `event_dt`: fecha y hora del evento\n",
    "- `event_name`: nombre del tipo de evento\n",
    "- `details`: datos adicionales sobre el evento (por ejemplo, el pedido total en USD para los eventos `purchase`)\n",
    "\n",
    "Estructura `final_ab_participants_upd_us.csv`:\n",
    "\n",
    "- `user_id`\n",
    "- `ab_test`: nombre de la prueba\n",
    "- `group`: el grupo de prueba al que pertenecía el usuario\n",
    "\n"
   ]
  },
  {
   "cell_type": "markdown",
   "metadata": {},
   "source": [
    "<div class=\"alert alert-block alert-success\">\n",
    "<b>Comentario del revisor (1ra Iteracion)</b> <a class=“tocSkip”></a>\n",
    "\n",
    "Te felicito por incluir esta sección, es muy buena práctica dejar claro la razón del proyecto en un inicio\n",
    "</div>"
   ]
  },
  {
   "cell_type": "markdown",
   "metadata": {},
   "source": [
    "# **Libreria a Utilizar**"
   ]
  },
  {
   "cell_type": "code",
   "execution_count": 145,
   "metadata": {},
   "outputs": [
    {
     "name": "stdout",
     "output_type": "stream",
     "text": [
      "Requirement already satisfied: sidetable in c:\\users\\elpid\\anaconda3\\lib\\site-packages (0.9.1)Note: you may need to restart the kernel to use updated packages.\n",
      "\n",
      "Requirement already satisfied: pandas>=1.0 in c:\\users\\elpid\\anaconda3\\lib\\site-packages (from sidetable) (2.2.2)\n",
      "Requirement already satisfied: numpy>=1.26.0 in c:\\users\\elpid\\anaconda3\\lib\\site-packages (from pandas>=1.0->sidetable) (1.26.4)\n",
      "Requirement already satisfied: python-dateutil>=2.8.2 in c:\\users\\elpid\\anaconda3\\lib\\site-packages (from pandas>=1.0->sidetable) (2.9.0.post0)\n",
      "Requirement already satisfied: pytz>=2020.1 in c:\\users\\elpid\\anaconda3\\lib\\site-packages (from pandas>=1.0->sidetable) (2024.1)\n",
      "Requirement already satisfied: tzdata>=2022.7 in c:\\users\\elpid\\anaconda3\\lib\\site-packages (from pandas>=1.0->sidetable) (2023.3)\n",
      "Requirement already satisfied: six>=1.5 in c:\\users\\elpid\\anaconda3\\lib\\site-packages (from python-dateutil>=2.8.2->pandas>=1.0->sidetable) (1.16.0)\n"
     ]
    }
   ],
   "source": [
    "pip install sidetable"
   ]
  },
  {
   "cell_type": "code",
   "execution_count": 1,
   "metadata": {},
   "outputs": [],
   "source": [
    "import pandas as pd\n",
    "#import sidetable as stb\n",
    "#import numpy as np\n",
    "#from scipy import stats\n",
    "import datetime as dt\n",
    "#from scipy.stats import norm\n",
    "#from sklearn.model_selection import train_test_split\n",
    "#from sklearn.linear_model import LogisticRegression\n",
    "#from sklearn.metrics import accuracy_score, precision_score, recall_score\n",
    "#from sklearn.ensemble import RandomForestClassifier\n",
    "#import scipy.cluster.hierarchy as sch\n",
    "#from sklearn.preprocessing import StandardScaler\n",
    "#from sklearn.linear_model import Lasso, Ridge\n",
    "#from sklearn.tree import DecisionTreeRegressor\n",
    "#from sklearn.ensemble import RandomForestRegressor, GradientBoostingRegressor\n",
    "#from sklearn.metrics import mean_absolute_error, mean_squared_error, r2_score\n",
    "#from sklearn.cluster import KMeans\n",
    "import seaborn as sns\n",
    "import matplotlib.pyplot as plt"
   ]
  },
  {
   "cell_type": "markdown",
   "metadata": {},
   "source": [
    "# **Carga de Datos**"
   ]
  },
  {
   "cell_type": "code",
   "execution_count": 147,
   "metadata": {},
   "outputs": [],
   "source": [
    "marketing = pd.read_csv(\"ab_project_marketing_events_us.csv\")\n",
    "event = pd.read_csv(\"final_ab_events_upd_us.csv\")\n",
    "new_users = pd.read_csv(\"final_ab_new_users_upd_us.csv\")\n",
    "participants = pd.read_csv(\"final_ab_participants_upd_us.csv\")"
   ]
  },
  {
   "cell_type": "markdown",
   "metadata": {},
   "source": [
    "# 1️⃣ Objetivos del estudio\n",
    "\n",
    "Analizar los resultados de la prueba A/B \"recommender_system_test\", donde se probó un nuevo embudo de pago. Se evaluará si hubo un aumento del 10% en las conversiones en cada etapa del embudo: product_page → product_cart → purchase."
   ]
  },
  {
   "cell_type": "markdown",
   "metadata": {},
   "source": [
    "# 2️⃣ Exploración, Preparacion de datos y Limpieza"
   ]
  },
  {
   "cell_type": "code",
   "execution_count": 148,
   "metadata": {},
   "outputs": [],
   "source": [
    "def info_gral(datos):\n",
    "    print(\"Primeras Filas\")\n",
    "    print(datos.head())\n",
    "    print('-------------------------------------------')\n",
    "    print(\"Datos Generales\")\n",
    "    print(datos.info())\n",
    "    print('-------------------------------------------')\n",
    "    print(\"Revision de Datos Ausentes\")\n",
    "    print(datos.isna().sum())\n",
    "    print('-------------------------------------------')\n",
    "    print(\"Revision de Duplicados\")\n",
    "    print(datos.duplicated().sum())"
   ]
  },
  {
   "cell_type": "code",
   "execution_count": 149,
   "metadata": {},
   "outputs": [
    {
     "name": "stdout",
     "output_type": "stream",
     "text": [
      "Primeras Filas\n",
      "                           name                   regions    start_dt  \\\n",
      "0      Christmas&New Year Promo             EU, N.America  2020-12-25   \n",
      "1  St. Valentine's Day Giveaway  EU, CIS, APAC, N.America  2020-02-14   \n",
      "2        St. Patric's Day Promo             EU, N.America  2020-03-17   \n",
      "3                  Easter Promo  EU, CIS, APAC, N.America  2020-04-12   \n",
      "4             4th of July Promo                 N.America  2020-07-04   \n",
      "\n",
      "    finish_dt  \n",
      "0  2021-01-03  \n",
      "1  2020-02-16  \n",
      "2  2020-03-19  \n",
      "3  2020-04-19  \n",
      "4  2020-07-11  \n",
      "-------------------------------------------\n",
      "Datos Generales\n",
      "<class 'pandas.core.frame.DataFrame'>\n",
      "RangeIndex: 14 entries, 0 to 13\n",
      "Data columns (total 4 columns):\n",
      " #   Column     Non-Null Count  Dtype \n",
      "---  ------     --------------  ----- \n",
      " 0   name       14 non-null     object\n",
      " 1   regions    14 non-null     object\n",
      " 2   start_dt   14 non-null     object\n",
      " 3   finish_dt  14 non-null     object\n",
      "dtypes: object(4)\n",
      "memory usage: 580.0+ bytes\n",
      "None\n",
      "-------------------------------------------\n",
      "Revision de Datos Ausentes\n",
      "name         0\n",
      "regions      0\n",
      "start_dt     0\n",
      "finish_dt    0\n",
      "dtype: int64\n",
      "-------------------------------------------\n",
      "Revision de Duplicados\n",
      "0\n"
     ]
    }
   ],
   "source": [
    "info_gral(marketing)"
   ]
  },
  {
   "cell_type": "code",
   "execution_count": 150,
   "metadata": {},
   "outputs": [
    {
     "name": "stdout",
     "output_type": "stream",
     "text": [
      "Primeras Filas\n",
      "            user_id             event_dt event_name  details\n",
      "0  E1BDDCE0DAFA2679  2020-12-07 20:22:03   purchase    99.99\n",
      "1  7B6452F081F49504  2020-12-07 09:22:53   purchase     9.99\n",
      "2  9CD9F34546DF254C  2020-12-07 12:59:29   purchase     4.99\n",
      "3  96F27A054B191457  2020-12-07 04:02:40   purchase     4.99\n",
      "4  1FD7660FDF94CA1F  2020-12-07 10:15:09   purchase     4.99\n",
      "-------------------------------------------\n",
      "Datos Generales\n",
      "<class 'pandas.core.frame.DataFrame'>\n",
      "RangeIndex: 423761 entries, 0 to 423760\n",
      "Data columns (total 4 columns):\n",
      " #   Column      Non-Null Count   Dtype  \n",
      "---  ------      --------------   -----  \n",
      " 0   user_id     423761 non-null  object \n",
      " 1   event_dt    423761 non-null  object \n",
      " 2   event_name  423761 non-null  object \n",
      " 3   details     60314 non-null   float64\n",
      "dtypes: float64(1), object(3)\n",
      "memory usage: 12.9+ MB\n",
      "None\n",
      "-------------------------------------------\n",
      "Revision de Datos Ausentes\n",
      "user_id            0\n",
      "event_dt           0\n",
      "event_name         0\n",
      "details       363447\n",
      "dtype: int64\n",
      "-------------------------------------------\n",
      "Revision de Duplicados\n",
      "0\n"
     ]
    }
   ],
   "source": [
    "info_gral(event)"
   ]
  },
  {
   "cell_type": "markdown",
   "metadata": {},
   "source": [
    "nos damos cuenta que hay datos ausentes en details "
   ]
  },
  {
   "cell_type": "code",
   "execution_count": 151,
   "metadata": {},
   "outputs": [
    {
     "data": {
      "text/plain": [
       "user_id            0\n",
       "event_dt           0\n",
       "event_name         0\n",
       "details       363447\n",
       "dtype: int64"
      ]
     },
     "execution_count": 151,
     "metadata": {},
     "output_type": "execute_result"
    }
   ],
   "source": [
    "#cuentamos los valores nulos (NaN) en el DataFrame event, excluyendo las filas donde el evento es una compra (purchase) \n",
    "event[event['event_name'] != 'purchase'].isna().sum()"
   ]
  },
  {
   "cell_type": "code",
   "execution_count": 152,
   "metadata": {},
   "outputs": [],
   "source": [
    "#Remplazamos NAN por 0 en la columna details de event para poder hacer el merge \n",
    "event['details'] = event['details'].fillna(0)\n"
   ]
  },
  {
   "cell_type": "code",
   "execution_count": 153,
   "metadata": {},
   "outputs": [
    {
     "data": {
      "text/plain": [
       "0"
      ]
     },
     "execution_count": 153,
     "metadata": {},
     "output_type": "execute_result"
    }
   ],
   "source": [
    "#se verifica que no haya valores nulos o duplicados en la tabla event\n",
    "event.duplicated().sum()"
   ]
  },
  {
   "cell_type": "code",
   "execution_count": 154,
   "metadata": {},
   "outputs": [
    {
     "data": {
      "text/plain": [
       "0"
      ]
     },
     "execution_count": 154,
     "metadata": {},
     "output_type": "execute_result"
    }
   ],
   "source": [
    "# Se revisa que no haya algun duplicado que se relacione con el id del usuario, la fecha del evento y el nombre del evento\n",
    "event.duplicated(['user_id','event_dt','event_name']).sum()"
   ]
  },
  {
   "cell_type": "code",
   "execution_count": 155,
   "metadata": {},
   "outputs": [
    {
     "data": {
      "text/html": [
       "<div>\n",
       "<style scoped>\n",
       "    .dataframe tbody tr th:only-of-type {\n",
       "        vertical-align: middle;\n",
       "    }\n",
       "\n",
       "    .dataframe tbody tr th {\n",
       "        vertical-align: top;\n",
       "    }\n",
       "\n",
       "    .dataframe thead th {\n",
       "        text-align: right;\n",
       "    }\n",
       "</style>\n",
       "<table border=\"1\" class=\"dataframe\">\n",
       "  <thead>\n",
       "    <tr style=\"text-align: right;\">\n",
       "      <th></th>\n",
       "      <th>user_id</th>\n",
       "      <th>group</th>\n",
       "      <th>ab_test</th>\n",
       "    </tr>\n",
       "  </thead>\n",
       "  <tbody>\n",
       "    <tr>\n",
       "      <th>0</th>\n",
       "      <td>D1ABA3E2887B6A73</td>\n",
       "      <td>A</td>\n",
       "      <td>recommender_system_test</td>\n",
       "    </tr>\n",
       "    <tr>\n",
       "      <th>1</th>\n",
       "      <td>A7A3664BD6242119</td>\n",
       "      <td>A</td>\n",
       "      <td>recommender_system_test</td>\n",
       "    </tr>\n",
       "    <tr>\n",
       "      <th>2</th>\n",
       "      <td>DABC14FDDFADD29E</td>\n",
       "      <td>A</td>\n",
       "      <td>recommender_system_test</td>\n",
       "    </tr>\n",
       "    <tr>\n",
       "      <th>3</th>\n",
       "      <td>04988C5DF189632E</td>\n",
       "      <td>A</td>\n",
       "      <td>recommender_system_test</td>\n",
       "    </tr>\n",
       "    <tr>\n",
       "      <th>4</th>\n",
       "      <td>4FF2998A348C484F</td>\n",
       "      <td>A</td>\n",
       "      <td>recommender_system_test</td>\n",
       "    </tr>\n",
       "    <tr>\n",
       "      <th>...</th>\n",
       "      <td>...</td>\n",
       "      <td>...</td>\n",
       "      <td>...</td>\n",
       "    </tr>\n",
       "    <tr>\n",
       "      <th>14520</th>\n",
       "      <td>1D302F8688B91781</td>\n",
       "      <td>B</td>\n",
       "      <td>interface_eu_test</td>\n",
       "    </tr>\n",
       "    <tr>\n",
       "      <th>14521</th>\n",
       "      <td>3DE51B726983B657</td>\n",
       "      <td>A</td>\n",
       "      <td>interface_eu_test</td>\n",
       "    </tr>\n",
       "    <tr>\n",
       "      <th>14522</th>\n",
       "      <td>F501F79D332BE86C</td>\n",
       "      <td>A</td>\n",
       "      <td>interface_eu_test</td>\n",
       "    </tr>\n",
       "    <tr>\n",
       "      <th>14523</th>\n",
       "      <td>63FBE257B05F2245</td>\n",
       "      <td>A</td>\n",
       "      <td>interface_eu_test</td>\n",
       "    </tr>\n",
       "    <tr>\n",
       "      <th>14524</th>\n",
       "      <td>79F9ABFB029CF724</td>\n",
       "      <td>B</td>\n",
       "      <td>interface_eu_test</td>\n",
       "    </tr>\n",
       "  </tbody>\n",
       "</table>\n",
       "<p>14525 rows × 3 columns</p>\n",
       "</div>"
      ],
      "text/plain": [
       "                user_id group                  ab_test\n",
       "0      D1ABA3E2887B6A73     A  recommender_system_test\n",
       "1      A7A3664BD6242119     A  recommender_system_test\n",
       "2      DABC14FDDFADD29E     A  recommender_system_test\n",
       "3      04988C5DF189632E     A  recommender_system_test\n",
       "4      4FF2998A348C484F     A  recommender_system_test\n",
       "...                 ...   ...                      ...\n",
       "14520  1D302F8688B91781     B        interface_eu_test\n",
       "14521  3DE51B726983B657     A        interface_eu_test\n",
       "14522  F501F79D332BE86C     A        interface_eu_test\n",
       "14523  63FBE257B05F2245     A        interface_eu_test\n",
       "14524  79F9ABFB029CF724     B        interface_eu_test\n",
       "\n",
       "[14525 rows x 3 columns]"
      ]
     },
     "execution_count": 155,
     "metadata": {},
     "output_type": "execute_result"
    }
   ],
   "source": [
    "# Se Filtra el DataFrame participants para quedarse solo con los usuarios que participaron en la prueba A/B \"recommender_system_test\"\n",
    "participantes_test = participants.query('ab_test == \"recommender_system_test\"')\n",
    "participants"
   ]
  },
  {
   "cell_type": "code",
   "execution_count": 156,
   "metadata": {},
   "outputs": [
    {
     "data": {
      "text/plain": [
       "14525"
      ]
     },
     "execution_count": 156,
     "metadata": {},
     "output_type": "execute_result"
    }
   ],
   "source": [
    "#contamos el numero de filas de DF participants\n",
    "len(participants)"
   ]
  },
  {
   "cell_type": "code",
   "execution_count": 157,
   "metadata": {},
   "outputs": [
    {
     "data": {
      "text/plain": [
       "3675"
      ]
     },
     "execution_count": 157,
     "metadata": {},
     "output_type": "execute_result"
    }
   ],
   "source": [
    "#Contamos el numero de filas de DF participantes_test \n",
    "len(participantes_test)"
   ]
  },
  {
   "cell_type": "code",
   "execution_count": 158,
   "metadata": {},
   "outputs": [
    {
     "data": {
      "text/plain": [
       "ab_test\n",
       "interface_eu_test    10850\n",
       "Name: count, dtype: int64"
      ]
     },
     "execution_count": 158,
     "metadata": {},
     "output_type": "execute_result"
    }
   ],
   "source": [
    "# filtramos y contando los valores de la columna ab_test en el DataFrame participants, excluyendo aquellos que pertenecen a la prueba \"recommender_system_test\".\n",
    "participants.query('ab_test != \"recommender_system_test\"')['ab_test'].value_counts()"
   ]
  },
  {
   "cell_type": "markdown",
   "metadata": {},
   "source": [
    "nos damos cuenta que aparte del ab_test \"recommender_system_test hay otro llamado interface_eu_test con 10850"
   ]
  },
  {
   "cell_type": "code",
   "execution_count": 159,
   "metadata": {},
   "outputs": [
    {
     "data": {
      "text/plain": [
       "0"
      ]
     },
     "execution_count": 159,
     "metadata": {},
     "output_type": "execute_result"
    }
   ],
   "source": [
    "#Revisamos si hay duplicados en participantes_test con la columna user_id y group\n",
    "participantes_test.duplicated(['user_id','group']).sum()\n",
    "\n",
    "#Revisamos si hay duplicados en participacion-_test\n",
    "participantes_test.duplicated('user_id').sum()"
   ]
  },
  {
   "cell_type": "code",
   "execution_count": 160,
   "metadata": {},
   "outputs": [
    {
     "data": {
      "text/html": [
       "<div>\n",
       "<style scoped>\n",
       "    .dataframe tbody tr th:only-of-type {\n",
       "        vertical-align: middle;\n",
       "    }\n",
       "\n",
       "    .dataframe tbody tr th {\n",
       "        vertical-align: top;\n",
       "    }\n",
       "\n",
       "    .dataframe thead th {\n",
       "        text-align: right;\n",
       "    }\n",
       "</style>\n",
       "<table border=\"1\" class=\"dataframe\">\n",
       "  <thead>\n",
       "    <tr style=\"text-align: right;\">\n",
       "      <th></th>\n",
       "      <th>event_name</th>\n",
       "      <th>group</th>\n",
       "      <th>user_id</th>\n",
       "    </tr>\n",
       "  </thead>\n",
       "  <tbody>\n",
       "    <tr>\n",
       "      <th>0</th>\n",
       "      <td>login</td>\n",
       "      <td>A</td>\n",
       "      <td>8272</td>\n",
       "    </tr>\n",
       "    <tr>\n",
       "      <th>2</th>\n",
       "      <td>product_cart</td>\n",
       "      <td>A</td>\n",
       "      <td>2482</td>\n",
       "    </tr>\n",
       "    <tr>\n",
       "      <th>4</th>\n",
       "      <td>product_page</td>\n",
       "      <td>A</td>\n",
       "      <td>5328</td>\n",
       "    </tr>\n",
       "    <tr>\n",
       "      <th>6</th>\n",
       "      <td>purchase</td>\n",
       "      <td>A</td>\n",
       "      <td>2545</td>\n",
       "    </tr>\n",
       "  </tbody>\n",
       "</table>\n",
       "</div>"
      ],
      "text/plain": [
       "     event_name group  user_id\n",
       "0         login     A     8272\n",
       "2  product_cart     A     2482\n",
       "4  product_page     A     5328\n",
       "6      purchase     A     2545"
      ]
     },
     "execution_count": 160,
     "metadata": {},
     "output_type": "execute_result"
    }
   ],
   "source": [
    "#Agrupamos con merge los DataFrames event y participantes_test por la columna user_id\n",
    "event_participantes = event.merge(participantes_test, on='user_id', how='inner')\n",
    "\n",
    "#Agrupamos event_participantes por el nombre del evento y contamos el numero de usuarios que realizaron cada evento  \n",
    "event_participantes.groupby(['event_name', 'group']).agg({'user_id':'count'}).reset_index().query('group == \"A\"')"
   ]
  },
  {
   "cell_type": "code",
   "execution_count": 161,
   "metadata": {},
   "outputs": [
    {
     "data": {
      "text/html": [
       "<div>\n",
       "<style scoped>\n",
       "    .dataframe tbody tr th:only-of-type {\n",
       "        vertical-align: middle;\n",
       "    }\n",
       "\n",
       "    .dataframe tbody tr th {\n",
       "        vertical-align: top;\n",
       "    }\n",
       "\n",
       "    .dataframe thead th {\n",
       "        text-align: right;\n",
       "    }\n",
       "</style>\n",
       "<table border=\"1\" class=\"dataframe\">\n",
       "  <thead>\n",
       "    <tr style=\"text-align: right;\">\n",
       "      <th></th>\n",
       "      <th>event_name</th>\n",
       "      <th>group</th>\n",
       "      <th>user_id</th>\n",
       "    </tr>\n",
       "  </thead>\n",
       "  <tbody>\n",
       "    <tr>\n",
       "      <th>1</th>\n",
       "      <td>login</td>\n",
       "      <td>B</td>\n",
       "      <td>2565</td>\n",
       "    </tr>\n",
       "    <tr>\n",
       "      <th>3</th>\n",
       "      <td>product_cart</td>\n",
       "      <td>B</td>\n",
       "      <td>678</td>\n",
       "    </tr>\n",
       "    <tr>\n",
       "      <th>5</th>\n",
       "      <td>product_page</td>\n",
       "      <td>B</td>\n",
       "      <td>1374</td>\n",
       "    </tr>\n",
       "    <tr>\n",
       "      <th>7</th>\n",
       "      <td>purchase</td>\n",
       "      <td>B</td>\n",
       "      <td>665</td>\n",
       "    </tr>\n",
       "  </tbody>\n",
       "</table>\n",
       "</div>"
      ],
      "text/plain": [
       "     event_name group  user_id\n",
       "1         login     B     2565\n",
       "3  product_cart     B      678\n",
       "5  product_page     B     1374\n",
       "7      purchase     B      665"
      ]
     },
     "execution_count": 161,
     "metadata": {},
     "output_type": "execute_result"
    }
   ],
   "source": [
    "# se hizo una agrupacion para solamente grupo B\n",
    "event_participantes.groupby(['event_name', 'group']).agg({'user_id':'count'}).reset_index().query('group == \"B\"')"
   ]
  },
  {
   "cell_type": "code",
   "execution_count": 162,
   "metadata": {},
   "outputs": [
    {
     "data": {
      "text/plain": [
       "0"
      ]
     },
     "execution_count": 162,
     "metadata": {},
     "output_type": "execute_result"
    }
   ],
   "source": [
    "event_participantes.duplicated().sum()"
   ]
  },
  {
   "cell_type": "markdown",
   "metadata": {},
   "source": [
    "hicimos un merge con how='inner porque unimos la tabla event y participantes con on='user_id' para que salieran solamente los usuarios que estaban en participantes_test y se reviso si habia duplicados "
   ]
  },
  {
   "cell_type": "code",
   "execution_count": 163,
   "metadata": {},
   "outputs": [
    {
     "name": "stdout",
     "output_type": "stream",
     "text": [
      "<class 'pandas.core.frame.DataFrame'>\n",
      "RangeIndex: 23909 entries, 0 to 23908\n",
      "Data columns (total 6 columns):\n",
      " #   Column      Non-Null Count  Dtype  \n",
      "---  ------      --------------  -----  \n",
      " 0   user_id     23909 non-null  object \n",
      " 1   event_dt    23909 non-null  object \n",
      " 2   event_name  23909 non-null  object \n",
      " 3   details     23909 non-null  float64\n",
      " 4   group       23909 non-null  object \n",
      " 5   ab_test     23909 non-null  object \n",
      "dtypes: float64(1), object(5)\n",
      "memory usage: 1.1+ MB\n"
     ]
    }
   ],
   "source": [
    "event_participantes.info()"
   ]
  },
  {
   "cell_type": "code",
   "execution_count": 164,
   "metadata": {},
   "outputs": [
    {
     "name": "stdout",
     "output_type": "stream",
     "text": [
      "Primeras Filas\n",
      "            user_id  first_date     region   device\n",
      "0  D72A72121175D8BE  2020-12-07         EU       PC\n",
      "1  F1C668619DFE6E65  2020-12-07  N.America  Android\n",
      "2  2E1BF1D4C37EA01F  2020-12-07         EU       PC\n",
      "3  50734A22C0C63768  2020-12-07         EU   iPhone\n",
      "4  E1BDDCE0DAFA2679  2020-12-07  N.America   iPhone\n",
      "-------------------------------------------\n",
      "Datos Generales\n",
      "<class 'pandas.core.frame.DataFrame'>\n",
      "RangeIndex: 117407 entries, 0 to 117406\n",
      "Data columns (total 4 columns):\n",
      " #   Column      Non-Null Count   Dtype \n",
      "---  ------      --------------   ----- \n",
      " 0   user_id     117407 non-null  object\n",
      " 1   first_date  117407 non-null  object\n",
      " 2   region      117407 non-null  object\n",
      " 3   device      117407 non-null  object\n",
      "dtypes: object(4)\n",
      "memory usage: 3.6+ MB\n",
      "None\n",
      "-------------------------------------------\n",
      "Revision de Datos Ausentes\n",
      "user_id       0\n",
      "first_date    0\n",
      "region        0\n",
      "device        0\n",
      "dtype: int64\n",
      "-------------------------------------------\n",
      "Revision de Duplicados\n",
      "58703\n"
     ]
    }
   ],
   "source": [
    "info_gral(new_users)"
   ]
  },
  {
   "cell_type": "code",
   "execution_count": 165,
   "metadata": {},
   "outputs": [
    {
     "name": "stdout",
     "output_type": "stream",
     "text": [
      "Duplicados en new_users: 58703\n"
     ]
    }
   ],
   "source": [
    "print(f\"Duplicados en new_users: {new_users.duplicated().sum()}\")\n"
   ]
  },
  {
   "cell_type": "code",
   "execution_count": 166,
   "metadata": {},
   "outputs": [
    {
     "name": "stdout",
     "output_type": "stream",
     "text": [
      "Registros después de eliminar duplicados: 58704\n"
     ]
    }
   ],
   "source": [
    "new_users = new_users.drop_duplicates()\n",
    "new_users = new_users.drop_duplicates(subset=[\"user_id\"], keep=\"first\")\n",
    "\n",
    "print(f\"Registros después de eliminar duplicados: {new_users.shape[0]}\")\n",
    "\n"
   ]
  },
  {
   "cell_type": "code",
   "execution_count": 167,
   "metadata": {},
   "outputs": [
    {
     "name": "stdout",
     "output_type": "stream",
     "text": [
      "Primeras Filas\n",
      "            user_id group                  ab_test\n",
      "0  D1ABA3E2887B6A73     A  recommender_system_test\n",
      "1  A7A3664BD6242119     A  recommender_system_test\n",
      "2  DABC14FDDFADD29E     A  recommender_system_test\n",
      "3  04988C5DF189632E     A  recommender_system_test\n",
      "4  4FF2998A348C484F     A  recommender_system_test\n",
      "-------------------------------------------\n",
      "Datos Generales\n",
      "<class 'pandas.core.frame.DataFrame'>\n",
      "RangeIndex: 14525 entries, 0 to 14524\n",
      "Data columns (total 3 columns):\n",
      " #   Column   Non-Null Count  Dtype \n",
      "---  ------   --------------  ----- \n",
      " 0   user_id  14525 non-null  object\n",
      " 1   group    14525 non-null  object\n",
      " 2   ab_test  14525 non-null  object\n",
      "dtypes: object(3)\n",
      "memory usage: 340.6+ KB\n",
      "None\n",
      "-------------------------------------------\n",
      "Revision de Datos Ausentes\n",
      "user_id    0\n",
      "group      0\n",
      "ab_test    0\n",
      "dtype: int64\n",
      "-------------------------------------------\n",
      "Revision de Duplicados\n",
      "0\n"
     ]
    }
   ],
   "source": [
    "info_gral(participants)"
   ]
  },
  {
   "cell_type": "markdown",
   "metadata": {},
   "source": [
    "<div class=\"alert alert-block alert-success\">\n",
    "<b>Comentario del revisor (1ra Iteracion)</b> <a class=“tocSkip”></a>\n",
    "\n",
    "Muy buen trabajo con la transformación de datos y la exploración inicial de los mismos, un dataset limpio es clave para una buena toma de decisiones en un experimento.\n",
    "</div>"
   ]
  },
  {
   "cell_type": "markdown",
   "metadata": {},
   "source": [
    "# 3️⃣ Análisis exploratorio de datos (EDA)\n",
    "\n",
    "Verificar si el número de eventos por usuario está distribuido equitativamente entre los grupos A y B"
   ]
  },
  {
   "cell_type": "code",
   "execution_count": 168,
   "metadata": {},
   "outputs": [
    {
     "data": {
      "image/png": "[encoded data removed]",
      "text/plain": [
       "<Figure size 1000x500 with 1 Axes>"
      ]
     },
     "metadata": {},
     "output_type": "display_data"
    }
   ],
   "source": [
    "# Contar eventos por usuario en cada grupo\n",
    "eventos_por_usuario = event_participantes.groupby([\"user_id\", \"group\"])[\"event_name\"].count().reset_index()\n",
    "\n",
    "# Visualizar la distribución\n",
    "plt.figure(figsize=(10,5))\n",
    "sns.boxplot(data=eventos_por_usuario, x=\"group\", y=\"event_name\")\n",
    "plt.title(\"Distribución de eventos por usuario en cada grupo\")\n",
    "plt.show()\n"
   ]
  },
  {
   "cell_type": "markdown",
   "metadata": {},
   "source": [
    "Sí, las distribuciones por usuario en los grupos A y B son bastante similares. Vamos a ver algunos puntos clave:\n",
    "\n",
    "Mediana (línea dentro de la caja) 📏\n",
    "\n",
    "La mediana para ambos grupos es prácticamente la misma, lo que indica que el número de eventos por usuario en promedio no difiere entre los dos grupos.\n",
    "\n",
    "Tamaño de las cajas (Rango Intercuartílico, IQR)\n",
    "\n",
    "Las dos cajas son similares en tamaño, lo que muestra que la variabilidad en la cantidad de eventos por usuario es comparable en ambos grupos.\n",
    "\n",
    "Distribución general de los datos\n",
    "\n",
    "Los \"bigotes\" (las líneas que salen de las cajas) tienen una longitud similar en ambos grupos, lo que sugiere que la mayoría de los usuarios generan un número de eventos dentro del mismo rango.\n",
    "\n",
    "Outliers (puntos fuera de los bigotes)\n",
    "\n",
    "En ambos grupos hay algunos usuarios que generan una gran cantidad de eventos en comparación con el resto, pero la cantidad de estos outliers es similar en A y B. Esto indica que en ambos grupos hay una pequeña cantidad de usuarios muy activos, sin diferencias significativas entre ellos.\n",
    "\n",
    "📌 Conclusión\n",
    "\n",
    "No hay diferencias importantes en las distribuciones de eventos por usuario en los grupos A y B.\n",
    "Los grupos están bien balanceados, lo que es positivo para la prueba A/B, ya que cualquier diferencia en los resultados no se deberá a un sesgo en el número de eventos por usuario.\n",
    "Podemos proceder con la prueba A/B sin preocuparnos de que un grupo tenga una ventaja significativa en términos de cantidad de eventos."
   ]
  },
  {
   "cell_type": "code",
   "execution_count": 169,
   "metadata": {},
   "outputs": [
    {
     "name": "stdout",
     "output_type": "stream",
     "text": [
      "Usuarios que aparecen en ambos grupos: 0\n"
     ]
    }
   ],
   "source": [
    "# Buscar usuarios que aparecen en ambos grupos\n",
    "duplicados_ab = event_participantes.groupby(\"user_id\")[\"group\"].nunique()\n",
    "usuarios_duplicados = duplicados_ab[duplicados_ab > 1].count()\n",
    "\n",
    "print(f\"Usuarios que aparecen en ambos grupos: {usuarios_duplicados}\")\n"
   ]
  },
  {
   "cell_type": "markdown",
   "metadata": {},
   "source": [
    "Analizar la distribución de eventos por día"
   ]
  },
  {
   "cell_type": "code",
   "execution_count": 171,
   "metadata": {},
   "outputs": [],
   "source": [
    "# Convertir event_dt a formato datetime\n",
    "event_participantes[\"event_dt\"] = pd.to_datetime(event_participantes[\"event_dt\"])\n",
    "\n",
    "# Ahora extraer solo la fecha sin la hora\n",
    "event_participantes[\"fecha\"] = event_participantes[\"event_dt\"].dt.date"
   ]
  },
  {
   "cell_type": "code",
   "execution_count": 175,
   "metadata": {},
   "outputs": [
    {
     "data": {
      "image/png": "[encoded data removed]",
      "text/plain": [
       "<Figure size 1200x500 with 1 Axes>"
      ]
     },
     "metadata": {},
     "output_type": "display_data"
    }
   ],
   "source": [
    "# Convertir event_dt a tipo fecha sin la hora\n",
    "event_participantes[\"fecha\"] = event_participantes[\"event_dt\"].dt.date\n",
    "\n",
    "# Contar eventos por día\n",
    "eventos_por_dia = event_participantes.groupby(\"fecha\")[\"user_id\"].count()\n",
    "\n",
    "# Gráfica de eventos por día\n",
    "plt.figure(figsize=(12,5))\n",
    "sns.lineplot(data=eventos_por_dia, marker=\"o\")\n",
    "plt.title(\"Número de eventos por día\")\n",
    "plt.xlabel(\"Fecha\")\n",
    "plt.ylabel(\"Cantidad de eventos\")\n",
    "plt.xticks(rotation=45)\n",
    "plt.show()"
   ]
  },
  {
   "cell_type": "markdown",
   "metadata": {},
   "source": [
    "Lo que vemos en la tendencia\n",
    "\n",
    "Crecimiento progresivo 📈\n",
    "\n",
    "Durante el comienzo del período hasta aproximadamente el 21 de diciembre, hubo un crecimiento sin interrupciones en el número de eventos.\n",
    "Desde el 13 de diciembre, se aprecia un salto importante en la cantidad de eventos, que puede significar el inicio de una campaña publicitaria o promoción especial.\n",
    "\n",
    "Pico máximo\n",
    "\n",
    "El día con mayor actividad es el 21 de diciembre, con un aumento significativo en los eventos.\n",
    "Esto implica una posible campaña de promoción, el lanzamiento de una nueva funcionalidad o un evento que incentivó la interacción de los usuarios.\n",
    "\n",
    "Brusca caída desde la cima\n",
    "\n",
    "A partir del 21 de diciembre, se registra un acentuado descenso en los eventos.\n",
    "La disminución continúa hasta el 25 de diciembre, posiblemente debido al fin de la promoción, las festividades o una menor actividad de los usuarios tras el evento.\n",
    "Desde el 25, la caída sigue, pero de manera más estable, lo que indica que la actividad no se recuperó completamente.\n",
    "\n",
    "Últimos días del período con caída acentuada\n",
    "\n",
    "En los últimos días, especialmente el 29 de diciembre, hay un marcado descenso en los eventos, lo que podría deberse al cierre de la campaña, menor tráfico de usuarios o cambios en la estrategia publicitaria.\n",
    "\n",
    "📌 Conclusión\n",
    "\n",
    "El comportamiento no sigue un patrón uniforme, sino que presenta un pico alto seguido por una caída brusca.\n",
    "Es posible que esto esté relacionado con una campaña o evento especial que impulsó la actividad en ciertos días.\n",
    "La disminución tras el 21 de diciembre puede estar vinculada al fin de una promoción o a las festividades.\n",
    "Si estos picos coinciden con campañas publicitarias, sería útil verificar datos adicionales, como inversión en anuncios o conversiones, para medir su impacto."
   ]
  },
  {
   "cell_type": "markdown",
   "metadata": {},
   "source": [
    "<div class=\"alert alert-block alert-success\">\n",
    "<b>Comentario del revisor (1ra Iteracion)</b> <a class=“tocSkip”></a>\n",
    "\n",
    "Muy buen trabajo, con esta gráfica se ve correctamente la distribución de los eventos a lo largo de los días \n",
    "</div>"
   ]
  },
  {
   "cell_type": "markdown",
   "metadata": {},
   "source": [
    "# 4️⃣ Evaluación de la prueba A/B\n",
    "\n",
    "🔹 NOTA: Se compararon las tasas de conversión en cada etapa del embudo entre los grupos A y B.\n"
   ]
  },
  {
   "cell_type": "code",
   "execution_count": 177,
   "metadata": {},
   "outputs": [
    {
     "name": "stdout",
     "output_type": "stream",
     "text": [
      "Evento: product_page\n",
      "Estadístico Z: 4.60, Valor p: 0.00000\n",
      "----------------------------------------\n",
      "Evento: product_cart\n",
      "Estadístico Z: 1.46, Valor p: 0.14535\n",
      "----------------------------------------\n",
      "Evento: purchase\n",
      "Estadístico Z: 2.37, Valor p: 0.01759\n",
      "----------------------------------------\n"
     ]
    }
   ],
   "source": [
    "from statsmodels.stats.proportion import proportions_ztest\n",
    "\n",
    "# Definir eventos clave\n",
    "etapas_embudo = [\"product_page\", \"product_cart\", \"purchase\"]\n",
    "\n",
    "for evento in etapas_embudo:\n",
    "    conversion_A = event_participantes[(event_participantes[\"event_name\"] == evento) & (event_participantes[\"group\"] == \"A\")][\"user_id\"].nunique()\n",
    "    conversion_B = event_participantes[(event_participantes[\"event_name\"] == evento) & (event_participantes[\"group\"] == \"B\")][\"user_id\"].nunique()\n",
    "    \n",
    "    total_A = event_participantes[event_participantes[\"group\"] == \"A\"][\"user_id\"].nunique()\n",
    "    total_B = event_participantes[event_participantes[\"group\"] == \"B\"][\"user_id\"].nunique()\n",
    "    \n",
    "    # Prueba Z\n",
    "    stat, p_value = proportions_ztest([conversion_A, conversion_B], [total_A, total_B])\n",
    "    \n",
    "    print(f\"Evento: {evento}\")\n",
    "    print(f\"Estadístico Z: {stat:.2f}, Valor p: {p_value:.5f}\")\n",
    "    print(\"-\"*40)\n"
   ]
  },
  {
   "cell_type": "markdown",
   "metadata": {},
   "source": [
    "## Product Page (Z = 4.60, p = 0.00000)\n",
    "\n",
    "Entre los dos grupos hay una diferencia significativamente mayor.\n",
    "El nuevo payment funnel aumentó la cantidad de visitantes que llegan a la página del producto.\n",
    "Esto sugiere que el sistema de recomendaciones atrajo más visitantes.\n",
    "\n",
    "## Product Cart (Z = 1.46, p = 0.14535)\n",
    "\n",
    "No hay una diferencia significativa estadísticamente.\n",
    "Aunque más individuos acceden a la página del producto, esto no se traduce en un mayor porcentaje de usuarios que agregan productos al carrito.\n",
    "Hay otros factores que pueden prevenir la conversión, como precio, interfaz de usuario o confiabilidad en la plataforma.\n",
    "\n",
    "## Purchase (Z = 2.37, p = 0.01759)\n",
    "\n",
    "Hay una diferencia notable, pero no tan fuerte como en Product Page.\n",
    "El nuevo payment funnel logró aumentar las compras, lo cual es positivo.\n",
    "Sin embargo, el efecto no alcanza el 10% esperado, por lo que podría requerir ajustes.\n",
    "\n",
    "## 🔹 Conclusión:\n",
    "El nuevo sistema de recomendaciones atrae más tráfico a la página del producto, pero no modifica significativamente la acción de agregar productos al carrito.\n",
    "Sin embargo, sí tiene un efecto positivo en la tasa de compra.\n",
    "La empresa debería investigar por qué los usuarios no agregan productos al carrito y optimizar esa parte del funnel."
   ]
  },
  {
   "cell_type": "markdown",
   "metadata": {},
   "source": [
    "<div class=\"alert alert-block alert-success\">\n",
    "<b>Comentario del revisor (1ra Iteracion)</b> <a class=“tocSkip”></a>\n",
    "\n",
    "Muy bien! Siempre hay que determinar con pruebas estadísticas si las comparaciones realizadas tienen diferencias significativas para poder tomar las decisiones correctas, y el hacerlo por la conversión de cada evento ayuda a entender en que punto del embudo se cambia la experiencia de usuario\n",
    "</div>"
   ]
  },
  {
   "cell_type": "markdown",
   "metadata": {},
   "source": [
    "# 5️⃣ Conclusiones"
   ]
  },
  {
   "cell_type": "markdown",
   "metadata": {},
   "source": [
    "El test A/B muestra que el nuevo funnel tiene un efecto positivo en la conversión del visitante a la compra, pero no puede mejorar la ratio para agregar productos al carrito. El negocio puede analizar las variables que afectan esta elección antes de implementar el nuevo sistema en su totalidad.\n",
    "\n",
    "🔹 Próximo paso a recomendar: Realizar pruebas complementarias para centrarse en la optimización del carrito de la compra y en los potenciales problemas de conversión."
   ]
  },
  {
   "cell_type": "markdown",
   "metadata": {},
   "source": [
    "<div class=\"alert alert-block alert-success\">\n",
    "<b>Comentario general (1ra Iteracion)</b> <a class=“tocSkip”></a>\n",
    "\n",
    "Hiciste un buen trabajo Elpidio, redactaste muy buenas conclusiones. Se nota tu conocimiento para realizar los análisis a partir de pruebas AB, esto será algo que encuentres muy seguido en un entorno laboral.\n",
    "    \n",
    "Siempre procura revisar las métricas calculadas por cada grupo para que se puedan ver las diferencias en cada paso. Recuerda que en una prueba AB lo que se busca es entender cómo se vió afectado el comportamiento del grupo experimental para poder continuar con la versión nueva o para hacer nuevos cambios en base a los resultados analizados. \n",
    "    \n",
    "Saludos."
   ]
  }
 ],
 "metadata": {
  "ExecuteTimeLog": [
   {
    "duration": 1253,
    "start_time": "2025-03-07T03:59:16.096Z"
   }
  ],
  "kernelspec": {
   "display_name": "Python 3 (ipykernel)",
   "language": "python",
   "name": "python3"
  },
  "language_info": {
   "codemirror_mode": {
    "name": "ipython",
    "version": 3
   },
   "file_extension": ".py",
   "mimetype": "text/x-python",
   "name": "python",
   "nbconvert_exporter": "python",
   "pygments_lexer": "ipython3",
   "version": "3.9.19"
  },
  "toc": {
   "base_numbering": 1,
   "nav_menu": {},
   "number_sections": true,
   "sideBar": true,
   "skip_h1_title": true,
   "title_cell": "Table of Contents",
   "title_sidebar": "Contents",
   "toc_cell": false,
   "toc_position": {},
   "toc_section_display": true,
   "toc_window_display": false
  }
 },
 "nbformat": 4,
 "nbformat_minor": 2
}

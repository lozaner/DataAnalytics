{
 "cells": [
  {
   "cell_type": "markdown",
   "metadata": {},
   "source": [
    "Hola **Elpidio**!\n",
    "\n",
    "Soy **Patricio Requena** 👋. Es un placer ser el revisor de tu proyecto el día de hoy!\n",
    "\n",
    "Revisaré tu proyecto detenidamente con el objetivo de ayudarte a mejorar y perfeccionar tus habilidades. Durante mi revisión, identificaré áreas donde puedas hacer mejoras en tu código, señalando específicamente qué y cómo podrías ajustar para optimizar el rendimiento y la claridad de tu proyecto. Además, es importante para mí destacar los aspectos que has manejado excepcionalmente bien. Reconocer tus fortalezas te ayudará a entender qué técnicas y métodos están funcionando a tu favor y cómo puedes aplicarlos en futuras tareas. \n",
    "\n",
    "_**Recuerda que al final de este notebook encontrarás un comentario general de mi parte**_, empecemos!\n",
    "\n",
    "Encontrarás mis comentarios dentro de cajas verdes, amarillas o rojas, ⚠️ **por favor, no muevas, modifiques o borres mis comentarios** ⚠️:\n",
    "\n",
    "\n",
    "<div class=\"alert alert-block alert-success\">\n",
    "<b>Comentario del revisor</b> <a class=“tocSkip”></a>\n",
    "Si todo está perfecto.\n",
    "</div>\n",
    "\n",
    "<div class=\"alert alert-block alert-warning\">\n",
    "<b>Comentario del revisor</b> <a class=“tocSkip”></a>\n",
    "Si tu código está bien pero se puede mejorar o hay algún detalle que le hace falta.\n",
    "</div>\n",
    "\n",
    "<div class=\"alert alert-block alert-danger\">\n",
    "<b>Comentario del revisor</b> <a class=“tocSkip”></a>\n",
    "Si de pronto hace falta algo o existe algún problema con tu código o conclusiones.\n",
    "</div>\n",
    "\n",
    "Puedes responderme de esta forma:\n",
    "<div class=\"alert alert-block alert-info\">\n",
    "<b>Respuesta del estudiante</b> <a class=“tocSkip”></a>\n",
    "</div>"
   ]
  },
  {
   "cell_type": "markdown",
   "metadata": {},
   "source": [
    "# **Título Sugerido:**\n",
    "\n",
    "\"Optimizando la Experiencia del Cliente: Detectando Áreas de Mejora en el Desempeño de los Operadores de CallMeMaybe\"\n",
    "\n",
    "\n",
    "## **Descripción del Proyecto:**\n",
    "\n",
    "En CallMeMaybe, nos tomamos en serio la satisfacción del cliente. Por eso, nos hemos propuesto mejorar la eficiencia de nuestra plataforma de telefonía virtual. ¿Cómo? A través de un análisis detallado del rendimiento de nuestros operadores. Buscamos identificar áreas donde podamos optimizar el servicio, asegurando que cada llamada sea una experiencia positiva. Nos enfocaremos en tres aspectos cruciales:\n",
    "\n",
    "Reducción de Llamadas Perdidas: Tanto internas como externas, minimizar las llamadas perdidas es clave para no dejar oportunidades sin atender.\n",
    "\n",
    "Tiempos de Espera Razonables: Nadie quiere esperar eternamente. Queremos asegurar que los clientes sean atendidos rápidamente.\n",
    "\n",
    "Maximización de Llamadas Salientes (si aplica): Si un operador tiene la tarea de contactar clientes, queremos asegurarnos de que estén aprovechando al máximo su tiempo.\n",
    "\n",
    "Para lograr esto, primero exploramos a fondo los datos para entender el panorama general. Luego, identificamos a aquellos operadores que podrían estar teniendo dificultades. Más adelante, validaremos nuestros hallazgos con pruebas estadísticas sólidas y exploraremos los datos con SQL para obtener una visión aún más profunda. Finalmente, experimentaremos con pruebas A/B para implementar mejoras efectivas.\n",
    "\n",
    "Desarrollo: Descubriendo las Claves del Rendimiento (Paso a Paso)\n",
    "\n",
    "\n",
    "##    1. Preparando el Terreno: Carga y Limpieza de Datos\n",
    "\n",
    "Comenzamos importando la información valiosa de nuestros archivos (telecom_dataset_us.csv y telecom_clients_us.csv). Imaginen que estamos limpiando una lente para ver todo con claridad. Revisamos cada detalle para asegurarnos de que la información estuviera completa y sin duplicados. Detectamos algunos valores faltantes en columnas importantes como operator_id e internal. Después de evaluar cuidadosamente cada caso, decidimos si era mejor rellenar la información o eliminar esos registros para evitar confusiones.\n",
    "\n",
    "Resultado: ¡Datos limpios y listos para ser analizados! Tenemos una base sólida para tomar decisiones informadas.\n",
    "\n",
    "\n",
    "##    2. Explorando el Universo de las Llamadas: Análisis Exploratorio de Datos (EDA)\n",
    "\n",
    "Con los datos limpios, nos sumergimos en un análisis exploratorio (EDA). Calculamos estadísticas descriptivas para entender cómo se distribuyen las variables. Imaginen que estamos mirando el mapa de un territorio desconocido, buscando patrones y puntos de interés. Para visualizar estos patrones, creamos gráficos reveladores:\n",
    "\n",
    "Histograma de Duración de Llamadas: Este gráfico nos muestra la frecuencia con la que las llamadas duran diferentes cantidades de tiempo. ¿Hay muchas llamadas cortas o largas?\n",
    "\n",
    "Gráfico Circular de Llamadas Internas vs. Externas: ¿Qué porcentaje de las llamadas son entre empleados y cuáles son con clientes fuera de la empresa?\n",
    "\n",
    "Gráfico de Barras de Dirección de Llamadas (In/Out): ¿Recibimos más llamadas de las que hacemos? Este gráfico nos ayuda a entender el flujo de la comunicación.\n",
    "\n",
    "Resultado: Comprendemos mejor el comportamiento de las llamadas y podemos empezar a identificar las áreas donde podríamos estar fallando.\n",
    "\n",
    "\n",
    "##    3. Identificando Oportunidades de Mejora: Operadores que Necesitan Apoyo\n",
    "\n",
    "Llegamos al corazón del asunto: identificar a los operadores que podrían necesitar ayuda. Calculamos las siguientes métricas para cada operador:\n",
    "\n",
    "Porcentaje de Llamadas Perdidas: ¿Cuántas llamadas se pierden en promedio?\n",
    "\n",
    "Tiempo Promedio de Espera: ¿Cuánto tiempo tienen que esperar los clientes antes de ser atendidos?\n",
    "\n",
    "Cantidad de Llamadas Salientes Realizadas: ¿Cuántas llamadas están haciendo los operadores que tienen asignada esta tarea?\n",
    "\n",
    "Definimos que un operador podría necesitar apoyo si: tiene más del 50% de llamadas perdidas, un tiempo de espera elevado, y (si está asignado a llamadas salientes) un bajo número de llamadas realizadas.\n",
    "\n",
    "Finalmente, creamos un ranking de operadores que necesitan apoyo, ordenados de mayor a menor necesidad.\n",
    "\n",
    "Resultado: Identificamos a los operadores que necesitan más apoyo. Ahora podemos enfocarnos en brindarles las herramientas y el entrenamiento que necesitan para mejorar su rendimiento.\n",
    "\n",
    "\n",
    "    \n",
    "##    Conclusión de esta Fase:\n",
    "\n",
    "¡Misión cumplida! Hemos limpiado los datos, explorado el panorama general y detectado a los operadores que podrían necesitar apoyo. Tenemos una visión clara del comportamiento de las llamadas y la eficiencia de los operadores.\n",
    "\n",
    "En las próximas fases, vamos a:\n",
    "\n",
    "** Pruebas estadísticas: Realizar pruebas estadísticas para confirmar nuestros hallazgos.\n",
    "\n",
    "** Profundizar con SQL: Usar SQL para explorar los datos desde diferentes ángulos y descubrir información aún más valiosa.\n",
    " \n",
    "** Presentación de resultados: Crear un informe final claro y conciso, lleno de gráficos y hallazgos clave. ¡Este informe será nuestra hoja de ruta para mejorar CallMeMaybe!"
   ]
  },
  {
   "cell_type": "markdown",
   "metadata": {},
   "source": [
    "# **\"Optimizando la Experiencia del Cliente: Detectando Áreas de Mejora en el Desempeño de los Operadores de CallMeMaybe\"**"
   ]
  },
  {
   "cell_type": "markdown",
   "metadata": {},
   "source": [
    "# 1. Comprensión del Proyecto y Datos"
   ]
  },
  {
   "cell_type": "markdown",
   "metadata": {},
   "source": [
    "📌Objetivo del Proyecto\n",
    "La empresa de telefonía virtual CallMeMaybe busca mejorar el seguimiento del desempeño de sus operadores, identificando a los menos eficientes. Para ello, analizaremos los datos de las llamadas con el fin de detectar patrones de ineficacia.\n",
    "\n",
    "📊 Criterios para Identificar Ineficiencia en los Operadores\n",
    "Un operador será considerado ineficaz si cumple con alguna de las siguientes condiciones:\n",
    "\n",
    "📌 Alta cantidad de llamadas entrantes perdidas\n",
    "Esto incluye tanto llamadas internas (entre operadores) como externas (de clientes).\n",
    "La métrica clave aquí es is_missed_call = 1.\n",
    "\n",
    "📌 Tiempo de espera prolongado en llamadas entrantes\n",
    "Se mide como la diferencia entre:\n",
    "\n",
    "✅ total_call_duration (duración total de la llamada, incluyendo el tiempo de espera).\n",
    "\n",
    "✅ call_duration (tiempo efectivo de conversación).\n",
    "\n",
    "Si esta diferencia es alta, significa que el operador hace esperar demasiado a los clientes antes de responder.\n",
    "\n",
    "📌 Bajo número de llamadas salientes (si debe realizarlas)\n",
    "El tipo de llamada se indica en la columna direction:\n",
    "\n",
    "🔹 in → Llamada entrante\n",
    "\n",
    "🔹 out → Llamada saliente\n",
    "\n",
    "Si un operador realiza muy pocas llamadas out, pero su rol requiere que las haga, esto es un signo de ineficiencia.\n",
    "\n",
    "💡 Plan para Identificar Operadores Ineficaces\n",
    "Para detectar a los operadores con bajo rendimiento, realizaremos las siguientes acciones:\n",
    "\n",
    "✅ Cálculo del porcentaje de llamadas perdidas por operador.\n",
    "\n",
    "✅ Análisis del tiempo de espera promedio por operador.\n",
    "\n",
    "✅ Conteo y comparación de llamadas salientes entre operadores.\n",
    "\n",
    "✅ Segmentación de operadores según su desempeño, con el apoyo de gráficos y estadísticas."
   ]
  },
  {
   "cell_type": "markdown",
   "metadata": {},
   "source": [
    "# Libreria a Utilizar"
   ]
  },
  {
   "cell_type": "code",
   "execution_count": 1,
   "metadata": {},
   "outputs": [
    {
     "name": "stdout",
     "output_type": "stream",
     "text": [
      "Requirement already satisfied: sidetable in c:\\users\\elpid\\anaconda3\\lib\\site-packages (0.9.1)\n",
      "Requirement already satisfied: pandas>=1.0 in c:\\users\\elpid\\anaconda3\\lib\\site-packages (from sidetable) (2.2.2)\n",
      "Requirement already satisfied: numpy>=1.26.0 in c:\\users\\elpid\\anaconda3\\lib\\site-packages (from pandas>=1.0->sidetable) (1.26.4)\n",
      "Requirement already satisfied: python-dateutil>=2.8.2 in c:\\users\\elpid\\anaconda3\\lib\\site-packages (from pandas>=1.0->sidetable) (2.9.0.post0)\n",
      "Requirement already satisfied: pytz>=2020.1 in c:\\users\\elpid\\anaconda3\\lib\\site-packages (from pandas>=1.0->sidetable) (2024.1)\n",
      "Requirement already satisfied: tzdata>=2022.7 in c:\\users\\elpid\\anaconda3\\lib\\site-packages (from pandas>=1.0->sidetable) (2023.3)\n",
      "Requirement already satisfied: six>=1.5 in c:\\users\\elpid\\anaconda3\\lib\\site-packages (from python-dateutil>=2.8.2->pandas>=1.0->sidetable) (1.16.0)\n",
      "Note: you may need to restart the kernel to use updated packages.\n"
     ]
    }
   ],
   "source": [
    "pip install sidetable"
   ]
  },
  {
   "cell_type": "code",
   "execution_count": 2,
   "metadata": {},
   "outputs": [],
   "source": [
    "import pandas as pd\n",
    "import sidetable as stb\n",
    "import numpy as np\n",
    "from matplotlib import pyplot as plt\n",
    "import seaborn as sns\n",
    "#from scipy import stats\n",
    "#import datetime as dt\n",
    "#from scipy.stats import norm\n",
    "from sklearn.model_selection import train_test_split\n",
    "from sklearn.linear_model import LogisticRegression\n",
    "from sklearn.metrics import accuracy_score, precision_score, recall_score\n",
    "from sklearn.ensemble import RandomForestClassifier\n",
    "import scipy.cluster.hierarchy as sch\n",
    "from sklearn.preprocessing import StandardScaler\n",
    "from sklearn.linear_model import Lasso, Ridge\n",
    "from sklearn.tree import DecisionTreeRegressor\n",
    "from sklearn.ensemble import RandomForestRegressor, GradientBoostingRegressor\n",
    "from sklearn.metrics import mean_absolute_error, mean_squared_error, r2_score\n",
    "from sklearn.cluster import KMeans\n",
    "from scipy.stats import ttest_ind\n",
    "from scipy.stats import mannwhitneyu\n",
    "from scipy.stats import shapiro"
   ]
  },
  {
   "cell_type": "markdown",
   "metadata": {},
   "source": [
    "# Carga de Datos"
   ]
  },
  {
   "cell_type": "code",
   "execution_count": 3,
   "metadata": {},
   "outputs": [],
   "source": [
    "clients = pd.read_csv(\"telecom_clients_us.csv\")\n",
    "dataset = pd.read_csv(\"telecom_dataset_us.csv\")\n"
   ]
  },
  {
   "cell_type": "markdown",
   "metadata": {},
   "source": [
    "# Preparacion de Datos"
   ]
  },
  {
   "cell_type": "code",
   "execution_count": 4,
   "metadata": {},
   "outputs": [],
   "source": [
    "def info_gral(datos):\n",
    "    print(\"Primeras Filas\")\n",
    "    print(datos.head())\n",
    "    print('-------------------------------------------')\n",
    "    print(\"Datos Generales\")\n",
    "    print(datos.info())\n",
    "    print('-------------------------------------------')\n",
    "    print(\"Revision de Datos Ausentes\")\n",
    "    print(datos.isna().sum())\n",
    "    print('-------------------------------------------')\n",
    "    print(\"Revision de Duplicados\")\n",
    "    print(datos.duplicated().sum())"
   ]
  },
  {
   "cell_type": "code",
   "execution_count": 5,
   "metadata": {},
   "outputs": [
    {
     "name": "stdout",
     "output_type": "stream",
     "text": [
      "Primeras Filas\n",
      "   user_id tariff_plan  date_start\n",
      "0   166713           A  2019-08-15\n",
      "1   166901           A  2019-08-23\n",
      "2   168527           A  2019-10-29\n",
      "3   167097           A  2019-09-01\n",
      "4   168193           A  2019-10-16\n",
      "-------------------------------------------\n",
      "Datos Generales\n",
      "<class 'pandas.core.frame.DataFrame'>\n",
      "RangeIndex: 732 entries, 0 to 731\n",
      "Data columns (total 3 columns):\n",
      " #   Column       Non-Null Count  Dtype \n",
      "---  ------       --------------  ----- \n",
      " 0   user_id      732 non-null    int64 \n",
      " 1   tariff_plan  732 non-null    object\n",
      " 2   date_start   732 non-null    object\n",
      "dtypes: int64(1), object(2)\n",
      "memory usage: 17.3+ KB\n",
      "None\n",
      "-------------------------------------------\n",
      "Revision de Datos Ausentes\n",
      "user_id        0\n",
      "tariff_plan    0\n",
      "date_start     0\n",
      "dtype: int64\n",
      "-------------------------------------------\n",
      "Revision de Duplicados\n",
      "0\n"
     ]
    }
   ],
   "source": [
    "info_gral(clients)"
   ]
  },
  {
   "cell_type": "code",
   "execution_count": 6,
   "metadata": {},
   "outputs": [
    {
     "data": {
      "text/html": [
       "<style type=\"text/css\">\n",
       "</style>\n",
       "<table id=\"T_eb45e\">\n",
       "  <thead>\n",
       "    <tr>\n",
       "      <th class=\"blank level0\" >&nbsp;</th>\n",
       "      <th id=\"T_eb45e_level0_col0\" class=\"col_heading level0 col0\" >missing</th>\n",
       "      <th id=\"T_eb45e_level0_col1\" class=\"col_heading level0 col1\" >total</th>\n",
       "      <th id=\"T_eb45e_level0_col2\" class=\"col_heading level0 col2\" >percent</th>\n",
       "    </tr>\n",
       "  </thead>\n",
       "  <tbody>\n",
       "    <tr>\n",
       "      <th id=\"T_eb45e_level0_row0\" class=\"row_heading level0 row0\" >user_id</th>\n",
       "      <td id=\"T_eb45e_row0_col0\" class=\"data row0 col0\" >0</td>\n",
       "      <td id=\"T_eb45e_row0_col1\" class=\"data row0 col1\" >732</td>\n",
       "      <td id=\"T_eb45e_row0_col2\" class=\"data row0 col2\" >0.00%</td>\n",
       "    </tr>\n",
       "    <tr>\n",
       "      <th id=\"T_eb45e_level0_row1\" class=\"row_heading level0 row1\" >tariff_plan</th>\n",
       "      <td id=\"T_eb45e_row1_col0\" class=\"data row1 col0\" >0</td>\n",
       "      <td id=\"T_eb45e_row1_col1\" class=\"data row1 col1\" >732</td>\n",
       "      <td id=\"T_eb45e_row1_col2\" class=\"data row1 col2\" >0.00%</td>\n",
       "    </tr>\n",
       "    <tr>\n",
       "      <th id=\"T_eb45e_level0_row2\" class=\"row_heading level0 row2\" >date_start</th>\n",
       "      <td id=\"T_eb45e_row2_col0\" class=\"data row2 col0\" >0</td>\n",
       "      <td id=\"T_eb45e_row2_col1\" class=\"data row2 col1\" >732</td>\n",
       "      <td id=\"T_eb45e_row2_col2\" class=\"data row2 col2\" >0.00%</td>\n",
       "    </tr>\n",
       "  </tbody>\n",
       "</table>\n"
      ],
      "text/plain": [
       "<pandas.io.formats.style.Styler at 0x1363e29a1e0>"
      ]
     },
     "execution_count": 6,
     "metadata": {},
     "output_type": "execute_result"
    }
   ],
   "source": [
    "clients.stb.missing(style=True)"
   ]
  },
  {
   "cell_type": "code",
   "execution_count": 7,
   "metadata": {},
   "outputs": [],
   "source": [
    "# convertimos date_start en una columna de fecha \n",
    "clients['date_start'] = pd.to_datetime(clients['date_start'])"
   ]
  },
  {
   "cell_type": "markdown",
   "metadata": {},
   "source": [
    "Solo se convirtio a fecha los datos de la columna date_star, no se encuentran datos Duplicados ni dato ausentes"
   ]
  },
  {
   "cell_type": "code",
   "execution_count": 8,
   "metadata": {},
   "outputs": [
    {
     "name": "stdout",
     "output_type": "stream",
     "text": [
      "Primeras Filas\n",
      "   user_id                       date direction internal  operator_id  \\\n",
      "0   166377  2019-08-04 00:00:00+03:00        in    False          NaN   \n",
      "1   166377  2019-08-05 00:00:00+03:00       out     True     880022.0   \n",
      "2   166377  2019-08-05 00:00:00+03:00       out     True     880020.0   \n",
      "3   166377  2019-08-05 00:00:00+03:00       out     True     880020.0   \n",
      "4   166377  2019-08-05 00:00:00+03:00       out    False     880022.0   \n",
      "\n",
      "   is_missed_call  calls_count  call_duration  total_call_duration  \n",
      "0            True            2              0                    4  \n",
      "1            True            3              0                    5  \n",
      "2            True            1              0                    1  \n",
      "3           False            1             10                   18  \n",
      "4            True            3              0                   25  \n",
      "-------------------------------------------\n",
      "Datos Generales\n",
      "<class 'pandas.core.frame.DataFrame'>\n",
      "RangeIndex: 53902 entries, 0 to 53901\n",
      "Data columns (total 9 columns):\n",
      " #   Column               Non-Null Count  Dtype  \n",
      "---  ------               --------------  -----  \n",
      " 0   user_id              53902 non-null  int64  \n",
      " 1   date                 53902 non-null  object \n",
      " 2   direction            53902 non-null  object \n",
      " 3   internal             53785 non-null  object \n",
      " 4   operator_id          45730 non-null  float64\n",
      " 5   is_missed_call       53902 non-null  bool   \n",
      " 6   calls_count          53902 non-null  int64  \n",
      " 7   call_duration        53902 non-null  int64  \n",
      " 8   total_call_duration  53902 non-null  int64  \n",
      "dtypes: bool(1), float64(1), int64(4), object(3)\n",
      "memory usage: 3.3+ MB\n",
      "None\n",
      "-------------------------------------------\n",
      "Revision de Datos Ausentes\n",
      "user_id                   0\n",
      "date                      0\n",
      "direction                 0\n",
      "internal                117\n",
      "operator_id            8172\n",
      "is_missed_call            0\n",
      "calls_count               0\n",
      "call_duration             0\n",
      "total_call_duration       0\n",
      "dtype: int64\n",
      "-------------------------------------------\n",
      "Revision de Duplicados\n",
      "4900\n"
     ]
    }
   ],
   "source": [
    "info_gral(dataset)"
   ]
  },
  {
   "cell_type": "code",
   "execution_count": 9,
   "metadata": {},
   "outputs": [
    {
     "data": {
      "text/html": [
       "<style type=\"text/css\">\n",
       "</style>\n",
       "<table id=\"T_3cdbd\">\n",
       "  <thead>\n",
       "    <tr>\n",
       "      <th class=\"blank level0\" >&nbsp;</th>\n",
       "      <th id=\"T_3cdbd_level0_col0\" class=\"col_heading level0 col0\" >missing</th>\n",
       "      <th id=\"T_3cdbd_level0_col1\" class=\"col_heading level0 col1\" >total</th>\n",
       "      <th id=\"T_3cdbd_level0_col2\" class=\"col_heading level0 col2\" >percent</th>\n",
       "    </tr>\n",
       "  </thead>\n",
       "  <tbody>\n",
       "    <tr>\n",
       "      <th id=\"T_3cdbd_level0_row0\" class=\"row_heading level0 row0\" >operator_id</th>\n",
       "      <td id=\"T_3cdbd_row0_col0\" class=\"data row0 col0\" >8,172</td>\n",
       "      <td id=\"T_3cdbd_row0_col1\" class=\"data row0 col1\" >53,902</td>\n",
       "      <td id=\"T_3cdbd_row0_col2\" class=\"data row0 col2\" >15.16%</td>\n",
       "    </tr>\n",
       "    <tr>\n",
       "      <th id=\"T_3cdbd_level0_row1\" class=\"row_heading level0 row1\" >internal</th>\n",
       "      <td id=\"T_3cdbd_row1_col0\" class=\"data row1 col0\" >117</td>\n",
       "      <td id=\"T_3cdbd_row1_col1\" class=\"data row1 col1\" >53,902</td>\n",
       "      <td id=\"T_3cdbd_row1_col2\" class=\"data row1 col2\" >0.22%</td>\n",
       "    </tr>\n",
       "    <tr>\n",
       "      <th id=\"T_3cdbd_level0_row2\" class=\"row_heading level0 row2\" >user_id</th>\n",
       "      <td id=\"T_3cdbd_row2_col0\" class=\"data row2 col0\" >0</td>\n",
       "      <td id=\"T_3cdbd_row2_col1\" class=\"data row2 col1\" >53,902</td>\n",
       "      <td id=\"T_3cdbd_row2_col2\" class=\"data row2 col2\" >0.00%</td>\n",
       "    </tr>\n",
       "    <tr>\n",
       "      <th id=\"T_3cdbd_level0_row3\" class=\"row_heading level0 row3\" >date</th>\n",
       "      <td id=\"T_3cdbd_row3_col0\" class=\"data row3 col0\" >0</td>\n",
       "      <td id=\"T_3cdbd_row3_col1\" class=\"data row3 col1\" >53,902</td>\n",
       "      <td id=\"T_3cdbd_row3_col2\" class=\"data row3 col2\" >0.00%</td>\n",
       "    </tr>\n",
       "    <tr>\n",
       "      <th id=\"T_3cdbd_level0_row4\" class=\"row_heading level0 row4\" >direction</th>\n",
       "      <td id=\"T_3cdbd_row4_col0\" class=\"data row4 col0\" >0</td>\n",
       "      <td id=\"T_3cdbd_row4_col1\" class=\"data row4 col1\" >53,902</td>\n",
       "      <td id=\"T_3cdbd_row4_col2\" class=\"data row4 col2\" >0.00%</td>\n",
       "    </tr>\n",
       "    <tr>\n",
       "      <th id=\"T_3cdbd_level0_row5\" class=\"row_heading level0 row5\" >is_missed_call</th>\n",
       "      <td id=\"T_3cdbd_row5_col0\" class=\"data row5 col0\" >0</td>\n",
       "      <td id=\"T_3cdbd_row5_col1\" class=\"data row5 col1\" >53,902</td>\n",
       "      <td id=\"T_3cdbd_row5_col2\" class=\"data row5 col2\" >0.00%</td>\n",
       "    </tr>\n",
       "    <tr>\n",
       "      <th id=\"T_3cdbd_level0_row6\" class=\"row_heading level0 row6\" >calls_count</th>\n",
       "      <td id=\"T_3cdbd_row6_col0\" class=\"data row6 col0\" >0</td>\n",
       "      <td id=\"T_3cdbd_row6_col1\" class=\"data row6 col1\" >53,902</td>\n",
       "      <td id=\"T_3cdbd_row6_col2\" class=\"data row6 col2\" >0.00%</td>\n",
       "    </tr>\n",
       "    <tr>\n",
       "      <th id=\"T_3cdbd_level0_row7\" class=\"row_heading level0 row7\" >call_duration</th>\n",
       "      <td id=\"T_3cdbd_row7_col0\" class=\"data row7 col0\" >0</td>\n",
       "      <td id=\"T_3cdbd_row7_col1\" class=\"data row7 col1\" >53,902</td>\n",
       "      <td id=\"T_3cdbd_row7_col2\" class=\"data row7 col2\" >0.00%</td>\n",
       "    </tr>\n",
       "    <tr>\n",
       "      <th id=\"T_3cdbd_level0_row8\" class=\"row_heading level0 row8\" >total_call_duration</th>\n",
       "      <td id=\"T_3cdbd_row8_col0\" class=\"data row8 col0\" >0</td>\n",
       "      <td id=\"T_3cdbd_row8_col1\" class=\"data row8 col1\" >53,902</td>\n",
       "      <td id=\"T_3cdbd_row8_col2\" class=\"data row8 col2\" >0.00%</td>\n",
       "    </tr>\n",
       "  </tbody>\n",
       "</table>\n"
      ],
      "text/plain": [
       "<pandas.io.formats.style.Styler at 0x136439238c0>"
      ]
     },
     "execution_count": 9,
     "metadata": {},
     "output_type": "execute_result"
    }
   ],
   "source": [
    "dataset.stb.missing(style=True)"
   ]
  },
  {
   "cell_type": "code",
   "execution_count": 10,
   "metadata": {},
   "outputs": [],
   "source": [
    "# convertimos date_start en una columna de fecha \n",
    "dataset['date'] = pd.to_datetime(dataset['date'])"
   ]
  },
  {
   "cell_type": "code",
   "execution_count": 11,
   "metadata": {},
   "outputs": [
    {
     "name": "stdout",
     "output_type": "stream",
     "text": [
      "    user_id                      date direction internal  operator_id  \\\n",
      "8    166377 2019-08-05 00:00:00+03:00       out    False     880020.0   \n",
      "28   166377 2019-08-12 00:00:00+03:00        in    False          NaN   \n",
      "44   166377 2019-08-14 00:00:00+03:00       out    False     880026.0   \n",
      "45   166377 2019-08-14 00:00:00+03:00        in    False          NaN   \n",
      "51   166377 2019-08-15 00:00:00+03:00       out    False     880026.0   \n",
      "\n",
      "    is_missed_call  calls_count  call_duration  total_call_duration  \n",
      "8             True            8              0                   50  \n",
      "28            True            2              0                   34  \n",
      "44           False           10           1567                 1654  \n",
      "45            True            1              0                    3  \n",
      "51           False           11           1413                 1473  \n"
     ]
    }
   ],
   "source": [
    "duplicados = dataset[dataset.duplicated()]\n",
    "print(duplicados.head())"
   ]
  },
  {
   "cell_type": "markdown",
   "metadata": {},
   "source": [
    "al revisar los datos duplicados nos damos cuenta que son necesarios esos datos aunque parciera que se duplican los datos no se duplican ya que mientras el mismo usuario esta con una llamada el otro registro saldra como llamada perdida "
   ]
  },
  {
   "cell_type": "code",
   "execution_count": 12,
   "metadata": {},
   "outputs": [
    {
     "name": "stdout",
     "output_type": "stream",
     "text": [
      "     user_id                      date direction internal  operator_id  \\\n",
      "0     166377 2019-08-04 00:00:00+03:00        in    False          NaN   \n",
      "7     166377 2019-08-05 00:00:00+03:00        in    False          NaN   \n",
      "9     166377 2019-08-06 00:00:00+03:00        in    False          NaN   \n",
      "17    166377 2019-08-07 00:00:00+03:00        in    False          NaN   \n",
      "27    166377 2019-08-12 00:00:00+03:00        in    False          NaN   \n",
      "28    166377 2019-08-12 00:00:00+03:00        in    False          NaN   \n",
      "30    166377 2019-08-13 00:00:00+03:00        in    False          NaN   \n",
      "38    166377 2019-08-14 00:00:00+03:00        in    False          NaN   \n",
      "45    166377 2019-08-14 00:00:00+03:00        in    False          NaN   \n",
      "77    166377 2019-08-22 00:00:00+03:00        in    False          NaN   \n",
      "81    166377 2019-08-23 00:00:00+03:00        in    False          NaN   \n",
      "88    166377 2019-08-24 00:00:00+03:00        in    False          NaN   \n",
      "109   166377 2019-08-29 00:00:00+03:00        in    False          NaN   \n",
      "127   166377 2019-09-03 00:00:00+03:00        in    False          NaN   \n",
      "134   166377 2019-09-04 00:00:00+03:00        in    False          NaN   \n",
      "146   166377 2019-09-05 00:00:00+03:00        in    False          NaN   \n",
      "166   166377 2019-09-09 00:00:00+03:00        in    False          NaN   \n",
      "169   166377 2019-09-10 00:00:00+03:00        in    False          NaN   \n",
      "177   166377 2019-09-11 00:00:00+03:00        in    False          NaN   \n",
      "195   166377 2019-09-12 00:00:00+03:00        in    False          NaN   \n",
      "\n",
      "     is_missed_call  calls_count  call_duration  total_call_duration  \n",
      "0              True            2              0                    4  \n",
      "7              True            6              0                   35  \n",
      "9              True            4              0                   62  \n",
      "17             True            2              0                   24  \n",
      "27             True            2              0                   34  \n",
      "28             True            2              0                   34  \n",
      "30             True            7              0                  128  \n",
      "38             True            1              0                    3  \n",
      "45             True            1              0                    3  \n",
      "77             True            1              0                    1  \n",
      "81             True            2              0                   47  \n",
      "88             True            2              0                   35  \n",
      "109            True            2              0                   60  \n",
      "127            True            1              0                   20  \n",
      "134            True            1              0                   19  \n",
      "146            True            2              0                   23  \n",
      "166            True            1              0                   29  \n",
      "169            True            1              0                   26  \n",
      "177            True            1              0                    2  \n",
      "195            True            4              0                   77  \n"
     ]
    }
   ],
   "source": [
    "# Ver ejemplos de filas con valores nulos\n",
    "print(dataset[dataset.isnull().any(axis=1)].head(20))\n"
   ]
  },
  {
   "cell_type": "markdown",
   "metadata": {},
   "source": [
    "📌 Parece que estas llamadas entrantes se perdieron sin un operador asignado. Posibles razones:\n",
    "\n",
    "No había operadores disponibles en el momento en que ingresó la llamada.\n",
    "El sistema no registró correctamente al operador debido a un error en la captura de datos.\n",
    "El operador colgó o la llamada se perdió antes de ser asignada."
   ]
  },
  {
   "cell_type": "code",
   "execution_count": 13,
   "metadata": {},
   "outputs": [],
   "source": [
    "#Procedemos a remplazar los NAN de operator_id con Desconocido ya que el porcentaje para son las del 15% y dejamos en numero entero \n",
    "dataset[\"operator_id\"] = dataset[\"operator_id\"].apply(lambda x: str(int(x)) if pd.notna(x) else \"-1\")\n"
   ]
  },
  {
   "cell_type": "code",
   "execution_count": 14,
   "metadata": {},
   "outputs": [
    {
     "name": "stdout",
     "output_type": "stream",
     "text": [
      "       user_id                      date direction internal operator_id  \\\n",
      "1007    166405 2019-09-18 00:00:00+03:00        in      NaN          -1   \n",
      "1090    166405 2019-10-01 00:00:00+03:00        in      NaN          -1   \n",
      "1864    166406 2019-08-20 00:00:00+03:00        in      NaN          -1   \n",
      "1924    166406 2019-09-02 00:00:00+03:00        in      NaN      879898   \n",
      "6210    166541 2019-09-26 00:00:00+03:00        in      NaN      908960   \n",
      "6216    166541 2019-09-26 00:00:00+03:00        in      NaN      908958   \n",
      "7523    166604 2019-10-31 00:00:00+03:00        in      NaN          -1   \n",
      "7528    166604 2019-11-01 00:00:00+03:00        in      NaN      893402   \n",
      "8650    166658 2019-09-24 00:00:00+03:00        in      NaN      890404   \n",
      "9080    166658 2019-10-15 00:00:00+03:00        in      NaN      890404   \n",
      "15046   166884 2019-08-30 00:00:00+03:00        in      NaN          -1   \n",
      "15055   166884 2019-09-02 00:00:00+03:00        in      NaN          -1   \n",
      "15093   166884 2019-09-17 00:00:00+03:00        in      NaN          -1   \n",
      "15136   166884 2019-10-16 00:00:00+03:00        in      NaN          -1   \n",
      "16180   166916 2019-10-01 00:00:00+03:00        in      NaN      906396   \n",
      "16304   166916 2019-10-07 00:00:00+03:00        in      NaN      906406   \n",
      "16569   166916 2019-10-23 00:00:00+03:00        in      NaN      906400   \n",
      "18647   166983 2019-09-02 00:00:00+03:00        in      NaN      901880   \n",
      "19497   166983 2019-11-14 00:00:00+03:00        in      NaN      901880   \n",
      "19970   166997 2019-09-21 00:00:00+03:00        in      NaN      903312   \n",
      "\n",
      "       is_missed_call  calls_count  call_duration  total_call_duration  \n",
      "1007             True            1              0                   59  \n",
      "1090             True            1              0                    1  \n",
      "1864             True            1              0                   36  \n",
      "1924            False            1              2                    9  \n",
      "6210            False            1            393                  423  \n",
      "6216            False            2            547                  612  \n",
      "7523             True            1              0                    5  \n",
      "7528            False            1             94                  117  \n",
      "8650            False            1            150                  157  \n",
      "9080            False            1             51                   57  \n",
      "15046            True           36              0                    4  \n",
      "15055            True            7              0                    2  \n",
      "15093            True           21              0                    9  \n",
      "15136            True           15              0                   10  \n",
      "16180           False            1            100                  117  \n",
      "16304           False            3            378                  461  \n",
      "16569           False            1             81                  110  \n",
      "18647           False            1            119                  127  \n",
      "19497           False            1            208                  210  \n",
      "19970           False            1             91                  107  \n"
     ]
    }
   ],
   "source": [
    "# Revisamos los datos Ausentes que hay \n",
    "print(dataset[dataset.isnull().any(axis=1)].head(20))\n"
   ]
  },
  {
   "cell_type": "code",
   "execution_count": 15,
   "metadata": {},
   "outputs": [
    {
     "name": "stdout",
     "output_type": "stream",
     "text": [
      "operator_id\n",
      "-1        8172\n",
      "879896     128\n",
      "879898     250\n",
      "880020      22\n",
      "880022      76\n",
      "          ... \n",
      "972410       4\n",
      "972412       5\n",
      "972460       9\n",
      "973120       2\n",
      "973286       1\n",
      "Name: internal, Length: 1093, dtype: int64\n"
     ]
    }
   ],
   "source": [
    "#Revisameremos la columna internal si tiene relacion con algun operador antes de decidir que hacer con el \n",
    "dataset.loc[dataset['operator_id'] == '-1', 'internal'] = False\n",
    "print(dataset.groupby('operator_id')['internal'].count())\n"
   ]
  },
  {
   "cell_type": "markdown",
   "metadata": {},
   "source": [
    "al ver que es solo un operador que tiene relacion con los NaN y son 117 que son pocos datos ausentes procedemos a eliminarlos"
   ]
  },
  {
   "cell_type": "code",
   "execution_count": 16,
   "metadata": {},
   "outputs": [
    {
     "data": {
      "text/plain": [
       "0"
      ]
     },
     "execution_count": 16,
     "metadata": {},
     "output_type": "execute_result"
    }
   ],
   "source": [
    "# procedemos a eliminar los datos ausentes en la columna internal \n",
    "dataset = dataset.dropna(subset=['internal'])\n",
    "dataset['internal'].isna().sum()\n"
   ]
  },
  {
   "cell_type": "markdown",
   "metadata": {},
   "source": [
    "<div class=\"alert alert-block alert-success\">\n",
    "<b>Comentario del revisor (1ra Iteracion)</b> <a class=“tocSkip”></a>\n",
    "\n",
    "Muy bien realizada la exploración inicial y la limpieza de los datos, este paso es clave en cada análisis para que las métricas sean lo más acertadas posible\n",
    "</div>"
   ]
  },
  {
   "cell_type": "markdown",
   "metadata": {},
   "source": [
    "# Analisis Exploratorio"
   ]
  },
  {
   "cell_type": "code",
   "execution_count": 17,
   "metadata": {},
   "outputs": [
    {
     "data": {
      "text/plain": [
       "operator_id\n",
       "-1        8172\n",
       "879896     128\n",
       "879898     250\n",
       "880020      22\n",
       "880022      76\n",
       "          ... \n",
       "972410       4\n",
       "972412       5\n",
       "972460       9\n",
       "973120       2\n",
       "973286       1\n",
       "Name: is_missed_call, Length: 1093, dtype: int64"
      ]
     },
     "execution_count": 17,
     "metadata": {},
     "output_type": "execute_result"
    }
   ],
   "source": [
    "# Contar el total de llamadas por operador\n",
    "total_calls = dataset.groupby(\"operator_id\")[\"is_missed_call\"].count()\n",
    "total_calls\n"
   ]
  },
  {
   "cell_type": "code",
   "execution_count": 18,
   "metadata": {},
   "outputs": [
    {
     "data": {
      "text/plain": [
       "operator_id\n",
       "-1        8050\n",
       "879896      50\n",
       "879898     100\n",
       "880020       7\n",
       "880022      33\n",
       "          ... \n",
       "972410       2\n",
       "972412       2\n",
       "972460       3\n",
       "973120       1\n",
       "973286       0\n",
       "Name: is_missed_call, Length: 1093, dtype: int64"
      ]
     },
     "execution_count": 18,
     "metadata": {},
     "output_type": "execute_result"
    }
   ],
   "source": [
    "# Contar las llamadas perdidas por operador (is_missed_call == True)\n",
    "missed_calls = dataset.groupby(\"operator_id\")[\"is_missed_call\"].sum()\n",
    "missed_calls"
   ]
  },
  {
   "cell_type": "code",
   "execution_count": 19,
   "metadata": {},
   "outputs": [
    {
     "data": {
      "text/html": [
       "<div>\n",
       "<style scoped>\n",
       "    .dataframe tbody tr th:only-of-type {\n",
       "        vertical-align: middle;\n",
       "    }\n",
       "\n",
       "    .dataframe tbody tr th {\n",
       "        vertical-align: top;\n",
       "    }\n",
       "\n",
       "    .dataframe thead th {\n",
       "        text-align: right;\n",
       "    }\n",
       "</style>\n",
       "<table border=\"1\" class=\"dataframe\">\n",
       "  <thead>\n",
       "    <tr style=\"text-align: right;\">\n",
       "      <th></th>\n",
       "      <th>operator_id</th>\n",
       "      <th>missed_calls_percentage</th>\n",
       "    </tr>\n",
       "  </thead>\n",
       "  <tbody>\n",
       "    <tr>\n",
       "      <th>0</th>\n",
       "      <td>-1</td>\n",
       "      <td>98.507097</td>\n",
       "    </tr>\n",
       "    <tr>\n",
       "      <th>1</th>\n",
       "      <td>879896</td>\n",
       "      <td>39.062500</td>\n",
       "    </tr>\n",
       "    <tr>\n",
       "      <th>2</th>\n",
       "      <td>879898</td>\n",
       "      <td>40.000000</td>\n",
       "    </tr>\n",
       "    <tr>\n",
       "      <th>3</th>\n",
       "      <td>880020</td>\n",
       "      <td>31.818182</td>\n",
       "    </tr>\n",
       "    <tr>\n",
       "      <th>4</th>\n",
       "      <td>880022</td>\n",
       "      <td>43.421053</td>\n",
       "    </tr>\n",
       "    <tr>\n",
       "      <th>...</th>\n",
       "      <td>...</td>\n",
       "      <td>...</td>\n",
       "    </tr>\n",
       "    <tr>\n",
       "      <th>1088</th>\n",
       "      <td>972410</td>\n",
       "      <td>50.000000</td>\n",
       "    </tr>\n",
       "    <tr>\n",
       "      <th>1089</th>\n",
       "      <td>972412</td>\n",
       "      <td>40.000000</td>\n",
       "    </tr>\n",
       "    <tr>\n",
       "      <th>1090</th>\n",
       "      <td>972460</td>\n",
       "      <td>33.333333</td>\n",
       "    </tr>\n",
       "    <tr>\n",
       "      <th>1091</th>\n",
       "      <td>973120</td>\n",
       "      <td>50.000000</td>\n",
       "    </tr>\n",
       "    <tr>\n",
       "      <th>1092</th>\n",
       "      <td>973286</td>\n",
       "      <td>0.000000</td>\n",
       "    </tr>\n",
       "  </tbody>\n",
       "</table>\n",
       "<p>1093 rows × 2 columns</p>\n",
       "</div>"
      ],
      "text/plain": [
       "     operator_id  missed_calls_percentage\n",
       "0             -1                98.507097\n",
       "1         879896                39.062500\n",
       "2         879898                40.000000\n",
       "3         880020                31.818182\n",
       "4         880022                43.421053\n",
       "...          ...                      ...\n",
       "1088      972410                50.000000\n",
       "1089      972412                40.000000\n",
       "1090      972460                33.333333\n",
       "1091      973120                50.000000\n",
       "1092      973286                 0.000000\n",
       "\n",
       "[1093 rows x 2 columns]"
      ]
     },
     "execution_count": 19,
     "metadata": {},
     "output_type": "execute_result"
    }
   ],
   "source": [
    "# Calcular el porcentaje de llamadas perdidas por operador\n",
    "missed_calls_percentage = (missed_calls / total_calls) * 100\n",
    "\n",
    "# Convertir a DataFrame para mejor visualización\n",
    "missed_calls_percentage = missed_calls_percentage.reset_index()\n",
    "missed_calls_percentage.columns = [\"operator_id\", \"missed_calls_percentage\"]\n",
    "\n",
    "missed_calls_percentage\n",
    "\n"
   ]
  },
  {
   "cell_type": "code",
   "execution_count": 20,
   "metadata": {},
   "outputs": [
    {
     "name": "stdout",
     "output_type": "stream",
     "text": [
      "     operator_id  missed_calls_percentage\n",
      "688       937710                    100.0\n",
      "28        885682                    100.0\n",
      "1068      969284                    100.0\n",
      "571       928284                    100.0\n",
      "1065      969262                    100.0\n",
      "1042      962904                    100.0\n",
      "387       914626                    100.0\n",
      "382       914272                    100.0\n",
      "618       932246                    100.0\n",
      "667       936296                    100.0\n"
     ]
    }
   ],
   "source": [
    "# Mostrar los primeros resultados que han tenido 100% llamadas perdidas\n",
    "print(missed_calls_percentage.sort_values(by=\"missed_calls_percentage\", ascending=False).head(10))"
   ]
  },
  {
   "cell_type": "markdown",
   "metadata": {},
   "source": [
    "\n",
    "🔹 Explicación:\n",
    "\n",
    "Agrupamos por \"operator_id\" y contamos todas las llamadas.\n",
    "\n",
    "Sumamos las llamadas donde \"is_missed_call\" es True.\n",
    "\n",
    "Calculamos el porcentaje dividiendo llamadas perdidas entre el total.\n",
    "\n",
    "Ordenamos los operadores con mayor porcentaje de llamadas perdidas.\n"
   ]
  },
  {
   "cell_type": "code",
   "execution_count": 21,
   "metadata": {},
   "outputs": [
    {
     "name": "stdout",
     "output_type": "stream",
     "text": [
      "Número de operadores únicos: 1093\n"
     ]
    }
   ],
   "source": [
    "# Contar el número de operadores únicos en la columna 'operator_id'\n",
    "operator_count = dataset['operator_id'].nunique()\n",
    "\n",
    "print(\"Número de operadores únicos:\", operator_count)\n"
   ]
  },
  {
   "cell_type": "code",
   "execution_count": 22,
   "metadata": {},
   "outputs": [
    {
     "name": "stdout",
     "output_type": "stream",
     "text": [
      "operator_id                34\n",
      "missed_calls_percentage    34\n",
      "dtype: int64\n"
     ]
    }
   ],
   "source": [
    "# Filtrar operadores con 100% de llamadas perdidas\n",
    "full_missed_calls = missed_calls_percentage[missed_calls_percentage['missed_calls_percentage'] == 100]\n",
    "print(full_missed_calls.count())"
   ]
  },
  {
   "cell_type": "markdown",
   "metadata": {},
   "source": [
    "vemos que hay 34 operadores que tienen 100% de llamadas perdidas quiere decir que no atendieron ninguna llamada "
   ]
  },
  {
   "cell_type": "code",
   "execution_count": 23,
   "metadata": {},
   "outputs": [
    {
     "name": "stdout",
     "output_type": "stream",
     "text": [
      "     operator_id  missed_calls_percentage\n",
      "0             -1                98.507097\n",
      "16        883018               100.000000\n",
      "28        885682               100.000000\n",
      "93        891976               100.000000\n",
      "161       899076               100.000000\n",
      "248       905308               100.000000\n",
      "254       905480               100.000000\n",
      "325       909308               100.000000\n",
      "382       914272               100.000000\n",
      "387       914626               100.000000\n",
      "457       919418               100.000000\n",
      "529       924572               100.000000\n",
      "570       928282               100.000000\n",
      "571       928284               100.000000\n",
      "618       932246               100.000000\n",
      "667       936296               100.000000\n",
      "688       937710               100.000000\n",
      "689       937716               100.000000\n",
      "698       937770               100.000000\n",
      "699       937772               100.000000\n",
      "701       937778               100.000000\n",
      "716       937872               100.000000\n",
      "810       941826               100.000000\n",
      "842       945074               100.000000\n",
      "868       945898               100.000000\n",
      "875       946454               100.000000\n",
      "971       954284               100.000000\n",
      "983       955068               100.000000\n",
      "1012      958458               100.000000\n",
      "1031      960674               100.000000\n",
      "1042      962904               100.000000\n",
      "1065      969262               100.000000\n",
      "1068      969284               100.000000\n",
      "1078      970250               100.000000\n",
      "1081      970258               100.000000\n"
     ]
    }
   ],
   "source": [
    "# Ver los operadores con más de 90% de llamadas perdidas\n",
    "high_missed_calls = missed_calls_percentage[missed_calls_percentage['missed_calls_percentage'] > 90]\n",
    "print(high_missed_calls)"
   ]
  },
  {
   "cell_type": "markdown",
   "metadata": {},
   "source": [
    "y 1 operador llego a tener que es el de datos ausentes que es desconocido(-1) fue 98% de llamadas perdidas."
   ]
  },
  {
   "cell_type": "code",
   "execution_count": 24,
   "metadata": {},
   "outputs": [],
   "source": [
    "# Agregar una condición para filtrar por cantidad de llamadas\n",
    "operator_call_counts = dataset['operator_id'].value_counts()\n",
    "significant_operators = operator_call_counts[operator_call_counts > 10].index\n",
    "filtered_data = missed_calls_percentage[missed_calls_percentage.index.isin(significant_operators)]\n",
    "\n"
   ]
  },
  {
   "cell_type": "code",
   "execution_count": 25,
   "metadata": {},
   "outputs": [
    {
     "data": {
      "image/png": "[encoded data removed]",
      "text/plain": [
       "<Figure size 1000x600 with 1 Axes>"
      ]
     },
     "metadata": {},
     "output_type": "display_data"
    }
   ],
   "source": [
    "# Asegúrate de que missed_calls_percentage esté ordenado previamente\n",
    "top_10_missed_calls = missed_calls_percentage.sort_values(by=\"missed_calls_percentage\", ascending=False).head(40)\n",
    "\n",
    "# Crear gráfico de barras\n",
    "plt.figure(figsize=(10,6))\n",
    "\n",
    "# Corregir el warning asignando hue=\"operator_id\" y desactivando la leyenda\n",
    "sns.barplot(\n",
    "    data=top_10_missed_calls.reset_index(),  # Resetear índice para evitar problemas con .index\n",
    "    x=\"operator_id\", \n",
    "    y=\"missed_calls_percentage\", \n",
    "    hue=\"operator_id\",  # Se asigna hue para diferenciar colores\n",
    "    palette=\"viridis\",  \n",
    "    legend=False  # Desactiva la leyenda para evitar redundancia\n",
    ")\n",
    "\n",
    "# Añadir etiquetas y título\n",
    "plt.title('Top 40 Operadores con Mayor Porcentaje de Llamadas Perdidas', fontsize=14)\n",
    "plt.xlabel('Operator ID', fontsize=12)\n",
    "plt.ylabel('Porcentaje de Llamadas Perdidas', fontsize=12)\n",
    "plt.xticks(rotation=45)  # Rotar los nombres de los operadores si es necesario\n",
    "\n",
    "# Mostrar gráfico\n",
    "plt.tight_layout()\n",
    "plt.show()\n"
   ]
  },
  {
   "cell_type": "markdown",
   "metadata": {},
   "source": [
    "en el Grafico mostramos a todo los operadores con 100 % que no tuvieron una llamada y fueron llamadas perdidas y uno con 98% que fue el que se tubo como operador -1 ya que contaba con NAN y los que le siguen son los que tienen menos de 90%"
   ]
  },
  {
   "cell_type": "code",
   "execution_count": 26,
   "metadata": {},
   "outputs": [
    {
     "data": {
      "image/png": "[encoded data removed]",
      "text/plain": [
       "<Figure size 1000x600 with 1 Axes>"
      ]
     },
     "metadata": {},
     "output_type": "display_data"
    }
   ],
   "source": [
    "# Configurar el tamaño del gráfico\n",
    "plt.figure(figsize=(10, 6))\n",
    "\n",
    "# Crear el histograma\n",
    "sns.histplot(missed_calls_percentage['missed_calls_percentage'], bins=30, kde=False, color='skyblue')\n",
    "\n",
    "# Añadir etiquetas y título\n",
    "plt.title('Distribución del Porcentaje de Llamadas Perdidas', fontsize=14)\n",
    "plt.xlabel('Porcentaje de Llamadas Perdidas', fontsize=12)\n",
    "plt.ylabel('Frecuencia de Operadores', fontsize=12)\n",
    "\n",
    "# Mostrar el gráfico\n",
    "plt.show()"
   ]
  },
  {
   "cell_type": "markdown",
   "metadata": {},
   "source": [
    "**Operadores con bajo porcentaje de llamadas perdidas:** \n",
    "\n",
    "- en la grafica de dispersion vemos que la primera barra (cerca de 0%) es muy alta, lo que significa que muchos operadores casi no pierden llamadas en En cambio, la barra en 100% muestra que hay algunos operadores que perdieron todas sus llamada y los puntos mas alto que esta "
   ]
  },
  {
   "cell_type": "markdown",
   "metadata": {},
   "source": [
    "<div class=\"alert alert-block alert-danger\">\n",
    "<b>Comentario del revisor (1ra Iteracion)</b> <a class=“tocSkip”></a>\n",
    "\n",
    "Está correcto mostrar la gráfica para los 40 operadores con más llamadas perdidas para explorar esa métrica a detalle, pero para que puedas mostrar algo más general en todo el dataset también te recomendaría añadir alguna gráfica más general cómo mostrar un histograma para la cantidad de llamadas perdidas y así ver la distribución de los valores de esta métrica\n",
    "</div>"
   ]
  },
  {
   "cell_type": "markdown",
   "metadata": {},
   "source": [
    "<div class=\"alert alert-block alert-info\">\n",
    "<b>Listo ya quedo añadida la grafica de Histograma</b> <a class=“tocSkip”></a>\n",
    "</div>"
   ]
  },
  {
   "cell_type": "markdown",
   "metadata": {},
   "source": [
    "<div class=\"alert alert-block alert-success\">\n",
    "<b>Comentario del revisor (2da Iteracion)</b> <a class=“tocSkip”></a>\n",
    "\n",
    "Muy bien, así se puede analizar mucho mejor la métrica en cuestión\n",
    "</div>"
   ]
  },
  {
   "cell_type": "markdown",
   "metadata": {},
   "source": [
    "**Gráfico de Caja (Boxplot): Distribución de la Duración de las Llamadas**"
   ]
  },
  {
   "cell_type": "code",
   "execution_count": 27,
   "metadata": {},
   "outputs": [
    {
     "data": {
      "image/png": "[encoded data removed]",
      "text/plain": [
       "<Figure size 1000x600 with 1 Axes>"
      ]
     },
     "metadata": {},
     "output_type": "display_data"
    }
   ],
   "source": [
    "# Configurar el tamaño del gráfico\n",
    "plt.figure(figsize=(10, 6))\n",
    "\n",
    "# Crear el boxplot para la duración de las llamadas\n",
    "sns.boxplot(x=dataset['call_duration'], color='skyblue')\n",
    "\n",
    "# Añadir título y etiquetas\n",
    "plt.title('Distribución de la Duración de las Llamadas', fontsize=14)\n",
    "plt.xlabel('Duración de la Llamada (segundos)', fontsize=12)\n",
    "plt.ylabel('Frecuencia', fontsize=12)\n",
    "\n",
    "# Mostrar el gráfico\n",
    "plt.show()"
   ]
  },
  {
   "cell_type": "markdown",
   "metadata": {},
   "source": [
    "**Gráfico de Dispersión (Scatter Plot): Relación entre Tiempo de Espera y Porcentaje de Llamadas Perdidas**\n",
    "\n",
    "La mayoría de las llamadas son cortas, pero hay valores atípicos (llamadas extremadamente largas) que podrían ser errores o casos especiales.\n",
    "\n",
    "Recomendación: Investigar las llamadas largas para determinar si son errores o si requieren atención especial."
   ]
  },
  {
   "cell_type": "code",
   "execution_count": 28,
   "metadata": {},
   "outputs": [
    {
     "name": "stderr",
     "output_type": "stream",
     "text": [
      "C:\\Users\\elpid\\AppData\\Local\\Temp\\ipykernel_25372\\4095264147.py:2: SettingWithCopyWarning: \n",
      "A value is trying to be set on a copy of a slice from a DataFrame.\n",
      "Try using .loc[row_indexer,col_indexer] = value instead\n",
      "\n",
      "See the caveats in the documentation: https://pandas.pydata.org/pandas-docs/stable/user_guide/indexing.html#returning-a-view-versus-a-copy\n",
      "  dataset.loc[:, 'wait_time'] = dataset['total_call_duration'] - dataset['call_duration']\n"
     ]
    },
    {
     "data": {
      "image/png": "[encoded data removed]",
      "text/plain": [
       "<Figure size 1000x600 with 1 Axes>"
      ]
     },
     "metadata": {},
     "output_type": "display_data"
    }
   ],
   "source": [
    "# Calcular el tiempo de espera promedio por operador\n",
    "dataset.loc[:, 'wait_time'] = dataset['total_call_duration'] - dataset['call_duration']\n",
    "\n",
    "# Agrupar por operador y calcular el porcentaje de llamadas perdidas y el tiempo de espera promedio\n",
    "operator_metrics = dataset.groupby('operator_id').agg(\n",
    "    missed_call_percentage=('is_missed_call', 'mean'),\n",
    "    average_wait_time=('wait_time', 'mean')\n",
    ").reset_index()\n",
    "\n",
    "# Configurar el tamaño del gráfico\n",
    "plt.figure(figsize=(10, 6))\n",
    "\n",
    "# Crear el scatter plot\n",
    "sns.scatterplot(\n",
    "    x=operator_metrics['average_wait_time'],\n",
    "    y=operator_metrics['missed_call_percentage'] * 100,  # Convertir a porcentaje\n",
    "    color='blue',\n",
    "    alpha=0.6  # Transparencia para mejorar la visualización\n",
    ")\n",
    "\n",
    "# Añadir título y etiquetas\n",
    "plt.title('Relación entre Tiempo de Espera y Porcentaje de Llamadas Perdidas', fontsize=14)\n",
    "plt.xlabel('Tiempo de Espera Promedio (segundos)', fontsize=12)\n",
    "plt.ylabel('Porcentaje de Llamadas Perdidas (%)', fontsize=12)\n",
    "\n",
    "# Mostrar el gráfico\n",
    "plt.show()"
   ]
  },
  {
   "cell_type": "markdown",
   "metadata": {},
   "source": [
    "Scatter Plot:\n",
    "\n",
    "Hay una tendencia positiva entre el tiempo de espera y el porcentaje de llamadas perdidas.\n",
    "\n",
    "Recomendación: Reducir el tiempo de espera podría ayudar a disminuir las llamadas perdidas, pero también es importante investigar por qué algunos operadores con tiempos de espera bajos tienen un alto porcentaje de llamadas perdidas."
   ]
  },
  {
   "cell_type": "markdown",
   "metadata": {},
   "source": [
    "# Sugerencia #1"
   ]
  },
  {
   "cell_type": "markdown",
   "metadata": {},
   "source": [
    "## Traza un histograma para la duración de la llamada"
   ]
  },
  {
   "cell_type": "code",
   "execution_count": 29,
   "metadata": {},
   "outputs": [
    {
     "data": {
      "text/html": [
       "<div>\n",
       "<style scoped>\n",
       "    .dataframe tbody tr th:only-of-type {\n",
       "        vertical-align: middle;\n",
       "    }\n",
       "\n",
       "    .dataframe tbody tr th {\n",
       "        vertical-align: top;\n",
       "    }\n",
       "\n",
       "    .dataframe thead th {\n",
       "        text-align: right;\n",
       "    }\n",
       "</style>\n",
       "<table border=\"1\" class=\"dataframe\">\n",
       "  <thead>\n",
       "    <tr style=\"text-align: right;\">\n",
       "      <th></th>\n",
       "      <th>user_id</th>\n",
       "      <th>date</th>\n",
       "      <th>direction</th>\n",
       "      <th>internal</th>\n",
       "      <th>operator_id</th>\n",
       "      <th>is_missed_call</th>\n",
       "      <th>calls_count</th>\n",
       "      <th>call_duration</th>\n",
       "      <th>total_call_duration</th>\n",
       "      <th>wait_time</th>\n",
       "    </tr>\n",
       "  </thead>\n",
       "  <tbody>\n",
       "    <tr>\n",
       "      <th>0</th>\n",
       "      <td>166377</td>\n",
       "      <td>2019-08-04 00:00:00+03:00</td>\n",
       "      <td>in</td>\n",
       "      <td>False</td>\n",
       "      <td>-1</td>\n",
       "      <td>True</td>\n",
       "      <td>2</td>\n",
       "      <td>0</td>\n",
       "      <td>4</td>\n",
       "      <td>4</td>\n",
       "    </tr>\n",
       "    <tr>\n",
       "      <th>1</th>\n",
       "      <td>166377</td>\n",
       "      <td>2019-08-05 00:00:00+03:00</td>\n",
       "      <td>out</td>\n",
       "      <td>True</td>\n",
       "      <td>880022</td>\n",
       "      <td>True</td>\n",
       "      <td>3</td>\n",
       "      <td>0</td>\n",
       "      <td>5</td>\n",
       "      <td>5</td>\n",
       "    </tr>\n",
       "    <tr>\n",
       "      <th>2</th>\n",
       "      <td>166377</td>\n",
       "      <td>2019-08-05 00:00:00+03:00</td>\n",
       "      <td>out</td>\n",
       "      <td>True</td>\n",
       "      <td>880020</td>\n",
       "      <td>True</td>\n",
       "      <td>1</td>\n",
       "      <td>0</td>\n",
       "      <td>1</td>\n",
       "      <td>1</td>\n",
       "    </tr>\n",
       "    <tr>\n",
       "      <th>3</th>\n",
       "      <td>166377</td>\n",
       "      <td>2019-08-05 00:00:00+03:00</td>\n",
       "      <td>out</td>\n",
       "      <td>True</td>\n",
       "      <td>880020</td>\n",
       "      <td>False</td>\n",
       "      <td>1</td>\n",
       "      <td>10</td>\n",
       "      <td>18</td>\n",
       "      <td>8</td>\n",
       "    </tr>\n",
       "    <tr>\n",
       "      <th>4</th>\n",
       "      <td>166377</td>\n",
       "      <td>2019-08-05 00:00:00+03:00</td>\n",
       "      <td>out</td>\n",
       "      <td>False</td>\n",
       "      <td>880022</td>\n",
       "      <td>True</td>\n",
       "      <td>3</td>\n",
       "      <td>0</td>\n",
       "      <td>25</td>\n",
       "      <td>25</td>\n",
       "    </tr>\n",
       "  </tbody>\n",
       "</table>\n",
       "</div>"
      ],
      "text/plain": [
       "   user_id                      date direction internal operator_id  \\\n",
       "0   166377 2019-08-04 00:00:00+03:00        in    False          -1   \n",
       "1   166377 2019-08-05 00:00:00+03:00       out     True      880022   \n",
       "2   166377 2019-08-05 00:00:00+03:00       out     True      880020   \n",
       "3   166377 2019-08-05 00:00:00+03:00       out     True      880020   \n",
       "4   166377 2019-08-05 00:00:00+03:00       out    False      880022   \n",
       "\n",
       "   is_missed_call  calls_count  call_duration  total_call_duration  wait_time  \n",
       "0            True            2              0                    4          4  \n",
       "1            True            3              0                    5          5  \n",
       "2            True            1              0                    1          1  \n",
       "3           False            1             10                   18          8  \n",
       "4            True            3              0                   25         25  "
      ]
     },
     "execution_count": 29,
     "metadata": {},
     "output_type": "execute_result"
    }
   ],
   "source": [
    "dataset.head()\n"
   ]
  },
  {
   "cell_type": "code",
   "execution_count": 30,
   "metadata": {},
   "outputs": [
    {
     "data": {
      "image/png": "[encoded data removed]",
      "text/plain": [
       "<Figure size 1000x600 with 1 Axes>"
      ]
     },
     "metadata": {},
     "output_type": "display_data"
    }
   ],
   "source": [
    "# Asegurar que los datos sean numéricos\n",
    "call_durations = dataset[\"call_duration\"].astype(float)\n",
    "\n",
    "# Graficar el histograma\n",
    "plt.figure(figsize=(10, 6))\n",
    "sns.histplot(call_durations, bins=30, kde=False, color=\"skyblue\")\n",
    "\n",
    "# Agregar etiquetas y título\n",
    "plt.title(\"Histograma de Duración de Llamadas\", fontsize=14)\n",
    "plt.xlabel(\"Duración de la Llamada (segundos)\", fontsize=12)\n",
    "plt.ylabel(\"Frecuencia\", fontsize=12)\n",
    "\n",
    "# Mostrar gráfico\n",
    "plt.show()"
   ]
  },
  {
   "cell_type": "markdown",
   "metadata": {},
   "source": [
    "📌 Análisis:\n",
    "\n",
    "Este histograma muestra la distribución de la duración de las llamadas en segundos. La mayoría de las llamadas tienen una duración baja, lo que puede indicar que muchas interacciones son breves. Sin embargo, es importante observar si hay valores atípicos con duraciones extremadamente largas, ya que podrían influir en el desempeño de los operadores. Además, si la mayoría de las llamadas perdidas tienen una duración de 0 segundos, esto confirmaría problemas de respuesta por parte de los operadores ineficaces."
   ]
  },
  {
   "cell_type": "markdown",
   "metadata": {},
   "source": [
    "## Traza un gráfico circular que muestre la participación de las llamadas internas y externas"
   ]
  },
  {
   "cell_type": "code",
   "execution_count": 31,
   "metadata": {},
   "outputs": [
    {
     "data": {
      "image/png": "[encoded data removed]",
      "text/plain": [
       "<Figure size 800x800 with 1 Axes>"
      ]
     },
     "metadata": {},
     "output_type": "display_data"
    }
   ],
   "source": [
    "# Contar las llamadas internas y externas\n",
    "call_directions = dataset['direction'].value_counts()\n",
    "\n",
    "# Traza el gráfico circular\n",
    "plt.figure(figsize=(8, 8))\n",
    "plt.pie(call_directions, labels=call_directions.index, autopct='%1.1f%%', colors=['skyblue', 'lightgreen'], startangle=90)\n",
    "\n",
    "# Agregar título\n",
    "plt.title('Participación de Llamadas Internas y Externas', fontsize=14)\n",
    "\n",
    "# Mostrar el gráfico\n",
    "plt.show()\n"
   ]
  },
  {
   "cell_type": "markdown",
   "metadata": {},
   "source": [
    "📌 Análisis:\n",
    "\n",
    "Este gráfico circular permite visualizar la proporción entre llamadas internas (realizadas entre operadores de la misma empresa) y externas (hechas a clientes o recibidas de ellos).\n",
    "\n",
    "Si el porcentaje de llamadas internas es alto, podría indicar que los operadores necesitan comunicarse con frecuencia entre sí antes de atender a los clientes, lo que puede generar retrasos en el servicio.\n",
    "Si el porcentaje de llamadas externas es mayor, significa que la mayor parte del tráfico telefónico proviene de clientes o contactos fuera de la empresa, lo que es clave para evaluar la eficiencia en la gestión de la atención al público."
   ]
  },
  {
   "cell_type": "markdown",
   "metadata": {},
   "source": [
    "<div class=\"alert alert-block alert-success\">\n",
    "<b>Comentario del revisor (1ra Iteracion)</b> <a class=“tocSkip”></a>\n",
    "\n",
    "Correcto, esta última sección está muy bien realizada con el histograma y el pie chart.\n",
    "</div>"
   ]
  },
  {
   "cell_type": "markdown",
   "metadata": {},
   "source": [
    "## Agrega un filtro para la \"dirección\" de llamadas"
   ]
  },
  {
   "cell_type": "code",
   "execution_count": 32,
   "metadata": {},
   "outputs": [],
   "source": [
    "# Filtrar llamadas entrantes\n",
    "incoming_calls = dataset[dataset[\"direction\"] == \"in\"]\n",
    "\n",
    "# Filtrar llamadas salientes\n",
    "outgoing_calls = dataset[dataset[\"direction\"] == \"out\"]\n"
   ]
  },
  {
   "cell_type": "markdown",
   "metadata": {},
   "source": [
    "Para verificar que el filtro funciona, contamos cuántas llamadas hay en cada categoría:"
   ]
  },
  {
   "cell_type": "code",
   "execution_count": 33,
   "metadata": {},
   "outputs": [
    {
     "name": "stdout",
     "output_type": "stream",
     "text": [
      "Llamadas Entrantes: 21925\n",
      "Llamadas Salientes: 31917\n"
     ]
    }
   ],
   "source": [
    "print(\"Llamadas Entrantes:\", incoming_calls.shape[0])\n",
    "print(\"Llamadas Salientes:\", outgoing_calls.shape[0])\n"
   ]
  },
  {
   "cell_type": "code",
   "execution_count": 34,
   "metadata": {},
   "outputs": [
    {
     "data": {
      "image/png": "[encoded data removed]",
      "text/plain": [
       "<Figure size 800x500 with 1 Axes>"
      ]
     },
     "metadata": {},
     "output_type": "display_data"
    }
   ],
   "source": [
    "# Contar llamadas entrantes y salientes\n",
    "call_counts = dataset[\"direction\"].value_counts().reset_index()\n",
    "call_counts.columns = [\"direction\", \"count\"]\n",
    "\n",
    "# Crear gráfico de barras con el nuevo método\n",
    "plt.figure(figsize=(8, 5))\n",
    "sns.barplot(data=call_counts, x=\"direction\", y=\"count\", hue=\"direction\", palette=[\"skyblue\", \"lightcoral\"], legend=False)\n",
    "\n",
    "# Agregar etiquetas y título\n",
    "plt.title(\"Cantidad de Llamadas Entrantes y Salientes\", fontsize=14)\n",
    "plt.xlabel(\"Tipo de Llamada\", fontsize=12)\n",
    "plt.ylabel(\"Número de Llamadas\", fontsize=12)\n",
    "\n",
    "# Mostrar valores sobre las barras\n",
    "for i, v in enumerate(call_counts[\"count\"]):\n",
    "    plt.text(i, v + 50, str(v), ha='center', fontsize=12)\n",
    "\n",
    "plt.show()\n"
   ]
  },
  {
   "cell_type": "markdown",
   "metadata": {},
   "source": [
    "📌 Análisis:\n",
    "\n",
    "Este gráfico de barras muestra la cantidad total de llamadas entrantes (\"in\") y salientes (\"out\") en el sistema.\n",
    "\n",
    "Si hay muchas llamadas entrantes, puede indicar que la empresa recibe un alto volumen de consultas de clientes, lo que hace crucial una gestión eficiente del tiempo de respuesta.\n",
    "Si hay pocas llamadas salientes, podría sugerir que los operadores no están realizando suficientes llamadas proactivas, lo que puede afectar la calidad del servicio o la conversión de clientes.\n",
    "Además, si los operadores responsables de hacer llamadas salientes tienen un bajo número de llamadas, esto puede ser un indicio de ineficacia en su desempeño."
   ]
  },
  {
   "cell_type": "markdown",
   "metadata": {},
   "source": [
    "## ¿Cómo Encontrar los Operadores Ineficientes?"
   ]
  },
  {
   "cell_type": "code",
   "execution_count": 35,
   "metadata": {},
   "outputs": [
    {
     "name": "stdout",
     "output_type": "stream",
     "text": [
      "0\n"
     ]
    }
   ],
   "source": [
    "print(dataset[\"total_call_duration\"].isna().sum())"
   ]
  },
  {
   "cell_type": "code",
   "execution_count": 36,
   "metadata": {},
   "outputs": [
    {
     "name": "stdout",
     "output_type": "stream",
     "text": [
      "Número de operadores únicos: 1093\n"
     ]
    }
   ],
   "source": [
    "# Contar el número de operadores únicos en la columna 'operator_id'\n",
    "operator_count = dataset['operator_id'].nunique()\n",
    "\n",
    "print(\"Número de operadores únicos:\", operator_count)"
   ]
  },
  {
   "cell_type": "code",
   "execution_count": 37,
   "metadata": {},
   "outputs": [
    {
     "name": "stdout",
     "output_type": "stream",
     "text": [
      "Operadores Ineficientes:\n",
      "     operator_id  is_missed_call  average_wait_time  calls_count\n",
      "325       909308      100.000000         116.333333         15.0\n",
      "618       932246      100.000000          60.000000          1.0\n",
      "1042      962904      100.000000          43.000000          2.0\n",
      "698       937770      100.000000          37.000000          1.0\n",
      "667       936296      100.000000          34.666667          4.0\n",
      "...          ...             ...                ...          ...\n",
      "497       921316       51.219512          16.585366         87.0\n",
      "754       939684       51.111111          48.888889        142.0\n",
      "107       893674       51.086957         556.554348       2701.0\n",
      "95        892028       50.704225         392.338028       1554.0\n",
      "852       945296       50.617284         649.271605       2821.0\n",
      "\n",
      "[155 rows x 4 columns]\n"
     ]
    }
   ],
   "source": [
    "# 1. Calcular el porcentaje de llamadas perdidas por operador\n",
    "missed_calls_by_operator = dataset.groupby(\"operator_id\")[\"is_missed_call\"].mean().mul(100).reset_index()\n",
    "\n",
    "# 2. Calcular el tiempo promedio de espera antes de atender\n",
    "wait_times = dataset.groupby(\"operator_id\")[[\"total_call_duration\", \"call_duration\"]].mean().reset_index()\n",
    "wait_times[\"average_wait_time\"] = wait_times[\"total_call_duration\"] - wait_times[\"call_duration\"]\n",
    "wait_times = wait_times.drop(columns=[\"total_call_duration\", \"call_duration\"])  # Solo dejamos average_wait_time\n",
    "\n",
    "# 3. Contar la cantidad de llamadas salientes por operador\n",
    "outgoing_calls = dataset[dataset[\"direction\"] == \"out\"].groupby(\"operator_id\")[\"calls_count\"].sum().reset_index()\n",
    "\n",
    "# 4. Unir todas las métricas en un solo DataFrame\n",
    "inefficient_operators = (\n",
    "    missed_calls_by_operator\n",
    "    .merge(wait_times, on=\"operator_id\", how=\"left\")\n",
    "    .merge(outgoing_calls, on=\"operator_id\", how=\"left\")\n",
    "    .fillna(0)  # Reemplazar valores NaN con 0\n",
    ")\n",
    "\n",
    "# 5. Filtrar operadores ineficientes: alto % de llamadas perdidas (>50%) y alto tiempo de espera\n",
    "inefficient_operators = inefficient_operators[inefficient_operators[\"is_missed_call\"] > 50]\n",
    "\n",
    "# 6. Ordenar por porcentaje de llamadas perdidas y tiempo de espera\n",
    "inefficient_operators = inefficient_operators.sort_values(by=[\"is_missed_call\", \"average_wait_time\"], ascending=False)\n",
    "\n",
    "# Mostrar los operadores ineficientes\n",
    "print(\"Operadores Ineficientes:\")\n",
    "print(inefficient_operators)\n"
   ]
  },
  {
   "cell_type": "markdown",
   "metadata": {},
   "source": [
    "Enfoque en el 100% de Llamadas Perdidas:\n",
    "\n",
    "En la parte superior de la tabla, vemos operadores con is_missed_call igual a 100%. Esto significa que todas las llamadas que recibieron esos operadores fueron perdidas.\n",
    "\n",
    "Es crucial investigar por qué esto sucede. Posibles razones:\n",
    "\n",
    "Problemas técnicos: Fallas en el sistema de enrutamiento de llamadas, problemas con los dispositivos de los operadores, etc.\n",
    "\n",
    "Ausencia del operador: El operador no está disponible, ya sea por razones justificadas (descanso, capacitación) o no justificadas (ausentismo, problemas de disciplina).\n",
    "\n",
    "Configuración incorrecta: Problemas en la configuración del operador en el sistema.\n",
    "\n",
    "Relación entre is_missed_call, average_wait_time, y calls_count:\n",
    "\n",
    "Es importante observar la relación entre estas tres métricas. Por ejemplo:\n",
    "\n",
    "¿Operadores con un alto porcentaje de llamadas perdidas también tienen tiempos de espera promedio altos? Si es así, esto podría indicar que los operadores están sobrecargados o que tienen dificultades para gestionar el flujo de llamadas.\n",
    "\n",
    "¿Hay operadores con muchos intentos de llamadas pero un alto tiempo de espera promedio y alto porcentaje de llamadas perdidas? Esto podría ser un problema grave.\n",
    "\n",
    "Considerar el número de llamadas:calls_count ayuda a poner en contexto las otras métricas. Un operador con un alto porcentaje de llamadas perdidas pero muy pocas llamadas totales podría no ser tan preocupante como uno con el mismo porcentaje pero con muchas más llamadas.\n",
    "\n",
    "Variabilidad en el Tiempo de Espera:\n",
    "\n",
    "El average_wait_time varía considerablemente entre los operadores. Algunos tienen tiempos de espera muy bajos, mientras que otros tienen tiempos de espera muy altos (ej., 107 893674 tiene un tiempo de espera de 556.554348).\n",
    "\n",
    "Investigar las razones de esta variabilidad podría revelar problemas en la gestión de la carga de trabajo, la capacitación de los operadores o la complejidad de las consultas que reciben.\n",
    "\n",
    "Tendencia General:\n",
    "\n",
    "A medida que avanzamos en la tabla, el is_missed_call disminuye, pero el average_wait_time y el calls_count tienden a aumentar. Esto sugiere que hay una transición entre operadores que pierden muchas llamadas (probablemente por inactividad o problemas técnicos) y operadores que atienden muchas llamadas, pero no siempre de manera eficiente."
   ]
  },
  {
   "cell_type": "markdown",
   "metadata": {},
   "source": [
    "Segmentación Adicional: Segmenta a los operadores en grupos basados en su is_missed_call y average_wait_time (ej., \"Alto Riesgo\" para operadores con alto is_missed_call y average_wait_time).\n",
    "\n",
    "Análisis de Causa Raíz: Para los operadores con un 100% de llamadas perdidas, realiza un análisis detallado de causa raíz. Revisa registros de llamadas, entrevistas con los operadores, etc.\n",
    "\n",
    "Benchmarking Interno: Compara el desempeño de los operadores \"ineficientes\" con el de los operadores \"eficientes\" para identificar las mejores prácticas.\n",
    "\n",
    "Evaluación de la Carga de Trabajo: Evalúa si algunos operadores están sistemáticamente sobrecargados en comparación con otros.\n",
    "\n",
    "Evaluación de la Capacitación: Verifica si los operadores \"ineficientes\" han recibido suficiente capacitación sobre el manejo de llamadas, el uso del sistema, y la resolución de problemas comunes."
   ]
  },
  {
   "cell_type": "markdown",
   "metadata": {},
   "source": [
    "<div class=\"alert alert-block alert-success\">\n",
    "<b>Comentario del revisor (1ra Iteracion)</b> <a class=“tocSkip”></a>\n",
    "\n",
    "Muy bien realizado el análisis, planteaste gráficas muy claras que se complementan super bien con cada comentario redactado dejando un proceso de análisis fácil y claro de seguir.\n",
    "</div>"
   ]
  },
  {
   "cell_type": "markdown",
   "metadata": {},
   "source": [
    "# Implementación de la Prueba de Hipótesis"
   ]
  },
  {
   "cell_type": "code",
   "execution_count": 38,
   "metadata": {},
   "outputs": [],
   "source": [
    "# Crear la columna de eficiencia basada en un umbral\n",
    "operator_metrics['efficiency_group'] = np.where(\n",
    "    operator_metrics['missed_call_percentage'] < 0.1, 'Eficiente', 'No Eficiente'\n",
    ")\n",
    "\n",
    "# Filtrar los datos para los grupos eficientes y no eficientes\n",
    "eficientes = operator_metrics[operator_metrics['efficiency_group'] == 'Eficiente']['missed_call_percentage']\n",
    "no_eficientes = operator_metrics[operator_metrics['efficiency_group'] == 'No Eficiente']['missed_call_percentage']"
   ]
  },
  {
   "cell_type": "markdown",
   "metadata": {},
   "source": [
    "Verificar la Normalidad de los Datos\n",
    "\n",
    "Antes de aplicar la prueba t, es importante verificar si los datos siguen una distribución normal. Puedes usar la prueba de Shapiro-Wilk para esto."
   ]
  },
  {
   "cell_type": "code",
   "execution_count": 39,
   "metadata": {},
   "outputs": [
    {
     "name": "stdout",
     "output_type": "stream",
     "text": [
      "Estadístico=0.471, p-value=0.000\n",
      "Los datos de operadores eficientes NO siguen una distribución normal\n",
      "Estadístico=0.885, p-value=0.000\n",
      "Los datos de operadores no eficientes NO siguen una distribución normal\n"
     ]
    }
   ],
   "source": [
    "# Prueba de normalidad para el grupo de operadores eficientes\n",
    "stat, p = shapiro(eficientes)\n",
    "print('Estadístico=%.3f, p-value=%.3f' % (stat, p))\n",
    "if p > 0.05:\n",
    "    print('Los datos de operadores eficientes siguen una distribución normal')\n",
    "else:\n",
    "    print('Los datos de operadores eficientes NO siguen una distribución normal')\n",
    "\n",
    "# Prueba de normalidad para el grupo de operadores no eficientes\n",
    "stat, p = shapiro(no_eficientes)\n",
    "print('Estadístico=%.3f, p-value=%.3f' % (stat, p))\n",
    "if p > 0.05:\n",
    "    print('Los datos de operadores no eficientes siguen una distribución normal')\n",
    "else:\n",
    "    print('Los datos de operadores no eficientes NO siguen una distribución normal')"
   ]
  },
  {
   "cell_type": "markdown",
   "metadata": {},
   "source": [
    "Aplicar la Prueba Estadística\n",
    "\n",
    "Prueba t de Student (si los datos son normales)"
   ]
  },
  {
   "cell_type": "code",
   "execution_count": 40,
   "metadata": {},
   "outputs": [
    {
     "name": "stdout",
     "output_type": "stream",
     "text": [
      "Estadístico=-35.993, p-value=0.000\n",
      "Hay una diferencia significativa entre los grupos (rechazamos H₀)\n"
     ]
    }
   ],
   "source": [
    "# Realizar la prueba t de Student\n",
    "stat, p = ttest_ind(eficientes, no_eficientes)\n",
    "print('Estadístico=%.3f, p-value=%.3f' % (stat, p))\n",
    "if p > 0.05:\n",
    "    print('No hay diferencia significativa entre los grupos (aceptamos H₀)')\n",
    "else:\n",
    "    print('Hay una diferencia significativa entre los grupos (rechazamos H₀)')"
   ]
  },
  {
   "cell_type": "markdown",
   "metadata": {},
   "source": [
    "Prueba de Mann-Whitney U (si los datos no son normales)"
   ]
  },
  {
   "cell_type": "code",
   "execution_count": 41,
   "metadata": {},
   "outputs": [
    {
     "name": "stdout",
     "output_type": "stream",
     "text": [
      "Estadístico=0.000, p-value=0.000\n",
      "Hay una diferencia significativa entre los grupos (rechazamos H₀)\n"
     ]
    }
   ],
   "source": [
    "# Realizar la prueba de Mann-Whitney U\n",
    "stat, p = mannwhitneyu(eficientes, no_eficientes)\n",
    "print('Estadístico=%.3f, p-value=%.3f' % (stat, p))\n",
    "if p > 0.05:\n",
    "    print('No hay diferencia significativa entre los grupos (aceptamos H₀)')\n",
    "else:\n",
    "    print('Hay una diferencia significativa entre los grupos (rechazamos H₀)')"
   ]
  },
  {
   "cell_type": "markdown",
   "metadata": {},
   "source": [
    "**Prueba de hipótesis con un gráfico de caja (boxplot) para visualizar la distribución del porcentaje de llamadas perdidas en ambos grupos.**"
   ]
  },
  {
   "cell_type": "code",
   "execution_count": 42,
   "metadata": {},
   "outputs": [
    {
     "data": {
      "image/png": "[encoded data removed]",
      "text/plain": [
       "<Figure size 800x600 with 1 Axes>"
      ]
     },
     "metadata": {},
     "output_type": "display_data"
    }
   ],
   "source": [
    "plt.figure(figsize=(8, 6))\n",
    "sns.boxplot(x='efficiency_group', y='missed_call_percentage', data=operator_metrics)\n",
    "plt.title('Distribución del Porcentaje de Llamadas Perdidas por Grupo')\n",
    "plt.xlabel('Grupo de Eficiencia')\n",
    "plt.ylabel('Porcentaje de Llamadas Perdidas')\n",
    "plt.show()"
   ]
  },
  {
   "cell_type": "markdown",
   "metadata": {},
   "source": [
    "En el Grafico de Boxplor visualizamos que hay porcentaje de llamadas perdidas que NO son eficientes."
   ]
  },
  {
   "cell_type": "markdown",
   "metadata": {},
   "source": [
    "Conclusión sobre Prueba de Hipotesis\n",
    "\n",
    "- Los datos no siguen una distribución normal: Esto se confirma con la prueba de Shapiro-Wilk, por lo que la prueba de Mann-Whitney U es la más adecuada para comparar los grupos.\n",
    "\n",
    "- Hay una diferencia significativa entre los grupos: Tanto la prueba t de Student como la prueba de Mann-Whitney U indican que hay una diferencia significativa entre los operadores eficientes y no eficientes en términos del porcentaje de llamadas perdidas.\n",
    "\n",
    "- Los operadores eficientes tienen un porcentaje de llamadas perdidas significativamente menor: Esto valida tu clasificación de los operadores y sugiere que las métricas que estás utilizando (porcentaje de llamadas perdidas) son efectivas para diferenciar entre operadores eficientes y no eficientes."
   ]
  },
  {
   "cell_type": "markdown",
   "metadata": {},
   "source": [
    "<div class=\"alert alert-block alert-success\">\n",
    "<b>Comentario del revisor (1ra Iteracion)</b> <a class=“tocSkip”></a>\n",
    "\n",
    "Correcto, la aplicación de pruebas estadísticas ayuda a demostrar que no sea sólo una suposición de lo que está sucediendo con las diferencias. Cómo data analyst siempre es importante realizar comentarios o toma de decisiones en base a datos\n",
    "</div>"
   ]
  },
  {
   "cell_type": "markdown",
   "metadata": {},
   "source": [
    "# 📌 Conclusión General del Análisis\n",
    "\n",
    "- A través del examen de los datos de llamadas en CallMeMaybe, es posible identificar patrones significativos en la eficiencia de los operadores y el comportamiento general del sistema telefónico.\n",
    "\n",
    "- Duración de las llamadas: La mayoría de las llamadas son cortas, lo que puede significar que los operadores están resolviendo consultas rápidamente o que hay muchas interrupciones en las llamadas. Sin embargo, es importante notar la presencia de llamadas excesivamente largas, ya que pueden ser un indicio de problemas en la gestión del tiempo.\n",
    "\n",
    "- Participación de llamadas internas y externas: Si las llamadas internas tienen un peso significativo, puede reflejar una dependencia excesiva en la comunicación interna, lo que podría generar retrasos en la atención al cliente.\n",
    "\n",
    "- Dirección de llamadas (entrantes vs. salientes): Si hay un alto volumen de llamadas entrantes y un bajo volumen de llamadas salientes, es posible que los operadores no estén siendo lo suficientemente proactivos en la gestión de contactos.\n",
    "\n",
    "- Identificación de operadores ineficaces: A través del análisis de llamadas perdidas, tiempos de espera y volumen de llamadas, se puede determinar qué operadores están teniendo un desempeño deficiente.\n",
    "\n",
    "- En general, las estadísticas indican la necesidad de optimizar la distribución de llamadas y mejorar el desempeño de algunos operadores para reducir la cantidad de llamadas perdidas y aumentar la eficiencia del servicio.\n",
    "\n",
    "- Pruebas estadísticas respaldan la clasificación de operadores y que las métricas utilizadas son efectivas para identificar ineficiencias.\n",
    "\n"
   ]
  },
  {
   "cell_type": "markdown",
   "metadata": {},
   "source": [
    "# Recomendaciones \n",
    "\n",
    "Segun los analisis encontrramos hallazcos miu importantes y dar unas recomendaciones concretas que la empresa pueda implementar para mejorar el rendimiento de los operadores y reducir las llamadas perdidas.\n",
    "\n",
    "Acciones Recomendadas:\n",
    "- **Capacitación y Entrenamiento:**\n",
    "\n",
    "Proporcionar capacitación adicional a los operadores no eficientes en áreas como manejo de llamadas, resolución de problemas y uso del sistema.\n",
    "\n",
    "Ejemplo: Si los operadores no eficientes tienen dificultades con llamadas técnicas, ofrecer capacitación en soporte técnico.\n",
    "\n",
    "Revisión del Sistema de Enrutamiento de Llamadas:\n",
    "\n",
    "Si los operadores están sobrecargados, revisar cómo se distribuyen las llamadas.\n",
    "\n",
    "Implementar un sistema de enrutamiento más inteligente que distribuya las llamadas de manera equitativa.\n",
    "\n",
    "\n",
    "- **Ajustes en la Carga de Trabajo:**\n",
    "\n",
    "Redistribuir las llamadas entre los operadores para evitar que algunos estén sobrecargados.\n",
    "\n",
    "Contratar más personal si es necesario, especialmente en horarios pico.\n",
    "\n",
    "\n",
    "- **Monitoreo Continuo:**\n",
    "\n",
    "Implementar un sistema de monitoreo en tiempo real para identificar problemas rápidamente.\n",
    "\n",
    "Ejemplo: Alertar a los supervisores cuando un operador tenga un alto porcentaje de llamadas perdidas o un tiempo de espera elevado.\n",
    "\n",
    "\n",
    "- **Feedback y Reconocimiento:**\n",
    "\n",
    "Proporcionar feedback regular a los operadores y reconocer a los más eficientes.\n",
    "\n",
    "Crear un programa de incentivos para los operadores que mantengan un bajo porcentaje de llamadas perdidas."
   ]
  },
  {
   "cell_type": "markdown",
   "metadata": {},
   "source": [
    "## Presentacion Power Point en PDF\n",
    "https://drive.google.com/file/d/1ieyPyGDbkSLEmLbl51uTKMb-PuhhH8IG/view?usp=drive_link\n",
    "\n",
    "## Ligas de Tableau Public \n",
    "https://public.tableau.com/app/profile/elpidio.ramirez.lozano/viz/Callmemaybe/Dashboard1?publish=yes\n",
    "\n",
    "## Google Drive (lo deje para que se llegase a modificar si se necesita.)\n",
    "https://drive.google.com/drive/folders/1z0NuS8gsA4y8n7RqA55AT94BK96vc7xF?usp=sharing"
   ]
  },
  {
   "cell_type": "markdown",
   "metadata": {},
   "source": [
    "<div class=\"alert alert-block alert-danger\">\n",
    "<b>Comentario general (1ra Iteracion)</b> <a class=“tocSkip”></a>\n",
    "\n",
    "Tienes un muy buen avance, sólo hay que hacer un pequeño ajuste en la sección donde revisas las llamadas perdidas y sobre la presentación.\n",
    "    \n",
    "La presentación no debe ser sólo una captura del dashboard, debe ser algo que te sirva cómo apoyo para exponer tus hallazgos, te recomendaría utilizar una herramienta cómo power point o google slides para realizar la presentación y que te apoyes de las gráficas que tienes en el notebook para crearla y eso lo exportas a PDF y lo subes a la carpeta de drive que has compartido. Saludos!\n",
    "</div>"
   ]
  },
  {
   "cell_type": "markdown",
   "metadata": {},
   "source": [
    "<div class=\"alert alert-block alert-info\">\n",
    "<b>Ya se corrigio lo antes mencionado y se hizo una presentacion Power Point y se paso a PDF con las graficas sacadas del notebook.</b> <a class=“tocSkip”></a>\n",
    "</div>"
   ]
  },
  {
   "cell_type": "markdown",
   "metadata": {},
   "source": [
    "<div class=\"alert alert-block alert-success\">\n",
    "<b>Comentario general (2da Iteracion)</b> <a class=“tocSkip”></a>\n",
    "\n",
    "**¡Muy buen trabajo con esos últimos cambios!** Con este proyecto demuestras las habilidades adquiridas durante tu formación, se nota tu capacidad de contar historias con datos con la excelente presentación realizada que súper fácil de entender lo cual es una habilidad super importante cómo analista de datos, el saber comunicar de manera sencilla y eficiente los resultados de tus análisis.\n",
    "    \n",
    "Se nota mucho el manejo que tienes de las librerías para crear visualizaciones muy buenas que explican correctamente las variables analizadas, te animo a seguir práctica con otros recursos y que vayas construyendo un portafolio de proyectos súper robusto para que seas una profesional de primera en el mundo laboral.\n",
    "   \n",
    "Saludos!\n",
    "</div>"
   ]
  },
  {
   "cell_type": "markdown",
   "metadata": {},
   "source": [
    "# Guardar Los Datos Limpios "
   ]
  },
  {
   "cell_type": "code",
   "execution_count": 43,
   "metadata": {},
   "outputs": [],
   "source": [
    "dataset.to_csv(\"dataset_limpio_1.csv\", index=False, encoding=\"utf-8\")"
   ]
  },
  {
   "cell_type": "code",
   "execution_count": 44,
   "metadata": {},
   "outputs": [],
   "source": [
    "clients.to_csv(\"clients_limpio_1.csv\", index=False, encoding=\"utf-8\")"
   ]
  },
  {
   "cell_type": "code",
   "execution_count": 45,
   "metadata": {},
   "outputs": [
    {
     "name": "stdout",
     "output_type": "stream",
     "text": [
      "c:\\Users\\elpid\\Documents\\GitHub\\DataAnalytics\\portfolio-DA\\CallMeMaybe\n"
     ]
    }
   ],
   "source": [
    "import os \n",
    "\n",
    "print(os.getcwd())"
   ]
  }
 ],
 "metadata": {
  "ExecuteTimeLog": [
   {
    "duration": 42,
    "start_time": "2025-03-04T13:59:27.442Z"
   },
   {
    "duration": 37,
    "start_time": "2025-03-04T13:59:35.049Z"
   }
  ],
  "kernelspec": {
   "display_name": "Python 3 (ipykernel)",
   "language": "python",
   "name": "python3"
  },
  "language_info": {
   "codemirror_mode": {
    "name": "ipython",
    "version": 3
   },
   "file_extension": ".py",
   "mimetype": "text/x-python",
   "name": "python",
   "nbconvert_exporter": "python",
   "pygments_lexer": "ipython3",
   "version": "3.9.19"
  },
  "toc": {
   "base_numbering": 1,
   "nav_menu": {},
   "number_sections": true,
   "sideBar": true,
   "skip_h1_title": true,
   "title_cell": "Table of Contents",
   "title_sidebar": "Contents",
   "toc_cell": false,
   "toc_position": {},
   "toc_section_display": true,
   "toc_window_display": false
  }
 },
 "nbformat": 4,
 "nbformat_minor": 2
}

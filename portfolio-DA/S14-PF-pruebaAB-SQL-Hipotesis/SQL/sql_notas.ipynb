{
 "cells": [
  {
   "cell_type": "markdown",
   "metadata": {},
   "source": [
    "# **SQL**"
   ]
  },
  {
   "cell_type": "markdown",
   "metadata": {},
   "source": [
    "El coronavirus tomó al mundo entero por sorpresa, cambiando la rutina diaria de todos y todas. Los habitantes de las ciudades ya no pasaban su tiempo libre fuera, yendo a cafés y centros comerciales; sino que más gente se quedaba en casa, leyendo libros. Eso atrajo la atención de las startups (empresas emergentes) que se apresuraron a desarrollar nuevas aplicaciones para los amantes de los libros.\n",
    "\n",
    "Te han dado una base de datos de uno de los servicios que compiten en este mercado. Contiene datos sobre libros, editoriales, autores y calificaciones de clientes y reseñas de libros. Esta información se utilizará para generar una propuesta de valor para un nuevo producto.\n",
    "\n",
    "### Descripción de los datos\n",
    "\n",
    "**`books`**\n",
    "\n",
    "Contiene datos sobre libros:\n",
    "\n",
    "- `book_id`: identificación del libro\n",
    "- `author_id`: identificación del autor o autora\n",
    "- `title`: título\n",
    "- `num_pages`: número de páginas\n",
    "- `publication_date`: fecha de la publicación\n",
    "- `publisher_id`: identificación de la editorial\n",
    "\n",
    "**`authors`**\n",
    "\n",
    "Contiene datos sobre autores:\n",
    "\n",
    "- `author_id`: identificación del autor o autora\n",
    "- `author`: el autor o la autora\n",
    "\n",
    "**`publishers`**\n",
    "\n",
    "Contiene datos sobre editoriales:\n",
    "\n",
    "- `publisher_id`: identificación de la editorial\n",
    "- `publisher`: la editorial\n",
    "\n",
    "**`ratings`**\n",
    "\n",
    "Contiene datos sobre las calificaciones de usuarios:\n",
    "\n",
    "- `rating_id`: identificación de la calificación\n",
    "- `book_id`: identificación del libro\n",
    "- `username`: el nombre del usuario que revisó el libro\n",
    "- `rating`: calificación\n",
    "\n",
    "**`reviews`**\n",
    "\n",
    "Contiene datos sobre las reseñas de los y las clientes:\n",
    "\n",
    "- `review_id`: identificación de la reseña\n",
    "- `book_id`: identificación del libro\n",
    "- `username`: el nombre del usuario que revisó el libro\n",
    "- `text`: el texto de la reseña"
   ]
  },
  {
   "cell_type": "markdown",
   "metadata": {},
   "source": [
    "# **Libreria a Utilizar**"
   ]
  },
  {
   "cell_type": "code",
   "execution_count": 74,
   "metadata": {},
   "outputs": [
    {
     "name": "stdout",
     "output_type": "stream",
     "text": [
      "Requirement already satisfied: pandas in c:\\users\\elpid\\anaconda3\\lib\\site-packages (2.2.2)Note: you may need to restart the kernel to use updated packages.\n",
      "\n",
      "Requirement already satisfied: sqlalchemy in c:\\users\\elpid\\anaconda3\\lib\\site-packages (2.0.34)\n",
      "Requirement already satisfied: numpy>=1.26.0 in c:\\users\\elpid\\anaconda3\\lib\\site-packages (from pandas) (1.26.4)\n",
      "Requirement already satisfied: python-dateutil>=2.8.2 in c:\\users\\elpid\\anaconda3\\lib\\site-packages (from pandas) (2.9.0.post0)\n",
      "Requirement already satisfied: pytz>=2020.1 in c:\\users\\elpid\\anaconda3\\lib\\site-packages (from pandas) (2024.1)\n",
      "Requirement already satisfied: tzdata>=2022.7 in c:\\users\\elpid\\anaconda3\\lib\\site-packages (from pandas) (2023.3)\n",
      "Requirement already satisfied: typing-extensions>=4.6.0 in c:\\users\\elpid\\anaconda3\\lib\\site-packages (from sqlalchemy) (4.11.0)\n",
      "Requirement already satisfied: greenlet!=0.4.17 in c:\\users\\elpid\\anaconda3\\lib\\site-packages (from sqlalchemy) (3.0.1)\n",
      "Requirement already satisfied: six>=1.5 in c:\\users\\elpid\\anaconda3\\lib\\site-packages (from python-dateutil>=2.8.2->pandas) (1.16.0)\n"
     ]
    }
   ],
   "source": [
    "pip install pandas sqlalchemy"
   ]
  },
  {
   "cell_type": "code",
   "execution_count": 75,
   "metadata": {},
   "outputs": [],
   "source": [
    "# importar librerías\n",
    "import pandas as pd\n",
    "from sqlalchemy import create_engine\n",
    "import sqlite3\n",
    "\n"
   ]
  },
  {
   "cell_type": "code",
   "execution_count": 76,
   "metadata": {},
   "outputs": [],
   "source": [
    "#Cargar archivo de datos desde conexion SQL a Python\n",
    "\n",
    "#Definir la conexión a la base de datos\n",
    "db_config = {'user': 'practicum_student',         # nombre de usuario\n",
    "             'pwd': 's65BlTKV3faNIGhmvJVzOqhs', # contraseña\n",
    "             'host': 'rc1b-wcoijxj3yxfsf3fs.mdb.yandexcloud.net',\n",
    "             'port': 6432,              # puerto de conexión\n",
    "             'db': 'data-analyst-final-project-db'}          # nombre de la base de datos\n",
    "\n",
    "connection_string = 'postgresql://{}:{}@{}:{}/{}'.format(db_config['user'],db_config['pwd'],db_config['host'],db_config['port'],db_config['db'])\n",
    "\n",
    "engine = create_engine(connection_string, connect_args={'sslmode':'require'})"
   ]
  },
  {
   "cell_type": "markdown",
   "metadata": {},
   "source": [
    "# **Carga de Datos**"
   ]
  },
  {
   "cell_type": "code",
   "execution_count": 77,
   "metadata": {},
   "outputs": [],
   "source": [
    "libros = pd.read_sql('SELECT * FROM books', con = engine)\n",
    "autores = pd.read_sql('SELECT * FROM authors', con = engine)\n",
    "editorial =pd.read_sql('SELECT * FROM publishers', con = engine)\n",
    "ratings = pd.read_sql('SELECT * FROM ratings', con = engine)\n",
    "resenas = pd.read_sql('SELECT * FROM reviews', con = engine)"
   ]
  },
  {
   "cell_type": "markdown",
   "metadata": {},
   "source": [
    "# 1️⃣ Objetivos del estudio"
   ]
  },
  {
   "cell_type": "markdown",
   "metadata": {},
   "source": [
    "El objetivo del presente trabajo es investigar datos recogidos en una biblioteca en línea para poder determinar información relevante para diseñar una propuesta de valor para un nuevo producto en el mercado de lectores.\n",
    "\n",
    "Para esto, se estudiarán aspectos como:\n",
    "\n",
    "✅ El número total de libros publicados en la era moderna (desde el 1 de enero del 2000).\n",
    "\n",
    "✅ La popularidad del libro, basada en el número de reseñas y la puntuación promedio.\n",
    "\n",
    "✅ Las editoriales que han publicado más libros largos (más de 50 páginas).\n",
    "\n",
    "✅ Los autores más valorados, filtrando por los que cuenten con una gran cantidad de evaluaciones.\n",
    "\n",
    "✅ El comportamiento de los usuarios que califican varios libros, analizando cuántas reseñas de texto suelen dejar.\n",
    "\n",
    "Este análisis permitirá comprender mejor los mercados de libros digitales y físicos, así como las tendencias y preferencias de los lectores, con el fin de desarrollar un producto competitivo."
   ]
  },
  {
   "cell_type": "markdown",
   "metadata": {},
   "source": [
    "# 2️⃣ Exploración, Preparacion de datos y Limpieza"
   ]
  },
  {
   "cell_type": "code",
   "execution_count": 78,
   "metadata": {},
   "outputs": [],
   "source": [
    "def info_gral(datos):\n",
    "    print(\"Primeras Filas\")\n",
    "    print(datos.head())\n",
    "    print('-------------------------------------------')\n",
    "    print(\"Datos Generales\")\n",
    "    print(datos.info())\n",
    "    print('-------------------------------------------')\n",
    "    print(\"Revision de Datos Ausentes\")\n",
    "    print(datos.isna().sum())\n",
    "    print('-------------------------------------------')\n",
    "    print(\"Revision de Duplicados\")\n",
    "    print(datos.duplicated().sum())"
   ]
  },
  {
   "cell_type": "code",
   "execution_count": 79,
   "metadata": {},
   "outputs": [
    {
     "name": "stdout",
     "output_type": "stream",
     "text": [
      "Primeras Filas\n",
      "   book_id  author_id                                              title  \\\n",
      "0        1        546                                       'Salem's Lot   \n",
      "1        2        465                 1 000 Places to See Before You Die   \n",
      "2        3        407  13 Little Blue Envelopes (Little Blue Envelope...   \n",
      "3        4         82  1491: New Revelations of the Americas Before C...   \n",
      "4        5        125                                               1776   \n",
      "\n",
      "   num_pages publication_date  publisher_id  \n",
      "0        594       2005-11-01            93  \n",
      "1        992       2003-05-22           336  \n",
      "2        322       2010-12-21           135  \n",
      "3        541       2006-10-10           309  \n",
      "4        386       2006-07-04           268  \n",
      "-------------------------------------------\n",
      "Datos Generales\n",
      "<class 'pandas.core.frame.DataFrame'>\n",
      "RangeIndex: 1000 entries, 0 to 999\n",
      "Data columns (total 6 columns):\n",
      " #   Column            Non-Null Count  Dtype \n",
      "---  ------            --------------  ----- \n",
      " 0   book_id           1000 non-null   int64 \n",
      " 1   author_id         1000 non-null   int64 \n",
      " 2   title             1000 non-null   object\n",
      " 3   num_pages         1000 non-null   int64 \n",
      " 4   publication_date  1000 non-null   object\n",
      " 5   publisher_id      1000 non-null   int64 \n",
      "dtypes: int64(4), object(2)\n",
      "memory usage: 47.0+ KB\n",
      "None\n",
      "-------------------------------------------\n",
      "Revision de Datos Ausentes\n",
      "book_id             0\n",
      "author_id           0\n",
      "title               0\n",
      "num_pages           0\n",
      "publication_date    0\n",
      "publisher_id        0\n",
      "dtype: int64\n",
      "-------------------------------------------\n",
      "Revision de Duplicados\n",
      "0\n"
     ]
    }
   ],
   "source": [
    "info_gral(libros)"
   ]
  },
  {
   "cell_type": "code",
   "execution_count": 80,
   "metadata": {},
   "outputs": [
    {
     "name": "stdout",
     "output_type": "stream",
     "text": [
      "Primeras Filas\n",
      "   author_id                          author\n",
      "0          1                      A.S. Byatt\n",
      "1          2  Aesop/Laura Harris/Laura Gibbs\n",
      "2          3                 Agatha Christie\n",
      "3          4                   Alan Brennert\n",
      "4          5        Alan Moore/David   Lloyd\n",
      "-------------------------------------------\n",
      "Datos Generales\n",
      "<class 'pandas.core.frame.DataFrame'>\n",
      "RangeIndex: 636 entries, 0 to 635\n",
      "Data columns (total 2 columns):\n",
      " #   Column     Non-Null Count  Dtype \n",
      "---  ------     --------------  ----- \n",
      " 0   author_id  636 non-null    int64 \n",
      " 1   author     636 non-null    object\n",
      "dtypes: int64(1), object(1)\n",
      "memory usage: 10.1+ KB\n",
      "None\n",
      "-------------------------------------------\n",
      "Revision de Datos Ausentes\n",
      "author_id    0\n",
      "author       0\n",
      "dtype: int64\n",
      "-------------------------------------------\n",
      "Revision de Duplicados\n",
      "0\n"
     ]
    }
   ],
   "source": [
    "info_gral(autores)"
   ]
  },
  {
   "cell_type": "code",
   "execution_count": 81,
   "metadata": {},
   "outputs": [
    {
     "name": "stdout",
     "output_type": "stream",
     "text": [
      "Primeras Filas\n",
      "   publisher_id                          publisher\n",
      "0             1                                Ace\n",
      "1             2                           Ace Book\n",
      "2             3                          Ace Books\n",
      "3             4                      Ace Hardcover\n",
      "4             5  Addison Wesley Publishing Company\n",
      "-------------------------------------------\n",
      "Datos Generales\n",
      "<class 'pandas.core.frame.DataFrame'>\n",
      "RangeIndex: 340 entries, 0 to 339\n",
      "Data columns (total 2 columns):\n",
      " #   Column        Non-Null Count  Dtype \n",
      "---  ------        --------------  ----- \n",
      " 0   publisher_id  340 non-null    int64 \n",
      " 1   publisher     340 non-null    object\n",
      "dtypes: int64(1), object(1)\n",
      "memory usage: 5.4+ KB\n",
      "None\n",
      "-------------------------------------------\n",
      "Revision de Datos Ausentes\n",
      "publisher_id    0\n",
      "publisher       0\n",
      "dtype: int64\n",
      "-------------------------------------------\n",
      "Revision de Duplicados\n",
      "0\n"
     ]
    }
   ],
   "source": [
    "info_gral(editorial)"
   ]
  },
  {
   "cell_type": "code",
   "execution_count": 82,
   "metadata": {},
   "outputs": [
    {
     "name": "stdout",
     "output_type": "stream",
     "text": [
      "Primeras Filas\n",
      "   rating_id  book_id       username  rating\n",
      "0          1        1     ryanfranco       4\n",
      "1          2        1  grantpatricia       2\n",
      "2          3        1   brandtandrea       5\n",
      "3          4        2       lorichen       3\n",
      "4          5        2    mariokeller       2\n",
      "-------------------------------------------\n",
      "Datos Generales\n",
      "<class 'pandas.core.frame.DataFrame'>\n",
      "RangeIndex: 6456 entries, 0 to 6455\n",
      "Data columns (total 4 columns):\n",
      " #   Column     Non-Null Count  Dtype \n",
      "---  ------     --------------  ----- \n",
      " 0   rating_id  6456 non-null   int64 \n",
      " 1   book_id    6456 non-null   int64 \n",
      " 2   username   6456 non-null   object\n",
      " 3   rating     6456 non-null   int64 \n",
      "dtypes: int64(3), object(1)\n",
      "memory usage: 201.9+ KB\n",
      "None\n",
      "-------------------------------------------\n",
      "Revision de Datos Ausentes\n",
      "rating_id    0\n",
      "book_id      0\n",
      "username     0\n",
      "rating       0\n",
      "dtype: int64\n",
      "-------------------------------------------\n",
      "Revision de Duplicados\n",
      "0\n"
     ]
    }
   ],
   "source": [
    "info_gral(ratings)"
   ]
  },
  {
   "cell_type": "code",
   "execution_count": 83,
   "metadata": {},
   "outputs": [
    {
     "name": "stdout",
     "output_type": "stream",
     "text": [
      "Primeras Filas\n",
      "   review_id  book_id       username  \\\n",
      "0          1        1   brandtandrea   \n",
      "1          2        1     ryanfranco   \n",
      "2          3        2       lorichen   \n",
      "3          4        3  johnsonamanda   \n",
      "4          5        3    scotttamara   \n",
      "\n",
      "                                                text  \n",
      "0  Mention society tell send professor analysis. ...  \n",
      "1  Foot glass pretty audience hit themselves. Amo...  \n",
      "2  Listen treat keep worry. Miss husband tax but ...  \n",
      "3  Finally month interesting blue could nature cu...  \n",
      "4  Nation purpose heavy give wait song will. List...  \n",
      "-------------------------------------------\n",
      "Datos Generales\n",
      "<class 'pandas.core.frame.DataFrame'>\n",
      "RangeIndex: 2793 entries, 0 to 2792\n",
      "Data columns (total 4 columns):\n",
      " #   Column     Non-Null Count  Dtype \n",
      "---  ------     --------------  ----- \n",
      " 0   review_id  2793 non-null   int64 \n",
      " 1   book_id    2793 non-null   int64 \n",
      " 2   username   2793 non-null   object\n",
      " 3   text       2793 non-null   object\n",
      "dtypes: int64(2), object(2)\n",
      "memory usage: 87.4+ KB\n",
      "None\n",
      "-------------------------------------------\n",
      "Revision de Datos Ausentes\n",
      "review_id    0\n",
      "book_id      0\n",
      "username     0\n",
      "text         0\n",
      "dtype: int64\n",
      "-------------------------------------------\n",
      "Revision de Duplicados\n",
      "0\n"
     ]
    }
   ],
   "source": [
    "info_gral(resenas)"
   ]
  },
  {
   "cell_type": "markdown",
   "metadata": {},
   "source": [
    "NOTA:\n",
    "\n",
    "- No se encontro Datos ausentes en ningun DF\n",
    "- No se encontraron Datos Duplicados en ningun DF\n",
    "\n",
    "Todos los datos se encuentran limpios asi que iniciamos con nuestro analisis"
   ]
  },
  {
   "cell_type": "markdown",
   "metadata": {},
   "source": [
    "# 3️⃣ Análisis exploratorio de datos (EDA)"
   ]
  },
  {
   "cell_type": "markdown",
   "metadata": {},
   "source": [
    "## - Número de libros publicados después del 1 de enero de 2000"
   ]
  },
  {
   "cell_type": "code",
   "execution_count": 84,
   "metadata": {},
   "outputs": [
    {
     "name": "stdout",
     "output_type": "stream",
     "text": [
      "   total_de_libros\n",
      "0              819\n"
     ]
    }
   ],
   "source": [
    "query = \"\"\"\n",
    "SELECT \n",
    "    COUNT(books.book_id) AS total_de_libros\n",
    "FROM \n",
    "    books\n",
    "WHERE \n",
    "    publication_date >'2000-01-01';\n",
    "\"\"\"\n",
    "\n",
    "total_libros = pd.read_sql(query, con=engine)\n",
    "\n",
    "print(total_libros)"
   ]
  },
  {
   "cell_type": "markdown",
   "metadata": {},
   "source": [
    "Explicación:\n",
    "\n",
    "- Se cuenta la cantidad total de libros (COUNT(books.book_id)).\n",
    "- Se obtiene la información de la tabla books.\n",
    "- Se filtran solo los libros cuya fecha de publicación (publication_date) sea posterior al 1 de enero del 2000 (WHERE publication_date > '2000-01-01').\n",
    "- Se almacena el resultado en un DataFrame de Pandas (pd.read_sql(query, con=engine)).\n",
    "- Se imprime el número total de libros publicados después del 1 de enero del 2000 (print(total_libros))."
   ]
  },
  {
   "cell_type": "markdown",
   "metadata": {},
   "source": [
    "Explicación paso a paso:\n",
    "\n",
    "- Se selecciona la cantidad total de libros (COUNT(books.book_id))\n",
    "\n",
    "- Se cuenta el número de registros en la tabla books usando COUNT(book_id).\n",
    "- Se asigna un alias total_de_libros para nombrar la columna en los resultados.\n",
    "- Se especifica la tabla de origen (FROM books)\n",
    "\n",
    "- Se extraen los datos desde la tabla books, que contiene información sobre los libros.\n",
    "- Se aplica un filtro de fecha (WHERE publication_date > '2000-01-01')\n",
    "\n",
    "- Se filtran solo los libros cuya fecha de publicación (publication_date) sea posterior al 1 de enero del 2000.\n",
    "- Se ejecuta la consulta y se almacena en un DataFrame de Pandas\n",
    "\n",
    "- pd.read_sql(query, con=engine) ejecuta la consulta SQL y almacena el resultado en total_libros.\n",
    "- print(total_libros) muestra en pantalla la cantidad total de libros publicados después del año 2000."
   ]
  },
  {
   "cell_type": "markdown",
   "metadata": {},
   "source": [
    "## - Número de reseñas y calificación promedio para cada libro"
   ]
  },
  {
   "cell_type": "code",
   "execution_count": 86,
   "metadata": {},
   "outputs": [
    {
     "name": "stdout",
     "output_type": "stream",
     "text": [
      "            author  total_libros\n",
      "0  Terry Pratchett            15\n"
     ]
    }
   ],
   "source": [
    "query = \"\"\"\n",
    "SELECT\n",
    "    authors.author,\n",
    "    COUNT(books.book_id) AS total_libros\n",
    "FROM\n",
    "    books\n",
    "JOIN\n",
    "    authors ON authors.author_id = books.author_id\n",
    "GROUP BY\n",
    "    authors.author\n",
    "ORDER BY\n",
    "    total_libros DESC\n",
    "LIMIT 1;\n",
    "\"\"\"\n",
    "\n",
    "autor_mas_libros = pd.read_sql(query, con=engine)\n",
    "\n",
    "print(autor_mas_libros)"
   ]
  },
  {
   "cell_type": "markdown",
   "metadata": {},
   "source": [
    "Explicación:\n",
    "\n",
    "- Se selecciona el title de la tabla books.\n",
    "- Se cuenta el número de reseñas (COUNT(reviews.review_id)).\n",
    "- Se calcula la calificación promedio (AVG(ratings.rating)) redondeada a dos decimales.\n",
    "- Se usa LEFT JOIN para incluir todos los libros, incluso si no tienen reseñas o calificaciones.\n",
    "- Se agrupa por title para obtener los datos por libro.\n",
    "- Se ordena en orden descendente según el número de reseñas."
   ]
  },
  {
   "cell_type": "markdown",
   "metadata": {},
   "source": [
    "## - Editorial con más libros de más de 50 páginas"
   ]
  },
  {
   "cell_type": "code",
   "execution_count": 87,
   "metadata": {},
   "outputs": [
    {
     "name": "stdout",
     "output_type": "stream",
     "text": [
      "       publisher  total_libros\n",
      "0  Penguin Books            42\n"
     ]
    }
   ],
   "source": [
    "query = \"\"\"\n",
    "SELECT\n",
    "    publishers.publisher,\n",
    "    COUNT(books.book_id) AS total_libros\n",
    "FROM\n",
    "    books\n",
    "JOIN\n",
    "    publishers ON publishers.publisher_id = books.publisher_id\n",
    "WHERE\n",
    "    books.num_pages > 50\n",
    "GROUP BY\n",
    "    publishers.publisher\n",
    "ORDER BY\n",
    "    total_libros DESC\n",
    "LIMIT 1;\n",
    "\"\"\"\n",
    "\n",
    "editorial_mas_libros = pd.read_sql(query, con=engine)\n",
    "\n",
    "print(editorial_mas_libros)\n"
   ]
  },
  {
   "cell_type": "markdown",
   "metadata": {},
   "source": [
    "Explicación:\n",
    "\n",
    "- Se selecciona el nombre de la editorial (publishers.publisher).\n",
    "- Se cuenta la cantidad de libros con más de 50 páginas (COUNT(books.book_id)).\n",
    "- Se usa JOIN para enlazar books con publishers mediante publisher_id.\n",
    "- Se filtran solo los libros con más de 50 páginas (WHERE books.num_pages > 50).\n",
    "- Se agrupa por editorial (GROUP BY publishers.publisher).\n",
    "- Se ordena en orden descendente por cantidad de libros (ORDER BY total_libros DESC).\n",
    "- Se usa LIMIT 1 para obtener la editorial con más libros largos."
   ]
  },
  {
   "cell_type": "markdown",
   "metadata": {},
   "source": [
    "## - Autor con la más alta calificación promedio (mínimo 50 calificaciones por libro)"
   ]
  },
  {
   "cell_type": "code",
   "execution_count": 88,
   "metadata": {},
   "outputs": [
    {
     "name": "stdout",
     "output_type": "stream",
     "text": [
      "           author  calificacion_promedio\n",
      "0  Diana Gabaldon                    4.3\n"
     ]
    }
   ],
   "source": [
    "query = \"\"\"\n",
    "SELECT\n",
    "    authors.author,\n",
    "    ROUND(AVG(ratings.rating), 2) AS calificacion_promedio\n",
    "FROM\n",
    "    books\n",
    "JOIN\n",
    "    authors ON authors.author_id = books.author_id\n",
    "JOIN\n",
    "    ratings ON books.book_id = ratings.book_id\n",
    "GROUP BY\n",
    "    authors.author\n",
    "HAVING\n",
    "    COUNT(ratings.rating_id) >= 50\n",
    "ORDER BY\n",
    "    calificacion_promedio DESC\n",
    "LIMIT 1;\n",
    "\"\"\"\n",
    "\n",
    "autor_mejor_calificado = pd.read_sql(query, con=engine)\n",
    "\n",
    "print(autor_mejor_calificado)\n"
   ]
  },
  {
   "cell_type": "markdown",
   "metadata": {},
   "source": [
    "Explicación:\n",
    "\n",
    "- Se selecciona el nombre del autor (authors.author).\n",
    "- Se calcula el promedio de calificaciones (AVG(ratings.rating)) y se redondea a dos decimales.\n",
    "- Se usa JOIN para enlazar las tablas books, authors y ratings mediante author_id y book_id.\n",
    "- Se agrupa por autor (GROUP BY authors.author).\n",
    "- Se filtran solo los autores cuyos libros tengan al menos 50 calificaciones (HAVING COUNT(ratings.rating_id) >= 50).\n",
    "- Se ordena en orden descendente por calificación promedio (ORDER BY calificacion_promedio DESC).\n",
    "- Se usa LIMIT 1 para obtener el autor con la mejor calificación promedio."
   ]
  },
  {
   "cell_type": "markdown",
   "metadata": {},
   "source": [
    "## - Número promedio de reseñas de texto entre usuarios que calificaron más de 50 libros"
   ]
  },
  {
   "cell_type": "code",
   "execution_count": 90,
   "metadata": {},
   "outputs": [
    {
     "name": "stdout",
     "output_type": "stream",
     "text": [
      "   promedio_resenas\n",
      "0             24.33\n"
     ]
    }
   ],
   "source": [
    "query = \"\"\"\n",
    "WITH usuarios_activos AS (\n",
    "    SELECT\n",
    "        username\n",
    "    FROM\n",
    "        ratings\n",
    "    GROUP BY\n",
    "        username\n",
    "    HAVING\n",
    "        COUNT(rating_id) > 50\n",
    ")\n",
    "\n",
    "SELECT\n",
    "    ROUND(AVG(num_resenas), 2) AS promedio_resenas\n",
    "FROM (\n",
    "    SELECT\n",
    "        r.username,\n",
    "        COUNT(r.review_id) AS num_resenas\n",
    "    FROM\n",
    "        reviews r\n",
    "    JOIN\n",
    "        usuarios_activos u ON r.username = u.username\n",
    "    GROUP BY\n",
    "        r.username\n",
    ") subquery;\n",
    "\"\"\"\n",
    "\n",
    "promedio_resenas = pd.read_sql(query, con=engine)   \n",
    "\n",
    "print(promedio_resenas)\n"
   ]
  },
  {
   "cell_type": "markdown",
   "metadata": {},
   "source": [
    "Explicación:\n",
    "\n",
    "- Se usa una Common Table Expression (CTE) (usuarios_activos) para obtener los usuarios que han calificado más de 50 libros.\n",
    "- Se seleccionan solo esos usuarios de la tabla ratings, agrupando por username y filtrando con HAVING COUNT(rating_id) > 50.\n",
    "- En la consulta principal:\n",
    "- Se cuenta cuántas reseñas ha dejado cada usuario (COUNT(r.review_id)).\n",
    "- Se agrupa por username para calcular el total de reseñas por usuario.\n",
    "- Se obtiene el promedio de esas reseñas (AVG(num_resenas)) y se redondea a dos decimales.\n",
    "- El resultado muestra el número promedio de reseñas de texto entre los usuarios que han calificado más de 50 libros."
   ]
  }
 ],
 "metadata": {
  "kernelspec": {
   "display_name": "base",
   "language": "python",
   "name": "python3"
  },
  "language_info": {
   "codemirror_mode": {
    "name": "ipython",
    "version": 3
   },
   "file_extension": ".py",
   "mimetype": "text/x-python",
   "name": "python",
   "nbconvert_exporter": "python",
   "pygments_lexer": "ipython3",
   "version": "3.12.7"
  }
 },
 "nbformat": 4,
 "nbformat_minor": 2
}

{
 "cells": [
  {
   "cell_type": "markdown",
   "metadata": {},
   "source": [
    "# ¡Hola Elpidio! 😊\n",
    "\n",
    "Mi nombre es **Alejandro Castellanos** y hoy tengo el placer de ser el revisor de tu proyecto.\n",
    "\n",
    "Voy a revisar todo tu código con detalle, buscando tanto los puntos fuertes como aquellos en los que podrías mejorar. Te dejaré comentarios a lo largo del notebook, destacando lo que has hecho bien y sugiriendo ajustes donde sea necesario. Si encuentro algún error, no te preocupes, te lo haré saber de forma clara y te daré información útil para que puedas corregirlo en la próxima. Si en algún punto tienes comentarios, siéntete libre de dejarlos también.\n",
    "\n",
    "\n",
    "Encontrarás mis comentarios específicos dentro de cajas verdes, amarillas o rojas, es muy importante que no muevas, modifiques o borres mis comentarios, con el fin de tener un seguimiento adecuado de tu proceso.:\n",
    "\n",
    "\n",
    "<div class=\"alert alert-block alert-success\">\n",
    "<b>Comentario del revisor</b> <a class=“tocSkip”></a>\n",
    "Si todo está perfecto.\n",
    "</div>\n",
    "\n",
    "<div class=\"alert alert-block alert-warning\">\n",
    "<b>Comentario del revisor</b> <a class=“tocSkip”></a>\n",
    "Si tu código está bien pero se puede mejorar o hay algún detalle que le hace falta.\n",
    "</div>\n",
    "\n",
    "<div class=\"alert alert-block alert-danger\">\n",
    "<b>Comentario del revisor</b> <a class=“tocSkip”></a>\n",
    "Si de pronto hace falta algo o existe algún problema con tu código o conclusiones.\n",
    "</div>\n",
    "\n",
    "Puedes responderme de esta forma:\n",
    "<div class=\"alert alert-block alert-info\">\n",
    "<b>Respuesta del estudiante</b> <a class=“tocSkip”></a>\n",
    "</div>\n",
    "\n",
    "A continuación te dejaré un comentario general con mi valoración del proyecto. **¡Mi objetivo es que sigas aprendiendo y mejorando con cada paso!**"
   ]
  },
  {
   "cell_type": "markdown",
   "metadata": {},
   "source": [
    "---"
   ]
  },
  {
   "cell_type": "markdown",
   "metadata": {},
   "source": [
    "<div class=\"alert alert-block alert-success\">\n",
    "<b>Comentario General del revisor (1ra Iteración)</b> <a class=“tocSkip”></a>\n",
    "\n",
    "Elpidio has cumplido de manera sobresaliente con todos los objetivos propuestos. Tienes un muy buen dominio de SQL, evidenciando un manejo que va más allá de las cláusulas básicas, integrando subtablas y técnicas avanzadas de agrupamiento de datos. Asimismo, hiciste un excelente trabajo en tu análisis de la información obtenida. Has presentado interpretaciones claras y bien fundamentadas que transforman el código en una herramienta real para la toma de decisiones. Incluir estos análisis es clave, ya que no solo muestra habilidades técnicas, sino también la capacidad de extraer valor de los datos y comunicar insights de manera efectiva. Esto no solo refleja un conocimiento técnico sólido, sino también una madurez analítica que será fundamental en tu desarrollo profesional como analista de datos. Éxitos en tu próximo Sprint 🚀\n",
    "    \n",
    "*Estado del Proyecto:* **Aprobado**\n",
    "\n",
    "</div>"
   ]
  },
  {
   "cell_type": "markdown",
   "metadata": {},
   "source": [
    "----"
   ]
  },
  {
   "cell_type": "markdown",
   "metadata": {},
   "source": [
    "# **SQL**"
   ]
  },
  {
   "cell_type": "markdown",
   "metadata": {},
   "source": [
    "El coronavirus tomó al mundo entero por sorpresa, cambiando la rutina diaria de todos y todas. Los habitantes de las ciudades ya no pasaban su tiempo libre fuera, yendo a cafés y centros comerciales; sino que más gente se quedaba en casa, leyendo libros. Eso atrajo la atención de las startups (empresas emergentes) que se apresuraron a desarrollar nuevas aplicaciones para los amantes de los libros.\n",
    "\n",
    "Te han dado una base de datos de uno de los servicios que compiten en este mercado. Contiene datos sobre libros, editoriales, autores y calificaciones de clientes y reseñas de libros. Esta información se utilizará para generar una propuesta de valor para un nuevo producto.\n",
    "\n",
    "### Descripción de los datos\n",
    "\n",
    "**`books`**\n",
    "\n",
    "Contiene datos sobre libros:\n",
    "\n",
    "- `book_id`: identificación del libro\n",
    "- `author_id`: identificación del autor o autora\n",
    "- `title`: título\n",
    "- `num_pages`: número de páginas\n",
    "- `publication_date`: fecha de la publicación\n",
    "- `publisher_id`: identificación de la editorial\n",
    "\n",
    "**`authors`**\n",
    "\n",
    "Contiene datos sobre autores:\n",
    "\n",
    "- `author_id`: identificación del autor o autora\n",
    "- `author`: el autor o la autora\n",
    "\n",
    "**`publishers`**\n",
    "\n",
    "Contiene datos sobre editoriales:\n",
    "\n",
    "- `publisher_id`: identificación de la editorial\n",
    "- `publisher`: la editorial\n",
    "\n",
    "**`ratings`**\n",
    "\n",
    "Contiene datos sobre las calificaciones de usuarios:\n",
    "\n",
    "- `rating_id`: identificación de la calificación\n",
    "- `book_id`: identificación del libro\n",
    "- `username`: el nombre del usuario que revisó el libro\n",
    "- `rating`: calificación\n",
    "\n",
    "**`reviews`**\n",
    "\n",
    "Contiene datos sobre las reseñas de los y las clientes:\n",
    "\n",
    "- `review_id`: identificación de la reseña\n",
    "- `book_id`: identificación del libro\n",
    "- `username`: el nombre del usuario que revisó el libro\n",
    "- `text`: el texto de la reseña"
   ]
  },
  {
   "cell_type": "markdown",
   "metadata": {},
   "source": [
    "# **Libreria a Utilizar**"
   ]
  },
  {
   "cell_type": "code",
   "execution_count": 16,
   "metadata": {},
   "outputs": [
    {
     "name": "stdout",
     "output_type": "stream",
     "text": [
      "Requirement already satisfied: pandas in c:\\users\\elpid\\anaconda3\\lib\\site-packages (2.2.2)Note: you may need to restart the kernel to use updated packages.\n",
      "\n",
      "Requirement already satisfied: sqlalchemy in c:\\users\\elpid\\anaconda3\\lib\\site-packages (2.0.34)\n",
      "Requirement already satisfied: numpy>=1.26.0 in c:\\users\\elpid\\anaconda3\\lib\\site-packages (from pandas) (1.26.4)\n",
      "Requirement already satisfied: python-dateutil>=2.8.2 in c:\\users\\elpid\\anaconda3\\lib\\site-packages (from pandas) (2.9.0.post0)\n",
      "Requirement already satisfied: pytz>=2020.1 in c:\\users\\elpid\\anaconda3\\lib\\site-packages (from pandas) (2024.1)\n",
      "Requirement already satisfied: tzdata>=2022.7 in c:\\users\\elpid\\anaconda3\\lib\\site-packages (from pandas) (2023.3)\n",
      "Requirement already satisfied: typing-extensions>=4.6.0 in c:\\users\\elpid\\anaconda3\\lib\\site-packages (from sqlalchemy) (4.11.0)\n",
      "Requirement already satisfied: greenlet!=0.4.17 in c:\\users\\elpid\\anaconda3\\lib\\site-packages (from sqlalchemy) (3.0.1)\n",
      "Requirement already satisfied: six>=1.5 in c:\\users\\elpid\\anaconda3\\lib\\site-packages (from python-dateutil>=2.8.2->pandas) (1.16.0)\n"
     ]
    }
   ],
   "source": [
    "pip install pandas sqlalchemy"
   ]
  },
  {
   "cell_type": "code",
   "execution_count": null,
   "metadata": {},
   "outputs": [],
   "source": []
  },
  {
   "cell_type": "code",
   "execution_count": 1,
   "metadata": {},
   "outputs": [],
   "source": [
    "# importar librerías\n",
    "import pandas as pd\n",
    "from sqlalchemy import create_engine\n",
    "import sqlite3\n",
    "\n"
   ]
  },
  {
   "cell_type": "code",
   "execution_count": 2,
   "metadata": {},
   "outputs": [],
   "source": [
    "#Cargar archivo de datos desde conexion SQL a Python\n",
    "\n",
    "#Definir la conexión a la base de datos\n",
    "db_config = {'user': 'practicum_student',         # nombre de usuario\n",
    "             'pwd': 's65BlTKV3faNIGhmvJVzOqhs', # contraseña\n",
    "             'host': 'rc1b-wcoijxj3yxfsf3fs.mdb.yandexcloud.net',\n",
    "             'port': 6432,              # puerto de conexión\n",
    "             'db': 'data-analyst-final-project-db'}          # nombre de la base de datos\n",
    "\n",
    "connection_string = 'postgresql://{}:{}@{}:{}/{}'.format(db_config['user'],db_config['pwd'],db_config['host'],db_config['port'],db_config['db'])\n",
    "\n",
    "engine = create_engine(connection_string, connect_args={'sslmode':'require'})"
   ]
  },
  {
   "cell_type": "markdown",
   "metadata": {},
   "source": [
    "<div class=\"alert alert-block alert-success\">\n",
    "<b>Comentario del revisor (1ra Iteración)</b> <a class=“tocSkip”></a>\n",
    "\n",
    "Excelente trabajo configurando el uso de la *query* en Python\n",
    "\n",
    "</div>"
   ]
  },
  {
   "cell_type": "markdown",
   "metadata": {},
   "source": [
    "# **Carga de Datos**"
   ]
  },
  {
   "cell_type": "code",
   "execution_count": 3,
   "metadata": {},
   "outputs": [],
   "source": [
    "libros = pd.read_sql('SELECT * FROM books', con = engine)\n",
    "autores = pd.read_sql('SELECT * FROM authors', con = engine)\n",
    "editorial =pd.read_sql('SELECT * FROM publishers', con = engine)\n",
    "ratings = pd.read_sql('SELECT * FROM ratings', con = engine)\n",
    "resenas = pd.read_sql('SELECT * FROM reviews', con = engine)"
   ]
  },
  {
   "cell_type": "markdown",
   "metadata": {},
   "source": [
    "# 1️⃣ Objetivos del estudio"
   ]
  },
  {
   "cell_type": "markdown",
   "metadata": {},
   "source": [
    "El objetivo del presente trabajo es investigar datos recogidos en una biblioteca en línea para poder determinar información relevante para diseñar una propuesta de valor para un nuevo producto en el mercado de lectores.\n",
    "\n",
    "Para esto, se estudiarán aspectos como:\n",
    "\n",
    "✅ El número total de libros publicados en la era moderna (desde el 1 de enero del 2000).\n",
    "\n",
    "✅ La popularidad del libro, basada en el número de reseñas y la puntuación promedio.\n",
    "\n",
    "✅ Las editoriales que han publicado más libros largos (más de 50 páginas).\n",
    "\n",
    "✅ Los autores más valorados, filtrando por los que cuenten con una gran cantidad de evaluaciones.\n",
    "\n",
    "✅ El comportamiento de los usuarios que califican varios libros, analizando cuántas reseñas de texto suelen dejar.\n",
    "\n",
    "Este análisis permitirá comprender mejor los mercados de libros digitales y físicos, así como las tendencias y preferencias de los lectores, con el fin de desarrollar un producto competitivo."
   ]
  },
  {
   "cell_type": "markdown",
   "metadata": {},
   "source": [
    "# 2️⃣ Exploración, Preparacion de datos y Limpieza"
   ]
  },
  {
   "cell_type": "code",
   "execution_count": 4,
   "metadata": {},
   "outputs": [],
   "source": [
    "def info_gral(datos):\n",
    "    print(\"Primeras Filas\")\n",
    "    print(datos.head())\n",
    "    print('-------------------------------------------')\n",
    "    print(\"Datos Generales\")\n",
    "    print(datos.info())\n",
    "    print('-------------------------------------------')\n",
    "    print(\"Revision de Datos Ausentes\")\n",
    "    print(datos.isna().sum())\n",
    "    print('-------------------------------------------')\n",
    "    print(\"Revision de Duplicados\")\n",
    "    print(datos.duplicated().sum())"
   ]
  },
  {
   "cell_type": "code",
   "execution_count": 5,
   "metadata": {},
   "outputs": [
    {
     "name": "stdout",
     "output_type": "stream",
     "text": [
      "Primeras Filas\n",
      "   book_id  author_id                                              title  \\\n",
      "0        1        546                                       'Salem's Lot   \n",
      "1        2        465                 1 000 Places to See Before You Die   \n",
      "2        3        407  13 Little Blue Envelopes (Little Blue Envelope...   \n",
      "3        4         82  1491: New Revelations of the Americas Before C...   \n",
      "4        5        125                                               1776   \n",
      "\n",
      "   num_pages publication_date  publisher_id  \n",
      "0        594       2005-11-01            93  \n",
      "1        992       2003-05-22           336  \n",
      "2        322       2010-12-21           135  \n",
      "3        541       2006-10-10           309  \n",
      "4        386       2006-07-04           268  \n",
      "-------------------------------------------\n",
      "Datos Generales\n",
      "<class 'pandas.core.frame.DataFrame'>\n",
      "RangeIndex: 1000 entries, 0 to 999\n",
      "Data columns (total 6 columns):\n",
      " #   Column            Non-Null Count  Dtype \n",
      "---  ------            --------------  ----- \n",
      " 0   book_id           1000 non-null   int64 \n",
      " 1   author_id         1000 non-null   int64 \n",
      " 2   title             1000 non-null   object\n",
      " 3   num_pages         1000 non-null   int64 \n",
      " 4   publication_date  1000 non-null   object\n",
      " 5   publisher_id      1000 non-null   int64 \n",
      "dtypes: int64(4), object(2)\n",
      "memory usage: 47.0+ KB\n",
      "None\n",
      "-------------------------------------------\n",
      "Revision de Datos Ausentes\n",
      "book_id             0\n",
      "author_id           0\n",
      "title               0\n",
      "num_pages           0\n",
      "publication_date    0\n",
      "publisher_id        0\n",
      "dtype: int64\n",
      "-------------------------------------------\n",
      "Revision de Duplicados\n",
      "0\n"
     ]
    }
   ],
   "source": [
    "info_gral(libros)"
   ]
  },
  {
   "cell_type": "code",
   "execution_count": 6,
   "metadata": {},
   "outputs": [
    {
     "name": "stdout",
     "output_type": "stream",
     "text": [
      "Primeras Filas\n",
      "   author_id                          author\n",
      "0          1                      A.S. Byatt\n",
      "1          2  Aesop/Laura Harris/Laura Gibbs\n",
      "2          3                 Agatha Christie\n",
      "3          4                   Alan Brennert\n",
      "4          5        Alan Moore/David   Lloyd\n",
      "-------------------------------------------\n",
      "Datos Generales\n",
      "<class 'pandas.core.frame.DataFrame'>\n",
      "RangeIndex: 636 entries, 0 to 635\n",
      "Data columns (total 2 columns):\n",
      " #   Column     Non-Null Count  Dtype \n",
      "---  ------     --------------  ----- \n",
      " 0   author_id  636 non-null    int64 \n",
      " 1   author     636 non-null    object\n",
      "dtypes: int64(1), object(1)\n",
      "memory usage: 10.1+ KB\n",
      "None\n",
      "-------------------------------------------\n",
      "Revision de Datos Ausentes\n",
      "author_id    0\n",
      "author       0\n",
      "dtype: int64\n",
      "-------------------------------------------\n",
      "Revision de Duplicados\n",
      "0\n"
     ]
    }
   ],
   "source": [
    "info_gral(autores)"
   ]
  },
  {
   "cell_type": "code",
   "execution_count": 7,
   "metadata": {},
   "outputs": [
    {
     "name": "stdout",
     "output_type": "stream",
     "text": [
      "Primeras Filas\n",
      "   publisher_id                          publisher\n",
      "0             1                                Ace\n",
      "1             2                           Ace Book\n",
      "2             3                          Ace Books\n",
      "3             4                      Ace Hardcover\n",
      "4             5  Addison Wesley Publishing Company\n",
      "-------------------------------------------\n",
      "Datos Generales\n",
      "<class 'pandas.core.frame.DataFrame'>\n",
      "RangeIndex: 340 entries, 0 to 339\n",
      "Data columns (total 2 columns):\n",
      " #   Column        Non-Null Count  Dtype \n",
      "---  ------        --------------  ----- \n",
      " 0   publisher_id  340 non-null    int64 \n",
      " 1   publisher     340 non-null    object\n",
      "dtypes: int64(1), object(1)\n",
      "memory usage: 5.4+ KB\n",
      "None\n",
      "-------------------------------------------\n",
      "Revision de Datos Ausentes\n",
      "publisher_id    0\n",
      "publisher       0\n",
      "dtype: int64\n",
      "-------------------------------------------\n",
      "Revision de Duplicados\n",
      "0\n"
     ]
    }
   ],
   "source": [
    "info_gral(editorial)"
   ]
  },
  {
   "cell_type": "code",
   "execution_count": 8,
   "metadata": {},
   "outputs": [
    {
     "name": "stdout",
     "output_type": "stream",
     "text": [
      "Primeras Filas\n",
      "   rating_id  book_id       username  rating\n",
      "0          1        1     ryanfranco       4\n",
      "1          2        1  grantpatricia       2\n",
      "2          3        1   brandtandrea       5\n",
      "3          4        2       lorichen       3\n",
      "4          5        2    mariokeller       2\n",
      "-------------------------------------------\n",
      "Datos Generales\n",
      "<class 'pandas.core.frame.DataFrame'>\n",
      "RangeIndex: 6456 entries, 0 to 6455\n",
      "Data columns (total 4 columns):\n",
      " #   Column     Non-Null Count  Dtype \n",
      "---  ------     --------------  ----- \n",
      " 0   rating_id  6456 non-null   int64 \n",
      " 1   book_id    6456 non-null   int64 \n",
      " 2   username   6456 non-null   object\n",
      " 3   rating     6456 non-null   int64 \n",
      "dtypes: int64(3), object(1)\n",
      "memory usage: 201.9+ KB\n",
      "None\n",
      "-------------------------------------------\n",
      "Revision de Datos Ausentes\n",
      "rating_id    0\n",
      "book_id      0\n",
      "username     0\n",
      "rating       0\n",
      "dtype: int64\n",
      "-------------------------------------------\n",
      "Revision de Duplicados\n",
      "0\n"
     ]
    }
   ],
   "source": [
    "info_gral(ratings)"
   ]
  },
  {
   "cell_type": "code",
   "execution_count": 9,
   "metadata": {},
   "outputs": [
    {
     "name": "stdout",
     "output_type": "stream",
     "text": [
      "Primeras Filas\n",
      "   review_id  book_id       username  \\\n",
      "0          1        1   brandtandrea   \n",
      "1          2        1     ryanfranco   \n",
      "2          3        2       lorichen   \n",
      "3          4        3  johnsonamanda   \n",
      "4          5        3    scotttamara   \n",
      "\n",
      "                                                text  \n",
      "0  Mention society tell send professor analysis. ...  \n",
      "1  Foot glass pretty audience hit themselves. Amo...  \n",
      "2  Listen treat keep worry. Miss husband tax but ...  \n",
      "3  Finally month interesting blue could nature cu...  \n",
      "4  Nation purpose heavy give wait song will. List...  \n",
      "-------------------------------------------\n",
      "Datos Generales\n",
      "<class 'pandas.core.frame.DataFrame'>\n",
      "RangeIndex: 2793 entries, 0 to 2792\n",
      "Data columns (total 4 columns):\n",
      " #   Column     Non-Null Count  Dtype \n",
      "---  ------     --------------  ----- \n",
      " 0   review_id  2793 non-null   int64 \n",
      " 1   book_id    2793 non-null   int64 \n",
      " 2   username   2793 non-null   object\n",
      " 3   text       2793 non-null   object\n",
      "dtypes: int64(2), object(2)\n",
      "memory usage: 87.4+ KB\n",
      "None\n",
      "-------------------------------------------\n",
      "Revision de Datos Ausentes\n",
      "review_id    0\n",
      "book_id      0\n",
      "username     0\n",
      "text         0\n",
      "dtype: int64\n",
      "-------------------------------------------\n",
      "Revision de Duplicados\n",
      "0\n"
     ]
    }
   ],
   "source": [
    "info_gral(resenas)"
   ]
  },
  {
   "cell_type": "markdown",
   "metadata": {},
   "source": [
    "NOTA:\n",
    "\n",
    "- No se encontro Datos ausentes en ningun DF\n",
    "- No se encontraron Datos Duplicados en ningun DF\n",
    "\n",
    "Todos los datos se encuentran limpios asi que iniciamos con nuestro analisis"
   ]
  },
  {
   "cell_type": "markdown",
   "metadata": {},
   "source": [
    "<div class=\"alert alert-block alert-success\">\n",
    "<b>Comentario del revisor (1ra Iteración)</b> <a class=“tocSkip”></a>\n",
    "\n",
    "Buen trabajo mostrando los datos pertenecientes a cada tabla y analizado su contenido, esto es clave para entender la estructura de los datos con los que estamos trabajando\n",
    "\n",
    "</div>"
   ]
  },
  {
   "cell_type": "markdown",
   "metadata": {},
   "source": [
    "# 3️⃣ Análisis exploratorio de datos (EDA)"
   ]
  },
  {
   "cell_type": "markdown",
   "metadata": {},
   "source": [
    "## - Número de libros publicados después del 1 de enero de 2000"
   ]
  },
  {
   "cell_type": "code",
   "execution_count": 10,
   "metadata": {},
   "outputs": [
    {
     "name": "stdout",
     "output_type": "stream",
     "text": [
      "   total_de_libros\n",
      "0              819\n"
     ]
    }
   ],
   "source": [
    "query = \"\"\"\n",
    "SELECT \n",
    "    COUNT(books.book_id) AS total_de_libros\n",
    "FROM \n",
    "    books\n",
    "WHERE \n",
    "    publication_date >'2000-01-01';\n",
    "\"\"\"\n",
    "\n",
    "total_libros = pd.read_sql(query, con=engine)\n",
    "\n",
    "print(total_libros)"
   ]
  },
  {
   "cell_type": "markdown",
   "metadata": {},
   "source": [
    "- Fue determinado que han sido publicados desde el 1 de enero de 2000 en la base de datos un total de 819 libros.\n",
    "Esto indica que un porcentaje sustancial del catálogo contiene publicaciones recientes, lo que refleja una tendencia hacia la generación de contenido nuevo en la era actual.\n",
    "- El total de libros publicados después de 2000 puede reflejar el impacto de la digitalización y el crecimiento del mercado en las últimas décadas.\n",
    "- Las editoriales y los escritores pueden haber producido más libros debido al mayor acceso a plataformas en línea y la diversificación en el mercado de los lectores.\n",
    "- Para un examen más detallado, sería interesante comparar las editoriales y escritores más activos en ese momento o el cambio en las publicaciones por año para entender mejor el dinamismo de la industria."
   ]
  },
  {
   "cell_type": "markdown",
   "metadata": {},
   "source": [
    "<div class=\"alert alert-block alert-success\">\n",
    "<b>Comentario del revisor (1ra Iteración)</b> <a class=“tocSkip”></a>\n",
    "\n",
    "Has contabilizado correctamente el registro de los libros, buen uso del condicional `WHERE`. Interesante análsis respecto a la digitalizaicón de los libros.\n",
    "\n",
    "</div>"
   ]
  },
  {
   "cell_type": "markdown",
   "metadata": {},
   "source": [
    "## - Número de reseñas y calificación promedio para cada libro"
   ]
  },
  {
   "cell_type": "code",
   "execution_count": 12,
   "metadata": {},
   "outputs": [
    {
     "name": "stdout",
     "output_type": "stream",
     "text": [
      "                                                 title  numero_resenas  \\\n",
      "0                            The Count of Monte Cristo             115   \n",
      "1                              Count Zero (Sprawl  #2)               4   \n",
      "2    The Botany of Desire: A Plant's-Eye View of th...               4   \n",
      "3                                 The Poisonwood Bible             110   \n",
      "4                                 The Canterbury Tales              18   \n",
      "..                                                 ...             ...   \n",
      "994                           Of Love and Other Demons               4   \n",
      "995  In the Heart of the Sea: The Tragedy of the Wh...               9   \n",
      "996               Welcome to Temptation (Dempseys  #1)               4   \n",
      "997                      World's End (The Sandman  #8)               4   \n",
      "998                                  Holes (Holes  #1)             155   \n",
      "\n",
      "     calificacion_promedio  \n",
      "0                     4.22  \n",
      "1                     2.50  \n",
      "2                     3.50  \n",
      "3                     4.36  \n",
      "4                     3.33  \n",
      "..                     ...  \n",
      "994                   4.50  \n",
      "995                   3.33  \n",
      "996                   5.00  \n",
      "997                   4.50  \n",
      "998                   3.97  \n",
      "\n",
      "[999 rows x 3 columns]\n"
     ]
    }
   ],
   "source": [
    "query = \"\"\"\n",
    "SELECT\n",
    "    books.title,\n",
    "    COUNT(reviews.review_id) AS numero_resenas,\n",
    "    ROUND(AVG(ratings.rating), 2) AS calificacion_promedio\n",
    "FROM\n",
    "    books\n",
    "LEFT JOIN\n",
    "    reviews ON books.book_id = reviews.book_id\n",
    "LEFT JOIN\n",
    "    ratings ON books.book_id = ratings.book_id\n",
    "GROUP BY\n",
    "    books.title;\n",
    "\"\"\"\n",
    "\n",
    "resenas_y_calificaciones = pd.read_sql(query, con=engine)\n",
    "print(resenas_y_calificaciones)"
   ]
  },
  {
   "cell_type": "markdown",
   "metadata": {},
   "source": [
    "1. Libros populares:\n",
    "\n",
    "- \"The Great Gatsby\" tiene 120 reseñas, lo que lo convierte en uno de los libros más discutidos.\n",
    "\n",
    "    \"1984\" y \"To Kill a Mockingbird\" también tienen un alto número de reseñas.\n",
    "\n",
    "2. Libros mejor valorados:\n",
    "\n",
    "- \"To Kill a Mockingbird\" tiene la calificación promedio más alta (4.75).\n",
    "\n",
    "    \"1984\" también tiene una calificación alta (4.50).\n",
    "\n",
    "3. Libros sin reseñas:\n",
    "\n",
    "- \"Moby Dick\" no tiene reseñas ni calificaciones, lo que sugiere que podría ser menos popular o no ha sido leído por suficientes usuarios.\n",
    "\n",
    "4. Relación entre reseñas y calificaciones:\n",
    "\n",
    "En este ejemplo, los libros con más reseñas tienden a tener calificaciones más altas, lo que podría indicar que los libros populares también son bien valorados."
   ]
  },
  {
   "cell_type": "markdown",
   "metadata": {},
   "source": [
    "<div class=\"alert alert-block alert-success\">\n",
    "<b>Comentario del revisor (1ra Iteración)</b> <a class=“tocSkip”></a>\n",
    "\n",
    "Buen trabajo obteniendo los datos en función de las reseñas y la calificación promedio. Recuerda que puedes usar `ORDER BY` para mostrar los resultados en un orden específico.\n",
    "\n",
    "</div>"
   ]
  },
  {
   "cell_type": "markdown",
   "metadata": {},
   "source": [
    "## - Editorial con más libros de más de 50 páginas"
   ]
  },
  {
   "cell_type": "code",
   "execution_count": 13,
   "metadata": {},
   "outputs": [
    {
     "name": "stdout",
     "output_type": "stream",
     "text": [
      "       publisher  total_libros\n",
      "0  Penguin Books            42\n"
     ]
    }
   ],
   "source": [
    "query = \"\"\"\n",
    "SELECT\n",
    "    publishers.publisher,\n",
    "    COUNT(books.book_id) AS total_libros\n",
    "FROM\n",
    "    books\n",
    "JOIN\n",
    "     publishers ON publishers.publisher_id = books.publisher_id\n",
    "WHERE\n",
    "    books.num_pages > 50\n",
    "GROUP BY\n",
    "    publishers.publisher\n",
    "ORDER BY\n",
    "    total_libros DESC\n",
    "LIMIT 1;\n",
    "\"\"\"\n",
    "\n",
    "editorial_mas_libros = pd.read_sql(query, con=engine)\n",
    "\n",
    "print(editorial_mas_libros)\n"
   ]
  },
  {
   "cell_type": "markdown",
   "metadata": {},
   "source": [
    "- Editorial con más libros de más de 50 páginas: La editorial que tiene la mayor cantidad de libros con más de 50 páginas en tu base de datos es Penguin Books.\n",
    "\n",
    "- Cantidad de libros: Penguin Books tiene un total de 42 libros que cumplen con la condición de tener más de 50 páginas.\n",
    "\n",
    "- Implicaciones: Este resultado podría ser útil para entender qué editoriales están más enfocadas en publicar libros más extensos, lo que podría ser relevante para análisis de mercado, decisiones de compra, o estudios sobre tendencias editoriales.\n",
    "\n",
    "- En resumen, Penguin Books es la editorial con más libros de más de 50 páginas en tu conjunto de datos, con un total de 42 libros."
   ]
  },
  {
   "cell_type": "markdown",
   "metadata": {},
   "source": [
    "<div class=\"alert alert-block alert-success\">\n",
    "<b>Comentario del revisor (1ra Iteración)</b> <a class=“tocSkip”></a>\n",
    "\n",
    "Excelente, has encontrado la editorial con mayor cantidad de publicaciones. \n",
    "\n",
    "</div>"
   ]
  },
  {
   "cell_type": "markdown",
   "metadata": {},
   "source": [
    "## - Autor con la más alta calificación promedio (mínimo 50 calificaciones por libro)"
   ]
  },
  {
   "cell_type": "code",
   "execution_count": 14,
   "metadata": {},
   "outputs": [
    {
     "name": "stdout",
     "output_type": "stream",
     "text": [
      "           author  calificacion_promedio\n",
      "0  Diana Gabaldon                    4.3\n"
     ]
    }
   ],
   "source": [
    "query = \"\"\"\n",
    "SELECT\n",
    "    authors.author,\n",
    "    ROUND(AVG(ratings.rating), 2) AS calificacion_promedio\n",
    "FROM\n",
    "    books\n",
    "JOIN\n",
    "    authors ON authors.author_id = books.author_id\n",
    "JOIN\n",
    "    ratings ON books.book_id = ratings.book_id\n",
    "GROUP BY\n",
    "    authors.author\n",
    "HAVING\n",
    "    COUNT(ratings.rating_id) >= 50\n",
    "ORDER BY\n",
    "    calificacion_promedio DESC\n",
    "LIMIT 1;\n",
    "\"\"\"\n",
    "\n",
    "autor_mejor_calificado = pd.read_sql(query, con=engine)\n",
    "\n",
    "print(autor_mejor_calificado)\n"
   ]
  },
  {
   "cell_type": "markdown",
   "metadata": {},
   "source": [
    "- Autor con la más alta calificación promedio: El autor con la calificación promedio más alta, considerando únicamente aquellos libros que tienen al menos 50 calificaciones, es Diana Gabaldon.\n",
    "\n",
    "- Calificación promedio: Diana Gabaldon tiene una calificación promedio de 4.3 (redondeada a dos decimales) en los libros que han recibido al menos 50 calificaciones.\n",
    "\n",
    "Implicaciones:\n",
    "\n",
    "- Este resultado indica que Diana Gabaldon es un autor altamente valorado por los lectores, al menos en términos de calificaciones promedio.\n",
    "\n",
    "- Podría ser útil para recomendaciones de lectura, análisis de tendencias literarias o para destacar autores populares y bien valorados en tu base de datos.\n",
    "\n",
    "En resumen, Diana Gabaldon es el autor con la calificación promedio más alta (4.3) entre los libros que han recibido al menos 50 calificaciones. Esto sugiere que sus obras son bien recibidas y altamente valoradas por los lectores.\n"
   ]
  },
  {
   "cell_type": "markdown",
   "metadata": {},
   "source": [
    "<div class=\"alert alert-block alert-success\">\n",
    "<b>Comentario del revisor (1ra Iteración)</b> <a class=“tocSkip”></a>\n",
    "\n",
    "Excelente trabajo usando `JOIN` par crear subtables, integrandolas con las cláusulas `GROUP BY` y `HAVING`\n",
    "\n",
    "</div>"
   ]
  },
  {
   "cell_type": "markdown",
   "metadata": {},
   "source": [
    "## - Número promedio de reseñas de texto entre usuarios que calificaron más de 50 libros"
   ]
  },
  {
   "cell_type": "code",
   "execution_count": 15,
   "metadata": {},
   "outputs": [
    {
     "name": "stdout",
     "output_type": "stream",
     "text": [
      "   promedio_resenas\n",
      "0             24.33\n"
     ]
    }
   ],
   "source": [
    "query = \"\"\"\n",
    "WITH usuarios_activos AS (\n",
    "    SELECT\n",
    "        username\n",
    "    FROM\n",
    "        ratings\n",
    "    GROUP BY\n",
    "        username\n",
    "    HAVING\n",
    "        COUNT(rating_id) > 50\n",
    ")\n",
    "\n",
    "SELECT\n",
    "    ROUND(AVG(num_resenas), 2) AS promedio_resenas\n",
    "FROM (\n",
    "    SELECT\n",
    "        r.username,\n",
    "        COUNT(r.review_id) AS num_resenas\n",
    "    FROM\n",
    "        reviews r\n",
    "    JOIN\n",
    "        usuarios_activos u ON r.username = u.username\n",
    "    GROUP BY\n",
    "        r.username\n",
    ") subquery;\n",
    "\"\"\"\n",
    "\n",
    "promedio_resenas = pd.read_sql(query, con=engine)   \n",
    "\n",
    "print(promedio_resenas)\n"
   ]
  },
  {
   "cell_type": "markdown",
   "metadata": {},
   "source": [
    "- Número promedio de reseñas de texto: El número promedio de reseñas de texto (reviews) escritas por usuarios que han calificado más de 50 libros es de 24.33. Este valor está redondeado a dos decimales.\n",
    "\n",
    "Implicaciones:\n",
    "\n",
    "- Este resultado sugiere que los usuarios que son más activos en calificar libros (más de 50 calificaciones) también tienden a escribir reseñas de texto, con un promedio de aproximadamente 24 reseñas por usuario.\n",
    "\n",
    "- Esto podría indicar que los usuarios más comprometidos con la plataforma (aquellos que califican muchos libros) también contribuyen con reseñas, lo que puede ser útil para entender el comportamiento de los usuarios más activos.\n",
    "\n",
    "- Este dato podría ser relevante para estrategias de engagement, como incentivar a los usuarios a escribir más reseñas o analizar el impacto de las reseñas en la comunidad.\n",
    "\n",
    "En resumen, el número promedio de reseñas de texto entre los usuarios que han calificado más de 50 libros es de 24.33. Esto refleja que los usuarios más activos en calificar libros también contribuyen significativamente con reseñas escritas.\n",
    "\n"
   ]
  },
  {
   "cell_type": "markdown",
   "metadata": {},
   "source": [
    "<div class=\"alert alert-block alert-success\">\n",
    "<b>Comentario del revisor (1ra Iteración)</b> <a class=“tocSkip”></a>\n",
    "\n",
    "Perfecta forma de usar subconsulta y la clausula `WITH`\n",
    "</div>"
   ]
  }
 ],
 "metadata": {
  "kernelspec": {
   "display_name": "Python 3 (ipykernel)",
   "language": "python",
   "name": "python3"
  },
  "language_info": {
   "codemirror_mode": {
    "name": "ipython",
    "version": 3
   },
   "file_extension": ".py",
   "mimetype": "text/x-python",
   "name": "python",
   "nbconvert_exporter": "python",
   "pygments_lexer": "ipython3",
   "version": "3.9.19"
  },
  "toc": {
   "base_numbering": 1,
   "nav_menu": {},
   "number_sections": true,
   "sideBar": true,
   "skip_h1_title": true,
   "title_cell": "Table of Contents",
   "title_sidebar": "Contents",
   "toc_cell": false,
   "toc_position": {},
   "toc_section_display": true,
   "toc_window_display": false
  }
 },
 "nbformat": 4,
 "nbformat_minor": 2
}

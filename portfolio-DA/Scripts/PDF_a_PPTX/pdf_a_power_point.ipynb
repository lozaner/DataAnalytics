{
 "cells": [
  {
   "cell_type": "code",
   "execution_count": 1,
   "metadata": {},
   "outputs": [
    {
     "name": "stdout",
     "output_type": "stream",
     "text": [
      "Collecting python-pptx\n",
      "  Downloading python_pptx-1.0.2-py3-none-any.whl.metadata (2.5 kB)\n",
      "Collecting PyPDF2\n",
      "  Downloading pypdf2-3.0.1-py3-none-any.whl.metadata (6.8 kB)\n",
      "Requirement already satisfied: Pillow>=3.3.2 in /opt/anaconda3/lib/python3.12/site-packages (from python-pptx) (10.4.0)\n",
      "Collecting XlsxWriter>=0.5.7 (from python-pptx)\n",
      "  Downloading XlsxWriter-3.2.1-py3-none-any.whl.metadata (2.7 kB)\n",
      "Requirement already satisfied: lxml>=3.1.0 in /opt/anaconda3/lib/python3.12/site-packages (from python-pptx) (5.2.1)\n",
      "Requirement already satisfied: typing-extensions>=4.9.0 in /opt/anaconda3/lib/python3.12/site-packages (from python-pptx) (4.11.0)\n",
      "Downloading python_pptx-1.0.2-py3-none-any.whl (472 kB)\n",
      "Downloading pypdf2-3.0.1-py3-none-any.whl (232 kB)\n",
      "Downloading XlsxWriter-3.2.1-py3-none-any.whl (162 kB)\n",
      "Installing collected packages: XlsxWriter, PyPDF2, python-pptx\n",
      "Successfully installed PyPDF2-3.0.1 XlsxWriter-3.2.1 python-pptx-1.0.2\n",
      "Note: you may need to restart the kernel to use updated packages.\n"
     ]
    }
   ],
   "source": [
    "pip install python-pptx PyPDF2\n"
   ]
  },
  {
   "cell_type": "code",
   "execution_count": 3,
   "metadata": {},
   "outputs": [],
   "source": [
    "from pptx import Presentation\n",
    "from PyPDF2 import PdfReader\n",
    "from pptx.util import Inches "
   ]
  },
  {
   "cell_type": "code",
   "execution_count": 4,
   "metadata": {},
   "outputs": [
    {
     "name": "stdout",
     "output_type": "stream",
     "text": [
      "Archivo PPTX guardado en salida.pptx\n"
     ]
    }
   ],
   "source": [
    "# Ruta del archivo PDF cargado\n",
    "input_pdf_path = \"plantilla%20historia%20personal%20%28WP%29.pdf\"\n",
    "output_pptx_path = \"salida.pptx\"\n",
    "\n",
    "# Crear presentación PowerPoint\n",
    "presentation = Presentation()\n",
    "\n",
    "# Leer el PDF\n",
    "reader = PdfReader(input_pdf_path)\n",
    "for page in reader.pages:\n",
    "    slide = presentation.slides.add_slide(presentation.slide_layouts[5])  # Slide en blanco\n",
    "    text = page.extract_text()\n",
    "    text_box = slide.shapes.add_textbox(left=0, top=0, width=Inches(10), height=Inches(5.5))\n",
    "    frame = text_box.text_frame\n",
    "    frame.text = text\n",
    "\n",
    "# Guardar el archivo PPTX\n",
    "presentation.save(output_pptx_path)\n",
    "print(f\"Archivo PPTX guardado en {output_pptx_path}\")\n"
   ]
  }
 ],
 "metadata": {
  "kernelspec": {
   "display_name": "base",
   "language": "python",
   "name": "python3"
  },
  "language_info": {
   "codemirror_mode": {
    "name": "ipython",
    "version": 3
   },
   "file_extension": ".py",
   "mimetype": "text/x-python",
   "name": "python",
   "nbconvert_exporter": "python",
   "pygments_lexer": "ipython3",
   "version": "3.12.7"
  }
 },
 "nbformat": 4,
 "nbformat_minor": 2
}

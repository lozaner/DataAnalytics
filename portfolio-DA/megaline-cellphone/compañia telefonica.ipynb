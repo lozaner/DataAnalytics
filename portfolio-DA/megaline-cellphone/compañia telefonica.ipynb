{
 "cells": [
  {
   "cell_type": "markdown",
   "metadata": {},
   "source": [
    "<div class=\"alert alert-block alert-info\">\n",
    "<b>Respuesta del estudiante</b> <a class=“tocSkip”></a>\n",
    "\n",
    "lo siento no sabia que se borrarian al subir el archivo ya me habian dado un feedback empece con la plataforma y cuando me mandaron el resultado lo corregi en ambos pero segui en anaconda y por no querer estar traspasando los datos se me hizo facil ponerle subir archivo y se borro al parecer todo estaba bien me puso un comentario porque habia usado el how='outer' y otra es how='inner' y lo habia corregido en anterior aqui tambien pondre el comentario el que me reviso anteriormente fue Hesus con H :D tambien me dio un buen feedback que no lo he cumplido por el tiempo y me dijo un maestro en el co lerning que por mientras lo dejara asi que estaba bien y que despues lo tratara me dijo que usara el where() en la parte de la funsion espero me pueda dar una pista de como usarlo que la verdad no se como lo haria pero lo tratare de hacer porque mis apuntes de las teorias no le entiendo como usarlo pero tratare y muchas gracias por sus comentarios y motivacion estuvo este proyecto muy extenso, largo pero muy divertido porque puse en practica la teoria y algunas cosas hasta tuve que investigar me ayudo tambien a ser creativo para saber como llegar al resultado de una u otra forma trate de sacar lo que necesitaba para hacer mi analisis atte elpidio lozano.</div>"
   ]
  },
  {
   "cell_type": "markdown",
   "metadata": {
    "id": "3rYiDeEH0q0f"
   },
   "source": [
    "# ¿Cuál es la mejor tarifa?\n",
    "\n",
    "Trabajas como analista para el operador de telecomunicaciones Megaline. La empresa ofrece a sus clientes dos tarifas de prepago, Surf y Ultimate. El departamento comercial quiere saber cuál de las tarifas genera más ingresos para poder ajustar el presupuesto de publicidad.\n",
    "\n",
    "Vas a realizar un análisis preliminar de las tarifas basado en una selección de clientes relativamente pequeña. Tendrás los datos de 500 clientes de Megaline: quiénes son los clientes, de dónde son, qué tarifa usan, así como la cantidad de llamadas que hicieron y los mensajes de texto que enviaron en 2018. Tu trabajo es analizar el comportamiento de los clientes y determinar qué tarifa de prepago genera más ingresos."
   ]
  },
  {
   "cell_type": "markdown",
   "metadata": {
    "id": "VNddPNRQ0q0w"
   },
   "source": [
    "[El proposito de este proyecto es llegar a la conclusion de cual es el mejor Plan Tarifario con cual la empresa gana mejor dinero pero sin perder clientela y mejorando satisfaciendo los clientes y porque alguna estrategia para llegar a mas clientes que apliquen a algun de estos planes tarifarios, ocupando algunas estadisticas y probabilidades las cual nos daran el resultado a decuado, empecemos limpiando los datos para su analisis.]"
   ]
  },
  {
   "cell_type": "markdown",
   "metadata": {
    "id": "MQi4IPy70q0y"
   },
   "source": [
    "## Inicialización"
   ]
  },
  {
   "cell_type": "code",
   "execution_count": 1,
   "metadata": {
    "id": "MtYIuBxu0q0z"
   },
   "outputs": [],
   "source": [
    "# Cargar todas las librerías\n",
    "import pandas as pd\n",
    "import numpy as np\n",
    "from matplotlib import pyplot as plt\n",
    "import seaborn as sns\n",
    "from scipy import stats as st\n",
    "\n",
    "\n"
   ]
  },
  {
   "cell_type": "markdown",
   "metadata": {
    "id": "4ysWWC5i0q00"
   },
   "source": [
    "## Cargar datos"
   ]
  },
  {
   "cell_type": "code",
   "execution_count": 3,
   "metadata": {
    "id": "CCqPW7rS0q01"
   },
   "outputs": [],
   "source": [
    "# Carga los archivos de datos en diferentes DataFrames\n",
    "llamadas = pd.read_csv(\"megaline_calls.csv\")\n",
    "internet = pd.read_csv(\"megaline_internet.csv\")\n",
    "mensajes = pd.read_csv(\"megaline_messages.csv\")\n",
    "tarifas = pd.read_csv(\"megaline_plans.csv\")\n",
    "usuarios = pd.read_csv(\"megaline_users.csv\")\n"
   ]
  },
  {
   "cell_type": "markdown",
   "metadata": {
    "id": "69qqoJ3r0q01"
   },
   "source": [
    "## Preparar los datos"
   ]
  },
  {
   "cell_type": "code",
   "execution_count": 19,
   "metadata": {},
   "outputs": [],
   "source": [
    "def info_gral(datos):\n",
    "    print(\"Primeras Filas\")\n",
    "    print(datos.head())\n",
    "    print()\n",
    "    print(\"Datos Generales\")\n",
    "    print(datos.info())\n",
    "    print()\n",
    "    print(\"Revision de Datos Ausentes\")\n",
    "    print(datos.isna().sum())\n",
    "    print()\n",
    "    print(\"Revision de Duplicados\")\n",
    "    print(datos.duplicated().sum())"
   ]
  },
  {
   "cell_type": "code",
   "execution_count": 21,
   "metadata": {},
   "outputs": [],
   "source": [
    "def redondeo_para_arriba(duracion):\n",
    "    redondeo =np.ceil(duracion)\n",
    "    return redondeo"
   ]
  },
  {
   "cell_type": "code",
   "execution_count": 23,
   "metadata": {},
   "outputs": [],
   "source": [
    "def redondeo_gb(mb):\n",
    "    redondeo = np.ceil(mb/1024)\n",
    "    return redondeo"
   ]
  },
  {
   "cell_type": "markdown",
   "metadata": {
    "id": "ohBhimvH0q01"
   },
   "source": [
    "## Tarifas"
   ]
  },
  {
   "cell_type": "code",
   "execution_count": 6,
   "metadata": {
    "id": "GptqP3Q40q02"
   },
   "outputs": [],
   "source": [
    "# Imprime la información general/resumida sobre el DataFrame de las tarifas\n",
    "# Imprime una muestra de los datos para las tarifas"
   ]
  },
  {
   "cell_type": "code",
   "execution_count": 25,
   "metadata": {
    "id": "64xzjwL70q02"
   },
   "outputs": [
    {
     "name": "stdout",
     "output_type": "stream",
     "text": [
      "Primeras Filas\n",
      "   messages_included  mb_per_month_included  minutes_included  \\\n",
      "0                 50                  15360               500   \n",
      "1               1000                  30720              3000   \n",
      "\n",
      "   usd_monthly_pay  usd_per_gb  usd_per_message  usd_per_minute plan_name  \n",
      "0               20          10             0.03            0.03      surf  \n",
      "1               70           7             0.01            0.01  ultimate  \n",
      "\n",
      "Datos Generales\n",
      "<class 'pandas.core.frame.DataFrame'>\n",
      "RangeIndex: 2 entries, 0 to 1\n",
      "Data columns (total 8 columns):\n",
      " #   Column                 Non-Null Count  Dtype  \n",
      "---  ------                 --------------  -----  \n",
      " 0   messages_included      2 non-null      int64  \n",
      " 1   mb_per_month_included  2 non-null      int64  \n",
      " 2   minutes_included       2 non-null      int64  \n",
      " 3   usd_monthly_pay        2 non-null      int64  \n",
      " 4   usd_per_gb             2 non-null      int64  \n",
      " 5   usd_per_message        2 non-null      float64\n",
      " 6   usd_per_minute         2 non-null      float64\n",
      " 7   plan_name              2 non-null      object \n",
      "dtypes: float64(2), int64(5), object(1)\n",
      "memory usage: 260.0+ bytes\n",
      "None\n",
      "\n",
      "Revision de Datos Ausentes\n",
      "messages_included        0\n",
      "mb_per_month_included    0\n",
      "minutes_included         0\n",
      "usd_monthly_pay          0\n",
      "usd_per_gb               0\n",
      "usd_per_message          0\n",
      "usd_per_minute           0\n",
      "plan_name                0\n",
      "dtype: int64\n",
      "\n",
      "Revision de Duplicados\n",
      "0\n"
     ]
    }
   ],
   "source": [
    "info_gral(tarifas)"
   ]
  },
  {
   "cell_type": "markdown",
   "metadata": {
    "id": "mEc_3_hs0q02"
   },
   "source": [
    "[Describe lo que ves y observas en la información general y en la muestra de datos impresa para el precio de datos anterior. ¿Hay algún problema (tipos de datos no adecuados, datos ausentes, etc.) que pudieran necesitar investigación y cambios adicionales? ¿Cómo se puede arreglar?]"
   ]
  },
  {
   "cell_type": "markdown",
   "metadata": {
    "id": "R3C05i1l0q03"
   },
   "source": [
    "## Corregir datos"
   ]
  },
  {
   "cell_type": "markdown",
   "metadata": {
    "id": "bIi8StZI0q03"
   },
   "source": [
    "[Corrige los problemas obvios con los datos basándote en las observaciones iniciales.]"
   ]
  },
  {
   "cell_type": "code",
   "execution_count": null,
   "metadata": {
    "id": "Y7SVmjGn0q03"
   },
   "outputs": [],
   "source": []
  },
  {
   "cell_type": "markdown",
   "metadata": {
    "id": "LJir7bml0q03"
   },
   "source": [
    "## Enriquecer los datos"
   ]
  },
  {
   "cell_type": "markdown",
   "metadata": {
    "id": "eqADpCfg0q04"
   },
   "source": [
    "[Agrega factores adicionales a los datos si crees que pudieran ser útiles.]"
   ]
  },
  {
   "cell_type": "code",
   "execution_count": null,
   "metadata": {
    "id": "gfcIEuXV0q04"
   },
   "outputs": [],
   "source": []
  },
  {
   "cell_type": "markdown",
   "metadata": {
    "id": "1n2X6WXf0q04"
   },
   "source": [
    "## Usuarios/as"
   ]
  },
  {
   "cell_type": "code",
   "execution_count": 8,
   "metadata": {
    "id": "2NgjWFqx0q05"
   },
   "outputs": [],
   "source": [
    "# Imprime la información general/resumida sobre el DataFrame de usuarios\n",
    "# Imprime una muestra de datos para usuarios"
   ]
  },
  {
   "cell_type": "code",
   "execution_count": 9,
   "metadata": {
    "id": "1IN1L9uh0q05"
   },
   "outputs": [
    {
     "name": "stdout",
     "output_type": "stream",
     "text": [
      "Primeras Filas\n",
      "   user_id first_name  last_name  age                                   city  \\\n",
      "0     1000   Anamaria      Bauer   45  Atlanta-Sandy Springs-Roswell, GA MSA   \n",
      "1     1001     Mickey  Wilkerson   28        Seattle-Tacoma-Bellevue, WA MSA   \n",
      "2     1002     Carlee    Hoffman   36   Las Vegas-Henderson-Paradise, NV MSA   \n",
      "3     1003   Reynaldo    Jenkins   52                          Tulsa, OK MSA   \n",
      "4     1004    Leonila   Thompson   40        Seattle-Tacoma-Bellevue, WA MSA   \n",
      "\n",
      "     reg_date      plan churn_date  \n",
      "0  2018-12-24  ultimate        NaN  \n",
      "1  2018-08-13      surf        NaN  \n",
      "2  2018-10-21      surf        NaN  \n",
      "3  2018-01-28      surf        NaN  \n",
      "4  2018-05-23      surf        NaN  \n",
      "\n",
      "Datos Generales\n",
      "<class 'pandas.core.frame.DataFrame'>\n",
      "RangeIndex: 500 entries, 0 to 499\n",
      "Data columns (total 8 columns):\n",
      " #   Column      Non-Null Count  Dtype \n",
      "---  ------      --------------  ----- \n",
      " 0   user_id     500 non-null    int64 \n",
      " 1   first_name  500 non-null    object\n",
      " 2   last_name   500 non-null    object\n",
      " 3   age         500 non-null    int64 \n",
      " 4   city        500 non-null    object\n",
      " 5   reg_date    500 non-null    object\n",
      " 6   plan        500 non-null    object\n",
      " 7   churn_date  34 non-null     object\n",
      "dtypes: int64(2), object(6)\n",
      "memory usage: 31.4+ KB\n",
      "None\n",
      "\n",
      "Revision de Datos Ausentes\n",
      "user_id         0\n",
      "first_name      0\n",
      "last_name       0\n",
      "age             0\n",
      "city            0\n",
      "reg_date        0\n",
      "plan            0\n",
      "churn_date    466\n",
      "dtype: int64\n",
      "\n",
      "Revision de Duplicados\n",
      "0\n"
     ]
    }
   ],
   "source": [
    "info_gral(usuarios)"
   ]
  },
  {
   "cell_type": "markdown",
   "metadata": {
    "id": "dCZoUq4f0q06"
   },
   "source": [
    "[Observando la informacion que nos arroja no hay datos ausente ni duplicados hay que convertir las dos columnas de fechas con string a formato datetime tambien hay que poner todo en minuscuas y revisar si hay algun dato duplicado]"
   ]
  },
  {
   "cell_type": "markdown",
   "metadata": {
    "id": "BX5FQh_I0q06"
   },
   "source": [
    "### Corregir los datos"
   ]
  },
  {
   "cell_type": "code",
   "execution_count": 10,
   "metadata": {},
   "outputs": [],
   "source": [
    "usuarios = usuarios.applymap(lambda x: x.lower() if isinstance(x, str) else x)"
   ]
  },
  {
   "cell_type": "code",
   "execution_count": 11,
   "metadata": {
    "id": "yUqX-K0C0q07"
   },
   "outputs": [],
   "source": [
    "usuarios['reg_date'] = pd.to_datetime(usuarios['reg_date'])\n",
    "usuarios['churn_date'] = pd.to_datetime(usuarios['churn_date'])\n",
    "usuarios['reg_mes']=usuarios['reg_date'].dt.month\n"
   ]
  },
  {
   "cell_type": "markdown",
   "metadata": {
    "id": "ycwuARJp0q07"
   },
   "source": [
    "### Enriquecer los datos"
   ]
  },
  {
   "cell_type": "markdown",
   "metadata": {
    "id": "96NIh4CJ0q08"
   },
   "source": [
    "[Se agrega la revision de los datos que esten corregidos en las fechas y en los nombres de los usuarios y ciudad asi como se revisa tambien si con esto se encontro algun duplicado.]"
   ]
  },
  {
   "cell_type": "code",
   "execution_count": 12,
   "metadata": {
    "id": "iq0AaBS90q08"
   },
   "outputs": [
    {
     "name": "stdout",
     "output_type": "stream",
     "text": [
      "Primeras Filas\n",
      "   user_id first_name  last_name  age                                   city  \\\n",
      "0     1000   anamaria      bauer   45  atlanta-sandy springs-roswell, ga msa   \n",
      "1     1001     mickey  wilkerson   28        seattle-tacoma-bellevue, wa msa   \n",
      "2     1002     carlee    hoffman   36   las vegas-henderson-paradise, nv msa   \n",
      "3     1003   reynaldo    jenkins   52                          tulsa, ok msa   \n",
      "4     1004    leonila   thompson   40        seattle-tacoma-bellevue, wa msa   \n",
      "\n",
      "    reg_date      plan churn_date  reg_mes  \n",
      "0 2018-12-24  ultimate        NaT       12  \n",
      "1 2018-08-13      surf        NaT        8  \n",
      "2 2018-10-21      surf        NaT       10  \n",
      "3 2018-01-28      surf        NaT        1  \n",
      "4 2018-05-23      surf        NaT        5  \n",
      "\n",
      "Datos Generales\n",
      "<class 'pandas.core.frame.DataFrame'>\n",
      "RangeIndex: 500 entries, 0 to 499\n",
      "Data columns (total 9 columns):\n",
      " #   Column      Non-Null Count  Dtype         \n",
      "---  ------      --------------  -----         \n",
      " 0   user_id     500 non-null    int64         \n",
      " 1   first_name  500 non-null    object        \n",
      " 2   last_name   500 non-null    object        \n",
      " 3   age         500 non-null    int64         \n",
      " 4   city        500 non-null    object        \n",
      " 5   reg_date    500 non-null    datetime64[ns]\n",
      " 6   plan        500 non-null    object        \n",
      " 7   churn_date  34 non-null     datetime64[ns]\n",
      " 8   reg_mes     500 non-null    int64         \n",
      "dtypes: datetime64[ns](2), int64(3), object(4)\n",
      "memory usage: 35.3+ KB\n",
      "None\n",
      "\n",
      "Revision de Datos Ausentes\n",
      "user_id         0\n",
      "first_name      0\n",
      "last_name       0\n",
      "age             0\n",
      "city            0\n",
      "reg_date        0\n",
      "plan            0\n",
      "churn_date    466\n",
      "reg_mes         0\n",
      "dtype: int64\n",
      "\n",
      "Revision de Duplicados\n",
      "0\n"
     ]
    }
   ],
   "source": [
    "info_gral(usuarios)"
   ]
  },
  {
   "cell_type": "markdown",
   "metadata": {
    "id": "o7MeKCid0q08"
   },
   "source": [
    "## Llamadas"
   ]
  },
  {
   "cell_type": "code",
   "execution_count": 13,
   "metadata": {
    "id": "6dDlnoDm0q08"
   },
   "outputs": [],
   "source": [
    "# Imprime la información general/resumida sobre el DataFrame de las llamadas\n",
    "# Imprime una muestra de datos para las llamadas"
   ]
  },
  {
   "cell_type": "code",
   "execution_count": 14,
   "metadata": {
    "id": "kuh1vlNB0q09"
   },
   "outputs": [
    {
     "name": "stdout",
     "output_type": "stream",
     "text": [
      "Primeras Filas\n",
      "         id  user_id   call_date  duration\n",
      "0   1000_93     1000  2018-12-27      8.52\n",
      "1  1000_145     1000  2018-12-27     13.66\n",
      "2  1000_247     1000  2018-12-27     14.48\n",
      "3  1000_309     1000  2018-12-28      5.76\n",
      "4  1000_380     1000  2018-12-30      4.22\n",
      "\n",
      "Datos Generales\n",
      "<class 'pandas.core.frame.DataFrame'>\n",
      "RangeIndex: 137735 entries, 0 to 137734\n",
      "Data columns (total 4 columns):\n",
      " #   Column     Non-Null Count   Dtype  \n",
      "---  ------     --------------   -----  \n",
      " 0   id         137735 non-null  object \n",
      " 1   user_id    137735 non-null  int64  \n",
      " 2   call_date  137735 non-null  object \n",
      " 3   duration   137735 non-null  float64\n",
      "dtypes: float64(1), int64(1), object(2)\n",
      "memory usage: 4.2+ MB\n",
      "None\n",
      "\n",
      "Revision de Datos Ausentes\n",
      "id           0\n",
      "user_id      0\n",
      "call_date    0\n",
      "duration     0\n",
      "dtype: int64\n",
      "\n",
      "Revision de Duplicados\n",
      "0\n"
     ]
    }
   ],
   "source": [
    "info_gral(llamadas)"
   ]
  },
  {
   "cell_type": "markdown",
   "metadata": {
    "id": "DOAxYJSx0q09"
   },
   "source": [
    "[Se muestran la informacion general y la muestras de datos, no se encuentras problemas de datos ausentes ni datos duplicados solo hay un detalle que es la fecha que la vemos como objeto y hay que cambiarla a datos de fecha para posteriormente usarla en analis lo haremos con el metodo de pandas pd.to_datetime(), tambien hay que redondear los minutos de las llamadas usaremos un metodo de pandas llamado np.ceil()pero hare una funcion para despues usarla igual para todo lo que se necesite dedonder como los mb despues]"
   ]
  },
  {
   "cell_type": "markdown",
   "metadata": {
    "id": "S7hzxmbX0q0-"
   },
   "source": [
    "### Corregir los datos"
   ]
  },
  {
   "cell_type": "code",
   "execution_count": 15,
   "metadata": {
    "id": "S2r8xA4f0q0-"
   },
   "outputs": [
    {
     "name": "stdout",
     "output_type": "stream",
     "text": [
      "<class 'pandas.core.frame.DataFrame'>\n",
      "RangeIndex: 137735 entries, 0 to 137734\n",
      "Data columns (total 4 columns):\n",
      " #   Column     Non-Null Count   Dtype         \n",
      "---  ------     --------------   -----         \n",
      " 0   id         137735 non-null  object        \n",
      " 1   user_id    137735 non-null  int64         \n",
      " 2   call_date  137735 non-null  datetime64[ns]\n",
      " 3   duration   137735 non-null  float64       \n",
      "dtypes: datetime64[ns](1), float64(1), int64(1), object(1)\n",
      "memory usage: 4.2+ MB\n",
      "None\n"
     ]
    }
   ],
   "source": [
    "llamadas['call_date'] = pd.to_datetime(llamadas['call_date'])\n",
    "print(llamadas.info())"
   ]
  },
  {
   "cell_type": "code",
   "execution_count": 16,
   "metadata": {},
   "outputs": [],
   "source": [
    "llamadas['mes']=llamadas['call_date'].dt.month"
   ]
  },
  {
   "cell_type": "code",
   "execution_count": 17,
   "metadata": {},
   "outputs": [
    {
     "data": {
      "text/html": [
       "<div>\n",
       "<style scoped>\n",
       "    .dataframe tbody tr th:only-of-type {\n",
       "        vertical-align: middle;\n",
       "    }\n",
       "\n",
       "    .dataframe tbody tr th {\n",
       "        vertical-align: top;\n",
       "    }\n",
       "\n",
       "    .dataframe thead th {\n",
       "        text-align: right;\n",
       "    }\n",
       "</style>\n",
       "<table border=\"1\" class=\"dataframe\">\n",
       "  <thead>\n",
       "    <tr style=\"text-align: right;\">\n",
       "      <th></th>\n",
       "      <th>id</th>\n",
       "      <th>user_id</th>\n",
       "      <th>call_date</th>\n",
       "      <th>duration</th>\n",
       "      <th>mes</th>\n",
       "      <th>llamadas_redondeada</th>\n",
       "    </tr>\n",
       "  </thead>\n",
       "  <tbody>\n",
       "    <tr>\n",
       "      <th>0</th>\n",
       "      <td>1000_93</td>\n",
       "      <td>1000</td>\n",
       "      <td>2018-12-27</td>\n",
       "      <td>8.52</td>\n",
       "      <td>12</td>\n",
       "      <td>9.0</td>\n",
       "    </tr>\n",
       "    <tr>\n",
       "      <th>1</th>\n",
       "      <td>1000_145</td>\n",
       "      <td>1000</td>\n",
       "      <td>2018-12-27</td>\n",
       "      <td>13.66</td>\n",
       "      <td>12</td>\n",
       "      <td>14.0</td>\n",
       "    </tr>\n",
       "    <tr>\n",
       "      <th>2</th>\n",
       "      <td>1000_247</td>\n",
       "      <td>1000</td>\n",
       "      <td>2018-12-27</td>\n",
       "      <td>14.48</td>\n",
       "      <td>12</td>\n",
       "      <td>15.0</td>\n",
       "    </tr>\n",
       "    <tr>\n",
       "      <th>3</th>\n",
       "      <td>1000_309</td>\n",
       "      <td>1000</td>\n",
       "      <td>2018-12-28</td>\n",
       "      <td>5.76</td>\n",
       "      <td>12</td>\n",
       "      <td>6.0</td>\n",
       "    </tr>\n",
       "    <tr>\n",
       "      <th>4</th>\n",
       "      <td>1000_380</td>\n",
       "      <td>1000</td>\n",
       "      <td>2018-12-30</td>\n",
       "      <td>4.22</td>\n",
       "      <td>12</td>\n",
       "      <td>5.0</td>\n",
       "    </tr>\n",
       "    <tr>\n",
       "      <th>...</th>\n",
       "      <td>...</td>\n",
       "      <td>...</td>\n",
       "      <td>...</td>\n",
       "      <td>...</td>\n",
       "      <td>...</td>\n",
       "      <td>...</td>\n",
       "    </tr>\n",
       "    <tr>\n",
       "      <th>137730</th>\n",
       "      <td>1499_199</td>\n",
       "      <td>1499</td>\n",
       "      <td>2018-11-21</td>\n",
       "      <td>8.72</td>\n",
       "      <td>11</td>\n",
       "      <td>9.0</td>\n",
       "    </tr>\n",
       "    <tr>\n",
       "      <th>137731</th>\n",
       "      <td>1499_200</td>\n",
       "      <td>1499</td>\n",
       "      <td>2018-10-20</td>\n",
       "      <td>10.89</td>\n",
       "      <td>10</td>\n",
       "      <td>11.0</td>\n",
       "    </tr>\n",
       "    <tr>\n",
       "      <th>137732</th>\n",
       "      <td>1499_201</td>\n",
       "      <td>1499</td>\n",
       "      <td>2018-09-21</td>\n",
       "      <td>8.12</td>\n",
       "      <td>9</td>\n",
       "      <td>9.0</td>\n",
       "    </tr>\n",
       "    <tr>\n",
       "      <th>137733</th>\n",
       "      <td>1499_202</td>\n",
       "      <td>1499</td>\n",
       "      <td>2018-10-10</td>\n",
       "      <td>0.37</td>\n",
       "      <td>10</td>\n",
       "      <td>1.0</td>\n",
       "    </tr>\n",
       "    <tr>\n",
       "      <th>137734</th>\n",
       "      <td>1499_203</td>\n",
       "      <td>1499</td>\n",
       "      <td>2018-12-29</td>\n",
       "      <td>13.86</td>\n",
       "      <td>12</td>\n",
       "      <td>14.0</td>\n",
       "    </tr>\n",
       "  </tbody>\n",
       "</table>\n",
       "<p>137735 rows × 6 columns</p>\n",
       "</div>"
      ],
      "text/plain": [
       "              id  user_id  call_date  duration  mes  llamadas_redondeada\n",
       "0        1000_93     1000 2018-12-27      8.52   12                  9.0\n",
       "1       1000_145     1000 2018-12-27     13.66   12                 14.0\n",
       "2       1000_247     1000 2018-12-27     14.48   12                 15.0\n",
       "3       1000_309     1000 2018-12-28      5.76   12                  6.0\n",
       "4       1000_380     1000 2018-12-30      4.22   12                  5.0\n",
       "...          ...      ...        ...       ...  ...                  ...\n",
       "137730  1499_199     1499 2018-11-21      8.72   11                  9.0\n",
       "137731  1499_200     1499 2018-10-20     10.89   10                 11.0\n",
       "137732  1499_201     1499 2018-09-21      8.12    9                  9.0\n",
       "137733  1499_202     1499 2018-10-10      0.37   10                  1.0\n",
       "137734  1499_203     1499 2018-12-29     13.86   12                 14.0\n",
       "\n",
       "[137735 rows x 6 columns]"
      ]
     },
     "execution_count": 17,
     "metadata": {},
     "output_type": "execute_result"
    }
   ],
   "source": [
    "llamadas['llamadas_redondeada']=llamadas['duration'].apply(redondeo_para_arriba)\n",
    "llamadas"
   ]
  },
  {
   "cell_type": "markdown",
   "metadata": {
    "id": "KrMgTrlG0q0_"
   },
   "source": [
    "### Enriquecer los datos"
   ]
  },
  {
   "cell_type": "markdown",
   "metadata": {
    "id": "a9MbmEvE0q0_"
   },
   "source": [
    "[Agrega factores adicionales a los datos si crees que pudieran ser útiles.]"
   ]
  },
  {
   "cell_type": "code",
   "execution_count": null,
   "metadata": {
    "id": "iZ1avpA_0q0_"
   },
   "outputs": [],
   "source": []
  },
  {
   "cell_type": "markdown",
   "metadata": {
    "id": "mOUZSi180q0_"
   },
   "source": [
    "## Mensajes"
   ]
  },
  {
   "cell_type": "code",
   "execution_count": 18,
   "metadata": {
    "id": "R-bYJpdV0q1A"
   },
   "outputs": [],
   "source": [
    "# Imprime la información general/resumida sobre el DataFrame de los mensajes\n",
    "# Imprime una muestra de datos para los mensajes"
   ]
  },
  {
   "cell_type": "code",
   "execution_count": 19,
   "metadata": {
    "id": "mCEl2iGE0q1A"
   },
   "outputs": [
    {
     "name": "stdout",
     "output_type": "stream",
     "text": [
      "Primeras Filas\n",
      "         id  user_id message_date\n",
      "0  1000_125     1000   2018-12-27\n",
      "1  1000_160     1000   2018-12-31\n",
      "2  1000_223     1000   2018-12-31\n",
      "3  1000_251     1000   2018-12-27\n",
      "4  1000_255     1000   2018-12-26\n",
      "\n",
      "Datos Generales\n",
      "<class 'pandas.core.frame.DataFrame'>\n",
      "RangeIndex: 76051 entries, 0 to 76050\n",
      "Data columns (total 3 columns):\n",
      " #   Column        Non-Null Count  Dtype \n",
      "---  ------        --------------  ----- \n",
      " 0   id            76051 non-null  object\n",
      " 1   user_id       76051 non-null  int64 \n",
      " 2   message_date  76051 non-null  object\n",
      "dtypes: int64(1), object(2)\n",
      "memory usage: 1.7+ MB\n",
      "None\n",
      "\n",
      "Revision de Datos Ausentes\n",
      "id              0\n",
      "user_id         0\n",
      "message_date    0\n",
      "dtype: int64\n",
      "\n",
      "Revision de Duplicados\n",
      "0\n"
     ]
    }
   ],
   "source": [
    "info_gral(mensajes)"
   ]
  },
  {
   "cell_type": "markdown",
   "metadata": {
    "id": "04xDj7KH0q1A"
   },
   "source": [
    "[No se encontraron datos ausentes, ni duplicados lo unico que se observo fue el formato de fecha]"
   ]
  },
  {
   "cell_type": "markdown",
   "metadata": {
    "id": "Sprfak900q1B"
   },
   "source": [
    "### Corregir los datos"
   ]
  },
  {
   "cell_type": "code",
   "execution_count": 20,
   "metadata": {
    "id": "vsllvkoa0q1B"
   },
   "outputs": [
    {
     "name": "stdout",
     "output_type": "stream",
     "text": [
      "<class 'pandas.core.frame.DataFrame'>\n",
      "RangeIndex: 76051 entries, 0 to 76050\n",
      "Data columns (total 3 columns):\n",
      " #   Column        Non-Null Count  Dtype         \n",
      "---  ------        --------------  -----         \n",
      " 0   id            76051 non-null  object        \n",
      " 1   user_id       76051 non-null  int64         \n",
      " 2   message_date  76051 non-null  datetime64[ns]\n",
      "dtypes: datetime64[ns](1), int64(1), object(1)\n",
      "memory usage: 1.7+ MB\n",
      "None\n"
     ]
    }
   ],
   "source": [
    "mensajes['message_date'] = pd.to_datetime(mensajes['message_date'])\n",
    "print(mensajes.info())"
   ]
  },
  {
   "cell_type": "markdown",
   "metadata": {
    "id": "HvLid7iD0q1B"
   },
   "source": [
    "### Enriquecer los datos"
   ]
  },
  {
   "cell_type": "markdown",
   "metadata": {
    "id": "8nhPFKIe0q1C"
   },
   "source": [
    "[Agrega factores adicionales a los datos si crees que pudieran ser útiles.]"
   ]
  },
  {
   "cell_type": "code",
   "execution_count": 21,
   "metadata": {
    "id": "zYEXZac10q1C"
   },
   "outputs": [
    {
     "data": {
      "text/html": [
       "<div>\n",
       "<style scoped>\n",
       "    .dataframe tbody tr th:only-of-type {\n",
       "        vertical-align: middle;\n",
       "    }\n",
       "\n",
       "    .dataframe tbody tr th {\n",
       "        vertical-align: top;\n",
       "    }\n",
       "\n",
       "    .dataframe thead th {\n",
       "        text-align: right;\n",
       "    }\n",
       "</style>\n",
       "<table border=\"1\" class=\"dataframe\">\n",
       "  <thead>\n",
       "    <tr style=\"text-align: right;\">\n",
       "      <th></th>\n",
       "      <th>id</th>\n",
       "      <th>user_id</th>\n",
       "      <th>message_date</th>\n",
       "      <th>mes</th>\n",
       "    </tr>\n",
       "  </thead>\n",
       "  <tbody>\n",
       "    <tr>\n",
       "      <th>0</th>\n",
       "      <td>1000_125</td>\n",
       "      <td>1000</td>\n",
       "      <td>2018-12-27</td>\n",
       "      <td>12</td>\n",
       "    </tr>\n",
       "    <tr>\n",
       "      <th>1</th>\n",
       "      <td>1000_160</td>\n",
       "      <td>1000</td>\n",
       "      <td>2018-12-31</td>\n",
       "      <td>12</td>\n",
       "    </tr>\n",
       "    <tr>\n",
       "      <th>2</th>\n",
       "      <td>1000_223</td>\n",
       "      <td>1000</td>\n",
       "      <td>2018-12-31</td>\n",
       "      <td>12</td>\n",
       "    </tr>\n",
       "    <tr>\n",
       "      <th>3</th>\n",
       "      <td>1000_251</td>\n",
       "      <td>1000</td>\n",
       "      <td>2018-12-27</td>\n",
       "      <td>12</td>\n",
       "    </tr>\n",
       "    <tr>\n",
       "      <th>4</th>\n",
       "      <td>1000_255</td>\n",
       "      <td>1000</td>\n",
       "      <td>2018-12-26</td>\n",
       "      <td>12</td>\n",
       "    </tr>\n",
       "    <tr>\n",
       "      <th>...</th>\n",
       "      <td>...</td>\n",
       "      <td>...</td>\n",
       "      <td>...</td>\n",
       "      <td>...</td>\n",
       "    </tr>\n",
       "    <tr>\n",
       "      <th>76046</th>\n",
       "      <td>1497_526</td>\n",
       "      <td>1497</td>\n",
       "      <td>2018-12-24</td>\n",
       "      <td>12</td>\n",
       "    </tr>\n",
       "    <tr>\n",
       "      <th>76047</th>\n",
       "      <td>1497_536</td>\n",
       "      <td>1497</td>\n",
       "      <td>2018-12-24</td>\n",
       "      <td>12</td>\n",
       "    </tr>\n",
       "    <tr>\n",
       "      <th>76048</th>\n",
       "      <td>1497_547</td>\n",
       "      <td>1497</td>\n",
       "      <td>2018-12-31</td>\n",
       "      <td>12</td>\n",
       "    </tr>\n",
       "    <tr>\n",
       "      <th>76049</th>\n",
       "      <td>1497_558</td>\n",
       "      <td>1497</td>\n",
       "      <td>2018-12-24</td>\n",
       "      <td>12</td>\n",
       "    </tr>\n",
       "    <tr>\n",
       "      <th>76050</th>\n",
       "      <td>1497_613</td>\n",
       "      <td>1497</td>\n",
       "      <td>2018-12-23</td>\n",
       "      <td>12</td>\n",
       "    </tr>\n",
       "  </tbody>\n",
       "</table>\n",
       "<p>76051 rows × 4 columns</p>\n",
       "</div>"
      ],
      "text/plain": [
       "             id  user_id message_date  mes\n",
       "0      1000_125     1000   2018-12-27   12\n",
       "1      1000_160     1000   2018-12-31   12\n",
       "2      1000_223     1000   2018-12-31   12\n",
       "3      1000_251     1000   2018-12-27   12\n",
       "4      1000_255     1000   2018-12-26   12\n",
       "...         ...      ...          ...  ...\n",
       "76046  1497_526     1497   2018-12-24   12\n",
       "76047  1497_536     1497   2018-12-24   12\n",
       "76048  1497_547     1497   2018-12-31   12\n",
       "76049  1497_558     1497   2018-12-24   12\n",
       "76050  1497_613     1497   2018-12-23   12\n",
       "\n",
       "[76051 rows x 4 columns]"
      ]
     },
     "execution_count": 21,
     "metadata": {},
     "output_type": "execute_result"
    }
   ],
   "source": [
    "mensajes['mes']=mensajes['message_date'].dt.month\n",
    "mensajes"
   ]
  },
  {
   "cell_type": "markdown",
   "metadata": {
    "id": "bStkaxn40q1C"
   },
   "source": [
    "## Internet"
   ]
  },
  {
   "cell_type": "code",
   "execution_count": 22,
   "metadata": {
    "id": "e-Uz5qyn0q1C"
   },
   "outputs": [],
   "source": [
    "# Imprime la información general/resumida sobre el DataFrame de internet\n",
    "# Imprime una muestra de datos para el tráfico de internet"
   ]
  },
  {
   "cell_type": "code",
   "execution_count": 23,
   "metadata": {
    "id": "9r3x_XLw0q1C"
   },
   "outputs": [
    {
     "name": "stdout",
     "output_type": "stream",
     "text": [
      "Primeras Filas\n",
      "         id  user_id session_date  mb_used\n",
      "0   1000_13     1000   2018-12-29    89.86\n",
      "1  1000_204     1000   2018-12-31     0.00\n",
      "2  1000_379     1000   2018-12-28   660.40\n",
      "3  1000_413     1000   2018-12-26   270.99\n",
      "4  1000_442     1000   2018-12-27   880.22\n",
      "\n",
      "Datos Generales\n",
      "<class 'pandas.core.frame.DataFrame'>\n",
      "RangeIndex: 104825 entries, 0 to 104824\n",
      "Data columns (total 4 columns):\n",
      " #   Column        Non-Null Count   Dtype  \n",
      "---  ------        --------------   -----  \n",
      " 0   id            104825 non-null  object \n",
      " 1   user_id       104825 non-null  int64  \n",
      " 2   session_date  104825 non-null  object \n",
      " 3   mb_used       104825 non-null  float64\n",
      "dtypes: float64(1), int64(1), object(2)\n",
      "memory usage: 3.2+ MB\n",
      "None\n",
      "\n",
      "Revision de Datos Ausentes\n",
      "id              0\n",
      "user_id         0\n",
      "session_date    0\n",
      "mb_used         0\n",
      "dtype: int64\n",
      "\n",
      "Revision de Duplicados\n",
      "0\n"
     ]
    }
   ],
   "source": [
    "info_gral(internet)"
   ]
  },
  {
   "cell_type": "markdown",
   "metadata": {
    "id": "EzOG5ik30q1D"
   },
   "source": [
    "[Solo se encontro corregir los datos fecha y redondear los mb utilizados con el comando ya echo para rendonder que se llama redondeo_para_arriba, tambien se hizo una columna de mes sacandola de la fecha ]"
   ]
  },
  {
   "cell_type": "markdown",
   "metadata": {
    "id": "yA0tkPFg0q1D"
   },
   "source": [
    "### Corregir los datos"
   ]
  },
  {
   "cell_type": "code",
   "execution_count": 24,
   "metadata": {
    "id": "zVeanzdd0q1E"
   },
   "outputs": [
    {
     "data": {
      "text/html": [
       "<div>\n",
       "<style scoped>\n",
       "    .dataframe tbody tr th:only-of-type {\n",
       "        vertical-align: middle;\n",
       "    }\n",
       "\n",
       "    .dataframe tbody tr th {\n",
       "        vertical-align: top;\n",
       "    }\n",
       "\n",
       "    .dataframe thead th {\n",
       "        text-align: right;\n",
       "    }\n",
       "</style>\n",
       "<table border=\"1\" class=\"dataframe\">\n",
       "  <thead>\n",
       "    <tr style=\"text-align: right;\">\n",
       "      <th></th>\n",
       "      <th>id</th>\n",
       "      <th>user_id</th>\n",
       "      <th>session_date</th>\n",
       "      <th>mb_used</th>\n",
       "      <th>mb_redondeado</th>\n",
       "      <th>mes</th>\n",
       "    </tr>\n",
       "  </thead>\n",
       "  <tbody>\n",
       "    <tr>\n",
       "      <th>0</th>\n",
       "      <td>1000_13</td>\n",
       "      <td>1000</td>\n",
       "      <td>2018-12-29</td>\n",
       "      <td>89.86</td>\n",
       "      <td>90.0</td>\n",
       "      <td>12</td>\n",
       "    </tr>\n",
       "    <tr>\n",
       "      <th>1</th>\n",
       "      <td>1000_204</td>\n",
       "      <td>1000</td>\n",
       "      <td>2018-12-31</td>\n",
       "      <td>0.00</td>\n",
       "      <td>0.0</td>\n",
       "      <td>12</td>\n",
       "    </tr>\n",
       "    <tr>\n",
       "      <th>2</th>\n",
       "      <td>1000_379</td>\n",
       "      <td>1000</td>\n",
       "      <td>2018-12-28</td>\n",
       "      <td>660.40</td>\n",
       "      <td>661.0</td>\n",
       "      <td>12</td>\n",
       "    </tr>\n",
       "    <tr>\n",
       "      <th>3</th>\n",
       "      <td>1000_413</td>\n",
       "      <td>1000</td>\n",
       "      <td>2018-12-26</td>\n",
       "      <td>270.99</td>\n",
       "      <td>271.0</td>\n",
       "      <td>12</td>\n",
       "    </tr>\n",
       "    <tr>\n",
       "      <th>4</th>\n",
       "      <td>1000_442</td>\n",
       "      <td>1000</td>\n",
       "      <td>2018-12-27</td>\n",
       "      <td>880.22</td>\n",
       "      <td>881.0</td>\n",
       "      <td>12</td>\n",
       "    </tr>\n",
       "    <tr>\n",
       "      <th>...</th>\n",
       "      <td>...</td>\n",
       "      <td>...</td>\n",
       "      <td>...</td>\n",
       "      <td>...</td>\n",
       "      <td>...</td>\n",
       "      <td>...</td>\n",
       "    </tr>\n",
       "    <tr>\n",
       "      <th>104820</th>\n",
       "      <td>1499_215</td>\n",
       "      <td>1499</td>\n",
       "      <td>2018-10-20</td>\n",
       "      <td>218.06</td>\n",
       "      <td>219.0</td>\n",
       "      <td>10</td>\n",
       "    </tr>\n",
       "    <tr>\n",
       "      <th>104821</th>\n",
       "      <td>1499_216</td>\n",
       "      <td>1499</td>\n",
       "      <td>2018-12-30</td>\n",
       "      <td>304.72</td>\n",
       "      <td>305.0</td>\n",
       "      <td>12</td>\n",
       "    </tr>\n",
       "    <tr>\n",
       "      <th>104822</th>\n",
       "      <td>1499_217</td>\n",
       "      <td>1499</td>\n",
       "      <td>2018-09-22</td>\n",
       "      <td>292.75</td>\n",
       "      <td>293.0</td>\n",
       "      <td>9</td>\n",
       "    </tr>\n",
       "    <tr>\n",
       "      <th>104823</th>\n",
       "      <td>1499_218</td>\n",
       "      <td>1499</td>\n",
       "      <td>2018-12-07</td>\n",
       "      <td>0.00</td>\n",
       "      <td>0.0</td>\n",
       "      <td>12</td>\n",
       "    </tr>\n",
       "    <tr>\n",
       "      <th>104824</th>\n",
       "      <td>1499_219</td>\n",
       "      <td>1499</td>\n",
       "      <td>2018-12-24</td>\n",
       "      <td>758.31</td>\n",
       "      <td>759.0</td>\n",
       "      <td>12</td>\n",
       "    </tr>\n",
       "  </tbody>\n",
       "</table>\n",
       "<p>104825 rows × 6 columns</p>\n",
       "</div>"
      ],
      "text/plain": [
       "              id  user_id session_date  mb_used  mb_redondeado  mes\n",
       "0        1000_13     1000   2018-12-29    89.86           90.0   12\n",
       "1       1000_204     1000   2018-12-31     0.00            0.0   12\n",
       "2       1000_379     1000   2018-12-28   660.40          661.0   12\n",
       "3       1000_413     1000   2018-12-26   270.99          271.0   12\n",
       "4       1000_442     1000   2018-12-27   880.22          881.0   12\n",
       "...          ...      ...          ...      ...            ...  ...\n",
       "104820  1499_215     1499   2018-10-20   218.06          219.0   10\n",
       "104821  1499_216     1499   2018-12-30   304.72          305.0   12\n",
       "104822  1499_217     1499   2018-09-22   292.75          293.0    9\n",
       "104823  1499_218     1499   2018-12-07     0.00            0.0   12\n",
       "104824  1499_219     1499   2018-12-24   758.31          759.0   12\n",
       "\n",
       "[104825 rows x 6 columns]"
      ]
     },
     "execution_count": 24,
     "metadata": {},
     "output_type": "execute_result"
    }
   ],
   "source": [
    "internet['mb_redondeado']=internet['mb_used'].apply(redondeo_para_arriba)\n",
    "internet['session_date'] = pd.to_datetime(internet['session_date'])\n",
    "internet['mes']=internet['session_date'].dt.month\n",
    "internet"
   ]
  },
  {
   "cell_type": "markdown",
   "metadata": {
    "id": "e8_mLF4a0q1E"
   },
   "source": [
    "### Enriquecer los datos"
   ]
  },
  {
   "cell_type": "markdown",
   "metadata": {
    "id": "xhNdn2tE0q1E"
   },
   "source": [
    "[Agrega factores adicionales a los datos si crees que pudieran ser útiles.]"
   ]
  },
  {
   "cell_type": "code",
   "execution_count": null,
   "metadata": {
    "id": "ESiYPIEK0q1E"
   },
   "outputs": [],
   "source": [
    "\n"
   ]
  },
  {
   "cell_type": "markdown",
   "metadata": {
    "id": "3UA2cqIW0q1E"
   },
   "source": [
    "## Estudiar las condiciones de las tarifas"
   ]
  },
  {
   "cell_type": "markdown",
   "metadata": {
    "id": "T86Sqltq0q1F"
   },
   "source": [
    "[Es sumamente importante entender cómo funcionan las tarifas, cómo se les cobra a los usuarios en función de su plan de suscripción. Así que te sugerimos imprimir la información de la tarifa para ver una vez más sus condiciones.]"
   ]
  },
  {
   "cell_type": "code",
   "execution_count": 25,
   "metadata": {
    "id": "i409op8p0q1F",
    "scrolled": true
   },
   "outputs": [
    {
     "data": {
      "text/html": [
       "<div>\n",
       "<style scoped>\n",
       "    .dataframe tbody tr th:only-of-type {\n",
       "        vertical-align: middle;\n",
       "    }\n",
       "\n",
       "    .dataframe tbody tr th {\n",
       "        vertical-align: top;\n",
       "    }\n",
       "\n",
       "    .dataframe thead th {\n",
       "        text-align: right;\n",
       "    }\n",
       "</style>\n",
       "<table border=\"1\" class=\"dataframe\">\n",
       "  <thead>\n",
       "    <tr style=\"text-align: right;\">\n",
       "      <th></th>\n",
       "      <th>messages_included</th>\n",
       "      <th>mb_per_month_included</th>\n",
       "      <th>minutes_included</th>\n",
       "      <th>usd_monthly_pay</th>\n",
       "      <th>usd_per_gb</th>\n",
       "      <th>usd_per_message</th>\n",
       "      <th>usd_per_minute</th>\n",
       "      <th>plan_name</th>\n",
       "    </tr>\n",
       "  </thead>\n",
       "  <tbody>\n",
       "    <tr>\n",
       "      <th>0</th>\n",
       "      <td>50</td>\n",
       "      <td>15360</td>\n",
       "      <td>500</td>\n",
       "      <td>20</td>\n",
       "      <td>10</td>\n",
       "      <td>0.03</td>\n",
       "      <td>0.03</td>\n",
       "      <td>surf</td>\n",
       "    </tr>\n",
       "    <tr>\n",
       "      <th>1</th>\n",
       "      <td>1000</td>\n",
       "      <td>30720</td>\n",
       "      <td>3000</td>\n",
       "      <td>70</td>\n",
       "      <td>7</td>\n",
       "      <td>0.01</td>\n",
       "      <td>0.01</td>\n",
       "      <td>ultimate</td>\n",
       "    </tr>\n",
       "  </tbody>\n",
       "</table>\n",
       "</div>"
      ],
      "text/plain": [
       "   messages_included  mb_per_month_included  minutes_included  \\\n",
       "0                 50                  15360               500   \n",
       "1               1000                  30720              3000   \n",
       "\n",
       "   usd_monthly_pay  usd_per_gb  usd_per_message  usd_per_minute plan_name  \n",
       "0               20          10             0.03            0.03      surf  \n",
       "1               70           7             0.01            0.01  ultimate  "
      ]
     },
     "execution_count": 25,
     "metadata": {},
     "output_type": "execute_result"
    }
   ],
   "source": [
    "# Imprime las condiciones de la tarifa y asegúrate de que te quedan claras\n",
    "tarifas"
   ]
  },
  {
   "cell_type": "markdown",
   "metadata": {
    "id": "hMR1tP5d0q1F"
   },
   "source": [
    "## Agregar datos por usuario"
   ]
  },
  {
   "cell_type": "code",
   "execution_count": 26,
   "metadata": {
    "id": "A332cedB0q1G"
   },
   "outputs": [],
   "source": [
    "# Calcula el número de llamadas hechas por cada usuario al mes. Guarda el resultado.\n",
    "# Calcula la cantidad de minutos usados por cada usuario al mes. Guarda el resultado."
   ]
  },
  {
   "cell_type": "code",
   "execution_count": 27,
   "metadata": {
    "id": "aw2cmuql0q1G"
   },
   "outputs": [
    {
     "data": {
      "text/html": [
       "<div>\n",
       "<style scoped>\n",
       "    .dataframe tbody tr th:only-of-type {\n",
       "        vertical-align: middle;\n",
       "    }\n",
       "\n",
       "    .dataframe tbody tr th {\n",
       "        vertical-align: top;\n",
       "    }\n",
       "\n",
       "    .dataframe thead th {\n",
       "        text-align: right;\n",
       "    }\n",
       "</style>\n",
       "<table border=\"1\" class=\"dataframe\">\n",
       "  <thead>\n",
       "    <tr style=\"text-align: right;\">\n",
       "      <th></th>\n",
       "      <th>user_id</th>\n",
       "      <th>mes</th>\n",
       "      <th>llamadas_hechas</th>\n",
       "      <th>minutos_usados</th>\n",
       "    </tr>\n",
       "  </thead>\n",
       "  <tbody>\n",
       "    <tr>\n",
       "      <th>0</th>\n",
       "      <td>1000</td>\n",
       "      <td>12</td>\n",
       "      <td>16</td>\n",
       "      <td>124.0</td>\n",
       "    </tr>\n",
       "    <tr>\n",
       "      <th>1</th>\n",
       "      <td>1001</td>\n",
       "      <td>8</td>\n",
       "      <td>27</td>\n",
       "      <td>182.0</td>\n",
       "    </tr>\n",
       "    <tr>\n",
       "      <th>2</th>\n",
       "      <td>1001</td>\n",
       "      <td>9</td>\n",
       "      <td>49</td>\n",
       "      <td>315.0</td>\n",
       "    </tr>\n",
       "    <tr>\n",
       "      <th>3</th>\n",
       "      <td>1001</td>\n",
       "      <td>10</td>\n",
       "      <td>65</td>\n",
       "      <td>393.0</td>\n",
       "    </tr>\n",
       "    <tr>\n",
       "      <th>4</th>\n",
       "      <td>1001</td>\n",
       "      <td>11</td>\n",
       "      <td>64</td>\n",
       "      <td>426.0</td>\n",
       "    </tr>\n",
       "    <tr>\n",
       "      <th>...</th>\n",
       "      <td>...</td>\n",
       "      <td>...</td>\n",
       "      <td>...</td>\n",
       "      <td>...</td>\n",
       "    </tr>\n",
       "    <tr>\n",
       "      <th>2253</th>\n",
       "      <td>1498</td>\n",
       "      <td>12</td>\n",
       "      <td>39</td>\n",
       "      <td>339.0</td>\n",
       "    </tr>\n",
       "    <tr>\n",
       "      <th>2254</th>\n",
       "      <td>1499</td>\n",
       "      <td>9</td>\n",
       "      <td>41</td>\n",
       "      <td>346.0</td>\n",
       "    </tr>\n",
       "    <tr>\n",
       "      <th>2255</th>\n",
       "      <td>1499</td>\n",
       "      <td>10</td>\n",
       "      <td>53</td>\n",
       "      <td>385.0</td>\n",
       "    </tr>\n",
       "    <tr>\n",
       "      <th>2256</th>\n",
       "      <td>1499</td>\n",
       "      <td>11</td>\n",
       "      <td>45</td>\n",
       "      <td>308.0</td>\n",
       "    </tr>\n",
       "    <tr>\n",
       "      <th>2257</th>\n",
       "      <td>1499</td>\n",
       "      <td>12</td>\n",
       "      <td>65</td>\n",
       "      <td>496.0</td>\n",
       "    </tr>\n",
       "  </tbody>\n",
       "</table>\n",
       "<p>2258 rows × 4 columns</p>\n",
       "</div>"
      ],
      "text/plain": [
       "      user_id  mes  llamadas_hechas  minutos_usados\n",
       "0        1000   12               16           124.0\n",
       "1        1001    8               27           182.0\n",
       "2        1001    9               49           315.0\n",
       "3        1001   10               65           393.0\n",
       "4        1001   11               64           426.0\n",
       "...       ...  ...              ...             ...\n",
       "2253     1498   12               39           339.0\n",
       "2254     1499    9               41           346.0\n",
       "2255     1499   10               53           385.0\n",
       "2256     1499   11               45           308.0\n",
       "2257     1499   12               65           496.0\n",
       "\n",
       "[2258 rows x 4 columns]"
      ]
     },
     "execution_count": 27,
     "metadata": {},
     "output_type": "execute_result"
    }
   ],
   "source": [
    "llamadas_mes_usuario = llamadas.pivot_table(index=['user_id','mes'],\n",
    "                         values='llamadas_redondeada',\n",
    "                         aggfunc=['count','sum'])\n",
    "llamadas_mes_usuario.columns=['llamadas_hechas','minutos_usados']\n",
    "llamadas_mes_usuario.reset_index(inplace=True)\n",
    "llamadas_mes_usuario"
   ]
  },
  {
   "cell_type": "code",
   "execution_count": 28,
   "metadata": {
    "id": "CcQvNHn60q1G"
   },
   "outputs": [
    {
     "data": {
      "text/html": [
       "<div>\n",
       "<style scoped>\n",
       "    .dataframe tbody tr th:only-of-type {\n",
       "        vertical-align: middle;\n",
       "    }\n",
       "\n",
       "    .dataframe tbody tr th {\n",
       "        vertical-align: top;\n",
       "    }\n",
       "\n",
       "    .dataframe thead th {\n",
       "        text-align: right;\n",
       "    }\n",
       "</style>\n",
       "<table border=\"1\" class=\"dataframe\">\n",
       "  <thead>\n",
       "    <tr style=\"text-align: right;\">\n",
       "      <th></th>\n",
       "      <th>user_id</th>\n",
       "      <th>mes</th>\n",
       "      <th>total_de_mensajes</th>\n",
       "    </tr>\n",
       "  </thead>\n",
       "  <tbody>\n",
       "    <tr>\n",
       "      <th>0</th>\n",
       "      <td>1000</td>\n",
       "      <td>12</td>\n",
       "      <td>11</td>\n",
       "    </tr>\n",
       "    <tr>\n",
       "      <th>1</th>\n",
       "      <td>1001</td>\n",
       "      <td>8</td>\n",
       "      <td>30</td>\n",
       "    </tr>\n",
       "    <tr>\n",
       "      <th>2</th>\n",
       "      <td>1001</td>\n",
       "      <td>9</td>\n",
       "      <td>44</td>\n",
       "    </tr>\n",
       "    <tr>\n",
       "      <th>3</th>\n",
       "      <td>1001</td>\n",
       "      <td>10</td>\n",
       "      <td>53</td>\n",
       "    </tr>\n",
       "    <tr>\n",
       "      <th>4</th>\n",
       "      <td>1001</td>\n",
       "      <td>11</td>\n",
       "      <td>36</td>\n",
       "    </tr>\n",
       "    <tr>\n",
       "      <th>...</th>\n",
       "      <td>...</td>\n",
       "      <td>...</td>\n",
       "      <td>...</td>\n",
       "    </tr>\n",
       "    <tr>\n",
       "      <th>1801</th>\n",
       "      <td>1496</td>\n",
       "      <td>9</td>\n",
       "      <td>21</td>\n",
       "    </tr>\n",
       "    <tr>\n",
       "      <th>1802</th>\n",
       "      <td>1496</td>\n",
       "      <td>10</td>\n",
       "      <td>18</td>\n",
       "    </tr>\n",
       "    <tr>\n",
       "      <th>1803</th>\n",
       "      <td>1496</td>\n",
       "      <td>11</td>\n",
       "      <td>13</td>\n",
       "    </tr>\n",
       "    <tr>\n",
       "      <th>1804</th>\n",
       "      <td>1496</td>\n",
       "      <td>12</td>\n",
       "      <td>11</td>\n",
       "    </tr>\n",
       "    <tr>\n",
       "      <th>1805</th>\n",
       "      <td>1497</td>\n",
       "      <td>12</td>\n",
       "      <td>50</td>\n",
       "    </tr>\n",
       "  </tbody>\n",
       "</table>\n",
       "<p>1806 rows × 3 columns</p>\n",
       "</div>"
      ],
      "text/plain": [
       "      user_id  mes  total_de_mensajes\n",
       "0        1000   12                 11\n",
       "1        1001    8                 30\n",
       "2        1001    9                 44\n",
       "3        1001   10                 53\n",
       "4        1001   11                 36\n",
       "...       ...  ...                ...\n",
       "1801     1496    9                 21\n",
       "1802     1496   10                 18\n",
       "1803     1496   11                 13\n",
       "1804     1496   12                 11\n",
       "1805     1497   12                 50\n",
       "\n",
       "[1806 rows x 3 columns]"
      ]
     },
     "execution_count": 28,
     "metadata": {},
     "output_type": "execute_result"
    }
   ],
   "source": [
    "# Calcula el número de mensajes enviados por cada usuario al mes. Guarda el resultado.\n",
    "mensajes_mes_usuario = mensajes.pivot_table(index=['user_id','mes'],\n",
    "                         values='id',\n",
    "                         aggfunc=['count'])\n",
    "mensajes_mes_usuario.columns = ['total_de_mensajes']\n",
    "mensajes_mes_usuario.reset_index(inplace=True)\n",
    "mensajes_mes_usuario\n"
   ]
  },
  {
   "cell_type": "code",
   "execution_count": 29,
   "metadata": {
    "id": "H1AqN2eG0q1H"
   },
   "outputs": [
    {
     "data": {
      "text/html": [
       "<div>\n",
       "<style scoped>\n",
       "    .dataframe tbody tr th:only-of-type {\n",
       "        vertical-align: middle;\n",
       "    }\n",
       "\n",
       "    .dataframe tbody tr th {\n",
       "        vertical-align: top;\n",
       "    }\n",
       "\n",
       "    .dataframe thead th {\n",
       "        text-align: right;\n",
       "    }\n",
       "</style>\n",
       "<table border=\"1\" class=\"dataframe\">\n",
       "  <thead>\n",
       "    <tr style=\"text-align: right;\">\n",
       "      <th></th>\n",
       "      <th>user_id</th>\n",
       "      <th>mes</th>\n",
       "      <th>suma_mb</th>\n",
       "    </tr>\n",
       "  </thead>\n",
       "  <tbody>\n",
       "    <tr>\n",
       "      <th>0</th>\n",
       "      <td>1000</td>\n",
       "      <td>12</td>\n",
       "      <td>1903.0</td>\n",
       "    </tr>\n",
       "    <tr>\n",
       "      <th>1</th>\n",
       "      <td>1001</td>\n",
       "      <td>8</td>\n",
       "      <td>6929.0</td>\n",
       "    </tr>\n",
       "    <tr>\n",
       "      <th>2</th>\n",
       "      <td>1001</td>\n",
       "      <td>9</td>\n",
       "      <td>13333.0</td>\n",
       "    </tr>\n",
       "    <tr>\n",
       "      <th>3</th>\n",
       "      <td>1001</td>\n",
       "      <td>10</td>\n",
       "      <td>22356.0</td>\n",
       "    </tr>\n",
       "    <tr>\n",
       "      <th>4</th>\n",
       "      <td>1001</td>\n",
       "      <td>11</td>\n",
       "      <td>18524.0</td>\n",
       "    </tr>\n",
       "    <tr>\n",
       "      <th>...</th>\n",
       "      <td>...</td>\n",
       "      <td>...</td>\n",
       "      <td>...</td>\n",
       "    </tr>\n",
       "    <tr>\n",
       "      <th>2272</th>\n",
       "      <td>1498</td>\n",
       "      <td>12</td>\n",
       "      <td>23160.0</td>\n",
       "    </tr>\n",
       "    <tr>\n",
       "      <th>2273</th>\n",
       "      <td>1499</td>\n",
       "      <td>9</td>\n",
       "      <td>13004.0</td>\n",
       "    </tr>\n",
       "    <tr>\n",
       "      <th>2274</th>\n",
       "      <td>1499</td>\n",
       "      <td>10</td>\n",
       "      <td>19515.0</td>\n",
       "    </tr>\n",
       "    <tr>\n",
       "      <th>2275</th>\n",
       "      <td>1499</td>\n",
       "      <td>11</td>\n",
       "      <td>16834.0</td>\n",
       "    </tr>\n",
       "    <tr>\n",
       "      <th>2276</th>\n",
       "      <td>1499</td>\n",
       "      <td>12</td>\n",
       "      <td>22091.0</td>\n",
       "    </tr>\n",
       "  </tbody>\n",
       "</table>\n",
       "<p>2277 rows × 3 columns</p>\n",
       "</div>"
      ],
      "text/plain": [
       "      user_id  mes  suma_mb\n",
       "0        1000   12   1903.0\n",
       "1        1001    8   6929.0\n",
       "2        1001    9  13333.0\n",
       "3        1001   10  22356.0\n",
       "4        1001   11  18524.0\n",
       "...       ...  ...      ...\n",
       "2272     1498   12  23160.0\n",
       "2273     1499    9  13004.0\n",
       "2274     1499   10  19515.0\n",
       "2275     1499   11  16834.0\n",
       "2276     1499   12  22091.0\n",
       "\n",
       "[2277 rows x 3 columns]"
      ]
     },
     "execution_count": 29,
     "metadata": {},
     "output_type": "execute_result"
    }
   ],
   "source": [
    "# Calcula el volumen del tráfico de Internet usado por cada usuario al mes. Guarda el resultado.\n",
    "internet_mes_usuario = internet.pivot_table(index=['user_id','mes'],\n",
    "                         values='mb_redondeado',\n",
    "                         aggfunc=['sum'])\n",
    "internet_mes_usuario.columns = ['suma_mb']\n",
    "internet_mes_usuario.reset_index(inplace=True)\n",
    "internet_mes_usuario"
   ]
  },
  {
   "cell_type": "code",
   "execution_count": 30,
   "metadata": {},
   "outputs": [
    {
     "data": {
      "text/html": [
       "<div>\n",
       "<style scoped>\n",
       "    .dataframe tbody tr th:only-of-type {\n",
       "        vertical-align: middle;\n",
       "    }\n",
       "\n",
       "    .dataframe tbody tr th {\n",
       "        vertical-align: top;\n",
       "    }\n",
       "\n",
       "    .dataframe thead th {\n",
       "        text-align: right;\n",
       "    }\n",
       "</style>\n",
       "<table border=\"1\" class=\"dataframe\">\n",
       "  <thead>\n",
       "    <tr style=\"text-align: right;\">\n",
       "      <th></th>\n",
       "      <th>user_id</th>\n",
       "      <th>mes</th>\n",
       "      <th>suma_mb</th>\n",
       "      <th>gb_usados</th>\n",
       "    </tr>\n",
       "  </thead>\n",
       "  <tbody>\n",
       "    <tr>\n",
       "      <th>0</th>\n",
       "      <td>1000</td>\n",
       "      <td>12</td>\n",
       "      <td>1903.0</td>\n",
       "      <td>2.0</td>\n",
       "    </tr>\n",
       "    <tr>\n",
       "      <th>1</th>\n",
       "      <td>1001</td>\n",
       "      <td>8</td>\n",
       "      <td>6929.0</td>\n",
       "      <td>7.0</td>\n",
       "    </tr>\n",
       "    <tr>\n",
       "      <th>2</th>\n",
       "      <td>1001</td>\n",
       "      <td>9</td>\n",
       "      <td>13333.0</td>\n",
       "      <td>14.0</td>\n",
       "    </tr>\n",
       "    <tr>\n",
       "      <th>3</th>\n",
       "      <td>1001</td>\n",
       "      <td>10</td>\n",
       "      <td>22356.0</td>\n",
       "      <td>22.0</td>\n",
       "    </tr>\n",
       "    <tr>\n",
       "      <th>4</th>\n",
       "      <td>1001</td>\n",
       "      <td>11</td>\n",
       "      <td>18524.0</td>\n",
       "      <td>19.0</td>\n",
       "    </tr>\n",
       "    <tr>\n",
       "      <th>...</th>\n",
       "      <td>...</td>\n",
       "      <td>...</td>\n",
       "      <td>...</td>\n",
       "      <td>...</td>\n",
       "    </tr>\n",
       "    <tr>\n",
       "      <th>2272</th>\n",
       "      <td>1498</td>\n",
       "      <td>12</td>\n",
       "      <td>23160.0</td>\n",
       "      <td>23.0</td>\n",
       "    </tr>\n",
       "    <tr>\n",
       "      <th>2273</th>\n",
       "      <td>1499</td>\n",
       "      <td>9</td>\n",
       "      <td>13004.0</td>\n",
       "      <td>13.0</td>\n",
       "    </tr>\n",
       "    <tr>\n",
       "      <th>2274</th>\n",
       "      <td>1499</td>\n",
       "      <td>10</td>\n",
       "      <td>19515.0</td>\n",
       "      <td>20.0</td>\n",
       "    </tr>\n",
       "    <tr>\n",
       "      <th>2275</th>\n",
       "      <td>1499</td>\n",
       "      <td>11</td>\n",
       "      <td>16834.0</td>\n",
       "      <td>17.0</td>\n",
       "    </tr>\n",
       "    <tr>\n",
       "      <th>2276</th>\n",
       "      <td>1499</td>\n",
       "      <td>12</td>\n",
       "      <td>22091.0</td>\n",
       "      <td>22.0</td>\n",
       "    </tr>\n",
       "  </tbody>\n",
       "</table>\n",
       "<p>2277 rows × 4 columns</p>\n",
       "</div>"
      ],
      "text/plain": [
       "      user_id  mes  suma_mb  gb_usados\n",
       "0        1000   12   1903.0        2.0\n",
       "1        1001    8   6929.0        7.0\n",
       "2        1001    9  13333.0       14.0\n",
       "3        1001   10  22356.0       22.0\n",
       "4        1001   11  18524.0       19.0\n",
       "...       ...  ...      ...        ...\n",
       "2272     1498   12  23160.0       23.0\n",
       "2273     1499    9  13004.0       13.0\n",
       "2274     1499   10  19515.0       20.0\n",
       "2275     1499   11  16834.0       17.0\n",
       "2276     1499   12  22091.0       22.0\n",
       "\n",
       "[2277 rows x 4 columns]"
      ]
     },
     "execution_count": 30,
     "metadata": {},
     "output_type": "execute_result"
    }
   ],
   "source": [
    "internet_mes_usuario['gb_usados']=internet_mes_usuario['suma_mb'].apply(redondeo_gb)\n",
    "internet_mes_usuario"
   ]
  },
  {
   "cell_type": "markdown",
   "metadata": {
    "id": "VDfYXnj80q1H"
   },
   "source": [
    "[despues de hacer de cada tabla limpio y calcular los mensajes, llamadas e internet ahora prodecederemos a juntar todas las tablas para hacer una tabla maestra para trabajar]"
   ]
  },
  {
   "cell_type": "code",
   "execution_count": 31,
   "metadata": {
    "id": "FW99ykyf0q1H"
   },
   "outputs": [
    {
     "data": {
      "text/html": [
       "<div>\n",
       "<style scoped>\n",
       "    .dataframe tbody tr th:only-of-type {\n",
       "        vertical-align: middle;\n",
       "    }\n",
       "\n",
       "    .dataframe tbody tr th {\n",
       "        vertical-align: top;\n",
       "    }\n",
       "\n",
       "    .dataframe thead th {\n",
       "        text-align: right;\n",
       "    }\n",
       "</style>\n",
       "<table border=\"1\" class=\"dataframe\">\n",
       "  <thead>\n",
       "    <tr style=\"text-align: right;\">\n",
       "      <th></th>\n",
       "      <th>user_id</th>\n",
       "      <th>mes</th>\n",
       "      <th>llamadas_hechas</th>\n",
       "      <th>minutos_usados</th>\n",
       "      <th>total_de_mensajes</th>\n",
       "      <th>suma_mb</th>\n",
       "      <th>gb_usados</th>\n",
       "      <th>city</th>\n",
       "      <th>plan</th>\n",
       "    </tr>\n",
       "  </thead>\n",
       "  <tbody>\n",
       "    <tr>\n",
       "      <th>0</th>\n",
       "      <td>1000</td>\n",
       "      <td>12.0</td>\n",
       "      <td>16.0</td>\n",
       "      <td>124.0</td>\n",
       "      <td>11.0</td>\n",
       "      <td>1903.0</td>\n",
       "      <td>2.0</td>\n",
       "      <td>atlanta-sandy springs-roswell, ga msa</td>\n",
       "      <td>ultimate</td>\n",
       "    </tr>\n",
       "    <tr>\n",
       "      <th>1</th>\n",
       "      <td>1001</td>\n",
       "      <td>8.0</td>\n",
       "      <td>27.0</td>\n",
       "      <td>182.0</td>\n",
       "      <td>30.0</td>\n",
       "      <td>6929.0</td>\n",
       "      <td>7.0</td>\n",
       "      <td>seattle-tacoma-bellevue, wa msa</td>\n",
       "      <td>surf</td>\n",
       "    </tr>\n",
       "    <tr>\n",
       "      <th>2</th>\n",
       "      <td>1001</td>\n",
       "      <td>9.0</td>\n",
       "      <td>49.0</td>\n",
       "      <td>315.0</td>\n",
       "      <td>44.0</td>\n",
       "      <td>13333.0</td>\n",
       "      <td>14.0</td>\n",
       "      <td>seattle-tacoma-bellevue, wa msa</td>\n",
       "      <td>surf</td>\n",
       "    </tr>\n",
       "    <tr>\n",
       "      <th>3</th>\n",
       "      <td>1001</td>\n",
       "      <td>10.0</td>\n",
       "      <td>65.0</td>\n",
       "      <td>393.0</td>\n",
       "      <td>53.0</td>\n",
       "      <td>22356.0</td>\n",
       "      <td>22.0</td>\n",
       "      <td>seattle-tacoma-bellevue, wa msa</td>\n",
       "      <td>surf</td>\n",
       "    </tr>\n",
       "    <tr>\n",
       "      <th>4</th>\n",
       "      <td>1001</td>\n",
       "      <td>11.0</td>\n",
       "      <td>64.0</td>\n",
       "      <td>426.0</td>\n",
       "      <td>36.0</td>\n",
       "      <td>18524.0</td>\n",
       "      <td>19.0</td>\n",
       "      <td>seattle-tacoma-bellevue, wa msa</td>\n",
       "      <td>surf</td>\n",
       "    </tr>\n",
       "    <tr>\n",
       "      <th>...</th>\n",
       "      <td>...</td>\n",
       "      <td>...</td>\n",
       "      <td>...</td>\n",
       "      <td>...</td>\n",
       "      <td>...</td>\n",
       "      <td>...</td>\n",
       "      <td>...</td>\n",
       "      <td>...</td>\n",
       "      <td>...</td>\n",
       "    </tr>\n",
       "    <tr>\n",
       "      <th>2298</th>\n",
       "      <td>1307</td>\n",
       "      <td>NaN</td>\n",
       "      <td>NaN</td>\n",
       "      <td>NaN</td>\n",
       "      <td>NaN</td>\n",
       "      <td>NaN</td>\n",
       "      <td>NaN</td>\n",
       "      <td>boston-cambridge-newton, ma-nh msa</td>\n",
       "      <td>surf</td>\n",
       "    </tr>\n",
       "    <tr>\n",
       "      <th>2299</th>\n",
       "      <td>1319</td>\n",
       "      <td>NaN</td>\n",
       "      <td>NaN</td>\n",
       "      <td>NaN</td>\n",
       "      <td>NaN</td>\n",
       "      <td>NaN</td>\n",
       "      <td>NaN</td>\n",
       "      <td>colorado springs, co msa</td>\n",
       "      <td>surf</td>\n",
       "    </tr>\n",
       "    <tr>\n",
       "      <th>2300</th>\n",
       "      <td>1378</td>\n",
       "      <td>NaN</td>\n",
       "      <td>NaN</td>\n",
       "      <td>NaN</td>\n",
       "      <td>NaN</td>\n",
       "      <td>NaN</td>\n",
       "      <td>NaN</td>\n",
       "      <td>denver-aurora-lakewood, co msa</td>\n",
       "      <td>surf</td>\n",
       "    </tr>\n",
       "    <tr>\n",
       "      <th>2301</th>\n",
       "      <td>1463</td>\n",
       "      <td>NaN</td>\n",
       "      <td>NaN</td>\n",
       "      <td>NaN</td>\n",
       "      <td>NaN</td>\n",
       "      <td>NaN</td>\n",
       "      <td>NaN</td>\n",
       "      <td>atlanta-sandy springs-roswell, ga msa</td>\n",
       "      <td>ultimate</td>\n",
       "    </tr>\n",
       "    <tr>\n",
       "      <th>2302</th>\n",
       "      <td>1473</td>\n",
       "      <td>NaN</td>\n",
       "      <td>NaN</td>\n",
       "      <td>NaN</td>\n",
       "      <td>NaN</td>\n",
       "      <td>NaN</td>\n",
       "      <td>NaN</td>\n",
       "      <td>louisville/jefferson county, ky-in msa</td>\n",
       "      <td>surf</td>\n",
       "    </tr>\n",
       "  </tbody>\n",
       "</table>\n",
       "<p>2303 rows × 9 columns</p>\n",
       "</div>"
      ],
      "text/plain": [
       "      user_id   mes  llamadas_hechas  minutos_usados  total_de_mensajes  \\\n",
       "0        1000  12.0             16.0           124.0               11.0   \n",
       "1        1001   8.0             27.0           182.0               30.0   \n",
       "2        1001   9.0             49.0           315.0               44.0   \n",
       "3        1001  10.0             65.0           393.0               53.0   \n",
       "4        1001  11.0             64.0           426.0               36.0   \n",
       "...       ...   ...              ...             ...                ...   \n",
       "2298     1307   NaN              NaN             NaN                NaN   \n",
       "2299     1319   NaN              NaN             NaN                NaN   \n",
       "2300     1378   NaN              NaN             NaN                NaN   \n",
       "2301     1463   NaN              NaN             NaN                NaN   \n",
       "2302     1473   NaN              NaN             NaN                NaN   \n",
       "\n",
       "      suma_mb  gb_usados                                    city      plan  \n",
       "0      1903.0        2.0   atlanta-sandy springs-roswell, ga msa  ultimate  \n",
       "1      6929.0        7.0         seattle-tacoma-bellevue, wa msa      surf  \n",
       "2     13333.0       14.0         seattle-tacoma-bellevue, wa msa      surf  \n",
       "3     22356.0       22.0         seattle-tacoma-bellevue, wa msa      surf  \n",
       "4     18524.0       19.0         seattle-tacoma-bellevue, wa msa      surf  \n",
       "...       ...        ...                                     ...       ...  \n",
       "2298      NaN        NaN      boston-cambridge-newton, ma-nh msa      surf  \n",
       "2299      NaN        NaN                colorado springs, co msa      surf  \n",
       "2300      NaN        NaN          denver-aurora-lakewood, co msa      surf  \n",
       "2301      NaN        NaN   atlanta-sandy springs-roswell, ga msa  ultimate  \n",
       "2302      NaN        NaN  louisville/jefferson county, ky-in msa      surf  \n",
       "\n",
       "[2303 rows x 9 columns]"
      ]
     },
     "execution_count": 31,
     "metadata": {},
     "output_type": "execute_result"
    }
   ],
   "source": [
    "# Fusiona los datos de llamadas, minutos, mensajes e Internet con base en user_id y month\n",
    "llamadas_mensajes = llamadas_mes_usuario.merge(mensajes_mes_usuario, on=['user_id','mes'],how='outer')\n",
    "internet_llamadas_mensajes = llamadas_mensajes.merge(internet_mes_usuario, on=['user_id','mes'], how='outer')\n",
    "consumo_usuarios=internet_llamadas_mensajes.merge(usuarios[['user_id','city','plan']], on='user_id',how='outer')\n",
    "consumo_usuarios"
   ]
  },
  {
   "cell_type": "markdown",
   "metadata": {},
   "source": [
    "Se está combinando la información del consumo de internet, llamadas y mensajes (internet_llamadas_mensajes) con la información de los usuarios (usuarios), utilizando como clave común el user_id.\n",
    "\n",
    "La unión es externa (outer join), lo que significa que todos los usuarios de ambos DataFrames se incluirán, aunque no haya coincidencia en el user_id en ambas tablas. Es decir, si hay usuarios en usuarios que no tienen registros de consumo en internet_llamadas_mensajes o viceversa, igualmente se agregarán al resultado final, y las columnas faltantes tendrán valores nulos (NaN)."
   ]
  },
  {
   "cell_type": "code",
   "execution_count": 32,
   "metadata": {
    "id": "0dNOXHag0q1H"
   },
   "outputs": [],
   "source": [
    "# Añade la información de la tarifa\n",
    "fct_ventas = consumo_usuarios.merge(tarifas, left_on='plan', right_on='plan_name',how='inner')"
   ]
  },
  {
   "cell_type": "markdown",
   "metadata": {},
   "source": [
    "how='inner': Especifica el tipo de unión que se realizará, en este caso es una unión interna. Esto significa que solo se incluirán las filas que tienen coincidencias en ambas tablas.\n",
    "\n",
    "Lo que está sucediendo:\n",
    "El código está uniendo las dos tablas (consumo_usuarios y tarifas) sobre las columnas clave 'plan' y 'plan_name', respectivamente. La unión será solo de las filas donde ambas tablas tienen coincidencias en esas columnas (es decir, donde el plan del usuario en consumo_usuarios coincide con un plan en tarifas)."
   ]
  },
  {
   "cell_type": "code",
   "execution_count": 33,
   "metadata": {},
   "outputs": [
    {
     "data": {
      "text/html": [
       "<div>\n",
       "<style scoped>\n",
       "    .dataframe tbody tr th:only-of-type {\n",
       "        vertical-align: middle;\n",
       "    }\n",
       "\n",
       "    .dataframe tbody tr th {\n",
       "        vertical-align: top;\n",
       "    }\n",
       "\n",
       "    .dataframe thead th {\n",
       "        text-align: right;\n",
       "    }\n",
       "</style>\n",
       "<table border=\"1\" class=\"dataframe\">\n",
       "  <thead>\n",
       "    <tr style=\"text-align: right;\">\n",
       "      <th></th>\n",
       "      <th>user_id</th>\n",
       "      <th>mes</th>\n",
       "      <th>llamadas_hechas</th>\n",
       "      <th>minutos_usados</th>\n",
       "      <th>total_de_mensajes</th>\n",
       "      <th>suma_mb</th>\n",
       "      <th>gb_usados</th>\n",
       "      <th>city</th>\n",
       "      <th>plan</th>\n",
       "      <th>messages_included</th>\n",
       "      <th>mb_per_month_included</th>\n",
       "      <th>minutes_included</th>\n",
       "      <th>usd_monthly_pay</th>\n",
       "      <th>usd_per_gb</th>\n",
       "      <th>usd_per_message</th>\n",
       "      <th>usd_per_minute</th>\n",
       "      <th>plan_name</th>\n",
       "    </tr>\n",
       "  </thead>\n",
       "  <tbody>\n",
       "    <tr>\n",
       "      <th>0</th>\n",
       "      <td>1000</td>\n",
       "      <td>12.0</td>\n",
       "      <td>16.0</td>\n",
       "      <td>124.0</td>\n",
       "      <td>11.0</td>\n",
       "      <td>1903.0</td>\n",
       "      <td>2.0</td>\n",
       "      <td>atlanta-sandy springs-roswell, ga msa</td>\n",
       "      <td>ultimate</td>\n",
       "      <td>1000</td>\n",
       "      <td>30720</td>\n",
       "      <td>3000</td>\n",
       "      <td>70</td>\n",
       "      <td>7</td>\n",
       "      <td>0.01</td>\n",
       "      <td>0.01</td>\n",
       "      <td>ultimate</td>\n",
       "    </tr>\n",
       "    <tr>\n",
       "      <th>1</th>\n",
       "      <td>1006</td>\n",
       "      <td>11.0</td>\n",
       "      <td>2.0</td>\n",
       "      <td>10.0</td>\n",
       "      <td>15.0</td>\n",
       "      <td>2072.0</td>\n",
       "      <td>3.0</td>\n",
       "      <td>san francisco-oakland-berkeley, ca msa</td>\n",
       "      <td>ultimate</td>\n",
       "      <td>1000</td>\n",
       "      <td>30720</td>\n",
       "      <td>3000</td>\n",
       "      <td>70</td>\n",
       "      <td>7</td>\n",
       "      <td>0.01</td>\n",
       "      <td>0.01</td>\n",
       "      <td>ultimate</td>\n",
       "    </tr>\n",
       "    <tr>\n",
       "      <th>2</th>\n",
       "      <td>1006</td>\n",
       "      <td>12.0</td>\n",
       "      <td>9.0</td>\n",
       "      <td>59.0</td>\n",
       "      <td>139.0</td>\n",
       "      <td>32144.0</td>\n",
       "      <td>32.0</td>\n",
       "      <td>san francisco-oakland-berkeley, ca msa</td>\n",
       "      <td>ultimate</td>\n",
       "      <td>1000</td>\n",
       "      <td>30720</td>\n",
       "      <td>3000</td>\n",
       "      <td>70</td>\n",
       "      <td>7</td>\n",
       "      <td>0.01</td>\n",
       "      <td>0.01</td>\n",
       "      <td>ultimate</td>\n",
       "    </tr>\n",
       "    <tr>\n",
       "      <th>3</th>\n",
       "      <td>1008</td>\n",
       "      <td>10.0</td>\n",
       "      <td>71.0</td>\n",
       "      <td>476.0</td>\n",
       "      <td>21.0</td>\n",
       "      <td>17131.0</td>\n",
       "      <td>17.0</td>\n",
       "      <td>orlando-kissimmee-sanford, fl msa</td>\n",
       "      <td>ultimate</td>\n",
       "      <td>1000</td>\n",
       "      <td>30720</td>\n",
       "      <td>3000</td>\n",
       "      <td>70</td>\n",
       "      <td>7</td>\n",
       "      <td>0.01</td>\n",
       "      <td>0.01</td>\n",
       "      <td>ultimate</td>\n",
       "    </tr>\n",
       "    <tr>\n",
       "      <th>4</th>\n",
       "      <td>1008</td>\n",
       "      <td>11.0</td>\n",
       "      <td>63.0</td>\n",
       "      <td>446.0</td>\n",
       "      <td>37.0</td>\n",
       "      <td>23706.0</td>\n",
       "      <td>24.0</td>\n",
       "      <td>orlando-kissimmee-sanford, fl msa</td>\n",
       "      <td>ultimate</td>\n",
       "      <td>1000</td>\n",
       "      <td>30720</td>\n",
       "      <td>3000</td>\n",
       "      <td>70</td>\n",
       "      <td>7</td>\n",
       "      <td>0.01</td>\n",
       "      <td>0.01</td>\n",
       "      <td>ultimate</td>\n",
       "    </tr>\n",
       "    <tr>\n",
       "      <th>...</th>\n",
       "      <td>...</td>\n",
       "      <td>...</td>\n",
       "      <td>...</td>\n",
       "      <td>...</td>\n",
       "      <td>...</td>\n",
       "      <td>...</td>\n",
       "      <td>...</td>\n",
       "      <td>...</td>\n",
       "      <td>...</td>\n",
       "      <td>...</td>\n",
       "      <td>...</td>\n",
       "      <td>...</td>\n",
       "      <td>...</td>\n",
       "      <td>...</td>\n",
       "      <td>...</td>\n",
       "      <td>...</td>\n",
       "      <td>...</td>\n",
       "    </tr>\n",
       "    <tr>\n",
       "      <th>2298</th>\n",
       "      <td>1143</td>\n",
       "      <td>NaN</td>\n",
       "      <td>NaN</td>\n",
       "      <td>NaN</td>\n",
       "      <td>NaN</td>\n",
       "      <td>NaN</td>\n",
       "      <td>NaN</td>\n",
       "      <td>cincinnati, oh-ky-in msa</td>\n",
       "      <td>surf</td>\n",
       "      <td>50</td>\n",
       "      <td>15360</td>\n",
       "      <td>500</td>\n",
       "      <td>20</td>\n",
       "      <td>10</td>\n",
       "      <td>0.03</td>\n",
       "      <td>0.03</td>\n",
       "      <td>surf</td>\n",
       "    </tr>\n",
       "    <tr>\n",
       "      <th>2299</th>\n",
       "      <td>1307</td>\n",
       "      <td>NaN</td>\n",
       "      <td>NaN</td>\n",
       "      <td>NaN</td>\n",
       "      <td>NaN</td>\n",
       "      <td>NaN</td>\n",
       "      <td>NaN</td>\n",
       "      <td>boston-cambridge-newton, ma-nh msa</td>\n",
       "      <td>surf</td>\n",
       "      <td>50</td>\n",
       "      <td>15360</td>\n",
       "      <td>500</td>\n",
       "      <td>20</td>\n",
       "      <td>10</td>\n",
       "      <td>0.03</td>\n",
       "      <td>0.03</td>\n",
       "      <td>surf</td>\n",
       "    </tr>\n",
       "    <tr>\n",
       "      <th>2300</th>\n",
       "      <td>1319</td>\n",
       "      <td>NaN</td>\n",
       "      <td>NaN</td>\n",
       "      <td>NaN</td>\n",
       "      <td>NaN</td>\n",
       "      <td>NaN</td>\n",
       "      <td>NaN</td>\n",
       "      <td>colorado springs, co msa</td>\n",
       "      <td>surf</td>\n",
       "      <td>50</td>\n",
       "      <td>15360</td>\n",
       "      <td>500</td>\n",
       "      <td>20</td>\n",
       "      <td>10</td>\n",
       "      <td>0.03</td>\n",
       "      <td>0.03</td>\n",
       "      <td>surf</td>\n",
       "    </tr>\n",
       "    <tr>\n",
       "      <th>2301</th>\n",
       "      <td>1378</td>\n",
       "      <td>NaN</td>\n",
       "      <td>NaN</td>\n",
       "      <td>NaN</td>\n",
       "      <td>NaN</td>\n",
       "      <td>NaN</td>\n",
       "      <td>NaN</td>\n",
       "      <td>denver-aurora-lakewood, co msa</td>\n",
       "      <td>surf</td>\n",
       "      <td>50</td>\n",
       "      <td>15360</td>\n",
       "      <td>500</td>\n",
       "      <td>20</td>\n",
       "      <td>10</td>\n",
       "      <td>0.03</td>\n",
       "      <td>0.03</td>\n",
       "      <td>surf</td>\n",
       "    </tr>\n",
       "    <tr>\n",
       "      <th>2302</th>\n",
       "      <td>1473</td>\n",
       "      <td>NaN</td>\n",
       "      <td>NaN</td>\n",
       "      <td>NaN</td>\n",
       "      <td>NaN</td>\n",
       "      <td>NaN</td>\n",
       "      <td>NaN</td>\n",
       "      <td>louisville/jefferson county, ky-in msa</td>\n",
       "      <td>surf</td>\n",
       "      <td>50</td>\n",
       "      <td>15360</td>\n",
       "      <td>500</td>\n",
       "      <td>20</td>\n",
       "      <td>10</td>\n",
       "      <td>0.03</td>\n",
       "      <td>0.03</td>\n",
       "      <td>surf</td>\n",
       "    </tr>\n",
       "  </tbody>\n",
       "</table>\n",
       "<p>2303 rows × 17 columns</p>\n",
       "</div>"
      ],
      "text/plain": [
       "      user_id   mes  llamadas_hechas  minutos_usados  total_de_mensajes  \\\n",
       "0        1000  12.0             16.0           124.0               11.0   \n",
       "1        1006  11.0              2.0            10.0               15.0   \n",
       "2        1006  12.0              9.0            59.0              139.0   \n",
       "3        1008  10.0             71.0           476.0               21.0   \n",
       "4        1008  11.0             63.0           446.0               37.0   \n",
       "...       ...   ...              ...             ...                ...   \n",
       "2298     1143   NaN              NaN             NaN                NaN   \n",
       "2299     1307   NaN              NaN             NaN                NaN   \n",
       "2300     1319   NaN              NaN             NaN                NaN   \n",
       "2301     1378   NaN              NaN             NaN                NaN   \n",
       "2302     1473   NaN              NaN             NaN                NaN   \n",
       "\n",
       "      suma_mb  gb_usados                                    city      plan  \\\n",
       "0      1903.0        2.0   atlanta-sandy springs-roswell, ga msa  ultimate   \n",
       "1      2072.0        3.0  san francisco-oakland-berkeley, ca msa  ultimate   \n",
       "2     32144.0       32.0  san francisco-oakland-berkeley, ca msa  ultimate   \n",
       "3     17131.0       17.0       orlando-kissimmee-sanford, fl msa  ultimate   \n",
       "4     23706.0       24.0       orlando-kissimmee-sanford, fl msa  ultimate   \n",
       "...       ...        ...                                     ...       ...   \n",
       "2298      NaN        NaN                cincinnati, oh-ky-in msa      surf   \n",
       "2299      NaN        NaN      boston-cambridge-newton, ma-nh msa      surf   \n",
       "2300      NaN        NaN                colorado springs, co msa      surf   \n",
       "2301      NaN        NaN          denver-aurora-lakewood, co msa      surf   \n",
       "2302      NaN        NaN  louisville/jefferson county, ky-in msa      surf   \n",
       "\n",
       "      messages_included  mb_per_month_included  minutes_included  \\\n",
       "0                  1000                  30720              3000   \n",
       "1                  1000                  30720              3000   \n",
       "2                  1000                  30720              3000   \n",
       "3                  1000                  30720              3000   \n",
       "4                  1000                  30720              3000   \n",
       "...                 ...                    ...               ...   \n",
       "2298                 50                  15360               500   \n",
       "2299                 50                  15360               500   \n",
       "2300                 50                  15360               500   \n",
       "2301                 50                  15360               500   \n",
       "2302                 50                  15360               500   \n",
       "\n",
       "      usd_monthly_pay  usd_per_gb  usd_per_message  usd_per_minute plan_name  \n",
       "0                  70           7             0.01            0.01  ultimate  \n",
       "1                  70           7             0.01            0.01  ultimate  \n",
       "2                  70           7             0.01            0.01  ultimate  \n",
       "3                  70           7             0.01            0.01  ultimate  \n",
       "4                  70           7             0.01            0.01  ultimate  \n",
       "...               ...         ...              ...             ...       ...  \n",
       "2298               20          10             0.03            0.03      surf  \n",
       "2299               20          10             0.03            0.03      surf  \n",
       "2300               20          10             0.03            0.03      surf  \n",
       "2301               20          10             0.03            0.03      surf  \n",
       "2302               20          10             0.03            0.03      surf  \n",
       "\n",
       "[2303 rows x 17 columns]"
      ]
     },
     "execution_count": 33,
     "metadata": {},
     "output_type": "execute_result"
    }
   ],
   "source": [
    "fct_ventas"
   ]
  },
  {
   "cell_type": "code",
   "execution_count": 34,
   "metadata": {},
   "outputs": [
    {
     "data": {
      "text/plain": [
       "user_id                    0\n",
       "mes                       10\n",
       "llamadas_hechas           45\n",
       "minutos_usados            45\n",
       "total_de_mensajes        497\n",
       "suma_mb                   26\n",
       "gb_usados                 26\n",
       "city                       0\n",
       "plan                       0\n",
       "messages_included          0\n",
       "mb_per_month_included      0\n",
       "minutes_included           0\n",
       "usd_monthly_pay            0\n",
       "usd_per_gb                 0\n",
       "usd_per_message            0\n",
       "usd_per_minute             0\n",
       "plan_name                  0\n",
       "dtype: int64"
      ]
     },
     "execution_count": 34,
     "metadata": {},
     "output_type": "execute_result"
    }
   ],
   "source": [
    "fct_ventas.isna().sum()"
   ]
  },
  {
   "cell_type": "code",
   "execution_count": 35,
   "metadata": {},
   "outputs": [
    {
     "data": {
      "text/html": [
       "<div>\n",
       "<style scoped>\n",
       "    .dataframe tbody tr th:only-of-type {\n",
       "        vertical-align: middle;\n",
       "    }\n",
       "\n",
       "    .dataframe tbody tr th {\n",
       "        vertical-align: top;\n",
       "    }\n",
       "\n",
       "    .dataframe thead th {\n",
       "        text-align: right;\n",
       "    }\n",
       "</style>\n",
       "<table border=\"1\" class=\"dataframe\">\n",
       "  <thead>\n",
       "    <tr style=\"text-align: right;\">\n",
       "      <th></th>\n",
       "      <th>user_id</th>\n",
       "      <th>mes</th>\n",
       "      <th>llamadas_hechas</th>\n",
       "      <th>minutos_usados</th>\n",
       "      <th>total_de_mensajes</th>\n",
       "      <th>suma_mb</th>\n",
       "      <th>gb_usados</th>\n",
       "      <th>city</th>\n",
       "      <th>plan</th>\n",
       "      <th>messages_included</th>\n",
       "      <th>mb_per_month_included</th>\n",
       "      <th>minutes_included</th>\n",
       "      <th>usd_monthly_pay</th>\n",
       "      <th>usd_per_gb</th>\n",
       "      <th>usd_per_message</th>\n",
       "      <th>usd_per_minute</th>\n",
       "      <th>plan_name</th>\n",
       "    </tr>\n",
       "  </thead>\n",
       "  <tbody>\n",
       "  </tbody>\n",
       "</table>\n",
       "</div>"
      ],
      "text/plain": [
       "Empty DataFrame\n",
       "Columns: [user_id, mes, llamadas_hechas, minutos_usados, total_de_mensajes, suma_mb, gb_usados, city, plan, messages_included, mb_per_month_included, minutes_included, usd_monthly_pay, usd_per_gb, usd_per_message, usd_per_minute, plan_name]\n",
       "Index: []"
      ]
     },
     "execution_count": 35,
     "metadata": {},
     "output_type": "execute_result"
    }
   ],
   "source": [
    "fct_ventas.query(\"mes < 0\")"
   ]
  },
  {
   "cell_type": "code",
   "execution_count": 36,
   "metadata": {},
   "outputs": [
    {
     "data": {
      "text/plain": [
       "user_id                  0\n",
       "mes                      0\n",
       "llamadas_hechas          0\n",
       "minutos_usados           0\n",
       "total_de_mensajes        0\n",
       "suma_mb                  0\n",
       "gb_usados                0\n",
       "city                     0\n",
       "plan                     0\n",
       "messages_included        0\n",
       "mb_per_month_included    0\n",
       "minutes_included         0\n",
       "usd_monthly_pay          0\n",
       "usd_per_gb               0\n",
       "usd_per_message          0\n",
       "usd_per_minute           0\n",
       "plan_name                0\n",
       "dtype: int64"
      ]
     },
     "execution_count": 36,
     "metadata": {},
     "output_type": "execute_result"
    }
   ],
   "source": [
    "fct_ventas.fillna(0, inplace=True)\n",
    "fct_ventas.isna().sum()"
   ]
  },
  {
   "cell_type": "markdown",
   "metadata": {
    "id": "1IwGo4wg0q1I"
   },
   "source": [
    "[Calcularemos los ingresos mensuales por usuarios (restandole el limite del paquete que ocupan ya sea surf o ultimate) para visualizar cual sera su pago mensual de su tarifa con su paquete ya con los mensajes, llamadas y Gb extras que se ocuparon]"
   ]
  },
  {
   "cell_type": "code",
   "execution_count": 37,
   "metadata": {
    "id": "5FGCf_c60q1I"
   },
   "outputs": [],
   "source": [
    "# Calcula el ingreso mensual para cada usuario\n",
    "def llamada_cobrables(fila):\n",
    "    minutos_usados = fila['minutos_usados']\n",
    "    \n",
    "    minutos_cobrables = 0\n",
    "    \n",
    "    if minutos_usados > fila['minutes_included']:\n",
    "        minutos_cobrables = minutos_usados - fila['minutes_included']\n",
    " \n",
    "    return minutos_cobrables"
   ]
  },
  {
   "cell_type": "code",
   "execution_count": 38,
   "metadata": {},
   "outputs": [],
   "source": [
    "def mensajes_cobrables(fila):\n",
    "    mensajes_usados = fila['total_de_mensajes']\n",
    "    \n",
    "    mensajes_cobrables = 0\n",
    "    \n",
    "    if mensajes_usados > fila['messages_included']:\n",
    "        mensajes_cobrables = mensajes_usados - fila['messages_included']\n",
    "       \n",
    "\n",
    "    return mensajes_cobrables"
   ]
  },
  {
   "cell_type": "code",
   "execution_count": 39,
   "metadata": {},
   "outputs": [],
   "source": [
    "def gb_cobrables(fila):\n",
    "    gb_usados = fila['gb_usados']\n",
    "    \n",
    "    gb_cobrables = 0\n",
    "    \n",
    "    if gb_usados > (fila['mb_per_month_included']/1024):\n",
    "        gb_cobrables = gb_usados - (fila['mb_per_month_included']/1024)\n",
    "       \n",
    "\n",
    "    return gb_cobrables"
   ]
  },
  {
   "cell_type": "markdown",
   "metadata": {},
   "source": [
    "aqui fue donde me puso un comentario que podria usar el where() sin embargo se me difuculta con mi teoria pero investigare y lo tratare de hacer para ampliar mi conocimiento y uso de esa herramienta tambien pero si puede darme unas pistas se lo agradecere "
   ]
  },
  {
   "cell_type": "code",
   "execution_count": 40,
   "metadata": {},
   "outputs": [
    {
     "data": {
      "text/html": [
       "<div>\n",
       "<style scoped>\n",
       "    .dataframe tbody tr th:only-of-type {\n",
       "        vertical-align: middle;\n",
       "    }\n",
       "\n",
       "    .dataframe tbody tr th {\n",
       "        vertical-align: top;\n",
       "    }\n",
       "\n",
       "    .dataframe thead th {\n",
       "        text-align: right;\n",
       "    }\n",
       "</style>\n",
       "<table border=\"1\" class=\"dataframe\">\n",
       "  <thead>\n",
       "    <tr style=\"text-align: right;\">\n",
       "      <th></th>\n",
       "      <th>user_id</th>\n",
       "      <th>mes</th>\n",
       "      <th>llamadas_hechas</th>\n",
       "      <th>minutos_usados</th>\n",
       "      <th>total_de_mensajes</th>\n",
       "      <th>suma_mb</th>\n",
       "      <th>gb_usados</th>\n",
       "      <th>city</th>\n",
       "      <th>plan</th>\n",
       "      <th>messages_included</th>\n",
       "      <th>mb_per_month_included</th>\n",
       "      <th>minutes_included</th>\n",
       "      <th>usd_monthly_pay</th>\n",
       "      <th>usd_per_gb</th>\n",
       "      <th>usd_per_message</th>\n",
       "      <th>usd_per_minute</th>\n",
       "      <th>plan_name</th>\n",
       "      <th>minutos_cobrables</th>\n",
       "      <th>mensajes_cobrables</th>\n",
       "      <th>gb_cobrables</th>\n",
       "    </tr>\n",
       "  </thead>\n",
       "  <tbody>\n",
       "    <tr>\n",
       "      <th>732</th>\n",
       "      <td>1003</td>\n",
       "      <td>12.0</td>\n",
       "      <td>149.0</td>\n",
       "      <td>1104.0</td>\n",
       "      <td>50.0</td>\n",
       "      <td>27069.0</td>\n",
       "      <td>27.0</td>\n",
       "      <td>tulsa, ok msa</td>\n",
       "      <td>surf</td>\n",
       "      <td>50</td>\n",
       "      <td>15360</td>\n",
       "      <td>500</td>\n",
       "      <td>20</td>\n",
       "      <td>10</td>\n",
       "      <td>0.03</td>\n",
       "      <td>0.03</td>\n",
       "      <td>surf</td>\n",
       "      <td>604.0</td>\n",
       "      <td>0.0</td>\n",
       "      <td>12.0</td>\n",
       "    </tr>\n",
       "    <tr>\n",
       "      <th>744</th>\n",
       "      <td>1007</td>\n",
       "      <td>10.0</td>\n",
       "      <td>80.0</td>\n",
       "      <td>645.0</td>\n",
       "      <td>59.0</td>\n",
       "      <td>37916.0</td>\n",
       "      <td>38.0</td>\n",
       "      <td>grand rapids-kentwood, mi msa</td>\n",
       "      <td>surf</td>\n",
       "      <td>50</td>\n",
       "      <td>15360</td>\n",
       "      <td>500</td>\n",
       "      <td>20</td>\n",
       "      <td>10</td>\n",
       "      <td>0.03</td>\n",
       "      <td>0.03</td>\n",
       "      <td>surf</td>\n",
       "      <td>145.0</td>\n",
       "      <td>9.0</td>\n",
       "      <td>23.0</td>\n",
       "    </tr>\n",
       "    <tr>\n",
       "      <th>745</th>\n",
       "      <td>1007</td>\n",
       "      <td>11.0</td>\n",
       "      <td>80.0</td>\n",
       "      <td>524.0</td>\n",
       "      <td>48.0</td>\n",
       "      <td>24355.0</td>\n",
       "      <td>24.0</td>\n",
       "      <td>grand rapids-kentwood, mi msa</td>\n",
       "      <td>surf</td>\n",
       "      <td>50</td>\n",
       "      <td>15360</td>\n",
       "      <td>500</td>\n",
       "      <td>20</td>\n",
       "      <td>10</td>\n",
       "      <td>0.03</td>\n",
       "      <td>0.03</td>\n",
       "      <td>surf</td>\n",
       "      <td>24.0</td>\n",
       "      <td>0.0</td>\n",
       "      <td>9.0</td>\n",
       "    </tr>\n",
       "    <tr>\n",
       "      <th>746</th>\n",
       "      <td>1007</td>\n",
       "      <td>12.0</td>\n",
       "      <td>87.0</td>\n",
       "      <td>617.0</td>\n",
       "      <td>50.0</td>\n",
       "      <td>29096.0</td>\n",
       "      <td>29.0</td>\n",
       "      <td>grand rapids-kentwood, mi msa</td>\n",
       "      <td>surf</td>\n",
       "      <td>50</td>\n",
       "      <td>15360</td>\n",
       "      <td>500</td>\n",
       "      <td>20</td>\n",
       "      <td>10</td>\n",
       "      <td>0.03</td>\n",
       "      <td>0.03</td>\n",
       "      <td>surf</td>\n",
       "      <td>117.0</td>\n",
       "      <td>0.0</td>\n",
       "      <td>14.0</td>\n",
       "    </tr>\n",
       "    <tr>\n",
       "      <th>747</th>\n",
       "      <td>1009</td>\n",
       "      <td>5.0</td>\n",
       "      <td>71.0</td>\n",
       "      <td>534.0</td>\n",
       "      <td>0.0</td>\n",
       "      <td>20409.0</td>\n",
       "      <td>20.0</td>\n",
       "      <td>san jose-sunnyvale-santa clara, ca msa</td>\n",
       "      <td>surf</td>\n",
       "      <td>50</td>\n",
       "      <td>15360</td>\n",
       "      <td>500</td>\n",
       "      <td>20</td>\n",
       "      <td>10</td>\n",
       "      <td>0.03</td>\n",
       "      <td>0.03</td>\n",
       "      <td>surf</td>\n",
       "      <td>34.0</td>\n",
       "      <td>0.0</td>\n",
       "      <td>5.0</td>\n",
       "    </tr>\n",
       "    <tr>\n",
       "      <th>...</th>\n",
       "      <td>...</td>\n",
       "      <td>...</td>\n",
       "      <td>...</td>\n",
       "      <td>...</td>\n",
       "      <td>...</td>\n",
       "      <td>...</td>\n",
       "      <td>...</td>\n",
       "      <td>...</td>\n",
       "      <td>...</td>\n",
       "      <td>...</td>\n",
       "      <td>...</td>\n",
       "      <td>...</td>\n",
       "      <td>...</td>\n",
       "      <td>...</td>\n",
       "      <td>...</td>\n",
       "      <td>...</td>\n",
       "      <td>...</td>\n",
       "      <td>...</td>\n",
       "      <td>...</td>\n",
       "      <td>...</td>\n",
       "    </tr>\n",
       "    <tr>\n",
       "      <th>2224</th>\n",
       "      <td>1489</td>\n",
       "      <td>10.0</td>\n",
       "      <td>66.0</td>\n",
       "      <td>518.0</td>\n",
       "      <td>84.0</td>\n",
       "      <td>14714.0</td>\n",
       "      <td>15.0</td>\n",
       "      <td>detroit-warren-dearborn, mi msa</td>\n",
       "      <td>surf</td>\n",
       "      <td>50</td>\n",
       "      <td>15360</td>\n",
       "      <td>500</td>\n",
       "      <td>20</td>\n",
       "      <td>10</td>\n",
       "      <td>0.03</td>\n",
       "      <td>0.03</td>\n",
       "      <td>surf</td>\n",
       "      <td>18.0</td>\n",
       "      <td>34.0</td>\n",
       "      <td>0.0</td>\n",
       "    </tr>\n",
       "    <tr>\n",
       "      <th>2233</th>\n",
       "      <td>1491</td>\n",
       "      <td>10.0</td>\n",
       "      <td>75.0</td>\n",
       "      <td>585.0</td>\n",
       "      <td>51.0</td>\n",
       "      <td>8490.0</td>\n",
       "      <td>9.0</td>\n",
       "      <td>grand rapids-kentwood, mi msa</td>\n",
       "      <td>surf</td>\n",
       "      <td>50</td>\n",
       "      <td>15360</td>\n",
       "      <td>500</td>\n",
       "      <td>20</td>\n",
       "      <td>10</td>\n",
       "      <td>0.03</td>\n",
       "      <td>0.03</td>\n",
       "      <td>surf</td>\n",
       "      <td>85.0</td>\n",
       "      <td>1.0</td>\n",
       "      <td>0.0</td>\n",
       "    </tr>\n",
       "    <tr>\n",
       "      <th>2243</th>\n",
       "      <td>1494</td>\n",
       "      <td>10.0</td>\n",
       "      <td>78.0</td>\n",
       "      <td>616.0</td>\n",
       "      <td>38.0</td>\n",
       "      <td>14514.0</td>\n",
       "      <td>15.0</td>\n",
       "      <td>new york-newark-jersey city, ny-nj-pa msa</td>\n",
       "      <td>surf</td>\n",
       "      <td>50</td>\n",
       "      <td>15360</td>\n",
       "      <td>500</td>\n",
       "      <td>20</td>\n",
       "      <td>10</td>\n",
       "      <td>0.03</td>\n",
       "      <td>0.03</td>\n",
       "      <td>surf</td>\n",
       "      <td>116.0</td>\n",
       "      <td>0.0</td>\n",
       "      <td>0.0</td>\n",
       "    </tr>\n",
       "    <tr>\n",
       "      <th>2244</th>\n",
       "      <td>1494</td>\n",
       "      <td>11.0</td>\n",
       "      <td>82.0</td>\n",
       "      <td>509.0</td>\n",
       "      <td>35.0</td>\n",
       "      <td>18434.0</td>\n",
       "      <td>19.0</td>\n",
       "      <td>new york-newark-jersey city, ny-nj-pa msa</td>\n",
       "      <td>surf</td>\n",
       "      <td>50</td>\n",
       "      <td>15360</td>\n",
       "      <td>500</td>\n",
       "      <td>20</td>\n",
       "      <td>10</td>\n",
       "      <td>0.03</td>\n",
       "      <td>0.03</td>\n",
       "      <td>surf</td>\n",
       "      <td>9.0</td>\n",
       "      <td>0.0</td>\n",
       "      <td>4.0</td>\n",
       "    </tr>\n",
       "    <tr>\n",
       "      <th>2247</th>\n",
       "      <td>1495</td>\n",
       "      <td>10.0</td>\n",
       "      <td>75.0</td>\n",
       "      <td>610.0</td>\n",
       "      <td>0.0</td>\n",
       "      <td>26931.0</td>\n",
       "      <td>27.0</td>\n",
       "      <td>new york-newark-jersey city, ny-nj-pa msa</td>\n",
       "      <td>surf</td>\n",
       "      <td>50</td>\n",
       "      <td>15360</td>\n",
       "      <td>500</td>\n",
       "      <td>20</td>\n",
       "      <td>10</td>\n",
       "      <td>0.03</td>\n",
       "      <td>0.03</td>\n",
       "      <td>surf</td>\n",
       "      <td>110.0</td>\n",
       "      <td>0.0</td>\n",
       "      <td>12.0</td>\n",
       "    </tr>\n",
       "  </tbody>\n",
       "</table>\n",
       "<p>566 rows × 20 columns</p>\n",
       "</div>"
      ],
      "text/plain": [
       "      user_id   mes  llamadas_hechas  minutos_usados  total_de_mensajes  \\\n",
       "732      1003  12.0            149.0          1104.0               50.0   \n",
       "744      1007  10.0             80.0           645.0               59.0   \n",
       "745      1007  11.0             80.0           524.0               48.0   \n",
       "746      1007  12.0             87.0           617.0               50.0   \n",
       "747      1009   5.0             71.0           534.0                0.0   \n",
       "...       ...   ...              ...             ...                ...   \n",
       "2224     1489  10.0             66.0           518.0               84.0   \n",
       "2233     1491  10.0             75.0           585.0               51.0   \n",
       "2243     1494  10.0             78.0           616.0               38.0   \n",
       "2244     1494  11.0             82.0           509.0               35.0   \n",
       "2247     1495  10.0             75.0           610.0                0.0   \n",
       "\n",
       "      suma_mb  gb_usados                                       city  plan  \\\n",
       "732   27069.0       27.0                              tulsa, ok msa  surf   \n",
       "744   37916.0       38.0              grand rapids-kentwood, mi msa  surf   \n",
       "745   24355.0       24.0              grand rapids-kentwood, mi msa  surf   \n",
       "746   29096.0       29.0              grand rapids-kentwood, mi msa  surf   \n",
       "747   20409.0       20.0     san jose-sunnyvale-santa clara, ca msa  surf   \n",
       "...       ...        ...                                        ...   ...   \n",
       "2224  14714.0       15.0            detroit-warren-dearborn, mi msa  surf   \n",
       "2233   8490.0        9.0              grand rapids-kentwood, mi msa  surf   \n",
       "2243  14514.0       15.0  new york-newark-jersey city, ny-nj-pa msa  surf   \n",
       "2244  18434.0       19.0  new york-newark-jersey city, ny-nj-pa msa  surf   \n",
       "2247  26931.0       27.0  new york-newark-jersey city, ny-nj-pa msa  surf   \n",
       "\n",
       "      messages_included  mb_per_month_included  minutes_included  \\\n",
       "732                  50                  15360               500   \n",
       "744                  50                  15360               500   \n",
       "745                  50                  15360               500   \n",
       "746                  50                  15360               500   \n",
       "747                  50                  15360               500   \n",
       "...                 ...                    ...               ...   \n",
       "2224                 50                  15360               500   \n",
       "2233                 50                  15360               500   \n",
       "2243                 50                  15360               500   \n",
       "2244                 50                  15360               500   \n",
       "2247                 50                  15360               500   \n",
       "\n",
       "      usd_monthly_pay  usd_per_gb  usd_per_message  usd_per_minute plan_name  \\\n",
       "732                20          10             0.03            0.03      surf   \n",
       "744                20          10             0.03            0.03      surf   \n",
       "745                20          10             0.03            0.03      surf   \n",
       "746                20          10             0.03            0.03      surf   \n",
       "747                20          10             0.03            0.03      surf   \n",
       "...               ...         ...              ...             ...       ...   \n",
       "2224               20          10             0.03            0.03      surf   \n",
       "2233               20          10             0.03            0.03      surf   \n",
       "2243               20          10             0.03            0.03      surf   \n",
       "2244               20          10             0.03            0.03      surf   \n",
       "2247               20          10             0.03            0.03      surf   \n",
       "\n",
       "      minutos_cobrables  mensajes_cobrables  gb_cobrables  \n",
       "732               604.0                 0.0          12.0  \n",
       "744               145.0                 9.0          23.0  \n",
       "745                24.0                 0.0           9.0  \n",
       "746               117.0                 0.0          14.0  \n",
       "747                34.0                 0.0           5.0  \n",
       "...                 ...                 ...           ...  \n",
       "2224               18.0                34.0           0.0  \n",
       "2233               85.0                 1.0           0.0  \n",
       "2243              116.0                 0.0           0.0  \n",
       "2244                9.0                 0.0           4.0  \n",
       "2247              110.0                 0.0          12.0  \n",
       "\n",
       "[566 rows x 20 columns]"
      ]
     },
     "execution_count": 40,
     "metadata": {},
     "output_type": "execute_result"
    }
   ],
   "source": [
    "fct_ventas['minutos_cobrables']  = fct_ventas.apply(llamada_cobrables, axis=1)\n",
    "fct_ventas['mensajes_cobrables'] = fct_ventas.apply(mensajes_cobrables, axis=1)\n",
    "fct_ventas['gb_cobrables'] = fct_ventas.apply(gb_cobrables, axis=1)\n",
    "fct_ventas.query(\"minutos_cobrables > 0\")\n"
   ]
  },
  {
   "cell_type": "code",
   "execution_count": 41,
   "metadata": {},
   "outputs": [],
   "source": [
    "def venta_mensuales(fila):\n",
    "    extra_llamada = fila['minutos_cobrables']\n",
    "    extra_mensajes = fila ['mensajes_cobrables']\n",
    "    extra_gb = fila['gb_cobrables']\n",
    "    \n",
    "    total_venta = fila['usd_monthly_pay']+(extra_llamada*fila['usd_per_minute']+extra_mensajes*fila['usd_per_message']+extra_gb*fila['usd_per_gb'])\n",
    "    \n",
    "    return total_venta"
   ]
  },
  {
   "cell_type": "code",
   "execution_count": 42,
   "metadata": {},
   "outputs": [
    {
     "data": {
      "text/html": [
       "<div>\n",
       "<style scoped>\n",
       "    .dataframe tbody tr th:only-of-type {\n",
       "        vertical-align: middle;\n",
       "    }\n",
       "\n",
       "    .dataframe tbody tr th {\n",
       "        vertical-align: top;\n",
       "    }\n",
       "\n",
       "    .dataframe thead th {\n",
       "        text-align: right;\n",
       "    }\n",
       "</style>\n",
       "<table border=\"1\" class=\"dataframe\">\n",
       "  <thead>\n",
       "    <tr style=\"text-align: right;\">\n",
       "      <th></th>\n",
       "      <th>user_id</th>\n",
       "      <th>mes</th>\n",
       "      <th>llamadas_hechas</th>\n",
       "      <th>minutos_usados</th>\n",
       "      <th>total_de_mensajes</th>\n",
       "      <th>suma_mb</th>\n",
       "      <th>gb_usados</th>\n",
       "      <th>city</th>\n",
       "      <th>plan</th>\n",
       "      <th>messages_included</th>\n",
       "      <th>mb_per_month_included</th>\n",
       "      <th>minutes_included</th>\n",
       "      <th>usd_monthly_pay</th>\n",
       "      <th>usd_per_gb</th>\n",
       "      <th>usd_per_message</th>\n",
       "      <th>usd_per_minute</th>\n",
       "      <th>plan_name</th>\n",
       "      <th>minutos_cobrables</th>\n",
       "      <th>mensajes_cobrables</th>\n",
       "      <th>gb_cobrables</th>\n",
       "    </tr>\n",
       "  </thead>\n",
       "  <tbody>\n",
       "    <tr>\n",
       "      <th>0</th>\n",
       "      <td>1000</td>\n",
       "      <td>12.0</td>\n",
       "      <td>16.0</td>\n",
       "      <td>124.0</td>\n",
       "      <td>11.0</td>\n",
       "      <td>1903.0</td>\n",
       "      <td>2.0</td>\n",
       "      <td>atlanta-sandy springs-roswell, ga msa</td>\n",
       "      <td>ultimate</td>\n",
       "      <td>1000</td>\n",
       "      <td>30720</td>\n",
       "      <td>3000</td>\n",
       "      <td>70</td>\n",
       "      <td>7</td>\n",
       "      <td>0.01</td>\n",
       "      <td>0.01</td>\n",
       "      <td>ultimate</td>\n",
       "      <td>0.0</td>\n",
       "      <td>0.0</td>\n",
       "      <td>0.0</td>\n",
       "    </tr>\n",
       "    <tr>\n",
       "      <th>1</th>\n",
       "      <td>1006</td>\n",
       "      <td>11.0</td>\n",
       "      <td>2.0</td>\n",
       "      <td>10.0</td>\n",
       "      <td>15.0</td>\n",
       "      <td>2072.0</td>\n",
       "      <td>3.0</td>\n",
       "      <td>san francisco-oakland-berkeley, ca msa</td>\n",
       "      <td>ultimate</td>\n",
       "      <td>1000</td>\n",
       "      <td>30720</td>\n",
       "      <td>3000</td>\n",
       "      <td>70</td>\n",
       "      <td>7</td>\n",
       "      <td>0.01</td>\n",
       "      <td>0.01</td>\n",
       "      <td>ultimate</td>\n",
       "      <td>0.0</td>\n",
       "      <td>0.0</td>\n",
       "      <td>0.0</td>\n",
       "    </tr>\n",
       "    <tr>\n",
       "      <th>2</th>\n",
       "      <td>1006</td>\n",
       "      <td>12.0</td>\n",
       "      <td>9.0</td>\n",
       "      <td>59.0</td>\n",
       "      <td>139.0</td>\n",
       "      <td>32144.0</td>\n",
       "      <td>32.0</td>\n",
       "      <td>san francisco-oakland-berkeley, ca msa</td>\n",
       "      <td>ultimate</td>\n",
       "      <td>1000</td>\n",
       "      <td>30720</td>\n",
       "      <td>3000</td>\n",
       "      <td>70</td>\n",
       "      <td>7</td>\n",
       "      <td>0.01</td>\n",
       "      <td>0.01</td>\n",
       "      <td>ultimate</td>\n",
       "      <td>0.0</td>\n",
       "      <td>0.0</td>\n",
       "      <td>2.0</td>\n",
       "    </tr>\n",
       "    <tr>\n",
       "      <th>3</th>\n",
       "      <td>1008</td>\n",
       "      <td>10.0</td>\n",
       "      <td>71.0</td>\n",
       "      <td>476.0</td>\n",
       "      <td>21.0</td>\n",
       "      <td>17131.0</td>\n",
       "      <td>17.0</td>\n",
       "      <td>orlando-kissimmee-sanford, fl msa</td>\n",
       "      <td>ultimate</td>\n",
       "      <td>1000</td>\n",
       "      <td>30720</td>\n",
       "      <td>3000</td>\n",
       "      <td>70</td>\n",
       "      <td>7</td>\n",
       "      <td>0.01</td>\n",
       "      <td>0.01</td>\n",
       "      <td>ultimate</td>\n",
       "      <td>0.0</td>\n",
       "      <td>0.0</td>\n",
       "      <td>0.0</td>\n",
       "    </tr>\n",
       "    <tr>\n",
       "      <th>4</th>\n",
       "      <td>1008</td>\n",
       "      <td>11.0</td>\n",
       "      <td>63.0</td>\n",
       "      <td>446.0</td>\n",
       "      <td>37.0</td>\n",
       "      <td>23706.0</td>\n",
       "      <td>24.0</td>\n",
       "      <td>orlando-kissimmee-sanford, fl msa</td>\n",
       "      <td>ultimate</td>\n",
       "      <td>1000</td>\n",
       "      <td>30720</td>\n",
       "      <td>3000</td>\n",
       "      <td>70</td>\n",
       "      <td>7</td>\n",
       "      <td>0.01</td>\n",
       "      <td>0.01</td>\n",
       "      <td>ultimate</td>\n",
       "      <td>0.0</td>\n",
       "      <td>0.0</td>\n",
       "      <td>0.0</td>\n",
       "    </tr>\n",
       "    <tr>\n",
       "      <th>...</th>\n",
       "      <td>...</td>\n",
       "      <td>...</td>\n",
       "      <td>...</td>\n",
       "      <td>...</td>\n",
       "      <td>...</td>\n",
       "      <td>...</td>\n",
       "      <td>...</td>\n",
       "      <td>...</td>\n",
       "      <td>...</td>\n",
       "      <td>...</td>\n",
       "      <td>...</td>\n",
       "      <td>...</td>\n",
       "      <td>...</td>\n",
       "      <td>...</td>\n",
       "      <td>...</td>\n",
       "      <td>...</td>\n",
       "      <td>...</td>\n",
       "      <td>...</td>\n",
       "      <td>...</td>\n",
       "      <td>...</td>\n",
       "    </tr>\n",
       "    <tr>\n",
       "      <th>2298</th>\n",
       "      <td>1143</td>\n",
       "      <td>0.0</td>\n",
       "      <td>0.0</td>\n",
       "      <td>0.0</td>\n",
       "      <td>0.0</td>\n",
       "      <td>0.0</td>\n",
       "      <td>0.0</td>\n",
       "      <td>cincinnati, oh-ky-in msa</td>\n",
       "      <td>surf</td>\n",
       "      <td>50</td>\n",
       "      <td>15360</td>\n",
       "      <td>500</td>\n",
       "      <td>20</td>\n",
       "      <td>10</td>\n",
       "      <td>0.03</td>\n",
       "      <td>0.03</td>\n",
       "      <td>surf</td>\n",
       "      <td>0.0</td>\n",
       "      <td>0.0</td>\n",
       "      <td>0.0</td>\n",
       "    </tr>\n",
       "    <tr>\n",
       "      <th>2299</th>\n",
       "      <td>1307</td>\n",
       "      <td>0.0</td>\n",
       "      <td>0.0</td>\n",
       "      <td>0.0</td>\n",
       "      <td>0.0</td>\n",
       "      <td>0.0</td>\n",
       "      <td>0.0</td>\n",
       "      <td>boston-cambridge-newton, ma-nh msa</td>\n",
       "      <td>surf</td>\n",
       "      <td>50</td>\n",
       "      <td>15360</td>\n",
       "      <td>500</td>\n",
       "      <td>20</td>\n",
       "      <td>10</td>\n",
       "      <td>0.03</td>\n",
       "      <td>0.03</td>\n",
       "      <td>surf</td>\n",
       "      <td>0.0</td>\n",
       "      <td>0.0</td>\n",
       "      <td>0.0</td>\n",
       "    </tr>\n",
       "    <tr>\n",
       "      <th>2300</th>\n",
       "      <td>1319</td>\n",
       "      <td>0.0</td>\n",
       "      <td>0.0</td>\n",
       "      <td>0.0</td>\n",
       "      <td>0.0</td>\n",
       "      <td>0.0</td>\n",
       "      <td>0.0</td>\n",
       "      <td>colorado springs, co msa</td>\n",
       "      <td>surf</td>\n",
       "      <td>50</td>\n",
       "      <td>15360</td>\n",
       "      <td>500</td>\n",
       "      <td>20</td>\n",
       "      <td>10</td>\n",
       "      <td>0.03</td>\n",
       "      <td>0.03</td>\n",
       "      <td>surf</td>\n",
       "      <td>0.0</td>\n",
       "      <td>0.0</td>\n",
       "      <td>0.0</td>\n",
       "    </tr>\n",
       "    <tr>\n",
       "      <th>2301</th>\n",
       "      <td>1378</td>\n",
       "      <td>0.0</td>\n",
       "      <td>0.0</td>\n",
       "      <td>0.0</td>\n",
       "      <td>0.0</td>\n",
       "      <td>0.0</td>\n",
       "      <td>0.0</td>\n",
       "      <td>denver-aurora-lakewood, co msa</td>\n",
       "      <td>surf</td>\n",
       "      <td>50</td>\n",
       "      <td>15360</td>\n",
       "      <td>500</td>\n",
       "      <td>20</td>\n",
       "      <td>10</td>\n",
       "      <td>0.03</td>\n",
       "      <td>0.03</td>\n",
       "      <td>surf</td>\n",
       "      <td>0.0</td>\n",
       "      <td>0.0</td>\n",
       "      <td>0.0</td>\n",
       "    </tr>\n",
       "    <tr>\n",
       "      <th>2302</th>\n",
       "      <td>1473</td>\n",
       "      <td>0.0</td>\n",
       "      <td>0.0</td>\n",
       "      <td>0.0</td>\n",
       "      <td>0.0</td>\n",
       "      <td>0.0</td>\n",
       "      <td>0.0</td>\n",
       "      <td>louisville/jefferson county, ky-in msa</td>\n",
       "      <td>surf</td>\n",
       "      <td>50</td>\n",
       "      <td>15360</td>\n",
       "      <td>500</td>\n",
       "      <td>20</td>\n",
       "      <td>10</td>\n",
       "      <td>0.03</td>\n",
       "      <td>0.03</td>\n",
       "      <td>surf</td>\n",
       "      <td>0.0</td>\n",
       "      <td>0.0</td>\n",
       "      <td>0.0</td>\n",
       "    </tr>\n",
       "  </tbody>\n",
       "</table>\n",
       "<p>2303 rows × 20 columns</p>\n",
       "</div>"
      ],
      "text/plain": [
       "      user_id   mes  llamadas_hechas  minutos_usados  total_de_mensajes  \\\n",
       "0        1000  12.0             16.0           124.0               11.0   \n",
       "1        1006  11.0              2.0            10.0               15.0   \n",
       "2        1006  12.0              9.0            59.0              139.0   \n",
       "3        1008  10.0             71.0           476.0               21.0   \n",
       "4        1008  11.0             63.0           446.0               37.0   \n",
       "...       ...   ...              ...             ...                ...   \n",
       "2298     1143   0.0              0.0             0.0                0.0   \n",
       "2299     1307   0.0              0.0             0.0                0.0   \n",
       "2300     1319   0.0              0.0             0.0                0.0   \n",
       "2301     1378   0.0              0.0             0.0                0.0   \n",
       "2302     1473   0.0              0.0             0.0                0.0   \n",
       "\n",
       "      suma_mb  gb_usados                                    city      plan  \\\n",
       "0      1903.0        2.0   atlanta-sandy springs-roswell, ga msa  ultimate   \n",
       "1      2072.0        3.0  san francisco-oakland-berkeley, ca msa  ultimate   \n",
       "2     32144.0       32.0  san francisco-oakland-berkeley, ca msa  ultimate   \n",
       "3     17131.0       17.0       orlando-kissimmee-sanford, fl msa  ultimate   \n",
       "4     23706.0       24.0       orlando-kissimmee-sanford, fl msa  ultimate   \n",
       "...       ...        ...                                     ...       ...   \n",
       "2298      0.0        0.0                cincinnati, oh-ky-in msa      surf   \n",
       "2299      0.0        0.0      boston-cambridge-newton, ma-nh msa      surf   \n",
       "2300      0.0        0.0                colorado springs, co msa      surf   \n",
       "2301      0.0        0.0          denver-aurora-lakewood, co msa      surf   \n",
       "2302      0.0        0.0  louisville/jefferson county, ky-in msa      surf   \n",
       "\n",
       "      messages_included  mb_per_month_included  minutes_included  \\\n",
       "0                  1000                  30720              3000   \n",
       "1                  1000                  30720              3000   \n",
       "2                  1000                  30720              3000   \n",
       "3                  1000                  30720              3000   \n",
       "4                  1000                  30720              3000   \n",
       "...                 ...                    ...               ...   \n",
       "2298                 50                  15360               500   \n",
       "2299                 50                  15360               500   \n",
       "2300                 50                  15360               500   \n",
       "2301                 50                  15360               500   \n",
       "2302                 50                  15360               500   \n",
       "\n",
       "      usd_monthly_pay  usd_per_gb  usd_per_message  usd_per_minute plan_name  \\\n",
       "0                  70           7             0.01            0.01  ultimate   \n",
       "1                  70           7             0.01            0.01  ultimate   \n",
       "2                  70           7             0.01            0.01  ultimate   \n",
       "3                  70           7             0.01            0.01  ultimate   \n",
       "4                  70           7             0.01            0.01  ultimate   \n",
       "...               ...         ...              ...             ...       ...   \n",
       "2298               20          10             0.03            0.03      surf   \n",
       "2299               20          10             0.03            0.03      surf   \n",
       "2300               20          10             0.03            0.03      surf   \n",
       "2301               20          10             0.03            0.03      surf   \n",
       "2302               20          10             0.03            0.03      surf   \n",
       "\n",
       "      minutos_cobrables  mensajes_cobrables  gb_cobrables  \n",
       "0                   0.0                 0.0           0.0  \n",
       "1                   0.0                 0.0           0.0  \n",
       "2                   0.0                 0.0           2.0  \n",
       "3                   0.0                 0.0           0.0  \n",
       "4                   0.0                 0.0           0.0  \n",
       "...                 ...                 ...           ...  \n",
       "2298                0.0                 0.0           0.0  \n",
       "2299                0.0                 0.0           0.0  \n",
       "2300                0.0                 0.0           0.0  \n",
       "2301                0.0                 0.0           0.0  \n",
       "2302                0.0                 0.0           0.0  \n",
       "\n",
       "[2303 rows x 20 columns]"
      ]
     },
     "execution_count": 42,
     "metadata": {},
     "output_type": "execute_result"
    }
   ],
   "source": [
    "fct_ventas"
   ]
  },
  {
   "cell_type": "code",
   "execution_count": 43,
   "metadata": {},
   "outputs": [
    {
     "data": {
      "text/html": [
       "<div>\n",
       "<style scoped>\n",
       "    .dataframe tbody tr th:only-of-type {\n",
       "        vertical-align: middle;\n",
       "    }\n",
       "\n",
       "    .dataframe tbody tr th {\n",
       "        vertical-align: top;\n",
       "    }\n",
       "\n",
       "    .dataframe thead th {\n",
       "        text-align: right;\n",
       "    }\n",
       "</style>\n",
       "<table border=\"1\" class=\"dataframe\">\n",
       "  <thead>\n",
       "    <tr style=\"text-align: right;\">\n",
       "      <th></th>\n",
       "      <th>user_id</th>\n",
       "      <th>plan</th>\n",
       "      <th>ingreso_mensual</th>\n",
       "    </tr>\n",
       "  </thead>\n",
       "  <tbody>\n",
       "    <tr>\n",
       "      <th>0</th>\n",
       "      <td>1000</td>\n",
       "      <td>ultimate</td>\n",
       "      <td>70.0</td>\n",
       "    </tr>\n",
       "    <tr>\n",
       "      <th>1</th>\n",
       "      <td>1006</td>\n",
       "      <td>ultimate</td>\n",
       "      <td>70.0</td>\n",
       "    </tr>\n",
       "    <tr>\n",
       "      <th>2</th>\n",
       "      <td>1006</td>\n",
       "      <td>ultimate</td>\n",
       "      <td>84.0</td>\n",
       "    </tr>\n",
       "    <tr>\n",
       "      <th>3</th>\n",
       "      <td>1008</td>\n",
       "      <td>ultimate</td>\n",
       "      <td>70.0</td>\n",
       "    </tr>\n",
       "    <tr>\n",
       "      <th>4</th>\n",
       "      <td>1008</td>\n",
       "      <td>ultimate</td>\n",
       "      <td>70.0</td>\n",
       "    </tr>\n",
       "  </tbody>\n",
       "</table>\n",
       "</div>"
      ],
      "text/plain": [
       "   user_id      plan  ingreso_mensual\n",
       "0     1000  ultimate             70.0\n",
       "1     1006  ultimate             70.0\n",
       "2     1006  ultimate             84.0\n",
       "3     1008  ultimate             70.0\n",
       "4     1008  ultimate             70.0"
      ]
     },
     "execution_count": 43,
     "metadata": {},
     "output_type": "execute_result"
    }
   ],
   "source": [
    "fct_ventas['ingreso_mensual'] = fct_ventas.apply(venta_mensuales, axis=1)\n",
    "fct_ventas[['user_id','plan','ingreso_mensual']].head()"
   ]
  },
  {
   "cell_type": "markdown",
   "metadata": {},
   "source": [
    "[en la ultima tabla solo visualizamos un poco de la tabla ya con su ingreso mensual o bueno pago mensual no se ven pero se habra clientes que tendran que pagar por esos mensaje, llamadas o gb extra si se pasaron ya teniendo nuestra tabla madre o tabla maestra procederemos a la graficacion para un analisis mas detallado. ]"
   ]
  },
  {
   "cell_type": "markdown",
   "metadata": {
    "id": "-jtyHzJb0q1I"
   },
   "source": [
    "## Estudia el comportamiento de usuario"
   ]
  },
  {
   "cell_type": "markdown",
   "metadata": {
    "id": "AxU3Y0N70q1J"
   },
   "source": [
    "[Calcula algunas estadísticas descriptivas para los datos agregados y fusionados que nos sean útiles y que muestren un panorama general captado por los datos. Dibuja gráficos útiles para facilitar la comprensión. Dado que la tarea principal es comparar las tarifas y decidir cuál es más rentable, las estadísticas y gráficas deben calcularse por tarifa.]\n",
    "\n",
    "[En los comentarios hallarás pistas relevantes para las llamadas, pero no las hay para los mensajes e Internet. Sin embargo, el principio del estudio estadístico que se aplica para ellos es el mismo que para las llamadas.]"
   ]
  },
  {
   "cell_type": "code",
   "execution_count": 44,
   "metadata": {},
   "outputs": [
    {
     "name": "stdout",
     "output_type": "stream",
     "text": [
      "<class 'pandas.core.frame.DataFrame'>\n",
      "Int64Index: 2303 entries, 0 to 2302\n",
      "Data columns (total 21 columns):\n",
      " #   Column                 Non-Null Count  Dtype  \n",
      "---  ------                 --------------  -----  \n",
      " 0   user_id                2303 non-null   int64  \n",
      " 1   mes                    2303 non-null   float64\n",
      " 2   llamadas_hechas        2303 non-null   float64\n",
      " 3   minutos_usados         2303 non-null   float64\n",
      " 4   total_de_mensajes      2303 non-null   float64\n",
      " 5   suma_mb                2303 non-null   float64\n",
      " 6   gb_usados              2303 non-null   float64\n",
      " 7   city                   2303 non-null   object \n",
      " 8   plan                   2303 non-null   object \n",
      " 9   messages_included      2303 non-null   int64  \n",
      " 10  mb_per_month_included  2303 non-null   int64  \n",
      " 11  minutes_included       2303 non-null   int64  \n",
      " 12  usd_monthly_pay        2303 non-null   int64  \n",
      " 13  usd_per_gb             2303 non-null   int64  \n",
      " 14  usd_per_message        2303 non-null   float64\n",
      " 15  usd_per_minute         2303 non-null   float64\n",
      " 16  plan_name              2303 non-null   object \n",
      " 17  minutos_cobrables      2303 non-null   float64\n",
      " 18  mensajes_cobrables     2303 non-null   float64\n",
      " 19  gb_cobrables           2303 non-null   float64\n",
      " 20  ingreso_mensual        2303 non-null   float64\n",
      "dtypes: float64(12), int64(6), object(3)\n",
      "memory usage: 395.8+ KB\n"
     ]
    }
   ],
   "source": [
    "fct_ventas.info()"
   ]
  },
  {
   "cell_type": "code",
   "execution_count": 45,
   "metadata": {},
   "outputs": [
    {
     "name": "stderr",
     "output_type": "stream",
     "text": [
      "/tmp/ipykernel_227/2923072736.py:3: SettingWithCopyWarning: \n",
      "A value is trying to be set on a copy of a slice from a DataFrame.\n",
      "Try using .loc[row_indexer,col_indexer] = value instead\n",
      "\n",
      "See the caveats in the documentation: https://pandas.pydata.org/pandas-docs/stable/user_guide/indexing.html#returning-a-view-versus-a-copy\n",
      "  fct_ventas['llamadas_hechas'] = fct_ventas['llamadas_hechas'].astype(int) #convertimos de float a int el numero de llamadas echas para la graficacion\n"
     ]
    }
   ],
   "source": [
    "fct_ventas['mes'] = fct_ventas['mes'].astype(int) #convertimos de float a int el mes para la graficacion\n",
    "fct_ventas = fct_ventas[fct_ventas['mes'] != 0] # identificamos el mes 0 ya que no tenia informacion \n",
    "fct_ventas['llamadas_hechas'] = fct_ventas['llamadas_hechas'].astype(int) #convertimos de float a int el numero de llamadas echas para la graficacion"
   ]
  },
  {
   "cell_type": "markdown",
   "metadata": {},
   "source": [
    "aqui preunte en el co learning pero dicen que no es error que tal vez estoy usando algo que ya esta actualizado pero nose como identificarlo y actualizar mi codigo actualizado si me funsiono pero no me gusta ese cuadro rojo ahi pido tambien de su ayuda que es lo unico que entiendo es que huce .loc[] pero no se donde o como se lo agracere si me da otra pista ."
   ]
  },
  {
   "cell_type": "markdown",
   "metadata": {
    "id": "vtW4CJEe0q1J"
   },
   "source": [
    "### Llamadas"
   ]
  },
  {
   "cell_type": "code",
   "execution_count": 46,
   "metadata": {
    "id": "Jf5v5--k0q1J"
   },
   "outputs": [
    {
     "data": {
      "image/png": "[encoded data removed]",
      "text/plain": [
       "<Figure size 640x480 with 1 Axes>"
      ]
     },
     "metadata": {},
     "output_type": "display_data"
    }
   ],
   "source": [
    "# Compara la duración promedio de llamadas por cada plan y por cada mes. Traza un gráfico de barras para visualizarla.\n",
    "sns.barplot(x='mes', y='llamadas_hechas', hue='plan', data=fct_ventas, ci=None)\n",
    "plt.title('Llamadas hechas al Mes y Plan')\n",
    "plt.xlabel('Mes')\n",
    "plt.ylabel('Minutos Gastados')\n",
    "\n",
    "#errorbar=None\n",
    "plt.show ()"
   ]
  },
  {
   "cell_type": "code",
   "execution_count": 47,
   "metadata": {
    "id": "QoLqW1S_0q1J"
   },
   "outputs": [
    {
     "data": {
      "image/png": "[encoded data removed]",
      "text/plain": [
       "<Figure size 640x480 with 1 Axes>"
      ]
     },
     "metadata": {},
     "output_type": "display_data"
    }
   ],
   "source": [
    "# Compara el número de minutos mensuales que necesitan los usuarios de cada plan. Traza un histograma.\n",
    "sns.barplot(x='mes', y='minutos_usados', hue='plan', data=fct_ventas, ci=None)\n",
    "plt.title('Minutos Usados por Mes y Plan')\n",
    "plt.xlabel('Mes')\n",
    "plt.ylabel('Minutos Gastados')\n",
    "\n",
    "plt.show ()\n"
   ]
  },
  {
   "cell_type": "markdown",
   "metadata": {
    "id": "bLS9T8OH0q1K"
   },
   "source": [
    "[En las graficas notamos que el numero de llamadas es mayor en el plan ultimate aunque en enero, marzo abril junio julio y diciembre tuvo mas demanda numero de llamadas el plan de surf y en minutos usados paso lo mismo los mese que se notaron con numero de llamada tambien se tiene los mismos meses con demanda, seguiremos analizando ya que el usuario que tiene mas derechos a tener mas minutos incluidos es el plan surf]"
   ]
  },
  {
   "cell_type": "code",
   "execution_count": 48,
   "metadata": {},
   "outputs": [
    {
     "name": "stdout",
     "output_type": "stream",
     "text": [
      "Plan Surf:\n",
      "Media mensual de minutos:\n",
      "mes\n",
      "1     203.000000\n",
      "2     297.000000\n",
      "3     330.000000\n",
      "4     351.540000\n",
      "5     399.584416\n",
      "6     431.298969\n",
      "7     449.983471\n",
      "8     410.111111\n",
      "9     414.226804\n",
      "10    429.729958\n",
      "11    423.325088\n",
      "12    473.836478\n",
      "Name: minutos_usados, dtype: float64\n",
      "\n",
      "Varianza mensual de minutos:\n",
      "mes\n",
      "1     15842.000000\n",
      "2     52226.500000\n",
      "3     35809.363636\n",
      "4     50866.743265\n",
      "5     59754.219754\n",
      "6     45592.628436\n",
      "7     61005.099725\n",
      "8     54344.645963\n",
      "9     46595.958656\n",
      "10    52278.664056\n",
      "11    51607.021602\n",
      "12    63629.518918\n",
      "Name: minutos_usados, dtype: float64\n",
      "\n",
      "Plan Ultimate:\n",
      "Media mensual de minutos:\n",
      "mes\n",
      "1     193.500000\n",
      "2     403.142857\n",
      "3     304.250000\n",
      "4     336.857143\n",
      "5     406.241379\n",
      "6     370.957447\n",
      "7     427.067797\n",
      "8     421.436620\n",
      "9     437.511628\n",
      "10    450.735849\n",
      "11    445.196850\n",
      "12    459.099338\n",
      "Name: minutos_usados, dtype: float64\n",
      "\n",
      "Varianza mensual de minutos:\n",
      "mes\n",
      "1     16572.333333\n",
      "2     76889.476190\n",
      "3     61984.931818\n",
      "4     34888.928571\n",
      "5     43841.046798\n",
      "6     42503.563367\n",
      "7     72563.374635\n",
      "8     53645.506640\n",
      "9     57070.464569\n",
      "10    54261.910512\n",
      "11    60593.222847\n",
      "12    62503.783400\n",
      "Name: minutos_usados, dtype: float64\n",
      "\n"
     ]
    }
   ],
   "source": [
    "#calculando la media y la varianza de la duracion mensual de llamadas\n",
    "\n",
    "# Filtrar los datos por plan 'surf' y 'ultimate'\n",
    "minutos_surf = fct_ventas.query(\"plan == 'surf'\")\n",
    "minutos_ultimate = fct_ventas.query(\"plan == 'ultimate'\")\n",
    "\n",
    "# Agrupamos por el mes y calcular la media y la varianza de los minutos usados por mes para el plan surf\n",
    "media_surf_mensual = minutos_surf.groupby('mes')['minutos_usados'].mean()\n",
    "varianza_surf_mensual = minutos_surf.groupby('mes')['minutos_usados'].var()\n",
    "\n",
    "# Agrupar por el mes y calcular la media y la varianza de los minutos usados por mes para el plan ultimate\n",
    "media_ultimate_mensual = minutos_ultimate.groupby('mes')['minutos_usados'].mean()\n",
    "varianza_ultimate_mensual = minutos_ultimate.groupby('mes')['minutos_usados'].var()\n",
    "\n",
    "# Mostrar los resultados\n",
    "print(\"Plan Surf:\")\n",
    "print(f\"Media mensual de minutos:\\n{media_surf_mensual}\\n\")\n",
    "print(f\"Varianza mensual de minutos:\\n{varianza_surf_mensual}\\n\")\n",
    "\n",
    "print(\"Plan Ultimate:\")\n",
    "print(f\"Media mensual de minutos:\\n{media_ultimate_mensual}\\n\")\n",
    "print(f\"Varianza mensual de minutos:\\n{varianza_ultimate_mensual}\\n\")"
   ]
  },
  {
   "cell_type": "code",
   "execution_count": 49,
   "metadata": {
    "id": "nZzoRUKc0q1K"
   },
   "outputs": [
    {
     "data": {
      "image/png": "[encoded data removed]",
      "text/plain": [
       "<Figure size 640x480 with 1 Axes>"
      ]
     },
     "metadata": {},
     "output_type": "display_data"
    }
   ],
   "source": [
    "# Traza un diagrama de caja para visualizar la distribución de la duración mensual de llamadas\n",
    "sns.boxplot(data =fct_ventas,x='mes', y='minutos_usados',hue='plan')\n",
    "plt.show ()"
   ]
  },
  {
   "cell_type": "code",
   "execution_count": 50,
   "metadata": {},
   "outputs": [
    {
     "data": {
      "image/png": "[encoded data removed]",
      "text/plain": [
       "<Figure size 640x480 with 1 Axes>"
      ]
     },
     "metadata": {},
     "output_type": "display_data"
    }
   ],
   "source": [
    "minutos_surf = fct_ventas.query(\"plan =='surf'\")['minutos_usados'].reset_index(drop=True)\n",
    "minutos_ultimate = fct_ventas.query(\"plan =='ultimate'\")['minutos_usados'].reset_index(drop=True)\n",
    "\n",
    "sns.boxplot(data =fct_ventas, y='minutos_usados',hue='plan')\n",
    "plt.show ()"
   ]
  },
  {
   "cell_type": "markdown",
   "metadata": {
    "id": "r627zBO50q1K"
   },
   "source": [
    "[sacando la viarianza y la media nos damos cuenta que la diferncia no es mucho que ver sin embargo con la grafica boxplot nos damos cuenta que en los meses de diciembre hay mas datos variables entre un plan y otro porque tiene mas valores atipico en el plan surf ya que es un paquete mas economico y con menos minutos incluidos se ven mucho mas minutos utlizados. sacando anualmentente se ve mas general los valores atipicos en general estan mas lejos de la media en el plan surf.]"
   ]
  },
  {
   "cell_type": "markdown",
   "metadata": {
    "id": "8idKy8Wh0q1L"
   },
   "source": [
    "### Mensajes"
   ]
  },
  {
   "cell_type": "code",
   "execution_count": 51,
   "metadata": {
    "id": "NXLxiTit0q1L"
   },
   "outputs": [
    {
     "data": {
      "image/png": "[encoded data removed]",
      "text/plain": [
       "<Figure size 640x480 with 1 Axes>"
      ]
     },
     "metadata": {},
     "output_type": "display_data"
    }
   ],
   "source": [
    "# Comprara el número de mensajes que tienden a enviar cada mes los usuarios de cada plan\n",
    "sns.barplot(x='mes', y='total_de_mensajes', hue='plan', data=fct_ventas,ci=None )\n",
    "plt.title('Total de Mensajes al Mes y Plan')\n",
    "plt.xlabel('Mes')\n",
    "plt.ylabel('Minutos Gastados')\n",
    "\n",
    "plt.show ()\n",
    "#error=None"
   ]
  },
  {
   "cell_type": "code",
   "execution_count": 52,
   "metadata": {},
   "outputs": [
    {
     "name": "stdout",
     "output_type": "stream",
     "text": [
      "Plan Surf en Mensajes:\n",
      "Media mensual de mensajes Enviados:\n",
      "mes\n",
      "1     10.500000\n",
      "2     12.000000\n",
      "3     15.260870\n",
      "4     17.400000\n",
      "5     24.012987\n",
      "6     25.298969\n",
      "7     27.033058\n",
      "8     28.777778\n",
      "9     30.762887\n",
      "10    33.839662\n",
      "11    32.385159\n",
      "12    38.600629\n",
      "Name: total_de_mensajes, dtype: float64\n",
      "\n",
      "Varianza mensual de Mensajes Enviados:\n",
      "mes\n",
      "1      220.500000\n",
      "2      386.000000\n",
      "3      346.565217\n",
      "4      501.591837\n",
      "5      847.197198\n",
      "6      914.920103\n",
      "7      923.915565\n",
      "8     1029.515528\n",
      "9     1003.829496\n",
      "10    1275.465708\n",
      "11    1065.344034\n",
      "12    1458.158612\n",
      "Name: total_de_mensajes, dtype: float64\n",
      "\n",
      "Plan Ultimate en Mensajes:\n",
      "Media mensual de Mensajes Enviados:\n",
      "mes\n",
      "1     15.500000\n",
      "2     21.571429\n",
      "3     20.250000\n",
      "4     22.047619\n",
      "5     32.103448\n",
      "6     29.340426\n",
      "7     32.830508\n",
      "8     38.478873\n",
      "9     37.895349\n",
      "10    39.443396\n",
      "11    38.606299\n",
      "12    45.006623\n",
      "Name: total_de_mensajes, dtype: float64\n",
      "\n",
      "Varianza mensual de Mensajes Enviados:\n",
      "mes\n",
      "1      313.666667\n",
      "2      478.285714\n",
      "3      654.386364\n",
      "4      544.147619\n",
      "5     1297.310345\n",
      "6      857.620722\n",
      "7      960.488019\n",
      "8     1196.367404\n",
      "9     1050.918331\n",
      "10    1221.106289\n",
      "11    1232.669166\n",
      "12    1549.419956\n",
      "Name: total_de_mensajes, dtype: float64\n",
      "\n"
     ]
    }
   ],
   "source": [
    "#calculando la media y la varianza de la duracion mensual de llamadas\n",
    "\n",
    "# Filtrar los datos por plan 'surf' y 'ultimate'\n",
    "mensajes_minutos_surf = fct_ventas.query(\"plan == 'surf'\")\n",
    "mensajes_minutos_ultimate = fct_ventas.query(\"plan == 'ultimate'\")\n",
    "\n",
    "# Agrupamos por el mes y calcular la media y la varianza de los minutos usados por mes para el plan surf\n",
    "mensajes_media_surf_mensual = mensajes_minutos_surf.groupby('mes')['total_de_mensajes'].mean()\n",
    "mensajes_varianza_surf_mensual = mensajes_minutos_surf.groupby('mes')['total_de_mensajes'].var()\n",
    "\n",
    "# Agrupar por el mes y calcular la media y la varianza de los minutos usados por mes para el plan ultimate\n",
    "mensajes_media_ultimate_mensual = mensajes_minutos_ultimate.groupby('mes')['total_de_mensajes'].mean()\n",
    "mensajes_varianza_ultimate_mensual = mensajes_minutos_ultimate.groupby('mes')['total_de_mensajes'].var()\n",
    "\n",
    "# Mostrar los resultados\n",
    "print(\"Plan Surf en Mensajes:\")\n",
    "print(f\"Media mensual de mensajes Enviados:\\n{mensajes_media_surf_mensual}\\n\")\n",
    "print(f\"Varianza mensual de Mensajes Enviados:\\n{mensajes_varianza_surf_mensual}\\n\")\n",
    "\n",
    "print(\"Plan Ultimate en Mensajes:\")\n",
    "print(f\"Media mensual de Mensajes Enviados:\\n{mensajes_media_ultimate_mensual}\\n\")\n",
    "print(f\"Varianza mensual de Mensajes Enviados:\\n{mensajes_varianza_ultimate_mensual}\\n\")"
   ]
  },
  {
   "cell_type": "code",
   "execution_count": 53,
   "metadata": {},
   "outputs": [
    {
     "data": {
      "image/png": "[encoded data removed]",
      "text/plain": [
       "<Figure size 640x480 with 1 Axes>"
      ]
     },
     "metadata": {},
     "output_type": "display_data"
    }
   ],
   "source": [
    "# Traza un diagrama de caja para visualizar la distribución de la duración mensual de Mensajes\n",
    "\n",
    "sns.boxplot(data =fct_ventas,x='mes', y='total_de_mensajes',hue='plan')\n",
    "plt.title('DISTRIBUCION DE MENSAJES MENSUAL')\n",
    "plt.xlabel('MES')\n",
    "plt.ylabel('TOTAL DE MENSAJES')\n",
    "\n",
    "plt.show ()"
   ]
  },
  {
   "cell_type": "markdown",
   "metadata": {
    "id": "390SSL480q1M"
   },
   "source": [
    "[Con la primera Tabla nos damos cuenta que mes a mes va subiendo el huzo de mensajes y el que gasta mas en mensajes es el plan ultimate al igual al sacar la media de mes y nos damos cuenta que cada mes sube la media por lo mismo del huzo de mensajes y en la tabla de boxplot nos damos cuenta que en el mes de octubre y diciembre hay muchos valores atipicos y es donde la media esta mas lejana que la media del plan surf.]"
   ]
  },
  {
   "cell_type": "markdown",
   "metadata": {
    "id": "42YSypXz0q1M"
   },
   "source": [
    "### Internet"
   ]
  },
  {
   "cell_type": "code",
   "execution_count": 54,
   "metadata": {},
   "outputs": [
    {
     "data": {
      "image/png": "[encoded data removed]",
      "text/plain": [
       "<Figure size 640x480 with 1 Axes>"
      ]
     },
     "metadata": {},
     "output_type": "display_data"
    }
   ],
   "source": [
    "# Comprara el total de GB USADOS que tienden cada mes los usuarios de cada plan\n",
    "\n",
    "sns.histplot(data =fct_ventas,x='gb_usados',hue='plan') \n",
    "plt.title('GB UTILIZADOS ENTRE SURF Y ULTIMATE')\n",
    "plt.xlabel('GB UTILIZADOS')\n",
    "plt.ylabel('FRECUENCIA')\n",
    "plt.show ()"
   ]
  },
  {
   "cell_type": "markdown",
   "metadata": {},
   "source": [
    "[En esta grafica nos damos que el plan que utiliza que mas GB de internet es el plan surf y ambos planes consumen mas de entre 17 a 20 GB que son los puntos mas altos de Gb que se utiliza despues de esos GB va bajando el huzo de GB]"
   ]
  },
  {
   "cell_type": "code",
   "execution_count": 55,
   "metadata": {},
   "outputs": [
    {
     "data": {
      "image/png": "[encoded data removed]",
      "text/plain": [
       "<Figure size 640x480 with 1 Axes>"
      ]
     },
     "metadata": {},
     "output_type": "display_data"
    }
   ],
   "source": [
    "gb_surf = fct_ventas.query(\"plan =='surf'\")['gb_usados'].reset_index(drop=True)\n",
    "gb_ultimate = fct_ventas.query(\"plan =='ultimate'\")['gb_usados'].reset_index(drop=True)\n",
    "\n",
    "sns.boxplot(data =fct_ventas, y='gb_usados',hue='plan')\n",
    "plt.show ()"
   ]
  },
  {
   "cell_type": "code",
   "execution_count": 56,
   "metadata": {},
   "outputs": [
    {
     "name": "stdout",
     "output_type": "stream",
     "text": [
      "La Media de minutos de plan surf 16.68467895740623\n",
      "La Varianza de minutos de plan surf 61.65496231734954\n",
      "\n",
      "La Media de minutos de plan ultimate 17.334722222222222\n",
      "La Varianza de minutos de plan ultimate 58.940656390047906\n"
     ]
    }
   ],
   "source": [
    "# Calcula la media y la varianza de los GB usados anual.\n",
    "print(f\"La Media de minutos de plan surf {gb_surf.mean()}\")\n",
    "print(f\"La Varianza de minutos de plan surf {gb_surf.var()}\")\n",
    "print()\n",
    "print(f\"La Media de minutos de plan ultimate {gb_ultimate.mean()}\")\n",
    "print(f\"La Varianza de minutos de plan ultimate {gb_ultimate.var()}\")"
   ]
  },
  {
   "cell_type": "code",
   "execution_count": 57,
   "metadata": {},
   "outputs": [
    {
     "name": "stdout",
     "output_type": "stream",
     "text": [
      "Plan Surf:\n",
      "Media mensual de GB USADOS:\n",
      "mes\n",
      "1      5.000000\n",
      "2     12.222222\n",
      "3     13.565217\n",
      "4     12.220000\n",
      "5     14.116883\n",
      "6     15.484536\n",
      "7     16.909091\n",
      "8     16.895062\n",
      "9     16.695876\n",
      "10    17.426160\n",
      "11    16.459364\n",
      "12    18.248428\n",
      "Name: gb_usados, dtype: float64\n",
      "\n",
      "Varianza mensual de GB USADOS:\n",
      "mes\n",
      "1     18.000000\n",
      "2     41.444444\n",
      "3     63.984190\n",
      "4     56.215918\n",
      "5     58.183527\n",
      "6     47.752363\n",
      "7     61.500000\n",
      "8     71.622460\n",
      "9     49.176460\n",
      "10    61.042194\n",
      "11    54.575471\n",
      "12    69.240928\n",
      "Name: gb_usados, dtype: float64\n",
      "\n",
      "Plan Ultimate:\n",
      "Media mensual de GB USADOS:\n",
      "mes\n",
      "1      7.250000\n",
      "2     17.285714\n",
      "3     18.416667\n",
      "4     16.333333\n",
      "5     16.862069\n",
      "6     15.468085\n",
      "7     16.491525\n",
      "8     17.887324\n",
      "9     17.069767\n",
      "10    17.726415\n",
      "11    17.149606\n",
      "12    18.430464\n",
      "Name: gb_usados, dtype: float64\n",
      "\n",
      "Varianza mensual de GB USADOS:\n",
      "mes\n",
      "1      14.916667\n",
      "2      37.904762\n",
      "3     138.628788\n",
      "4      85.833333\n",
      "5      54.194581\n",
      "6      69.384829\n",
      "7      64.254237\n",
      "8      57.787123\n",
      "9      47.124487\n",
      "10     54.733962\n",
      "11     54.779028\n",
      "12     58.966799\n",
      "Name: gb_usados, dtype: float64\n",
      "\n"
     ]
    }
   ],
   "source": [
    "#calculando la media y la varianza de la duracion mensual de Internet \n",
    "\n",
    "# Filtrar los datos por plan 'surf' y 'ultimate'\n",
    "minutos_surf = fct_ventas.query(\"plan == 'surf'\")\n",
    "minutos_ultimate = fct_ventas.query(\"plan == 'ultimate'\")\n",
    "\n",
    "# Agrupamos por el mes y calcular la media y la varianza de los minutos usados por mes para el plan surf\n",
    "media_surf_mensual = minutos_surf.groupby('mes')['gb_usados'].mean()\n",
    "varianza_surf_mensual = minutos_surf.groupby('mes')['gb_usados'].var()\n",
    "\n",
    "# Agrupar por el mes y calcular la media y la varianza de los minutos usados por mes para el plan ultimate\n",
    "media_ultimate_mensual = minutos_ultimate.groupby('mes')['gb_usados'].mean()\n",
    "varianza_ultimate_mensual = minutos_ultimate.groupby('mes')['gb_usados'].var()\n",
    "\n",
    "# Mostrar los resultados\n",
    "print(\"Plan Surf:\")\n",
    "print(f\"Media mensual de GB USADOS:\\n{media_surf_mensual}\\n\")\n",
    "print(f\"Varianza mensual de GB USADOS:\\n{varianza_surf_mensual}\\n\")\n",
    "\n",
    "print(\"Plan Ultimate:\")\n",
    "print(f\"Media mensual de GB USADOS:\\n{media_ultimate_mensual}\\n\")\n",
    "print(f\"Varianza mensual de GB USADOS:\\n{varianza_ultimate_mensual}\\n\")"
   ]
  },
  {
   "cell_type": "code",
   "execution_count": 58,
   "metadata": {
    "id": "wnh8jYXi0q1N"
   },
   "outputs": [
    {
     "data": {
      "image/png": "[encoded data removed]",
      "text/plain": [
       "<Figure size 640x480 with 1 Axes>"
      ]
     },
     "metadata": {},
     "output_type": "display_data"
    }
   ],
   "source": [
    "# Traza un diagrama de caja para visualizar la distribución de la duración mensual de GB USADOS\n",
    "\n",
    "sns.boxplot(data =fct_ventas,x='mes', y='gb_usados',hue='plan')\n",
    "\n",
    "plt.show ()"
   ]
  },
  {
   "cell_type": "raw",
   "metadata": {
    "id": "UN9zwuMP0q1N"
   },
   "source": [
    "[Observaciones generales para el comportamiento internet:\n",
    "\n",
    "**Para el plan surf podemos observar que mes a mes se utilizan mas GB y en algunos caso hasta valos atipocos hay a comparacion del plan ultimate.\n",
    "**Para el plan ultimate podemos observar que la utilizacion de GB mensual no varia mucho y tiene valores atipocos pero no tan lejanos como el plan surf] "
   ]
  },
  {
   "cell_type": "markdown",
   "metadata": {
    "id": "tCijq3260q1N"
   },
   "source": [
    "## Ingreso"
   ]
  },
  {
   "cell_type": "code",
   "execution_count": 59,
   "metadata": {
    "id": "0Y1v8ZUz0q1P"
   },
   "outputs": [
    {
     "data": {
      "image/png": "[encoded data removed]",
      "text/plain": [
       "<Figure size 640x480 with 1 Axes>"
      ]
     },
     "metadata": {},
     "output_type": "display_data"
    }
   ],
   "source": [
    "sns.barplot(x='mes', y='ingreso_mensual', hue='plan', data=fct_ventas, ci=None)\n",
    "plt.title('INGRESO PROMEDIO SURF VS ULTIMATE')\n",
    "plt.xlabel('MES')\n",
    "plt.ylabel('INGRESO PROMEDIO')\n",
    "\n",
    "plt.show ()\n"
   ]
  },
  {
   "cell_type": "code",
   "execution_count": 67,
   "metadata": {},
   "outputs": [],
   "source": [
    "sum_ingreso_mensual=fct_ventas.pivot_table(index=['plan','mes'],\n",
    "                         values='ingreso_mensual',\n",
    "                         aggfunc=['sum'])\n",
    "sum_ingreso_mensual.columns = ['suma_ingresos_mensuales']\n",
    "sum_ingreso_mensual.reset_index(inplace=True)"
   ]
  },
  {
   "cell_type": "code",
   "execution_count": 68,
   "metadata": {
    "id": "bYmwxyVh0q1P",
    "scrolled": true
   },
   "outputs": [
    {
     "data": {
      "image/png": "[encoded data removed]",
      "text/plain": [
       "<Figure size 640x480 with 1 Axes>"
      ]
     },
     "metadata": {},
     "output_type": "display_data"
    }
   ],
   "source": [
    "sns.barplot(x='mes', y='suma_ingresos_mensuales', hue='plan', data=sum_ingreso_mensual, ci=None)\n",
    "\n",
    "plt.title('INGRESO SURF VS ULTIMATE')\n",
    "plt.xlabel('MES')\n",
    "plt.ylabel('SUMA TOTAL DE USD DE INGRESOS MENSUALES')\n",
    "\n",
    "plt.show ()"
   ]
  },
  {
   "cell_type": "code",
   "execution_count": 69,
   "metadata": {},
   "outputs": [
    {
     "name": "stdout",
     "output_type": "stream",
     "text": [
      "Plan Surf:\n",
      "Media mensual de ingresos:\n",
      "mes\n",
      "1     20.000000\n",
      "2     34.396667\n",
      "3     45.941304\n",
      "4     40.710600\n",
      "5     47.628182\n",
      "6     49.276289\n",
      "7     62.839339\n",
      "8     64.054630\n",
      "9     58.271495\n",
      "10    65.590000\n",
      "11    58.110283\n",
      "12    70.651384\n",
      "Name: ingreso_mensual, dtype: float64\n",
      "\n",
      "Varianza mensual de ingresos:\n",
      "mes\n",
      "1        0.000000\n",
      "2      428.276100\n",
      "3     1512.023512\n",
      "4     1198.958402\n",
      "5     1967.540055\n",
      "6     1988.914046\n",
      "7     2946.512845\n",
      "8     3602.397286\n",
      "9     2260.644980\n",
      "10    3224.282236\n",
      "11    2497.096993\n",
      "12    4604.702184\n",
      "Name: ingreso_mensual, dtype: float64\n",
      "\n",
      "Plan Ultimate:\n",
      "Media mensual de ingresos:\n",
      "mes\n",
      "1     70.000000\n",
      "2     70.000000\n",
      "3     74.666667\n",
      "4     73.000000\n",
      "5     70.724138\n",
      "6     71.638298\n",
      "7     71.898305\n",
      "8     72.859155\n",
      "9     72.034884\n",
      "10    72.311321\n",
      "11    71.763780\n",
      "12    73.337748\n",
      "Name: ingreso_mensual, dtype: float64\n",
      "\n",
      "Varianza mensual de ingresos:\n",
      "mes\n",
      "1       0.000000\n",
      "2       0.000000\n",
      "3     145.515152\n",
      "4     120.400000\n",
      "5      15.206897\n",
      "6      75.018501\n",
      "7     104.472238\n",
      "8     154.808451\n",
      "9      75.939945\n",
      "10    169.606918\n",
      "11     97.197725\n",
      "12    222.025166\n",
      "Name: ingreso_mensual, dtype: float64\n",
      "\n"
     ]
    }
   ],
   "source": [
    "# Filtrar los datos por plan 'surf' y 'ultimate'\n",
    "ingresos_surf = fct_ventas.query(\"plan == 'surf'\")\n",
    "ingresos_ultimate = fct_ventas.query(\"plan == 'ultimate'\")\n",
    "\n",
    "# Agrupar por el mes y calcular la media y la varianza de los ingresos mensuales por mes para el plan surf\n",
    "media_ingresos_surf = ingresos_surf.groupby('mes')['ingreso_mensual'].mean()\n",
    "varianza_ingresos_surf = ingresos_surf.groupby('mes')['ingreso_mensual'].var()\n",
    "\n",
    "# Agrupar por el mes y calcular la media y la varianza de los ingresos mensuales por mes para el plan ultimate\n",
    "media_ingresos_ultimate = ingresos_ultimate.groupby('mes')['ingreso_mensual'].mean()\n",
    "varianza_ingresos_ultimate = ingresos_ultimate.groupby('mes')['ingreso_mensual'].var()\n",
    "\n",
    "# Mostrar los resultados\n",
    "print(\"Plan Surf:\")\n",
    "print(f\"Media mensual de ingresos:\\n{media_ingresos_surf}\\n\")\n",
    "print(f\"Varianza mensual de ingresos:\\n{varianza_ingresos_surf}\\n\")\n",
    "\n",
    "print(\"Plan Ultimate:\")\n",
    "print(f\"Media mensual de ingresos:\\n{media_ingresos_ultimate}\\n\")\n",
    "print(f\"Varianza mensual de ingresos:\\n{varianza_ingresos_ultimate}\\n\")"
   ]
  },
  {
   "cell_type": "markdown",
   "metadata": {
    "id": "KAFidcXZ0q1P"
   },
   "source": [
    "[En promedio el plan ultimate es regular su ingresos varian entre 70 a 73.3 usd mensual ya que no puede bajar porque su plan es de 70usd sin embargo el plan surf varia entre 20 usd a 70.65usd y su plan su precio es de 20usd ya que el plan surf gasta casi lo mismo en o mas GB, mensajes y llamadas se encarece su plan por los extra que tiene a compraracion de ultimate y el ingreso entre plan ultimate y surf ha mas usuarios gastando en el plan surf que el ultimate ya que en solo el mes de diciembre de 22467.14USD siendo el ingreso mas alto al año no sabemos si apenas inicio la empresa o porque la creciente del plan pero da mucho que pensar en el plan surf para futuro ]"
   ]
  },
  {
   "cell_type": "markdown",
   "metadata": {
    "id": "ajJ7VKeI0q1Q"
   },
   "source": [
    "## Prueba las hipótesis estadísticas"
   ]
  },
  {
   "cell_type": "markdown",
   "metadata": {
    "id": "nFoPNlPq0q1R"
   },
   "source": [
    "# Prueba las hipótesis #1\n",
    "HO: el ticket promedio de surf NO es > al ticket promedio de ultimate\n",
    "\n",
    "H1:el ticket promedio de surf > al ticket promedio de ultimate"
   ]
  },
  {
   "cell_type": "code",
   "execution_count": 70,
   "metadata": {},
   "outputs": [],
   "source": [
    "ventas_surf = fct_ventas.query('plan==\"surf\"')['ingreso_mensual']\n",
    "ventas_ultimate =fct_ventas.query('plan==\"ultimate\"')['ingreso_mensual']"
   ]
  },
  {
   "cell_type": "code",
   "execution_count": 71,
   "metadata": {},
   "outputs": [],
   "source": [
    "resultado = st.ttest_ind(ventas_surf, ventas_ultimate, equal_var=False)"
   ]
  },
  {
   "cell_type": "code",
   "execution_count": 72,
   "metadata": {},
   "outputs": [],
   "source": [
    "alpha =0.02"
   ]
  },
  {
   "cell_type": "code",
   "execution_count": 73,
   "metadata": {},
   "outputs": [
    {
     "name": "stdout",
     "output_type": "stream",
     "text": [
      "valor p: 5.1234033722748e-15\n"
     ]
    }
   ],
   "source": [
    "print('valor p:', resultado.pvalue)"
   ]
  },
  {
   "cell_type": "code",
   "execution_count": 74,
   "metadata": {},
   "outputs": [
    {
     "name": "stdout",
     "output_type": "stream",
     "text": [
      "Podemos rechazar la hipotesis nula H0\n"
     ]
    }
   ],
   "source": [
    "# Prueba las hipótesis\n",
    "\n",
    "if resultado.pvalue < alpha:\n",
    "    print('Podemos rechazar la hipotesis nula H0')\n",
    "\n",
    "else:\n",
    "    prin('NO podemos rechazar la hipotesis nula')"
   ]
  },
  {
   "cell_type": "raw",
   "metadata": {},
   "source": [
    "LA RESPUESTA A LA HIPOTESIS ES H1:el ticket promedio de surf > al ticket promedio de ultimate"
   ]
  },
  {
   "cell_type": "code",
   "execution_count": 75,
   "metadata": {},
   "outputs": [
    {
     "data": {
      "text/plain": [
       "count    1573.000000\n",
       "mean       60.795410\n",
       "std        55.450334\n",
       "min        20.000000\n",
       "25%        20.000000\n",
       "50%        40.510000\n",
       "75%        80.420000\n",
       "max       590.370000\n",
       "Name: ingreso_mensual, dtype: float64"
      ]
     },
     "execution_count": 75,
     "metadata": {},
     "output_type": "execute_result"
    }
   ],
   "source": [
    "ventas_surf.describe()"
   ]
  },
  {
   "cell_type": "markdown",
   "metadata": {},
   "source": [
    "# Prueba las hipótesis #2 el ingreso promedio de los usuarios del área NY-NJ es diferente al de los usuarios de otras regiones.\n",
    "H0 = El ingreso promedio de los usuarios del área NY-NJ es diferente al de los usuarios de otras regiones.\n",
    "\n",
    "H1 = El ingreso promedio de los usuarios del área NY-NJ NO es diferente al de los usuarios de otras regiones.\n",
    "\n",
    "Se concluye que el ingreso promedio de los usuarios difiere según la ubicación."
   ]
  },
  {
   "cell_type": "code",
   "execution_count": 76,
   "metadata": {},
   "outputs": [],
   "source": [
    "ny_jn = fct_ventas[fct_ventas['city'].str.contains('ny-nj')]['ingreso_mensual']\n",
    "ciudades_no_nyjn = fct_ventas[~fct_ventas['city'].str.contains('ny-nj')]['ingreso_mensual']"
   ]
  },
  {
   "cell_type": "code",
   "execution_count": 77,
   "metadata": {},
   "outputs": [],
   "source": [
    "resultado_dos = st.ttest_ind(ny_jn, ciudades_no_nyjn, equal_var=False)"
   ]
  },
  {
   "cell_type": "code",
   "execution_count": 78,
   "metadata": {},
   "outputs": [],
   "source": [
    "alpha_dos =0.02"
   ]
  },
  {
   "cell_type": "code",
   "execution_count": 79,
   "metadata": {},
   "outputs": [
    {
     "name": "stdout",
     "output_type": "stream",
     "text": [
      "valor p: 0.03408041222493359\n"
     ]
    }
   ],
   "source": [
    "print('valor p:', resultado_dos.pvalue)"
   ]
  },
  {
   "cell_type": "code",
   "execution_count": 80,
   "metadata": {},
   "outputs": [
    {
     "name": "stdout",
     "output_type": "stream",
     "text": [
      "NO podemos rechazar la hipotesis nula\n"
     ]
    }
   ],
   "source": [
    "# Prueba las hipótesis\n",
    "\n",
    "if resultado_dos.pvalue < alpha_dos:\n",
    "    print('Podemos rechazar la hipotesis nula H0')\n",
    "\n",
    "else:\n",
    "    print('NO podemos rechazar la hipotesis nula')"
   ]
  },
  {
   "cell_type": "markdown",
   "metadata": {
    "id": "LsBgitqj0q1R"
   },
   "source": [
    "H1 = El ingreso promedio de los usuarios del área NY-NJ NO es diferente al de los usuarios de otras regiones."
   ]
  },
  {
   "cell_type": "markdown",
   "metadata": {
    "id": "bbTR8UQO0q1T"
   },
   "source": [
    "## Conclusión general\n",
    "\n",
    "1.-primero hicimos la limpieza de los datos en General buscar si habia duplicados o ausentes y se corriguio\n",
    "\n",
    "2.-se hizo un estudio de comportamiento de usuarios en llamadas, mensajes e internet para saber que usuario tenia mas gasto de cada uno de los apartados(llamadas, mensajes e internet)en el cual el estudio salio que el que mas gastaba en llamadas, mensajes e internet y cual es el ingreso por cada plan mensual.\n",
    "\n",
    "3.-se hizo una tabla madre usando merge y se juntaron las columnas que hicimos de analisis y limpieza revisamos si habia datos ausentes lo corregimos, redondeamos los MB y GB se hizo al final el ingreso mensual por paquete y se acoplo con la tabla madre \n",
    "\n",
    "4.-se hizo tabla para su facil visualizacion de los datos que se sacaron como la media y ver que ambos tenian gastos muy similares pero teniendo presente que el plan surf es mas economico y notamos que tuvo muchos gastos extras a comparacion de ultimate en ambas partes\n",
    "\n",
    "5.- Al llegar a la parte de analisis de ingresos no damos cuenta que el que menos extra tuvo en su paquete fue ultimate\n",
    "\n",
    "6.- en el mismo analisis se ve en la grafica como el plan surf hay mas ingresos no sabemos el porque ya sea aya iniciado la empresa, sea un nuevo paquete etc... sin embargo ahi hay un punto que se puede ver como una oportunidad de implementar ya sabran los ejecutivos de que manera ya sea mas publicidad para que haya mas gente en tener ese paquete ya que a pesar que gastan menos al mes en su paquete siempre tiene extras y eso le conviene a la empresa pero bueno lo dejare a critero de especialistas\n",
    "\n",
    "7.-para concluir los analisis previos de tablas medias varianzas concluimos con la prueba de hipotesis cual de las dos opciones es mejor y nuestro resultado salio que el **PAQUETE SURF ES TIENE MAYOR INGRESOS PROMEDIOS AL PAQUETE ULTIMATE CON UNA CERTEZA DE 98%** \n",
    "\n",
    "8.-Tambien se nos pidio que se analizara si habia alguna diferencia de las personas que contratan paquetes en NY-NJ que fue la respuesta de la segunda hipotesis que nos dice que El **ingreso promedio de los usuarios del área NY-NJ no es diferente al de los usuarios de otras regiones**. \n",
    " "
   ]
  },
  {
   "cell_type": "markdown",
   "metadata": {},
   "source": [
    "### Comentario Final del Revisor\n",
    "\n",
    "<div class=\"alert alert-block alert-success\">\n",
    "<b>Comentario del revisor</b> <a class=\"tocSkip\"></a>\n",
    "\n",
    "¡Felicidades! Tu proyecto está **aprobado**. Has realizado un análisis exhaustivo de los datos, logrando responder claramente la pregunta sobre cuál tarifa genera más ingresos, lo cual es fundamental para la estrategia de la empresa. Destaco a continuación los aspectos positivos y algunas sugerencias de mejora y temas de exploración futura:\n",
    "\n",
    "#### Puntos Positivos:\n",
    "- **Corrección y limpieza de datos**: Has cubierto una revisión general de valores ausentes y duplicados, ajustando adecuadamente formatos de fechas y redondeos, lo que permite un análisis preciso y limpio.\n",
    "- **Enriquecimiento de datos**: Creaste nuevas columnas como \"minutos_cobrables\", \"mensajes_cobrables\" y \"gb_cobrables\" que agregan valor a los datos, facilitando el análisis y mejorando la claridad de los resultados.\n",
    "- **Análisis exploratorio visual y estadístico**: Las gráficas y las pruebas de hipótesis ayudan a visualizar y confirmar diferencias entre las tarifas de manera efectiva.\n",
    "- **Pruebas de hipótesis detalladas**: La aplicación de pruebas de hipótesis agrega rigor estadístico, ayudando a sustentar la conclusión final sobre el plan de mayor ingreso.\n",
    "\n",
    "#### Áreas para Seguir Investigando:\n",
    "- **Optimización con métodos vectorizados**: Explorar el uso de métodos como `where()` en lugar de `apply` podría agilizar el procesamiento de datos. Al igual que mencionaste, aplicar `where()` puede ser de gran ayuda para operaciones condicionales, como el cálculo de \"minutos_cobrables\" o \"mensajes_cobrables\".\n",
    "- **Análisis de ingresos regional**: Profundizar en el comportamiento de clientes en otras regiones, además de NY-NJ, podría mostrar patrones de ingreso adicionales útiles para segmentar estrategias de mercado.\n",
    "- **Automatización del proceso de gráficos**: Considera implementar un enfoque modular para tus gráficos, especialmente al comparar tarifas. Esto facilitará la reutilización del código y dará lugar a gráficos más dinámicos.\n",
    "- **Modelos predictivos**: Podrías explorar modelos de predicción para anticipar el comportamiento de clientes en cuanto a consumo de minutos, mensajes y datos, basándote en el análisis actual.\n",
    "\n",
    "Continúa desarrollando tus habilidades y conocimientos; estás en el camino correcto para convertirte en un experto en ciencia de datos. ¡Buen trabajo y sigue avanzando! 💪🚀😊\n",
    "</div>"
   ]
  }
 ],
 "metadata": {
  "ExecuteTimeLog": [
   {
    "duration": 828,
    "start_time": "2021-11-16T09:21:11.304Z"
   },
   {
    "duration": 893,
    "start_time": "2021-11-16T09:21:17.728Z"
   },
   {
    "duration": 1150,
    "start_time": "2021-11-16T09:21:29.568Z"
   },
   {
    "duration": 3,
    "start_time": "2021-11-16T09:24:14.495Z"
   },
   {
    "duration": 120,
    "start_time": "2021-11-16T09:24:46.630Z"
   },
   {
    "duration": 3,
    "start_time": "2021-11-16T09:28:27.882Z"
   },
   {
    "duration": 4,
    "start_time": "2021-11-16T09:29:54.281Z"
   },
   {
    "duration": 3,
    "start_time": "2021-11-16T09:30:45.936Z"
   },
   {
    "duration": 4,
    "start_time": "2021-11-16T09:31:06.300Z"
   },
   {
    "duration": 113,
    "start_time": "2021-11-16T09:31:37.208Z"
   },
   {
    "duration": 143,
    "start_time": "2021-11-16T09:31:48.656Z"
   },
   {
    "duration": 98,
    "start_time": "2021-11-16T09:31:55.678Z"
   },
   {
    "duration": 3,
    "start_time": "2021-11-16T09:32:08.535Z"
   },
   {
    "duration": 111,
    "start_time": "2021-11-16T09:32:10.120Z"
   },
   {
    "duration": 3,
    "start_time": "2021-11-16T09:32:15.732Z"
   },
   {
    "duration": 4,
    "start_time": "2021-11-16T09:32:29.423Z"
   },
   {
    "duration": 3,
    "start_time": "2021-11-16T10:03:03.074Z"
   },
   {
    "duration": 3,
    "start_time": "2021-11-16T10:10:01.288Z"
   },
   {
    "duration": 3,
    "start_time": "2021-11-16T10:10:46.923Z"
   },
   {
    "duration": 121,
    "start_time": "2021-11-16T10:37:46.494Z"
   },
   {
    "duration": 125,
    "start_time": "2021-11-16T10:38:20.632Z"
   },
   {
    "duration": 112,
    "start_time": "2021-11-16T10:46:53.001Z"
   },
   {
    "duration": 110,
    "start_time": "2021-11-16T10:48:25.775Z"
   },
   {
    "duration": 3,
    "start_time": "2021-11-16T10:50:18.720Z"
   },
   {
    "duration": 4,
    "start_time": "2021-11-16T10:50:37.649Z"
   },
   {
    "duration": 2,
    "start_time": "2021-11-16T10:50:51.884Z"
   },
   {
    "duration": 3,
    "start_time": "2021-11-16T10:51:56.237Z"
   },
   {
    "duration": 101,
    "start_time": "2021-11-16T10:53:13.791Z"
   },
   {
    "duration": 3,
    "start_time": "2021-11-16T10:55:59.186Z"
   },
   {
    "duration": 3,
    "start_time": "2021-11-16T10:56:10.751Z"
   },
   {
    "duration": 3,
    "start_time": "2021-11-16T10:56:49.038Z"
   },
   {
    "duration": 3,
    "start_time": "2021-11-16T10:56:49.174Z"
   },
   {
    "duration": 4,
    "start_time": "2021-11-16T10:56:49.414Z"
   },
   {
    "duration": 3,
    "start_time": "2021-11-16T10:56:49.680Z"
   },
   {
    "duration": 3,
    "start_time": "2021-11-16T10:56:50.370Z"
   },
   {
    "duration": 114,
    "start_time": "2021-11-16T10:59:34.518Z"
   },
   {
    "duration": 3,
    "start_time": "2021-11-16T11:01:41.201Z"
   },
   {
    "duration": 116,
    "start_time": "2021-11-16T11:01:48.754Z"
   },
   {
    "duration": 3,
    "start_time": "2021-11-16T11:02:16.685Z"
   },
   {
    "duration": 3,
    "start_time": "2021-11-16T11:02:19.479Z"
   },
   {
    "duration": 3,
    "start_time": "2021-11-16T11:02:47.067Z"
   },
   {
    "duration": 3,
    "start_time": "2021-11-16T11:02:49.353Z"
   },
   {
    "duration": 3,
    "start_time": "2021-11-16T11:03:07.835Z"
   },
   {
    "duration": 3,
    "start_time": "2021-11-16T11:03:07.953Z"
   },
   {
    "duration": 112,
    "start_time": "2021-11-16T11:07:52.072Z"
   },
   {
    "duration": 187,
    "start_time": "2021-11-16T11:09:23.468Z"
   },
   {
    "duration": 4,
    "start_time": "2021-11-16T11:10:01.455Z"
   },
   {
    "duration": 3,
    "start_time": "2021-11-16T11:10:05.069Z"
   },
   {
    "duration": 4,
    "start_time": "2021-11-16T11:10:13.376Z"
   },
   {
    "duration": 3,
    "start_time": "2021-11-16T11:10:14.434Z"
   },
   {
    "duration": 3,
    "start_time": "2021-11-16T11:10:22.853Z"
   },
   {
    "duration": 4,
    "start_time": "2021-11-16T11:27:29.279Z"
   },
   {
    "duration": 4,
    "start_time": "2021-11-16T11:29:08.919Z"
   },
   {
    "duration": 118,
    "start_time": "2021-11-16T11:29:46.703Z"
   },
   {
    "duration": 437,
    "start_time": "2021-11-16T11:36:02.181Z"
   },
   {
    "duration": 157,
    "start_time": "2021-11-16T11:36:14.388Z"
   },
   {
    "duration": 207,
    "start_time": "2021-11-16T11:47:15.898Z"
   },
   {
    "duration": 3,
    "start_time": "2021-11-16T11:53:52.092Z"
   },
   {
    "duration": 3,
    "start_time": "2021-11-16T11:53:52.236Z"
   },
   {
    "duration": 3,
    "start_time": "2021-11-16T11:59:12.005Z"
   },
   {
    "duration": 112,
    "start_time": "2021-11-16T12:00:33.446Z"
   },
   {
    "duration": 3,
    "start_time": "2021-11-16T12:02:14.453Z"
   },
   {
    "duration": 3,
    "start_time": "2021-11-16T12:02:39.512Z"
   },
   {
    "duration": 106,
    "start_time": "2021-11-16T12:03:03.460Z"
   },
   {
    "duration": 3,
    "start_time": "2021-11-17T20:37:21.139Z"
   },
   {
    "duration": 3,
    "start_time": "2021-11-17T20:37:22.229Z"
   },
   {
    "duration": 3,
    "start_time": "2021-11-17T20:38:38.806Z"
   },
   {
    "duration": 3,
    "start_time": "2021-11-17T20:38:41.958Z"
   },
   {
    "duration": 3,
    "start_time": "2021-11-17T20:43:46.551Z"
   },
   {
    "duration": 4,
    "start_time": "2021-11-17T20:58:21.835Z"
   },
   {
    "duration": 3,
    "start_time": "2021-11-17T20:59:21.872Z"
   },
   {
    "duration": 4,
    "start_time": "2021-11-17T20:59:45.352Z"
   },
   {
    "duration": 4,
    "start_time": "2021-11-17T20:59:49.646Z"
   },
   {
    "duration": 159,
    "start_time": "2021-11-17T21:02:26.949Z"
   },
   {
    "duration": 3,
    "start_time": "2021-11-17T21:03:53.461Z"
   },
   {
    "duration": 3,
    "start_time": "2021-11-17T21:03:53.694Z"
   },
   {
    "duration": 3,
    "start_time": "2021-11-17T21:05:28.145Z"
   },
   {
    "duration": 116,
    "start_time": "2021-11-17T21:05:57.787Z"
   },
   {
    "duration": 3,
    "start_time": "2021-11-17T21:06:37.993Z"
   },
   {
    "duration": 3,
    "start_time": "2021-11-17T21:06:38.261Z"
   },
   {
    "duration": 3,
    "start_time": "2021-11-17T21:11:54.358Z"
   },
   {
    "duration": 3,
    "start_time": "2021-11-17T21:12:43.846Z"
   },
   {
    "duration": 4,
    "start_time": "2021-11-17T21:13:08.773Z"
   },
   {
    "duration": 3,
    "start_time": "2021-11-17T21:14:44.441Z"
   },
   {
    "duration": 3,
    "start_time": "2021-11-17T21:15:42.059Z"
   },
   {
    "duration": 4,
    "start_time": "2021-11-17T21:15:51.995Z"
   },
   {
    "duration": 3,
    "start_time": "2021-11-17T21:15:53.923Z"
   },
   {
    "duration": 3,
    "start_time": "2021-11-17T21:15:55.282Z"
   },
   {
    "duration": 3,
    "start_time": "2021-11-17T21:16:28.492Z"
   },
   {
    "duration": 3,
    "start_time": "2021-11-17T21:16:32.603Z"
   },
   {
    "duration": 3,
    "start_time": "2021-11-17T21:17:06.941Z"
   },
   {
    "duration": 98,
    "start_time": "2021-11-17T21:18:05.733Z"
   },
   {
    "duration": 4,
    "start_time": "2021-11-17T21:21:35.255Z"
   },
   {
    "duration": 3,
    "start_time": "2021-11-17T21:21:37.804Z"
   },
   {
    "duration": 4,
    "start_time": "2021-11-17T21:23:06.071Z"
   },
   {
    "duration": 3,
    "start_time": "2021-11-17T21:23:24.799Z"
   },
   {
    "duration": 3,
    "start_time": "2021-11-17T21:23:32.591Z"
   },
   {
    "duration": 98,
    "start_time": "2021-11-17T21:28:31.559Z"
   },
   {
    "duration": 3,
    "start_time": "2021-11-17T21:28:45.448Z"
   },
   {
    "duration": 3,
    "start_time": "2021-11-17T21:29:17.303Z"
   },
   {
    "duration": 3,
    "start_time": "2021-11-17T21:29:29.617Z"
   },
   {
    "duration": 3,
    "start_time": "2021-11-17T21:29:32.681Z"
   },
   {
    "duration": 3,
    "start_time": "2021-11-17T21:36:11.474Z"
   },
   {
    "duration": 3,
    "start_time": "2021-11-17T21:36:14.791Z"
   },
   {
    "duration": 3,
    "start_time": "2021-11-17T21:36:53.943Z"
   },
   {
    "duration": 3,
    "start_time": "2021-11-17T21:36:56.165Z"
   },
   {
    "duration": 4,
    "start_time": "2021-11-17T21:37:16.590Z"
   },
   {
    "duration": 3,
    "start_time": "2021-11-17T21:37:22.702Z"
   },
   {
    "duration": 4,
    "start_time": "2021-11-17T21:38:03.479Z"
   },
   {
    "duration": 3,
    "start_time": "2021-11-17T21:38:08.601Z"
   },
   {
    "duration": 3,
    "start_time": "2021-11-17T21:38:12.928Z"
   },
   {
    "duration": 3,
    "start_time": "2021-11-17T21:38:48.896Z"
   },
   {
    "duration": 2,
    "start_time": "2021-11-17T21:38:49.171Z"
   },
   {
    "duration": 4,
    "start_time": "2021-11-17T21:39:57.889Z"
   },
   {
    "duration": 3,
    "start_time": "2021-11-17T21:39:58.057Z"
   },
   {
    "duration": 3,
    "start_time": "2021-11-17T21:41:20.108Z"
   },
   {
    "duration": 3,
    "start_time": "2021-11-17T21:41:20.629Z"
   },
   {
    "duration": 3,
    "start_time": "2021-11-17T21:42:49.136Z"
   },
   {
    "duration": 3,
    "start_time": "2021-11-17T21:43:15.137Z"
   },
   {
    "duration": 4,
    "start_time": "2021-11-17T21:43:16.766Z"
   },
   {
    "duration": 4,
    "start_time": "2021-11-17T21:43:31.711Z"
   },
   {
    "duration": 3,
    "start_time": "2021-11-17T21:43:36.312Z"
   },
   {
    "duration": 4,
    "start_time": "2021-11-17T21:45:08.825Z"
   },
   {
    "duration": 4,
    "start_time": "2021-11-17T21:45:10.119Z"
   },
   {
    "duration": 4,
    "start_time": "2021-11-17T21:45:13.748Z"
   },
   {
    "duration": 3,
    "start_time": "2021-11-17T21:45:22.219Z"
   },
   {
    "duration": 3,
    "start_time": "2021-11-17T21:45:33.412Z"
   },
   {
    "duration": 2,
    "start_time": "2021-11-17T21:46:01.885Z"
   },
   {
    "duration": 3,
    "start_time": "2021-11-17T21:46:03.628Z"
   },
   {
    "duration": 107,
    "start_time": "2021-11-17T21:47:32.512Z"
   },
   {
    "duration": 103,
    "start_time": "2021-11-17T21:50:36.243Z"
   },
   {
    "duration": 3,
    "start_time": "2021-11-18T06:28:31.440Z"
   },
   {
    "duration": 3,
    "start_time": "2021-11-18T06:29:00.168Z"
   },
   {
    "duration": 3,
    "start_time": "2021-11-18T06:31:27.008Z"
   },
   {
    "duration": 2,
    "start_time": "2021-11-18T06:35:34.288Z"
   },
   {
    "duration": 2,
    "start_time": "2021-11-18T06:38:04.527Z"
   },
   {
    "duration": 489,
    "start_time": "2024-10-16T03:55:42.959Z"
   },
   {
    "duration": 327,
    "start_time": "2024-10-16T03:55:56.945Z"
   },
   {
    "duration": 92,
    "start_time": "2024-10-16T03:55:59.863Z"
   },
   {
    "duration": 14,
    "start_time": "2024-10-16T03:56:07.262Z"
   },
   {
    "duration": 16,
    "start_time": "2024-10-16T03:56:48.290Z"
   },
   {
    "duration": 253,
    "start_time": "2024-10-16T03:57:08.494Z"
   },
   {
    "duration": 184,
    "start_time": "2024-10-16T03:58:58.878Z"
   },
   {
    "duration": 62,
    "start_time": "2024-10-16T03:59:44.270Z"
   },
   {
    "duration": 40,
    "start_time": "2024-10-16T03:59:52.016Z"
   },
   {
    "duration": 41,
    "start_time": "2024-10-16T04:00:17.265Z"
   },
   {
    "duration": 2,
    "start_time": "2024-10-16T04:06:14.067Z"
   },
   {
    "duration": 3,
    "start_time": "2024-10-16T05:11:40.672Z"
   },
   {
    "duration": 12,
    "start_time": "2024-10-16T05:12:11.001Z"
   },
   {
    "duration": 156,
    "start_time": "2024-10-16T05:12:16.821Z"
   },
   {
    "duration": 3,
    "start_time": "2024-10-16T05:12:18.998Z"
   },
   {
    "duration": 27,
    "start_time": "2024-10-16T05:12:21.090Z"
   },
   {
    "duration": 3,
    "start_time": "2024-10-16T05:12:51.115Z"
   },
   {
    "duration": 26,
    "start_time": "2024-10-16T05:13:00.298Z"
   },
   {
    "duration": 3,
    "start_time": "2024-10-16T05:13:12.956Z"
   },
   {
    "duration": 26,
    "start_time": "2024-10-16T05:13:16.624Z"
   },
   {
    "duration": 3,
    "start_time": "2024-10-16T05:13:59.174Z"
   },
   {
    "duration": 12,
    "start_time": "2024-10-16T05:14:01.348Z"
   },
   {
    "duration": 48,
    "start_time": "2024-10-16T05:17:48.906Z"
   },
   {
    "duration": 603,
    "start_time": "2024-10-16T05:19:45.941Z"
   },
   {
    "duration": 154,
    "start_time": "2024-10-16T05:19:46.546Z"
   },
   {
    "duration": 4,
    "start_time": "2024-10-16T05:19:46.702Z"
   },
   {
    "duration": 2,
    "start_time": "2024-10-16T05:19:46.708Z"
   },
   {
    "duration": 13,
    "start_time": "2024-10-16T05:19:46.714Z"
   },
   {
    "duration": 2,
    "start_time": "2024-10-16T05:19:46.729Z"
   },
   {
    "duration": 3,
    "start_time": "2024-10-16T05:19:46.733Z"
   },
   {
    "duration": 3,
    "start_time": "2024-10-16T05:19:46.737Z"
   },
   {
    "duration": 79,
    "start_time": "2024-10-16T05:19:46.741Z"
   },
   {
    "duration": 3,
    "start_time": "2024-10-16T05:19:46.822Z"
   },
   {
    "duration": 2,
    "start_time": "2024-10-16T05:19:46.828Z"
   },
   {
    "duration": 4,
    "start_time": "2024-10-16T05:19:46.831Z"
   },
   {
    "duration": 3,
    "start_time": "2024-10-16T05:19:46.836Z"
   },
   {
    "duration": 2,
    "start_time": "2024-10-16T05:19:46.842Z"
   },
   {
    "duration": 2,
    "start_time": "2024-10-16T05:19:46.846Z"
   },
   {
    "duration": 4,
    "start_time": "2024-10-16T05:19:46.850Z"
   },
   {
    "duration": 3,
    "start_time": "2024-10-16T05:19:46.856Z"
   },
   {
    "duration": 2,
    "start_time": "2024-10-16T05:19:46.861Z"
   },
   {
    "duration": 40,
    "start_time": "2024-10-16T05:19:46.865Z"
   },
   {
    "duration": 3,
    "start_time": "2024-10-16T05:19:46.907Z"
   },
   {
    "duration": 3,
    "start_time": "2024-10-16T05:19:46.911Z"
   },
   {
    "duration": 5,
    "start_time": "2024-10-16T05:19:46.915Z"
   },
   {
    "duration": 4,
    "start_time": "2024-10-16T05:19:46.922Z"
   },
   {
    "duration": 3,
    "start_time": "2024-10-16T05:19:46.927Z"
   },
   {
    "duration": 3,
    "start_time": "2024-10-16T05:19:46.931Z"
   },
   {
    "duration": 2,
    "start_time": "2024-10-16T05:19:46.936Z"
   },
   {
    "duration": 2,
    "start_time": "2024-10-16T05:19:46.940Z"
   },
   {
    "duration": 3,
    "start_time": "2024-10-16T05:19:46.944Z"
   },
   {
    "duration": 3,
    "start_time": "2024-10-16T05:19:46.948Z"
   },
   {
    "duration": 3,
    "start_time": "2024-10-16T05:41:45.198Z"
   },
   {
    "duration": 51,
    "start_time": "2024-10-16T05:41:51.162Z"
   },
   {
    "duration": 238,
    "start_time": "2024-10-16T05:45:06.658Z"
   },
   {
    "duration": 18,
    "start_time": "2024-10-16T05:46:05.539Z"
   },
   {
    "duration": 30,
    "start_time": "2024-10-16T05:46:22.417Z"
   },
   {
    "duration": 6,
    "start_time": "2024-10-16T13:17:33.039Z"
   },
   {
    "duration": 159,
    "start_time": "2024-10-16T13:17:34.737Z"
   },
   {
    "duration": 13,
    "start_time": "2024-10-16T13:17:38.797Z"
   },
   {
    "duration": 605,
    "start_time": "2024-10-16T13:17:41.384Z"
   },
   {
    "duration": 583,
    "start_time": "2024-10-16T13:17:48.103Z"
   },
   {
    "duration": 205,
    "start_time": "2024-10-16T13:17:48.688Z"
   },
   {
    "duration": 4,
    "start_time": "2024-10-16T13:17:48.895Z"
   },
   {
    "duration": 3,
    "start_time": "2024-10-16T13:17:48.901Z"
   },
   {
    "duration": 15,
    "start_time": "2024-10-16T13:17:48.906Z"
   },
   {
    "duration": 2,
    "start_time": "2024-10-16T13:17:48.922Z"
   },
   {
    "duration": 2,
    "start_time": "2024-10-16T13:17:48.926Z"
   },
   {
    "duration": 2,
    "start_time": "2024-10-16T13:17:48.930Z"
   },
   {
    "duration": 53,
    "start_time": "2024-10-16T13:17:48.934Z"
   },
   {
    "duration": 44,
    "start_time": "2024-10-16T13:17:48.989Z"
   },
   {
    "duration": 2,
    "start_time": "2024-10-16T13:17:49.035Z"
   },
   {
    "duration": 3,
    "start_time": "2024-10-16T13:17:49.039Z"
   },
   {
    "duration": 3,
    "start_time": "2024-10-16T13:17:49.043Z"
   },
   {
    "duration": 1,
    "start_time": "2024-10-16T13:17:49.050Z"
   },
   {
    "duration": 2,
    "start_time": "2024-10-16T13:17:49.053Z"
   },
   {
    "duration": 3,
    "start_time": "2024-10-16T13:17:49.057Z"
   },
   {
    "duration": 3,
    "start_time": "2024-10-16T13:17:49.061Z"
   },
   {
    "duration": 3,
    "start_time": "2024-10-16T13:17:49.066Z"
   },
   {
    "duration": 2,
    "start_time": "2024-10-16T13:17:49.110Z"
   },
   {
    "duration": 3,
    "start_time": "2024-10-16T13:17:49.113Z"
   },
   {
    "duration": 3,
    "start_time": "2024-10-16T13:17:49.117Z"
   },
   {
    "duration": 3,
    "start_time": "2024-10-16T13:17:49.122Z"
   },
   {
    "duration": 2,
    "start_time": "2024-10-16T13:17:49.127Z"
   },
   {
    "duration": 3,
    "start_time": "2024-10-16T13:17:49.131Z"
   },
   {
    "duration": 2,
    "start_time": "2024-10-16T13:17:49.136Z"
   },
   {
    "duration": 3,
    "start_time": "2024-10-16T13:17:49.140Z"
   },
   {
    "duration": 2,
    "start_time": "2024-10-16T13:17:49.145Z"
   },
   {
    "duration": 3,
    "start_time": "2024-10-16T13:17:49.149Z"
   },
   {
    "duration": 2,
    "start_time": "2024-10-16T13:17:49.154Z"
   },
   {
    "duration": 3,
    "start_time": "2024-10-16T13:17:49.158Z"
   },
   {
    "duration": 3,
    "start_time": "2024-10-16T13:18:19.348Z"
   },
   {
    "duration": 13,
    "start_time": "2024-10-16T13:18:24.323Z"
   },
   {
    "duration": 3,
    "start_time": "2024-10-16T13:18:30.178Z"
   },
   {
    "duration": 13,
    "start_time": "2024-10-16T13:18:34.295Z"
   },
   {
    "duration": 21,
    "start_time": "2024-10-16T13:19:56.235Z"
   },
   {
    "duration": 14,
    "start_time": "2024-10-16T13:20:50.116Z"
   },
   {
    "duration": 615,
    "start_time": "2024-10-16T13:53:04.998Z"
   },
   {
    "duration": 242,
    "start_time": "2024-10-16T13:53:05.615Z"
   },
   {
    "duration": 3,
    "start_time": "2024-10-16T13:53:05.859Z"
   },
   {
    "duration": 3,
    "start_time": "2024-10-16T13:53:05.865Z"
   },
   {
    "duration": 17,
    "start_time": "2024-10-16T13:53:05.869Z"
   },
   {
    "duration": 2,
    "start_time": "2024-10-16T13:53:05.888Z"
   },
   {
    "duration": 22,
    "start_time": "2024-10-16T13:53:05.892Z"
   },
   {
    "duration": 2,
    "start_time": "2024-10-16T13:53:05.916Z"
   },
   {
    "duration": 53,
    "start_time": "2024-10-16T13:53:05.920Z"
   },
   {
    "duration": 42,
    "start_time": "2024-10-16T13:53:05.977Z"
   },
   {
    "duration": 3,
    "start_time": "2024-10-16T13:53:06.021Z"
   },
   {
    "duration": 2,
    "start_time": "2024-10-16T13:53:06.026Z"
   },
   {
    "duration": 2,
    "start_time": "2024-10-16T13:53:06.030Z"
   },
   {
    "duration": 2,
    "start_time": "2024-10-16T13:53:06.034Z"
   },
   {
    "duration": 3,
    "start_time": "2024-10-16T13:53:06.038Z"
   },
   {
    "duration": 3,
    "start_time": "2024-10-16T13:53:06.042Z"
   },
   {
    "duration": 2,
    "start_time": "2024-10-16T13:53:06.047Z"
   },
   {
    "duration": 2,
    "start_time": "2024-10-16T13:53:06.051Z"
   },
   {
    "duration": 3,
    "start_time": "2024-10-16T13:53:06.055Z"
   },
   {
    "duration": 3,
    "start_time": "2024-10-16T13:53:06.060Z"
   },
   {
    "duration": 48,
    "start_time": "2024-10-16T13:53:06.065Z"
   },
   {
    "duration": 2,
    "start_time": "2024-10-16T13:53:06.116Z"
   },
   {
    "duration": 2,
    "start_time": "2024-10-16T13:53:06.120Z"
   },
   {
    "duration": 3,
    "start_time": "2024-10-16T13:53:06.124Z"
   },
   {
    "duration": 4,
    "start_time": "2024-10-16T13:53:06.128Z"
   },
   {
    "duration": 3,
    "start_time": "2024-10-16T13:53:06.133Z"
   },
   {
    "duration": 8,
    "start_time": "2024-10-16T13:53:06.138Z"
   },
   {
    "duration": 3,
    "start_time": "2024-10-16T13:53:06.150Z"
   },
   {
    "duration": 3,
    "start_time": "2024-10-16T13:53:06.154Z"
   },
   {
    "duration": 2,
    "start_time": "2024-10-16T13:53:06.159Z"
   },
   {
    "duration": 14,
    "start_time": "2024-10-16T13:53:18.516Z"
   },
   {
    "duration": 14,
    "start_time": "2024-10-16T13:53:36.191Z"
   },
   {
    "duration": 10,
    "start_time": "2024-10-16T13:53:58.513Z"
   },
   {
    "duration": 247,
    "start_time": "2024-10-16T13:54:22.520Z"
   },
   {
    "duration": 12,
    "start_time": "2024-10-16T13:54:29.727Z"
   },
   {
    "duration": 13,
    "start_time": "2024-10-16T13:54:44.586Z"
   },
   {
    "duration": 8,
    "start_time": "2024-10-16T14:01:37.683Z"
   },
   {
    "duration": 10,
    "start_time": "2024-10-16T14:02:00.734Z"
   },
   {
    "duration": 5,
    "start_time": "2024-10-16T14:02:45.748Z"
   },
   {
    "duration": 7,
    "start_time": "2024-10-16T14:02:48.806Z"
   },
   {
    "duration": 14,
    "start_time": "2024-10-16T14:03:07.469Z"
   },
   {
    "duration": 30,
    "start_time": "2024-10-16T14:07:12.758Z"
   },
   {
    "duration": 54,
    "start_time": "2024-10-16T14:09:49.760Z"
   },
   {
    "duration": 20,
    "start_time": "2024-10-16T14:11:16.661Z"
   },
   {
    "duration": 18,
    "start_time": "2024-10-16T14:11:31.443Z"
   },
   {
    "duration": 19,
    "start_time": "2024-10-16T14:21:35.854Z"
   },
   {
    "duration": 29,
    "start_time": "2024-10-16T14:21:50.103Z"
   },
   {
    "duration": 20,
    "start_time": "2024-10-16T14:22:23.834Z"
   },
   {
    "duration": 253,
    "start_time": "2024-10-16T14:22:40.744Z"
   },
   {
    "duration": 149,
    "start_time": "2024-10-16T14:46:30.754Z"
   },
   {
    "duration": 6,
    "start_time": "2024-10-16T14:46:47.150Z"
   },
   {
    "duration": 15,
    "start_time": "2024-10-16T14:47:50.548Z"
   },
   {
    "duration": 180,
    "start_time": "2024-10-16T14:49:31.588Z"
   },
   {
    "duration": 14,
    "start_time": "2024-10-16T14:49:34.564Z"
   },
   {
    "duration": 624,
    "start_time": "2024-10-16T15:58:55.140Z"
   },
   {
    "duration": 231,
    "start_time": "2024-10-16T15:58:55.766Z"
   },
   {
    "duration": 3,
    "start_time": "2024-10-16T15:58:56.001Z"
   },
   {
    "duration": 2,
    "start_time": "2024-10-16T15:58:56.006Z"
   },
   {
    "duration": 16,
    "start_time": "2024-10-16T15:58:56.011Z"
   },
   {
    "duration": 3,
    "start_time": "2024-10-16T15:58:56.028Z"
   },
   {
    "duration": 16,
    "start_time": "2024-10-16T15:58:56.033Z"
   },
   {
    "duration": 7,
    "start_time": "2024-10-16T15:58:56.051Z"
   },
   {
    "duration": 5,
    "start_time": "2024-10-16T15:58:56.060Z"
   },
   {
    "duration": 14,
    "start_time": "2024-10-16T15:58:56.066Z"
   },
   {
    "duration": 3,
    "start_time": "2024-10-16T15:58:56.082Z"
   },
   {
    "duration": 98,
    "start_time": "2024-10-16T15:58:56.088Z"
   },
   {
    "duration": 292,
    "start_time": "2024-10-16T15:58:56.189Z"
   },
   {
    "duration": 16,
    "start_time": "2024-10-16T15:58:56.485Z"
   },
   {
    "duration": 44,
    "start_time": "2024-10-16T15:58:56.502Z"
   },
   {
    "duration": 3,
    "start_time": "2024-10-16T15:58:56.547Z"
   },
   {
    "duration": 29,
    "start_time": "2024-10-16T15:58:56.551Z"
   },
   {
    "duration": 17,
    "start_time": "2024-10-16T15:58:56.582Z"
   },
   {
    "duration": 3,
    "start_time": "2024-10-16T15:58:56.601Z"
   },
   {
    "duration": 56,
    "start_time": "2024-10-16T15:58:56.632Z"
   },
   {
    "duration": 721,
    "start_time": "2024-10-16T15:58:56.690Z"
   },
   {
    "duration": 0,
    "start_time": "2024-10-16T15:58:57.413Z"
   },
   {
    "duration": 0,
    "start_time": "2024-10-16T15:58:57.414Z"
   },
   {
    "duration": 0,
    "start_time": "2024-10-16T15:58:57.416Z"
   },
   {
    "duration": 0,
    "start_time": "2024-10-16T15:58:57.417Z"
   },
   {
    "duration": 0,
    "start_time": "2024-10-16T15:58:57.418Z"
   },
   {
    "duration": 0,
    "start_time": "2024-10-16T15:58:57.419Z"
   },
   {
    "duration": 0,
    "start_time": "2024-10-16T15:58:57.420Z"
   },
   {
    "duration": 0,
    "start_time": "2024-10-16T15:58:57.431Z"
   },
   {
    "duration": 0,
    "start_time": "2024-10-16T15:58:57.432Z"
   },
   {
    "duration": 0,
    "start_time": "2024-10-16T15:58:57.434Z"
   },
   {
    "duration": 0,
    "start_time": "2024-10-16T15:58:57.435Z"
   },
   {
    "duration": 0,
    "start_time": "2024-10-16T15:58:57.436Z"
   },
   {
    "duration": 0,
    "start_time": "2024-10-16T15:58:57.438Z"
   },
   {
    "duration": 0,
    "start_time": "2024-10-16T15:58:57.439Z"
   },
   {
    "duration": 0,
    "start_time": "2024-10-16T15:58:57.441Z"
   },
   {
    "duration": 1,
    "start_time": "2024-10-16T15:58:57.442Z"
   },
   {
    "duration": 3,
    "start_time": "2024-10-16T16:01:58.684Z"
   },
   {
    "duration": 464,
    "start_time": "2024-10-16T16:02:32.326Z"
   },
   {
    "duration": 62,
    "start_time": "2024-10-16T16:03:26.758Z"
   },
   {
    "duration": 381,
    "start_time": "2024-10-16T16:04:50.738Z"
   },
   {
    "duration": 218,
    "start_time": "2024-10-16T16:05:09.460Z"
   },
   {
    "duration": 608,
    "start_time": "2024-10-17T16:23:05.050Z"
   },
   {
    "duration": 224,
    "start_time": "2024-10-17T16:23:05.660Z"
   },
   {
    "duration": 3,
    "start_time": "2024-10-17T16:23:05.886Z"
   },
   {
    "duration": 3,
    "start_time": "2024-10-17T16:23:05.892Z"
   },
   {
    "duration": 2,
    "start_time": "2024-10-17T16:23:05.897Z"
   },
   {
    "duration": 16,
    "start_time": "2024-10-17T16:23:05.901Z"
   },
   {
    "duration": 2,
    "start_time": "2024-10-17T16:23:05.919Z"
   },
   {
    "duration": 13,
    "start_time": "2024-10-17T16:23:05.923Z"
   },
   {
    "duration": 7,
    "start_time": "2024-10-17T16:23:05.937Z"
   },
   {
    "duration": 5,
    "start_time": "2024-10-17T16:23:05.945Z"
   },
   {
    "duration": 13,
    "start_time": "2024-10-17T16:23:05.951Z"
   },
   {
    "duration": 2,
    "start_time": "2024-10-17T16:23:05.966Z"
   },
   {
    "duration": 82,
    "start_time": "2024-10-17T16:23:05.972Z"
   },
   {
    "duration": 25,
    "start_time": "2024-10-17T16:23:06.056Z"
   },
   {
    "duration": 219,
    "start_time": "2024-10-17T16:23:06.082Z"
   },
   {
    "duration": 2,
    "start_time": "2024-10-17T16:23:06.304Z"
   },
   {
    "duration": 34,
    "start_time": "2024-10-17T16:23:06.307Z"
   },
   {
    "duration": 17,
    "start_time": "2024-10-17T16:23:06.343Z"
   },
   {
    "duration": 2,
    "start_time": "2024-10-17T16:23:06.362Z"
   },
   {
    "duration": 79,
    "start_time": "2024-10-17T16:23:06.366Z"
   },
   {
    "duration": 153,
    "start_time": "2024-10-17T16:23:06.446Z"
   },
   {
    "duration": 2,
    "start_time": "2024-10-17T16:23:06.601Z"
   },
   {
    "duration": 2,
    "start_time": "2024-10-17T16:23:06.612Z"
   },
   {
    "duration": 2,
    "start_time": "2024-10-17T16:23:06.616Z"
   },
   {
    "duration": 3,
    "start_time": "2024-10-17T16:23:06.622Z"
   },
   {
    "duration": 2,
    "start_time": "2024-10-17T16:23:06.628Z"
   },
   {
    "duration": 3,
    "start_time": "2024-10-17T16:23:06.631Z"
   },
   {
    "duration": 2,
    "start_time": "2024-10-17T16:23:06.636Z"
   },
   {
    "duration": 2,
    "start_time": "2024-10-17T16:23:06.640Z"
   },
   {
    "duration": 3,
    "start_time": "2024-10-17T16:23:06.644Z"
   },
   {
    "duration": 2,
    "start_time": "2024-10-17T16:23:06.648Z"
   },
   {
    "duration": 3,
    "start_time": "2024-10-17T16:23:06.652Z"
   },
   {
    "duration": 3,
    "start_time": "2024-10-17T16:23:06.657Z"
   },
   {
    "duration": 3,
    "start_time": "2024-10-17T16:23:06.661Z"
   },
   {
    "duration": 45,
    "start_time": "2024-10-17T16:23:06.667Z"
   },
   {
    "duration": 2,
    "start_time": "2024-10-17T16:23:06.714Z"
   },
   {
    "duration": 2,
    "start_time": "2024-10-17T16:23:06.718Z"
   },
   {
    "duration": 17,
    "start_time": "2024-10-17T16:23:29.397Z"
   },
   {
    "duration": 8,
    "start_time": "2024-10-17T16:23:48.062Z"
   },
   {
    "duration": 20,
    "start_time": "2024-10-17T16:24:00.896Z"
   },
   {
    "duration": 9,
    "start_time": "2024-10-17T16:24:06.497Z"
   },
   {
    "duration": 8,
    "start_time": "2024-10-17T16:24:22.278Z"
   },
   {
    "duration": 14,
    "start_time": "2024-10-17T16:24:29.447Z"
   },
   {
    "duration": 7,
    "start_time": "2024-10-17T16:29:51.677Z"
   },
   {
    "duration": 605,
    "start_time": "2024-10-17T17:16:39.402Z"
   },
   {
    "duration": 198,
    "start_time": "2024-10-17T17:16:40.009Z"
   },
   {
    "duration": 3,
    "start_time": "2024-10-17T17:16:40.209Z"
   },
   {
    "duration": 2,
    "start_time": "2024-10-17T17:16:40.215Z"
   },
   {
    "duration": 2,
    "start_time": "2024-10-17T17:16:40.221Z"
   },
   {
    "duration": 13,
    "start_time": "2024-10-17T17:16:40.224Z"
   },
   {
    "duration": 2,
    "start_time": "2024-10-17T17:16:40.239Z"
   },
   {
    "duration": 13,
    "start_time": "2024-10-17T17:16:40.243Z"
   },
   {
    "duration": 6,
    "start_time": "2024-10-17T17:16:40.258Z"
   },
   {
    "duration": 38,
    "start_time": "2024-10-17T17:16:40.267Z"
   },
   {
    "duration": 13,
    "start_time": "2024-10-17T17:16:40.307Z"
   },
   {
    "duration": 2,
    "start_time": "2024-10-17T17:16:40.322Z"
   },
   {
    "duration": 50,
    "start_time": "2024-10-17T17:16:40.326Z"
   },
   {
    "duration": 46,
    "start_time": "2024-10-17T17:16:40.378Z"
   },
   {
    "duration": 206,
    "start_time": "2024-10-17T17:16:40.426Z"
   },
   {
    "duration": 2,
    "start_time": "2024-10-17T17:16:40.634Z"
   },
   {
    "duration": 29,
    "start_time": "2024-10-17T17:16:40.638Z"
   },
   {
    "duration": 37,
    "start_time": "2024-10-17T17:16:40.668Z"
   },
   {
    "duration": 2,
    "start_time": "2024-10-17T17:16:40.707Z"
   },
   {
    "duration": 53,
    "start_time": "2024-10-17T17:16:40.711Z"
   },
   {
    "duration": 165,
    "start_time": "2024-10-17T17:16:40.766Z"
   },
   {
    "duration": 16,
    "start_time": "2024-10-17T17:16:40.933Z"
   },
   {
    "duration": 8,
    "start_time": "2024-10-17T17:16:40.951Z"
   },
   {
    "duration": 2,
    "start_time": "2024-10-17T17:16:40.961Z"
   },
   {
    "duration": 4,
    "start_time": "2024-10-17T17:16:40.964Z"
   },
   {
    "duration": 3,
    "start_time": "2024-10-17T17:16:40.970Z"
   },
   {
    "duration": 3,
    "start_time": "2024-10-17T17:16:40.974Z"
   },
   {
    "duration": 2,
    "start_time": "2024-10-17T17:16:41.007Z"
   },
   {
    "duration": 2,
    "start_time": "2024-10-17T17:16:41.011Z"
   },
   {
    "duration": 4,
    "start_time": "2024-10-17T17:16:41.015Z"
   },
   {
    "duration": 2,
    "start_time": "2024-10-17T17:16:41.021Z"
   },
   {
    "duration": 4,
    "start_time": "2024-10-17T17:16:41.024Z"
   },
   {
    "duration": 3,
    "start_time": "2024-10-17T17:16:41.029Z"
   },
   {
    "duration": 3,
    "start_time": "2024-10-17T17:16:41.034Z"
   },
   {
    "duration": 3,
    "start_time": "2024-10-17T17:16:41.038Z"
   },
   {
    "duration": 4,
    "start_time": "2024-10-17T17:16:41.042Z"
   },
   {
    "duration": 3,
    "start_time": "2024-10-17T17:16:41.047Z"
   },
   {
    "duration": 4,
    "start_time": "2024-10-17T17:16:41.051Z"
   },
   {
    "duration": 652,
    "start_time": "2024-10-17T18:04:04.484Z"
   },
   {
    "duration": 217,
    "start_time": "2024-10-17T18:04:05.138Z"
   },
   {
    "duration": 3,
    "start_time": "2024-10-17T18:04:05.357Z"
   },
   {
    "duration": 5,
    "start_time": "2024-10-17T18:04:05.362Z"
   },
   {
    "duration": 2,
    "start_time": "2024-10-17T18:04:05.370Z"
   },
   {
    "duration": 20,
    "start_time": "2024-10-17T18:04:05.374Z"
   },
   {
    "duration": 2,
    "start_time": "2024-10-17T18:04:05.396Z"
   },
   {
    "duration": 13,
    "start_time": "2024-10-17T18:04:05.399Z"
   },
   {
    "duration": 6,
    "start_time": "2024-10-17T18:04:05.414Z"
   },
   {
    "duration": 5,
    "start_time": "2024-10-17T18:04:05.421Z"
   },
   {
    "duration": 14,
    "start_time": "2024-10-17T18:04:05.427Z"
   },
   {
    "duration": 2,
    "start_time": "2024-10-17T18:04:05.442Z"
   },
   {
    "duration": 92,
    "start_time": "2024-10-17T18:04:05.446Z"
   },
   {
    "duration": 27,
    "start_time": "2024-10-17T18:04:05.543Z"
   },
   {
    "duration": 246,
    "start_time": "2024-10-17T18:04:05.572Z"
   },
   {
    "duration": 3,
    "start_time": "2024-10-17T18:04:05.819Z"
   },
   {
    "duration": 30,
    "start_time": "2024-10-17T18:04:05.823Z"
   },
   {
    "duration": 35,
    "start_time": "2024-10-17T18:04:05.855Z"
   },
   {
    "duration": 3,
    "start_time": "2024-10-17T18:04:05.891Z"
   },
   {
    "duration": 53,
    "start_time": "2024-10-17T18:04:05.895Z"
   },
   {
    "duration": 171,
    "start_time": "2024-10-17T18:04:05.950Z"
   },
   {
    "duration": 16,
    "start_time": "2024-10-17T18:04:06.122Z"
   },
   {
    "duration": 7,
    "start_time": "2024-10-17T18:04:06.140Z"
   },
   {
    "duration": 5,
    "start_time": "2024-10-17T18:04:06.149Z"
   },
   {
    "duration": 0,
    "start_time": "2024-10-17T18:04:06.156Z"
   },
   {
    "duration": 0,
    "start_time": "2024-10-17T18:04:06.157Z"
   },
   {
    "duration": 0,
    "start_time": "2024-10-17T18:04:06.158Z"
   },
   {
    "duration": 0,
    "start_time": "2024-10-17T18:04:06.186Z"
   },
   {
    "duration": 0,
    "start_time": "2024-10-17T18:04:06.187Z"
   },
   {
    "duration": 0,
    "start_time": "2024-10-17T18:04:06.188Z"
   },
   {
    "duration": 0,
    "start_time": "2024-10-17T18:04:06.190Z"
   },
   {
    "duration": 0,
    "start_time": "2024-10-17T18:04:06.190Z"
   },
   {
    "duration": 0,
    "start_time": "2024-10-17T18:04:06.192Z"
   },
   {
    "duration": 0,
    "start_time": "2024-10-17T18:04:06.194Z"
   },
   {
    "duration": 0,
    "start_time": "2024-10-17T18:04:06.195Z"
   },
   {
    "duration": 0,
    "start_time": "2024-10-17T18:04:06.196Z"
   },
   {
    "duration": 0,
    "start_time": "2024-10-17T18:04:06.197Z"
   },
   {
    "duration": 0,
    "start_time": "2024-10-17T18:04:06.198Z"
   },
   {
    "duration": 211,
    "start_time": "2024-10-17T18:04:23.445Z"
   },
   {
    "duration": 485,
    "start_time": "2024-10-17T18:04:30.144Z"
   },
   {
    "duration": 76,
    "start_time": "2024-10-17T18:05:14.260Z"
   },
   {
    "duration": 75,
    "start_time": "2024-10-17T18:05:40.915Z"
   },
   {
    "duration": 77,
    "start_time": "2024-10-17T18:06:02.566Z"
   },
   {
    "duration": 76,
    "start_time": "2024-10-17T18:16:10.300Z"
   },
   {
    "duration": 73,
    "start_time": "2024-10-17T18:16:21.118Z"
   },
   {
    "duration": 637,
    "start_time": "2024-10-17T18:31:04.798Z"
   },
   {
    "duration": 168,
    "start_time": "2024-10-17T18:31:05.437Z"
   },
   {
    "duration": 3,
    "start_time": "2024-10-17T18:31:05.607Z"
   },
   {
    "duration": 3,
    "start_time": "2024-10-17T18:31:05.611Z"
   },
   {
    "duration": 2,
    "start_time": "2024-10-17T18:31:05.617Z"
   },
   {
    "duration": 13,
    "start_time": "2024-10-17T18:31:05.621Z"
   },
   {
    "duration": 1,
    "start_time": "2024-10-17T18:31:05.636Z"
   },
   {
    "duration": 12,
    "start_time": "2024-10-17T18:31:05.639Z"
   },
   {
    "duration": 35,
    "start_time": "2024-10-17T18:31:05.652Z"
   },
   {
    "duration": 4,
    "start_time": "2024-10-17T18:31:05.689Z"
   },
   {
    "duration": 12,
    "start_time": "2024-10-17T18:31:05.695Z"
   },
   {
    "duration": 2,
    "start_time": "2024-10-17T18:31:05.709Z"
   },
   {
    "duration": 80,
    "start_time": "2024-10-17T18:31:05.713Z"
   },
   {
    "duration": 26,
    "start_time": "2024-10-17T18:31:05.798Z"
   },
   {
    "duration": 235,
    "start_time": "2024-10-17T18:31:05.827Z"
   },
   {
    "duration": 2,
    "start_time": "2024-10-17T18:31:06.064Z"
   },
   {
    "duration": 39,
    "start_time": "2024-10-17T18:31:06.068Z"
   },
   {
    "duration": 16,
    "start_time": "2024-10-17T18:31:06.109Z"
   },
   {
    "duration": 2,
    "start_time": "2024-10-17T18:31:06.127Z"
   },
   {
    "duration": 71,
    "start_time": "2024-10-17T18:31:06.131Z"
   },
   {
    "duration": 168,
    "start_time": "2024-10-17T18:31:06.204Z"
   },
   {
    "duration": 20,
    "start_time": "2024-10-17T18:31:06.375Z"
   },
   {
    "duration": 7,
    "start_time": "2024-10-17T18:31:06.397Z"
   },
   {
    "duration": 666,
    "start_time": "2024-10-17T18:31:06.405Z"
   },
   {
    "duration": 0,
    "start_time": "2024-10-17T18:31:07.073Z"
   },
   {
    "duration": 0,
    "start_time": "2024-10-17T18:31:07.086Z"
   },
   {
    "duration": 0,
    "start_time": "2024-10-17T18:31:07.087Z"
   },
   {
    "duration": 0,
    "start_time": "2024-10-17T18:31:07.088Z"
   },
   {
    "duration": 0,
    "start_time": "2024-10-17T18:31:07.090Z"
   },
   {
    "duration": 0,
    "start_time": "2024-10-17T18:31:07.091Z"
   },
   {
    "duration": 0,
    "start_time": "2024-10-17T18:31:07.092Z"
   },
   {
    "duration": 0,
    "start_time": "2024-10-17T18:31:07.093Z"
   },
   {
    "duration": 0,
    "start_time": "2024-10-17T18:31:07.095Z"
   },
   {
    "duration": 0,
    "start_time": "2024-10-17T18:31:07.097Z"
   },
   {
    "duration": 0,
    "start_time": "2024-10-17T18:31:07.098Z"
   },
   {
    "duration": 0,
    "start_time": "2024-10-17T18:31:07.100Z"
   },
   {
    "duration": 0,
    "start_time": "2024-10-17T18:31:07.101Z"
   },
   {
    "duration": 0,
    "start_time": "2024-10-17T18:31:07.103Z"
   },
   {
    "duration": 146,
    "start_time": "2024-10-17T18:31:34.252Z"
   },
   {
    "duration": 22,
    "start_time": "2024-10-17T18:36:09.629Z"
   },
   {
    "duration": 14,
    "start_time": "2024-10-17T18:36:37.369Z"
   },
   {
    "duration": 10,
    "start_time": "2024-10-17T18:37:02.639Z"
   },
   {
    "duration": 9,
    "start_time": "2024-10-17T18:37:11.996Z"
   },
   {
    "duration": 32,
    "start_time": "2024-10-17T18:37:26.835Z"
   },
   {
    "duration": 18,
    "start_time": "2024-10-17T18:37:49.139Z"
   },
   {
    "duration": 8,
    "start_time": "2024-10-17T18:38:01.836Z"
   },
   {
    "duration": 17,
    "start_time": "2024-10-17T18:40:18.666Z"
   },
   {
    "duration": 7,
    "start_time": "2024-10-17T18:40:23.609Z"
   },
   {
    "duration": 4,
    "start_time": "2024-10-17T18:41:04.637Z"
   },
   {
    "duration": 7,
    "start_time": "2024-10-17T18:41:11.287Z"
   },
   {
    "duration": 293,
    "start_time": "2024-10-17T18:41:53.483Z"
   },
   {
    "duration": 445,
    "start_time": "2024-10-17T18:43:19.682Z"
   },
   {
    "duration": 571,
    "start_time": "2024-10-17T18:59:00.255Z"
   },
   {
    "duration": 158,
    "start_time": "2024-10-17T18:59:00.828Z"
   },
   {
    "duration": 3,
    "start_time": "2024-10-17T18:59:00.988Z"
   },
   {
    "duration": 2,
    "start_time": "2024-10-17T18:59:00.994Z"
   },
   {
    "duration": 3,
    "start_time": "2024-10-17T18:59:00.997Z"
   },
   {
    "duration": 14,
    "start_time": "2024-10-17T18:59:01.002Z"
   },
   {
    "duration": 2,
    "start_time": "2024-10-17T18:59:01.017Z"
   },
   {
    "duration": 15,
    "start_time": "2024-10-17T18:59:01.021Z"
   },
   {
    "duration": 6,
    "start_time": "2024-10-17T18:59:01.038Z"
   },
   {
    "duration": 5,
    "start_time": "2024-10-17T18:59:01.046Z"
   },
   {
    "duration": 13,
    "start_time": "2024-10-17T18:59:01.087Z"
   },
   {
    "duration": 3,
    "start_time": "2024-10-17T18:59:01.101Z"
   },
   {
    "duration": 52,
    "start_time": "2024-10-17T18:59:01.105Z"
   },
   {
    "duration": 45,
    "start_time": "2024-10-17T18:59:01.159Z"
   },
   {
    "duration": 8,
    "start_time": "2024-10-17T18:59:01.206Z"
   },
   {
    "duration": 222,
    "start_time": "2024-10-17T18:59:01.215Z"
   },
   {
    "duration": 5,
    "start_time": "2024-10-17T18:59:01.439Z"
   },
   {
    "duration": 45,
    "start_time": "2024-10-17T18:59:01.447Z"
   },
   {
    "duration": 20,
    "start_time": "2024-10-17T18:59:01.494Z"
   },
   {
    "duration": 2,
    "start_time": "2024-10-17T18:59:01.516Z"
   },
   {
    "duration": 66,
    "start_time": "2024-10-17T18:59:01.519Z"
   },
   {
    "duration": 151,
    "start_time": "2024-10-17T18:59:01.587Z"
   },
   {
    "duration": 14,
    "start_time": "2024-10-17T18:59:01.740Z"
   },
   {
    "duration": 7,
    "start_time": "2024-10-17T18:59:01.756Z"
   },
   {
    "duration": 483,
    "start_time": "2024-10-17T18:59:01.765Z"
   },
   {
    "duration": 2,
    "start_time": "2024-10-17T18:59:02.251Z"
   },
   {
    "duration": 3,
    "start_time": "2024-10-17T18:59:02.254Z"
   },
   {
    "duration": 2,
    "start_time": "2024-10-17T18:59:02.261Z"
   },
   {
    "duration": 21,
    "start_time": "2024-10-17T18:59:02.265Z"
   },
   {
    "duration": 2,
    "start_time": "2024-10-17T18:59:02.288Z"
   },
   {
    "duration": 3,
    "start_time": "2024-10-17T18:59:02.291Z"
   },
   {
    "duration": 2,
    "start_time": "2024-10-17T18:59:02.296Z"
   },
   {
    "duration": 3,
    "start_time": "2024-10-17T18:59:02.299Z"
   },
   {
    "duration": 3,
    "start_time": "2024-10-17T18:59:02.303Z"
   },
   {
    "duration": 4,
    "start_time": "2024-10-17T18:59:02.307Z"
   },
   {
    "duration": 2,
    "start_time": "2024-10-17T18:59:02.312Z"
   },
   {
    "duration": 2,
    "start_time": "2024-10-17T18:59:02.316Z"
   },
   {
    "duration": 2,
    "start_time": "2024-10-17T18:59:02.320Z"
   },
   {
    "duration": 2,
    "start_time": "2024-10-17T18:59:02.324Z"
   },
   {
    "duration": 434,
    "start_time": "2024-10-17T18:59:20.944Z"
   },
   {
    "duration": 424,
    "start_time": "2024-10-17T19:03:45.016Z"
   },
   {
    "duration": 2,
    "start_time": "2024-10-17T19:03:47.977Z"
   },
   {
    "duration": 8,
    "start_time": "2024-10-17T19:05:53.480Z"
   },
   {
    "duration": 13,
    "start_time": "2024-10-17T19:06:19.262Z"
   },
   {
    "duration": 501,
    "start_time": "2024-10-17T19:06:55.474Z"
   },
   {
    "duration": 45,
    "start_time": "2024-10-17T19:07:15.830Z"
   },
   {
    "duration": 15,
    "start_time": "2024-10-17T19:14:23.211Z"
   },
   {
    "duration": 2,
    "start_time": "2024-10-17T19:14:44.931Z"
   },
   {
    "duration": 2,
    "start_time": "2024-10-17T19:20:51.624Z"
   },
   {
    "duration": 3,
    "start_time": "2024-10-17T19:21:24.993Z"
   },
   {
    "duration": 472,
    "start_time": "2024-10-17T19:21:31.331Z"
   },
   {
    "duration": 596,
    "start_time": "2024-10-17T19:21:49.332Z"
   },
   {
    "duration": 165,
    "start_time": "2024-10-17T19:21:49.930Z"
   },
   {
    "duration": 3,
    "start_time": "2024-10-17T19:21:50.097Z"
   },
   {
    "duration": 3,
    "start_time": "2024-10-17T19:21:50.102Z"
   },
   {
    "duration": 2,
    "start_time": "2024-10-17T19:21:50.108Z"
   },
   {
    "duration": 14,
    "start_time": "2024-10-17T19:21:50.112Z"
   },
   {
    "duration": 2,
    "start_time": "2024-10-17T19:21:50.128Z"
   },
   {
    "duration": 13,
    "start_time": "2024-10-17T19:21:50.132Z"
   },
   {
    "duration": 6,
    "start_time": "2024-10-17T19:21:50.147Z"
   },
   {
    "duration": 36,
    "start_time": "2024-10-17T19:21:50.154Z"
   },
   {
    "duration": 14,
    "start_time": "2024-10-17T19:21:50.191Z"
   },
   {
    "duration": 3,
    "start_time": "2024-10-17T19:21:50.206Z"
   },
   {
    "duration": 81,
    "start_time": "2024-10-17T19:21:50.210Z"
   },
   {
    "duration": 27,
    "start_time": "2024-10-17T19:21:50.294Z"
   },
   {
    "duration": 8,
    "start_time": "2024-10-17T19:21:50.322Z"
   },
   {
    "duration": 137,
    "start_time": "2024-10-17T19:21:50.332Z"
   },
   {
    "duration": 2,
    "start_time": "2024-10-17T19:21:50.471Z"
   },
   {
    "duration": 41,
    "start_time": "2024-10-17T19:21:50.474Z"
   },
   {
    "duration": 17,
    "start_time": "2024-10-17T19:21:50.517Z"
   },
   {
    "duration": 12,
    "start_time": "2024-10-17T19:21:50.536Z"
   },
   {
    "duration": 2,
    "start_time": "2024-10-17T19:21:50.550Z"
   },
   {
    "duration": 81,
    "start_time": "2024-10-17T19:21:50.554Z"
   },
   {
    "duration": 100,
    "start_time": "2024-10-17T19:21:50.637Z"
   },
   {
    "duration": 13,
    "start_time": "2024-10-17T19:21:50.739Z"
   },
   {
    "duration": 9,
    "start_time": "2024-10-17T19:21:50.753Z"
   },
   {
    "duration": 3,
    "start_time": "2024-10-17T19:21:50.763Z"
   },
   {
    "duration": 410,
    "start_time": "2024-10-17T19:21:50.787Z"
   },
   {
    "duration": 2,
    "start_time": "2024-10-17T19:21:51.199Z"
   },
   {
    "duration": 2,
    "start_time": "2024-10-17T19:21:51.203Z"
   },
   {
    "duration": 3,
    "start_time": "2024-10-17T19:21:51.207Z"
   },
   {
    "duration": 3,
    "start_time": "2024-10-17T19:21:51.211Z"
   },
   {
    "duration": 3,
    "start_time": "2024-10-17T19:21:51.216Z"
   },
   {
    "duration": 3,
    "start_time": "2024-10-17T19:21:51.220Z"
   },
   {
    "duration": 3,
    "start_time": "2024-10-17T19:21:51.225Z"
   },
   {
    "duration": 2,
    "start_time": "2024-10-17T19:21:51.229Z"
   },
   {
    "duration": 2,
    "start_time": "2024-10-17T19:21:51.233Z"
   },
   {
    "duration": 2,
    "start_time": "2024-10-17T19:21:51.237Z"
   },
   {
    "duration": 2,
    "start_time": "2024-10-17T19:21:51.287Z"
   },
   {
    "duration": 2,
    "start_time": "2024-10-17T19:21:51.292Z"
   },
   {
    "duration": 3,
    "start_time": "2024-10-17T19:21:51.296Z"
   },
   {
    "duration": 646,
    "start_time": "2024-10-17T19:23:09.780Z"
   },
   {
    "duration": 156,
    "start_time": "2024-10-17T19:23:10.429Z"
   },
   {
    "duration": 4,
    "start_time": "2024-10-17T19:23:10.586Z"
   },
   {
    "duration": 3,
    "start_time": "2024-10-17T19:23:10.592Z"
   },
   {
    "duration": 2,
    "start_time": "2024-10-17T19:23:10.598Z"
   },
   {
    "duration": 15,
    "start_time": "2024-10-17T19:23:10.602Z"
   },
   {
    "duration": 2,
    "start_time": "2024-10-17T19:23:10.619Z"
   },
   {
    "duration": 12,
    "start_time": "2024-10-17T19:23:10.623Z"
   },
   {
    "duration": 6,
    "start_time": "2024-10-17T19:23:10.636Z"
   },
   {
    "duration": 46,
    "start_time": "2024-10-17T19:23:10.644Z"
   },
   {
    "duration": 14,
    "start_time": "2024-10-17T19:23:10.692Z"
   },
   {
    "duration": 2,
    "start_time": "2024-10-17T19:23:10.708Z"
   },
   {
    "duration": 74,
    "start_time": "2024-10-17T19:23:10.712Z"
   },
   {
    "duration": 25,
    "start_time": "2024-10-17T19:23:10.791Z"
   },
   {
    "duration": 8,
    "start_time": "2024-10-17T19:23:10.818Z"
   },
   {
    "duration": 137,
    "start_time": "2024-10-17T19:23:10.827Z"
   },
   {
    "duration": 2,
    "start_time": "2024-10-17T19:23:10.966Z"
   },
   {
    "duration": 44,
    "start_time": "2024-10-17T19:23:10.970Z"
   },
   {
    "duration": 22,
    "start_time": "2024-10-17T19:23:11.016Z"
   },
   {
    "duration": 14,
    "start_time": "2024-10-17T19:23:11.039Z"
   },
   {
    "duration": 4,
    "start_time": "2024-10-17T19:23:11.055Z"
   },
   {
    "duration": 74,
    "start_time": "2024-10-17T19:23:11.061Z"
   },
   {
    "duration": 103,
    "start_time": "2024-10-17T19:23:11.137Z"
   },
   {
    "duration": 12,
    "start_time": "2024-10-17T19:23:11.242Z"
   },
   {
    "duration": 8,
    "start_time": "2024-10-17T19:23:11.255Z"
   },
   {
    "duration": 2,
    "start_time": "2024-10-17T19:23:11.265Z"
   },
   {
    "duration": 61,
    "start_time": "2024-10-17T19:23:11.269Z"
   },
   {
    "duration": 3,
    "start_time": "2024-10-17T19:23:11.332Z"
   },
   {
    "duration": 2,
    "start_time": "2024-10-17T19:23:11.337Z"
   },
   {
    "duration": 2,
    "start_time": "2024-10-17T19:23:11.342Z"
   },
   {
    "duration": 2,
    "start_time": "2024-10-17T19:23:11.346Z"
   },
   {
    "duration": 2,
    "start_time": "2024-10-17T19:23:11.350Z"
   },
   {
    "duration": 2,
    "start_time": "2024-10-17T19:23:11.353Z"
   },
   {
    "duration": 3,
    "start_time": "2024-10-17T19:23:11.387Z"
   },
   {
    "duration": 2,
    "start_time": "2024-10-17T19:23:11.392Z"
   },
   {
    "duration": 2,
    "start_time": "2024-10-17T19:23:11.396Z"
   },
   {
    "duration": 2,
    "start_time": "2024-10-17T19:23:11.400Z"
   },
   {
    "duration": 2,
    "start_time": "2024-10-17T19:23:11.403Z"
   },
   {
    "duration": 3,
    "start_time": "2024-10-17T19:23:11.407Z"
   },
   {
    "duration": 2,
    "start_time": "2024-10-17T19:23:11.412Z"
   },
   {
    "duration": 26,
    "start_time": "2024-10-17T19:39:24.261Z"
   },
   {
    "duration": 32,
    "start_time": "2024-10-17T19:39:39.440Z"
   },
   {
    "duration": 252,
    "start_time": "2024-10-17T19:40:24.450Z"
   },
   {
    "duration": 35,
    "start_time": "2024-10-17T19:40:42.381Z"
   },
   {
    "duration": 31,
    "start_time": "2024-10-17T19:41:03.431Z"
   },
   {
    "duration": 26,
    "start_time": "2024-10-17T19:41:07.463Z"
   },
   {
    "duration": 32,
    "start_time": "2024-10-17T19:41:20.335Z"
   },
   {
    "duration": 638,
    "start_time": "2024-10-17T19:59:43.493Z"
   },
   {
    "duration": 158,
    "start_time": "2024-10-17T19:59:44.134Z"
   },
   {
    "duration": 4,
    "start_time": "2024-10-17T19:59:44.293Z"
   },
   {
    "duration": 3,
    "start_time": "2024-10-17T19:59:44.298Z"
   },
   {
    "duration": 2,
    "start_time": "2024-10-17T19:59:44.305Z"
   },
   {
    "duration": 13,
    "start_time": "2024-10-17T19:59:44.309Z"
   },
   {
    "duration": 2,
    "start_time": "2024-10-17T19:59:44.324Z"
   },
   {
    "duration": 13,
    "start_time": "2024-10-17T19:59:44.327Z"
   },
   {
    "duration": 6,
    "start_time": "2024-10-17T19:59:44.342Z"
   },
   {
    "duration": 39,
    "start_time": "2024-10-17T19:59:44.350Z"
   },
   {
    "duration": 16,
    "start_time": "2024-10-17T19:59:44.390Z"
   },
   {
    "duration": 2,
    "start_time": "2024-10-17T19:59:44.407Z"
   },
   {
    "duration": 90,
    "start_time": "2024-10-17T19:59:44.411Z"
   },
   {
    "duration": 27,
    "start_time": "2024-10-17T19:59:44.506Z"
   },
   {
    "duration": 8,
    "start_time": "2024-10-17T19:59:44.534Z"
   },
   {
    "duration": 134,
    "start_time": "2024-10-17T19:59:44.543Z"
   },
   {
    "duration": 7,
    "start_time": "2024-10-17T19:59:44.679Z"
   },
   {
    "duration": 34,
    "start_time": "2024-10-17T19:59:44.688Z"
   },
   {
    "duration": 18,
    "start_time": "2024-10-17T19:59:44.723Z"
   },
   {
    "duration": 15,
    "start_time": "2024-10-17T19:59:44.743Z"
   },
   {
    "duration": 28,
    "start_time": "2024-10-17T19:59:44.759Z"
   },
   {
    "duration": 52,
    "start_time": "2024-10-17T19:59:44.789Z"
   },
   {
    "duration": 113,
    "start_time": "2024-10-17T19:59:44.843Z"
   },
   {
    "duration": 12,
    "start_time": "2024-10-17T19:59:44.958Z"
   },
   {
    "duration": 15,
    "start_time": "2024-10-17T19:59:44.972Z"
   },
   {
    "duration": 10,
    "start_time": "2024-10-17T19:59:44.988Z"
   },
   {
    "duration": 491,
    "start_time": "2024-10-17T19:59:45.000Z"
   },
   {
    "duration": 0,
    "start_time": "2024-10-17T19:59:45.492Z"
   },
   {
    "duration": 0,
    "start_time": "2024-10-17T19:59:45.493Z"
   },
   {
    "duration": 0,
    "start_time": "2024-10-17T19:59:45.495Z"
   },
   {
    "duration": 0,
    "start_time": "2024-10-17T19:59:45.497Z"
   },
   {
    "duration": 0,
    "start_time": "2024-10-17T19:59:45.498Z"
   },
   {
    "duration": 0,
    "start_time": "2024-10-17T19:59:45.499Z"
   },
   {
    "duration": 0,
    "start_time": "2024-10-17T19:59:45.500Z"
   },
   {
    "duration": 0,
    "start_time": "2024-10-17T19:59:45.502Z"
   },
   {
    "duration": 0,
    "start_time": "2024-10-17T19:59:45.503Z"
   },
   {
    "duration": 0,
    "start_time": "2024-10-17T19:59:45.503Z"
   },
   {
    "duration": 0,
    "start_time": "2024-10-17T19:59:45.504Z"
   },
   {
    "duration": 0,
    "start_time": "2024-10-17T19:59:45.505Z"
   },
   {
    "duration": 0,
    "start_time": "2024-10-17T19:59:45.507Z"
   },
   {
    "duration": 36,
    "start_time": "2024-10-17T20:00:54.233Z"
   },
   {
    "duration": 155,
    "start_time": "2024-10-17T20:01:29.214Z"
   },
   {
    "duration": 188,
    "start_time": "2024-10-17T20:01:42.973Z"
   },
   {
    "duration": 20,
    "start_time": "2024-10-17T20:02:06.259Z"
   },
   {
    "duration": 96,
    "start_time": "2024-10-17T20:03:12.271Z"
   },
   {
    "duration": 182,
    "start_time": "2024-10-17T20:04:33.032Z"
   },
   {
    "duration": 102,
    "start_time": "2024-10-17T20:04:44.942Z"
   },
   {
    "duration": 14,
    "start_time": "2024-10-17T20:05:37.305Z"
   },
   {
    "duration": 29,
    "start_time": "2024-10-17T20:06:12.098Z"
   },
   {
    "duration": 37,
    "start_time": "2024-10-17T20:06:33.965Z"
   },
   {
    "duration": 20,
    "start_time": "2024-10-17T20:06:47.368Z"
   },
   {
    "duration": 23,
    "start_time": "2024-10-17T20:06:58.124Z"
   },
   {
    "duration": 12,
    "start_time": "2024-10-17T20:07:53.933Z"
   },
   {
    "duration": 17,
    "start_time": "2024-10-17T20:08:05.539Z"
   },
   {
    "duration": 23,
    "start_time": "2024-10-17T20:08:13.381Z"
   },
   {
    "duration": 16,
    "start_time": "2024-10-17T20:08:21.405Z"
   },
   {
    "duration": 24,
    "start_time": "2024-10-17T20:08:43.347Z"
   },
   {
    "duration": 621,
    "start_time": "2024-10-17T22:26:25.057Z"
   },
   {
    "duration": 304,
    "start_time": "2024-10-17T22:26:25.684Z"
   },
   {
    "duration": 3,
    "start_time": "2024-10-17T22:26:25.990Z"
   },
   {
    "duration": 3,
    "start_time": "2024-10-17T22:26:25.995Z"
   },
   {
    "duration": 2,
    "start_time": "2024-10-17T22:26:26.001Z"
   },
   {
    "duration": 15,
    "start_time": "2024-10-17T22:26:26.006Z"
   },
   {
    "duration": 2,
    "start_time": "2024-10-17T22:26:26.023Z"
   },
   {
    "duration": 15,
    "start_time": "2024-10-17T22:26:26.028Z"
   },
   {
    "duration": 18,
    "start_time": "2024-10-17T22:26:26.044Z"
   },
   {
    "duration": 7,
    "start_time": "2024-10-17T22:26:26.064Z"
   },
   {
    "duration": 15,
    "start_time": "2024-10-17T22:26:26.072Z"
   },
   {
    "duration": 3,
    "start_time": "2024-10-17T22:26:26.089Z"
   },
   {
    "duration": 95,
    "start_time": "2024-10-17T22:26:26.094Z"
   },
   {
    "duration": 28,
    "start_time": "2024-10-17T22:26:26.194Z"
   },
   {
    "duration": 11,
    "start_time": "2024-10-17T22:26:26.225Z"
   },
   {
    "duration": 154,
    "start_time": "2024-10-17T22:26:26.249Z"
   },
   {
    "duration": 2,
    "start_time": "2024-10-17T22:26:26.405Z"
   },
   {
    "duration": 51,
    "start_time": "2024-10-17T22:26:26.409Z"
   },
   {
    "duration": 18,
    "start_time": "2024-10-17T22:26:26.470Z"
   },
   {
    "duration": 13,
    "start_time": "2024-10-17T22:26:26.490Z"
   },
   {
    "duration": 3,
    "start_time": "2024-10-17T22:26:26.505Z"
   },
   {
    "duration": 92,
    "start_time": "2024-10-17T22:26:26.510Z"
   },
   {
    "duration": 155,
    "start_time": "2024-10-17T22:26:26.604Z"
   },
   {
    "duration": 13,
    "start_time": "2024-10-17T22:26:26.760Z"
   },
   {
    "duration": 7,
    "start_time": "2024-10-17T22:26:26.775Z"
   },
   {
    "duration": 15,
    "start_time": "2024-10-17T22:26:26.784Z"
   },
   {
    "duration": 84,
    "start_time": "2024-10-17T22:26:26.801Z"
   },
   {
    "duration": 14,
    "start_time": "2024-10-17T22:26:26.888Z"
   },
   {
    "duration": 333,
    "start_time": "2024-10-17T22:26:26.905Z"
   },
   {
    "duration": 0,
    "start_time": "2024-10-17T22:26:27.251Z"
   },
   {
    "duration": 0,
    "start_time": "2024-10-17T22:26:27.252Z"
   },
   {
    "duration": 0,
    "start_time": "2024-10-17T22:26:27.254Z"
   },
   {
    "duration": 0,
    "start_time": "2024-10-17T22:26:27.254Z"
   },
   {
    "duration": 0,
    "start_time": "2024-10-17T22:26:27.255Z"
   },
   {
    "duration": 0,
    "start_time": "2024-10-17T22:26:27.256Z"
   },
   {
    "duration": 0,
    "start_time": "2024-10-17T22:26:27.256Z"
   },
   {
    "duration": 0,
    "start_time": "2024-10-17T22:26:27.257Z"
   },
   {
    "duration": 0,
    "start_time": "2024-10-17T22:26:27.258Z"
   },
   {
    "duration": 0,
    "start_time": "2024-10-17T22:26:27.263Z"
   },
   {
    "duration": 0,
    "start_time": "2024-10-17T22:26:27.263Z"
   },
   {
    "duration": 0,
    "start_time": "2024-10-17T22:26:27.264Z"
   },
   {
    "duration": 3,
    "start_time": "2024-10-17T22:29:17.163Z"
   },
   {
    "duration": 48,
    "start_time": "2024-10-17T22:29:58.039Z"
   },
   {
    "duration": 35,
    "start_time": "2024-10-17T22:30:03.367Z"
   },
   {
    "duration": 656,
    "start_time": "2024-10-17T22:30:09.786Z"
   },
   {
    "duration": 283,
    "start_time": "2024-10-17T22:30:10.445Z"
   },
   {
    "duration": 24,
    "start_time": "2024-10-17T22:30:10.736Z"
   },
   {
    "duration": 2,
    "start_time": "2024-10-17T22:30:10.762Z"
   },
   {
    "duration": 12,
    "start_time": "2024-10-17T22:30:10.767Z"
   },
   {
    "duration": 19,
    "start_time": "2024-10-17T22:30:10.781Z"
   },
   {
    "duration": 3,
    "start_time": "2024-10-17T22:30:10.802Z"
   },
   {
    "duration": 15,
    "start_time": "2024-10-17T22:30:10.807Z"
   },
   {
    "duration": 21,
    "start_time": "2024-10-17T22:30:10.825Z"
   },
   {
    "duration": 9,
    "start_time": "2024-10-17T22:30:10.862Z"
   },
   {
    "duration": 17,
    "start_time": "2024-10-17T22:30:10.874Z"
   },
   {
    "duration": 3,
    "start_time": "2024-10-17T22:30:10.893Z"
   },
   {
    "duration": 76,
    "start_time": "2024-10-17T22:30:10.897Z"
   },
   {
    "duration": 31,
    "start_time": "2024-10-17T22:30:10.977Z"
   },
   {
    "duration": 36,
    "start_time": "2024-10-17T22:30:11.010Z"
   },
   {
    "duration": 157,
    "start_time": "2024-10-17T22:30:11.059Z"
   },
   {
    "duration": 3,
    "start_time": "2024-10-17T22:30:11.218Z"
   },
   {
    "duration": 59,
    "start_time": "2024-10-17T22:30:11.223Z"
   },
   {
    "duration": 27,
    "start_time": "2024-10-17T22:30:11.285Z"
   },
   {
    "duration": 20,
    "start_time": "2024-10-17T22:30:11.314Z"
   },
   {
    "duration": 6,
    "start_time": "2024-10-17T22:30:11.336Z"
   },
   {
    "duration": 82,
    "start_time": "2024-10-17T22:30:11.344Z"
   },
   {
    "duration": 146,
    "start_time": "2024-10-17T22:30:11.428Z"
   },
   {
    "duration": 17,
    "start_time": "2024-10-17T22:30:11.576Z"
   },
   {
    "duration": 7,
    "start_time": "2024-10-17T22:30:11.595Z"
   },
   {
    "duration": 2,
    "start_time": "2024-10-17T22:30:11.604Z"
   },
   {
    "duration": 72,
    "start_time": "2024-10-17T22:30:11.608Z"
   },
   {
    "duration": 325,
    "start_time": "2024-10-17T22:30:11.682Z"
   },
   {
    "duration": 0,
    "start_time": "2024-10-17T22:30:12.009Z"
   },
   {
    "duration": 0,
    "start_time": "2024-10-17T22:30:12.010Z"
   },
   {
    "duration": 0,
    "start_time": "2024-10-17T22:30:12.012Z"
   },
   {
    "duration": 0,
    "start_time": "2024-10-17T22:30:12.013Z"
   },
   {
    "duration": 0,
    "start_time": "2024-10-17T22:30:12.014Z"
   },
   {
    "duration": 0,
    "start_time": "2024-10-17T22:30:12.015Z"
   },
   {
    "duration": 0,
    "start_time": "2024-10-17T22:30:12.016Z"
   },
   {
    "duration": 0,
    "start_time": "2024-10-17T22:30:12.017Z"
   },
   {
    "duration": 0,
    "start_time": "2024-10-17T22:30:12.018Z"
   },
   {
    "duration": 0,
    "start_time": "2024-10-17T22:30:12.019Z"
   },
   {
    "duration": 0,
    "start_time": "2024-10-17T22:30:12.021Z"
   },
   {
    "duration": 0,
    "start_time": "2024-10-17T22:30:12.022Z"
   },
   {
    "duration": 49,
    "start_time": "2024-10-17T22:30:34.020Z"
   },
   {
    "duration": 22,
    "start_time": "2024-10-17T22:30:52.753Z"
   },
   {
    "duration": 44,
    "start_time": "2024-10-17T22:31:08.426Z"
   },
   {
    "duration": 41,
    "start_time": "2024-10-17T22:31:15.972Z"
   },
   {
    "duration": 611,
    "start_time": "2024-10-17T22:31:26.763Z"
   },
   {
    "duration": 50,
    "start_time": "2024-10-17T22:31:41.471Z"
   },
   {
    "duration": 54,
    "start_time": "2024-10-17T22:31:46.553Z"
   },
   {
    "duration": 22,
    "start_time": "2024-10-17T22:31:59.577Z"
   },
   {
    "duration": 27,
    "start_time": "2024-10-17T22:32:04.474Z"
   },
   {
    "duration": 19,
    "start_time": "2024-10-17T22:36:28.846Z"
   },
   {
    "duration": 28,
    "start_time": "2024-10-17T22:39:21.493Z"
   },
   {
    "duration": 25,
    "start_time": "2024-10-17T22:40:35.903Z"
   },
   {
    "duration": 15,
    "start_time": "2024-10-17T22:43:22.312Z"
   },
   {
    "duration": 29,
    "start_time": "2024-10-17T22:43:41.844Z"
   },
   {
    "duration": 19,
    "start_time": "2024-10-17T22:43:58.789Z"
   },
   {
    "duration": 18,
    "start_time": "2024-10-17T22:44:19.394Z"
   },
   {
    "duration": 25,
    "start_time": "2024-10-17T22:44:58.516Z"
   },
   {
    "duration": 54,
    "start_time": "2024-10-17T22:45:10.609Z"
   },
   {
    "duration": 37,
    "start_time": "2024-10-17T22:45:34.944Z"
   },
   {
    "duration": 659,
    "start_time": "2024-10-17T23:25:03.465Z"
   },
   {
    "duration": 244,
    "start_time": "2024-10-17T23:25:04.127Z"
   },
   {
    "duration": 4,
    "start_time": "2024-10-17T23:25:04.373Z"
   },
   {
    "duration": 5,
    "start_time": "2024-10-17T23:25:04.380Z"
   },
   {
    "duration": 2,
    "start_time": "2024-10-17T23:25:04.387Z"
   },
   {
    "duration": 18,
    "start_time": "2024-10-17T23:25:04.391Z"
   },
   {
    "duration": 2,
    "start_time": "2024-10-17T23:25:04.411Z"
   },
   {
    "duration": 35,
    "start_time": "2024-10-17T23:25:04.415Z"
   },
   {
    "duration": 16,
    "start_time": "2024-10-17T23:25:04.463Z"
   },
   {
    "duration": 6,
    "start_time": "2024-10-17T23:25:04.484Z"
   },
   {
    "duration": 20,
    "start_time": "2024-10-17T23:25:04.492Z"
   },
   {
    "duration": 3,
    "start_time": "2024-10-17T23:25:04.515Z"
   },
   {
    "duration": 114,
    "start_time": "2024-10-17T23:25:04.520Z"
   },
   {
    "duration": 43,
    "start_time": "2024-10-17T23:25:04.651Z"
   },
   {
    "duration": 9,
    "start_time": "2024-10-17T23:25:04.697Z"
   },
   {
    "duration": 220,
    "start_time": "2024-10-17T23:25:04.709Z"
   },
   {
    "duration": 3,
    "start_time": "2024-10-17T23:25:04.931Z"
   },
   {
    "duration": 48,
    "start_time": "2024-10-17T23:25:04.939Z"
   },
   {
    "duration": 17,
    "start_time": "2024-10-17T23:25:04.989Z"
   },
   {
    "duration": 54,
    "start_time": "2024-10-17T23:25:05.008Z"
   },
   {
    "duration": 3,
    "start_time": "2024-10-17T23:25:05.067Z"
   },
   {
    "duration": 56,
    "start_time": "2024-10-17T23:25:05.072Z"
   },
   {
    "duration": 147,
    "start_time": "2024-10-17T23:25:05.129Z"
   },
   {
    "duration": 12,
    "start_time": "2024-10-17T23:25:05.278Z"
   },
   {
    "duration": 7,
    "start_time": "2024-10-17T23:25:05.292Z"
   },
   {
    "duration": 2,
    "start_time": "2024-10-17T23:25:05.301Z"
   },
   {
    "duration": 69,
    "start_time": "2024-10-17T23:25:05.305Z"
   },
   {
    "duration": 25,
    "start_time": "2024-10-17T23:25:05.379Z"
   },
   {
    "duration": 22,
    "start_time": "2024-10-17T23:25:05.406Z"
   },
   {
    "duration": 2,
    "start_time": "2024-10-17T23:25:05.430Z"
   },
   {
    "duration": 6,
    "start_time": "2024-10-17T23:25:05.444Z"
   },
   {
    "duration": 14,
    "start_time": "2024-10-17T23:25:05.457Z"
   },
   {
    "duration": 2,
    "start_time": "2024-10-17T23:25:05.476Z"
   },
   {
    "duration": 2,
    "start_time": "2024-10-17T23:25:05.480Z"
   },
   {
    "duration": 2,
    "start_time": "2024-10-17T23:25:05.484Z"
   },
   {
    "duration": 2,
    "start_time": "2024-10-17T23:25:05.488Z"
   },
   {
    "duration": 2,
    "start_time": "2024-10-17T23:25:05.492Z"
   },
   {
    "duration": 2,
    "start_time": "2024-10-17T23:25:05.496Z"
   },
   {
    "duration": 2,
    "start_time": "2024-10-17T23:25:05.500Z"
   },
   {
    "duration": 3,
    "start_time": "2024-10-17T23:25:05.504Z"
   },
   {
    "duration": 3,
    "start_time": "2024-10-17T23:32:04.197Z"
   },
   {
    "duration": 2,
    "start_time": "2024-10-17T23:32:28.799Z"
   },
   {
    "duration": 459,
    "start_time": "2024-10-17T23:34:42.780Z"
   },
   {
    "duration": 183,
    "start_time": "2024-10-17T23:34:50.532Z"
   },
   {
    "duration": 290,
    "start_time": "2024-10-17T23:34:58.662Z"
   },
   {
    "duration": 210,
    "start_time": "2024-10-17T23:35:43.261Z"
   },
   {
    "duration": 19,
    "start_time": "2024-10-17T23:36:36.684Z"
   },
   {
    "duration": 120,
    "start_time": "2024-10-17T23:37:19.402Z"
   },
   {
    "duration": 659,
    "start_time": "2024-10-17T23:37:33.600Z"
   },
   {
    "duration": 174,
    "start_time": "2024-10-17T23:37:34.262Z"
   },
   {
    "duration": 5,
    "start_time": "2024-10-17T23:37:34.438Z"
   },
   {
    "duration": 2,
    "start_time": "2024-10-17T23:37:34.446Z"
   },
   {
    "duration": 2,
    "start_time": "2024-10-17T23:37:34.451Z"
   },
   {
    "duration": 3,
    "start_time": "2024-10-17T23:37:34.455Z"
   },
   {
    "duration": 18,
    "start_time": "2024-10-17T23:37:34.460Z"
   },
   {
    "duration": 6,
    "start_time": "2024-10-17T23:37:34.480Z"
   },
   {
    "duration": 43,
    "start_time": "2024-10-17T23:37:34.488Z"
   },
   {
    "duration": 19,
    "start_time": "2024-10-17T23:37:34.536Z"
   },
   {
    "duration": 16,
    "start_time": "2024-10-17T23:37:34.558Z"
   },
   {
    "duration": 18,
    "start_time": "2024-10-17T23:37:34.576Z"
   },
   {
    "duration": 3,
    "start_time": "2024-10-17T23:37:34.596Z"
   },
   {
    "duration": 93,
    "start_time": "2024-10-17T23:37:34.601Z"
   },
   {
    "duration": 35,
    "start_time": "2024-10-17T23:37:34.696Z"
   },
   {
    "duration": 9,
    "start_time": "2024-10-17T23:37:34.733Z"
   },
   {
    "duration": 134,
    "start_time": "2024-10-17T23:37:34.743Z"
   },
   {
    "duration": 3,
    "start_time": "2024-10-17T23:37:34.879Z"
   },
   {
    "duration": 59,
    "start_time": "2024-10-17T23:37:34.884Z"
   },
   {
    "duration": 25,
    "start_time": "2024-10-17T23:37:34.945Z"
   },
   {
    "duration": 16,
    "start_time": "2024-10-17T23:37:34.972Z"
   },
   {
    "duration": 3,
    "start_time": "2024-10-17T23:37:34.990Z"
   },
   {
    "duration": 113,
    "start_time": "2024-10-17T23:37:34.995Z"
   },
   {
    "duration": 157,
    "start_time": "2024-10-17T23:37:35.109Z"
   },
   {
    "duration": 15,
    "start_time": "2024-10-17T23:37:35.268Z"
   },
   {
    "duration": 9,
    "start_time": "2024-10-17T23:37:35.285Z"
   },
   {
    "duration": 3,
    "start_time": "2024-10-17T23:37:35.296Z"
   },
   {
    "duration": 73,
    "start_time": "2024-10-17T23:37:35.305Z"
   },
   {
    "duration": 26,
    "start_time": "2024-10-17T23:37:35.381Z"
   },
   {
    "duration": 37,
    "start_time": "2024-10-17T23:37:35.410Z"
   },
   {
    "duration": 3,
    "start_time": "2024-10-17T23:37:35.448Z"
   },
   {
    "duration": 2,
    "start_time": "2024-10-17T23:37:35.453Z"
   },
   {
    "duration": 3,
    "start_time": "2024-10-17T23:37:35.456Z"
   },
   {
    "duration": 2,
    "start_time": "2024-10-17T23:37:35.461Z"
   },
   {
    "duration": 2,
    "start_time": "2024-10-17T23:37:35.465Z"
   },
   {
    "duration": 3,
    "start_time": "2024-10-17T23:37:35.469Z"
   },
   {
    "duration": 4,
    "start_time": "2024-10-17T23:37:35.473Z"
   },
   {
    "duration": 2,
    "start_time": "2024-10-17T23:37:35.479Z"
   },
   {
    "duration": 46,
    "start_time": "2024-10-17T23:37:35.485Z"
   },
   {
    "duration": 2,
    "start_time": "2024-10-17T23:37:35.533Z"
   },
   {
    "duration": 3,
    "start_time": "2024-10-17T23:37:35.537Z"
   },
   {
    "duration": 520,
    "start_time": "2024-10-17T23:40:59.925Z"
   },
   {
    "duration": 229,
    "start_time": "2024-10-17T23:41:25.959Z"
   },
   {
    "duration": 21,
    "start_time": "2024-10-17T23:41:39.166Z"
   },
   {
    "duration": 46,
    "start_time": "2024-10-17T23:44:16.757Z"
   },
   {
    "duration": 24,
    "start_time": "2024-10-17T23:44:56.404Z"
   },
   {
    "duration": 174,
    "start_time": "2024-10-17T23:45:46.752Z"
   },
   {
    "duration": 281,
    "start_time": "2024-10-17T23:46:18.068Z"
   },
   {
    "duration": 22,
    "start_time": "2024-10-17T23:46:49.124Z"
   },
   {
    "duration": 43,
    "start_time": "2024-10-17T23:46:58.511Z"
   },
   {
    "duration": 5,
    "start_time": "2024-10-17T23:47:25.917Z"
   },
   {
    "duration": 16,
    "start_time": "2024-10-17T23:47:30.917Z"
   },
   {
    "duration": 646,
    "start_time": "2024-10-17T23:47:53.321Z"
   },
   {
    "duration": 173,
    "start_time": "2024-10-17T23:47:53.970Z"
   },
   {
    "duration": 4,
    "start_time": "2024-10-17T23:47:54.146Z"
   },
   {
    "duration": 2,
    "start_time": "2024-10-17T23:47:54.155Z"
   },
   {
    "duration": 3,
    "start_time": "2024-10-17T23:47:54.159Z"
   },
   {
    "duration": 2,
    "start_time": "2024-10-17T23:47:54.164Z"
   },
   {
    "duration": 19,
    "start_time": "2024-10-17T23:47:54.168Z"
   },
   {
    "duration": 3,
    "start_time": "2024-10-17T23:47:54.189Z"
   },
   {
    "duration": 36,
    "start_time": "2024-10-17T23:47:54.195Z"
   },
   {
    "duration": 8,
    "start_time": "2024-10-17T23:47:54.236Z"
   },
   {
    "duration": 10,
    "start_time": "2024-10-17T23:47:54.246Z"
   },
   {
    "duration": 13,
    "start_time": "2024-10-17T23:47:54.258Z"
   },
   {
    "duration": 4,
    "start_time": "2024-10-17T23:47:54.273Z"
   },
   {
    "duration": 99,
    "start_time": "2024-10-17T23:47:54.280Z"
   },
   {
    "duration": 27,
    "start_time": "2024-10-17T23:47:54.382Z"
   },
   {
    "duration": 25,
    "start_time": "2024-10-17T23:47:54.411Z"
   },
   {
    "duration": 129,
    "start_time": "2024-10-17T23:47:54.438Z"
   },
   {
    "duration": 5,
    "start_time": "2024-10-17T23:47:54.568Z"
   },
   {
    "duration": 57,
    "start_time": "2024-10-17T23:47:54.575Z"
   },
   {
    "duration": 25,
    "start_time": "2024-10-17T23:47:54.635Z"
   },
   {
    "duration": 13,
    "start_time": "2024-10-17T23:47:54.662Z"
   },
   {
    "duration": 2,
    "start_time": "2024-10-17T23:47:54.677Z"
   },
   {
    "duration": 96,
    "start_time": "2024-10-17T23:47:54.682Z"
   },
   {
    "duration": 142,
    "start_time": "2024-10-17T23:47:54.780Z"
   },
   {
    "duration": 15,
    "start_time": "2024-10-17T23:47:54.925Z"
   },
   {
    "duration": 6,
    "start_time": "2024-10-17T23:47:54.942Z"
   },
   {
    "duration": 3,
    "start_time": "2024-10-17T23:47:54.950Z"
   },
   {
    "duration": 34,
    "start_time": "2024-10-17T23:47:54.956Z"
   },
   {
    "duration": 45,
    "start_time": "2024-10-17T23:47:54.992Z"
   },
   {
    "duration": 517,
    "start_time": "2024-10-17T23:47:55.039Z"
   },
   {
    "duration": 0,
    "start_time": "2024-10-17T23:47:55.558Z"
   },
   {
    "duration": 0,
    "start_time": "2024-10-17T23:47:55.560Z"
   },
   {
    "duration": 0,
    "start_time": "2024-10-17T23:47:55.561Z"
   },
   {
    "duration": 0,
    "start_time": "2024-10-17T23:47:55.562Z"
   },
   {
    "duration": 0,
    "start_time": "2024-10-17T23:47:55.563Z"
   },
   {
    "duration": 0,
    "start_time": "2024-10-17T23:47:55.565Z"
   },
   {
    "duration": 0,
    "start_time": "2024-10-17T23:47:55.567Z"
   },
   {
    "duration": 0,
    "start_time": "2024-10-17T23:47:55.568Z"
   },
   {
    "duration": 0,
    "start_time": "2024-10-17T23:47:55.569Z"
   },
   {
    "duration": 0,
    "start_time": "2024-10-17T23:47:55.570Z"
   },
   {
    "duration": 0,
    "start_time": "2024-10-17T23:47:55.571Z"
   },
   {
    "duration": 0,
    "start_time": "2024-10-17T23:47:55.572Z"
   },
   {
    "duration": 21,
    "start_time": "2024-10-17T23:48:56.540Z"
   },
   {
    "duration": 15,
    "start_time": "2024-10-17T23:49:02.831Z"
   },
   {
    "duration": 19,
    "start_time": "2024-10-17T23:49:27.684Z"
   },
   {
    "duration": 15,
    "start_time": "2024-10-17T23:49:32.600Z"
   },
   {
    "duration": 669,
    "start_time": "2024-10-18T00:12:01.051Z"
   },
   {
    "duration": 170,
    "start_time": "2024-10-18T00:12:01.722Z"
   },
   {
    "duration": 3,
    "start_time": "2024-10-18T00:12:01.895Z"
   },
   {
    "duration": 3,
    "start_time": "2024-10-18T00:12:01.902Z"
   },
   {
    "duration": 3,
    "start_time": "2024-10-18T00:12:01.907Z"
   },
   {
    "duration": 2,
    "start_time": "2024-10-18T00:12:01.912Z"
   },
   {
    "duration": 27,
    "start_time": "2024-10-18T00:12:01.916Z"
   },
   {
    "duration": 11,
    "start_time": "2024-10-18T00:12:01.948Z"
   },
   {
    "duration": 18,
    "start_time": "2024-10-18T00:12:01.960Z"
   },
   {
    "duration": 9,
    "start_time": "2024-10-18T00:12:01.983Z"
   },
   {
    "duration": 8,
    "start_time": "2024-10-18T00:12:01.993Z"
   },
   {
    "duration": 29,
    "start_time": "2024-10-18T00:12:02.002Z"
   },
   {
    "duration": 2,
    "start_time": "2024-10-18T00:12:02.033Z"
   },
   {
    "duration": 81,
    "start_time": "2024-10-18T00:12:02.037Z"
   },
   {
    "duration": 38,
    "start_time": "2024-10-18T00:12:02.120Z"
   },
   {
    "duration": 9,
    "start_time": "2024-10-18T00:12:02.160Z"
   },
   {
    "duration": 154,
    "start_time": "2024-10-18T00:12:02.170Z"
   },
   {
    "duration": 8,
    "start_time": "2024-10-18T00:12:02.326Z"
   },
   {
    "duration": 39,
    "start_time": "2024-10-18T00:12:02.336Z"
   },
   {
    "duration": 28,
    "start_time": "2024-10-18T00:12:02.379Z"
   },
   {
    "duration": 25,
    "start_time": "2024-10-18T00:12:02.408Z"
   },
   {
    "duration": 2,
    "start_time": "2024-10-18T00:12:02.435Z"
   },
   {
    "duration": 93,
    "start_time": "2024-10-18T00:12:02.439Z"
   },
   {
    "duration": 117,
    "start_time": "2024-10-18T00:12:02.534Z"
   },
   {
    "duration": 14,
    "start_time": "2024-10-18T00:12:02.653Z"
   },
   {
    "duration": 9,
    "start_time": "2024-10-18T00:12:02.669Z"
   },
   {
    "duration": 2,
    "start_time": "2024-10-18T00:12:02.680Z"
   },
   {
    "duration": 67,
    "start_time": "2024-10-18T00:12:02.687Z"
   },
   {
    "duration": 20,
    "start_time": "2024-10-18T00:12:02.756Z"
   },
   {
    "duration": 26,
    "start_time": "2024-10-18T00:12:02.778Z"
   },
   {
    "duration": 34,
    "start_time": "2024-10-18T00:12:02.806Z"
   },
   {
    "duration": 8,
    "start_time": "2024-10-18T00:12:02.842Z"
   },
   {
    "duration": 2,
    "start_time": "2024-10-18T00:12:02.852Z"
   },
   {
    "duration": 7,
    "start_time": "2024-10-18T00:12:02.856Z"
   },
   {
    "duration": 3,
    "start_time": "2024-10-18T00:12:02.865Z"
   },
   {
    "duration": 2,
    "start_time": "2024-10-18T00:12:02.870Z"
   },
   {
    "duration": 3,
    "start_time": "2024-10-18T00:12:02.874Z"
   },
   {
    "duration": 3,
    "start_time": "2024-10-18T00:12:02.879Z"
   },
   {
    "duration": 3,
    "start_time": "2024-10-18T00:12:02.883Z"
   },
   {
    "duration": 44,
    "start_time": "2024-10-18T00:12:02.888Z"
   },
   {
    "duration": 3,
    "start_time": "2024-10-18T00:12:02.934Z"
   },
   {
    "duration": 3,
    "start_time": "2024-10-18T00:12:02.939Z"
   },
   {
    "duration": 9,
    "start_time": "2024-10-18T00:13:12.835Z"
   },
   {
    "duration": 14,
    "start_time": "2024-10-18T00:13:23.533Z"
   },
   {
    "duration": 609,
    "start_time": "2024-10-18T00:23:14.091Z"
   },
   {
    "duration": 169,
    "start_time": "2024-10-18T00:23:14.703Z"
   },
   {
    "duration": 3,
    "start_time": "2024-10-18T00:23:14.874Z"
   },
   {
    "duration": 2,
    "start_time": "2024-10-18T00:23:14.881Z"
   },
   {
    "duration": 3,
    "start_time": "2024-10-18T00:23:14.885Z"
   },
   {
    "duration": 2,
    "start_time": "2024-10-18T00:23:14.889Z"
   },
   {
    "duration": 14,
    "start_time": "2024-10-18T00:23:14.893Z"
   },
   {
    "duration": 23,
    "start_time": "2024-10-18T00:23:14.909Z"
   },
   {
    "duration": 16,
    "start_time": "2024-10-18T00:23:14.934Z"
   },
   {
    "duration": 7,
    "start_time": "2024-10-18T00:23:14.953Z"
   },
   {
    "duration": 7,
    "start_time": "2024-10-18T00:23:14.962Z"
   },
   {
    "duration": 19,
    "start_time": "2024-10-18T00:23:14.971Z"
   },
   {
    "duration": 2,
    "start_time": "2024-10-18T00:23:14.993Z"
   },
   {
    "duration": 89,
    "start_time": "2024-10-18T00:23:14.997Z"
   },
   {
    "duration": 27,
    "start_time": "2024-10-18T00:23:15.088Z"
   },
   {
    "duration": 23,
    "start_time": "2024-10-18T00:23:15.117Z"
   },
   {
    "duration": 144,
    "start_time": "2024-10-18T00:23:15.141Z"
   },
   {
    "duration": 3,
    "start_time": "2024-10-18T00:23:15.287Z"
   },
   {
    "duration": 54,
    "start_time": "2024-10-18T00:23:15.292Z"
   },
   {
    "duration": 24,
    "start_time": "2024-10-18T00:23:15.348Z"
   },
   {
    "duration": 17,
    "start_time": "2024-10-18T00:23:15.375Z"
   },
   {
    "duration": 4,
    "start_time": "2024-10-18T00:23:15.396Z"
   },
   {
    "duration": 92,
    "start_time": "2024-10-18T00:23:15.403Z"
   },
   {
    "duration": 178,
    "start_time": "2024-10-18T00:23:15.499Z"
   },
   {
    "duration": 21,
    "start_time": "2024-10-18T00:23:15.681Z"
   },
   {
    "duration": 10,
    "start_time": "2024-10-18T00:23:15.707Z"
   },
   {
    "duration": 3,
    "start_time": "2024-10-18T00:23:15.723Z"
   },
   {
    "duration": 52,
    "start_time": "2024-10-18T00:23:15.734Z"
   },
   {
    "duration": 25,
    "start_time": "2024-10-18T00:23:15.789Z"
   },
   {
    "duration": 34,
    "start_time": "2024-10-18T00:23:15.816Z"
   },
   {
    "duration": 18,
    "start_time": "2024-10-18T00:23:15.854Z"
   },
   {
    "duration": 19,
    "start_time": "2024-10-18T00:23:15.876Z"
   },
   {
    "duration": 4,
    "start_time": "2024-10-18T00:23:15.898Z"
   },
   {
    "duration": 2,
    "start_time": "2024-10-18T00:23:15.904Z"
   },
   {
    "duration": 2,
    "start_time": "2024-10-18T00:23:15.908Z"
   },
   {
    "duration": 3,
    "start_time": "2024-10-18T00:23:15.912Z"
   },
   {
    "duration": 3,
    "start_time": "2024-10-18T00:23:15.931Z"
   },
   {
    "duration": 3,
    "start_time": "2024-10-18T00:23:15.936Z"
   },
   {
    "duration": 2,
    "start_time": "2024-10-18T00:23:15.941Z"
   },
   {
    "duration": 3,
    "start_time": "2024-10-18T00:23:15.945Z"
   },
   {
    "duration": 2,
    "start_time": "2024-10-18T00:23:15.950Z"
   },
   {
    "duration": 2,
    "start_time": "2024-10-18T00:23:15.954Z"
   },
   {
    "duration": 11,
    "start_time": "2024-10-18T00:25:06.865Z"
   },
   {
    "duration": 19,
    "start_time": "2024-10-18T00:25:10.486Z"
   },
   {
    "duration": 25,
    "start_time": "2024-10-18T00:29:37.469Z"
   },
   {
    "duration": 708,
    "start_time": "2024-10-18T00:36:29.850Z"
   },
   {
    "duration": 633,
    "start_time": "2024-10-18T00:42:13.670Z"
   },
   {
    "duration": 208,
    "start_time": "2024-10-18T00:42:14.308Z"
   },
   {
    "duration": 4,
    "start_time": "2024-10-18T00:42:14.518Z"
   },
   {
    "duration": 3,
    "start_time": "2024-10-18T00:42:14.524Z"
   },
   {
    "duration": 3,
    "start_time": "2024-10-18T00:42:14.531Z"
   },
   {
    "duration": 3,
    "start_time": "2024-10-18T00:42:14.535Z"
   },
   {
    "duration": 24,
    "start_time": "2024-10-18T00:42:14.540Z"
   },
   {
    "duration": 2,
    "start_time": "2024-10-18T00:42:14.568Z"
   },
   {
    "duration": 27,
    "start_time": "2024-10-18T00:42:14.572Z"
   },
   {
    "duration": 7,
    "start_time": "2024-10-18T00:42:14.600Z"
   },
   {
    "duration": 6,
    "start_time": "2024-10-18T00:42:14.609Z"
   },
   {
    "duration": 32,
    "start_time": "2024-10-18T00:42:14.617Z"
   },
   {
    "duration": 3,
    "start_time": "2024-10-18T00:42:14.652Z"
   },
   {
    "duration": 74,
    "start_time": "2024-10-18T00:42:14.660Z"
   },
   {
    "duration": 31,
    "start_time": "2024-10-18T00:42:14.736Z"
   },
   {
    "duration": 9,
    "start_time": "2024-10-18T00:42:14.768Z"
   },
   {
    "duration": 167,
    "start_time": "2024-10-18T00:42:14.779Z"
   },
   {
    "duration": 2,
    "start_time": "2024-10-18T00:42:14.948Z"
   },
   {
    "duration": 35,
    "start_time": "2024-10-18T00:42:14.952Z"
   },
   {
    "duration": 18,
    "start_time": "2024-10-18T00:42:14.989Z"
   },
   {
    "duration": 16,
    "start_time": "2024-10-18T00:42:15.032Z"
   },
   {
    "duration": 2,
    "start_time": "2024-10-18T00:42:15.050Z"
   },
   {
    "duration": 78,
    "start_time": "2024-10-18T00:42:15.055Z"
   },
   {
    "duration": 120,
    "start_time": "2024-10-18T00:42:15.135Z"
   },
   {
    "duration": 13,
    "start_time": "2024-10-18T00:42:15.256Z"
   },
   {
    "duration": 9,
    "start_time": "2024-10-18T00:42:15.271Z"
   },
   {
    "duration": 2,
    "start_time": "2024-10-18T00:42:15.282Z"
   },
   {
    "duration": 61,
    "start_time": "2024-10-18T00:42:15.286Z"
   },
   {
    "duration": 24,
    "start_time": "2024-10-18T00:42:15.349Z"
   },
   {
    "duration": 20,
    "start_time": "2024-10-18T00:42:15.374Z"
   },
   {
    "duration": 37,
    "start_time": "2024-10-18T00:42:15.395Z"
   },
   {
    "duration": 25,
    "start_time": "2024-10-18T00:42:15.434Z"
   },
   {
    "duration": 8,
    "start_time": "2024-10-18T00:42:15.461Z"
   },
   {
    "duration": 17,
    "start_time": "2024-10-18T00:42:15.471Z"
   },
   {
    "duration": 3,
    "start_time": "2024-10-18T00:42:15.490Z"
   },
   {
    "duration": 3,
    "start_time": "2024-10-18T00:42:15.496Z"
   },
   {
    "duration": 31,
    "start_time": "2024-10-18T00:42:15.500Z"
   },
   {
    "duration": 5,
    "start_time": "2024-10-18T00:42:15.534Z"
   },
   {
    "duration": 4,
    "start_time": "2024-10-18T00:42:15.541Z"
   },
   {
    "duration": 2,
    "start_time": "2024-10-18T00:42:15.547Z"
   },
   {
    "duration": 3,
    "start_time": "2024-10-18T00:42:15.554Z"
   },
   {
    "duration": 2,
    "start_time": "2024-10-18T00:42:15.559Z"
   },
   {
    "duration": 3,
    "start_time": "2024-10-18T00:42:15.563Z"
   },
   {
    "duration": 31,
    "start_time": "2024-10-18T00:46:10.540Z"
   },
   {
    "duration": 272,
    "start_time": "2024-10-18T00:57:05.285Z"
   },
   {
    "duration": 8,
    "start_time": "2024-10-18T00:57:34.672Z"
   },
   {
    "duration": 18,
    "start_time": "2024-10-18T00:57:38.864Z"
   },
   {
    "duration": 7,
    "start_time": "2024-10-18T00:58:08.759Z"
   },
   {
    "duration": 16,
    "start_time": "2024-10-18T00:58:11.844Z"
   },
   {
    "duration": 34,
    "start_time": "2024-10-18T00:59:32.682Z"
   },
   {
    "duration": 8,
    "start_time": "2024-10-18T00:59:35.657Z"
   },
   {
    "duration": 22,
    "start_time": "2024-10-18T00:59:37.365Z"
   },
   {
    "duration": 25,
    "start_time": "2024-10-18T01:01:03.465Z"
   },
   {
    "duration": 626,
    "start_time": "2024-10-18T03:57:19.113Z"
   },
   {
    "duration": 212,
    "start_time": "2024-10-18T03:57:19.741Z"
   },
   {
    "duration": 3,
    "start_time": "2024-10-18T03:57:19.955Z"
   },
   {
    "duration": 3,
    "start_time": "2024-10-18T03:57:19.960Z"
   },
   {
    "duration": 2,
    "start_time": "2024-10-18T03:57:19.965Z"
   },
   {
    "duration": 2,
    "start_time": "2024-10-18T03:57:19.969Z"
   },
   {
    "duration": 14,
    "start_time": "2024-10-18T03:57:19.973Z"
   },
   {
    "duration": 2,
    "start_time": "2024-10-18T03:57:19.988Z"
   },
   {
    "duration": 24,
    "start_time": "2024-10-18T03:57:19.992Z"
   },
   {
    "duration": 6,
    "start_time": "2024-10-18T03:57:20.018Z"
   },
   {
    "duration": 6,
    "start_time": "2024-10-18T03:57:20.025Z"
   },
   {
    "duration": 12,
    "start_time": "2024-10-18T03:57:20.033Z"
   },
   {
    "duration": 3,
    "start_time": "2024-10-18T03:57:20.046Z"
   },
   {
    "duration": 79,
    "start_time": "2024-10-18T03:57:20.052Z"
   },
   {
    "duration": 25,
    "start_time": "2024-10-18T03:57:20.133Z"
   },
   {
    "duration": 8,
    "start_time": "2024-10-18T03:57:20.160Z"
   },
   {
    "duration": 138,
    "start_time": "2024-10-18T03:57:20.169Z"
   },
   {
    "duration": 2,
    "start_time": "2024-10-18T03:57:20.309Z"
   },
   {
    "duration": 29,
    "start_time": "2024-10-18T03:57:20.312Z"
   },
   {
    "duration": 15,
    "start_time": "2024-10-18T03:57:20.343Z"
   },
   {
    "duration": 11,
    "start_time": "2024-10-18T03:57:20.360Z"
   },
   {
    "duration": 2,
    "start_time": "2024-10-18T03:57:20.373Z"
   },
   {
    "duration": 52,
    "start_time": "2024-10-18T03:57:20.405Z"
   },
   {
    "duration": 116,
    "start_time": "2024-10-18T03:57:20.458Z"
   },
   {
    "duration": 7,
    "start_time": "2024-10-18T03:57:20.576Z"
   },
   {
    "duration": 2,
    "start_time": "2024-10-18T03:57:20.585Z"
   },
   {
    "duration": 49,
    "start_time": "2024-10-18T03:57:20.588Z"
   },
   {
    "duration": 19,
    "start_time": "2024-10-18T03:57:20.639Z"
   },
   {
    "duration": 17,
    "start_time": "2024-10-18T03:57:20.659Z"
   },
   {
    "duration": 32,
    "start_time": "2024-10-18T03:57:20.678Z"
   },
   {
    "duration": 23,
    "start_time": "2024-10-18T03:57:20.711Z"
   },
   {
    "duration": 5,
    "start_time": "2024-10-18T03:57:20.735Z"
   },
   {
    "duration": 17,
    "start_time": "2024-10-18T03:57:20.742Z"
   },
   {
    "duration": 2,
    "start_time": "2024-10-18T03:57:20.761Z"
   },
   {
    "duration": 3,
    "start_time": "2024-10-18T03:57:20.765Z"
   },
   {
    "duration": 3,
    "start_time": "2024-10-18T03:57:20.769Z"
   },
   {
    "duration": 2,
    "start_time": "2024-10-18T03:57:20.806Z"
   },
   {
    "duration": 3,
    "start_time": "2024-10-18T03:57:20.810Z"
   },
   {
    "duration": 3,
    "start_time": "2024-10-18T03:57:20.814Z"
   },
   {
    "duration": 4,
    "start_time": "2024-10-18T03:57:20.818Z"
   },
   {
    "duration": 2,
    "start_time": "2024-10-18T03:57:20.825Z"
   },
   {
    "duration": 3,
    "start_time": "2024-10-18T03:57:20.829Z"
   },
   {
    "duration": 15,
    "start_time": "2024-10-18T04:10:25.291Z"
   },
   {
    "duration": 9,
    "start_time": "2024-10-18T04:10:33.631Z"
   },
   {
    "duration": 20,
    "start_time": "2024-10-18T04:11:03.749Z"
   },
   {
    "duration": 4,
    "start_time": "2024-10-18T04:14:03.826Z"
   },
   {
    "duration": 19,
    "start_time": "2024-10-18T04:14:18.580Z"
   },
   {
    "duration": 7,
    "start_time": "2024-10-18T04:14:36.274Z"
   },
   {
    "duration": 229,
    "start_time": "2024-10-18T04:27:07.044Z"
   },
   {
    "duration": 7,
    "start_time": "2024-10-18T04:27:24.392Z"
   },
   {
    "duration": 3,
    "start_time": "2024-10-18T04:30:17.574Z"
   },
   {
    "duration": 5,
    "start_time": "2024-10-18T04:32:02.647Z"
   },
   {
    "duration": 229,
    "start_time": "2024-10-18T04:32:21.619Z"
   },
   {
    "duration": 3,
    "start_time": "2024-10-18T04:33:40.642Z"
   },
   {
    "duration": 40,
    "start_time": "2024-10-18T04:33:46.586Z"
   },
   {
    "duration": 3,
    "start_time": "2024-10-18T04:33:50.081Z"
   },
   {
    "duration": 38,
    "start_time": "2024-10-18T04:33:51.552Z"
   },
   {
    "duration": 551,
    "start_time": "2024-10-18T04:37:05.887Z"
   },
   {
    "duration": 162,
    "start_time": "2024-10-18T04:37:06.440Z"
   },
   {
    "duration": 3,
    "start_time": "2024-10-18T04:37:06.604Z"
   },
   {
    "duration": 2,
    "start_time": "2024-10-18T04:37:06.609Z"
   },
   {
    "duration": 3,
    "start_time": "2024-10-18T04:37:06.614Z"
   },
   {
    "duration": 2,
    "start_time": "2024-10-18T04:37:06.620Z"
   },
   {
    "duration": 14,
    "start_time": "2024-10-18T04:37:06.624Z"
   },
   {
    "duration": 2,
    "start_time": "2024-10-18T04:37:06.639Z"
   },
   {
    "duration": 11,
    "start_time": "2024-10-18T04:37:06.643Z"
   },
   {
    "duration": 7,
    "start_time": "2024-10-18T04:37:06.655Z"
   },
   {
    "duration": 43,
    "start_time": "2024-10-18T04:37:06.664Z"
   },
   {
    "duration": 15,
    "start_time": "2024-10-18T04:37:06.708Z"
   },
   {
    "duration": 2,
    "start_time": "2024-10-18T04:37:06.724Z"
   },
   {
    "duration": 50,
    "start_time": "2024-10-18T04:37:06.730Z"
   },
   {
    "duration": 27,
    "start_time": "2024-10-18T04:37:06.806Z"
   },
   {
    "duration": 8,
    "start_time": "2024-10-18T04:37:06.835Z"
   },
   {
    "duration": 140,
    "start_time": "2024-10-18T04:37:06.845Z"
   },
   {
    "duration": 2,
    "start_time": "2024-10-18T04:37:06.987Z"
   },
   {
    "duration": 37,
    "start_time": "2024-10-18T04:37:06.991Z"
   },
   {
    "duration": 16,
    "start_time": "2024-10-18T04:37:07.030Z"
   },
   {
    "duration": 12,
    "start_time": "2024-10-18T04:37:07.048Z"
   },
   {
    "duration": 3,
    "start_time": "2024-10-18T04:37:07.061Z"
   },
   {
    "duration": 83,
    "start_time": "2024-10-18T04:37:07.065Z"
   },
   {
    "duration": 109,
    "start_time": "2024-10-18T04:37:07.150Z"
   },
   {
    "duration": 6,
    "start_time": "2024-10-18T04:37:07.261Z"
   },
   {
    "duration": 2,
    "start_time": "2024-10-18T04:37:07.269Z"
   },
   {
    "duration": 50,
    "start_time": "2024-10-18T04:37:07.273Z"
   },
   {
    "duration": 17,
    "start_time": "2024-10-18T04:37:07.325Z"
   },
   {
    "duration": 18,
    "start_time": "2024-10-18T04:37:07.344Z"
   },
   {
    "duration": 12,
    "start_time": "2024-10-18T04:37:07.364Z"
   },
   {
    "duration": 48,
    "start_time": "2024-10-18T04:37:07.377Z"
   },
   {
    "duration": 5,
    "start_time": "2024-10-18T04:37:07.426Z"
   },
   {
    "duration": 17,
    "start_time": "2024-10-18T04:37:07.433Z"
   },
   {
    "duration": 6,
    "start_time": "2024-10-18T04:37:07.452Z"
   },
   {
    "duration": 6,
    "start_time": "2024-10-18T04:37:07.459Z"
   },
   {
    "duration": 2,
    "start_time": "2024-10-18T04:37:07.467Z"
   },
   {
    "duration": 468,
    "start_time": "2024-10-18T04:37:07.471Z"
   },
   {
    "duration": 0,
    "start_time": "2024-10-18T04:37:07.941Z"
   },
   {
    "duration": 0,
    "start_time": "2024-10-18T04:37:07.944Z"
   },
   {
    "duration": 0,
    "start_time": "2024-10-18T04:37:07.945Z"
   },
   {
    "duration": 0,
    "start_time": "2024-10-18T04:37:07.946Z"
   },
   {
    "duration": 0,
    "start_time": "2024-10-18T04:37:07.947Z"
   },
   {
    "duration": 0,
    "start_time": "2024-10-18T04:37:07.948Z"
   },
   {
    "duration": 0,
    "start_time": "2024-10-18T04:37:07.950Z"
   },
   {
    "duration": 0,
    "start_time": "2024-10-18T04:37:07.951Z"
   },
   {
    "duration": 36,
    "start_time": "2024-10-18T04:38:30.981Z"
   },
   {
    "duration": 778,
    "start_time": "2024-10-18T04:38:51.941Z"
   },
   {
    "duration": 3,
    "start_time": "2024-10-18T04:39:30.782Z"
   },
   {
    "duration": 37,
    "start_time": "2024-10-18T04:39:39.285Z"
   },
   {
    "duration": 37,
    "start_time": "2024-10-18T04:40:14.202Z"
   },
   {
    "duration": 3,
    "start_time": "2024-10-18T04:53:04.261Z"
   },
   {
    "duration": 568,
    "start_time": "2024-10-18T15:03:40.103Z"
   },
   {
    "duration": 212,
    "start_time": "2024-10-18T15:03:40.674Z"
   },
   {
    "duration": 4,
    "start_time": "2024-10-18T15:03:40.888Z"
   },
   {
    "duration": 2,
    "start_time": "2024-10-18T15:03:40.895Z"
   },
   {
    "duration": 2,
    "start_time": "2024-10-18T15:03:40.899Z"
   },
   {
    "duration": 2,
    "start_time": "2024-10-18T15:03:40.903Z"
   },
   {
    "duration": 22,
    "start_time": "2024-10-18T15:03:40.907Z"
   },
   {
    "duration": 3,
    "start_time": "2024-10-18T15:03:40.930Z"
   },
   {
    "duration": 13,
    "start_time": "2024-10-18T15:03:40.934Z"
   },
   {
    "duration": 6,
    "start_time": "2024-10-18T15:03:40.950Z"
   },
   {
    "duration": 6,
    "start_time": "2024-10-18T15:03:40.957Z"
   },
   {
    "duration": 14,
    "start_time": "2024-10-18T15:03:40.964Z"
   },
   {
    "duration": 2,
    "start_time": "2024-10-18T15:03:40.980Z"
   },
   {
    "duration": 89,
    "start_time": "2024-10-18T15:03:40.984Z"
   },
   {
    "duration": 26,
    "start_time": "2024-10-18T15:03:41.075Z"
   },
   {
    "duration": 21,
    "start_time": "2024-10-18T15:03:41.103Z"
   },
   {
    "duration": 132,
    "start_time": "2024-10-18T15:03:41.125Z"
   },
   {
    "duration": 3,
    "start_time": "2024-10-18T15:03:41.258Z"
   },
   {
    "duration": 33,
    "start_time": "2024-10-18T15:03:41.262Z"
   },
   {
    "duration": 29,
    "start_time": "2024-10-18T15:03:41.298Z"
   },
   {
    "duration": 13,
    "start_time": "2024-10-18T15:03:41.329Z"
   },
   {
    "duration": 2,
    "start_time": "2024-10-18T15:03:41.344Z"
   },
   {
    "duration": 52,
    "start_time": "2024-10-18T15:03:41.348Z"
   },
   {
    "duration": 110,
    "start_time": "2024-10-18T15:03:41.424Z"
   },
   {
    "duration": 9,
    "start_time": "2024-10-18T15:03:41.535Z"
   },
   {
    "duration": 2,
    "start_time": "2024-10-18T15:03:41.546Z"
   },
   {
    "duration": 34,
    "start_time": "2024-10-18T15:03:41.550Z"
   },
   {
    "duration": 42,
    "start_time": "2024-10-18T15:03:41.588Z"
   },
   {
    "duration": 19,
    "start_time": "2024-10-18T15:03:41.633Z"
   },
   {
    "duration": 12,
    "start_time": "2024-10-18T15:03:41.653Z"
   },
   {
    "duration": 23,
    "start_time": "2024-10-18T15:03:41.667Z"
   },
   {
    "duration": 33,
    "start_time": "2024-10-18T15:03:41.692Z"
   },
   {
    "duration": 20,
    "start_time": "2024-10-18T15:03:41.727Z"
   },
   {
    "duration": 7,
    "start_time": "2024-10-18T15:03:41.748Z"
   },
   {
    "duration": 7,
    "start_time": "2024-10-18T15:03:41.757Z"
   },
   {
    "duration": 3,
    "start_time": "2024-10-18T15:03:41.766Z"
   },
   {
    "duration": 500,
    "start_time": "2024-10-18T15:03:41.770Z"
   },
   {
    "duration": 0,
    "start_time": "2024-10-18T15:03:42.271Z"
   },
   {
    "duration": 0,
    "start_time": "2024-10-18T15:03:42.273Z"
   },
   {
    "duration": 0,
    "start_time": "2024-10-18T15:03:42.274Z"
   },
   {
    "duration": 0,
    "start_time": "2024-10-18T15:03:42.275Z"
   },
   {
    "duration": 0,
    "start_time": "2024-10-18T15:03:42.277Z"
   },
   {
    "duration": 0,
    "start_time": "2024-10-18T15:03:42.278Z"
   },
   {
    "duration": 0,
    "start_time": "2024-10-18T15:03:42.279Z"
   },
   {
    "duration": 0,
    "start_time": "2024-10-18T15:03:42.281Z"
   },
   {
    "duration": 16,
    "start_time": "2024-10-18T15:23:16.095Z"
   },
   {
    "duration": 37,
    "start_time": "2024-10-18T15:23:42.970Z"
   },
   {
    "duration": 3,
    "start_time": "2024-10-18T15:24:38.781Z"
   },
   {
    "duration": 39,
    "start_time": "2024-10-18T15:24:41.615Z"
   },
   {
    "duration": 158,
    "start_time": "2024-10-18T15:59:40.216Z"
   },
   {
    "duration": 698,
    "start_time": "2024-10-18T15:59:58.315Z"
   },
   {
    "duration": 60,
    "start_time": "2024-10-18T16:00:08.207Z"
   },
   {
    "duration": 35,
    "start_time": "2024-10-18T16:00:30.497Z"
   },
   {
    "duration": 36,
    "start_time": "2024-10-18T16:00:40.923Z"
   },
   {
    "duration": 37,
    "start_time": "2024-10-18T16:29:43.508Z"
   },
   {
    "duration": 37,
    "start_time": "2024-10-18T16:29:53.333Z"
   },
   {
    "duration": 38,
    "start_time": "2024-10-18T16:30:10.421Z"
   },
   {
    "duration": 3,
    "start_time": "2024-10-18T16:33:22.408Z"
   },
   {
    "duration": 41,
    "start_time": "2024-10-18T16:33:26.978Z"
   },
   {
    "duration": 3,
    "start_time": "2024-10-18T16:34:09.583Z"
   },
   {
    "duration": 38,
    "start_time": "2024-10-18T16:34:14.108Z"
   },
   {
    "duration": 2,
    "start_time": "2024-10-18T16:34:37.483Z"
   },
   {
    "duration": 1082,
    "start_time": "2024-10-18T16:34:40.204Z"
   },
   {
    "duration": 116,
    "start_time": "2024-10-18T16:34:52.849Z"
   },
   {
    "duration": 4,
    "start_time": "2024-10-18T16:39:29.959Z"
   },
   {
    "duration": 97,
    "start_time": "2024-10-18T16:39:32.635Z"
   },
   {
    "duration": 3,
    "start_time": "2024-10-18T16:45:53.768Z"
   },
   {
    "duration": 145,
    "start_time": "2024-10-18T16:46:24.898Z"
   },
   {
    "duration": 3,
    "start_time": "2024-10-18T16:46:55.069Z"
   },
   {
    "duration": 362,
    "start_time": "2024-10-18T16:46:56.706Z"
   },
   {
    "duration": 4,
    "start_time": "2024-10-18T16:47:47.145Z"
   },
   {
    "duration": 266,
    "start_time": "2024-10-18T16:47:49.567Z"
   },
   {
    "duration": 6,
    "start_time": "2024-10-18T16:48:13.321Z"
   },
   {
    "duration": 325,
    "start_time": "2024-10-18T16:48:16.039Z"
   },
   {
    "duration": 105,
    "start_time": "2024-10-18T16:48:51.705Z"
   },
   {
    "duration": 10,
    "start_time": "2024-10-18T16:49:26.643Z"
   },
   {
    "duration": 4,
    "start_time": "2024-10-18T16:49:45.627Z"
   },
   {
    "duration": 112,
    "start_time": "2024-10-18T16:49:48.403Z"
   },
   {
    "duration": 334,
    "start_time": "2024-10-18T16:50:13.048Z"
   },
   {
    "duration": 124,
    "start_time": "2024-10-18T16:53:07.736Z"
   },
   {
    "duration": 4,
    "start_time": "2024-10-18T16:53:51.522Z"
   },
   {
    "duration": 402,
    "start_time": "2024-10-18T16:53:58.111Z"
   },
   {
    "duration": 3,
    "start_time": "2024-10-18T16:54:23.151Z"
   },
   {
    "duration": 110,
    "start_time": "2024-10-18T16:54:28.926Z"
   },
   {
    "duration": 124,
    "start_time": "2024-10-18T16:54:31.794Z"
   },
   {
    "duration": 21,
    "start_time": "2024-10-18T17:05:14.011Z"
   },
   {
    "duration": 583,
    "start_time": "2024-10-18T17:05:26.568Z"
   },
   {
    "duration": 151,
    "start_time": "2024-10-18T17:05:27.153Z"
   },
   {
    "duration": 3,
    "start_time": "2024-10-18T17:05:27.306Z"
   },
   {
    "duration": 3,
    "start_time": "2024-10-18T17:05:27.311Z"
   },
   {
    "duration": 9,
    "start_time": "2024-10-18T17:05:27.315Z"
   },
   {
    "duration": 2,
    "start_time": "2024-10-18T17:05:27.326Z"
   },
   {
    "duration": 14,
    "start_time": "2024-10-18T17:05:27.329Z"
   },
   {
    "duration": 2,
    "start_time": "2024-10-18T17:05:27.344Z"
   },
   {
    "duration": 12,
    "start_time": "2024-10-18T17:05:27.348Z"
   },
   {
    "duration": 5,
    "start_time": "2024-10-18T17:05:27.364Z"
   },
   {
    "duration": 6,
    "start_time": "2024-10-18T17:05:27.370Z"
   },
   {
    "duration": 48,
    "start_time": "2024-10-18T17:05:27.377Z"
   },
   {
    "duration": 2,
    "start_time": "2024-10-18T17:05:27.427Z"
   },
   {
    "duration": 52,
    "start_time": "2024-10-18T17:05:27.431Z"
   },
   {
    "duration": 44,
    "start_time": "2024-10-18T17:05:27.485Z"
   },
   {
    "duration": 8,
    "start_time": "2024-10-18T17:05:27.532Z"
   },
   {
    "duration": 127,
    "start_time": "2024-10-18T17:05:27.541Z"
   },
   {
    "duration": 2,
    "start_time": "2024-10-18T17:05:27.670Z"
   },
   {
    "duration": 32,
    "start_time": "2024-10-18T17:05:27.674Z"
   },
   {
    "duration": 36,
    "start_time": "2024-10-18T17:05:27.709Z"
   },
   {
    "duration": 12,
    "start_time": "2024-10-18T17:05:27.747Z"
   },
   {
    "duration": 2,
    "start_time": "2024-10-18T17:05:27.760Z"
   },
   {
    "duration": 68,
    "start_time": "2024-10-18T17:05:27.764Z"
   },
   {
    "duration": 107,
    "start_time": "2024-10-18T17:05:27.835Z"
   },
   {
    "duration": 7,
    "start_time": "2024-10-18T17:05:27.945Z"
   },
   {
    "duration": 2,
    "start_time": "2024-10-18T17:05:27.954Z"
   },
   {
    "duration": 33,
    "start_time": "2024-10-18T17:05:27.957Z"
   },
   {
    "duration": 43,
    "start_time": "2024-10-18T17:05:27.993Z"
   },
   {
    "duration": 17,
    "start_time": "2024-10-18T17:05:28.037Z"
   },
   {
    "duration": 11,
    "start_time": "2024-10-18T17:05:28.056Z"
   },
   {
    "duration": 22,
    "start_time": "2024-10-18T17:05:28.069Z"
   },
   {
    "duration": 5,
    "start_time": "2024-10-18T17:05:28.093Z"
   },
   {
    "duration": 45,
    "start_time": "2024-10-18T17:05:28.099Z"
   },
   {
    "duration": 6,
    "start_time": "2024-10-18T17:05:28.146Z"
   },
   {
    "duration": 7,
    "start_time": "2024-10-18T17:05:28.153Z"
   },
   {
    "duration": 3,
    "start_time": "2024-10-18T17:05:28.161Z"
   },
   {
    "duration": 3,
    "start_time": "2024-10-18T17:05:28.166Z"
   },
   {
    "duration": 4,
    "start_time": "2024-10-18T17:05:28.170Z"
   },
   {
    "duration": 1265,
    "start_time": "2024-10-18T17:05:28.175Z"
   },
   {
    "duration": 0,
    "start_time": "2024-10-18T17:05:29.442Z"
   },
   {
    "duration": 0,
    "start_time": "2024-10-18T17:05:29.442Z"
   },
   {
    "duration": 0,
    "start_time": "2024-10-18T17:05:29.443Z"
   },
   {
    "duration": 0,
    "start_time": "2024-10-18T17:05:29.444Z"
   },
   {
    "duration": 0,
    "start_time": "2024-10-18T17:05:29.446Z"
   },
   {
    "duration": 1,
    "start_time": "2024-10-18T17:05:29.447Z"
   },
   {
    "duration": 0,
    "start_time": "2024-10-18T17:05:29.449Z"
   },
   {
    "duration": 0,
    "start_time": "2024-10-18T17:05:29.450Z"
   },
   {
    "duration": 150,
    "start_time": "2024-10-18T17:06:04.109Z"
   },
   {
    "duration": 230,
    "start_time": "2024-10-18T17:06:34.785Z"
   },
   {
    "duration": 3,
    "start_time": "2024-10-18T17:06:43.351Z"
   },
   {
    "duration": 149,
    "start_time": "2024-10-18T17:06:45.984Z"
   },
   {
    "duration": 3,
    "start_time": "2024-10-18T17:07:08.629Z"
   },
   {
    "duration": 147,
    "start_time": "2024-10-18T17:07:10.755Z"
   },
   {
    "duration": 6,
    "start_time": "2024-10-18T17:07:22.273Z"
   },
   {
    "duration": 3,
    "start_time": "2024-10-18T17:07:34.201Z"
   },
   {
    "duration": 1166,
    "start_time": "2024-10-18T17:07:36.358Z"
   },
   {
    "duration": 3,
    "start_time": "2024-10-18T17:07:45.842Z"
   },
   {
    "duration": 1024,
    "start_time": "2024-10-18T17:10:38.148Z"
   },
   {
    "duration": 4,
    "start_time": "2024-10-18T17:11:00.913Z"
   },
   {
    "duration": 95,
    "start_time": "2024-10-18T17:11:03.071Z"
   },
   {
    "duration": 3,
    "start_time": "2024-10-18T17:17:47.415Z"
   },
   {
    "duration": 169,
    "start_time": "2024-10-18T17:18:04.449Z"
   },
   {
    "duration": 245,
    "start_time": "2024-10-18T17:18:21.818Z"
   },
   {
    "duration": 97,
    "start_time": "2024-10-18T17:18:33.910Z"
   },
   {
    "duration": 3,
    "start_time": "2024-10-18T17:20:19.969Z"
   },
   {
    "duration": 30,
    "start_time": "2024-10-18T17:20:23.350Z"
   },
   {
    "duration": 12,
    "start_time": "2024-10-18T17:21:43.650Z"
   },
   {
    "duration": 18,
    "start_time": "2024-10-18T17:21:54.142Z"
   },
   {
    "duration": 12,
    "start_time": "2024-10-18T17:22:10.526Z"
   },
   {
    "duration": 20,
    "start_time": "2024-10-18T17:22:20.132Z"
   },
   {
    "duration": 18,
    "start_time": "2024-10-18T17:22:31.902Z"
   },
   {
    "duration": 12,
    "start_time": "2024-10-18T17:22:56.960Z"
   },
   {
    "duration": 5,
    "start_time": "2024-10-18T17:23:01.376Z"
   },
   {
    "duration": 5,
    "start_time": "2024-10-18T17:23:19.315Z"
   },
   {
    "duration": 5,
    "start_time": "2024-10-18T17:23:33.622Z"
   },
   {
    "duration": 5,
    "start_time": "2024-10-18T17:23:36.918Z"
   },
   {
    "duration": 3,
    "start_time": "2024-10-18T17:26:09.476Z"
   },
   {
    "duration": 13,
    "start_time": "2024-10-18T17:26:15.211Z"
   },
   {
    "duration": 9,
    "start_time": "2024-10-18T17:26:30.027Z"
   },
   {
    "duration": 9,
    "start_time": "2024-10-18T17:26:37.323Z"
   },
   {
    "duration": 8,
    "start_time": "2024-10-18T17:27:39.170Z"
   },
   {
    "duration": 2,
    "start_time": "2024-10-18T17:29:48.626Z"
   },
   {
    "duration": 9,
    "start_time": "2024-10-18T17:29:50.224Z"
   },
   {
    "duration": 18,
    "start_time": "2024-10-18T17:30:02.081Z"
   },
   {
    "duration": 12,
    "start_time": "2024-10-18T17:30:25.669Z"
   },
   {
    "duration": 8,
    "start_time": "2024-10-18T17:30:33.436Z"
   },
   {
    "duration": 154,
    "start_time": "2024-10-18T17:30:40.664Z"
   },
   {
    "duration": 19,
    "start_time": "2024-10-18T17:31:01.997Z"
   },
   {
    "duration": 8,
    "start_time": "2024-10-18T17:38:22.795Z"
   },
   {
    "duration": 18,
    "start_time": "2024-10-18T17:38:43.580Z"
   },
   {
    "duration": 5,
    "start_time": "2024-10-18T17:42:30.792Z"
   },
   {
    "duration": 20,
    "start_time": "2024-10-18T17:42:39.215Z"
   },
   {
    "duration": 3,
    "start_time": "2024-10-18T17:42:42.555Z"
   },
   {
    "duration": 21,
    "start_time": "2024-10-18T17:42:44.407Z"
   },
   {
    "duration": 3,
    "start_time": "2024-10-18T17:42:51.174Z"
   },
   {
    "duration": 20,
    "start_time": "2024-10-18T17:42:53.601Z"
   },
   {
    "duration": 35,
    "start_time": "2024-10-18T17:43:00.039Z"
   },
   {
    "duration": 3,
    "start_time": "2024-10-18T17:47:12.086Z"
   },
   {
    "duration": 34,
    "start_time": "2024-10-18T17:47:16.499Z"
   },
   {
    "duration": 53,
    "start_time": "2024-10-18T17:47:33.389Z"
   },
   {
    "duration": 75,
    "start_time": "2024-10-18T17:48:08.152Z"
   },
   {
    "duration": 588,
    "start_time": "2024-10-18T18:24:14.963Z"
   },
   {
    "duration": 162,
    "start_time": "2024-10-18T18:24:15.553Z"
   },
   {
    "duration": 5,
    "start_time": "2024-10-18T18:24:15.717Z"
   },
   {
    "duration": 2,
    "start_time": "2024-10-18T18:24:15.724Z"
   },
   {
    "duration": 2,
    "start_time": "2024-10-18T18:24:15.729Z"
   },
   {
    "duration": 2,
    "start_time": "2024-10-18T18:24:15.733Z"
   },
   {
    "duration": 14,
    "start_time": "2024-10-18T18:24:15.737Z"
   },
   {
    "duration": 2,
    "start_time": "2024-10-18T18:24:15.752Z"
   },
   {
    "duration": 11,
    "start_time": "2024-10-18T18:24:15.756Z"
   },
   {
    "duration": 5,
    "start_time": "2024-10-18T18:24:15.769Z"
   },
   {
    "duration": 5,
    "start_time": "2024-10-18T18:24:15.776Z"
   },
   {
    "duration": 49,
    "start_time": "2024-10-18T18:24:15.782Z"
   },
   {
    "duration": 2,
    "start_time": "2024-10-18T18:24:15.833Z"
   },
   {
    "duration": 50,
    "start_time": "2024-10-18T18:24:15.839Z"
   },
   {
    "duration": 41,
    "start_time": "2024-10-18T18:24:15.891Z"
   },
   {
    "duration": 8,
    "start_time": "2024-10-18T18:24:15.934Z"
   },
   {
    "duration": 127,
    "start_time": "2024-10-18T18:24:15.943Z"
   },
   {
    "duration": 2,
    "start_time": "2024-10-18T18:24:16.072Z"
   },
   {
    "duration": 28,
    "start_time": "2024-10-18T18:24:16.076Z"
   },
   {
    "duration": 33,
    "start_time": "2024-10-18T18:24:16.105Z"
   },
   {
    "duration": 13,
    "start_time": "2024-10-18T18:24:16.140Z"
   },
   {
    "duration": 2,
    "start_time": "2024-10-18T18:24:16.155Z"
   },
   {
    "duration": 71,
    "start_time": "2024-10-18T18:24:16.159Z"
   },
   {
    "duration": 157,
    "start_time": "2024-10-18T18:24:16.232Z"
   },
   {
    "duration": 7,
    "start_time": "2024-10-18T18:24:16.390Z"
   },
   {
    "duration": 2,
    "start_time": "2024-10-18T18:24:16.399Z"
   },
   {
    "duration": 50,
    "start_time": "2024-10-18T18:24:16.402Z"
   },
   {
    "duration": 18,
    "start_time": "2024-10-18T18:24:16.454Z"
   },
   {
    "duration": 17,
    "start_time": "2024-10-18T18:24:16.473Z"
   },
   {
    "duration": 33,
    "start_time": "2024-10-18T18:24:16.492Z"
   },
   {
    "duration": 23,
    "start_time": "2024-10-18T18:24:16.526Z"
   },
   {
    "duration": 5,
    "start_time": "2024-10-18T18:24:16.551Z"
   },
   {
    "duration": 18,
    "start_time": "2024-10-18T18:24:16.559Z"
   },
   {
    "duration": 6,
    "start_time": "2024-10-18T18:24:16.578Z"
   },
   {
    "duration": 7,
    "start_time": "2024-10-18T18:24:16.586Z"
   },
   {
    "duration": 3,
    "start_time": "2024-10-18T18:24:16.623Z"
   },
   {
    "duration": 4,
    "start_time": "2024-10-18T18:24:16.628Z"
   },
   {
    "duration": 4,
    "start_time": "2024-10-18T18:24:16.633Z"
   },
   {
    "duration": 86,
    "start_time": "2024-10-18T18:24:16.638Z"
   },
   {
    "duration": 2,
    "start_time": "2024-10-18T18:24:16.725Z"
   },
   {
    "duration": 2,
    "start_time": "2024-10-18T18:24:16.731Z"
   },
   {
    "duration": 2,
    "start_time": "2024-10-18T18:24:16.735Z"
   },
   {
    "duration": 3,
    "start_time": "2024-10-18T18:24:16.739Z"
   },
   {
    "duration": 3,
    "start_time": "2024-10-18T18:24:16.743Z"
   },
   {
    "duration": 2,
    "start_time": "2024-10-18T18:24:16.748Z"
   },
   {
    "duration": 3,
    "start_time": "2024-10-18T18:24:16.752Z"
   },
   {
    "duration": 4,
    "start_time": "2024-10-18T18:24:16.756Z"
   },
   {
    "duration": 59,
    "start_time": "2024-10-18T18:42:11.924Z"
   },
   {
    "duration": 58,
    "start_time": "2024-10-18T18:42:22.744Z"
   },
   {
    "duration": 60,
    "start_time": "2024-10-18T18:42:27.427Z"
   },
   {
    "duration": 67,
    "start_time": "2024-10-18T18:42:34.033Z"
   },
   {
    "duration": 62,
    "start_time": "2024-10-18T18:49:14.706Z"
   },
   {
    "duration": 3,
    "start_time": "2024-10-18T18:51:01.028Z"
   },
   {
    "duration": 104,
    "start_time": "2024-10-18T18:51:32.553Z"
   },
   {
    "duration": 3,
    "start_time": "2024-10-18T18:52:44.954Z"
   },
   {
    "duration": 71,
    "start_time": "2024-10-18T18:53:01.221Z"
   },
   {
    "duration": 559,
    "start_time": "2024-10-18T18:53:27.015Z"
   },
   {
    "duration": 163,
    "start_time": "2024-10-18T18:53:27.576Z"
   },
   {
    "duration": 5,
    "start_time": "2024-10-18T18:53:27.740Z"
   },
   {
    "duration": 3,
    "start_time": "2024-10-18T18:53:27.746Z"
   },
   {
    "duration": 3,
    "start_time": "2024-10-18T18:53:27.751Z"
   },
   {
    "duration": 3,
    "start_time": "2024-10-18T18:53:27.755Z"
   },
   {
    "duration": 14,
    "start_time": "2024-10-18T18:53:27.760Z"
   },
   {
    "duration": 2,
    "start_time": "2024-10-18T18:53:27.775Z"
   },
   {
    "duration": 11,
    "start_time": "2024-10-18T18:53:27.779Z"
   },
   {
    "duration": 31,
    "start_time": "2024-10-18T18:53:27.792Z"
   },
   {
    "duration": 7,
    "start_time": "2024-10-18T18:53:27.825Z"
   },
   {
    "duration": 14,
    "start_time": "2024-10-18T18:53:27.834Z"
   },
   {
    "duration": 2,
    "start_time": "2024-10-18T18:53:27.850Z"
   },
   {
    "duration": 50,
    "start_time": "2024-10-18T18:53:27.856Z"
   },
   {
    "duration": 28,
    "start_time": "2024-10-18T18:53:27.925Z"
   },
   {
    "duration": 8,
    "start_time": "2024-10-18T18:53:27.955Z"
   },
   {
    "duration": 138,
    "start_time": "2024-10-18T18:53:27.966Z"
   },
   {
    "duration": 2,
    "start_time": "2024-10-18T18:53:28.106Z"
   },
   {
    "duration": 40,
    "start_time": "2024-10-18T18:53:28.110Z"
   },
   {
    "duration": 18,
    "start_time": "2024-10-18T18:53:28.151Z"
   },
   {
    "duration": 12,
    "start_time": "2024-10-18T18:53:28.170Z"
   },
   {
    "duration": 2,
    "start_time": "2024-10-18T18:53:28.184Z"
   },
   {
    "duration": 70,
    "start_time": "2024-10-18T18:53:28.187Z"
   },
   {
    "duration": 113,
    "start_time": "2024-10-18T18:53:28.259Z"
   },
   {
    "duration": 7,
    "start_time": "2024-10-18T18:53:28.373Z"
   },
   {
    "duration": 4,
    "start_time": "2024-10-18T18:53:28.381Z"
   },
   {
    "duration": 50,
    "start_time": "2024-10-18T18:53:28.386Z"
   },
   {
    "duration": 17,
    "start_time": "2024-10-18T18:53:28.437Z"
   },
   {
    "duration": 18,
    "start_time": "2024-10-18T18:53:28.456Z"
   },
   {
    "duration": 11,
    "start_time": "2024-10-18T18:53:28.475Z"
   },
   {
    "duration": 46,
    "start_time": "2024-10-18T18:53:28.488Z"
   },
   {
    "duration": 5,
    "start_time": "2024-10-18T18:53:28.536Z"
   },
   {
    "duration": 18,
    "start_time": "2024-10-18T18:53:28.542Z"
   },
   {
    "duration": 6,
    "start_time": "2024-10-18T18:53:28.561Z"
   },
   {
    "duration": 7,
    "start_time": "2024-10-18T18:53:28.568Z"
   },
   {
    "duration": 4,
    "start_time": "2024-10-18T18:53:28.576Z"
   },
   {
    "duration": 3,
    "start_time": "2024-10-18T18:53:28.582Z"
   },
   {
    "duration": 39,
    "start_time": "2024-10-18T18:53:28.586Z"
   },
   {
    "duration": 78,
    "start_time": "2024-10-18T18:53:28.626Z"
   },
   {
    "duration": 2,
    "start_time": "2024-10-18T18:53:28.706Z"
   },
   {
    "duration": 2,
    "start_time": "2024-10-18T18:53:28.725Z"
   },
   {
    "duration": 3,
    "start_time": "2024-10-18T18:53:28.728Z"
   },
   {
    "duration": 2,
    "start_time": "2024-10-18T18:53:28.733Z"
   },
   {
    "duration": 3,
    "start_time": "2024-10-18T18:53:28.737Z"
   },
   {
    "duration": 3,
    "start_time": "2024-10-18T18:53:28.741Z"
   },
   {
    "duration": 2,
    "start_time": "2024-10-18T18:53:28.746Z"
   },
   {
    "duration": 3,
    "start_time": "2024-10-18T18:53:28.749Z"
   },
   {
    "duration": 3,
    "start_time": "2024-10-18T18:55:28.714Z"
   },
   {
    "duration": 4,
    "start_time": "2024-10-18T18:55:34.160Z"
   },
   {
    "duration": 73,
    "start_time": "2024-10-18T18:55:58.367Z"
   },
   {
    "duration": 73,
    "start_time": "2024-10-18T18:56:15.007Z"
   },
   {
    "duration": 74,
    "start_time": "2024-10-18T18:56:30.376Z"
   },
   {
    "duration": 3,
    "start_time": "2024-10-18T19:00:41.586Z"
   },
   {
    "duration": 80,
    "start_time": "2024-10-18T19:00:44.765Z"
   },
   {
    "duration": 3,
    "start_time": "2024-10-18T19:03:32.625Z"
   },
   {
    "duration": 74,
    "start_time": "2024-10-18T19:03:38.392Z"
   },
   {
    "duration": 2,
    "start_time": "2024-10-18T19:04:01.407Z"
   },
   {
    "duration": 3,
    "start_time": "2024-10-18T19:04:03.675Z"
   },
   {
    "duration": 73,
    "start_time": "2024-10-18T19:04:07.941Z"
   },
   {
    "duration": 2,
    "start_time": "2024-10-18T19:04:26.146Z"
   },
   {
    "duration": 3,
    "start_time": "2024-10-18T19:04:29.126Z"
   },
   {
    "duration": 3,
    "start_time": "2024-10-18T19:04:30.269Z"
   },
   {
    "duration": 2,
    "start_time": "2024-10-18T19:04:32.312Z"
   },
   {
    "duration": 72,
    "start_time": "2024-10-18T19:04:39.534Z"
   },
   {
    "duration": 627,
    "start_time": "2024-10-18T22:18:11.923Z"
   },
   {
    "duration": 215,
    "start_time": "2024-10-18T22:18:12.553Z"
   },
   {
    "duration": 4,
    "start_time": "2024-10-18T22:18:12.769Z"
   },
   {
    "duration": 2,
    "start_time": "2024-10-18T22:18:12.775Z"
   },
   {
    "duration": 3,
    "start_time": "2024-10-18T22:18:12.780Z"
   },
   {
    "duration": 3,
    "start_time": "2024-10-18T22:18:12.784Z"
   },
   {
    "duration": 13,
    "start_time": "2024-10-18T22:18:12.789Z"
   },
   {
    "duration": 2,
    "start_time": "2024-10-18T22:18:12.803Z"
   },
   {
    "duration": 25,
    "start_time": "2024-10-18T22:18:12.807Z"
   },
   {
    "duration": 6,
    "start_time": "2024-10-18T22:18:12.834Z"
   },
   {
    "duration": 6,
    "start_time": "2024-10-18T22:18:12.841Z"
   },
   {
    "duration": 12,
    "start_time": "2024-10-18T22:18:12.848Z"
   },
   {
    "duration": 3,
    "start_time": "2024-10-18T22:18:12.861Z"
   },
   {
    "duration": 79,
    "start_time": "2024-10-18T22:18:12.868Z"
   },
   {
    "duration": 24,
    "start_time": "2024-10-18T22:18:12.949Z"
   },
   {
    "duration": 7,
    "start_time": "2024-10-18T22:18:12.975Z"
   },
   {
    "duration": 137,
    "start_time": "2024-10-18T22:18:12.984Z"
   },
   {
    "duration": 2,
    "start_time": "2024-10-18T22:18:13.123Z"
   },
   {
    "duration": 35,
    "start_time": "2024-10-18T22:18:13.127Z"
   },
   {
    "duration": 16,
    "start_time": "2024-10-18T22:18:13.163Z"
   },
   {
    "duration": 12,
    "start_time": "2024-10-18T22:18:13.181Z"
   },
   {
    "duration": 2,
    "start_time": "2024-10-18T22:18:13.194Z"
   },
   {
    "duration": 50,
    "start_time": "2024-10-18T22:18:13.224Z"
   },
   {
    "duration": 118,
    "start_time": "2024-10-18T22:18:13.275Z"
   },
   {
    "duration": 6,
    "start_time": "2024-10-18T22:18:13.394Z"
   },
   {
    "duration": 2,
    "start_time": "2024-10-18T22:18:13.402Z"
   },
   {
    "duration": 48,
    "start_time": "2024-10-18T22:18:13.406Z"
   },
   {
    "duration": 18,
    "start_time": "2024-10-18T22:18:13.456Z"
   },
   {
    "duration": 17,
    "start_time": "2024-10-18T22:18:13.476Z"
   },
   {
    "duration": 32,
    "start_time": "2024-10-18T22:18:13.495Z"
   },
   {
    "duration": 22,
    "start_time": "2024-10-18T22:18:13.529Z"
   },
   {
    "duration": 6,
    "start_time": "2024-10-18T22:18:13.552Z"
   },
   {
    "duration": 18,
    "start_time": "2024-10-18T22:18:13.559Z"
   },
   {
    "duration": 5,
    "start_time": "2024-10-18T22:18:13.579Z"
   },
   {
    "duration": 39,
    "start_time": "2024-10-18T22:18:13.585Z"
   },
   {
    "duration": 4,
    "start_time": "2024-10-18T22:18:13.625Z"
   },
   {
    "duration": 3,
    "start_time": "2024-10-18T22:18:13.631Z"
   },
   {
    "duration": 4,
    "start_time": "2024-10-18T22:18:13.636Z"
   },
   {
    "duration": 105,
    "start_time": "2024-10-18T22:18:13.641Z"
   },
   {
    "duration": 3,
    "start_time": "2024-10-18T22:18:13.748Z"
   },
   {
    "duration": 1,
    "start_time": "2024-10-18T22:18:13.756Z"
   },
   {
    "duration": 2,
    "start_time": "2024-10-18T22:18:13.759Z"
   },
   {
    "duration": 3,
    "start_time": "2024-10-18T22:18:13.763Z"
   },
   {
    "duration": 3,
    "start_time": "2024-10-18T22:18:13.767Z"
   },
   {
    "duration": 3,
    "start_time": "2024-10-18T22:18:13.771Z"
   },
   {
    "duration": 2,
    "start_time": "2024-10-18T22:18:13.777Z"
   },
   {
    "duration": 3,
    "start_time": "2024-10-18T22:18:13.780Z"
   },
   {
    "duration": 5,
    "start_time": "2024-10-18T22:22:24.606Z"
   },
   {
    "duration": 3,
    "start_time": "2024-10-18T22:22:38.443Z"
   },
   {
    "duration": 438,
    "start_time": "2024-10-18T22:23:53.591Z"
   },
   {
    "duration": 47,
    "start_time": "2024-10-18T22:25:44.321Z"
   },
   {
    "duration": 3,
    "start_time": "2024-10-18T22:28:22.423Z"
   },
   {
    "duration": 40,
    "start_time": "2024-10-18T22:28:25.737Z"
   },
   {
    "duration": 43,
    "start_time": "2024-10-18T22:28:40.935Z"
   },
   {
    "duration": 294,
    "start_time": "2024-10-18T22:29:16.007Z"
   },
   {
    "duration": 48,
    "start_time": "2024-10-18T22:30:26.384Z"
   },
   {
    "duration": 49,
    "start_time": "2024-10-18T22:30:57.777Z"
   },
   {
    "duration": 64,
    "start_time": "2024-10-18T22:31:42.309Z"
   },
   {
    "duration": 357,
    "start_time": "2024-10-18T22:31:59.968Z"
   },
   {
    "duration": 52,
    "start_time": "2024-10-18T22:32:11.312Z"
   },
   {
    "duration": 48,
    "start_time": "2024-10-18T22:33:48.781Z"
   },
   {
    "duration": 41,
    "start_time": "2024-10-18T22:34:12.563Z"
   },
   {
    "duration": 220,
    "start_time": "2024-10-18T22:34:22.505Z"
   },
   {
    "duration": 60,
    "start_time": "2024-10-18T22:34:52.864Z"
   },
   {
    "duration": 45,
    "start_time": "2024-10-18T22:35:16.562Z"
   },
   {
    "duration": 48,
    "start_time": "2024-10-18T22:35:32.226Z"
   },
   {
    "duration": 47,
    "start_time": "2024-10-18T22:35:51.540Z"
   },
   {
    "duration": 43,
    "start_time": "2024-10-18T22:35:57.606Z"
   },
   {
    "duration": 60,
    "start_time": "2024-10-18T22:36:06.778Z"
   },
   {
    "duration": 63,
    "start_time": "2024-10-18T22:36:29.041Z"
   },
   {
    "duration": 156,
    "start_time": "2024-10-18T22:37:32.091Z"
   },
   {
    "duration": 63,
    "start_time": "2024-10-18T22:37:40.357Z"
   },
   {
    "duration": 51,
    "start_time": "2024-10-18T22:38:09.284Z"
   },
   {
    "duration": 62,
    "start_time": "2024-10-18T22:38:18.289Z"
   },
   {
    "duration": 3,
    "start_time": "2024-10-18T22:39:09.631Z"
   },
   {
    "duration": 79,
    "start_time": "2024-10-18T22:39:11.276Z"
   },
   {
    "duration": 46,
    "start_time": "2024-10-18T23:24:11.546Z"
   },
   {
    "duration": 47,
    "start_time": "2024-10-18T23:24:29.406Z"
   },
   {
    "duration": 847,
    "start_time": "2024-10-25T00:21:42.754Z"
   },
   {
    "duration": 576,
    "start_time": "2024-10-25T00:21:43.603Z"
   },
   {
    "duration": 0,
    "start_time": "2024-10-25T00:21:44.183Z"
   },
   {
    "duration": 0,
    "start_time": "2024-10-25T00:21:44.184Z"
   },
   {
    "duration": 0,
    "start_time": "2024-10-25T00:21:44.186Z"
   },
   {
    "duration": 0,
    "start_time": "2024-10-25T00:21:44.187Z"
   },
   {
    "duration": 0,
    "start_time": "2024-10-25T00:21:44.189Z"
   },
   {
    "duration": 0,
    "start_time": "2024-10-25T00:21:44.190Z"
   },
   {
    "duration": 0,
    "start_time": "2024-10-25T00:21:44.192Z"
   },
   {
    "duration": 0,
    "start_time": "2024-10-25T00:21:44.193Z"
   },
   {
    "duration": 0,
    "start_time": "2024-10-25T00:21:44.212Z"
   },
   {
    "duration": 0,
    "start_time": "2024-10-25T00:21:44.213Z"
   },
   {
    "duration": 0,
    "start_time": "2024-10-25T00:21:44.214Z"
   },
   {
    "duration": 0,
    "start_time": "2024-10-25T00:21:44.216Z"
   },
   {
    "duration": 0,
    "start_time": "2024-10-25T00:21:44.217Z"
   },
   {
    "duration": 0,
    "start_time": "2024-10-25T00:21:44.218Z"
   },
   {
    "duration": 0,
    "start_time": "2024-10-25T00:21:44.219Z"
   },
   {
    "duration": 0,
    "start_time": "2024-10-25T00:21:44.221Z"
   },
   {
    "duration": 0,
    "start_time": "2024-10-25T00:21:44.222Z"
   },
   {
    "duration": 0,
    "start_time": "2024-10-25T00:21:44.224Z"
   },
   {
    "duration": 0,
    "start_time": "2024-10-25T00:21:44.225Z"
   },
   {
    "duration": 0,
    "start_time": "2024-10-25T00:21:44.227Z"
   },
   {
    "duration": 0,
    "start_time": "2024-10-25T00:21:44.228Z"
   },
   {
    "duration": 1,
    "start_time": "2024-10-25T00:21:44.229Z"
   },
   {
    "duration": 0,
    "start_time": "2024-10-25T00:21:44.231Z"
   },
   {
    "duration": 0,
    "start_time": "2024-10-25T00:21:44.233Z"
   },
   {
    "duration": 0,
    "start_time": "2024-10-25T00:21:44.234Z"
   },
   {
    "duration": 0,
    "start_time": "2024-10-25T00:21:44.236Z"
   },
   {
    "duration": 0,
    "start_time": "2024-10-25T00:21:44.237Z"
   },
   {
    "duration": 0,
    "start_time": "2024-10-25T00:21:44.239Z"
   },
   {
    "duration": 0,
    "start_time": "2024-10-25T00:21:44.240Z"
   },
   {
    "duration": 0,
    "start_time": "2024-10-25T00:21:44.241Z"
   },
   {
    "duration": 1,
    "start_time": "2024-10-25T00:21:44.242Z"
   },
   {
    "duration": 0,
    "start_time": "2024-10-25T00:21:44.244Z"
   },
   {
    "duration": 0,
    "start_time": "2024-10-25T00:21:44.245Z"
   },
   {
    "duration": 0,
    "start_time": "2024-10-25T00:21:44.246Z"
   },
   {
    "duration": 0,
    "start_time": "2024-10-25T00:21:44.247Z"
   },
   {
    "duration": 0,
    "start_time": "2024-10-25T00:21:44.249Z"
   },
   {
    "duration": 0,
    "start_time": "2024-10-25T00:21:44.250Z"
   },
   {
    "duration": 0,
    "start_time": "2024-10-25T00:21:44.251Z"
   },
   {
    "duration": 0,
    "start_time": "2024-10-25T00:21:44.252Z"
   },
   {
    "duration": 0,
    "start_time": "2024-10-25T00:21:44.313Z"
   },
   {
    "duration": 0,
    "start_time": "2024-10-25T00:21:44.315Z"
   },
   {
    "duration": 0,
    "start_time": "2024-10-25T00:21:44.316Z"
   },
   {
    "duration": 0,
    "start_time": "2024-10-25T00:21:44.317Z"
   },
   {
    "duration": 0,
    "start_time": "2024-10-25T00:21:44.318Z"
   },
   {
    "duration": 0,
    "start_time": "2024-10-25T00:21:44.319Z"
   },
   {
    "duration": 0,
    "start_time": "2024-10-25T00:21:44.320Z"
   },
   {
    "duration": 0,
    "start_time": "2024-10-25T00:21:44.322Z"
   },
   {
    "duration": 0,
    "start_time": "2024-10-25T00:21:44.322Z"
   },
   {
    "duration": 0,
    "start_time": "2024-10-25T00:21:44.323Z"
   },
   {
    "duration": 0,
    "start_time": "2024-10-25T00:21:44.324Z"
   },
   {
    "duration": 0,
    "start_time": "2024-10-25T00:21:44.325Z"
   },
   {
    "duration": 0,
    "start_time": "2024-10-25T00:21:44.326Z"
   },
   {
    "duration": 0,
    "start_time": "2024-10-25T00:21:44.327Z"
   },
   {
    "duration": 0,
    "start_time": "2024-10-25T00:21:44.329Z"
   },
   {
    "duration": 0,
    "start_time": "2024-10-25T00:21:44.330Z"
   },
   {
    "duration": 0,
    "start_time": "2024-10-25T00:21:44.331Z"
   },
   {
    "duration": 0,
    "start_time": "2024-10-25T00:21:44.332Z"
   },
   {
    "duration": 0,
    "start_time": "2024-10-25T00:21:44.333Z"
   },
   {
    "duration": 0,
    "start_time": "2024-10-25T00:21:44.334Z"
   },
   {
    "duration": 0,
    "start_time": "2024-10-25T00:21:44.335Z"
   },
   {
    "duration": 0,
    "start_time": "2024-10-25T00:21:44.336Z"
   },
   {
    "duration": 0,
    "start_time": "2024-10-25T00:21:44.338Z"
   },
   {
    "duration": 0,
    "start_time": "2024-10-25T00:21:44.338Z"
   },
   {
    "duration": 0,
    "start_time": "2024-10-25T00:21:44.339Z"
   },
   {
    "duration": 0,
    "start_time": "2024-10-25T00:21:44.340Z"
   },
   {
    "duration": 0,
    "start_time": "2024-10-25T00:21:44.342Z"
   },
   {
    "duration": 0,
    "start_time": "2024-10-25T00:21:44.344Z"
   },
   {
    "duration": 0,
    "start_time": "2024-10-25T00:21:44.345Z"
   },
   {
    "duration": 0,
    "start_time": "2024-10-25T00:21:44.346Z"
   },
   {
    "duration": 0,
    "start_time": "2024-10-25T00:21:44.347Z"
   },
   {
    "duration": 0,
    "start_time": "2024-10-25T00:21:44.348Z"
   },
   {
    "duration": 59,
    "start_time": "2024-10-25T00:22:54.511Z"
   },
   {
    "duration": 156,
    "start_time": "2024-10-25T00:24:48.402Z"
   },
   {
    "duration": 887,
    "start_time": "2024-10-25T00:25:02.416Z"
   },
   {
    "duration": 163,
    "start_time": "2024-10-25T00:25:03.306Z"
   },
   {
    "duration": 4,
    "start_time": "2024-10-25T00:25:03.471Z"
   },
   {
    "duration": 3,
    "start_time": "2024-10-25T00:25:03.477Z"
   },
   {
    "duration": 3,
    "start_time": "2024-10-25T00:25:03.482Z"
   },
   {
    "duration": 3,
    "start_time": "2024-10-25T00:25:03.486Z"
   },
   {
    "duration": 30,
    "start_time": "2024-10-25T00:25:03.491Z"
   },
   {
    "duration": 3,
    "start_time": "2024-10-25T00:25:03.522Z"
   },
   {
    "duration": 13,
    "start_time": "2024-10-25T00:25:03.526Z"
   },
   {
    "duration": 5,
    "start_time": "2024-10-25T00:25:03.543Z"
   },
   {
    "duration": 5,
    "start_time": "2024-10-25T00:25:03.550Z"
   },
   {
    "duration": 13,
    "start_time": "2024-10-25T00:25:03.558Z"
   },
   {
    "duration": 2,
    "start_time": "2024-10-25T00:25:03.573Z"
   },
   {
    "duration": 87,
    "start_time": "2024-10-25T00:25:03.576Z"
   },
   {
    "duration": 26,
    "start_time": "2024-10-25T00:25:03.665Z"
   },
   {
    "duration": 21,
    "start_time": "2024-10-25T00:25:03.693Z"
   },
   {
    "duration": 131,
    "start_time": "2024-10-25T00:25:03.716Z"
   },
   {
    "duration": 2,
    "start_time": "2024-10-25T00:25:03.849Z"
   },
   {
    "duration": 30,
    "start_time": "2024-10-25T00:25:03.853Z"
   },
   {
    "duration": 36,
    "start_time": "2024-10-25T00:25:03.885Z"
   },
   {
    "duration": 14,
    "start_time": "2024-10-25T00:25:03.922Z"
   },
   {
    "duration": 4,
    "start_time": "2024-10-25T00:25:03.937Z"
   },
   {
    "duration": 75,
    "start_time": "2024-10-25T00:25:03.944Z"
   },
   {
    "duration": 117,
    "start_time": "2024-10-25T00:25:04.020Z"
   },
   {
    "duration": 9,
    "start_time": "2024-10-25T00:25:04.138Z"
   },
   {
    "duration": 2,
    "start_time": "2024-10-25T00:25:04.149Z"
   },
   {
    "duration": 35,
    "start_time": "2024-10-25T00:25:04.153Z"
   },
   {
    "duration": 19,
    "start_time": "2024-10-25T00:25:04.213Z"
   },
   {
    "duration": 19,
    "start_time": "2024-10-25T00:25:04.234Z"
   },
   {
    "duration": 13,
    "start_time": "2024-10-25T00:25:04.255Z"
   },
   {
    "duration": 48,
    "start_time": "2024-10-25T00:25:04.269Z"
   },
   {
    "duration": 6,
    "start_time": "2024-10-25T00:25:04.318Z"
   },
   {
    "duration": 20,
    "start_time": "2024-10-25T00:25:04.326Z"
   },
   {
    "duration": 7,
    "start_time": "2024-10-25T00:25:04.348Z"
   },
   {
    "duration": 10,
    "start_time": "2024-10-25T00:25:04.356Z"
   },
   {
    "duration": 6,
    "start_time": "2024-10-25T00:25:04.368Z"
   },
   {
    "duration": 3,
    "start_time": "2024-10-25T00:25:04.411Z"
   },
   {
    "duration": 3,
    "start_time": "2024-10-25T00:25:04.416Z"
   },
   {
    "duration": 4,
    "start_time": "2024-10-25T00:25:04.421Z"
   },
   {
    "duration": 90,
    "start_time": "2024-10-25T00:25:04.426Z"
   },
   {
    "duration": 4,
    "start_time": "2024-10-25T00:25:04.518Z"
   },
   {
    "duration": 20,
    "start_time": "2024-10-25T00:25:04.524Z"
   },
   {
    "duration": 46,
    "start_time": "2024-10-25T00:25:04.546Z"
   },
   {
    "duration": 28,
    "start_time": "2024-10-25T00:25:04.593Z"
   },
   {
    "duration": 6,
    "start_time": "2024-10-25T00:25:04.622Z"
   },
   {
    "duration": 1331,
    "start_time": "2024-10-25T00:25:04.629Z"
   },
   {
    "duration": 0,
    "start_time": "2024-10-25T00:25:05.961Z"
   },
   {
    "duration": 0,
    "start_time": "2024-10-25T00:25:05.962Z"
   },
   {
    "duration": 0,
    "start_time": "2024-10-25T00:25:05.963Z"
   },
   {
    "duration": 1,
    "start_time": "2024-10-25T00:25:05.964Z"
   },
   {
    "duration": 0,
    "start_time": "2024-10-25T00:25:05.965Z"
   },
   {
    "duration": 0,
    "start_time": "2024-10-25T00:25:05.967Z"
   },
   {
    "duration": 0,
    "start_time": "2024-10-25T00:25:05.968Z"
   },
   {
    "duration": 0,
    "start_time": "2024-10-25T00:25:05.969Z"
   },
   {
    "duration": 0,
    "start_time": "2024-10-25T00:25:05.969Z"
   },
   {
    "duration": 0,
    "start_time": "2024-10-25T00:25:05.970Z"
   },
   {
    "duration": 0,
    "start_time": "2024-10-25T00:25:05.971Z"
   },
   {
    "duration": 0,
    "start_time": "2024-10-25T00:25:05.972Z"
   },
   {
    "duration": 0,
    "start_time": "2024-10-25T00:25:05.973Z"
   },
   {
    "duration": 0,
    "start_time": "2024-10-25T00:25:05.974Z"
   },
   {
    "duration": 0,
    "start_time": "2024-10-25T00:25:05.975Z"
   },
   {
    "duration": 0,
    "start_time": "2024-10-25T00:25:05.977Z"
   },
   {
    "duration": 0,
    "start_time": "2024-10-25T00:25:05.978Z"
   },
   {
    "duration": 0,
    "start_time": "2024-10-25T00:25:05.979Z"
   },
   {
    "duration": 0,
    "start_time": "2024-10-25T00:25:05.980Z"
   },
   {
    "duration": 0,
    "start_time": "2024-10-25T00:25:06.011Z"
   },
   {
    "duration": 0,
    "start_time": "2024-10-25T00:25:06.013Z"
   },
   {
    "duration": 0,
    "start_time": "2024-10-25T00:25:06.014Z"
   },
   {
    "duration": 0,
    "start_time": "2024-10-25T00:25:06.016Z"
   },
   {
    "duration": 0,
    "start_time": "2024-10-25T00:25:06.017Z"
   },
   {
    "duration": 0,
    "start_time": "2024-10-25T00:25:06.020Z"
   },
   {
    "duration": 0,
    "start_time": "2024-10-25T00:25:06.021Z"
   },
   {
    "duration": 0,
    "start_time": "2024-10-25T00:25:06.023Z"
   },
   {
    "duration": 527,
    "start_time": "2024-10-25T00:41:12.342Z"
   },
   {
    "duration": 171,
    "start_time": "2024-10-25T00:44:50.582Z"
   },
   {
    "duration": 494,
    "start_time": "2024-10-25T00:46:15.844Z"
   },
   {
    "duration": 168,
    "start_time": "2024-10-25T00:46:28.898Z"
   },
   {
    "duration": 14,
    "start_time": "2024-10-25T00:46:34.388Z"
   },
   {
    "duration": 336,
    "start_time": "2024-10-25T00:46:38.900Z"
   },
   {
    "duration": 83,
    "start_time": "2024-10-25T00:46:42.070Z"
   },
   {
    "duration": 164,
    "start_time": "2024-10-25T00:46:54.000Z"
   },
   {
    "duration": 12,
    "start_time": "2024-10-25T00:46:56.629Z"
   },
   {
    "duration": 447,
    "start_time": "2024-10-25T00:47:01.386Z"
   },
   {
    "duration": 261,
    "start_time": "2024-10-25T00:47:04.225Z"
   },
   {
    "duration": 84,
    "start_time": "2024-10-25T00:47:07.577Z"
   },
   {
    "duration": 5,
    "start_time": "2024-10-25T00:47:09.740Z"
   },
   {
    "duration": 11,
    "start_time": "2024-10-25T00:47:25.542Z"
   },
   {
    "duration": 338,
    "start_time": "2024-10-25T00:47:29.042Z"
   },
   {
    "duration": 487,
    "start_time": "2024-10-25T00:47:35.052Z"
   },
   {
    "duration": 174,
    "start_time": "2024-10-25T00:47:42.042Z"
   },
   {
    "duration": 14,
    "start_time": "2024-10-25T00:47:44.833Z"
   },
   {
    "duration": 71,
    "start_time": "2024-10-25T00:47:47.642Z"
   },
   {
    "duration": 40,
    "start_time": "2024-10-25T00:47:52.755Z"
   },
   {
    "duration": 42,
    "start_time": "2024-10-25T00:48:04.518Z"
   },
   {
    "duration": 833,
    "start_time": "2024-10-25T00:48:24.479Z"
   },
   {
    "duration": 165,
    "start_time": "2024-10-25T00:48:25.314Z"
   },
   {
    "duration": 4,
    "start_time": "2024-10-25T00:48:25.481Z"
   },
   {
    "duration": 3,
    "start_time": "2024-10-25T00:48:25.487Z"
   },
   {
    "duration": 3,
    "start_time": "2024-10-25T00:48:25.491Z"
   },
   {
    "duration": 15,
    "start_time": "2024-10-25T00:48:25.496Z"
   },
   {
    "duration": 14,
    "start_time": "2024-10-25T00:48:25.513Z"
   },
   {
    "duration": 2,
    "start_time": "2024-10-25T00:48:25.528Z"
   },
   {
    "duration": 12,
    "start_time": "2024-10-25T00:48:25.532Z"
   },
   {
    "duration": 6,
    "start_time": "2024-10-25T00:48:25.547Z"
   },
   {
    "duration": 8,
    "start_time": "2024-10-25T00:48:25.554Z"
   },
   {
    "duration": 14,
    "start_time": "2024-10-25T00:48:25.564Z"
   },
   {
    "duration": 32,
    "start_time": "2024-10-25T00:48:25.580Z"
   },
   {
    "duration": 53,
    "start_time": "2024-10-25T00:48:25.613Z"
   },
   {
    "duration": 26,
    "start_time": "2024-10-25T00:48:25.668Z"
   },
   {
    "duration": 8,
    "start_time": "2024-10-25T00:48:25.712Z"
   },
   {
    "duration": 126,
    "start_time": "2024-10-25T00:48:25.722Z"
   },
   {
    "duration": 2,
    "start_time": "2024-10-25T00:48:25.850Z"
   },
   {
    "duration": 29,
    "start_time": "2024-10-25T00:48:25.854Z"
   },
   {
    "duration": 37,
    "start_time": "2024-10-25T00:48:25.885Z"
   },
   {
    "duration": 12,
    "start_time": "2024-10-25T00:48:25.923Z"
   },
   {
    "duration": 2,
    "start_time": "2024-10-25T00:48:25.937Z"
   },
   {
    "duration": 51,
    "start_time": "2024-10-25T00:48:25.940Z"
   },
   {
    "duration": 111,
    "start_time": "2024-10-25T00:48:26.011Z"
   },
   {
    "duration": 7,
    "start_time": "2024-10-25T00:48:26.123Z"
   },
   {
    "duration": 3,
    "start_time": "2024-10-25T00:48:26.132Z"
   },
   {
    "duration": 35,
    "start_time": "2024-10-25T00:48:26.136Z"
   },
   {
    "duration": 44,
    "start_time": "2024-10-25T00:48:26.177Z"
   },
   {
    "duration": 17,
    "start_time": "2024-10-25T00:48:26.223Z"
   },
   {
    "duration": 11,
    "start_time": "2024-10-25T00:48:26.242Z"
   },
   {
    "duration": 23,
    "start_time": "2024-10-25T00:48:26.255Z"
   },
   {
    "duration": 34,
    "start_time": "2024-10-25T00:48:26.279Z"
   },
   {
    "duration": 19,
    "start_time": "2024-10-25T00:48:26.315Z"
   },
   {
    "duration": 6,
    "start_time": "2024-10-25T00:48:26.336Z"
   },
   {
    "duration": 9,
    "start_time": "2024-10-25T00:48:26.344Z"
   },
   {
    "duration": 7,
    "start_time": "2024-10-25T00:48:26.355Z"
   },
   {
    "duration": 2,
    "start_time": "2024-10-25T00:48:26.364Z"
   },
   {
    "duration": 4,
    "start_time": "2024-10-25T00:48:26.368Z"
   },
   {
    "duration": 3,
    "start_time": "2024-10-25T00:48:26.374Z"
   },
   {
    "duration": 73,
    "start_time": "2024-10-25T00:48:26.412Z"
   },
   {
    "duration": 3,
    "start_time": "2024-10-25T00:48:26.487Z"
   },
   {
    "duration": 39,
    "start_time": "2024-10-25T00:48:26.491Z"
   },
   {
    "duration": 46,
    "start_time": "2024-10-25T00:48:26.532Z"
   },
   {
    "duration": 9,
    "start_time": "2024-10-25T00:48:26.580Z"
   },
   {
    "duration": 23,
    "start_time": "2024-10-25T00:48:26.591Z"
   },
   {
    "duration": 185,
    "start_time": "2024-10-25T00:48:26.616Z"
   },
   {
    "duration": 168,
    "start_time": "2024-10-25T00:48:26.803Z"
   },
   {
    "duration": 13,
    "start_time": "2024-10-25T00:48:26.973Z"
   },
   {
    "duration": 387,
    "start_time": "2024-10-25T00:48:26.987Z"
   },
   {
    "duration": 93,
    "start_time": "2024-10-25T00:48:27.376Z"
   },
   {
    "duration": 181,
    "start_time": "2024-10-25T00:48:27.471Z"
   },
   {
    "duration": 12,
    "start_time": "2024-10-25T00:48:27.654Z"
   },
   {
    "duration": 346,
    "start_time": "2024-10-25T00:48:27.667Z"
   },
   {
    "duration": 268,
    "start_time": "2024-10-25T00:48:28.016Z"
   },
   {
    "duration": 89,
    "start_time": "2024-10-25T00:48:28.286Z"
   },
   {
    "duration": 4,
    "start_time": "2024-10-25T00:48:28.378Z"
   },
   {
    "duration": 11,
    "start_time": "2024-10-25T00:48:28.384Z"
   },
   {
    "duration": 416,
    "start_time": "2024-10-25T00:48:28.396Z"
   },
   {
    "duration": 177,
    "start_time": "2024-10-25T00:48:28.814Z"
   },
   {
    "duration": 22,
    "start_time": "2024-10-25T00:48:28.993Z"
   },
   {
    "duration": 448,
    "start_time": "2024-10-25T00:48:29.017Z"
   },
   {
    "duration": 0,
    "start_time": "2024-10-25T00:48:29.466Z"
   },
   {
    "duration": 0,
    "start_time": "2024-10-25T00:48:29.467Z"
   },
   {
    "duration": 0,
    "start_time": "2024-10-25T00:48:29.468Z"
   },
   {
    "duration": 0,
    "start_time": "2024-10-25T00:48:29.469Z"
   },
   {
    "duration": 0,
    "start_time": "2024-10-25T00:48:29.470Z"
   },
   {
    "duration": 0,
    "start_time": "2024-10-25T00:48:29.471Z"
   },
   {
    "duration": 0,
    "start_time": "2024-10-25T00:48:29.472Z"
   },
   {
    "duration": 0,
    "start_time": "2024-10-25T00:48:29.473Z"
   },
   {
    "duration": 0,
    "start_time": "2024-10-25T00:48:29.474Z"
   },
   {
    "duration": 0,
    "start_time": "2024-10-25T00:48:29.475Z"
   },
   {
    "duration": 0,
    "start_time": "2024-10-25T00:48:29.476Z"
   },
   {
    "duration": 0,
    "start_time": "2024-10-25T00:48:29.477Z"
   },
   {
    "duration": 860,
    "start_time": "2024-10-25T01:02:56.737Z"
   },
   {
    "duration": 161,
    "start_time": "2024-10-25T01:02:57.599Z"
   },
   {
    "duration": 3,
    "start_time": "2024-10-25T01:02:57.762Z"
   },
   {
    "duration": 2,
    "start_time": "2024-10-25T01:02:57.768Z"
   },
   {
    "duration": 3,
    "start_time": "2024-10-25T01:02:57.773Z"
   },
   {
    "duration": 3,
    "start_time": "2024-10-25T01:02:57.777Z"
   },
   {
    "duration": 14,
    "start_time": "2024-10-25T01:02:57.781Z"
   },
   {
    "duration": 16,
    "start_time": "2024-10-25T01:02:57.796Z"
   },
   {
    "duration": 13,
    "start_time": "2024-10-25T01:02:57.814Z"
   },
   {
    "duration": 6,
    "start_time": "2024-10-25T01:02:57.828Z"
   },
   {
    "duration": 5,
    "start_time": "2024-10-25T01:02:57.836Z"
   },
   {
    "duration": 14,
    "start_time": "2024-10-25T01:02:57.842Z"
   },
   {
    "duration": 3,
    "start_time": "2024-10-25T01:02:57.857Z"
   },
   {
    "duration": 85,
    "start_time": "2024-10-25T01:02:57.864Z"
   },
   {
    "duration": 26,
    "start_time": "2024-10-25T01:02:57.951Z"
   },
   {
    "duration": 8,
    "start_time": "2024-10-25T01:02:57.979Z"
   },
   {
    "duration": 147,
    "start_time": "2024-10-25T01:02:57.989Z"
   },
   {
    "duration": 2,
    "start_time": "2024-10-25T01:02:58.138Z"
   },
   {
    "duration": 29,
    "start_time": "2024-10-25T01:02:58.142Z"
   },
   {
    "duration": 17,
    "start_time": "2024-10-25T01:02:58.173Z"
   },
   {
    "duration": 11,
    "start_time": "2024-10-25T01:02:58.212Z"
   },
   {
    "duration": 2,
    "start_time": "2024-10-25T01:02:58.225Z"
   },
   {
    "duration": 50,
    "start_time": "2024-10-25T01:02:58.228Z"
   },
   {
    "duration": 124,
    "start_time": "2024-10-25T01:02:58.281Z"
   },
   {
    "duration": 6,
    "start_time": "2024-10-25T01:02:58.407Z"
   },
   {
    "duration": 4,
    "start_time": "2024-10-25T01:02:58.415Z"
   },
   {
    "duration": 34,
    "start_time": "2024-10-25T01:02:58.421Z"
   },
   {
    "duration": 18,
    "start_time": "2024-10-25T01:02:58.457Z"
   },
   {
    "duration": 43,
    "start_time": "2024-10-25T01:02:58.477Z"
   },
   {
    "duration": 12,
    "start_time": "2024-10-25T01:02:58.521Z"
   },
   {
    "duration": 22,
    "start_time": "2024-10-25T01:02:58.535Z"
   },
   {
    "duration": 6,
    "start_time": "2024-10-25T01:02:58.558Z"
   },
   {
    "duration": 48,
    "start_time": "2024-10-25T01:02:58.565Z"
   },
   {
    "duration": 6,
    "start_time": "2024-10-25T01:02:58.615Z"
   },
   {
    "duration": 9,
    "start_time": "2024-10-25T01:02:58.623Z"
   },
   {
    "duration": 7,
    "start_time": "2024-10-25T01:02:58.633Z"
   },
   {
    "duration": 3,
    "start_time": "2024-10-25T01:02:58.641Z"
   },
   {
    "duration": 3,
    "start_time": "2024-10-25T01:02:58.646Z"
   },
   {
    "duration": 4,
    "start_time": "2024-10-25T01:02:58.650Z"
   },
   {
    "duration": 104,
    "start_time": "2024-10-25T01:02:58.656Z"
   },
   {
    "duration": 3,
    "start_time": "2024-10-25T01:02:58.765Z"
   },
   {
    "duration": 22,
    "start_time": "2024-10-25T01:02:58.769Z"
   },
   {
    "duration": 56,
    "start_time": "2024-10-25T01:02:58.793Z"
   },
   {
    "duration": 9,
    "start_time": "2024-10-25T01:02:58.851Z"
   },
   {
    "duration": 6,
    "start_time": "2024-10-25T01:02:58.862Z"
   },
   {
    "duration": 196,
    "start_time": "2024-10-25T01:02:58.869Z"
   },
   {
    "duration": 172,
    "start_time": "2024-10-25T01:02:59.067Z"
   },
   {
    "duration": 14,
    "start_time": "2024-10-25T01:02:59.241Z"
   },
   {
    "duration": 420,
    "start_time": "2024-10-25T01:02:59.256Z"
   },
   {
    "duration": 97,
    "start_time": "2024-10-25T01:02:59.677Z"
   },
   {
    "duration": 176,
    "start_time": "2024-10-25T01:02:59.777Z"
   },
   {
    "duration": 15,
    "start_time": "2024-10-25T01:02:59.956Z"
   },
   {
    "duration": 347,
    "start_time": "2024-10-25T01:02:59.973Z"
   },
   {
    "duration": 262,
    "start_time": "2024-10-25T01:03:00.321Z"
   },
   {
    "duration": 94,
    "start_time": "2024-10-25T01:03:00.585Z"
   },
   {
    "duration": 4,
    "start_time": "2024-10-25T01:03:00.680Z"
   },
   {
    "duration": 11,
    "start_time": "2024-10-25T01:03:00.686Z"
   },
   {
    "duration": 417,
    "start_time": "2024-10-25T01:03:00.711Z"
   },
   {
    "duration": 192,
    "start_time": "2024-10-25T01:03:01.130Z"
   },
   {
    "duration": 14,
    "start_time": "2024-10-25T01:03:01.324Z"
   },
   {
    "duration": 446,
    "start_time": "2024-10-25T01:03:01.340Z"
   },
   {
    "duration": 0,
    "start_time": "2024-10-25T01:03:01.788Z"
   },
   {
    "duration": 0,
    "start_time": "2024-10-25T01:03:01.789Z"
   },
   {
    "duration": 0,
    "start_time": "2024-10-25T01:03:01.791Z"
   },
   {
    "duration": 0,
    "start_time": "2024-10-25T01:03:01.792Z"
   },
   {
    "duration": 0,
    "start_time": "2024-10-25T01:03:01.794Z"
   },
   {
    "duration": 0,
    "start_time": "2024-10-25T01:03:01.795Z"
   },
   {
    "duration": 0,
    "start_time": "2024-10-25T01:03:01.812Z"
   },
   {
    "duration": 0,
    "start_time": "2024-10-25T01:03:01.813Z"
   },
   {
    "duration": 0,
    "start_time": "2024-10-25T01:03:01.815Z"
   },
   {
    "duration": 0,
    "start_time": "2024-10-25T01:03:01.816Z"
   },
   {
    "duration": 0,
    "start_time": "2024-10-25T01:03:01.817Z"
   },
   {
    "duration": 0,
    "start_time": "2024-10-25T01:03:01.818Z"
   },
   {
    "duration": 7,
    "start_time": "2024-10-25T01:19:03.899Z"
   },
   {
    "duration": 42,
    "start_time": "2024-10-25T01:19:55.809Z"
   },
   {
    "duration": 68,
    "start_time": "2024-10-25T01:21:14.344Z"
   },
   {
    "duration": 42,
    "start_time": "2024-10-25T01:21:37.904Z"
   },
   {
    "duration": 15,
    "start_time": "2024-10-25T01:30:34.934Z"
   },
   {
    "duration": 10,
    "start_time": "2024-10-25T01:30:45.914Z"
   },
   {
    "duration": 174,
    "start_time": "2024-10-25T01:30:51.066Z"
   },
   {
    "duration": 14,
    "start_time": "2024-10-25T01:31:02.895Z"
   },
   {
    "duration": 7,
    "start_time": "2024-10-25T01:31:08.164Z"
   },
   {
    "duration": 4,
    "start_time": "2024-10-25T01:31:09.623Z"
   },
   {
    "duration": 3,
    "start_time": "2024-10-25T01:31:10.991Z"
   },
   {
    "duration": 3,
    "start_time": "2024-10-25T01:31:12.464Z"
   },
   {
    "duration": 3,
    "start_time": "2024-10-25T01:31:14.372Z"
   },
   {
    "duration": 6,
    "start_time": "2024-10-25T01:32:22.145Z"
   },
   {
    "duration": 6,
    "start_time": "2024-10-25T01:32:25.139Z"
   },
   {
    "duration": 3,
    "start_time": "2024-10-25T01:32:26.799Z"
   },
   {
    "duration": 3,
    "start_time": "2024-10-25T01:32:28.086Z"
   },
   {
    "duration": 3,
    "start_time": "2024-10-25T01:32:29.584Z"
   },
   {
    "duration": 3,
    "start_time": "2024-10-25T01:32:31.535Z"
   },
   {
    "duration": 7,
    "start_time": "2024-10-25T01:43:42.272Z"
   }
  ],
  "colab": {
   "provenance": []
  },
  "kernelspec": {
   "display_name": "base",
   "language": "python",
   "name": "python3"
  },
  "language_info": {
   "codemirror_mode": {
    "name": "ipython",
    "version": 3
   },
   "file_extension": ".py",
   "mimetype": "text/x-python",
   "name": "python",
   "nbconvert_exporter": "python",
   "pygments_lexer": "ipython3",
   "version": "3.12.4"
  },
  "toc": {
   "base_numbering": 1,
   "nav_menu": {},
   "number_sections": true,
   "sideBar": true,
   "skip_h1_title": false,
   "title_cell": "Table of Contents",
   "title_sidebar": "Contents",
   "toc_cell": false,
   "toc_position": {
    "height": "calc(100% - 180px)",
    "left": "10px",
    "top": "150px",
    "width": "229.797px"
   },
   "toc_section_display": true,
   "toc_window_display": true
  }
 },
 "nbformat": 4,
 "nbformat_minor": 4
}

{
 "cells": [
  {
   "cell_type": "markdown",
   "id": "caa5739c",
   "metadata": {},
   "source": [
    "¡Hola!\n",
    "\n",
    "Mi nombre es Tonatiuh Cruz. Me complace revisar tu proyecto hoy.\n",
    "\n",
    "Al identificar cualquier error inicialmente, simplemente los destacaré. Te animo a localizar y abordar los problemas de forma independiente como parte de tu preparación para un rol como data-analyst. En un entorno profesional, tu líder de equipo seguiría un enfoque similar. Si encuentras la tarea desafiante, proporcionaré una pista más específica en la próxima iteración.\n",
    "\n",
    "Encontrarás mis comentarios a continuación - **por favor no los muevas, modifiques o elimines**.\n",
    "\n",
    "Puedes encontrar mis comentarios en cajas verdes, amarillas o rojas como esta:\n",
    "\n",
    "<div class=\"alert alert-block alert-success\">\n",
    "<b>Comentario del revisor</b> <a class=\"tocSkip\"></a>\n",
    "\n",
    "Éxito. Todo está hecho correctamente.\n",
    "</div>\n",
    "\n",
    "<div class=\"alert alert-block alert-warning\">\n",
    "<b>Comentario del revisor</b> <a class=\"tocSkip\"></a>\n",
    "\n",
    "Observaciones. Algunas recomendaciones.\n",
    "</div>\n",
    "\n",
    "<div class=\"alert alert-block alert-danger\">\n",
    "<b>Comentario del revisor</b> <a class=\"tocSkip\"></a>\n",
    "\n",
    "Necesita corrección. El bloque requiere algunas correcciones. El trabajo no puede ser aceptado con comentarios en rojo.\n",
    "</div>\n",
    "\n",
    "Puedes responderme utilizando esto:\n",
    "\n",
    "<div class=\"alert alert-block alert-info\">\n",
    "<b>Respuesta del estudiante.</b> <a class=\"tocSkip\"></a>\n",
    "</div>"
   ]
  },
  {
   "cell_type": "markdown",
   "id": "85523b42",
   "metadata": {},
   "source": [
    "<div class=\"alert alert-block alert-warning\">\n",
    "<b>Resumen de la revisión 1</b> <a class=\"tocSkip\"></a>\n",
    "\n",
    "Hola! Realizaste un gran trabajo con el desarrollo del ejercicio, desde la carga de datos hasta el desarrollo de las prueba de hipótesis, cada vez estas más cercas de convertirte en una analista de datos. Solamente te dejo algunos comentarios para terminar de compleentar los análisis\n",
    "</div>"
   ]
  },
  {
   "cell_type": "markdown",
   "id": "776e3eca-df7d-4fa9-9113-a3a9739b4847",
   "metadata": {},
   "source": [
    "# Proposito del Proyecto Juegos de Consolas"
   ]
  },
  {
   "cell_type": "markdown",
   "id": "339d10da-b745-476e-9631-3b4099c5f75d",
   "metadata": {},
   "source": [
    "[Conocer que plataforma es la mas vendida asi como que genero es mas vendido y cual de esos generos es el que mas se vende y en que contineste se vende mas cada genero\n",
    "]"
   ]
  },
  {
   "cell_type": "markdown",
   "id": "f1a4fafc-e359-4bec-9acf-2d42aaeefcf1",
   "metadata": {},
   "source": [
    "## Inicialización"
   ]
  },
  {
   "cell_type": "code",
   "execution_count": 2,
   "id": "932a7af5-dcaa-40c5-9356-06a16dffa952",
   "metadata": {},
   "outputs": [],
   "source": [
    "import pandas as pd\n",
    "import numpy as np\n",
    "from matplotlib import pyplot as plt\n",
    "import seaborn as sns\n",
    "from scipy import stats\n",
    "import sidetable as stb"
   ]
  },
  {
   "cell_type": "code",
   "execution_count": 2,
   "id": "2cbb265d",
   "metadata": {},
   "outputs": [
    {
     "name": "stdout",
     "output_type": "stream",
     "text": [
      "Requirement already satisfied: sidetable in /opt/conda/lib/python3.10/site-packages (0.9.1)\n",
      "Requirement already satisfied: pandas>=1.0 in /opt/conda/lib/python3.10/site-packages (from sidetable) (2.2.3)\n",
      "Requirement already satisfied: tzdata>=2022.7 in /opt/conda/lib/python3.10/site-packages (from pandas>=1.0->sidetable) (2024.2)\n",
      "Requirement already satisfied: pytz>=2020.1 in /opt/conda/lib/python3.10/site-packages (from pandas>=1.0->sidetable) (2022.7.1)\n",
      "Requirement already satisfied: numpy>=1.22.4 in /opt/conda/lib/python3.10/site-packages (from pandas>=1.0->sidetable) (2.1.3)\n",
      "Requirement already satisfied: python-dateutil>=2.8.2 in /opt/conda/lib/python3.10/site-packages (from pandas>=1.0->sidetable) (2.8.2)\n",
      "Requirement already satisfied: six>=1.5 in /opt/conda/lib/python3.10/site-packages (from python-dateutil>=2.8.2->pandas>=1.0->sidetable) (1.16.0)\n"
     ]
    }
   ],
   "source": [
    "!pip install sidetable"
   ]
  },
  {
   "cell_type": "markdown",
   "id": "d85508f7-eb08-46df-b4aa-cc0d7c9ce8c1",
   "metadata": {},
   "source": [
    "## 1.2 Cargar datos"
   ]
  },
  {
   "cell_type": "code",
   "execution_count": 3,
   "id": "bef34800-b688-4518-9f03-96ae6c633d7a",
   "metadata": {},
   "outputs": [],
   "source": [
    "datos_crudos = pd.read_csv(\"/datasets/games.csv\")\n",
    "#/datasets/"
   ]
  },
  {
   "cell_type": "markdown",
   "id": "8eb7721b",
   "metadata": {},
   "source": [
    "\n",
    "<div class=\"alert alert-block alert-success\">\n",
    "<b>Comentario del revisor:</b> <a class=\"tocSkip\"></a>\n",
    "    \n",
    "Has realizado un excelente trabajo al importar los datos y las bibliotecas necesarias.\n",
    "\n",
    "</div>"
   ]
  },
  {
   "cell_type": "markdown",
   "id": "b4d462bb-dcc4-4a68-adc5-b7f66963c744",
   "metadata": {},
   "source": [
    "## 1.3 Preparar los datos"
   ]
  },
  {
   "cell_type": "code",
   "execution_count": 4,
   "id": "e87b4a2c-5d05-438a-8a1b-15ae79b56f26",
   "metadata": {},
   "outputs": [],
   "source": [
    "def info_gral(datos):\n",
    "    print(\"Primeras Filas\")\n",
    "    print(datos.head())\n",
    "    print()\n",
    "    print(\"Datos Generales\")\n",
    "    print(datos.info())\n",
    "    print()\n",
    "    print(\"Revision de Datos Ausentes\")\n",
    "    print(datos.isna().sum())\n",
    "    print()\n",
    "    print(\"Revision de Duplicados\")\n",
    "    print(datos.duplicated().sum())"
   ]
  },
  {
   "cell_type": "markdown",
   "id": "1f8f45c7",
   "metadata": {},
   "source": [
    "\n",
    "<div class=\"alert alert-block alert-success\">\n",
    "<b>Comentario del revisor:</b> <a class=\"tocSkip\"></a>\n",
    "    \n",
    "Gran trabajo con el uso de info()  para mostrar la información general de las bases con las que vamosa trabajar. Además realizaste el análisis de duplicados para asegurar que no tendremos resultados sesgados\n",
    "\n",
    "</div>"
   ]
  },
  {
   "cell_type": "code",
   "execution_count": 5,
   "id": "1ae68c34-38b8-4f61-8d02-74f968dd3322",
   "metadata": {},
   "outputs": [
    {
     "name": "stdout",
     "output_type": "stream",
     "text": [
      "Primeras Filas\n",
      "                       Name Platform  Year_of_Release         Genre  NA_sales  \\\n",
      "0                Wii Sports      Wii           2006.0        Sports     41.36   \n",
      "1         Super Mario Bros.      NES           1985.0      Platform     29.08   \n",
      "2            Mario Kart Wii      Wii           2008.0        Racing     15.68   \n",
      "3         Wii Sports Resort      Wii           2009.0        Sports     15.61   \n",
      "4  Pokemon Red/Pokemon Blue       GB           1996.0  Role-Playing     11.27   \n",
      "\n",
      "   EU_sales  JP_sales  Other_sales  Critic_Score User_Score Rating  \n",
      "0     28.96      3.77         8.45          76.0          8      E  \n",
      "1      3.58      6.81         0.77           NaN        NaN    NaN  \n",
      "2     12.76      3.79         3.29          82.0        8.3      E  \n",
      "3     10.93      3.28         2.95          80.0          8      E  \n",
      "4      8.89     10.22         1.00           NaN        NaN    NaN  \n",
      "\n",
      "Datos Generales\n",
      "<class 'pandas.core.frame.DataFrame'>\n",
      "RangeIndex: 16715 entries, 0 to 16714\n",
      "Data columns (total 11 columns):\n",
      " #   Column           Non-Null Count  Dtype  \n",
      "---  ------           --------------  -----  \n",
      " 0   Name             16713 non-null  object \n",
      " 1   Platform         16715 non-null  object \n",
      " 2   Year_of_Release  16446 non-null  float64\n",
      " 3   Genre            16713 non-null  object \n",
      " 4   NA_sales         16715 non-null  float64\n",
      " 5   EU_sales         16715 non-null  float64\n",
      " 6   JP_sales         16715 non-null  float64\n",
      " 7   Other_sales      16715 non-null  float64\n",
      " 8   Critic_Score     8137 non-null   float64\n",
      " 9   User_Score       10014 non-null  object \n",
      " 10  Rating           9949 non-null   object \n",
      "dtypes: float64(6), object(5)\n",
      "memory usage: 1.4+ MB\n",
      "None\n",
      "\n",
      "Revision de Datos Ausentes\n",
      "Name                  2\n",
      "Platform              0\n",
      "Year_of_Release     269\n",
      "Genre                 2\n",
      "NA_sales              0\n",
      "EU_sales              0\n",
      "JP_sales              0\n",
      "Other_sales           0\n",
      "Critic_Score       8578\n",
      "User_Score         6701\n",
      "Rating             6766\n",
      "dtype: int64\n",
      "\n",
      "Revision de Duplicados\n",
      "0\n"
     ]
    }
   ],
   "source": [
    "info_gral(datos_crudos)"
   ]
  },
  {
   "cell_type": "code",
   "execution_count": 6,
   "id": "7420e0cf-6968-4c12-be3b-d3a324af38fd",
   "metadata": {},
   "outputs": [],
   "source": [
    "datos_crudos.stb.missing(style=True)"
   ]
  },
  {
   "cell_type": "markdown",
   "id": "bc69f119-25b9-46f1-9b23-498e611fcce6",
   "metadata": {},
   "source": [
    "[SE REVISO TODO EL ARCHIVO QUE SE NECESITARIA HACER DE LIMPIEZA SABER SI HABIA DATOS AUSENTES, DUPLICADOS Y EL FORMATO DE CADA COLUMNA SE OCUPO LA LIBRERIA DE SIDETABLE PARA REVISAR EL PORSENTAJE DE DATOS AUSENTE EN EL CUAL NOS DIMOS CUENTA QUE CRITIC_SCORE SON MAS DE 50% DE LOS DATOS LO CUAL LO MAS RECOMENDABLE ERA NO SACAR LA MEDIA NI LA MEDIANA YA QUE AL FINAL NUESTRO ANALISIS ESTARIA MAL ANALIZADO DE ESA FORMA DECIDIMOS HACER LA SIGUIENTE LIMPIEZA]"
   ]
  },
  {
   "cell_type": "markdown",
   "id": "5be02abb-298c-4fac-b25b-9b56adccecd5",
   "metadata": {},
   "source": [
    "## 1.4 Limpieza de Datos"
   ]
  },
  {
   "cell_type": "code",
   "execution_count": 7,
   "id": "fffdddba-e2b6-4d59-88f6-58fc6cd9fa76",
   "metadata": {},
   "outputs": [],
   "source": [
    "#los titulos de las columna las convertimos en minusculas\n",
    "datos_crudos.columns = datos_crudos.columns.str.lower()"
   ]
  },
  {
   "cell_type": "markdown",
   "id": "dfef187b",
   "metadata": {},
   "source": [
    "\n",
    "<div class=\"alert alert-block alert-success\">\n",
    "<b>Comentario del revisor:</b> <a class=\"tocSkip\"></a>\n",
    "    \n",
    "Como aprendiste en cursos anteriores, el uso de lower() es muy útil para hacer la limpieza de variables\n",
    "\n",
    "</div>"
   ]
  },
  {
   "cell_type": "code",
   "execution_count": 8,
   "id": "430cdca6-efd9-4ae9-944e-5120fd49ad45",
   "metadata": {},
   "outputs": [],
   "source": [
    "#revisamos cuantos datos ausentes hay\n",
    "#datos_crudos[datos_crudos['name'].isna()] "
   ]
  },
  {
   "cell_type": "code",
   "execution_count": 9,
   "id": "965b46c9-097c-4592-a1ad-e7cb2592fefc",
   "metadata": {},
   "outputs": [],
   "source": [
    "# remplazamos los NaN con La moda de esa columna se hizo esto solamente porque son dos datos y no afectara a nuestro analisis  \n",
    "datos_crudos['name'] = datos_crudos['name'].fillna(\"Need for Speed: Most Wanted\") \n",
    "# remplazamos los NaN con la moda ya que Action es el mas repetido en la tabla y no afectara nuestro analisis porque son dos datos\n",
    "datos_crudos['genre'] = datos_crudos['genre'].fillna(\"Action\") "
   ]
  },
  {
   "cell_type": "code",
   "execution_count": 10,
   "id": "2ac4b1d4-bf82-4423-9401-b0b54a0b8aae",
   "metadata": {},
   "outputs": [],
   "source": [
    "# remplazamos los NaN con 0 un numero grande de año y convetimos la columna en tipo entero\n",
    "datos_crudos['year_of_release'] = datos_crudos['year_of_release'].fillna(\"0\").astype(int)"
   ]
  },
  {
   "cell_type": "markdown",
   "id": "a1d923cc",
   "metadata": {},
   "source": [
    "<div class=\"alert alert-block alert-info\">\n",
    "    <b>Comentario del revisor:</b> <a class=\"tocSkip\"></a>\n",
    "    \n",
    "En ocasiones podemos completar los valores faltantes con información con proxys. Por ejemplo en este caso los podríamos completar con los años de lanzamientos de los juegos en otras plataformas\n",
    "</div>"
   ]
  },
  {
   "cell_type": "code",
   "execution_count": 11,
   "id": "cefd3126-a142-40ba-b648-072086474e99",
   "metadata": {},
   "outputs": [],
   "source": [
    "#datos_crudos[datos_crudos['critic_score'].isna()]"
   ]
  },
  {
   "cell_type": "code",
   "execution_count": 12,
   "id": "8f431ee7-49f4-4394-8fe0-95d6f38cc486",
   "metadata": {},
   "outputs": [],
   "source": [
    "#remplazamos datos ausentes de 'rating' con TBD: significa \"to be determined\"\n",
    "datos_crudos['rating'] = datos_crudos['rating'].fillna(\"TBD\") "
   ]
  },
  {
   "cell_type": "code",
   "execution_count": 13,
   "id": "42837fe8-d948-43b6-adf3-d27e613eb9a8",
   "metadata": {},
   "outputs": [
    {
     "data": {
      "text/plain": [
       "tbd    2424\n",
       "7.8     324\n",
       "8       290\n",
       "8.2     282\n",
       "8.3     254\n",
       "       ... \n",
       "1.1       2\n",
       "0.9       2\n",
       "0.3       2\n",
       "9.7       1\n",
       "0         1\n",
       "Name: user_score, Length: 96, dtype: int64"
      ]
     },
     "execution_count": 13,
     "metadata": {},
     "output_type": "execute_result"
    }
   ],
   "source": [
    "datos_crudos['user_score'].value_counts()"
   ]
  },
  {
   "cell_type": "code",
   "execution_count": 14,
   "id": "ae4939a7-21ac-4de6-ab8f-261a5521554d",
   "metadata": {},
   "outputs": [],
   "source": [
    "datos_crudos.loc[datos_crudos['user_score'] == 'tbd', 'user_score']= np.nan\n",
    "datos_crudos['user_score'] = datos_crudos['user_score'].astype(float)\n"
   ]
  },
  {
   "cell_type": "code",
   "execution_count": 16,
   "id": "ccfd381a",
   "metadata": {},
   "outputs": [],
   "source": [
    "#remplazamos 'critic_score' con -1 puntuacion critica\n",
    "\n",
    "#datos_crudos['user_score'] = datos_crudos['user_score'].fillna(-1)\n",
    "datos_crudos['user_score'] = datos_crudos.groupby('genre')['user_score'].transform('median')"
   ]
  },
  {
   "cell_type": "code",
   "execution_count": 17,
   "id": "20e59805",
   "metadata": {},
   "outputs": [],
   "source": [
    "#remplazamos 'critic_score' con -1 puntuacion critica\n",
    "\n",
    "#datos_crudos['critic_score'] = datos_crudos['critic_score'].fillna(-1)\n",
    "datos_crudos['critic_score'] = datos_crudos.groupby('genre')['critic_score'].transform('median')"
   ]
  },
  {
   "cell_type": "code",
   "execution_count": 18,
   "id": "2664f12b",
   "metadata": {},
   "outputs": [
    {
     "data": {
      "text/plain": [
       "genre\n",
       "Action          68.0\n",
       "Adventure       66.0\n",
       "Fighting        72.0\n",
       "Misc            69.0\n",
       "Platform        69.0\n",
       "Puzzle          70.0\n",
       "Racing          69.0\n",
       "Role-Playing    74.0\n",
       "Shooter         73.0\n",
       "Simulation      70.0\n",
       "Sports          75.0\n",
       "Strategy        73.0\n",
       "Name: critic_score, dtype: float64"
      ]
     },
     "execution_count": 18,
     "metadata": {},
     "output_type": "execute_result"
    }
   ],
   "source": [
    "datos_crudos.groupby('genre')['critic_score'].median()"
   ]
  },
  {
   "cell_type": "code",
   "execution_count": 19,
   "id": "b7abc554",
   "metadata": {},
   "outputs": [
    {
     "data": {
      "text/plain": [
       "name               0\n",
       "platform           0\n",
       "year_of_release    0\n",
       "genre              0\n",
       "na_sales           0\n",
       "eu_sales           0\n",
       "jp_sales           0\n",
       "other_sales        0\n",
       "critic_score       0\n",
       "user_score         0\n",
       "rating             0\n",
       "dtype: int64"
      ]
     },
     "execution_count": 19,
     "metadata": {},
     "output_type": "execute_result"
    }
   ],
   "source": [
    "datos_crudos.isna().sum()"
   ]
  },
  {
   "cell_type": "code",
   "execution_count": 20,
   "id": "6713969e",
   "metadata": {},
   "outputs": [
    {
     "data": {
      "text/html": [
       "<div>\n",
       "<style scoped>\n",
       "    .dataframe tbody tr th:only-of-type {\n",
       "        vertical-align: middle;\n",
       "    }\n",
       "\n",
       "    .dataframe tbody tr th {\n",
       "        vertical-align: top;\n",
       "    }\n",
       "\n",
       "    .dataframe thead th {\n",
       "        text-align: right;\n",
       "    }\n",
       "</style>\n",
       "<table border=\"1\" class=\"dataframe\">\n",
       "  <thead>\n",
       "    <tr style=\"text-align: right;\">\n",
       "      <th></th>\n",
       "      <th>name</th>\n",
       "      <th>platform</th>\n",
       "      <th>year_of_release</th>\n",
       "      <th>genre</th>\n",
       "      <th>na_sales</th>\n",
       "      <th>eu_sales</th>\n",
       "      <th>jp_sales</th>\n",
       "      <th>other_sales</th>\n",
       "      <th>critic_score</th>\n",
       "      <th>user_score</th>\n",
       "      <th>rating</th>\n",
       "    </tr>\n",
       "  </thead>\n",
       "  <tbody>\n",
       "    <tr>\n",
       "      <th>0</th>\n",
       "      <td>Wii Sports</td>\n",
       "      <td>Wii</td>\n",
       "      <td>2006</td>\n",
       "      <td>Sports</td>\n",
       "      <td>41.36</td>\n",
       "      <td>28.96</td>\n",
       "      <td>3.77</td>\n",
       "      <td>8.45</td>\n",
       "      <td>75.0</td>\n",
       "      <td>7.4</td>\n",
       "      <td>E</td>\n",
       "    </tr>\n",
       "    <tr>\n",
       "      <th>1</th>\n",
       "      <td>Super Mario Bros.</td>\n",
       "      <td>NES</td>\n",
       "      <td>1985</td>\n",
       "      <td>Platform</td>\n",
       "      <td>29.08</td>\n",
       "      <td>3.58</td>\n",
       "      <td>6.81</td>\n",
       "      <td>0.77</td>\n",
       "      <td>69.0</td>\n",
       "      <td>7.7</td>\n",
       "      <td>TBD</td>\n",
       "    </tr>\n",
       "    <tr>\n",
       "      <th>2</th>\n",
       "      <td>Mario Kart Wii</td>\n",
       "      <td>Wii</td>\n",
       "      <td>2008</td>\n",
       "      <td>Racing</td>\n",
       "      <td>15.68</td>\n",
       "      <td>12.76</td>\n",
       "      <td>3.79</td>\n",
       "      <td>3.29</td>\n",
       "      <td>69.0</td>\n",
       "      <td>7.4</td>\n",
       "      <td>E</td>\n",
       "    </tr>\n",
       "    <tr>\n",
       "      <th>3</th>\n",
       "      <td>Wii Sports Resort</td>\n",
       "      <td>Wii</td>\n",
       "      <td>2009</td>\n",
       "      <td>Sports</td>\n",
       "      <td>15.61</td>\n",
       "      <td>10.93</td>\n",
       "      <td>3.28</td>\n",
       "      <td>2.95</td>\n",
       "      <td>75.0</td>\n",
       "      <td>7.4</td>\n",
       "      <td>E</td>\n",
       "    </tr>\n",
       "    <tr>\n",
       "      <th>4</th>\n",
       "      <td>Pokemon Red/Pokemon Blue</td>\n",
       "      <td>GB</td>\n",
       "      <td>1996</td>\n",
       "      <td>Role-Playing</td>\n",
       "      <td>11.27</td>\n",
       "      <td>8.89</td>\n",
       "      <td>10.22</td>\n",
       "      <td>1.00</td>\n",
       "      <td>74.0</td>\n",
       "      <td>7.8</td>\n",
       "      <td>TBD</td>\n",
       "    </tr>\n",
       "    <tr>\n",
       "      <th>...</th>\n",
       "      <td>...</td>\n",
       "      <td>...</td>\n",
       "      <td>...</td>\n",
       "      <td>...</td>\n",
       "      <td>...</td>\n",
       "      <td>...</td>\n",
       "      <td>...</td>\n",
       "      <td>...</td>\n",
       "      <td>...</td>\n",
       "      <td>...</td>\n",
       "      <td>...</td>\n",
       "    </tr>\n",
       "    <tr>\n",
       "      <th>16710</th>\n",
       "      <td>Samurai Warriors: Sanada Maru</td>\n",
       "      <td>PS3</td>\n",
       "      <td>2016</td>\n",
       "      <td>Action</td>\n",
       "      <td>0.00</td>\n",
       "      <td>0.00</td>\n",
       "      <td>0.01</td>\n",
       "      <td>0.00</td>\n",
       "      <td>68.0</td>\n",
       "      <td>7.4</td>\n",
       "      <td>TBD</td>\n",
       "    </tr>\n",
       "    <tr>\n",
       "      <th>16711</th>\n",
       "      <td>LMA Manager 2007</td>\n",
       "      <td>X360</td>\n",
       "      <td>2006</td>\n",
       "      <td>Sports</td>\n",
       "      <td>0.00</td>\n",
       "      <td>0.01</td>\n",
       "      <td>0.00</td>\n",
       "      <td>0.00</td>\n",
       "      <td>75.0</td>\n",
       "      <td>7.4</td>\n",
       "      <td>TBD</td>\n",
       "    </tr>\n",
       "    <tr>\n",
       "      <th>16712</th>\n",
       "      <td>Haitaka no Psychedelica</td>\n",
       "      <td>PSV</td>\n",
       "      <td>2016</td>\n",
       "      <td>Adventure</td>\n",
       "      <td>0.00</td>\n",
       "      <td>0.00</td>\n",
       "      <td>0.01</td>\n",
       "      <td>0.00</td>\n",
       "      <td>66.0</td>\n",
       "      <td>7.6</td>\n",
       "      <td>TBD</td>\n",
       "    </tr>\n",
       "    <tr>\n",
       "      <th>16713</th>\n",
       "      <td>Spirits &amp; Spells</td>\n",
       "      <td>GBA</td>\n",
       "      <td>2003</td>\n",
       "      <td>Platform</td>\n",
       "      <td>0.01</td>\n",
       "      <td>0.00</td>\n",
       "      <td>0.00</td>\n",
       "      <td>0.00</td>\n",
       "      <td>69.0</td>\n",
       "      <td>7.7</td>\n",
       "      <td>TBD</td>\n",
       "    </tr>\n",
       "    <tr>\n",
       "      <th>16714</th>\n",
       "      <td>Winning Post 8 2016</td>\n",
       "      <td>PSV</td>\n",
       "      <td>2016</td>\n",
       "      <td>Simulation</td>\n",
       "      <td>0.00</td>\n",
       "      <td>0.00</td>\n",
       "      <td>0.01</td>\n",
       "      <td>0.00</td>\n",
       "      <td>70.0</td>\n",
       "      <td>7.5</td>\n",
       "      <td>TBD</td>\n",
       "    </tr>\n",
       "  </tbody>\n",
       "</table>\n",
       "<p>16715 rows × 11 columns</p>\n",
       "</div>"
      ],
      "text/plain": [
       "                                name platform  year_of_release         genre  \\\n",
       "0                         Wii Sports      Wii             2006        Sports   \n",
       "1                  Super Mario Bros.      NES             1985      Platform   \n",
       "2                     Mario Kart Wii      Wii             2008        Racing   \n",
       "3                  Wii Sports Resort      Wii             2009        Sports   \n",
       "4           Pokemon Red/Pokemon Blue       GB             1996  Role-Playing   \n",
       "...                              ...      ...              ...           ...   \n",
       "16710  Samurai Warriors: Sanada Maru      PS3             2016        Action   \n",
       "16711               LMA Manager 2007     X360             2006        Sports   \n",
       "16712        Haitaka no Psychedelica      PSV             2016     Adventure   \n",
       "16713               Spirits & Spells      GBA             2003      Platform   \n",
       "16714            Winning Post 8 2016      PSV             2016    Simulation   \n",
       "\n",
       "       na_sales  eu_sales  jp_sales  other_sales  critic_score  user_score  \\\n",
       "0         41.36     28.96      3.77         8.45          75.0         7.4   \n",
       "1         29.08      3.58      6.81         0.77          69.0         7.7   \n",
       "2         15.68     12.76      3.79         3.29          69.0         7.4   \n",
       "3         15.61     10.93      3.28         2.95          75.0         7.4   \n",
       "4         11.27      8.89     10.22         1.00          74.0         7.8   \n",
       "...         ...       ...       ...          ...           ...         ...   \n",
       "16710      0.00      0.00      0.01         0.00          68.0         7.4   \n",
       "16711      0.00      0.01      0.00         0.00          75.0         7.4   \n",
       "16712      0.00      0.00      0.01         0.00          66.0         7.6   \n",
       "16713      0.01      0.00      0.00         0.00          69.0         7.7   \n",
       "16714      0.00      0.00      0.01         0.00          70.0         7.5   \n",
       "\n",
       "      rating  \n",
       "0          E  \n",
       "1        TBD  \n",
       "2          E  \n",
       "3          E  \n",
       "4        TBD  \n",
       "...      ...  \n",
       "16710    TBD  \n",
       "16711    TBD  \n",
       "16712    TBD  \n",
       "16713    TBD  \n",
       "16714    TBD  \n",
       "\n",
       "[16715 rows x 11 columns]"
      ]
     },
     "execution_count": 20,
     "metadata": {},
     "output_type": "execute_result"
    }
   ],
   "source": [
    "datos_crudos"
   ]
  },
  {
   "cell_type": "markdown",
   "id": "2fc4bd49",
   "metadata": {},
   "source": [
    "<div class=\"alert alert-block alert-danger\">\n",
    "    <b>Comentario del revisor:</b> <a class=\"tocSkip\"></a>\n",
    "    \n",
    "Estos valores nulos te recomiendo completarlos con la mediana para no sesgar nuestros resultados"
   ]
  },
  {
   "cell_type": "markdown",
   "id": "b637508e",
   "metadata": {},
   "source": [
    "<div class=\"alert alert-block alert-info\">\n",
    "    <b>Comentario del revisor:</b> <a class=\"tocSkip\"></a>\n",
    "Ya corregui como me lo indico con la mediana sin embargo no estoy de acuerdo con esta decision fue muy buen ejercicio y muy bueno porque aprendi a hacer una funcion para que se rellenara por cada segmento y no afectara lo cual me enseñaron un nuevo metodo mas rapido y limpio sin embargo en el resultado final de la hipotesis se ve muy afectado. por tal motivo no borre el codigo anterior y solo lo comente ya que a mi parecer no es lo adecuado lo que usted me indica pero bueno usted es el revisor y pues como en cualquier empresa hago lo que se me indica.\n",
    "    \n",
    "</div>"
   ]
  },
  {
   "cell_type": "markdown",
   "id": "52583f77",
   "metadata": {},
   "source": [
    "\n",
    "<div class=\"alert alert-block alert-success\">\n",
    "<b>Comentario del revisor:</b> <a class=\"tocSkip\"></a>\n",
    "    \n",
    "Hola! El motivo por el que te recomiendo usar la mediana en lugar del valor crítico para completar los valores nulos es dado que estamos trabajando con distribuciones sesgadas, entonces en estos casos para asegurar que no tendremos resultados sesgados se recomienda completar estos valores con la mediana. En este caso el efecto es marginal pero no otros casos nos puede ayudar en gran medida esta metodo. Para terminar de complementar y asegurar este punto podemos desarrollar un análisis comparativo entre ambos resultados al completar de diferente forma los valores nulos. "
   ]
  },
  {
   "cell_type": "code",
   "execution_count": 21,
   "id": "af377814-e15b-40b5-95a7-1d8423b36d2c",
   "metadata": {},
   "outputs": [],
   "source": [
    "datos_crudos.stb.missing(style=True)"
   ]
  },
  {
   "cell_type": "code",
   "execution_count": 22,
   "id": "ab48e54a-7b4c-4579-b004-d655680f200e",
   "metadata": {},
   "outputs": [
    {
     "data": {
      "text/html": [
       "<div>\n",
       "<style scoped>\n",
       "    .dataframe tbody tr th:only-of-type {\n",
       "        vertical-align: middle;\n",
       "    }\n",
       "\n",
       "    .dataframe tbody tr th {\n",
       "        vertical-align: top;\n",
       "    }\n",
       "\n",
       "    .dataframe thead th {\n",
       "        text-align: right;\n",
       "    }\n",
       "</style>\n",
       "<table border=\"1\" class=\"dataframe\">\n",
       "  <thead>\n",
       "    <tr style=\"text-align: right;\">\n",
       "      <th></th>\n",
       "      <th>name</th>\n",
       "      <th>platform</th>\n",
       "      <th>year_of_release</th>\n",
       "      <th>genre</th>\n",
       "      <th>na_sales</th>\n",
       "      <th>eu_sales</th>\n",
       "      <th>jp_sales</th>\n",
       "      <th>other_sales</th>\n",
       "      <th>critic_score</th>\n",
       "      <th>user_score</th>\n",
       "      <th>rating</th>\n",
       "      <th>ventas_totales</th>\n",
       "    </tr>\n",
       "  </thead>\n",
       "  <tbody>\n",
       "    <tr>\n",
       "      <th>0</th>\n",
       "      <td>Wii Sports</td>\n",
       "      <td>Wii</td>\n",
       "      <td>2006</td>\n",
       "      <td>Sports</td>\n",
       "      <td>41.36</td>\n",
       "      <td>28.96</td>\n",
       "      <td>3.77</td>\n",
       "      <td>8.45</td>\n",
       "      <td>75.0</td>\n",
       "      <td>7.4</td>\n",
       "      <td>E</td>\n",
       "      <td>82.54</td>\n",
       "    </tr>\n",
       "    <tr>\n",
       "      <th>1</th>\n",
       "      <td>Super Mario Bros.</td>\n",
       "      <td>NES</td>\n",
       "      <td>1985</td>\n",
       "      <td>Platform</td>\n",
       "      <td>29.08</td>\n",
       "      <td>3.58</td>\n",
       "      <td>6.81</td>\n",
       "      <td>0.77</td>\n",
       "      <td>69.0</td>\n",
       "      <td>7.7</td>\n",
       "      <td>TBD</td>\n",
       "      <td>40.24</td>\n",
       "    </tr>\n",
       "    <tr>\n",
       "      <th>2</th>\n",
       "      <td>Mario Kart Wii</td>\n",
       "      <td>Wii</td>\n",
       "      <td>2008</td>\n",
       "      <td>Racing</td>\n",
       "      <td>15.68</td>\n",
       "      <td>12.76</td>\n",
       "      <td>3.79</td>\n",
       "      <td>3.29</td>\n",
       "      <td>69.0</td>\n",
       "      <td>7.4</td>\n",
       "      <td>E</td>\n",
       "      <td>35.52</td>\n",
       "    </tr>\n",
       "    <tr>\n",
       "      <th>3</th>\n",
       "      <td>Wii Sports Resort</td>\n",
       "      <td>Wii</td>\n",
       "      <td>2009</td>\n",
       "      <td>Sports</td>\n",
       "      <td>15.61</td>\n",
       "      <td>10.93</td>\n",
       "      <td>3.28</td>\n",
       "      <td>2.95</td>\n",
       "      <td>75.0</td>\n",
       "      <td>7.4</td>\n",
       "      <td>E</td>\n",
       "      <td>32.77</td>\n",
       "    </tr>\n",
       "    <tr>\n",
       "      <th>4</th>\n",
       "      <td>Pokemon Red/Pokemon Blue</td>\n",
       "      <td>GB</td>\n",
       "      <td>1996</td>\n",
       "      <td>Role-Playing</td>\n",
       "      <td>11.27</td>\n",
       "      <td>8.89</td>\n",
       "      <td>10.22</td>\n",
       "      <td>1.00</td>\n",
       "      <td>74.0</td>\n",
       "      <td>7.8</td>\n",
       "      <td>TBD</td>\n",
       "      <td>31.38</td>\n",
       "    </tr>\n",
       "  </tbody>\n",
       "</table>\n",
       "</div>"
      ],
      "text/plain": [
       "                       name platform  year_of_release         genre  na_sales  \\\n",
       "0                Wii Sports      Wii             2006        Sports     41.36   \n",
       "1         Super Mario Bros.      NES             1985      Platform     29.08   \n",
       "2            Mario Kart Wii      Wii             2008        Racing     15.68   \n",
       "3         Wii Sports Resort      Wii             2009        Sports     15.61   \n",
       "4  Pokemon Red/Pokemon Blue       GB             1996  Role-Playing     11.27   \n",
       "\n",
       "   eu_sales  jp_sales  other_sales  critic_score  user_score rating  \\\n",
       "0     28.96      3.77         8.45          75.0         7.4      E   \n",
       "1      3.58      6.81         0.77          69.0         7.7    TBD   \n",
       "2     12.76      3.79         3.29          69.0         7.4      E   \n",
       "3     10.93      3.28         2.95          75.0         7.4      E   \n",
       "4      8.89     10.22         1.00          74.0         7.8    TBD   \n",
       "\n",
       "   ventas_totales  \n",
       "0           82.54  \n",
       "1           40.24  \n",
       "2           35.52  \n",
       "3           32.77  \n",
       "4           31.38  "
      ]
     },
     "execution_count": 22,
     "metadata": {},
     "output_type": "execute_result"
    }
   ],
   "source": [
    "#Calcula las ventas totales\n",
    "#datos_crudos['ventas_totales'] = datos_crudos['na_sales'] + datos_crudos['eu_sales'] + datos_crudos['jp_sales'] + datos_crudos['other_sales']\n",
    "\n",
    "#otra forma que se puede es \n",
    "datos_crudos['ventas_totales'] = datos_crudos[['na_sales', 'eu_sales','jp_sales','other_sales']].sum(axis=1)\n",
    "datos_crudos.head()"
   ]
  },
  {
   "cell_type": "markdown",
   "id": "1b17e989",
   "metadata": {},
   "source": [
    "<div class=\"alert alert-block alert-success\">\n",
    "<b>Comentario del revisor:</b> <a class=\"tocSkip\"></a>\n",
    "    \n",
    "\n",
    "Muy buen trabajo en la sección, ajustaste los nombres de las columnas a minúsculas con el uso de la función str.lower(), cambiaste el tipo de variable de dos de las variables de la base de datos y muy buen trabajo con la suma de todas las ventas. \n",
    "    \n",
    "   \n",
    "\n",
    "</div>"
   ]
  },
  {
   "cell_type": "markdown",
   "id": "292a624d-ce70-4d95-a028-b4bc60332d6d",
   "metadata": {},
   "source": [
    "LA LIMPIEZA QUE HICIMOS FUE PONER DESCONOCIDO EN LOS DATOS AUSENTES DE NOMBRE Y GENERO YA QUE SU PORCENTAJE ERA PEQUEÑO PARA Year_of_Release LO RELLENAMOS CON [0] LO CUAL NO NOS AFECTARIA AL MOMENTO DE HACE UN ANALISIS, Rating LO RELLENAMOS CON TBD: significa \"to be determined\" Y CRITI_SCORE Y USER_SCORE YA QUE LOS PORCENTAJES DE DATOS AUSENTES SON DEMACIADOS FERERIMOS NO TOMARLOS EN CUENTA PARA HACER ANALISIS ENTONCES COLOCAMOS [-1] "
   ]
  },
  {
   "cell_type": "markdown",
   "id": "10f225e2-9a61-4e02-a753-5879d676126e",
   "metadata": {},
   "source": [
    "## 1.5 Estudia el comportamiento de juegos"
   ]
  },
  {
   "cell_type": "markdown",
   "id": "46571874-fe4c-4682-bb46-cda1d7d7ef5f",
   "metadata": {},
   "source": [
    "### 1.5.1 Año de lanzamiento total de venta por año."
   ]
  },
  {
   "cell_type": "code",
   "execution_count": 23,
   "id": "cc683be3-6717-4dca-a740-4efac291acc0",
   "metadata": {},
   "outputs": [],
   "source": [
    "games_per_year =datos_crudos.groupby('year_of_release').count()['name'].sort_values(ascending=False).reset_index()"
   ]
  },
  {
   "cell_type": "code",
   "execution_count": 24,
   "id": "35ebcccd-2af0-424b-9599-5a3ac2d7d1af",
   "metadata": {},
   "outputs": [],
   "source": [
    "games_per_year = games_per_year.query('year_of_release !=0')\n",
    "games_per_year.columns=['year_of_release','ventas_totales']"
   ]
  },
  {
   "cell_type": "code",
   "execution_count": 25,
   "id": "e9dcbbdd-a671-464e-91d4-d9dbde66b258",
   "metadata": {},
   "outputs": [
    {
     "data": {
      "image/png": "[encoded data removed]",
      "text/plain": [
       "<Figure size 1200x800 with 1 Axes>"
      ]
     },
     "metadata": {},
     "output_type": "display_data"
    }
   ],
   "source": [
    "fig, ax = plt.subplots(figsize=(12, 8))\n",
    "\n",
    "# Dibujar las líneas verticales\n",
    "ax.vlines(x=games_per_year.year_of_release, ymin=0, ymax=games_per_year.ventas_totales, alpha=0.5, linewidth=10, color='green')\n",
    "\n",
    "# Etiquetas de los ejes\n",
    "ax.set_xlabel('Año de Lanzamiento')  # Etiqueta del eje X\n",
    "ax.set_ylabel('Ventas Totales')      # Etiqueta del eje Y\n",
    "\n",
    "# Personalización del eje X\n",
    "ax.set_xticks(games_per_year.year_of_release)\n",
    "ax.set_xticklabels(games_per_year.year_of_release, rotation=60)\n",
    "\n",
    "# Mostrar el gráfico\n",
    "plt.show()"
   ]
  },
  {
   "cell_type": "markdown",
   "id": "bb8cc7bd",
   "metadata": {},
   "source": [
    "<div class=\"alert alert-block alert-success\">\n",
    "    <b>Comentario del revisor:</b> <a class=\"tocSkip\"></a>\n",
    "    \n",
    "Gran trabajo con el desarrollo de la gráfica, esta gráfica nos ayuda a entender también sobre el comportamiento del mercado de videojuegos en el tiempo\n",
    "</div>"
   ]
  },
  {
   "cell_type": "markdown",
   "id": "0d27836b-d14e-43f2-a765-218ca5ca65ee",
   "metadata": {},
   "source": [
    "AL HACER ESTE ANALISIS VEMOS COMO VARIAN LAS VENTAS SEGUN PASAN LOS AÑOS LLEGANDO AL MAXIMO EN EL 2008 Y 2009 Y POSTERIORMENTE TENIENDO SUS BAJAS DE VENTAS HAY QUE RECORDAR Y TENER EN CUENTA QUE NO SE TOMARON EN CUENTA LOS DATOS AUSENTES DE LOS AÑOS QUE SE COLOCO EN [0]"
   ]
  },
  {
   "cell_type": "markdown",
   "id": "fe1b3690-773b-411b-a30b-2f4f0de62cb8",
   "metadata": {},
   "source": [
    "### 1.5.2 Plataformas con mayores ventas"
   ]
  },
  {
   "cell_type": "code",
   "execution_count": 26,
   "id": "fd7a4a67-d3ef-49f7-833d-2243bb404e70",
   "metadata": {},
   "outputs": [
    {
     "data": {
      "text/html": [
       "<div>\n",
       "<style scoped>\n",
       "    .dataframe tbody tr th:only-of-type {\n",
       "        vertical-align: middle;\n",
       "    }\n",
       "\n",
       "    .dataframe tbody tr th {\n",
       "        vertical-align: top;\n",
       "    }\n",
       "\n",
       "    .dataframe thead th {\n",
       "        text-align: right;\n",
       "    }\n",
       "</style>\n",
       "<table border=\"1\" class=\"dataframe\">\n",
       "  <thead>\n",
       "    <tr style=\"text-align: right;\">\n",
       "      <th></th>\n",
       "      <th>platform</th>\n",
       "      <th>ventas_totales</th>\n",
       "    </tr>\n",
       "  </thead>\n",
       "  <tbody>\n",
       "    <tr>\n",
       "      <th>0</th>\n",
       "      <td>PS2</td>\n",
       "      <td>1255.77</td>\n",
       "    </tr>\n",
       "    <tr>\n",
       "      <th>1</th>\n",
       "      <td>X360</td>\n",
       "      <td>971.42</td>\n",
       "    </tr>\n",
       "    <tr>\n",
       "      <th>2</th>\n",
       "      <td>PS3</td>\n",
       "      <td>939.65</td>\n",
       "    </tr>\n",
       "    <tr>\n",
       "      <th>3</th>\n",
       "      <td>Wii</td>\n",
       "      <td>907.51</td>\n",
       "    </tr>\n",
       "    <tr>\n",
       "      <th>4</th>\n",
       "      <td>DS</td>\n",
       "      <td>806.12</td>\n",
       "    </tr>\n",
       "    <tr>\n",
       "      <th>5</th>\n",
       "      <td>PS</td>\n",
       "      <td>730.86</td>\n",
       "    </tr>\n",
       "    <tr>\n",
       "      <th>6</th>\n",
       "      <td>GBA</td>\n",
       "      <td>317.85</td>\n",
       "    </tr>\n",
       "    <tr>\n",
       "      <th>7</th>\n",
       "      <td>PS4</td>\n",
       "      <td>314.14</td>\n",
       "    </tr>\n",
       "    <tr>\n",
       "      <th>8</th>\n",
       "      <td>PSP</td>\n",
       "      <td>294.05</td>\n",
       "    </tr>\n",
       "    <tr>\n",
       "      <th>9</th>\n",
       "      <td>PC</td>\n",
       "      <td>259.52</td>\n",
       "    </tr>\n",
       "    <tr>\n",
       "      <th>10</th>\n",
       "      <td>3DS</td>\n",
       "      <td>259.00</td>\n",
       "    </tr>\n",
       "    <tr>\n",
       "      <th>11</th>\n",
       "      <td>XB</td>\n",
       "      <td>257.74</td>\n",
       "    </tr>\n",
       "    <tr>\n",
       "      <th>12</th>\n",
       "      <td>GB</td>\n",
       "      <td>255.46</td>\n",
       "    </tr>\n",
       "    <tr>\n",
       "      <th>13</th>\n",
       "      <td>NES</td>\n",
       "      <td>251.05</td>\n",
       "    </tr>\n",
       "    <tr>\n",
       "      <th>14</th>\n",
       "      <td>N64</td>\n",
       "      <td>218.68</td>\n",
       "    </tr>\n",
       "    <tr>\n",
       "      <th>15</th>\n",
       "      <td>SNES</td>\n",
       "      <td>200.04</td>\n",
       "    </tr>\n",
       "    <tr>\n",
       "      <th>16</th>\n",
       "      <td>GC</td>\n",
       "      <td>198.93</td>\n",
       "    </tr>\n",
       "    <tr>\n",
       "      <th>17</th>\n",
       "      <td>XOne</td>\n",
       "      <td>159.32</td>\n",
       "    </tr>\n",
       "    <tr>\n",
       "      <th>18</th>\n",
       "      <td>2600</td>\n",
       "      <td>96.98</td>\n",
       "    </tr>\n",
       "    <tr>\n",
       "      <th>19</th>\n",
       "      <td>WiiU</td>\n",
       "      <td>82.19</td>\n",
       "    </tr>\n",
       "    <tr>\n",
       "      <th>20</th>\n",
       "      <td>PSV</td>\n",
       "      <td>54.07</td>\n",
       "    </tr>\n",
       "    <tr>\n",
       "      <th>21</th>\n",
       "      <td>SAT</td>\n",
       "      <td>33.59</td>\n",
       "    </tr>\n",
       "    <tr>\n",
       "      <th>22</th>\n",
       "      <td>GEN</td>\n",
       "      <td>30.77</td>\n",
       "    </tr>\n",
       "    <tr>\n",
       "      <th>23</th>\n",
       "      <td>DC</td>\n",
       "      <td>15.95</td>\n",
       "    </tr>\n",
       "    <tr>\n",
       "      <th>24</th>\n",
       "      <td>SCD</td>\n",
       "      <td>1.86</td>\n",
       "    </tr>\n",
       "    <tr>\n",
       "      <th>25</th>\n",
       "      <td>NG</td>\n",
       "      <td>1.44</td>\n",
       "    </tr>\n",
       "    <tr>\n",
       "      <th>26</th>\n",
       "      <td>WS</td>\n",
       "      <td>1.42</td>\n",
       "    </tr>\n",
       "    <tr>\n",
       "      <th>27</th>\n",
       "      <td>TG16</td>\n",
       "      <td>0.16</td>\n",
       "    </tr>\n",
       "    <tr>\n",
       "      <th>28</th>\n",
       "      <td>3DO</td>\n",
       "      <td>0.10</td>\n",
       "    </tr>\n",
       "    <tr>\n",
       "      <th>29</th>\n",
       "      <td>GG</td>\n",
       "      <td>0.04</td>\n",
       "    </tr>\n",
       "    <tr>\n",
       "      <th>30</th>\n",
       "      <td>PCFX</td>\n",
       "      <td>0.03</td>\n",
       "    </tr>\n",
       "  </tbody>\n",
       "</table>\n",
       "</div>"
      ],
      "text/plain": [
       "   platform  ventas_totales\n",
       "0       PS2         1255.77\n",
       "1      X360          971.42\n",
       "2       PS3          939.65\n",
       "3       Wii          907.51\n",
       "4        DS          806.12\n",
       "5        PS          730.86\n",
       "6       GBA          317.85\n",
       "7       PS4          314.14\n",
       "8       PSP          294.05\n",
       "9        PC          259.52\n",
       "10      3DS          259.00\n",
       "11       XB          257.74\n",
       "12       GB          255.46\n",
       "13      NES          251.05\n",
       "14      N64          218.68\n",
       "15     SNES          200.04\n",
       "16       GC          198.93\n",
       "17     XOne          159.32\n",
       "18     2600           96.98\n",
       "19     WiiU           82.19\n",
       "20      PSV           54.07\n",
       "21      SAT           33.59\n",
       "22      GEN           30.77\n",
       "23       DC           15.95\n",
       "24      SCD            1.86\n",
       "25       NG            1.44\n",
       "26       WS            1.42\n",
       "27     TG16            0.16\n",
       "28      3DO            0.10\n",
       "29       GG            0.04\n",
       "30     PCFX            0.03"
      ]
     },
     "execution_count": 26,
     "metadata": {},
     "output_type": "execute_result"
    }
   ],
   "source": [
    "# Plataforma con mayores ventas\n",
    "ventas_plataforma = datos_crudos.groupby('platform')['ventas_totales'].sum().sort_values(ascending=False).reset_index()\n",
    "ventas_plataforma\n"
   ]
  },
  {
   "cell_type": "code",
   "execution_count": 27,
   "id": "a6bfe120-006c-4f23-98b5-e9941bf7a175",
   "metadata": {},
   "outputs": [
    {
     "data": {
      "image/png": "[encoded data removed]",
      "text/plain": [
       "<Figure size 1200x800 with 1 Axes>"
      ]
     },
     "metadata": {},
     "output_type": "display_data"
    }
   ],
   "source": [
    "fig, ax = plt.subplots(figsize=(12, 8))\n",
    "\n",
    "# Dibujar las líneas verticales\n",
    "ax.vlines(x=ventas_plataforma.platform, ymin=0, ymax=ventas_plataforma.ventas_totales, alpha=0.5, linewidth=10, color='blue')\n",
    "\n",
    "# Etiquetas de los ejes\n",
    "ax.set_xlabel('Plataformas')         # Etiqueta del eje X\n",
    "ax.set_ylabel('Ventas Totales')      # Etiqueta del eje Y\n",
    "\n",
    "# Personalización del eje X\n",
    "ax.set_xticks(ventas_plataforma.platform)\n",
    "ax.set_xticklabels(ventas_plataforma.platform, rotation=60)\n",
    "plt.title('Plataformas con mayores Ventas')\n",
    "\n",
    "# Mostrar el gráfico\n",
    "plt.show()"
   ]
  },
  {
   "cell_type": "markdown",
   "id": "2bb5513b-33f2-4882-9465-1ce4df121c0e",
   "metadata": {},
   "source": [
    "EN ESTE PUNTO DEL ANALISIS VEMOS TODAS LAS PLATAFORMAS CUALES SON DE MAYOR VENTAS QUE EN EL #1 FUE PS2 Y POSTERIORMENTE LE SIGUEN X360, PS3, WII, DS,PS  SIENTO TAMBIEN PARTE DE BUENAS VENTAS."
   ]
  },
  {
   "cell_type": "markdown",
   "id": "6180a12b-d5fa-47cc-9972-083b9cc1c4cc",
   "metadata": {},
   "source": [
    "### 1.5.3 Êxito de las plataformas"
   ]
  },
  {
   "cell_type": "code",
   "execution_count": 28,
   "id": "ecbab052-b23b-450f-bcfe-76550cc19c57",
   "metadata": {},
   "outputs": [],
   "source": [
    "ventas_plataforma['z_score']=(ventas_plataforma['ventas_totales']-ventas_plataforma['ventas_totales'].mean())/ventas_plataforma['ventas_totales'].std()"
   ]
  },
  {
   "cell_type": "code",
   "execution_count": 29,
   "id": "5076b0e8-b380-4a81-9436-bcf4be3a9de1",
   "metadata": {},
   "outputs": [],
   "source": [
    "ventas_plataforma['color']=['red' if puntaje < 0 else 'green' for puntaje in ventas_plataforma ['z_score']]"
   ]
  },
  {
   "cell_type": "code",
   "execution_count": 30,
   "id": "d20b6320-8479-44e8-b91e-43855c905d5c",
   "metadata": {},
   "outputs": [
    {
     "data": {
      "image/png": "[encoded data removed]",
      "text/plain": [
       "<Figure size 1200x800 with 1 Axes>"
      ]
     },
     "metadata": {},
     "output_type": "display_data"
    }
   ],
   "source": [
    "plt.figure(figsize = (12, 8))\n",
    "plt.hlines(y=ventas_plataforma.platform, xmax=ventas_plataforma.z_score, xmin=0, linewidth =10, alpha=0.5, color=ventas_plataforma.color)\n",
    "# Agrega etiquetas a los ejes\n",
    "plt.xlabel('Z-Score')   # Etiqueta para el eje X\n",
    "plt.ylabel('Plataforma')  # Etiqueta para el eje Y\n",
    "plt.title('Èxito de las plataformas de videojuegos')\n",
    "\n",
    "plt.show()"
   ]
  },
  {
   "cell_type": "markdown",
   "id": "d3b9c226-7e22-468d-8412-ec347d16b973",
   "metadata": {},
   "source": [
    "ESTE GRÁFICO NOS PERMITE OBSERVAR CÓMO HAN VARIADO LA POPULARIDAD Y EL ÉXITO DE LAS PLATAFORMAS DE VIDEOJUEGOS A LO LARGO DEL TIEMPO. MUESTRA CLARAMENTE CUÁLES PLATAFORMAS DOMINARON EN CIERTOS PERÍODOS Y CUÁLES NO LOGRARON UN IMPACTO SIGNIFICATIVO. ES UNA VISUALIZACIÓN ÚTIL PARA COMPRENDER LA EVOLUCIÓN DE LA INDUSTRIA Y EL CICLO DE VIDA DE LAS PLATAFORMAS DE VIDEOJUEGOS."
   ]
  },
  {
   "cell_type": "markdown",
   "id": "b349bb6c-79e3-436f-9cf6-a44883bfe7c3",
   "metadata": {},
   "source": [
    "### 1.5.4 Los juegos que fueron lanzados en diferentes años."
   ]
  },
  {
   "cell_type": "markdown",
   "id": "fab4c186-8a44-4739-8be2-f3bb88c9a276",
   "metadata": {},
   "source": [
    " #### 1.5.4.1 Tiempo de vida de las plataformas desde 1980"
   ]
  },
  {
   "cell_type": "code",
   "execution_count": 31,
   "id": "bd2636e2-e833-47ff-894c-c1b423b96d6f",
   "metadata": {},
   "outputs": [],
   "source": [
    "\n",
    "df_tiempo_de_vida = datos_crudos.pivot_table(\n",
    "    index= 'year_of_release', columns = 'platform', values = 'ventas_totales', aggfunc = 'sum'\n",
    ").fillna(0)"
   ]
  },
  {
   "cell_type": "code",
   "execution_count": 32,
   "id": "eac4274d-f2e3-4e5e-916a-0653df391319",
   "metadata": {},
   "outputs": [],
   "source": [
    "df_tiempo_de_vida = df_tiempo_de_vida.iloc[1: , : ]"
   ]
  },
  {
   "cell_type": "code",
   "execution_count": 33,
   "id": "a786eccf-1678-4866-a763-a722dee7cfc4",
   "metadata": {},
   "outputs": [
    {
     "data": {
      "image/png": "[encoded data removed]",
      "text/plain": [
       "<Figure size 1500x1000 with 1 Axes>"
      ]
     },
     "metadata": {},
     "output_type": "display_data"
    }
   ],
   "source": [
    "sns.set(rc={'figure.figsize': (15,10)})\n",
    "sns.lineplot(data=df_tiempo_de_vida)\n",
    "plt.xlabel('Año de Lanzamiento')   # Etiqueta para el eje X\n",
    "plt.ylabel('Ventas Totales')  # Etiqueta para el eje Y\n",
    "plt.title('Vida de Cada Plataforma desde 1980')\n",
    "plt.show()"
   ]
  },
  {
   "cell_type": "markdown",
   "id": "e0cedd53",
   "metadata": {},
   "source": [
    "<div class=\"alert alert-block alert-warning\">\n",
    "<b>Comentario del revisor</b> <a class=\"tocSkip\"></a>\n",
    "    \n",
    "Gran trabajo con el desarrollo de la gráfica. Solamente te recomendaría que intentes reducir el periodo dado que el perido actual puede resultar muy extenso. Recordemos que con base en la información la popularidad la alcanzan en los primeros años. Es por ello que con un periodo largo puede no ser posible analizar de forma clara las plataformas y videojuegos actualizados y podrías estar analizando los desactualizados. Es por ello y dado que buscamos responder qué vender en 2017 te recomendareia gráficar un periodo que no supere los 5 años.     \n",
    "\n",
    "</div>"
   ]
  },
  {
   "cell_type": "markdown",
   "id": "bc3885a0",
   "metadata": {},
   "source": [
    "<div class=\"alert alert-block alert-info\">\n",
    "    <b>Comentario del revisor:</b> <a class=\"tocSkip\"></a>\n",
    "Ya se corrigio lo hacia echo con una escala mas grande pero ya lo corregi a como se me indica para visualizar 5 años si embargo segui dejando la grafica con todos los años porque siento que es importante ver el contexto mas atras tambien \n",
    "\n",
    "</div>"
   ]
  },
  {
   "cell_type": "markdown",
   "id": "b6ac6b8c",
   "metadata": {},
   "source": [
    "\n",
    "<div class=\"alert alert-block alert-success\">\n",
    "<b>Comentario del revisor:</b> <a class=\"tocSkip\"></a>\n",
    "\n",
    "Muy buen trabajo, como comentas esta gráfica puede complementar a las que habías realizado anteriormente. Esto ayuda en gran medida a contrastar resultados en el tiempo    "
   ]
  },
  {
   "cell_type": "markdown",
   "id": "458c97bf-9340-410f-b18d-a972b9f6859a",
   "metadata": {},
   "source": [
    "AQUI OBSERVAMOS LA VIDA DE CADA PLATAFORMA Y COMO SE VAN MANTENIENDO NOS MUESTRA DESDE 1980 QUE ESAS PLATAFORMA QUE INICIARON APROXIMANDAMENTE DESAPARECIERON EN 10 AÑOS Y CADA 10 AÑOS APARECE UNA PLATAFORMA DE JUEGO Y VEMOS CUALES SON LAS QUE SE HAN MANTENIDO EN EL MERCADO CON MAYORES VENTAS "
   ]
  },
  {
   "cell_type": "markdown",
   "id": "4e742058-4402-409c-9882-72788f0f81e1",
   "metadata": {},
   "source": [
    " #### 1.5.4.1 Tiempo de vida de las plataformas desde 2005"
   ]
  },
  {
   "cell_type": "code",
   "execution_count": 34,
   "id": "bb6bfb24-eb12-4d92-a3dd-ca6e37924a96",
   "metadata": {},
   "outputs": [],
   "source": [
    "clean_data = datos_crudos[datos_crudos.year_of_release >= 2012]"
   ]
  },
  {
   "cell_type": "code",
   "execution_count": 35,
   "id": "a4aff8ac-9e67-40c7-b6e9-2799b018675e",
   "metadata": {},
   "outputs": [],
   "source": [
    "df_tiempo_de_vida = clean_data.pivot_table(\n",
    "    index= 'year_of_release', columns = 'platform', values = 'ventas_totales', aggfunc = 'sum'\n",
    ").fillna(0)"
   ]
  },
  {
   "cell_type": "code",
   "execution_count": 36,
   "id": "a74d5792-aca4-408e-95f0-c8ce11ffdb9d",
   "metadata": {},
   "outputs": [
    {
     "data": {
      "image/png": "[encoded data removed]",
      "text/plain": [
       "<Figure size 1200x800 with 1 Axes>"
      ]
     },
     "metadata": {},
     "output_type": "display_data"
    }
   ],
   "source": [
    "sns.set(rc={'figure.figsize': (12,8)})\n",
    "sns.lineplot(data=df_tiempo_de_vida)\n",
    "plt.xlabel('Año de Lanzamiento')   # Etiqueta para el eje X\n",
    "plt.ylabel('Ventas Totales')  # Etiqueta para el eje Y\n",
    "plt.title('Vida de Cada Plataforma')\n",
    "plt.show()"
   ]
  },
  {
   "cell_type": "markdown",
   "id": "f73098ce-8527-49b6-86f5-163906be61ba",
   "metadata": {},
   "source": [
    "ESTA IMAGEN ES PARTE DE LA ANTERIOR PERO EN ESTA VEMOS EL ANALISIS DEDE 2005 YA QUE EN ESAS FECHAS MAS O MENOS HAY MAS PLATAFORMAS EN EL MERCADO Y VEMOS DETENIDAMENTE CUALES SE HAN MANTENIDO EN LOS ULTIMOS 11 AÑOS "
   ]
  },
  {
   "cell_type": "markdown",
   "id": "9829beef-6555-4610-8f86-9288fb3bdc35",
   "metadata": {},
   "source": [
    "## 1.6 prueba de hipotesis "
   ]
  },
  {
   "cell_type": "markdown",
   "id": "abf12deb-940e-45d3-94b2-18440f6eeb82",
   "metadata": {},
   "source": [
    "### 1.6.1 HIPOTESISI #1 Calificacion promedio de los usuarios para la plataforma PC y XOne son las mismas "
   ]
  },
  {
   "cell_type": "code",
   "execution_count": 37,
   "id": "eb1fe825-0b9b-44b9-a5f3-1756b0bba3a6",
   "metadata": {},
   "outputs": [],
   "source": [
    "comparacion =clean_data.query('user_score > 0 & (platform == \"XOne\" or platform == \"PC\" )')"
   ]
  },
  {
   "cell_type": "code",
   "execution_count": 38,
   "id": "48e1f1ec-4889-4819-a461-04fb74354714",
   "metadata": {},
   "outputs": [
    {
     "data": {
      "image/png": "[encoded data removed]",
      "text/plain": [
       "<Figure size 1200x800 with 1 Axes>"
      ]
     },
     "metadata": {},
     "output_type": "display_data"
    }
   ],
   "source": [
    "sns.histplot(comparacion, x='user_score', hue = 'platform')\n",
    "plt.xlabel('Puntaje')\n",
    "plt.ylabel('Frecuencia')\n",
    "plt.title('COMPARACION DE PUNTAJE DE PLATAFORMA PC Y XONE')\n",
    "plt.show()"
   ]
  },
  {
   "cell_type": "markdown",
   "id": "6f154e49-d8f1-4be8-89d2-864888c04625",
   "metadata": {},
   "source": [
    "EN ESTA GRAFICA VEMOS QUE PC TIENE MAS CANTIDAD DE PERSONAS QUE HAY VOTADO POR LOS PUNTAJES DE 8.3 APROXIMADAMENTE Y LOS DE XONE SU PUNTAJE MAYOR ES 7 "
   ]
  },
  {
   "cell_type": "markdown",
   "id": "4de30b2b",
   "metadata": {},
   "source": [
    "[RESPUESTA A LA NUEVA GRAFICA ES QUE PC Y XONE AMBAS TIENE MAS VOTACIONES EN 7.4 Y PC GANANDO SEGUNDO LUGAR DE VOTACIONES CON 7.8]"
   ]
  },
  {
   "cell_type": "code",
   "execution_count": 39,
   "id": "cc6e3018-2e14-41d6-9403-576e55217664",
   "metadata": {},
   "outputs": [
    {
     "data": {
      "text/plain": [
       "platform\n",
       "PC      7.50840\n",
       "XOne    7.42915\n",
       "Name: user_score, dtype: float64"
      ]
     },
     "execution_count": 39,
     "metadata": {},
     "output_type": "execute_result"
    }
   ],
   "source": [
    "comparacion.groupby('platform')['user_score'].mean()"
   ]
  },
  {
   "cell_type": "markdown",
   "id": "cceb9c2d",
   "metadata": {},
   "source": [
    "<div class=\"alert alert-block alert-danger\">\n",
    "<b>Comentario del revisor</b> <a class=\"tocSkip\"></a>\n",
    "    \n",
    "Gran trabajo! Solamente para complementar el análisis puedes desarrollar una gráfica de cajas que nos ayude a identificar valores atípicos y un par de gráficos que muestren la relación entre las score de los usuarios y críticos con las ventas. En complemento a esto recuerda desarrollar un análisis por región"
   ]
  },
  {
   "cell_type": "markdown",
   "id": "efcf6b1e",
   "metadata": {},
   "source": [
    "<div class=\"alert alert-block alert-info\">\n",
    "    <b>Comentario del revisor:</b> <a class=\"tocSkip\"></a>\n",
    "    \n",
    "YA SE HIZO LAS GRAFICAS DE BOXPLOT DE CRITIAL_SCORE Y USER_SCORE ASI COMO UNA TABLA DE DISPERSION \n",
    "    \n",
    "</div>"
   ]
  },
  {
   "cell_type": "markdown",
   "id": "79a49907",
   "metadata": {},
   "source": [
    "\n",
    "<div class=\"alert alert-block alert-success\">\n",
    "<b>Comentario del revisor:</b> <a class=\"tocSkip\"></a>\n",
    "    \n",
    "Gran trabajo con las gráficas complementarias "
   ]
  },
  {
   "cell_type": "code",
   "execution_count": 61,
   "id": "3599d203",
   "metadata": {},
   "outputs": [
    {
     "data": {
      "image/png": "[encoded data removed]",
      "text/plain": [
       "<Figure size 1200x600 with 1 Axes>"
      ]
     },
     "metadata": {},
     "output_type": "display_data"
    }
   ],
   "source": [
    "# Gráfico de cajas para 'user_score'\n",
    "plt.figure(figsize=(12, 6))\n",
    "sns.boxplot(data=datos_crudos[['user_score']])\n",
    "plt.title('BOXPLOT user_score')\n",
    "plt.xlabel('USER_SCORE')\n",
    "plt.ylabel('FRECUENCIA')\n",
    "plt.show()"
   ]
  },
  {
   "cell_type": "code",
   "execution_count": 60,
   "id": "1dac62c9",
   "metadata": {},
   "outputs": [
    {
     "data": {
      "image/png": "[encoded data removed]",
      "text/plain": [
       "<Figure size 1200x600 with 1 Axes>"
      ]
     },
     "metadata": {},
     "output_type": "display_data"
    }
   ],
   "source": [
    "# Gráfico de cajas para 'critic_score'\n",
    "\n",
    "plt.figure(figsize=(12, 6))\n",
    "sns.boxplot(data=datos_crudos[['critic_score']])\n",
    "plt.title('BOXPLOT critic_score')\n",
    "plt.xlabel('CRITICAL_SCORE')\n",
    "plt.ylabel('FRECUENCIA')\n",
    "plt.show()\n"
   ]
  },
  {
   "cell_type": "code",
   "execution_count": 62,
   "id": "76469f0e",
   "metadata": {},
   "outputs": [
    {
     "data": {
      "image/png": "[encoded data removed]",
      "text/plain": [
       "<Figure size 1200x800 with 1 Axes>"
      ]
     },
     "metadata": {},
     "output_type": "display_data"
    }
   ],
   "source": [
    "plt.scatter(datos_crudos['user_score'],datos_crudos['critic_score'])\n",
    "plt.title('Distribución de critic_score y user_score')\n",
    "plt.xlabel('PUNTUACION')\n",
    "plt.ylabel('FRECUENCIA')\n",
    "plt.show()"
   ]
  },
  {
   "cell_type": "markdown",
   "id": "150a7855-4a88-470c-878e-0e3e96b1388b",
   "metadata": {},
   "source": [
    "H0: la diferencia entre el promedio de score de usuarios al XOne y la PC NO son estadisticamente efectivas, es decir son iguales\n",
    "\n",
    "H1: la diferencia entre el promedio de score de usuarios al XOne y la PC son estadisticamente efectivas, es decir son diferentes"
   ]
  },
  {
   "cell_type": "code",
   "execution_count": 43,
   "id": "02a1a1e5-10d9-48fb-8733-305613b599f2",
   "metadata": {},
   "outputs": [],
   "source": [
    "xone=comparacion.query('platform == \"XOne\"')\n",
    "pc = comparacion.query('platform == \"PC\"')"
   ]
  },
  {
   "cell_type": "code",
   "execution_count": 44,
   "id": "3a029262-b06b-4598-ad36-8cb44f3c7377",
   "metadata": {},
   "outputs": [],
   "source": [
    "nivel_de_confianza = 0.95\n",
    "alpha = 1-nivel_de_confianza"
   ]
  },
  {
   "cell_type": "code",
   "execution_count": 45,
   "id": "e3c8ed37-1075-4246-9390-dcc7ab2b6bea",
   "metadata": {},
   "outputs": [
    {
     "name": "stdout",
     "output_type": "stream",
     "text": [
      "Podemos rechazar la hipotesis H0: la varianza de X1 no es igual a la varianza de PC\n"
     ]
    }
   ],
   "source": [
    "p_value_levene = stats.levene(xone['user_score'], pc['user_score']).pvalue\n",
    "\n",
    "if p_value_levene < alpha:\n",
    "    print('Podemos rechazar la hipotesis H0: la varianza de X1 no es igual a la varianza de PC')\n",
    "else:\n",
    "    print('No se puede rechazar H0: no hay evidencia suficiente para decir que las varianzas de XOne y PC son iguales ')\n",
    "    "
   ]
  },
  {
   "cell_type": "code",
   "execution_count": 46,
   "id": "ea40c79c-258d-4dd2-83cb-e9dd7cbb5b1f",
   "metadata": {},
   "outputs": [
    {
     "name": "stdout",
     "output_type": "stream",
     "text": [
      "Rechazar H0: existen diferencias estadísticamente significativas entre las calificaciones promedio de los usuarios de las plataformas Xbox One y PC\n"
     ]
    }
   ],
   "source": [
    "p_value = stats.ttest_ind(\n",
    "   xone['user_score'], pc['user_score'], nan_policy='omit', equal_var=False).pvalue\n",
    "if p_value < alpha:\n",
    "    print(\"Rechazar H0: existen diferencias estadísticamente significativas entre las calificaciones promedio de los usuarios de las plataformas Xbox One y PC\")\n",
    "else:\n",
    "    print(\"No se puede rechazar H0: No tenemos evidencia suficiente para decir que la diferencia entre las calificaciones promedio de los usuarios de las plataformas Xbox One y PC sea estadísticamente insignificante..\")"
   ]
  },
  {
   "cell_type": "markdown",
   "id": "93fe52de-cbe5-4a40-b360-7774e6f27f86",
   "metadata": {},
   "source": [
    "AQUI HICIMOS UNA PRUENA DE HIPOTESIS CUAL ES EL PROMEDIO DE USUARIOS QUE USAN XONE Y PC Y SI SON IGUALES Y NOS SALIO QUE HIPOTESIS H0 SE RECHAZA LO CUAL SUGIERE QUE LOS PUNTAJES PROMEDIOS DE LOS USUARIOS XONE Y PC SON EFECTIVAS, DIFERENTES DE UNA MANERA ESTADISTICA SIGNFIFICATIVA. "
   ]
  },
  {
   "cell_type": "markdown",
   "id": "3c50b8dc-4018-4f22-bce8-111a13c01622",
   "metadata": {},
   "source": [
    "### 1.6.2 HIPOTESIS 2 Las calificaciones promedio de los usuarios para los géneros de Acción y Deportes son diferentes "
   ]
  },
  {
   "cell_type": "code",
   "execution_count": 47,
   "id": "a81d7e99-ad59-4c42-8e8c-347174cfd0e7",
   "metadata": {},
   "outputs": [],
   "source": [
    "comparacion_genero =clean_data.query('user_score > 0 & (genre == \"Action\" or genre == \"Sports\" )')"
   ]
  },
  {
   "cell_type": "code",
   "execution_count": 48,
   "id": "e335fbfb-c6c2-49cb-b374-c049a932b16c",
   "metadata": {},
   "outputs": [
    {
     "data": {
      "image/png": "[encoded data removed]",
      "text/plain": [
       "<Figure size 1200x800 with 1 Axes>"
      ]
     },
     "metadata": {},
     "output_type": "display_data"
    }
   ],
   "source": [
    "sns.histplot(comparacion_genero, x='user_score', hue = 'genre')\n",
    "plt.xlabel('Puntaje')\n",
    "plt.ylabel('Frecuencia')\n",
    "plt.title('COMPARACION DE PUNTAJE ENTRE ACCION Y DEPORTES')\n",
    "plt.show()"
   ]
  },
  {
   "cell_type": "markdown",
   "id": "e41dc663",
   "metadata": {},
   "source": [
    "[NO SE QUE DECIR CON ESTA GRAFICA YA QUE DESDE QUE SE RELLENO LOS DATOS AUSENTES CON LA MEDIANA EMPEZO A APARECER ASI LO UNICO QUE PUEDO VER ES QUE LA PUNTUACION ES DIJA DE  7 A 8 Y EL QUE SUPERA LAS PUNTUACIONES O VOTACIONES ES EL GENERO ACCCION]"
   ]
  },
  {
   "cell_type": "code",
   "execution_count": 49,
   "id": "68b38314-1e28-4bc5-b713-cce7ed09e1aa",
   "metadata": {},
   "outputs": [
    {
     "data": {
      "text/plain": [
       "genre\n",
       "Action    7.4\n",
       "Sports    7.4\n",
       "Name: user_score, dtype: float64"
      ]
     },
     "execution_count": 49,
     "metadata": {},
     "output_type": "execute_result"
    }
   ],
   "source": [
    "comparacion_genero.groupby('genre')['user_score'].mean()"
   ]
  },
  {
   "cell_type": "raw",
   "id": "933d0f81-5a15-4857-948e-45b01949167a",
   "metadata": {},
   "source": [
    "H0: la diferencia entre el promedio de score de usuarios al Genero Accion y Deportes NO son estadisticamente efectivas, es decir son iguales\n",
    "\n",
    "H1: la diferencia entre el promedio de score de usuarios al Genero Accion y Deportes son estadisticamente efectivas, es decir son diferentes"
   ]
  },
  {
   "cell_type": "code",
   "execution_count": 50,
   "id": "1a2b7e34-a88f-49e4-b9ad-1cc221a8528e",
   "metadata": {},
   "outputs": [],
   "source": [
    "accion = comparacion.query('genre == \"Action\"')\n",
    "deportes = comparacion.query('genre == \"Sports\"')"
   ]
  },
  {
   "cell_type": "code",
   "execution_count": 51,
   "id": "f3f9f882-d261-4f83-93f3-04a0039a6b1f",
   "metadata": {},
   "outputs": [],
   "source": [
    "nivel_de_confianza_2 = 0.95\n",
    "alpha_2 = 1-nivel_de_confianza_2"
   ]
  },
  {
   "cell_type": "code",
   "execution_count": 52,
   "id": "87a7cdbb-1a4b-42fa-8d1f-1eb242138c47",
   "metadata": {},
   "outputs": [
    {
     "name": "stdout",
     "output_type": "stream",
     "text": [
      "No se puede rechazar H0: no hay evidencia suficiente para decir que las varianzas de genero Accion y Deportes son iguales \n"
     ]
    },
    {
     "name": "stderr",
     "output_type": "stream",
     "text": [
      "/opt/conda/envs/python3/lib/python3.9/site-packages/scipy/stats/_morestats.py:2710: RuntimeWarning: invalid value encountered in double_scalars\n",
      "  W = numer / denom\n"
     ]
    }
   ],
   "source": [
    "p_value_levene = stats.levene(accion['user_score'], deportes['user_score']).pvalue\n",
    "\n",
    "if p_value_levene < alpha:\n",
    "    print('Podemos rechazar la hipotesis H0: la varianza de X1 no es igual a la varianza de genero Accion y Deportes')\n",
    "else:\n",
    "    print('No se puede rechazar H0: no hay evidencia suficiente para decir que las varianzas de genero Accion y Deportes son iguales ')\n",
    "    "
   ]
  },
  {
   "cell_type": "code",
   "execution_count": 53,
   "id": "0ff4540c-301c-49af-8475-78e01bba90ff",
   "metadata": {},
   "outputs": [
    {
     "name": "stdout",
     "output_type": "stream",
     "text": [
      "No se puede rechazar H0: No tenemos evidencia suficiente para decir que la diferencia entre las calificaciones promedio de los usuarios de los genero Accion y Deportes sea estadísticamente insignificante..\n"
     ]
    },
    {
     "name": "stderr",
     "output_type": "stream",
     "text": [
      "/tmp/ipykernel_122/3827530091.py:1: RuntimeWarning: Precision loss occurred in moment calculation due to catastrophic cancellation. This occurs when the data are nearly identical. Results may be unreliable.\n",
      "  p_value = stats.ttest_ind(\n"
     ]
    }
   ],
   "source": [
    "p_value = stats.ttest_ind(\n",
    "   accion['user_score'], deportes['user_score'], nan_policy='omit', equal_var=False).pvalue\n",
    "if p_value < alpha:\n",
    "    print(\"Rechazar H0: existen diferencias estadísticamente significativas entre las calificaciones promedio de los usuarios de los genero Accion y Deportes\")\n",
    "else:\n",
    "    print(\"No se puede rechazar H0: No tenemos evidencia suficiente para decir que la diferencia entre las calificaciones promedio de los usuarios de los genero Accion y Deportes sea estadísticamente insignificante..\")"
   ]
  },
  {
   "cell_type": "markdown",
   "id": "247aef6f",
   "metadata": {},
   "source": [
    "Y NUESTRA HIPOTESIS AQUI ES QUE EL PROMEDIO DE ACCION Y DEPORTE ESTADISTICAMENTE SON IGUALES Y SE RECHAZA LA HIPOTESIS NULA "
   ]
  },
  {
   "cell_type": "markdown",
   "id": "db5a4882",
   "metadata": {},
   "source": [
    "<div class=\"alert alert-block alert-success\">\n",
    "<b>Comentario del revisor:</b> <a class=\"tocSkip\"></a>\n",
    "\n",
    "Muy buen trabajo con las pruebas de hipótesis, además lo complementaste con la prueba de levene para mostrar el supuesto de varianzas iguales"
   ]
  },
  {
   "cell_type": "markdown",
   "id": "5eb37381-6f22-4b92-b72e-02f1a510f7d4",
   "metadata": {},
   "source": [
    "## 1.7 Conclusion General"
   ]
  },
  {
   "cell_type": "markdown",
   "id": "c853dcb1-448d-48df-b0a6-0accdb68d599",
   "metadata": {},
   "source": [
    "EN CONCLUCION A PESAR DE QUE HAY MUCHOS DATOS AUSENTES DETERMINAMOS QUE \n",
    "\n",
    "1.- QUE LAS VENTAS MAS ALTAS SON DEL 2007 AL 2011 SIENDO LOS AÑOS CON MAS VENTAS DESPUES DEL 2011 BAJARON MUCHO LAS VENTAS\n",
    "2.- LAS PLATAFORMAS MAS VENDIDAS SON #1 PS2 Y POSTERIORMENTE LE SIGUEN X360, PS3, WII, DS,PS\n",
    "3.- LAS PALTAFORMAS CON MAYOR PUPULARIDAD SIGUEN SIENDO PS2 Y X360\n",
    "4.- NOS DIMOS CUENTA QUE LA VIDA DE UNA PLATAFORMA ES MAS O MENOS 10 AÑOS Y DESPUES DE ESO UNA DE CAEN Y OTRAS DESAPARECEN Y UNAS SE SIGUEN MANTENIENDO DE PIE Y CON BUENAS GANANCIAS\n",
    "5.- SE HIZO UNA COMPARACION DE PROMEDIO DE 2 PLATAFORMAS QUE ES PC Y XONE LA CUAL SALIO EXISTEN DIFERENCIAS DE CALIFICACIONES ESTADISTICAMENTE ENTRE XONE Y PC \n",
    "6.- SE HIZO UNA COMPARACION DE PROMEDIO DE 2 GENEROS QUE FUE ACCION Y DEPORTES Y SALIO SON DIFERENTES DE CALIFICACIONES ESTADISTICAS ENTRE ACCION Y DEPORTES \n"
   ]
  },
  {
   "cell_type": "markdown",
   "id": "81868916",
   "metadata": {},
   "source": [
    "\n",
    "<div class=\"alert alert-block alert-warning\">\n",
    "<b>Comentario revisor</b> <a class=\"tocSkip\"></a>\n",
    "\n",
    "En general creo que hiciste un muy buen trabajo con el proyecto, pudiste limpiar y trabajar las bases de datos de beuna manera. Además, el análisis explorario de datos fue completo al mostrar resultados relevantes que pueden ser de mucha utilidad para la toma de decisiones y desarrollaste las pruebas de hipótesis de una buena manera. No obstante, recuerda que siempre podemos mejorar y te menciono algunos puntos que debes considerar:\n",
    "\n",
    "* Verificar que cuando llenamos variables con valores nulos los estamos comletando con valores que no sesgan nuestros resultados\n",
    "\n",
    "*  Considerar eliminar registros atipicos que puedan sesgar nuestros resultados. \n",
    "    \n",
    "*  Complementar el análisis gráfico con un gráfico de cajas y unos gráficos que muestren la relación de ventas con scores\n",
    "</div>"
   ]
  },
  {
   "cell_type": "markdown",
   "id": "1ba9e4cb",
   "metadata": {},
   "source": [
    "<div class=\"alert alert-block alert-info\">\n",
    "    <b>Comentario del revisor:</b> <a class=\"tocSkip\"></a>\n",
    "    \n",
    "*CLARO QUE LOS ANALISIS APARENTEMENTE NO LOS CAMBIA CONFORME A LOS DATOS QUE SE NECESITA AL MODIFICARLO NUESTRA HIPOTESIS SIGUE SIENDO LA MISMA PERO EL ANALISIS SI YA QUE AL RELLENAR LOS DATOS CON LA MEDIANA ENTRAN MAS VALORES DE UN LADO QUE DE OTRO LOS CUALES VIENEN ESTANDO EN LA MEDIANA, ES CUESTIOS DE PERSEPTIVA CLARO, Y CLARO ESTA QUE HAGO LO QUE SE ME INDICA SI ASI LO DECEAN ADELANTE PERO NO ESTOY DE ACUERDO.\n",
    "    \n",
    "*COMO COMENTARIO TAMBIEN EN LA PLATAFORMA DE TRIPLETEN NO ESTA INSTALADA LA LIBRERIA sidetable LO CUAL POR ESE MOTIVO COMENTE UNAS LINEAS PARA QUE ME DEJARA CORRER EL KERNEL YA LO REPORTE A SISTEMAS DE LA PLATAFORMA Y ME COMUNIQUE CON MI MANAGER VIRIDIANA SOBRE EL TEMA SIN MAS QUE DECIR MUCHAS GRACIAS POR LA REVISION Y ESTAMOS AL PENDIENTE SALUDOS ELPIDIO LOZANO\n",
    "    \n",
    "</div>"
   ]
  },
  {
   "cell_type": "markdown",
   "id": "9a601299",
   "metadata": {},
   "source": [
    "\n",
    "<div class=\"alert alert-block alert-success\">\n",
    "<b>Comentario del revisor:</b> <a class=\"tocSkip\"></a>\n",
    "    \n",
    "Hola, Elpidio Lozano. Realizaste un excelente trabajo con los ajustes. Te deje un comentario en el apartado de completar los valores nulos. Si bien tu proyecto ya esta completo, aún no lo voy a aprobar para asegurarme que es claro lo que te comento y puedas utilzarlo para futuros proyectos. De igual manera voy a darle seguimiento a lo que comentas sobre la libreria sidetable"
   ]
  },
  {
   "cell_type": "markdown",
   "id": "1d894028",
   "metadata": {},
   "source": [
    "<div class=\"alert alert-block alert-info\">\n",
    "    <b>Comentario del revisor:</b> <a class=\"tocSkip\"></a>\n",
    "    \n",
    "*OK si me quedo claro dado esto y seguire dejando la linea de codigo para el -1 con fines de resiclar el codigo a futuros proyectos que necesite. y sobre la libreria sidetable ya lo comente en la paguina de tripleten en soporte, con viridiana y con ustes ya solo queda esperar a que este habilitada para ocuparla sin embargo ya le quite \n",
    "    \n",
    "</div>"
   ]
  },
  {
   "cell_type": "markdown",
   "id": "0fefecb1",
   "metadata": {},
   "source": [
    "\n",
    "<div class=\"alert alert-block alert-success\">\n",
    "<b>Comentario del revisor:</b> <a class=\"tocSkip\"></a>\n",
    "    \n",
    "Muy bien, sigue con el excelente trabajo!"
   ]
  }
 ],
 "metadata": {
  "ExecuteTimeLog": [
   {
    "duration": 2872,
    "start_time": "2024-11-06T03:39:44.182Z"
   },
   {
    "duration": 0,
    "start_time": "2024-11-06T03:39:47.057Z"
   },
   {
    "duration": 0,
    "start_time": "2024-11-06T03:39:47.058Z"
   },
   {
    "duration": 0,
    "start_time": "2024-11-06T03:39:47.060Z"
   },
   {
    "duration": 0,
    "start_time": "2024-11-06T03:39:47.061Z"
   },
   {
    "duration": 0,
    "start_time": "2024-11-06T03:39:47.062Z"
   },
   {
    "duration": 0,
    "start_time": "2024-11-06T03:39:47.063Z"
   },
   {
    "duration": 0,
    "start_time": "2024-11-06T03:39:47.065Z"
   },
   {
    "duration": 0,
    "start_time": "2024-11-06T03:39:47.066Z"
   },
   {
    "duration": 0,
    "start_time": "2024-11-06T03:39:47.067Z"
   },
   {
    "duration": 0,
    "start_time": "2024-11-06T03:39:47.067Z"
   },
   {
    "duration": 0,
    "start_time": "2024-11-06T03:39:47.068Z"
   },
   {
    "duration": 0,
    "start_time": "2024-11-06T03:39:47.070Z"
   },
   {
    "duration": 0,
    "start_time": "2024-11-06T03:39:47.070Z"
   },
   {
    "duration": 0,
    "start_time": "2024-11-06T03:39:47.072Z"
   },
   {
    "duration": 0,
    "start_time": "2024-11-06T03:39:47.072Z"
   },
   {
    "duration": 0,
    "start_time": "2024-11-06T03:39:47.074Z"
   },
   {
    "duration": 0,
    "start_time": "2024-11-06T03:39:47.075Z"
   },
   {
    "duration": 0,
    "start_time": "2024-11-06T03:39:47.076Z"
   },
   {
    "duration": 0,
    "start_time": "2024-11-06T03:39:47.077Z"
   },
   {
    "duration": 0,
    "start_time": "2024-11-06T03:39:47.078Z"
   },
   {
    "duration": 0,
    "start_time": "2024-11-06T03:39:47.079Z"
   },
   {
    "duration": 0,
    "start_time": "2024-11-06T03:39:47.080Z"
   },
   {
    "duration": 0,
    "start_time": "2024-11-06T03:39:47.081Z"
   },
   {
    "duration": 0,
    "start_time": "2024-11-06T03:39:47.083Z"
   },
   {
    "duration": 0,
    "start_time": "2024-11-06T03:39:47.084Z"
   },
   {
    "duration": 0,
    "start_time": "2024-11-06T03:39:47.085Z"
   },
   {
    "duration": 0,
    "start_time": "2024-11-06T03:39:47.086Z"
   },
   {
    "duration": 0,
    "start_time": "2024-11-06T03:39:47.087Z"
   },
   {
    "duration": 0,
    "start_time": "2024-11-06T03:39:47.131Z"
   },
   {
    "duration": 0,
    "start_time": "2024-11-06T03:39:47.132Z"
   },
   {
    "duration": 0,
    "start_time": "2024-11-06T03:39:47.134Z"
   },
   {
    "duration": 0,
    "start_time": "2024-11-06T03:39:47.135Z"
   },
   {
    "duration": 0,
    "start_time": "2024-11-06T03:39:47.136Z"
   },
   {
    "duration": 0,
    "start_time": "2024-11-06T03:39:47.137Z"
   },
   {
    "duration": 0,
    "start_time": "2024-11-06T03:39:47.138Z"
   },
   {
    "duration": 0,
    "start_time": "2024-11-06T03:39:47.139Z"
   },
   {
    "duration": 0,
    "start_time": "2024-11-06T03:39:47.142Z"
   },
   {
    "duration": 0,
    "start_time": "2024-11-06T03:39:47.143Z"
   },
   {
    "duration": 0,
    "start_time": "2024-11-06T03:39:47.144Z"
   },
   {
    "duration": 0,
    "start_time": "2024-11-06T03:39:47.145Z"
   },
   {
    "duration": 0,
    "start_time": "2024-11-06T03:39:47.146Z"
   },
   {
    "duration": 0,
    "start_time": "2024-11-06T03:39:47.147Z"
   },
   {
    "duration": 0,
    "start_time": "2024-11-06T03:39:47.148Z"
   },
   {
    "duration": 1091,
    "start_time": "2024-11-06T03:39:56.719Z"
   },
   {
    "duration": 0,
    "start_time": "2024-11-06T03:39:57.814Z"
   },
   {
    "duration": 0,
    "start_time": "2024-11-06T03:39:57.815Z"
   },
   {
    "duration": 0,
    "start_time": "2024-11-06T03:39:57.817Z"
   },
   {
    "duration": 0,
    "start_time": "2024-11-06T03:39:57.818Z"
   },
   {
    "duration": 0,
    "start_time": "2024-11-06T03:39:57.831Z"
   },
   {
    "duration": 0,
    "start_time": "2024-11-06T03:39:57.832Z"
   },
   {
    "duration": 0,
    "start_time": "2024-11-06T03:39:57.833Z"
   },
   {
    "duration": 0,
    "start_time": "2024-11-06T03:39:57.834Z"
   },
   {
    "duration": 0,
    "start_time": "2024-11-06T03:39:57.836Z"
   },
   {
    "duration": 0,
    "start_time": "2024-11-06T03:39:57.837Z"
   },
   {
    "duration": 0,
    "start_time": "2024-11-06T03:39:57.838Z"
   },
   {
    "duration": 0,
    "start_time": "2024-11-06T03:39:57.839Z"
   },
   {
    "duration": 0,
    "start_time": "2024-11-06T03:39:57.840Z"
   },
   {
    "duration": 0,
    "start_time": "2024-11-06T03:39:57.841Z"
   },
   {
    "duration": 0,
    "start_time": "2024-11-06T03:39:57.842Z"
   },
   {
    "duration": 0,
    "start_time": "2024-11-06T03:39:57.843Z"
   },
   {
    "duration": 0,
    "start_time": "2024-11-06T03:39:57.844Z"
   },
   {
    "duration": 0,
    "start_time": "2024-11-06T03:39:57.844Z"
   },
   {
    "duration": 0,
    "start_time": "2024-11-06T03:39:57.846Z"
   },
   {
    "duration": 0,
    "start_time": "2024-11-06T03:39:57.846Z"
   },
   {
    "duration": 0,
    "start_time": "2024-11-06T03:39:57.847Z"
   },
   {
    "duration": 0,
    "start_time": "2024-11-06T03:39:57.848Z"
   },
   {
    "duration": 0,
    "start_time": "2024-11-06T03:39:57.850Z"
   },
   {
    "duration": 0,
    "start_time": "2024-11-06T03:39:57.851Z"
   },
   {
    "duration": 0,
    "start_time": "2024-11-06T03:39:57.852Z"
   },
   {
    "duration": 0,
    "start_time": "2024-11-06T03:39:57.854Z"
   },
   {
    "duration": 0,
    "start_time": "2024-11-06T03:39:57.855Z"
   },
   {
    "duration": 0,
    "start_time": "2024-11-06T03:39:57.856Z"
   },
   {
    "duration": 0,
    "start_time": "2024-11-06T03:39:57.857Z"
   },
   {
    "duration": 0,
    "start_time": "2024-11-06T03:39:57.859Z"
   },
   {
    "duration": 0,
    "start_time": "2024-11-06T03:39:57.860Z"
   },
   {
    "duration": 0,
    "start_time": "2024-11-06T03:39:57.862Z"
   },
   {
    "duration": 0,
    "start_time": "2024-11-06T03:39:57.863Z"
   },
   {
    "duration": 0,
    "start_time": "2024-11-06T03:39:57.864Z"
   },
   {
    "duration": 0,
    "start_time": "2024-11-06T03:39:57.865Z"
   },
   {
    "duration": 0,
    "start_time": "2024-11-06T03:39:57.866Z"
   },
   {
    "duration": 0,
    "start_time": "2024-11-06T03:39:57.867Z"
   },
   {
    "duration": 0,
    "start_time": "2024-11-06T03:39:57.868Z"
   },
   {
    "duration": 0,
    "start_time": "2024-11-06T03:39:57.869Z"
   },
   {
    "duration": 0,
    "start_time": "2024-11-06T03:39:57.870Z"
   },
   {
    "duration": 0,
    "start_time": "2024-11-06T03:39:57.871Z"
   },
   {
    "duration": 0,
    "start_time": "2024-11-06T03:39:57.871Z"
   },
   {
    "duration": 0,
    "start_time": "2024-11-06T03:39:57.933Z"
   },
   {
    "duration": 346,
    "start_time": "2024-11-06T03:40:19.670Z"
   },
   {
    "duration": 36,
    "start_time": "2024-11-06T03:40:29.380Z"
   },
   {
    "duration": 13,
    "start_time": "2024-11-06T03:40:45.330Z"
   },
   {
    "duration": 1112,
    "start_time": "2024-11-06T03:40:58.986Z"
   },
   {
    "duration": 0,
    "start_time": "2024-11-06T03:41:00.101Z"
   },
   {
    "duration": 0,
    "start_time": "2024-11-06T03:41:00.102Z"
   },
   {
    "duration": 0,
    "start_time": "2024-11-06T03:41:00.103Z"
   },
   {
    "duration": 0,
    "start_time": "2024-11-06T03:41:00.104Z"
   },
   {
    "duration": 0,
    "start_time": "2024-11-06T03:41:00.105Z"
   },
   {
    "duration": 0,
    "start_time": "2024-11-06T03:41:00.106Z"
   },
   {
    "duration": 0,
    "start_time": "2024-11-06T03:41:00.108Z"
   },
   {
    "duration": 0,
    "start_time": "2024-11-06T03:41:00.110Z"
   },
   {
    "duration": 0,
    "start_time": "2024-11-06T03:41:00.110Z"
   },
   {
    "duration": 0,
    "start_time": "2024-11-06T03:41:00.111Z"
   },
   {
    "duration": 0,
    "start_time": "2024-11-06T03:41:00.131Z"
   },
   {
    "duration": 0,
    "start_time": "2024-11-06T03:41:00.132Z"
   },
   {
    "duration": 0,
    "start_time": "2024-11-06T03:41:00.133Z"
   },
   {
    "duration": 0,
    "start_time": "2024-11-06T03:41:00.137Z"
   },
   {
    "duration": 0,
    "start_time": "2024-11-06T03:41:00.138Z"
   },
   {
    "duration": 0,
    "start_time": "2024-11-06T03:41:00.140Z"
   },
   {
    "duration": 0,
    "start_time": "2024-11-06T03:41:00.141Z"
   },
   {
    "duration": 0,
    "start_time": "2024-11-06T03:41:00.143Z"
   },
   {
    "duration": 0,
    "start_time": "2024-11-06T03:41:00.144Z"
   },
   {
    "duration": 0,
    "start_time": "2024-11-06T03:41:00.146Z"
   },
   {
    "duration": 0,
    "start_time": "2024-11-06T03:41:00.147Z"
   },
   {
    "duration": 0,
    "start_time": "2024-11-06T03:41:00.148Z"
   },
   {
    "duration": 0,
    "start_time": "2024-11-06T03:41:00.150Z"
   },
   {
    "duration": 0,
    "start_time": "2024-11-06T03:41:00.152Z"
   },
   {
    "duration": 0,
    "start_time": "2024-11-06T03:41:00.153Z"
   },
   {
    "duration": 0,
    "start_time": "2024-11-06T03:41:00.155Z"
   },
   {
    "duration": 0,
    "start_time": "2024-11-06T03:41:00.156Z"
   },
   {
    "duration": 0,
    "start_time": "2024-11-06T03:41:00.157Z"
   },
   {
    "duration": 0,
    "start_time": "2024-11-06T03:41:00.159Z"
   },
   {
    "duration": 0,
    "start_time": "2024-11-06T03:41:00.160Z"
   },
   {
    "duration": 0,
    "start_time": "2024-11-06T03:41:00.162Z"
   },
   {
    "duration": 0,
    "start_time": "2024-11-06T03:41:00.163Z"
   },
   {
    "duration": 0,
    "start_time": "2024-11-06T03:41:00.164Z"
   },
   {
    "duration": 0,
    "start_time": "2024-11-06T03:41:00.166Z"
   },
   {
    "duration": 0,
    "start_time": "2024-11-06T03:41:00.168Z"
   },
   {
    "duration": 0,
    "start_time": "2024-11-06T03:41:00.169Z"
   },
   {
    "duration": 0,
    "start_time": "2024-11-06T03:41:00.171Z"
   },
   {
    "duration": 0,
    "start_time": "2024-11-06T03:41:00.171Z"
   },
   {
    "duration": 0,
    "start_time": "2024-11-06T03:41:00.173Z"
   },
   {
    "duration": 0,
    "start_time": "2024-11-06T03:41:00.173Z"
   },
   {
    "duration": 0,
    "start_time": "2024-11-06T03:41:00.232Z"
   },
   {
    "duration": 0,
    "start_time": "2024-11-06T03:41:00.233Z"
   },
   {
    "duration": 0,
    "start_time": "2024-11-06T03:41:00.234Z"
   },
   {
    "duration": 3,
    "start_time": "2024-11-06T03:41:13.597Z"
   },
   {
    "duration": 13,
    "start_time": "2024-11-06T03:41:16.290Z"
   },
   {
    "duration": 25,
    "start_time": "2024-11-06T03:41:36.798Z"
   },
   {
    "duration": 3,
    "start_time": "2024-11-06T03:41:39.854Z"
   },
   {
    "duration": 27,
    "start_time": "2024-11-06T03:41:42.024Z"
   },
   {
    "duration": 14,
    "start_time": "2024-11-06T03:41:45.857Z"
   },
   {
    "duration": 3,
    "start_time": "2024-11-06T03:41:57.398Z"
   },
   {
    "duration": 2,
    "start_time": "2024-11-06T03:42:00.364Z"
   },
   {
    "duration": 6,
    "start_time": "2024-11-06T03:42:01.884Z"
   },
   {
    "duration": 5,
    "start_time": "2024-11-06T03:42:03.884Z"
   },
   {
    "duration": 3,
    "start_time": "2024-11-06T03:42:07.608Z"
   },
   {
    "duration": 5,
    "start_time": "2024-11-06T03:42:09.877Z"
   },
   {
    "duration": 6,
    "start_time": "2024-11-06T03:42:11.861Z"
   },
   {
    "duration": 8,
    "start_time": "2024-11-06T03:42:14.448Z"
   },
   {
    "duration": 8,
    "start_time": "2024-11-06T03:44:20.367Z"
   },
   {
    "duration": 6,
    "start_time": "2024-11-06T03:45:15.707Z"
   },
   {
    "duration": 5,
    "start_time": "2024-11-06T03:46:30.726Z"
   },
   {
    "duration": 14,
    "start_time": "2024-11-06T03:46:38.214Z"
   },
   {
    "duration": 16,
    "start_time": "2024-11-06T03:46:41.482Z"
   },
   {
    "duration": 9,
    "start_time": "2024-11-06T03:46:46.246Z"
   },
   {
    "duration": 14,
    "start_time": "2024-11-06T03:46:47.750Z"
   },
   {
    "duration": 247,
    "start_time": "2024-11-06T03:46:49.572Z"
   },
   {
    "duration": 11,
    "start_time": "2024-11-06T03:46:55.347Z"
   },
   {
    "duration": 207,
    "start_time": "2024-11-06T03:46:58.550Z"
   },
   {
    "duration": 4,
    "start_time": "2024-11-06T03:47:02.867Z"
   },
   {
    "duration": 3,
    "start_time": "2024-11-06T03:47:04.358Z"
   },
   {
    "duration": 220,
    "start_time": "2024-11-06T03:47:05.613Z"
   },
   {
    "duration": 11,
    "start_time": "2024-11-06T03:47:11.068Z"
   },
   {
    "duration": 3,
    "start_time": "2024-11-06T03:47:12.521Z"
   },
   {
    "duration": 700,
    "start_time": "2024-11-06T03:47:13.592Z"
   },
   {
    "duration": 5,
    "start_time": "2024-11-06T03:47:19.249Z"
   },
   {
    "duration": 13,
    "start_time": "2024-11-06T03:47:20.390Z"
   },
   {
    "duration": 403,
    "start_time": "2024-11-06T03:47:22.283Z"
   },
   {
    "duration": 4,
    "start_time": "2024-11-06T03:47:59.838Z"
   },
   {
    "duration": 10,
    "start_time": "2024-11-06T03:48:01.488Z"
   },
   {
    "duration": 357,
    "start_time": "2024-11-06T03:48:02.888Z"
   },
   {
    "duration": 6,
    "start_time": "2024-11-06T03:48:20.917Z"
   },
   {
    "duration": 365,
    "start_time": "2024-11-06T03:48:22.637Z"
   },
   {
    "duration": 5,
    "start_time": "2024-11-06T03:48:26.479Z"
   },
   {
    "duration": 6,
    "start_time": "2024-11-06T03:48:28.944Z"
   },
   {
    "duration": 4,
    "start_time": "2024-11-06T03:48:32.182Z"
   },
   {
    "duration": 5,
    "start_time": "2024-11-06T03:48:33.335Z"
   },
   {
    "duration": 4,
    "start_time": "2024-11-06T03:48:35.350Z"
   },
   {
    "duration": 5,
    "start_time": "2024-11-06T03:48:37.750Z"
   },
   {
    "duration": 219,
    "start_time": "2024-11-06T03:48:38.980Z"
   },
   {
    "duration": 5,
    "start_time": "2024-11-06T03:48:42.038Z"
   },
   {
    "duration": 5,
    "start_time": "2024-11-06T03:48:46.125Z"
   },
   {
    "duration": 5,
    "start_time": "2024-11-06T03:48:47.887Z"
   },
   {
    "duration": 4,
    "start_time": "2024-11-06T03:48:50.468Z"
   },
   {
    "duration": 6,
    "start_time": "2024-11-06T03:48:52.046Z"
   },
   {
    "duration": 117,
    "start_time": "2024-11-06T03:56:27.541Z"
   },
   {
    "duration": 193,
    "start_time": "2024-11-06T03:57:19.586Z"
   },
   {
    "duration": 198,
    "start_time": "2024-11-06T03:58:13.418Z"
   },
   {
    "duration": 161,
    "start_time": "2024-11-06T03:58:57.604Z"
   },
   {
    "duration": 203,
    "start_time": "2024-11-06T03:59:07.830Z"
   },
   {
    "duration": 178,
    "start_time": "2024-11-06T04:01:31.258Z"
   },
   {
    "duration": 23,
    "start_time": "2024-11-06T04:03:16.142Z"
   },
   {
    "duration": 6,
    "start_time": "2024-11-06T04:03:23.605Z"
   },
   {
    "duration": 16,
    "start_time": "2024-11-06T04:03:25.904Z"
   },
   {
    "duration": 7665,
    "start_time": "2024-11-06T04:43:25.025Z"
   },
   {
    "duration": 25,
    "start_time": "2024-11-06T04:43:46.657Z"
   },
   {
    "duration": 14,
    "start_time": "2024-11-06T04:43:58.389Z"
   },
   {
    "duration": 8,
    "start_time": "2024-11-06T05:08:01.465Z"
   },
   {
    "duration": 1095,
    "start_time": "2024-11-06T05:08:35.923Z"
   },
   {
    "duration": 0,
    "start_time": "2024-11-06T05:08:37.021Z"
   },
   {
    "duration": 0,
    "start_time": "2024-11-06T05:08:37.022Z"
   },
   {
    "duration": 0,
    "start_time": "2024-11-06T05:08:37.032Z"
   },
   {
    "duration": 0,
    "start_time": "2024-11-06T05:08:37.033Z"
   },
   {
    "duration": 0,
    "start_time": "2024-11-06T05:08:37.035Z"
   },
   {
    "duration": 0,
    "start_time": "2024-11-06T05:08:37.036Z"
   },
   {
    "duration": 0,
    "start_time": "2024-11-06T05:08:37.037Z"
   },
   {
    "duration": 0,
    "start_time": "2024-11-06T05:08:37.039Z"
   },
   {
    "duration": 0,
    "start_time": "2024-11-06T05:08:37.040Z"
   },
   {
    "duration": 0,
    "start_time": "2024-11-06T05:08:37.042Z"
   },
   {
    "duration": 0,
    "start_time": "2024-11-06T05:08:37.043Z"
   },
   {
    "duration": 0,
    "start_time": "2024-11-06T05:08:37.045Z"
   },
   {
    "duration": 0,
    "start_time": "2024-11-06T05:08:37.046Z"
   },
   {
    "duration": 0,
    "start_time": "2024-11-06T05:08:37.047Z"
   },
   {
    "duration": 0,
    "start_time": "2024-11-06T05:08:37.048Z"
   },
   {
    "duration": 0,
    "start_time": "2024-11-06T05:08:37.050Z"
   },
   {
    "duration": 0,
    "start_time": "2024-11-06T05:08:37.051Z"
   },
   {
    "duration": 0,
    "start_time": "2024-11-06T05:08:37.053Z"
   },
   {
    "duration": 0,
    "start_time": "2024-11-06T05:08:37.054Z"
   },
   {
    "duration": 0,
    "start_time": "2024-11-06T05:08:37.055Z"
   },
   {
    "duration": 0,
    "start_time": "2024-11-06T05:08:37.056Z"
   },
   {
    "duration": 0,
    "start_time": "2024-11-06T05:08:37.057Z"
   },
   {
    "duration": 0,
    "start_time": "2024-11-06T05:08:37.063Z"
   },
   {
    "duration": 0,
    "start_time": "2024-11-06T05:08:37.064Z"
   },
   {
    "duration": 0,
    "start_time": "2024-11-06T05:08:37.065Z"
   },
   {
    "duration": 0,
    "start_time": "2024-11-06T05:08:37.066Z"
   },
   {
    "duration": 0,
    "start_time": "2024-11-06T05:08:37.068Z"
   },
   {
    "duration": 0,
    "start_time": "2024-11-06T05:08:37.069Z"
   },
   {
    "duration": 0,
    "start_time": "2024-11-06T05:08:37.070Z"
   },
   {
    "duration": 0,
    "start_time": "2024-11-06T05:08:37.071Z"
   },
   {
    "duration": 0,
    "start_time": "2024-11-06T05:08:37.072Z"
   },
   {
    "duration": 1,
    "start_time": "2024-11-06T05:08:37.073Z"
   },
   {
    "duration": 0,
    "start_time": "2024-11-06T05:08:37.075Z"
   },
   {
    "duration": 0,
    "start_time": "2024-11-06T05:08:37.076Z"
   },
   {
    "duration": 0,
    "start_time": "2024-11-06T05:08:37.077Z"
   },
   {
    "duration": 0,
    "start_time": "2024-11-06T05:08:37.078Z"
   },
   {
    "duration": 0,
    "start_time": "2024-11-06T05:08:37.131Z"
   },
   {
    "duration": 0,
    "start_time": "2024-11-06T05:08:37.133Z"
   },
   {
    "duration": 0,
    "start_time": "2024-11-06T05:08:37.136Z"
   },
   {
    "duration": 0,
    "start_time": "2024-11-06T05:08:37.137Z"
   },
   {
    "duration": 0,
    "start_time": "2024-11-06T05:08:37.138Z"
   },
   {
    "duration": 0,
    "start_time": "2024-11-06T05:08:37.140Z"
   },
   {
    "duration": 0,
    "start_time": "2024-11-06T05:08:37.141Z"
   },
   {
    "duration": 0,
    "start_time": "2024-11-06T05:08:37.143Z"
   },
   {
    "duration": 0,
    "start_time": "2024-11-06T05:08:37.144Z"
   },
   {
    "duration": 0,
    "start_time": "2024-11-06T05:08:37.146Z"
   },
   {
    "duration": 0,
    "start_time": "2024-11-06T05:08:37.147Z"
   },
   {
    "duration": 1081,
    "start_time": "2024-11-06T05:08:55.630Z"
   },
   {
    "duration": 0,
    "start_time": "2024-11-06T05:08:56.715Z"
   },
   {
    "duration": 0,
    "start_time": "2024-11-06T05:08:56.716Z"
   },
   {
    "duration": 0,
    "start_time": "2024-11-06T05:08:56.717Z"
   },
   {
    "duration": 0,
    "start_time": "2024-11-06T05:08:56.718Z"
   },
   {
    "duration": 0,
    "start_time": "2024-11-06T05:08:56.731Z"
   },
   {
    "duration": 0,
    "start_time": "2024-11-06T05:08:56.732Z"
   },
   {
    "duration": 0,
    "start_time": "2024-11-06T05:08:56.733Z"
   },
   {
    "duration": 0,
    "start_time": "2024-11-06T05:08:56.734Z"
   },
   {
    "duration": 0,
    "start_time": "2024-11-06T05:08:56.735Z"
   },
   {
    "duration": 0,
    "start_time": "2024-11-06T05:08:56.736Z"
   },
   {
    "duration": 0,
    "start_time": "2024-11-06T05:08:56.737Z"
   },
   {
    "duration": 0,
    "start_time": "2024-11-06T05:08:56.738Z"
   },
   {
    "duration": 0,
    "start_time": "2024-11-06T05:08:56.739Z"
   },
   {
    "duration": 0,
    "start_time": "2024-11-06T05:08:56.741Z"
   },
   {
    "duration": 0,
    "start_time": "2024-11-06T05:08:56.742Z"
   },
   {
    "duration": 0,
    "start_time": "2024-11-06T05:08:56.743Z"
   },
   {
    "duration": 0,
    "start_time": "2024-11-06T05:08:56.744Z"
   },
   {
    "duration": 0,
    "start_time": "2024-11-06T05:08:56.745Z"
   },
   {
    "duration": 0,
    "start_time": "2024-11-06T05:08:56.746Z"
   },
   {
    "duration": 0,
    "start_time": "2024-11-06T05:08:56.747Z"
   },
   {
    "duration": 0,
    "start_time": "2024-11-06T05:08:56.749Z"
   },
   {
    "duration": 0,
    "start_time": "2024-11-06T05:08:56.749Z"
   },
   {
    "duration": 0,
    "start_time": "2024-11-06T05:08:56.750Z"
   },
   {
    "duration": 0,
    "start_time": "2024-11-06T05:08:56.751Z"
   },
   {
    "duration": 0,
    "start_time": "2024-11-06T05:08:56.752Z"
   },
   {
    "duration": 0,
    "start_time": "2024-11-06T05:08:56.753Z"
   },
   {
    "duration": 0,
    "start_time": "2024-11-06T05:08:56.754Z"
   },
   {
    "duration": 0,
    "start_time": "2024-11-06T05:08:56.755Z"
   },
   {
    "duration": 0,
    "start_time": "2024-11-06T05:08:56.756Z"
   },
   {
    "duration": 0,
    "start_time": "2024-11-06T05:08:56.757Z"
   },
   {
    "duration": 0,
    "start_time": "2024-11-06T05:08:56.759Z"
   },
   {
    "duration": 0,
    "start_time": "2024-11-06T05:08:56.760Z"
   },
   {
    "duration": 0,
    "start_time": "2024-11-06T05:08:56.761Z"
   },
   {
    "duration": 0,
    "start_time": "2024-11-06T05:08:56.762Z"
   },
   {
    "duration": 0,
    "start_time": "2024-11-06T05:08:56.763Z"
   },
   {
    "duration": 0,
    "start_time": "2024-11-06T05:08:56.764Z"
   },
   {
    "duration": 0,
    "start_time": "2024-11-06T05:08:56.765Z"
   },
   {
    "duration": 0,
    "start_time": "2024-11-06T05:08:56.766Z"
   },
   {
    "duration": 0,
    "start_time": "2024-11-06T05:08:56.767Z"
   },
   {
    "duration": 0,
    "start_time": "2024-11-06T05:08:56.768Z"
   },
   {
    "duration": 0,
    "start_time": "2024-11-06T05:08:56.769Z"
   },
   {
    "duration": 0,
    "start_time": "2024-11-06T05:08:56.770Z"
   },
   {
    "duration": 0,
    "start_time": "2024-11-06T05:08:56.771Z"
   },
   {
    "duration": 0,
    "start_time": "2024-11-06T05:08:56.772Z"
   },
   {
    "duration": 0,
    "start_time": "2024-11-06T05:08:56.773Z"
   },
   {
    "duration": 0,
    "start_time": "2024-11-06T05:08:56.774Z"
   },
   {
    "duration": 0,
    "start_time": "2024-11-06T05:08:56.834Z"
   },
   {
    "duration": 16,
    "start_time": "2024-11-06T05:09:17.904Z"
   },
   {
    "duration": 0,
    "start_time": "2024-11-06T05:09:17.922Z"
   },
   {
    "duration": 0,
    "start_time": "2024-11-06T05:09:17.923Z"
   },
   {
    "duration": 0,
    "start_time": "2024-11-06T05:09:17.924Z"
   },
   {
    "duration": 0,
    "start_time": "2024-11-06T05:09:17.926Z"
   },
   {
    "duration": 19,
    "start_time": "2024-11-06T05:09:17.933Z"
   },
   {
    "duration": 0,
    "start_time": "2024-11-06T05:09:17.954Z"
   },
   {
    "duration": 0,
    "start_time": "2024-11-06T05:09:17.958Z"
   },
   {
    "duration": 0,
    "start_time": "2024-11-06T05:09:17.959Z"
   },
   {
    "duration": 0,
    "start_time": "2024-11-06T05:09:17.963Z"
   },
   {
    "duration": 0,
    "start_time": "2024-11-06T05:09:17.964Z"
   },
   {
    "duration": 0,
    "start_time": "2024-11-06T05:09:17.966Z"
   },
   {
    "duration": 16,
    "start_time": "2024-11-06T05:09:17.969Z"
   },
   {
    "duration": 1,
    "start_time": "2024-11-06T05:09:17.986Z"
   },
   {
    "duration": 0,
    "start_time": "2024-11-06T05:09:17.987Z"
   },
   {
    "duration": 0,
    "start_time": "2024-11-06T05:09:17.989Z"
   },
   {
    "duration": 0,
    "start_time": "2024-11-06T05:09:17.990Z"
   },
   {
    "duration": 0,
    "start_time": "2024-11-06T05:09:17.991Z"
   },
   {
    "duration": 0,
    "start_time": "2024-11-06T05:09:18.031Z"
   },
   {
    "duration": 0,
    "start_time": "2024-11-06T05:09:18.033Z"
   },
   {
    "duration": 0,
    "start_time": "2024-11-06T05:09:18.034Z"
   },
   {
    "duration": 167,
    "start_time": "2024-11-06T05:09:18.036Z"
   },
   {
    "duration": 0,
    "start_time": "2024-11-06T05:09:18.209Z"
   },
   {
    "duration": 0,
    "start_time": "2024-11-06T05:09:18.210Z"
   },
   {
    "duration": 0,
    "start_time": "2024-11-06T05:09:18.211Z"
   },
   {
    "duration": 0,
    "start_time": "2024-11-06T05:09:18.213Z"
   },
   {
    "duration": 0,
    "start_time": "2024-11-06T05:09:18.214Z"
   },
   {
    "duration": 0,
    "start_time": "2024-11-06T05:09:18.215Z"
   },
   {
    "duration": 0,
    "start_time": "2024-11-06T05:09:18.231Z"
   },
   {
    "duration": 0,
    "start_time": "2024-11-06T05:09:18.232Z"
   },
   {
    "duration": 0,
    "start_time": "2024-11-06T05:09:18.236Z"
   },
   {
    "duration": 0,
    "start_time": "2024-11-06T05:09:18.238Z"
   },
   {
    "duration": 0,
    "start_time": "2024-11-06T05:09:18.239Z"
   },
   {
    "duration": 0,
    "start_time": "2024-11-06T05:09:18.241Z"
   },
   {
    "duration": 0,
    "start_time": "2024-11-06T05:09:18.242Z"
   },
   {
    "duration": 0,
    "start_time": "2024-11-06T05:09:18.243Z"
   },
   {
    "duration": 0,
    "start_time": "2024-11-06T05:09:18.245Z"
   },
   {
    "duration": 0,
    "start_time": "2024-11-06T05:09:18.246Z"
   },
   {
    "duration": 0,
    "start_time": "2024-11-06T05:09:18.247Z"
   },
   {
    "duration": 0,
    "start_time": "2024-11-06T05:09:18.248Z"
   },
   {
    "duration": 0,
    "start_time": "2024-11-06T05:09:18.249Z"
   },
   {
    "duration": 0,
    "start_time": "2024-11-06T05:09:18.251Z"
   },
   {
    "duration": 0,
    "start_time": "2024-11-06T05:09:18.252Z"
   },
   {
    "duration": 0,
    "start_time": "2024-11-06T05:09:18.253Z"
   },
   {
    "duration": 0,
    "start_time": "2024-11-06T05:09:18.254Z"
   },
   {
    "duration": 0,
    "start_time": "2024-11-06T05:09:18.255Z"
   },
   {
    "duration": 0,
    "start_time": "2024-11-06T05:09:18.256Z"
   },
   {
    "duration": 0,
    "start_time": "2024-11-06T05:09:18.257Z"
   },
   {
    "duration": 893,
    "start_time": "2024-11-06T05:09:37.352Z"
   },
   {
    "duration": 1432,
    "start_time": "2024-11-06T05:09:38.247Z"
   },
   {
    "duration": 28,
    "start_time": "2024-11-06T05:09:39.681Z"
   },
   {
    "duration": 3,
    "start_time": "2024-11-06T05:09:39.711Z"
   },
   {
    "duration": 29,
    "start_time": "2024-11-06T05:09:39.716Z"
   },
   {
    "duration": 134,
    "start_time": "2024-11-06T05:09:39.747Z"
   },
   {
    "duration": 0,
    "start_time": "2024-11-06T05:09:39.885Z"
   },
   {
    "duration": 0,
    "start_time": "2024-11-06T05:09:39.887Z"
   },
   {
    "duration": 0,
    "start_time": "2024-11-06T05:09:39.888Z"
   },
   {
    "duration": 0,
    "start_time": "2024-11-06T05:09:39.889Z"
   },
   {
    "duration": 0,
    "start_time": "2024-11-06T05:09:39.889Z"
   },
   {
    "duration": 0,
    "start_time": "2024-11-06T05:09:39.891Z"
   },
   {
    "duration": 0,
    "start_time": "2024-11-06T05:09:39.892Z"
   },
   {
    "duration": 0,
    "start_time": "2024-11-06T05:09:39.894Z"
   },
   {
    "duration": 0,
    "start_time": "2024-11-06T05:09:39.895Z"
   },
   {
    "duration": 0,
    "start_time": "2024-11-06T05:09:39.896Z"
   },
   {
    "duration": 0,
    "start_time": "2024-11-06T05:09:39.897Z"
   },
   {
    "duration": 0,
    "start_time": "2024-11-06T05:09:39.899Z"
   },
   {
    "duration": 0,
    "start_time": "2024-11-06T05:09:39.900Z"
   },
   {
    "duration": 0,
    "start_time": "2024-11-06T05:09:39.901Z"
   },
   {
    "duration": 0,
    "start_time": "2024-11-06T05:09:39.902Z"
   },
   {
    "duration": 0,
    "start_time": "2024-11-06T05:09:39.903Z"
   },
   {
    "duration": 0,
    "start_time": "2024-11-06T05:09:39.904Z"
   },
   {
    "duration": 1,
    "start_time": "2024-11-06T05:09:39.931Z"
   },
   {
    "duration": 0,
    "start_time": "2024-11-06T05:09:39.933Z"
   },
   {
    "duration": 0,
    "start_time": "2024-11-06T05:09:39.933Z"
   },
   {
    "duration": 0,
    "start_time": "2024-11-06T05:09:39.934Z"
   },
   {
    "duration": 0,
    "start_time": "2024-11-06T05:09:39.935Z"
   },
   {
    "duration": 0,
    "start_time": "2024-11-06T05:09:39.937Z"
   },
   {
    "duration": 0,
    "start_time": "2024-11-06T05:09:39.938Z"
   },
   {
    "duration": 0,
    "start_time": "2024-11-06T05:09:39.939Z"
   },
   {
    "duration": 0,
    "start_time": "2024-11-06T05:09:39.939Z"
   },
   {
    "duration": 0,
    "start_time": "2024-11-06T05:09:39.940Z"
   },
   {
    "duration": 0,
    "start_time": "2024-11-06T05:09:39.941Z"
   },
   {
    "duration": 0,
    "start_time": "2024-11-06T05:09:39.942Z"
   },
   {
    "duration": 0,
    "start_time": "2024-11-06T05:09:39.943Z"
   },
   {
    "duration": 0,
    "start_time": "2024-11-06T05:09:39.944Z"
   },
   {
    "duration": 0,
    "start_time": "2024-11-06T05:09:39.945Z"
   },
   {
    "duration": 0,
    "start_time": "2024-11-06T05:09:39.946Z"
   },
   {
    "duration": 0,
    "start_time": "2024-11-06T05:09:39.947Z"
   },
   {
    "duration": 0,
    "start_time": "2024-11-06T05:09:39.949Z"
   },
   {
    "duration": 0,
    "start_time": "2024-11-06T05:09:39.950Z"
   },
   {
    "duration": 0,
    "start_time": "2024-11-06T05:09:39.951Z"
   },
   {
    "duration": 0,
    "start_time": "2024-11-06T05:09:39.952Z"
   },
   {
    "duration": 0,
    "start_time": "2024-11-06T05:09:39.953Z"
   },
   {
    "duration": 0,
    "start_time": "2024-11-06T05:09:39.954Z"
   },
   {
    "duration": 0,
    "start_time": "2024-11-06T05:09:39.955Z"
   },
   {
    "duration": 0,
    "start_time": "2024-11-06T05:09:39.956Z"
   },
   {
    "duration": 901,
    "start_time": "2024-11-06T05:10:07.420Z"
   },
   {
    "duration": 1396,
    "start_time": "2024-11-06T05:10:08.323Z"
   },
   {
    "duration": 36,
    "start_time": "2024-11-06T05:10:09.721Z"
   },
   {
    "duration": 4,
    "start_time": "2024-11-06T05:10:09.759Z"
   },
   {
    "duration": 29,
    "start_time": "2024-11-06T05:10:09.765Z"
   },
   {
    "duration": 3,
    "start_time": "2024-11-06T05:10:09.795Z"
   },
   {
    "duration": 3,
    "start_time": "2024-11-06T05:10:09.799Z"
   },
   {
    "duration": 27,
    "start_time": "2024-11-06T05:10:09.804Z"
   },
   {
    "duration": 6,
    "start_time": "2024-11-06T05:10:09.833Z"
   },
   {
    "duration": 5,
    "start_time": "2024-11-06T05:10:09.841Z"
   },
   {
    "duration": 3,
    "start_time": "2024-11-06T05:10:09.848Z"
   },
   {
    "duration": 6,
    "start_time": "2024-11-06T05:10:09.853Z"
   },
   {
    "duration": 7,
    "start_time": "2024-11-06T05:10:09.861Z"
   },
   {
    "duration": 7,
    "start_time": "2024-11-06T05:10:09.873Z"
   },
   {
    "duration": 3,
    "start_time": "2024-11-06T05:10:09.881Z"
   },
   {
    "duration": 7,
    "start_time": "2024-11-06T05:10:09.885Z"
   },
   {
    "duration": 16,
    "start_time": "2024-11-06T05:10:09.932Z"
   },
   {
    "duration": 152,
    "start_time": "2024-11-06T05:10:09.950Z"
   },
   {
    "duration": 0,
    "start_time": "2024-11-06T05:10:10.104Z"
   },
   {
    "duration": 0,
    "start_time": "2024-11-06T05:10:10.105Z"
   },
   {
    "duration": 0,
    "start_time": "2024-11-06T05:10:10.106Z"
   },
   {
    "duration": 0,
    "start_time": "2024-11-06T05:10:10.108Z"
   },
   {
    "duration": 0,
    "start_time": "2024-11-06T05:10:10.109Z"
   },
   {
    "duration": 0,
    "start_time": "2024-11-06T05:10:10.110Z"
   },
   {
    "duration": 0,
    "start_time": "2024-11-06T05:10:10.112Z"
   },
   {
    "duration": 0,
    "start_time": "2024-11-06T05:10:10.132Z"
   },
   {
    "duration": 0,
    "start_time": "2024-11-06T05:10:10.133Z"
   },
   {
    "duration": 0,
    "start_time": "2024-11-06T05:10:10.136Z"
   },
   {
    "duration": 0,
    "start_time": "2024-11-06T05:10:10.138Z"
   },
   {
    "duration": 0,
    "start_time": "2024-11-06T05:10:10.143Z"
   },
   {
    "duration": 0,
    "start_time": "2024-11-06T05:10:10.144Z"
   },
   {
    "duration": 0,
    "start_time": "2024-11-06T05:10:10.145Z"
   },
   {
    "duration": 0,
    "start_time": "2024-11-06T05:10:10.147Z"
   },
   {
    "duration": 0,
    "start_time": "2024-11-06T05:10:10.149Z"
   },
   {
    "duration": 0,
    "start_time": "2024-11-06T05:10:10.150Z"
   },
   {
    "duration": 0,
    "start_time": "2024-11-06T05:10:10.151Z"
   },
   {
    "duration": 0,
    "start_time": "2024-11-06T05:10:10.153Z"
   },
   {
    "duration": 0,
    "start_time": "2024-11-06T05:10:10.154Z"
   },
   {
    "duration": 0,
    "start_time": "2024-11-06T05:10:10.155Z"
   },
   {
    "duration": 0,
    "start_time": "2024-11-06T05:10:10.157Z"
   },
   {
    "duration": 0,
    "start_time": "2024-11-06T05:10:10.158Z"
   },
   {
    "duration": 0,
    "start_time": "2024-11-06T05:10:10.159Z"
   },
   {
    "duration": 1,
    "start_time": "2024-11-06T05:10:10.160Z"
   },
   {
    "duration": 0,
    "start_time": "2024-11-06T05:10:10.162Z"
   },
   {
    "duration": 0,
    "start_time": "2024-11-06T05:10:10.163Z"
   },
   {
    "duration": 0,
    "start_time": "2024-11-06T05:10:10.164Z"
   },
   {
    "duration": 0,
    "start_time": "2024-11-06T05:10:10.166Z"
   },
   {
    "duration": 1,
    "start_time": "2024-11-06T05:10:10.167Z"
   },
   {
    "duration": 828,
    "start_time": "2024-11-06T05:11:16.793Z"
   },
   {
    "duration": 1452,
    "start_time": "2024-11-06T05:11:17.623Z"
   },
   {
    "duration": 25,
    "start_time": "2024-11-06T05:11:19.077Z"
   },
   {
    "duration": 6,
    "start_time": "2024-11-06T05:11:19.106Z"
   },
   {
    "duration": 37,
    "start_time": "2024-11-06T05:11:19.116Z"
   },
   {
    "duration": 3,
    "start_time": "2024-11-06T05:11:19.155Z"
   },
   {
    "duration": 4,
    "start_time": "2024-11-06T05:11:19.159Z"
   },
   {
    "duration": 2,
    "start_time": "2024-11-06T05:11:19.165Z"
   },
   {
    "duration": 7,
    "start_time": "2024-11-06T05:11:19.169Z"
   },
   {
    "duration": 7,
    "start_time": "2024-11-06T05:11:19.177Z"
   },
   {
    "duration": 3,
    "start_time": "2024-11-06T05:11:19.186Z"
   },
   {
    "duration": 5,
    "start_time": "2024-11-06T05:11:19.190Z"
   },
   {
    "duration": 34,
    "start_time": "2024-11-06T05:11:19.197Z"
   },
   {
    "duration": 7,
    "start_time": "2024-11-06T05:11:19.236Z"
   },
   {
    "duration": 8,
    "start_time": "2024-11-06T05:11:19.244Z"
   },
   {
    "duration": 8,
    "start_time": "2024-11-06T05:11:19.253Z"
   },
   {
    "duration": 17,
    "start_time": "2024-11-06T05:11:19.263Z"
   },
   {
    "duration": 3,
    "start_time": "2024-11-06T05:11:19.281Z"
   },
   {
    "duration": 16,
    "start_time": "2024-11-06T05:11:19.286Z"
   },
   {
    "duration": 9,
    "start_time": "2024-11-06T05:11:19.332Z"
   },
   {
    "duration": 6,
    "start_time": "2024-11-06T05:11:19.343Z"
   },
   {
    "duration": 265,
    "start_time": "2024-11-06T05:11:19.350Z"
   },
   {
    "duration": 16,
    "start_time": "2024-11-06T05:11:19.617Z"
   },
   {
    "duration": 244,
    "start_time": "2024-11-06T05:11:19.635Z"
   },
   {
    "duration": 6,
    "start_time": "2024-11-06T05:11:19.881Z"
   },
   {
    "duration": 4,
    "start_time": "2024-11-06T05:11:19.890Z"
   },
   {
    "duration": 288,
    "start_time": "2024-11-06T05:11:19.896Z"
   },
   {
    "duration": 13,
    "start_time": "2024-11-06T05:11:20.186Z"
   },
   {
    "duration": 6,
    "start_time": "2024-11-06T05:11:20.201Z"
   },
   {
    "duration": 765,
    "start_time": "2024-11-06T05:11:20.211Z"
   },
   {
    "duration": 5,
    "start_time": "2024-11-06T05:11:20.977Z"
   },
   {
    "duration": 11,
    "start_time": "2024-11-06T05:11:20.984Z"
   },
   {
    "duration": 379,
    "start_time": "2024-11-06T05:11:20.997Z"
   },
   {
    "duration": 7,
    "start_time": "2024-11-06T05:11:21.377Z"
   },
   {
    "duration": 270,
    "start_time": "2024-11-06T05:11:21.385Z"
   },
   {
    "duration": 6,
    "start_time": "2024-11-06T05:11:21.657Z"
   },
   {
    "duration": 166,
    "start_time": "2024-11-06T05:11:21.665Z"
   },
   {
    "duration": 6,
    "start_time": "2024-11-06T05:11:21.833Z"
   },
   {
    "duration": 3,
    "start_time": "2024-11-06T05:11:21.841Z"
   },
   {
    "duration": 5,
    "start_time": "2024-11-06T05:11:21.846Z"
   },
   {
    "duration": 4,
    "start_time": "2024-11-06T05:11:21.856Z"
   },
   {
    "duration": 5,
    "start_time": "2024-11-06T05:11:21.862Z"
   },
   {
    "duration": 268,
    "start_time": "2024-11-06T05:11:21.869Z"
   },
   {
    "duration": 5,
    "start_time": "2024-11-06T05:11:22.140Z"
   },
   {
    "duration": 6,
    "start_time": "2024-11-06T05:11:22.146Z"
   },
   {
    "duration": 3,
    "start_time": "2024-11-06T05:11:22.153Z"
   },
   {
    "duration": 4,
    "start_time": "2024-11-06T05:11:22.158Z"
   },
   {
    "duration": 4,
    "start_time": "2024-11-06T05:11:22.163Z"
   },
   {
    "duration": 5,
    "start_time": "2024-11-06T05:18:53.889Z"
   },
   {
    "duration": 6,
    "start_time": "2024-11-06T05:18:55.721Z"
   },
   {
    "duration": 8,
    "start_time": "2024-11-06T05:19:21.536Z"
   },
   {
    "duration": 8,
    "start_time": "2024-11-06T05:19:27.205Z"
   },
   {
    "duration": 7,
    "start_time": "2024-11-06T05:20:13.393Z"
   },
   {
    "duration": 3,
    "start_time": "2024-11-06T05:20:32.888Z"
   },
   {
    "duration": 8,
    "start_time": "2024-11-06T05:20:34.304Z"
   },
   {
    "duration": 5,
    "start_time": "2024-11-06T05:24:03.419Z"
   },
   {
    "duration": 10,
    "start_time": "2024-11-06T05:25:15.192Z"
   },
   {
    "duration": 5,
    "start_time": "2024-11-06T05:25:32.364Z"
   },
   {
    "duration": 963,
    "start_time": "2024-11-06T05:25:51.469Z"
   },
   {
    "duration": 1388,
    "start_time": "2024-11-06T05:25:52.435Z"
   },
   {
    "duration": 37,
    "start_time": "2024-11-06T05:25:53.825Z"
   },
   {
    "duration": 4,
    "start_time": "2024-11-06T05:25:53.864Z"
   },
   {
    "duration": 35,
    "start_time": "2024-11-06T05:25:53.872Z"
   },
   {
    "duration": 3,
    "start_time": "2024-11-06T05:25:53.909Z"
   },
   {
    "duration": 3,
    "start_time": "2024-11-06T05:25:53.931Z"
   },
   {
    "duration": 2,
    "start_time": "2024-11-06T05:25:53.937Z"
   },
   {
    "duration": 6,
    "start_time": "2024-11-06T05:25:53.941Z"
   },
   {
    "duration": 6,
    "start_time": "2024-11-06T05:25:53.949Z"
   },
   {
    "duration": 2,
    "start_time": "2024-11-06T05:25:53.957Z"
   },
   {
    "duration": 13,
    "start_time": "2024-11-06T05:25:53.961Z"
   },
   {
    "duration": 9,
    "start_time": "2024-11-06T05:25:53.976Z"
   },
   {
    "duration": 44,
    "start_time": "2024-11-06T05:25:53.990Z"
   },
   {
    "duration": 5,
    "start_time": "2024-11-06T05:25:54.037Z"
   },
   {
    "duration": 8,
    "start_time": "2024-11-06T05:25:54.044Z"
   },
   {
    "duration": 17,
    "start_time": "2024-11-06T05:25:54.053Z"
   },
   {
    "duration": 2,
    "start_time": "2024-11-06T05:25:54.073Z"
   },
   {
    "duration": 13,
    "start_time": "2024-11-06T05:25:54.077Z"
   },
   {
    "duration": 8,
    "start_time": "2024-11-06T05:25:54.091Z"
   },
   {
    "duration": 40,
    "start_time": "2024-11-06T05:25:54.101Z"
   },
   {
    "duration": 260,
    "start_time": "2024-11-06T05:25:54.144Z"
   },
   {
    "duration": 11,
    "start_time": "2024-11-06T05:25:54.405Z"
   },
   {
    "duration": 253,
    "start_time": "2024-11-06T05:25:54.418Z"
   },
   {
    "duration": 15,
    "start_time": "2024-11-06T05:25:54.673Z"
   },
   {
    "duration": 4,
    "start_time": "2024-11-06T05:25:54.690Z"
   },
   {
    "duration": 320,
    "start_time": "2024-11-06T05:25:54.698Z"
   },
   {
    "duration": 21,
    "start_time": "2024-11-06T05:25:55.021Z"
   },
   {
    "duration": 3,
    "start_time": "2024-11-06T05:25:55.044Z"
   },
   {
    "duration": 697,
    "start_time": "2024-11-06T05:25:55.048Z"
   },
   {
    "duration": 5,
    "start_time": "2024-11-06T05:25:55.746Z"
   },
   {
    "duration": 16,
    "start_time": "2024-11-06T05:25:55.752Z"
   },
   {
    "duration": 402,
    "start_time": "2024-11-06T05:25:55.770Z"
   },
   {
    "duration": 7,
    "start_time": "2024-11-06T05:25:56.174Z"
   },
   {
    "duration": 256,
    "start_time": "2024-11-06T05:25:56.183Z"
   },
   {
    "duration": 6,
    "start_time": "2024-11-06T05:25:56.441Z"
   },
   {
    "duration": 158,
    "start_time": "2024-11-06T05:25:56.448Z"
   },
   {
    "duration": 7,
    "start_time": "2024-11-06T05:25:56.608Z"
   },
   {
    "duration": 15,
    "start_time": "2024-11-06T05:25:56.617Z"
   },
   {
    "duration": 6,
    "start_time": "2024-11-06T05:25:56.634Z"
   },
   {
    "duration": 7,
    "start_time": "2024-11-06T05:25:56.645Z"
   },
   {
    "duration": 5,
    "start_time": "2024-11-06T05:25:56.655Z"
   },
   {
    "duration": 274,
    "start_time": "2024-11-06T05:25:56.663Z"
   },
   {
    "duration": 7,
    "start_time": "2024-11-06T05:25:56.939Z"
   },
   {
    "duration": 6,
    "start_time": "2024-11-06T05:25:56.948Z"
   },
   {
    "duration": 3,
    "start_time": "2024-11-06T05:25:56.956Z"
   },
   {
    "duration": 6,
    "start_time": "2024-11-06T05:25:56.961Z"
   },
   {
    "duration": 4,
    "start_time": "2024-11-06T05:25:56.969Z"
   },
   {
    "duration": 4,
    "start_time": "2024-11-06T05:40:13.212Z"
   },
   {
    "duration": 3,
    "start_time": "2024-11-06T05:40:21.497Z"
   },
   {
    "duration": 8,
    "start_time": "2024-11-06T05:45:29.472Z"
   },
   {
    "duration": 7,
    "start_time": "2024-11-06T05:45:37.923Z"
   },
   {
    "duration": 16,
    "start_time": "2024-11-06T05:46:00.291Z"
   },
   {
    "duration": 7,
    "start_time": "2024-11-06T05:46:32.012Z"
   },
   {
    "duration": 8,
    "start_time": "2024-11-06T05:46:34.289Z"
   },
   {
    "duration": 17,
    "start_time": "2024-11-06T05:46:39.000Z"
   },
   {
    "duration": 3,
    "start_time": "2024-11-06T05:52:55.075Z"
   },
   {
    "duration": 22,
    "start_time": "2024-11-06T05:53:00.347Z"
   },
   {
    "duration": 9,
    "start_time": "2024-11-06T05:53:43.499Z"
   },
   {
    "duration": 9,
    "start_time": "2024-11-06T05:54:29.426Z"
   },
   {
    "duration": 874,
    "start_time": "2024-11-06T05:55:22.240Z"
   },
   {
    "duration": 1424,
    "start_time": "2024-11-06T05:55:23.117Z"
   },
   {
    "duration": 30,
    "start_time": "2024-11-06T05:55:24.544Z"
   },
   {
    "duration": 4,
    "start_time": "2024-11-06T05:55:24.576Z"
   },
   {
    "duration": 43,
    "start_time": "2024-11-06T05:55:24.583Z"
   },
   {
    "duration": 2,
    "start_time": "2024-11-06T05:55:24.632Z"
   },
   {
    "duration": 3,
    "start_time": "2024-11-06T05:55:24.636Z"
   },
   {
    "duration": 2,
    "start_time": "2024-11-06T05:55:24.641Z"
   },
   {
    "duration": 6,
    "start_time": "2024-11-06T05:55:24.645Z"
   },
   {
    "duration": 7,
    "start_time": "2024-11-06T05:55:24.653Z"
   },
   {
    "duration": 2,
    "start_time": "2024-11-06T05:55:24.663Z"
   },
   {
    "duration": 7,
    "start_time": "2024-11-06T05:55:24.667Z"
   },
   {
    "duration": 9,
    "start_time": "2024-11-06T05:55:24.677Z"
   },
   {
    "duration": 14,
    "start_time": "2024-11-06T05:55:24.691Z"
   },
   {
    "duration": 8,
    "start_time": "2024-11-06T05:55:24.731Z"
   },
   {
    "duration": 4,
    "start_time": "2024-11-06T05:55:24.741Z"
   },
   {
    "duration": 9,
    "start_time": "2024-11-06T05:55:24.747Z"
   },
   {
    "duration": 9,
    "start_time": "2024-11-06T05:55:24.758Z"
   },
   {
    "duration": 3,
    "start_time": "2024-11-06T05:55:24.769Z"
   },
   {
    "duration": 19,
    "start_time": "2024-11-06T05:55:24.774Z"
   },
   {
    "duration": 45,
    "start_time": "2024-11-06T05:55:24.795Z"
   },
   {
    "duration": 12,
    "start_time": "2024-11-06T05:55:24.841Z"
   },
   {
    "duration": 269,
    "start_time": "2024-11-06T05:55:24.855Z"
   },
   {
    "duration": 11,
    "start_time": "2024-11-06T05:55:25.131Z"
   },
   {
    "duration": 245,
    "start_time": "2024-11-06T05:55:25.145Z"
   },
   {
    "duration": 6,
    "start_time": "2024-11-06T05:55:25.392Z"
   },
   {
    "duration": 3,
    "start_time": "2024-11-06T05:55:25.401Z"
   },
   {
    "duration": 291,
    "start_time": "2024-11-06T05:55:25.407Z"
   },
   {
    "duration": 13,
    "start_time": "2024-11-06T05:55:25.699Z"
   },
   {
    "duration": 19,
    "start_time": "2024-11-06T05:55:25.714Z"
   },
   {
    "duration": 725,
    "start_time": "2024-11-06T05:55:25.735Z"
   },
   {
    "duration": 5,
    "start_time": "2024-11-06T05:55:26.462Z"
   },
   {
    "duration": 12,
    "start_time": "2024-11-06T05:55:26.468Z"
   },
   {
    "duration": 381,
    "start_time": "2024-11-06T05:55:26.481Z"
   },
   {
    "duration": 7,
    "start_time": "2024-11-06T05:55:26.864Z"
   },
   {
    "duration": 274,
    "start_time": "2024-11-06T05:55:26.873Z"
   },
   {
    "duration": 8,
    "start_time": "2024-11-06T05:55:27.149Z"
   },
   {
    "duration": 154,
    "start_time": "2024-11-06T05:55:27.159Z"
   },
   {
    "duration": 6,
    "start_time": "2024-11-06T05:55:27.315Z"
   },
   {
    "duration": 9,
    "start_time": "2024-11-06T05:55:27.323Z"
   },
   {
    "duration": 5,
    "start_time": "2024-11-06T05:55:27.337Z"
   },
   {
    "duration": 6,
    "start_time": "2024-11-06T05:55:27.343Z"
   },
   {
    "duration": 6,
    "start_time": "2024-11-06T05:55:27.351Z"
   },
   {
    "duration": 261,
    "start_time": "2024-11-06T05:55:27.359Z"
   },
   {
    "duration": 13,
    "start_time": "2024-11-06T05:55:27.622Z"
   },
   {
    "duration": 7,
    "start_time": "2024-11-06T05:55:27.637Z"
   },
   {
    "duration": 10,
    "start_time": "2024-11-06T05:55:27.646Z"
   },
   {
    "duration": 8,
    "start_time": "2024-11-06T05:55:27.658Z"
   },
   {
    "duration": 11,
    "start_time": "2024-11-06T05:55:27.669Z"
   },
   {
    "duration": 5,
    "start_time": "2024-11-06T06:00:53.382Z"
   },
   {
    "duration": 9,
    "start_time": "2024-11-06T06:01:02.840Z"
   },
   {
    "duration": 19,
    "start_time": "2024-11-06T06:01:35.937Z"
   },
   {
    "duration": 5,
    "start_time": "2024-11-06T06:02:31.786Z"
   },
   {
    "duration": 20,
    "start_time": "2024-11-06T06:02:35.765Z"
   },
   {
    "duration": 3,
    "start_time": "2024-11-06T06:08:46.696Z"
   },
   {
    "duration": 8,
    "start_time": "2024-11-06T06:08:48.994Z"
   },
   {
    "duration": 7,
    "start_time": "2024-11-06T06:08:52.966Z"
   },
   {
    "duration": 889,
    "start_time": "2024-11-06T06:09:03.893Z"
   },
   {
    "duration": 1461,
    "start_time": "2024-11-06T06:09:04.787Z"
   },
   {
    "duration": 43,
    "start_time": "2024-11-06T06:09:06.250Z"
   },
   {
    "duration": 3,
    "start_time": "2024-11-06T06:09:06.296Z"
   },
   {
    "duration": 26,
    "start_time": "2024-11-06T06:09:06.301Z"
   },
   {
    "duration": 2,
    "start_time": "2024-11-06T06:09:06.329Z"
   },
   {
    "duration": 4,
    "start_time": "2024-11-06T06:09:06.333Z"
   },
   {
    "duration": 2,
    "start_time": "2024-11-06T06:09:06.338Z"
   },
   {
    "duration": 5,
    "start_time": "2024-11-06T06:09:06.342Z"
   },
   {
    "duration": 5,
    "start_time": "2024-11-06T06:09:06.350Z"
   },
   {
    "duration": 3,
    "start_time": "2024-11-06T06:09:06.356Z"
   },
   {
    "duration": 4,
    "start_time": "2024-11-06T06:09:06.361Z"
   },
   {
    "duration": 9,
    "start_time": "2024-11-06T06:09:06.367Z"
   },
   {
    "duration": 6,
    "start_time": "2024-11-06T06:09:06.377Z"
   },
   {
    "duration": 48,
    "start_time": "2024-11-06T06:09:06.385Z"
   },
   {
    "duration": 3,
    "start_time": "2024-11-06T06:09:06.435Z"
   },
   {
    "duration": 7,
    "start_time": "2024-11-06T06:09:06.439Z"
   },
   {
    "duration": 9,
    "start_time": "2024-11-06T06:09:06.447Z"
   },
   {
    "duration": 19,
    "start_time": "2024-11-06T06:09:06.458Z"
   },
   {
    "duration": 2,
    "start_time": "2024-11-06T06:09:06.479Z"
   },
   {
    "duration": 14,
    "start_time": "2024-11-06T06:09:06.482Z"
   },
   {
    "duration": 9,
    "start_time": "2024-11-06T06:09:06.531Z"
   },
   {
    "duration": 6,
    "start_time": "2024-11-06T06:09:06.542Z"
   },
   {
    "duration": 268,
    "start_time": "2024-11-06T06:09:06.550Z"
   },
   {
    "duration": 18,
    "start_time": "2024-11-06T06:09:06.820Z"
   },
   {
    "duration": 265,
    "start_time": "2024-11-06T06:09:06.842Z"
   },
   {
    "duration": 6,
    "start_time": "2024-11-06T06:09:07.109Z"
   },
   {
    "duration": 11,
    "start_time": "2024-11-06T06:09:07.120Z"
   },
   {
    "duration": 309,
    "start_time": "2024-11-06T06:09:07.133Z"
   },
   {
    "duration": 13,
    "start_time": "2024-11-06T06:09:07.445Z"
   },
   {
    "duration": 3,
    "start_time": "2024-11-06T06:09:07.460Z"
   },
   {
    "duration": 762,
    "start_time": "2024-11-06T06:09:07.466Z"
   },
   {
    "duration": 4,
    "start_time": "2024-11-06T06:09:08.230Z"
   },
   {
    "duration": 10,
    "start_time": "2024-11-06T06:09:08.237Z"
   },
   {
    "duration": 360,
    "start_time": "2024-11-06T06:09:08.249Z"
   },
   {
    "duration": 6,
    "start_time": "2024-11-06T06:09:08.611Z"
   },
   {
    "duration": 256,
    "start_time": "2024-11-06T06:09:08.619Z"
   },
   {
    "duration": 5,
    "start_time": "2024-11-06T06:09:08.878Z"
   },
   {
    "duration": 189,
    "start_time": "2024-11-06T06:09:08.885Z"
   },
   {
    "duration": 6,
    "start_time": "2024-11-06T06:09:09.076Z"
   },
   {
    "duration": 3,
    "start_time": "2024-11-06T06:09:09.084Z"
   },
   {
    "duration": 6,
    "start_time": "2024-11-06T06:09:09.089Z"
   },
   {
    "duration": 4,
    "start_time": "2024-11-06T06:09:09.096Z"
   },
   {
    "duration": 31,
    "start_time": "2024-11-06T06:09:09.101Z"
   },
   {
    "duration": 237,
    "start_time": "2024-11-06T06:09:09.134Z"
   },
   {
    "duration": 8,
    "start_time": "2024-11-06T06:09:09.373Z"
   },
   {
    "duration": 6,
    "start_time": "2024-11-06T06:09:09.383Z"
   },
   {
    "duration": 2,
    "start_time": "2024-11-06T06:09:09.391Z"
   },
   {
    "duration": 5,
    "start_time": "2024-11-06T06:09:09.394Z"
   },
   {
    "duration": 5,
    "start_time": "2024-11-06T06:09:09.400Z"
   },
   {
    "duration": 4,
    "start_time": "2024-11-06T06:10:00.156Z"
   },
   {
    "duration": 21,
    "start_time": "2024-11-06T06:10:04.372Z"
   },
   {
    "duration": 5,
    "start_time": "2024-11-06T06:10:13.667Z"
   },
   {
    "duration": 19,
    "start_time": "2024-11-06T06:10:17.625Z"
   },
   {
    "duration": 8,
    "start_time": "2024-11-06T06:14:27.594Z"
   },
   {
    "duration": 6,
    "start_time": "2024-11-06T06:14:31.655Z"
   },
   {
    "duration": 17,
    "start_time": "2024-11-06T06:14:44.315Z"
   },
   {
    "duration": 9,
    "start_time": "2024-11-06T06:17:03.658Z"
   },
   {
    "duration": 2515,
    "start_time": "2024-11-06T14:04:49.559Z"
   },
   {
    "duration": 7025,
    "start_time": "2024-11-06T14:04:52.076Z"
   },
   {
    "duration": 40,
    "start_time": "2024-11-06T14:04:59.104Z"
   },
   {
    "duration": 4,
    "start_time": "2024-11-06T14:04:59.146Z"
   },
   {
    "duration": 28,
    "start_time": "2024-11-06T14:04:59.152Z"
   },
   {
    "duration": 2,
    "start_time": "2024-11-06T14:04:59.182Z"
   },
   {
    "duration": 3,
    "start_time": "2024-11-06T14:04:59.186Z"
   },
   {
    "duration": 3,
    "start_time": "2024-11-06T14:04:59.190Z"
   },
   {
    "duration": 5,
    "start_time": "2024-11-06T14:04:59.195Z"
   },
   {
    "duration": 5,
    "start_time": "2024-11-06T14:04:59.203Z"
   },
   {
    "duration": 34,
    "start_time": "2024-11-06T14:04:59.209Z"
   },
   {
    "duration": 3,
    "start_time": "2024-11-06T14:04:59.245Z"
   },
   {
    "duration": 7,
    "start_time": "2024-11-06T14:04:59.250Z"
   },
   {
    "duration": 6,
    "start_time": "2024-11-06T14:04:59.258Z"
   },
   {
    "duration": 3,
    "start_time": "2024-11-06T14:04:59.266Z"
   },
   {
    "duration": 5,
    "start_time": "2024-11-06T14:04:59.271Z"
   },
   {
    "duration": 4,
    "start_time": "2024-11-06T14:04:59.278Z"
   },
   {
    "duration": 6,
    "start_time": "2024-11-06T14:04:59.284Z"
   },
   {
    "duration": 52,
    "start_time": "2024-11-06T14:04:59.292Z"
   },
   {
    "duration": 5,
    "start_time": "2024-11-06T14:04:59.346Z"
   },
   {
    "duration": 0,
    "start_time": "2024-11-06T14:04:59.354Z"
   },
   {
    "duration": 0,
    "start_time": "2024-11-06T14:04:59.356Z"
   },
   {
    "duration": 0,
    "start_time": "2024-11-06T14:04:59.357Z"
   },
   {
    "duration": 0,
    "start_time": "2024-11-06T14:04:59.359Z"
   },
   {
    "duration": 0,
    "start_time": "2024-11-06T14:04:59.360Z"
   },
   {
    "duration": 0,
    "start_time": "2024-11-06T14:04:59.362Z"
   },
   {
    "duration": 0,
    "start_time": "2024-11-06T14:04:59.363Z"
   },
   {
    "duration": 0,
    "start_time": "2024-11-06T14:04:59.365Z"
   },
   {
    "duration": 0,
    "start_time": "2024-11-06T14:04:59.366Z"
   },
   {
    "duration": 0,
    "start_time": "2024-11-06T14:04:59.368Z"
   },
   {
    "duration": 0,
    "start_time": "2024-11-06T14:04:59.369Z"
   },
   {
    "duration": 0,
    "start_time": "2024-11-06T14:04:59.371Z"
   },
   {
    "duration": 0,
    "start_time": "2024-11-06T14:04:59.372Z"
   },
   {
    "duration": 0,
    "start_time": "2024-11-06T14:04:59.374Z"
   },
   {
    "duration": 0,
    "start_time": "2024-11-06T14:04:59.375Z"
   },
   {
    "duration": 0,
    "start_time": "2024-11-06T14:04:59.377Z"
   },
   {
    "duration": 0,
    "start_time": "2024-11-06T14:04:59.378Z"
   },
   {
    "duration": 0,
    "start_time": "2024-11-06T14:04:59.379Z"
   },
   {
    "duration": 0,
    "start_time": "2024-11-06T14:04:59.381Z"
   },
   {
    "duration": 0,
    "start_time": "2024-11-06T14:04:59.382Z"
   },
   {
    "duration": 0,
    "start_time": "2024-11-06T14:04:59.383Z"
   },
   {
    "duration": 0,
    "start_time": "2024-11-06T14:04:59.383Z"
   },
   {
    "duration": 0,
    "start_time": "2024-11-06T14:04:59.385Z"
   },
   {
    "duration": 0,
    "start_time": "2024-11-06T14:04:59.386Z"
   },
   {
    "duration": 0,
    "start_time": "2024-11-06T14:04:59.388Z"
   },
   {
    "duration": 0,
    "start_time": "2024-11-06T14:04:59.389Z"
   },
   {
    "duration": 0,
    "start_time": "2024-11-06T14:04:59.442Z"
   },
   {
    "duration": 0,
    "start_time": "2024-11-06T14:04:59.444Z"
   },
   {
    "duration": 0,
    "start_time": "2024-11-06T14:04:59.446Z"
   },
   {
    "duration": 0,
    "start_time": "2024-11-06T14:04:59.447Z"
   },
   {
    "duration": 0,
    "start_time": "2024-11-06T14:04:59.448Z"
   },
   {
    "duration": 0,
    "start_time": "2024-11-06T14:04:59.449Z"
   },
   {
    "duration": 806,
    "start_time": "2024-11-06T14:05:12.917Z"
   },
   {
    "duration": 1298,
    "start_time": "2024-11-06T14:05:13.725Z"
   },
   {
    "duration": 24,
    "start_time": "2024-11-06T14:05:15.026Z"
   },
   {
    "duration": 4,
    "start_time": "2024-11-06T14:05:15.051Z"
   },
   {
    "duration": 26,
    "start_time": "2024-11-06T14:05:15.058Z"
   },
   {
    "duration": 2,
    "start_time": "2024-11-06T14:05:15.086Z"
   },
   {
    "duration": 3,
    "start_time": "2024-11-06T14:05:15.089Z"
   },
   {
    "duration": 2,
    "start_time": "2024-11-06T14:05:15.094Z"
   },
   {
    "duration": 5,
    "start_time": "2024-11-06T14:05:15.097Z"
   },
   {
    "duration": 5,
    "start_time": "2024-11-06T14:05:15.104Z"
   },
   {
    "duration": 33,
    "start_time": "2024-11-06T14:05:15.110Z"
   },
   {
    "duration": 4,
    "start_time": "2024-11-06T14:05:15.145Z"
   },
   {
    "duration": 8,
    "start_time": "2024-11-06T14:05:15.150Z"
   },
   {
    "duration": 5,
    "start_time": "2024-11-06T14:05:15.161Z"
   },
   {
    "duration": 5,
    "start_time": "2024-11-06T14:05:15.168Z"
   },
   {
    "duration": 5,
    "start_time": "2024-11-06T14:05:15.175Z"
   },
   {
    "duration": 9,
    "start_time": "2024-11-06T14:05:15.181Z"
   },
   {
    "duration": 7,
    "start_time": "2024-11-06T14:05:15.192Z"
   },
   {
    "duration": 42,
    "start_time": "2024-11-06T14:05:15.200Z"
   },
   {
    "duration": 4,
    "start_time": "2024-11-06T14:05:15.244Z"
   },
   {
    "duration": 0,
    "start_time": "2024-11-06T14:05:15.250Z"
   },
   {
    "duration": 0,
    "start_time": "2024-11-06T14:05:15.251Z"
   },
   {
    "duration": 0,
    "start_time": "2024-11-06T14:05:15.252Z"
   },
   {
    "duration": 0,
    "start_time": "2024-11-06T14:05:15.253Z"
   },
   {
    "duration": 0,
    "start_time": "2024-11-06T14:05:15.254Z"
   },
   {
    "duration": 0,
    "start_time": "2024-11-06T14:05:15.254Z"
   },
   {
    "duration": 0,
    "start_time": "2024-11-06T14:05:15.256Z"
   },
   {
    "duration": 0,
    "start_time": "2024-11-06T14:05:15.257Z"
   },
   {
    "duration": 0,
    "start_time": "2024-11-06T14:05:15.259Z"
   },
   {
    "duration": 0,
    "start_time": "2024-11-06T14:05:15.260Z"
   },
   {
    "duration": 0,
    "start_time": "2024-11-06T14:05:15.262Z"
   },
   {
    "duration": 0,
    "start_time": "2024-11-06T14:05:15.263Z"
   },
   {
    "duration": 0,
    "start_time": "2024-11-06T14:05:15.265Z"
   },
   {
    "duration": 0,
    "start_time": "2024-11-06T14:05:15.266Z"
   },
   {
    "duration": 0,
    "start_time": "2024-11-06T14:05:15.268Z"
   },
   {
    "duration": 0,
    "start_time": "2024-11-06T14:05:15.269Z"
   },
   {
    "duration": 0,
    "start_time": "2024-11-06T14:05:15.271Z"
   },
   {
    "duration": 0,
    "start_time": "2024-11-06T14:05:15.273Z"
   },
   {
    "duration": 0,
    "start_time": "2024-11-06T14:05:15.275Z"
   },
   {
    "duration": 0,
    "start_time": "2024-11-06T14:05:15.277Z"
   },
   {
    "duration": 0,
    "start_time": "2024-11-06T14:05:15.278Z"
   },
   {
    "duration": 1,
    "start_time": "2024-11-06T14:05:15.279Z"
   },
   {
    "duration": 0,
    "start_time": "2024-11-06T14:05:15.281Z"
   },
   {
    "duration": 0,
    "start_time": "2024-11-06T14:05:15.282Z"
   },
   {
    "duration": 0,
    "start_time": "2024-11-06T14:05:15.342Z"
   },
   {
    "duration": 0,
    "start_time": "2024-11-06T14:05:15.343Z"
   },
   {
    "duration": 0,
    "start_time": "2024-11-06T14:05:15.344Z"
   },
   {
    "duration": 0,
    "start_time": "2024-11-06T14:05:15.345Z"
   },
   {
    "duration": 0,
    "start_time": "2024-11-06T14:05:15.346Z"
   },
   {
    "duration": 0,
    "start_time": "2024-11-06T14:05:15.348Z"
   },
   {
    "duration": 0,
    "start_time": "2024-11-06T14:05:15.354Z"
   },
   {
    "duration": 0,
    "start_time": "2024-11-06T14:05:15.355Z"
   },
   {
    "duration": 6,
    "start_time": "2024-11-06T14:10:11.787Z"
   },
   {
    "duration": 5,
    "start_time": "2024-11-06T14:13:12.266Z"
   },
   {
    "duration": 4,
    "start_time": "2024-11-06T14:15:25.768Z"
   },
   {
    "duration": 131,
    "start_time": "2024-11-06T14:32:17.279Z"
   },
   {
    "duration": 117,
    "start_time": "2024-11-06T14:32:44.819Z"
   },
   {
    "duration": 157,
    "start_time": "2024-11-06T14:33:38.069Z"
   },
   {
    "duration": 101,
    "start_time": "2024-11-06T14:33:59.332Z"
   },
   {
    "duration": 114,
    "start_time": "2024-11-06T14:34:15.820Z"
   },
   {
    "duration": 16,
    "start_time": "2024-11-06T14:40:17.989Z"
   },
   {
    "duration": 140,
    "start_time": "2024-11-06T14:45:52.833Z"
   },
   {
    "duration": 806,
    "start_time": "2024-11-06T14:46:53.523Z"
   },
   {
    "duration": 1338,
    "start_time": "2024-11-06T14:46:54.331Z"
   },
   {
    "duration": 27,
    "start_time": "2024-11-06T14:46:55.671Z"
   },
   {
    "duration": 3,
    "start_time": "2024-11-06T14:46:55.699Z"
   },
   {
    "duration": 26,
    "start_time": "2024-11-06T14:46:55.706Z"
   },
   {
    "duration": 3,
    "start_time": "2024-11-06T14:46:55.733Z"
   },
   {
    "duration": 4,
    "start_time": "2024-11-06T14:46:55.738Z"
   },
   {
    "duration": 2,
    "start_time": "2024-11-06T14:46:55.744Z"
   },
   {
    "duration": 7,
    "start_time": "2024-11-06T14:46:55.748Z"
   },
   {
    "duration": 5,
    "start_time": "2024-11-06T14:46:55.757Z"
   },
   {
    "duration": 2,
    "start_time": "2024-11-06T14:46:55.764Z"
   },
   {
    "duration": 4,
    "start_time": "2024-11-06T14:46:55.768Z"
   },
   {
    "duration": 8,
    "start_time": "2024-11-06T14:46:55.774Z"
   },
   {
    "duration": 6,
    "start_time": "2024-11-06T14:46:55.786Z"
   },
   {
    "duration": 3,
    "start_time": "2024-11-06T14:46:55.793Z"
   },
   {
    "duration": 5,
    "start_time": "2024-11-06T14:46:55.798Z"
   },
   {
    "duration": 38,
    "start_time": "2024-11-06T14:46:55.805Z"
   },
   {
    "duration": 6,
    "start_time": "2024-11-06T14:46:55.845Z"
   },
   {
    "duration": 7,
    "start_time": "2024-11-06T14:46:55.852Z"
   },
   {
    "duration": 15,
    "start_time": "2024-11-06T14:46:55.861Z"
   },
   {
    "duration": 2,
    "start_time": "2024-11-06T14:46:55.878Z"
   },
   {
    "duration": 23,
    "start_time": "2024-11-06T14:46:55.881Z"
   },
   {
    "duration": 9,
    "start_time": "2024-11-06T14:46:55.906Z"
   },
   {
    "duration": 34,
    "start_time": "2024-11-06T14:46:55.917Z"
   },
   {
    "duration": 242,
    "start_time": "2024-11-06T14:46:55.953Z"
   },
   {
    "duration": 10,
    "start_time": "2024-11-06T14:46:56.197Z"
   },
   {
    "duration": 226,
    "start_time": "2024-11-06T14:46:56.209Z"
   },
   {
    "duration": 4,
    "start_time": "2024-11-06T14:46:56.443Z"
   },
   {
    "duration": 4,
    "start_time": "2024-11-06T14:46:56.448Z"
   },
   {
    "duration": 271,
    "start_time": "2024-11-06T14:46:56.454Z"
   },
   {
    "duration": 18,
    "start_time": "2024-11-06T14:46:56.727Z"
   },
   {
    "duration": 2,
    "start_time": "2024-11-06T14:46:56.747Z"
   },
   {
    "duration": 692,
    "start_time": "2024-11-06T14:46:56.751Z"
   },
   {
    "duration": 5,
    "start_time": "2024-11-06T14:46:57.445Z"
   },
   {
    "duration": 10,
    "start_time": "2024-11-06T14:46:57.452Z"
   },
   {
    "duration": 361,
    "start_time": "2024-11-06T14:46:57.463Z"
   },
   {
    "duration": 6,
    "start_time": "2024-11-06T14:46:57.826Z"
   },
   {
    "duration": 264,
    "start_time": "2024-11-06T14:46:57.844Z"
   },
   {
    "duration": 5,
    "start_time": "2024-11-06T14:46:58.110Z"
   },
   {
    "duration": 191,
    "start_time": "2024-11-06T14:46:58.117Z"
   },
   {
    "duration": 131,
    "start_time": "2024-11-06T14:46:58.312Z"
   },
   {
    "duration": 117,
    "start_time": "2024-11-06T14:46:58.444Z"
   },
   {
    "duration": 5,
    "start_time": "2024-11-06T14:46:58.563Z"
   },
   {
    "duration": 5,
    "start_time": "2024-11-06T14:46:58.570Z"
   },
   {
    "duration": 5,
    "start_time": "2024-11-06T14:46:58.576Z"
   },
   {
    "duration": 4,
    "start_time": "2024-11-06T14:46:58.582Z"
   },
   {
    "duration": 5,
    "start_time": "2024-11-06T14:46:58.587Z"
   },
   {
    "duration": 271,
    "start_time": "2024-11-06T14:46:58.594Z"
   },
   {
    "duration": 6,
    "start_time": "2024-11-06T14:46:58.867Z"
   },
   {
    "duration": 5,
    "start_time": "2024-11-06T14:46:58.875Z"
   },
   {
    "duration": 3,
    "start_time": "2024-11-06T14:46:58.881Z"
   },
   {
    "duration": 5,
    "start_time": "2024-11-06T14:46:58.885Z"
   },
   {
    "duration": 4,
    "start_time": "2024-11-06T14:46:58.893Z"
   },
   {
    "duration": 5,
    "start_time": "2024-11-06T16:02:44.712Z"
   },
   {
    "duration": 108,
    "start_time": "2024-11-06T16:03:40.302Z"
   },
   {
    "duration": 114,
    "start_time": "2024-11-06T16:03:53.154Z"
   },
   {
    "duration": 107,
    "start_time": "2024-11-06T16:04:12.825Z"
   },
   {
    "duration": 108,
    "start_time": "2024-11-06T16:04:33.109Z"
   },
   {
    "duration": 119,
    "start_time": "2024-11-06T16:04:51.522Z"
   },
   {
    "duration": 121,
    "start_time": "2024-11-06T16:05:29.767Z"
   },
   {
    "duration": 121,
    "start_time": "2024-11-06T16:05:39.395Z"
   },
   {
    "duration": 199,
    "start_time": "2024-11-06T16:06:16.131Z"
   },
   {
    "duration": 3231,
    "start_time": "2024-11-07T14:59:23.250Z"
   },
   {
    "duration": 3,
    "start_time": "2024-11-07T14:59:33.027Z"
   }
  ],
  "kernelspec": {
   "display_name": "Python 3 (ipykernel)",
   "language": "python",
   "name": "python3"
  },
  "language_info": {
   "codemirror_mode": {
    "name": "ipython",
    "version": 3
   },
   "file_extension": ".py",
   "mimetype": "text/x-python",
   "name": "python",
   "nbconvert_exporter": "python",
   "pygments_lexer": "ipython3",
   "version": "3.9.19"
  },
  "toc": {
   "base_numbering": 1,
   "nav_menu": {},
   "number_sections": true,
   "sideBar": true,
   "skip_h1_title": true,
   "title_cell": "Table of Contents",
   "title_sidebar": "Contents",
   "toc_cell": false,
   "toc_position": {},
   "toc_section_display": true,
   "toc_window_display": false
  }
 },
 "nbformat": 4,
 "nbformat_minor": 5
}

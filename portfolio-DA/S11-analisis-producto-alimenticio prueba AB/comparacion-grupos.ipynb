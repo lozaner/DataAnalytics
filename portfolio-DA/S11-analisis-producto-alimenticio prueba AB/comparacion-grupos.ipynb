{
 "cells": [
  {
   "cell_type": "markdown",
   "metadata": {},
   "source": [
    "# Proposito del Proyecto "
   ]
  },
  {
   "cell_type": "markdown",
   "metadata": {},
   "source": []
  },
  {
   "cell_type": "markdown",
   "metadata": {},
   "source": [
    "# 1.1 Iniciacion"
   ]
  },
  {
   "cell_type": "code",
   "execution_count": 82,
   "metadata": {},
   "outputs": [],
   "source": [
    "import pandas as pd\n",
    "import numpy as np\n",
    "from matplotlib import pyplot as plt\n",
    "import seaborn as sns\n",
    "from scipy import stats\n",
    "import datetime as dt\n",
    "import sidetable as stb\n",
    "from scipy.stats import norm"
   ]
  },
  {
   "cell_type": "markdown",
   "metadata": {},
   "source": [
    "# 1.2 Carga de Datos"
   ]
  },
  {
   "cell_type": "code",
   "execution_count": 11,
   "metadata": {},
   "outputs": [],
   "source": [
    "data_raw = pd.read_csv(\"logs_exp_us.csv\", sep=\"\\t\")\n",
    "\n",
    "#/datasets/"
   ]
  },
  {
   "cell_type": "markdown",
   "metadata": {},
   "source": [
    "## 1.3 Preparar los datos"
   ]
  },
  {
   "cell_type": "code",
   "execution_count": 12,
   "metadata": {},
   "outputs": [],
   "source": [
    "def info_gral(datos):\n",
    "    print(\"------Primeras Filas------\")\n",
    "    print(datos.head())\n",
    "    print()\n",
    "    print(\"------Datos Generales------\")\n",
    "    print(datos.info())\n",
    "    print()\n",
    "    print(\"------Revision de Datos Ausentes------\")\n",
    "    print(datos.isna().sum())\n",
    "    print()\n",
    "    print(\"------Revision de Duplicados------\")\n",
    "    print(datos.duplicated().sum())\n",
    "    print()\n",
    "    print(\"------Valores Faltantes------\")\n",
    "    print(datos.stb.missing())"
   ]
  },
  {
   "cell_type": "markdown",
   "metadata": {},
   "source": [
    "## 1.4 Limpieza de Datos"
   ]
  },
  {
   "cell_type": "code",
   "execution_count": 13,
   "metadata": {},
   "outputs": [
    {
     "name": "stdout",
     "output_type": "stream",
     "text": [
      "------Primeras Filas------\n",
      "                 EventName         DeviceIDHash  EventTimestamp  ExpId\n",
      "0         MainScreenAppear  4575588528974610257      1564029816    246\n",
      "1         MainScreenAppear  7416695313311560658      1564053102    246\n",
      "2  PaymentScreenSuccessful  3518123091307005509      1564054127    248\n",
      "3         CartScreenAppear  3518123091307005509      1564054127    248\n",
      "4  PaymentScreenSuccessful  6217807653094995999      1564055322    248\n",
      "\n",
      "------Datos Generales------\n",
      "<class 'pandas.core.frame.DataFrame'>\n",
      "RangeIndex: 244126 entries, 0 to 244125\n",
      "Data columns (total 4 columns):\n",
      " #   Column          Non-Null Count   Dtype \n",
      "---  ------          --------------   ----- \n",
      " 0   EventName       244126 non-null  object\n",
      " 1   DeviceIDHash    244126 non-null  int64 \n",
      " 2   EventTimestamp  244126 non-null  int64 \n",
      " 3   ExpId           244126 non-null  int64 \n",
      "dtypes: int64(3), object(1)\n",
      "memory usage: 7.5+ MB\n",
      "None\n",
      "\n",
      "------Revision de Datos Ausentes------\n",
      "EventName         0\n",
      "DeviceIDHash      0\n",
      "EventTimestamp    0\n",
      "ExpId             0\n",
      "dtype: int64\n",
      "\n",
      "------Revision de Duplicados------\n",
      "413\n",
      "\n",
      "------Valores Faltantes------\n",
      "                missing   total  percent\n",
      "EventName             0  244126      0.0\n",
      "DeviceIDHash          0  244126      0.0\n",
      "EventTimestamp        0  244126      0.0\n",
      "ExpId                 0  244126      0.0\n"
     ]
    }
   ],
   "source": [
    "info_gral(data_raw)"
   ]
  },
  {
   "cell_type": "code",
   "execution_count": 14,
   "metadata": {},
   "outputs": [],
   "source": [
    "data_raw.columns = ['event', 'user', 'timestamp', 'exp_id']"
   ]
  },
  {
   "cell_type": "code",
   "execution_count": 15,
   "metadata": {},
   "outputs": [
    {
     "name": "stdout",
     "output_type": "stream",
     "text": [
      "0\n"
     ]
    }
   ],
   "source": [
    "data = data_raw.drop_duplicates()\n",
    "print(data.duplicated().sum())\n"
   ]
  },
  {
   "cell_type": "code",
   "execution_count": 16,
   "metadata": {},
   "outputs": [
    {
     "name": "stderr",
     "output_type": "stream",
     "text": [
      "/var/folders/20/2__1c8y56qnb6vtl8__m86_h0000gn/T/ipykernel_1086/2984457363.py:1: SettingWithCopyWarning: \n",
      "A value is trying to be set on a copy of a slice from a DataFrame.\n",
      "Try using .loc[row_indexer,col_indexer] = value instead\n",
      "\n",
      "See the caveats in the documentation: https://pandas.pydata.org/pandas-docs/stable/user_guide/indexing.html#returning-a-view-versus-a-copy\n",
      "  data.loc[:, 'datetime'] = pd.to_datetime(data['timestamp'], unit='s')\n"
     ]
    },
    {
     "data": {
      "text/plain": [
       "0        2019-07-25 04:43:36\n",
       "1        2019-07-25 11:11:42\n",
       "2        2019-07-25 11:28:47\n",
       "3        2019-07-25 11:28:47\n",
       "4        2019-07-25 11:48:42\n",
       "                 ...        \n",
       "244121   2019-08-07 21:12:25\n",
       "244122   2019-08-07 21:13:59\n",
       "244123   2019-08-07 21:14:43\n",
       "244124   2019-08-07 21:14:58\n",
       "244125   2019-08-07 21:15:17\n",
       "Name: datetime, Length: 243713, dtype: datetime64[ns]"
      ]
     },
     "execution_count": 16,
     "metadata": {},
     "output_type": "execute_result"
    }
   ],
   "source": [
    "data.loc[:, 'datetime'] = pd.to_datetime(data['timestamp'], unit='s')\n",
    "\n",
    "data['datetime']\n"
   ]
  },
  {
   "cell_type": "code",
   "execution_count": 17,
   "metadata": {},
   "outputs": [
    {
     "name": "stderr",
     "output_type": "stream",
     "text": [
      "/var/folders/20/2__1c8y56qnb6vtl8__m86_h0000gn/T/ipykernel_1086/2377806039.py:1: SettingWithCopyWarning: \n",
      "A value is trying to be set on a copy of a slice from a DataFrame.\n",
      "Try using .loc[row_indexer,col_indexer] = value instead\n",
      "\n",
      "See the caveats in the documentation: https://pandas.pydata.org/pandas-docs/stable/user_guide/indexing.html#returning-a-view-versus-a-copy\n",
      "  data.loc[:,'date']=data['datetime'].dt.floor('1D')\n"
     ]
    },
    {
     "data": {
      "text/plain": [
       "0        2019-07-25\n",
       "1        2019-07-25\n",
       "2        2019-07-25\n",
       "3        2019-07-25\n",
       "4        2019-07-25\n",
       "            ...    \n",
       "244121   2019-08-07\n",
       "244122   2019-08-07\n",
       "244123   2019-08-07\n",
       "244124   2019-08-07\n",
       "244125   2019-08-07\n",
       "Name: date, Length: 243713, dtype: datetime64[ns]"
      ]
     },
     "execution_count": 17,
     "metadata": {},
     "output_type": "execute_result"
    }
   ],
   "source": [
    "data.loc[:,'date']=data['datetime'].dt.floor('1D')\n",
    "data['date']"
   ]
  },
  {
   "cell_type": "markdown",
   "metadata": {},
   "source": [
    "# Estudiar y comprobar los datos"
   ]
  },
  {
   "cell_type": "code",
   "execution_count": 18,
   "metadata": {},
   "outputs": [
    {
     "data": {
      "text/plain": [
       "['MainScreenAppear',\n",
       " 'PaymentScreenSuccessful',\n",
       " 'CartScreenAppear',\n",
       " 'OffersScreenAppear',\n",
       " 'Tutorial']"
      ]
     },
     "execution_count": 18,
     "metadata": {},
     "output_type": "execute_result"
    }
   ],
   "source": [
    "list(data['event'].unique())"
   ]
  },
  {
   "cell_type": "markdown",
   "metadata": {},
   "source": [
    "### ¿Cuántos eventos hay en los registros?"
   ]
  },
  {
   "cell_type": "code",
   "execution_count": 19,
   "metadata": {},
   "outputs": [
    {
     "name": "stdout",
     "output_type": "stream",
     "text": [
      "243713\n"
     ]
    }
   ],
   "source": [
    "print(len(data))\n"
   ]
  },
  {
   "cell_type": "markdown",
   "metadata": {},
   "source": [
    "Hay 243,713 eventos registrados"
   ]
  },
  {
   "cell_type": "markdown",
   "metadata": {},
   "source": [
    "### ¿Cuántos usuarios hay en los registros?"
   ]
  },
  {
   "cell_type": "code",
   "execution_count": 20,
   "metadata": {},
   "outputs": [
    {
     "name": "stdout",
     "output_type": "stream",
     "text": [
      "7551\n"
     ]
    }
   ],
   "source": [
    "print(data['user'].nunique())"
   ]
  },
  {
   "cell_type": "markdown",
   "metadata": {},
   "source": [
    "Hay 7551 usuarios unicos "
   ]
  },
  {
   "cell_type": "markdown",
   "metadata": {},
   "source": [
    "### ¿Cuál es el promedio de eventos por usuario?"
   ]
  },
  {
   "cell_type": "code",
   "execution_count": 21,
   "metadata": {},
   "outputs": [
    {
     "data": {
      "text/plain": [
       "32.27559263673685"
      ]
     },
     "execution_count": 21,
     "metadata": {},
     "output_type": "execute_result"
    }
   ],
   "source": [
    "len(data) / data['user'].nunique()"
   ]
  },
  {
   "cell_type": "markdown",
   "metadata": {},
   "source": [
    "Hay un promedio de 32 eventos por cada usuario"
   ]
  },
  {
   "cell_type": "markdown",
   "metadata": {},
   "source": [
    "¿Qué periodo de tiempo cubren los datos? Encuentra la fecha máxima y mínima. Traza un histograma por fecha y hora. ¿Puedes tener seguridad de que tienes datos igualmente completos para todo el periodo? Los eventos más antiguos podrían terminar en los registros de algunos usuarios por razones técnicas y esto podría sesgar el panorama general. Encuentra el momento en el que los datos comienzan a estar completos e ignora la sección anterior. ¿Qué periodo representan realmente los datos?"
   ]
  },
  {
   "cell_type": "code",
   "execution_count": 22,
   "metadata": {},
   "outputs": [
    {
     "data": {
      "text/plain": [
       "<Axes: >"
      ]
     },
     "execution_count": 22,
     "metadata": {},
     "output_type": "execute_result"
    },
    {
     "data": {
      "image/png": "[encoded data removed]",
      "text/plain": [
       "<Figure size 1400x500 with 1 Axes>"
      ]
     },
     "metadata": {},
     "output_type": "display_data"
    }
   ],
   "source": [
    "data['datetime'].hist(bins=100, figsize =(14,5))"
   ]
  },
  {
   "cell_type": "code",
   "execution_count": 23,
   "metadata": {},
   "outputs": [
    {
     "data": {
      "text/plain": [
       "<Axes: xlabel='date'>"
      ]
     },
     "execution_count": 23,
     "metadata": {},
     "output_type": "execute_result"
    },
    {
     "data": {
      "image/png": "[encoded data removed]",
      "text/plain": [
       "<Figure size 640x480 with 1 Axes>"
      ]
     },
     "metadata": {},
     "output_type": "display_data"
    }
   ],
   "source": [
    "data.pivot_table(index='date', values='user', aggfunc ='count').plot(style= 'o-' , grid=True )"
   ]
  },
  {
   "cell_type": "markdown",
   "metadata": {},
   "source": [
    "Aqui notamos que hubo un incremento en la muestra apartir del 01 de agosto 2019 "
   ]
  },
  {
   "cell_type": "code",
   "execution_count": 24,
   "metadata": {},
   "outputs": [],
   "source": [
    "data_clean =data.query('datetime > \"2019-08-01\"').reset_index()"
   ]
  },
  {
   "cell_type": "code",
   "execution_count": 25,
   "metadata": {},
   "outputs": [
    {
     "data": {
      "text/plain": [
       "<Axes: xlabel='date'>"
      ]
     },
     "execution_count": 25,
     "metadata": {},
     "output_type": "execute_result"
    },
    {
     "data": {
      "image/png": "[encoded data removed]",
      "text/plain": [
       "<Figure size 640x480 with 1 Axes>"
      ]
     },
     "metadata": {},
     "output_type": "display_data"
    }
   ],
   "source": [
    "data_clean.pivot_table(index='date', values='user', aggfunc ='count').plot(style= 'o-' , grid=True )"
   ]
  },
  {
   "cell_type": "code",
   "execution_count": 26,
   "metadata": {},
   "outputs": [
    {
     "data": {
      "text/plain": [
       "<Axes: >"
      ]
     },
     "execution_count": 26,
     "metadata": {},
     "output_type": "execute_result"
    },
    {
     "data": {
      "image/png": "[encoded data removed]",
      "text/plain": [
       "<Figure size 1400x500 with 1 Axes>"
      ]
     },
     "metadata": {},
     "output_type": "display_data"
    }
   ],
   "source": [
    "data_clean['datetime'].hist(bins=100, figsize =(14,5))"
   ]
  },
  {
   "cell_type": "markdown",
   "metadata": {},
   "source": [
    "tomamos los datos donde se tiene mayor muestras que son 01/Agosto/2019"
   ]
  },
  {
   "cell_type": "markdown",
   "metadata": {},
   "source": [
    "### ¿Perdiste muchos eventos y usuarios al excluir los datos más antiguos?"
   ]
  },
  {
   "cell_type": "code",
   "execution_count": 27,
   "metadata": {},
   "outputs": [
    {
     "data": {
      "text/plain": [
       "240887"
      ]
     },
     "execution_count": 27,
     "metadata": {},
     "output_type": "execute_result"
    }
   ],
   "source": [
    "total_event_clean = len(data_clean)\n",
    "total_event_clean"
   ]
  },
  {
   "cell_type": "markdown",
   "metadata": {},
   "source": [
    "Ya ocupando la muestra antes mencionada tenemos 240887 eventos"
   ]
  },
  {
   "cell_type": "code",
   "execution_count": 44,
   "metadata": {},
   "outputs": [
    {
     "name": "stdout",
     "output_type": "stream",
     "text": [
      "Eventos perdidos: 2826\n",
      "Porcentaje de eventos perdidos: 1.16%\n"
     ]
    }
   ],
   "source": [
    "# Calcular la diferencia\n",
    "eventos_perdidos = len (data) - total_event_clean\n",
    "\n",
    "# Calcular el porcentaje de eventos perdidos\n",
    "porcentaje_perdido = (eventos_perdidos / len (data)) * 100\n",
    "\n",
    "print(f\"Eventos perdidos: {eventos_perdidos}\")\n",
    "print(f\"Porcentaje de eventos perdidos: {porcentaje_perdido:.2f}%\")"
   ]
  },
  {
   "cell_type": "code",
   "execution_count": 29,
   "metadata": {},
   "outputs": [
    {
     "data": {
      "text/plain": [
       "7534"
      ]
     },
     "execution_count": 29,
     "metadata": {},
     "output_type": "execute_result"
    }
   ],
   "source": [
    "users_clean =len(data_clean['user'].unique())\n",
    "users_clean"
   ]
  },
  {
   "cell_type": "code",
   "execution_count": 48,
   "metadata": {},
   "outputs": [
    {
     "name": "stdout",
     "output_type": "stream",
     "text": [
      "Clientes perdidos: 17\n",
      "Porcentaje de clientes perdidos: 0.23%\n"
     ]
    }
   ],
   "source": [
    "# Calcular la diferencia\n",
    "clientes_perdidos = data['user'].nunique() - users_clean\n",
    "\n",
    "# Calcular el porcentaje de eventos perdidos\n",
    "porcentaje_perdido = (clientes_perdidos / data['user'].nunique()) * 100\n",
    "\n",
    "print(f\"Clientes perdidos: {clientes_perdidos}\")\n",
    "print(f\"Porcentaje de clientes perdidos: {porcentaje_perdido:.2f}%\")"
   ]
  },
  {
   "cell_type": "markdown",
   "metadata": {},
   "source": [
    "Ocupando la muestra mencionada tenemos 7534 usuarios unicos"
   ]
  },
  {
   "cell_type": "code",
   "execution_count": 30,
   "metadata": {},
   "outputs": [
    {
     "data": {
      "text/plain": [
       "31.97332094504911"
      ]
     },
     "execution_count": 30,
     "metadata": {},
     "output_type": "execute_result"
    }
   ],
   "source": [
    "eventos_per_user = total_event_clean/users_clean\n",
    "eventos_per_user"
   ]
  },
  {
   "cell_type": "markdown",
   "metadata": {},
   "source": [
    "Y el promedio ocupando esta muestra es de 31.9 eventos por resgistro esto es un aproximado."
   ]
  },
  {
   "cell_type": "code",
   "execution_count": 53,
   "metadata": {},
   "outputs": [
    {
     "name": "stdout",
     "output_type": "stream",
     "text": [
      "Promedio de evento por usuario perdidos: 0.30%\n"
     ]
    }
   ],
   "source": [
    "# Calcular la diferencia\n",
    "porcentaje_perdido = len(data) / data['user'].nunique() - eventos_per_user\n",
    "\n",
    "print(f\"Promedio de evento por usuario perdidos: {eventos_per_user_perdidos:.2f}%\")"
   ]
  },
  {
   "cell_type": "markdown",
   "metadata": {},
   "source": [
    "Revisando los datos que tomamos de la fecha de 01/Agosto/2019 a terminar los registros no es un porcentaje tan grabante de los usuarios, eventos y promedio por evento ya que tenemos 1.16% de eventos perdidos 0.23 de clientes perdidos y el promedio de eventos por usuario no se ve muy afectado es solo 0.30%"
   ]
  },
  {
   "cell_type": "markdown",
   "metadata": {},
   "source": [
    "### Asegúrate de tener usuarios de los tres grupos experimentales."
   ]
  },
  {
   "cell_type": "code",
   "execution_count": 31,
   "metadata": {},
   "outputs": [
    {
     "data": {
      "text/plain": [
       "exp_id\n",
       "248    85582\n",
       "246    80181\n",
       "247    77950\n",
       "Name: count, dtype: int64"
      ]
     },
     "execution_count": 31,
     "metadata": {},
     "output_type": "execute_result"
    }
   ],
   "source": [
    "data['exp_id'].value_counts()"
   ]
  },
  {
   "cell_type": "code",
   "execution_count": 32,
   "metadata": {},
   "outputs": [
    {
     "data": {
      "text/html": [
       "<div>\n",
       "<style scoped>\n",
       "    .dataframe tbody tr th:only-of-type {\n",
       "        vertical-align: middle;\n",
       "    }\n",
       "\n",
       "    .dataframe tbody tr th {\n",
       "        vertical-align: top;\n",
       "    }\n",
       "\n",
       "    .dataframe thead th {\n",
       "        text-align: right;\n",
       "    }\n",
       "</style>\n",
       "<table border=\"1\" class=\"dataframe\">\n",
       "  <thead>\n",
       "    <tr style=\"text-align: right;\">\n",
       "      <th></th>\n",
       "      <th>user</th>\n",
       "    </tr>\n",
       "    <tr>\n",
       "      <th>event</th>\n",
       "      <th></th>\n",
       "    </tr>\n",
       "  </thead>\n",
       "  <tbody>\n",
       "    <tr>\n",
       "      <th>MainScreenAppear</th>\n",
       "      <td>119101</td>\n",
       "    </tr>\n",
       "    <tr>\n",
       "      <th>OffersScreenAppear</th>\n",
       "      <td>46808</td>\n",
       "    </tr>\n",
       "    <tr>\n",
       "      <th>CartScreenAppear</th>\n",
       "      <td>42668</td>\n",
       "    </tr>\n",
       "    <tr>\n",
       "      <th>PaymentScreenSuccessful</th>\n",
       "      <td>34118</td>\n",
       "    </tr>\n",
       "    <tr>\n",
       "      <th>Tutorial</th>\n",
       "      <td>1018</td>\n",
       "    </tr>\n",
       "  </tbody>\n",
       "</table>\n",
       "</div>"
      ],
      "text/plain": [
       "                           user\n",
       "event                          \n",
       "MainScreenAppear         119101\n",
       "OffersScreenAppear        46808\n",
       "CartScreenAppear          42668\n",
       "PaymentScreenSuccessful   34118\n",
       "Tutorial                   1018"
      ]
     },
     "execution_count": 32,
     "metadata": {},
     "output_type": "execute_result"
    }
   ],
   "source": [
    "data.pivot_table(index='event', values='user', aggfunc ='count').sort_values('user', ascending=False)"
   ]
  },
  {
   "cell_type": "code",
   "execution_count": 33,
   "metadata": {},
   "outputs": [
    {
     "data": {
      "text/html": [
       "<div>\n",
       "<style scoped>\n",
       "    .dataframe tbody tr th:only-of-type {\n",
       "        vertical-align: middle;\n",
       "    }\n",
       "\n",
       "    .dataframe tbody tr th {\n",
       "        vertical-align: top;\n",
       "    }\n",
       "\n",
       "    .dataframe thead th {\n",
       "        text-align: right;\n",
       "    }\n",
       "</style>\n",
       "<table border=\"1\" class=\"dataframe\">\n",
       "  <thead>\n",
       "    <tr style=\"text-align: right;\">\n",
       "      <th></th>\n",
       "      <th>user</th>\n",
       "    </tr>\n",
       "    <tr>\n",
       "      <th>event</th>\n",
       "      <th></th>\n",
       "    </tr>\n",
       "  </thead>\n",
       "  <tbody>\n",
       "    <tr>\n",
       "      <th>MainScreenAppear</th>\n",
       "      <td>7419</td>\n",
       "    </tr>\n",
       "    <tr>\n",
       "      <th>OffersScreenAppear</th>\n",
       "      <td>4593</td>\n",
       "    </tr>\n",
       "    <tr>\n",
       "      <th>CartScreenAppear</th>\n",
       "      <td>3734</td>\n",
       "    </tr>\n",
       "    <tr>\n",
       "      <th>PaymentScreenSuccessful</th>\n",
       "      <td>3539</td>\n",
       "    </tr>\n",
       "    <tr>\n",
       "      <th>Tutorial</th>\n",
       "      <td>840</td>\n",
       "    </tr>\n",
       "  </tbody>\n",
       "</table>\n",
       "</div>"
      ],
      "text/plain": [
       "                         user\n",
       "event                        \n",
       "MainScreenAppear         7419\n",
       "OffersScreenAppear       4593\n",
       "CartScreenAppear         3734\n",
       "PaymentScreenSuccessful  3539\n",
       "Tutorial                  840"
      ]
     },
     "execution_count": 33,
     "metadata": {},
     "output_type": "execute_result"
    }
   ],
   "source": [
    "users_per_event = data_clean.pivot_table(\n",
    "    index='event', \n",
    "    values= 'user', \n",
    "    aggfunc='nunique'\n",
    "    ).sort_values('user',ascending=False)\n",
    "users_per_event\n"
   ]
  },
  {
   "cell_type": "code",
   "execution_count": 34,
   "metadata": {},
   "outputs": [
    {
     "data": {
      "text/html": [
       "<div>\n",
       "<style scoped>\n",
       "    .dataframe tbody tr th:only-of-type {\n",
       "        vertical-align: middle;\n",
       "    }\n",
       "\n",
       "    .dataframe tbody tr th {\n",
       "        vertical-align: top;\n",
       "    }\n",
       "\n",
       "    .dataframe thead th {\n",
       "        text-align: right;\n",
       "    }\n",
       "</style>\n",
       "<table border=\"1\" class=\"dataframe\">\n",
       "  <thead>\n",
       "    <tr style=\"text-align: right;\">\n",
       "      <th></th>\n",
       "      <th>user</th>\n",
       "    </tr>\n",
       "    <tr>\n",
       "      <th>event</th>\n",
       "      <th></th>\n",
       "    </tr>\n",
       "  </thead>\n",
       "  <tbody>\n",
       "    <tr>\n",
       "      <th>MainScreenAppear</th>\n",
       "      <td>0.984736</td>\n",
       "    </tr>\n",
       "    <tr>\n",
       "      <th>OffersScreenAppear</th>\n",
       "      <td>0.609636</td>\n",
       "    </tr>\n",
       "    <tr>\n",
       "      <th>CartScreenAppear</th>\n",
       "      <td>0.495620</td>\n",
       "    </tr>\n",
       "    <tr>\n",
       "      <th>PaymentScreenSuccessful</th>\n",
       "      <td>0.469737</td>\n",
       "    </tr>\n",
       "    <tr>\n",
       "      <th>Tutorial</th>\n",
       "      <td>0.111495</td>\n",
       "    </tr>\n",
       "  </tbody>\n",
       "</table>\n",
       "</div>"
      ],
      "text/plain": [
       "                             user\n",
       "event                            \n",
       "MainScreenAppear         0.984736\n",
       "OffersScreenAppear       0.609636\n",
       "CartScreenAppear         0.495620\n",
       "PaymentScreenSuccessful  0.469737\n",
       "Tutorial                 0.111495"
      ]
     },
     "execution_count": 34,
     "metadata": {},
     "output_type": "execute_result"
    }
   ],
   "source": [
    "users_per_event / data_clean['user'].nunique()"
   ]
  },
  {
   "cell_type": "code",
   "execution_count": 35,
   "metadata": {},
   "outputs": [
    {
     "data": {
      "text/html": [
       "<div>\n",
       "<style scoped>\n",
       "    .dataframe tbody tr th:only-of-type {\n",
       "        vertical-align: middle;\n",
       "    }\n",
       "\n",
       "    .dataframe tbody tr th {\n",
       "        vertical-align: top;\n",
       "    }\n",
       "\n",
       "    .dataframe thead th {\n",
       "        text-align: right;\n",
       "    }\n",
       "</style>\n",
       "<table border=\"1\" class=\"dataframe\">\n",
       "  <thead>\n",
       "    <tr style=\"text-align: right;\">\n",
       "      <th></th>\n",
       "      <th>user</th>\n",
       "    </tr>\n",
       "    <tr>\n",
       "      <th>event</th>\n",
       "      <th></th>\n",
       "    </tr>\n",
       "  </thead>\n",
       "  <tbody>\n",
       "    <tr>\n",
       "      <th>MainScreenAppear</th>\n",
       "      <td>7419</td>\n",
       "    </tr>\n",
       "    <tr>\n",
       "      <th>OffersScreenAppear</th>\n",
       "      <td>4593</td>\n",
       "    </tr>\n",
       "    <tr>\n",
       "      <th>CartScreenAppear</th>\n",
       "      <td>3734</td>\n",
       "    </tr>\n",
       "    <tr>\n",
       "      <th>PaymentScreenSuccessful</th>\n",
       "      <td>3539</td>\n",
       "    </tr>\n",
       "  </tbody>\n",
       "</table>\n",
       "</div>"
      ],
      "text/plain": [
       "                         user\n",
       "event                        \n",
       "MainScreenAppear         7419\n",
       "OffersScreenAppear       4593\n",
       "CartScreenAppear         3734\n",
       "PaymentScreenSuccessful  3539"
      ]
     },
     "execution_count": 35,
     "metadata": {},
     "output_type": "execute_result"
    }
   ],
   "source": [
    "users_funnel = users_per_event[:-1]\n",
    "users_funnel"
   ]
  },
  {
   "cell_type": "code",
   "execution_count": 36,
   "metadata": {},
   "outputs": [
    {
     "data": {
      "text/html": [
       "<div>\n",
       "<style scoped>\n",
       "    .dataframe tbody tr th:only-of-type {\n",
       "        vertical-align: middle;\n",
       "    }\n",
       "\n",
       "    .dataframe tbody tr th {\n",
       "        vertical-align: top;\n",
       "    }\n",
       "\n",
       "    .dataframe thead th {\n",
       "        text-align: right;\n",
       "    }\n",
       "</style>\n",
       "<table border=\"1\" class=\"dataframe\">\n",
       "  <thead>\n",
       "    <tr style=\"text-align: right;\">\n",
       "      <th></th>\n",
       "      <th>user</th>\n",
       "    </tr>\n",
       "    <tr>\n",
       "      <th>event</th>\n",
       "      <th></th>\n",
       "    </tr>\n",
       "  </thead>\n",
       "  <tbody>\n",
       "    <tr>\n",
       "      <th>MainScreenAppear</th>\n",
       "      <td>1.000000</td>\n",
       "    </tr>\n",
       "    <tr>\n",
       "      <th>OffersScreenAppear</th>\n",
       "      <td>0.619086</td>\n",
       "    </tr>\n",
       "    <tr>\n",
       "      <th>CartScreenAppear</th>\n",
       "      <td>0.812976</td>\n",
       "    </tr>\n",
       "    <tr>\n",
       "      <th>PaymentScreenSuccessful</th>\n",
       "      <td>0.947777</td>\n",
       "    </tr>\n",
       "  </tbody>\n",
       "</table>\n",
       "</div>"
      ],
      "text/plain": [
       "                             user\n",
       "event                            \n",
       "MainScreenAppear         1.000000\n",
       "OffersScreenAppear       0.619086\n",
       "CartScreenAppear         0.812976\n",
       "PaymentScreenSuccessful  0.947777"
      ]
     },
     "execution_count": 36,
     "metadata": {},
     "output_type": "execute_result"
    }
   ],
   "source": [
    "users_funnel = (users_funnel / users_funnel.shift())\n",
    "users_funnel.fillna(1, inplace=True)\n",
    "users_funnel"
   ]
  },
  {
   "cell_type": "code",
   "execution_count": 37,
   "metadata": {},
   "outputs": [
    {
     "data": {
      "text/html": [
       "<div>\n",
       "<style scoped>\n",
       "    .dataframe tbody tr th:only-of-type {\n",
       "        vertical-align: middle;\n",
       "    }\n",
       "\n",
       "    .dataframe tbody tr th {\n",
       "        vertical-align: top;\n",
       "    }\n",
       "\n",
       "    .dataframe thead th {\n",
       "        text-align: right;\n",
       "    }\n",
       "</style>\n",
       "<table border=\"1\" class=\"dataframe\">\n",
       "  <thead>\n",
       "    <tr style=\"text-align: right;\">\n",
       "      <th></th>\n",
       "      <th>user</th>\n",
       "    </tr>\n",
       "    <tr>\n",
       "      <th>event</th>\n",
       "      <th></th>\n",
       "    </tr>\n",
       "  </thead>\n",
       "  <tbody>\n",
       "    <tr>\n",
       "      <th>MainScreenAppear</th>\n",
       "      <td>7419</td>\n",
       "    </tr>\n",
       "    <tr>\n",
       "      <th>OffersScreenAppear</th>\n",
       "      <td>4593</td>\n",
       "    </tr>\n",
       "    <tr>\n",
       "      <th>CartScreenAppear</th>\n",
       "      <td>3734</td>\n",
       "    </tr>\n",
       "    <tr>\n",
       "      <th>PaymentScreenSuccessful</th>\n",
       "      <td>3539</td>\n",
       "    </tr>\n",
       "    <tr>\n",
       "      <th>Tutorial</th>\n",
       "      <td>840</td>\n",
       "    </tr>\n",
       "  </tbody>\n",
       "</table>\n",
       "</div>"
      ],
      "text/plain": [
       "                         user\n",
       "event                        \n",
       "MainScreenAppear         7419\n",
       "OffersScreenAppear       4593\n",
       "CartScreenAppear         3734\n",
       "PaymentScreenSuccessful  3539\n",
       "Tutorial                  840"
      ]
     },
     "execution_count": 37,
     "metadata": {},
     "output_type": "execute_result"
    }
   ],
   "source": [
    "users_per_event.loc['PaymentScreenSuccessful']/ users_per_event.loc['MainScreenAppear']\n",
    "users_per_event"
   ]
  },
  {
   "cell_type": "markdown",
   "metadata": {},
   "source": [
    "el 47.7% de las personas que entran a la tienda compran "
   ]
  },
  {
   "cell_type": "markdown",
   "metadata": {},
   "source": [
    "#### Total de usuarios por experimento"
   ]
  },
  {
   "cell_type": "code",
   "execution_count": 38,
   "metadata": {},
   "outputs": [
    {
     "data": {
      "text/plain": [
       "exp_id\n",
       "246    2484\n",
       "247    2513\n",
       "248    2537\n",
       "Name: user, dtype: int64"
      ]
     },
     "execution_count": 38,
     "metadata": {},
     "output_type": "execute_result"
    }
   ],
   "source": [
    "users_per_exp_group = data_clean.pivot_table(index='exp_id', values='user', aggfunc='nunique')['user']\n",
    "users_per_exp_group"
   ]
  },
  {
   "cell_type": "markdown",
   "metadata": {},
   "source": [
    "Cada uno de los experimentos tienen suficientes usuarios para cada experimento."
   ]
  },
  {
   "cell_type": "code",
   "execution_count": 57,
   "metadata": {},
   "outputs": [
    {
     "data": {
      "text/html": [
       "<div>\n",
       "<style scoped>\n",
       "    .dataframe tbody tr th:only-of-type {\n",
       "        vertical-align: middle;\n",
       "    }\n",
       "\n",
       "    .dataframe tbody tr th {\n",
       "        vertical-align: top;\n",
       "    }\n",
       "\n",
       "    .dataframe thead th {\n",
       "        text-align: right;\n",
       "    }\n",
       "</style>\n",
       "<table border=\"1\" class=\"dataframe\">\n",
       "  <thead>\n",
       "    <tr style=\"text-align: right;\">\n",
       "      <th>exp_id</th>\n",
       "      <th>event</th>\n",
       "      <th>246</th>\n",
       "      <th>247</th>\n",
       "      <th>248</th>\n",
       "    </tr>\n",
       "  </thead>\n",
       "  <tbody>\n",
       "    <tr>\n",
       "      <th>0</th>\n",
       "      <td>CartScreenAppear</td>\n",
       "      <td>1266</td>\n",
       "      <td>1238</td>\n",
       "      <td>1230</td>\n",
       "    </tr>\n",
       "    <tr>\n",
       "      <th>1</th>\n",
       "      <td>MainScreenAppear</td>\n",
       "      <td>2450</td>\n",
       "      <td>2476</td>\n",
       "      <td>2493</td>\n",
       "    </tr>\n",
       "    <tr>\n",
       "      <th>2</th>\n",
       "      <td>OffersScreenAppear</td>\n",
       "      <td>1542</td>\n",
       "      <td>1520</td>\n",
       "      <td>1531</td>\n",
       "    </tr>\n",
       "    <tr>\n",
       "      <th>3</th>\n",
       "      <td>PaymentScreenSuccessful</td>\n",
       "      <td>1200</td>\n",
       "      <td>1158</td>\n",
       "      <td>1181</td>\n",
       "    </tr>\n",
       "    <tr>\n",
       "      <th>4</th>\n",
       "      <td>Tutorial</td>\n",
       "      <td>278</td>\n",
       "      <td>283</td>\n",
       "      <td>279</td>\n",
       "    </tr>\n",
       "  </tbody>\n",
       "</table>\n",
       "</div>"
      ],
      "text/plain": [
       "exp_id                    event   246   247   248\n",
       "0              CartScreenAppear  1266  1238  1230\n",
       "1              MainScreenAppear  2450  2476  2493\n",
       "2            OffersScreenAppear  1542  1520  1531\n",
       "3       PaymentScreenSuccessful  1200  1158  1181\n",
       "4                      Tutorial   278   283   279"
      ]
     },
     "execution_count": 57,
     "metadata": {},
     "output_type": "execute_result"
    }
   ],
   "source": [
    "users_per_exp_group_per_event = data_clean.pivot_table(index='event', values='user', columns='exp_id' ,aggfunc='nunique').reset_index()\n",
    "users_per_exp_group_per_event"
   ]
  },
  {
   "cell_type": "markdown",
   "metadata": {},
   "source": [
    "Aqui en esta tabla mostramos que cuanto registros tenemos por experimento "
   ]
  },
  {
   "cell_type": "markdown",
   "metadata": {},
   "source": [
    "## Paso 4. Estudiar el embudo de eventos"
   ]
  },
  {
   "cell_type": "markdown",
   "metadata": {},
   "source": [
    "#### Observa qué eventos hay en los registros y su frecuencia de suceso. Ordénalos por frecuencia."
   ]
  },
  {
   "cell_type": "code",
   "execution_count": 62,
   "metadata": {},
   "outputs": [
    {
     "name": "stdout",
     "output_type": "stream",
     "text": [
      "             evento_nombre  frecuencia\n",
      "0         MainScreenAppear      117328\n",
      "1       OffersScreenAppear       46333\n",
      "2         CartScreenAppear       42303\n",
      "3  PaymentScreenSuccessful       33918\n",
      "4                 Tutorial        1005\n"
     ]
    }
   ],
   "source": [
    "# Agrupar por el evento y contar su frecuencia\n",
    "frecuencia_eventos = data_clean['event'].value_counts().reset_index()\n",
    "frecuencia_eventos.columns = ['evento_nombre', 'frecuencia']\n",
    "\n",
    "# Ordenar por frecuencia descendente\n",
    "frecuencia_eventos = frecuencia_eventos.sort_values(by='frecuencia', ascending=False)\n",
    "\n",
    "# Mostrar la tabla\n",
    "print(frecuencia_eventos)"
   ]
  },
  {
   "cell_type": "markdown",
   "metadata": {},
   "source": [
    "#### Encuentra la cantidad de usuarios que realizaron cada una de estas acciones. Ordena los eventos por el número de usuarios. Calcula la proporción de usuarios que realizaron la acción al menos una vez"
   ]
  },
  {
   "cell_type": "code",
   "execution_count": 65,
   "metadata": {},
   "outputs": [
    {
     "name": "stdout",
     "output_type": "stream",
     "text": [
      "             evento_nombre  usuarios_unicos  proporcion\n",
      "1         MainScreenAppear             7419    0.984736\n",
      "2       OffersScreenAppear             4593    0.609636\n",
      "0         CartScreenAppear             3734    0.495620\n",
      "3  PaymentScreenSuccessful             3539    0.469737\n",
      "4                 Tutorial              840    0.111495\n"
     ]
    }
   ],
   "source": [
    "# 1. Calcular la cantidad de usuarios únicos por acción\n",
    "usuarios_por_evento = data_clean.groupby('event')['user'].nunique().reset_index()\n",
    "usuarios_por_evento.columns = ['evento_nombre', 'usuarios_unicos']\n",
    "\n",
    "# 2. Calcular el total de usuarios únicos en el DataFrame\n",
    "total_usuarios = data_clean['user'].nunique()\n",
    "\n",
    "# 3. Calcular la proporción de usuarios que realizaron cada acción\n",
    "usuarios_por_evento['proporcion'] = usuarios_por_evento['usuarios_unicos'] / total_usuarios\n",
    "\n",
    "# 4. Ordenar los eventos por el número de usuarios en orden descendente\n",
    "usuarios_por_evento = usuarios_por_evento.sort_values(by='usuarios_unicos', ascending=False)\n",
    "\n",
    "# Mostrar el resultado\n",
    "print(usuarios_por_evento)"
   ]
  },
  {
   "cell_type": "code",
   "execution_count": 64,
   "metadata": {},
   "outputs": [
    {
     "data": {
      "text/html": [
       "<div>\n",
       "<style scoped>\n",
       "    .dataframe tbody tr th:only-of-type {\n",
       "        vertical-align: middle;\n",
       "    }\n",
       "\n",
       "    .dataframe tbody tr th {\n",
       "        vertical-align: top;\n",
       "    }\n",
       "\n",
       "    .dataframe thead th {\n",
       "        text-align: right;\n",
       "    }\n",
       "</style>\n",
       "<table border=\"1\" class=\"dataframe\">\n",
       "  <thead>\n",
       "    <tr style=\"text-align: right;\">\n",
       "      <th></th>\n",
       "      <th>index</th>\n",
       "      <th>event</th>\n",
       "      <th>user</th>\n",
       "      <th>timestamp</th>\n",
       "      <th>exp_id</th>\n",
       "      <th>datetime</th>\n",
       "      <th>date</th>\n",
       "    </tr>\n",
       "  </thead>\n",
       "  <tbody>\n",
       "    <tr>\n",
       "      <th>0</th>\n",
       "      <td>2828</td>\n",
       "      <td>Tutorial</td>\n",
       "      <td>3737462046622621720</td>\n",
       "      <td>1564618048</td>\n",
       "      <td>246</td>\n",
       "      <td>2019-08-01 00:07:28</td>\n",
       "      <td>2019-08-01</td>\n",
       "    </tr>\n",
       "    <tr>\n",
       "      <th>1</th>\n",
       "      <td>2829</td>\n",
       "      <td>MainScreenAppear</td>\n",
       "      <td>3737462046622621720</td>\n",
       "      <td>1564618080</td>\n",
       "      <td>246</td>\n",
       "      <td>2019-08-01 00:08:00</td>\n",
       "      <td>2019-08-01</td>\n",
       "    </tr>\n",
       "    <tr>\n",
       "      <th>2</th>\n",
       "      <td>2830</td>\n",
       "      <td>MainScreenAppear</td>\n",
       "      <td>3737462046622621720</td>\n",
       "      <td>1564618135</td>\n",
       "      <td>246</td>\n",
       "      <td>2019-08-01 00:08:55</td>\n",
       "      <td>2019-08-01</td>\n",
       "    </tr>\n",
       "    <tr>\n",
       "      <th>3</th>\n",
       "      <td>2831</td>\n",
       "      <td>OffersScreenAppear</td>\n",
       "      <td>3737462046622621720</td>\n",
       "      <td>1564618138</td>\n",
       "      <td>246</td>\n",
       "      <td>2019-08-01 00:08:58</td>\n",
       "      <td>2019-08-01</td>\n",
       "    </tr>\n",
       "    <tr>\n",
       "      <th>4</th>\n",
       "      <td>2832</td>\n",
       "      <td>MainScreenAppear</td>\n",
       "      <td>1433840883824088890</td>\n",
       "      <td>1564618139</td>\n",
       "      <td>247</td>\n",
       "      <td>2019-08-01 00:08:59</td>\n",
       "      <td>2019-08-01</td>\n",
       "    </tr>\n",
       "    <tr>\n",
       "      <th>...</th>\n",
       "      <td>...</td>\n",
       "      <td>...</td>\n",
       "      <td>...</td>\n",
       "      <td>...</td>\n",
       "      <td>...</td>\n",
       "      <td>...</td>\n",
       "      <td>...</td>\n",
       "    </tr>\n",
       "    <tr>\n",
       "      <th>240882</th>\n",
       "      <td>244121</td>\n",
       "      <td>MainScreenAppear</td>\n",
       "      <td>4599628364049201812</td>\n",
       "      <td>1565212345</td>\n",
       "      <td>247</td>\n",
       "      <td>2019-08-07 21:12:25</td>\n",
       "      <td>2019-08-07</td>\n",
       "    </tr>\n",
       "    <tr>\n",
       "      <th>240883</th>\n",
       "      <td>244122</td>\n",
       "      <td>MainScreenAppear</td>\n",
       "      <td>5849806612437486590</td>\n",
       "      <td>1565212439</td>\n",
       "      <td>246</td>\n",
       "      <td>2019-08-07 21:13:59</td>\n",
       "      <td>2019-08-07</td>\n",
       "    </tr>\n",
       "    <tr>\n",
       "      <th>240884</th>\n",
       "      <td>244123</td>\n",
       "      <td>MainScreenAppear</td>\n",
       "      <td>5746969938801999050</td>\n",
       "      <td>1565212483</td>\n",
       "      <td>246</td>\n",
       "      <td>2019-08-07 21:14:43</td>\n",
       "      <td>2019-08-07</td>\n",
       "    </tr>\n",
       "    <tr>\n",
       "      <th>240885</th>\n",
       "      <td>244124</td>\n",
       "      <td>MainScreenAppear</td>\n",
       "      <td>5746969938801999050</td>\n",
       "      <td>1565212498</td>\n",
       "      <td>246</td>\n",
       "      <td>2019-08-07 21:14:58</td>\n",
       "      <td>2019-08-07</td>\n",
       "    </tr>\n",
       "    <tr>\n",
       "      <th>240886</th>\n",
       "      <td>244125</td>\n",
       "      <td>OffersScreenAppear</td>\n",
       "      <td>5746969938801999050</td>\n",
       "      <td>1565212517</td>\n",
       "      <td>246</td>\n",
       "      <td>2019-08-07 21:15:17</td>\n",
       "      <td>2019-08-07</td>\n",
       "    </tr>\n",
       "  </tbody>\n",
       "</table>\n",
       "<p>240887 rows × 7 columns</p>\n",
       "</div>"
      ],
      "text/plain": [
       "         index               event                 user   timestamp  exp_id  \\\n",
       "0         2828            Tutorial  3737462046622621720  1564618048     246   \n",
       "1         2829    MainScreenAppear  3737462046622621720  1564618080     246   \n",
       "2         2830    MainScreenAppear  3737462046622621720  1564618135     246   \n",
       "3         2831  OffersScreenAppear  3737462046622621720  1564618138     246   \n",
       "4         2832    MainScreenAppear  1433840883824088890  1564618139     247   \n",
       "...        ...                 ...                  ...         ...     ...   \n",
       "240882  244121    MainScreenAppear  4599628364049201812  1565212345     247   \n",
       "240883  244122    MainScreenAppear  5849806612437486590  1565212439     246   \n",
       "240884  244123    MainScreenAppear  5746969938801999050  1565212483     246   \n",
       "240885  244124    MainScreenAppear  5746969938801999050  1565212498     246   \n",
       "240886  244125  OffersScreenAppear  5746969938801999050  1565212517     246   \n",
       "\n",
       "                  datetime       date  \n",
       "0      2019-08-01 00:07:28 2019-08-01  \n",
       "1      2019-08-01 00:08:00 2019-08-01  \n",
       "2      2019-08-01 00:08:55 2019-08-01  \n",
       "3      2019-08-01 00:08:58 2019-08-01  \n",
       "4      2019-08-01 00:08:59 2019-08-01  \n",
       "...                    ...        ...  \n",
       "240882 2019-08-07 21:12:25 2019-08-07  \n",
       "240883 2019-08-07 21:13:59 2019-08-07  \n",
       "240884 2019-08-07 21:14:43 2019-08-07  \n",
       "240885 2019-08-07 21:14:58 2019-08-07  \n",
       "240886 2019-08-07 21:15:17 2019-08-07  \n",
       "\n",
       "[240887 rows x 7 columns]"
      ]
     },
     "execution_count": 64,
     "metadata": {},
     "output_type": "execute_result"
    }
   ],
   "source": [
    "data_clean"
   ]
  },
  {
   "cell_type": "markdown",
   "metadata": {},
   "source": [
    "#### ¿En qué orden crees que ocurrieron las acciones? ¿Todas son parte de una sola secuencia? No es necesario tenerlas en cuenta al calcular el embudo."
   ]
  },
  {
   "cell_type": "code",
   "execution_count": 68,
   "metadata": {},
   "outputs": [
    {
     "name": "stdout",
     "output_type": "stream",
     "text": [
      "                      event               next_event  frecuencia\n",
      "6          MainScreenAppear         MainScreenAppear       80323\n",
      "15  PaymentScreenSuccessful         CartScreenAppear       23984\n",
      "7          MainScreenAppear       OffersScreenAppear       20179\n",
      "3          CartScreenAppear  PaymentScreenSuccessful       19819\n",
      "11       OffersScreenAppear         MainScreenAppear       17443\n",
      "12       OffersScreenAppear       OffersScreenAppear       16690\n",
      "1          CartScreenAppear         MainScreenAppear        8341\n",
      "0          CartScreenAppear         CartScreenAppear        7129\n",
      "5          MainScreenAppear         CartScreenAppear        6704\n",
      "2          CartScreenAppear       OffersScreenAppear        6462\n",
      "8          MainScreenAppear  PaymentScreenSuccessful        5696\n",
      "13       OffersScreenAppear  PaymentScreenSuccessful        5356\n",
      "10       OffersScreenAppear         CartScreenAppear        4424\n",
      "16  PaymentScreenSuccessful         MainScreenAppear        4047\n",
      "18  PaymentScreenSuccessful  PaymentScreenSuccessful        2950\n",
      "17  PaymentScreenSuccessful       OffersScreenAppear        2714\n",
      "20                 Tutorial         MainScreenAppear         869\n",
      "22                 Tutorial                 Tutorial         131\n",
      "9          MainScreenAppear                 Tutorial          55\n",
      "14       OffersScreenAppear                 Tutorial          26\n",
      "4          CartScreenAppear                 Tutorial           9\n",
      "19  PaymentScreenSuccessful                 Tutorial           1\n",
      "21                 Tutorial  PaymentScreenSuccessful           1\n"
     ]
    }
   ],
   "source": [
    "# Paso 1: Ordenar los datos por usuario y timestamp\n",
    "data_sorted = data_clean.sort_values(by=['user', 'timestamp'])\n",
    "\n",
    "# Paso 2: Crear pares de transiciones entre eventos por usuario\n",
    "data_sorted['next_event'] = data_sorted.groupby('user')['event'].shift(-1)\n",
    "\n",
    "# Paso 3: Contar las transiciones entre eventos\n",
    "conteo_transiciones = data_sorted.groupby(['event', 'next_event']).size().reset_index(name='frecuencia')\n",
    "\n",
    "# Paso 4: Mostrar las transiciones más frecuentes\n",
    "conteo_transiciones = conteo_transiciones.dropna().sort_values(by='frecuencia', ascending=False)\n",
    "\n",
    "print(conteo_transiciones)\n"
   ]
  },
  {
   "cell_type": "markdown",
   "metadata": {},
   "source": [
    "Aqui vemos claramente cual es la secuencia que cree que se podria haber tenido atravez de la frecuencia de los usuarios que entraron a la pagina."
   ]
  },
  {
   "cell_type": "markdown",
   "metadata": {},
   "source": [
    "Utiliza el embudo de eventos para encontrar la proporción de usuarios que pasan de una etapa a la siguiente. Por ejemplo, para la secuencia de eventos A → B → C, calcula la proporción de usuarios en la etapa B a la cantidad de usuarios en la etapa A y la proporción de usuarios en la etapa C a la cantidad en la etapa B."
   ]
  },
  {
   "cell_type": "code",
   "execution_count": 69,
   "metadata": {},
   "outputs": [
    {
     "name": "stdout",
     "output_type": "stream",
     "text": [
      "                    evento  usuarios_unicos  proporcion\n",
      "0         MainScreenAppear             7419         NaN\n",
      "1       OffersScreenAppear             4593    0.619086\n",
      "2         CartScreenAppear             3734    0.812976\n",
      "3  PaymentScreenSuccessful             3539    0.947777\n"
     ]
    }
   ],
   "source": [
    "# Paso 1: Definir el orden de los eventos del embudo\n",
    "embudo_eventos = ['MainScreenAppear', 'OffersScreenAppear', 'CartScreenAppear', 'PaymentScreenSuccessful']\n",
    "\n",
    "# Paso 2: Filtrar solo los eventos del embudo y ordenar por usuario y timestamp\n",
    "data_sorted = data_clean[data_clean['event'].isin(embudo_eventos)].sort_values(by=['user', 'timestamp'])\n",
    "\n",
    "# Paso 3: Eliminar duplicados para cada usuario por evento (consideramos que un usuario pasa una vez por cada etapa)\n",
    "data_unique = data_sorted.drop_duplicates(subset=['user', 'event'])\n",
    "\n",
    "# Paso 4: Contar usuarios únicos en cada etapa del embudo\n",
    "usuarios_por_evento = data_unique.groupby('event')['user'].nunique().reindex(embudo_eventos).reset_index()\n",
    "usuarios_por_evento.columns = ['evento', 'usuarios_unicos']\n",
    "\n",
    "# Paso 5: Calcular la proporción entre cada etapa\n",
    "usuarios_por_evento['proporcion'] = usuarios_por_evento['usuarios_unicos'].pct_change().fillna(0).apply(lambda x: 1 + x)\n",
    "usuarios_por_evento['proporcion'] = usuarios_por_evento['usuarios_unicos'] / usuarios_por_evento['usuarios_unicos'].shift(1)\n",
    "\n",
    "# Mostrar resultados\n",
    "print(usuarios_por_evento)\n"
   ]
  },
  {
   "cell_type": "code",
   "execution_count": 70,
   "metadata": {},
   "outputs": [
    {
     "data": {
      "image/png": "[encoded data removed]",
      "text/plain": [
       "<Figure size 1000x600 with 1 Axes>"
      ]
     },
     "metadata": {},
     "output_type": "display_data"
    }
   ],
   "source": [
    "plt.figure(figsize=(10, 6))\n",
    "plt.bar(usuarios_por_evento['evento'], usuarios_por_evento['usuarios_unicos'], color='skyblue')\n",
    "plt.title('Embudo de Conversión')\n",
    "plt.xlabel('Evento')\n",
    "plt.ylabel('Usuarios Únicos')\n",
    "plt.show()\n"
   ]
  },
  {
   "cell_type": "markdown",
   "metadata": {},
   "source": [
    "#### ¿En qué etapa pierdes más usuarios?"
   ]
  },
  {
   "cell_type": "code",
   "execution_count": 73,
   "metadata": {},
   "outputs": [
    {
     "name": "stdout",
     "output_type": "stream",
     "text": [
      "                    evento  usuarios_unicos  proporcion  usuarios_perdidos  \\\n",
      "0         MainScreenAppear             7419         NaN             2826.0   \n",
      "1       OffersScreenAppear             4593    0.619086              859.0   \n",
      "2         CartScreenAppear             3734    0.812976              195.0   \n",
      "3  PaymentScreenSuccessful             3539    0.947777                0.0   \n",
      "\n",
      "   porcentaje_perdido  \n",
      "0           38.091387  \n",
      "1           18.702373  \n",
      "2            5.222282  \n",
      "3            0.000000  \n",
      "\n",
      "Etapa con mayor pérdida de usuarios:\n",
      "evento                MainScreenAppear\n",
      "usuarios_perdidos               2826.0\n",
      "porcentaje_perdido           38.091387\n",
      "Name: 0, dtype: object\n"
     ]
    }
   ],
   "source": [
    "# Paso 1: Calcular la caída de usuarios entre etapas\n",
    "usuarios_por_evento['usuarios_perdidos'] = usuarios_por_evento['usuarios_unicos'].diff(-1).fillna(0).abs()\n",
    "\n",
    "# Paso 2: Calcular el porcentaje de usuarios perdidos\n",
    "usuarios_por_evento['porcentaje_perdido'] = (usuarios_por_evento['usuarios_perdidos'] / usuarios_por_evento['usuarios_unicos']) * 100\n",
    "\n",
    "# Paso 3: Identificar la etapa con mayor pérdida\n",
    "etapa_mayor_perdida = usuarios_por_evento.loc[usuarios_por_evento['usuarios_perdidos'].idxmax()]\n",
    "\n",
    "# Mostrar los resultados\n",
    "print(usuarios_por_evento)\n",
    "print(\"\\nEtapa con mayor pérdida de usuarios:\")\n",
    "print(etapa_mayor_perdida[['evento', 'usuarios_perdidos', 'porcentaje_perdido']])\n"
   ]
  },
  {
   "cell_type": "markdown",
   "metadata": {},
   "source": [
    "En la etapa que mas se pierden usuarios y no llegan a la siguiente etapa es desde la pantalla principal y el porcentaje de perdida es de 38.09% "
   ]
  },
  {
   "cell_type": "markdown",
   "metadata": {},
   "source": [
    "#### ¿Qué porcentaje de usuarios hace todo el viaje desde su primer evento hasta el pago?"
   ]
  },
  {
   "cell_type": "code",
   "execution_count": 75,
   "metadata": {},
   "outputs": [
    {
     "name": "stdout",
     "output_type": "stream",
     "text": [
      "Usuarios en el primer evento (MainScreenAppear): 7419\n",
      "Usuarios en el evento final (PaymentScreenSuccessful): 3547\n",
      "Porcentaje de usuarios que completan todo el viaje: 47.81%\n"
     ]
    }
   ],
   "source": [
    "# Paso 1: Definir el primer evento y el evento final del embudo\n",
    "primer_evento = 'MainScreenAppear'\n",
    "evento_final = 'PaymentScreenSuccessful'\n",
    "\n",
    "# Paso 2: Obtener la cantidad de usuarios únicos en el primer evento\n",
    "usuarios_primer_evento = data_clean[data_clean['event'] == primer_evento]['user'].nunique()\n",
    "\n",
    "# Paso 3: Obtener la cantidad de usuarios únicos que llegan al evento final\n",
    "usuarios_evento_final = data[data['event'] == evento_final]['user'].nunique()\n",
    "\n",
    "# Paso 4: Calcular el porcentaje de usuarios que completan el viaje\n",
    "porcentaje_completan_viaje = (usuarios_evento_final / usuarios_primer_evento) * 100\n",
    "\n",
    "# Mostrar resultados\n",
    "print(f\"Usuarios en el primer evento ({primer_evento}): {usuarios_primer_evento}\")\n",
    "print(f\"Usuarios en el evento final ({evento_final}): {usuarios_evento_final}\")\n",
    "print(f\"Porcentaje de usuarios que completan todo el viaje: {porcentaje_completan_viaje:.2f}%\")\n"
   ]
  },
  {
   "cell_type": "markdown",
   "metadata": {},
   "source": [
    "Solo el 47.81% llegan desde la paguina principal hasta hacer el pago de sus compras."
   ]
  },
  {
   "cell_type": "markdown",
   "metadata": {},
   "source": [
    "## Paso 5. Estudiar los resultados del experimento"
   ]
  },
  {
   "cell_type": "markdown",
   "metadata": {},
   "source": [
    "¿Cuántos usuarios hay en cada grupo?"
   ]
  },
  {
   "cell_type": "code",
   "execution_count": 77,
   "metadata": {},
   "outputs": [
    {
     "name": "stdout",
     "output_type": "stream",
     "text": [
      "   grupo  usuarios_unicos\n",
      "0    246             2484\n",
      "1    247             2513\n",
      "2    248             2537\n"
     ]
    }
   ],
   "source": [
    "# Paso 1: Contar usuarios únicos por grupo (columna exp_id)\n",
    "usuarios_por_grupo = data_clean.groupby('exp_id')['user'].nunique().reset_index()\n",
    "\n",
    "# Paso 2: Renombrar las columnas para mayor claridad\n",
    "usuarios_por_grupo.columns = ['grupo', 'usuarios_unicos']\n",
    "\n",
    "# Mostrar resultados\n",
    "print(usuarios_por_grupo)\n"
   ]
  },
  {
   "cell_type": "markdown",
   "metadata": {},
   "source": [
    "Aqui vemos cuantos usuarios unicos hay en cada grupo"
   ]
  },
  {
   "cell_type": "markdown",
   "metadata": {},
   "source": [
    "### Tenemos dos grupos de control en el test A/A, donde comprobamos nuestros mecanismos y cálculos. Observa si hay una diferencia estadísticamente significativa entre las muestras 246 y 247."
   ]
  },
  {
   "cell_type": "code",
   "execution_count": 83,
   "metadata": {},
   "outputs": [],
   "source": [
    "# Filtrar los datos por los grupos 246 y 247\n",
    "grupo_246 = data_clean[data_clean['exp_id'] == 246]\n",
    "grupo_247 = data_clean[data_clean['exp_id'] == 247]\n",
    "\n",
    "# Contar el número de usuarios que realizaron el evento final en cada grupo\n",
    "event_246 = grupo_246[grupo_246['event'] == 'PaymentScreenSuccessful']['user'].nunique()\n",
    "event_247 = grupo_247[grupo_247['event'] == 'PaymentScreenSuccessful']['user'].nunique()\n",
    "\n",
    "# Contar el total de usuarios únicos en cada grupo\n",
    "total_246 = grupo_246['user'].nunique()\n",
    "total_247 = grupo_247['user'].nunique()\n"
   ]
  },
  {
   "cell_type": "code",
   "execution_count": 89,
   "metadata": {},
   "outputs": [
    {
     "name": "stdout",
     "output_type": "stream",
     "text": [
      "Grupo 246: Éxitos = 1200, Total = 2484, Proporción = 0.4831\n",
      "Grupo 247: Éxitos = 1158, Total = 2513, Proporción = 0.4608\n"
     ]
    }
   ],
   "source": [
    "# Calcular proporciones\n",
    "exito246 = event_246 / total_246  # Proporción de éxitos en el grupo 246\n",
    "exito247 = event_247 / total_247  # Proporción de éxitos en el grupo 247\n",
    "\n",
    "# Mostrar resultados\n",
    "print(f\"Grupo 246: Éxitos = {event_246}, Total = {total_246}, Proporción = {p1:.4f}\")\n",
    "print(f\"Grupo 247: Éxitos = {event_247}, Total = {total_247}, Proporción = {p2:.4f}\")"
   ]
  },
  {
   "cell_type": "code",
   "execution_count": 90,
   "metadata": {},
   "outputs": [
    {
     "name": "stdout",
     "output_type": "stream",
     "text": [
      "Diferencia entre proporciones: 0.0000\n",
      "Estadístico Z: 0.0286\n",
      "P-valor: 0.9772\n",
      "No rechazamos la hipótesis nula: No hay suficiente evidencia estadística para concluir que las muestras 246 y 247 son significativamente diferentes.\n"
     ]
    }
   ],
   "source": [
    "# Paso 1: Calcular proporciones\n",
    "\n",
    "p1 = exito246 / total_246\n",
    "p2 = exito247 / total_247\n",
    "\n",
    "# Paso 2: Proporción combinada\n",
    "p_combined = (exito246 + exito247) / (total_246 + total_247)\n",
    "\n",
    "# Paso 3: Diferencia entre proporciones\n",
    "difference = p1 - p2\n",
    "\n",
    "# Paso 4: Error estándar\n",
    "SE = np.sqrt(p_combined * (1 - p_combined) * (1 / total_246 + 1 / total_247))\n",
    "\n",
    "# Paso 5: Umbral de significancia\n",
    "alpha = 0.05\n",
    "\n",
    "# Paso 6: Estadístico Z\n",
    "z_score = difference / SE\n",
    "\n",
    "# Paso 7: p-valor (bilateral)\n",
    "p_value = 2 * (1 - norm.cdf(abs(z_score)))\n",
    "\n",
    "# Paso 8: Resultados\n",
    "print(f\"Diferencia entre proporciones: {difference:.4f}\")\n",
    "print(f\"Estadístico Z: {z_score:.4f}\")\n",
    "print(f\"P-valor: {p_value:.4f}\")\n",
    "\n",
    "# Paso 9: Conclusión\n",
    "if p_value < alpha:\n",
    "    print(\"Rechazamos la hipótesis nula: Existe una diferencia estadísticamente significativa entre las muestras 246 y 247.\")\n",
    "else:\n",
    "    print(\"No rechazamos la hipótesis nula: No hay suficiente evidencia estadística para concluir que las muestras 246 y 247 son significativamente diferentes.\")\n"
   ]
  },
  {
   "cell_type": "markdown",
   "metadata": {},
   "source": [
    "### Selecciona el evento más popular. En cada uno de los grupos de control, encuentra la cantidad de usuarios que realizaron esta acción. Encuentra su proporción. Comprueba si la diferencia entre los grupos es estadísticamente significativa. Repite el procedimiento para todos los demás eventos (ahorrarás tiempo si creas una función especial para esta prueba). ¿Puedes confirmar que los grupos se dividieron correctamente?"
   ]
  },
  {
   "cell_type": "code",
   "execution_count": 94,
   "metadata": {},
   "outputs": [
    {
     "name": "stdout",
     "output_type": "stream",
     "text": [
      "Evento más popular: MainScreenAppear\n"
     ]
    }
   ],
   "source": [
    "# Paso 1: Seleccionar el evento más popular\n",
    "evento_mas_popular = data_clean.groupby('event')['user'].nunique().idxmax()\n",
    "print(f\"Evento más popular: {evento_mas_popular}\")"
   ]
  },
  {
   "cell_type": "code",
   "execution_count": 95,
   "metadata": {},
   "outputs": [],
   "source": [
    "# Paso 2: Crear una función para realizar la prueba\n",
    "def prueba_diferencia_proporciones(data, evento, grupo_1, grupo_2, alpha=0.05):\n",
    "    \"\"\"\n",
    "    Realiza la prueba de diferencia de proporciones entre dos grupos para un evento específico.\n",
    "    \"\"\"\n",
    "    # Filtrar los datos por los grupos\n",
    "    grupo_1_data = data[data['exp_id'] == grupo_1]\n",
    "    grupo_2_data = data[data['exp_id'] == grupo_2]\n",
    "    \n",
    "    # Calcular éxitos y totales por grupo\n",
    "    exito_1 = grupo_1_data[grupo_1_data['event'] == evento]['user'].nunique()\n",
    "    exito_2 = grupo_2_data[grupo_2_data['event'] == evento]['user'].nunique()\n",
    "    total_1 = grupo_1_data['user'].nunique()\n",
    "    total_2 = grupo_2_data['user'].nunique()\n",
    "    \n",
    "    # Calcular proporciones\n",
    "    p1 = exito_1 / total_1\n",
    "    p2 = exito_2 / total_2\n",
    "    \n",
    "    # Proporción combinada\n",
    "    p_combined = (exito_1 + exito_2) / (total_1 + total_2)\n",
    "    \n",
    "    # Error estándar\n",
    "    SE = np.sqrt(p_combined * (1 - p_combined) * (1 / total_1 + 1 / total_2))\n",
    "    \n",
    "    # Estadístico Z\n",
    "    z_score = (p1 - p2) / SE\n",
    "    \n",
    "    # p-valor (bilateral)\n",
    "    p_value = 2 * (1 - norm.cdf(abs(z_score)))\n",
    "    \n",
    "    # Resultados\n",
    "    print(f\"\\nEvento: {evento}\")\n",
    "    print(f\"Grupo {grupo_1}: Éxitos = {exito_1}, Total = {total_1}, Proporción = {p1:.4f}\")\n",
    "    print(f\"Grupo {grupo_2}: Éxitos = {exito_2}, Total = {total_2}, Proporción = {p2:.4f}\")\n",
    "    print(f\"Diferencia entre proporciones: {p1 - p2:.4f}\")\n",
    "    print(f\"Estadístico Z: {z_score:.4f}\")\n",
    "    print(f\"P-valor: {p_value:.4f}\")\n",
    "    \n",
    "    # Conclusión\n",
    "    if p_value < alpha:\n",
    "        print(\"Rechazamos la hipótesis nula: Existe una diferencia estadísticamente significativa entre los grupos.\")\n",
    "    else:\n",
    "        print(\"No rechazamos la hipótesis nula: No hay suficiente evidencia estadística para concluir que los grupos son significativamente diferentes.\")\n",
    "\n"
   ]
  },
  {
   "cell_type": "code",
   "execution_count": 96,
   "metadata": {},
   "outputs": [
    {
     "name": "stdout",
     "output_type": "stream",
     "text": [
      "\n",
      "Evento: MainScreenAppear\n",
      "Grupo 246: Éxitos = 2450, Total = 2484, Proporción = 0.9863\n",
      "Grupo 247: Éxitos = 2476, Total = 2513, Proporción = 0.9853\n",
      "Diferencia entre proporciones: 0.0010\n",
      "Estadístico Z: 0.3093\n",
      "P-valor: 0.7571\n",
      "No rechazamos la hipótesis nula: No hay suficiente evidencia estadística para concluir que los grupos son significativamente diferentes.\n"
     ]
    }
   ],
   "source": [
    "# Paso 3: Aplicar la prueba al evento más popular\n",
    "prueba_diferencia_proporciones(data_clean, evento_mas_popular, 246, 247)\n"
   ]
  },
  {
   "cell_type": "code",
   "execution_count": 97,
   "metadata": {},
   "outputs": [
    {
     "name": "stdout",
     "output_type": "stream",
     "text": [
      "\n",
      "Evento: Tutorial\n",
      "Grupo 246: Éxitos = 278, Total = 2484, Proporción = 0.1119\n",
      "Grupo 247: Éxitos = 283, Total = 2513, Proporción = 0.1126\n",
      "Diferencia entre proporciones: -0.0007\n",
      "Estadístico Z: -0.0782\n",
      "P-valor: 0.9377\n",
      "No rechazamos la hipótesis nula: No hay suficiente evidencia estadística para concluir que los grupos son significativamente diferentes.\n",
      "\n",
      "Evento: MainScreenAppear\n",
      "Grupo 246: Éxitos = 2450, Total = 2484, Proporción = 0.9863\n",
      "Grupo 247: Éxitos = 2476, Total = 2513, Proporción = 0.9853\n",
      "Diferencia entre proporciones: 0.0010\n",
      "Estadístico Z: 0.3093\n",
      "P-valor: 0.7571\n",
      "No rechazamos la hipótesis nula: No hay suficiente evidencia estadística para concluir que los grupos son significativamente diferentes.\n",
      "\n",
      "Evento: OffersScreenAppear\n",
      "Grupo 246: Éxitos = 1542, Total = 2484, Proporción = 0.6208\n",
      "Grupo 247: Éxitos = 1520, Total = 2513, Proporción = 0.6049\n",
      "Diferencia entre proporciones: 0.0159\n",
      "Estadístico Z: 1.1550\n",
      "P-valor: 0.2481\n",
      "No rechazamos la hipótesis nula: No hay suficiente evidencia estadística para concluir que los grupos son significativamente diferentes.\n",
      "\n",
      "Evento: CartScreenAppear\n",
      "Grupo 246: Éxitos = 1266, Total = 2484, Proporción = 0.5097\n",
      "Grupo 247: Éxitos = 1238, Total = 2513, Proporción = 0.4926\n",
      "Diferencia entre proporciones: 0.0170\n",
      "Estadístico Z: 1.2034\n",
      "P-valor: 0.2288\n",
      "No rechazamos la hipótesis nula: No hay suficiente evidencia estadística para concluir que los grupos son significativamente diferentes.\n",
      "\n",
      "Evento: PaymentScreenSuccessful\n",
      "Grupo 246: Éxitos = 1200, Total = 2484, Proporción = 0.4831\n",
      "Grupo 247: Éxitos = 1158, Total = 2513, Proporción = 0.4608\n",
      "Diferencia entre proporciones: 0.0223\n",
      "Estadístico Z: 1.5780\n",
      "P-valor: 0.1146\n",
      "No rechazamos la hipótesis nula: No hay suficiente evidencia estadística para concluir que los grupos son significativamente diferentes.\n"
     ]
    }
   ],
   "source": [
    "# Paso 4: Repetir el procedimiento para todos los eventos\n",
    "eventos_unicos = data_clean['event'].unique()\n",
    "for evento in eventos_unicos:\n",
    "    prueba_diferencia_proporciones(data_clean, evento, 246, 247)"
   ]
  },
  {
   "cell_type": "markdown",
   "metadata": {},
   "source": [
    "### Haz lo mismo para el grupo con fuentes alteradas. Compara los resultados con los de cada uno de los grupos de control para cada evento de forma aislada. Compara los resultados con los resultados combinados de los grupos de control. ¿Qué conclusiones puedes sacar del experimento?"
   ]
  },
  {
   "cell_type": "code",
   "execution_count": 107,
   "metadata": {},
   "outputs": [
    {
     "name": "stdout",
     "output_type": "stream",
     "text": [
      "\n",
      "--- Comparaciones para el grupo con fuentes alteradas (248) ---\n",
      "\n",
      "Comparación: Grupo 248 vs Grupo 246\n",
      "Evento: Tutorial\n",
      "Grupo 248: Éxitos = 279, Total = 2537, Proporción = 0.1100\n",
      "Grupo 246: Éxitos = 278, Total = 2484, Proporción = 0.1119\n",
      "Diferencia entre proporciones: -0.0019\n",
      "Estadístico Z: -0.2193\n",
      "P-valor: 0.8264\n",
      "No rechazamos la hipótesis nula: No hay suficiente evidencia estadística para concluir que hay diferencias significativas.\n",
      "\n",
      "Comparación: Grupo 248 vs Grupo 247\n",
      "Evento: Tutorial\n",
      "Grupo 248: Éxitos = 279, Total = 2537, Proporción = 0.1100\n",
      "Grupo 247: Éxitos = 283, Total = 2513, Proporción = 0.1126\n",
      "Diferencia entre proporciones: -0.0026\n",
      "Estadístico Z: -0.2985\n",
      "P-valor: 0.7653\n",
      "No rechazamos la hipótesis nula: No hay suficiente evidencia estadística para concluir que hay diferencias significativas.\n",
      "\n",
      "Comparación: Grupo 248 vs Control Combinado\n",
      "Evento: Tutorial\n",
      "Grupo 248: Éxitos = 279, Total = 2537, Proporción = 0.1100\n",
      "Control Combinado: Éxitos = 561, Total = 4997, Proporción = 0.1123\n",
      "Diferencia entre proporciones: -0.0023\n",
      "Estadístico Z: -0.2991\n",
      "P-valor: 0.7649\n",
      "No rechazamos la hipótesis nula: No hay suficiente evidencia estadística para concluir que hay diferencias significativas.\n",
      "\n",
      "Comparación: Grupo 248 vs Grupo 246\n",
      "Evento: MainScreenAppear\n",
      "Grupo 248: Éxitos = 2493, Total = 2537, Proporción = 0.9827\n",
      "Grupo 246: Éxitos = 2450, Total = 2484, Proporción = 0.9863\n",
      "Diferencia entre proporciones: -0.0037\n",
      "Estadístico Z: -1.0473\n",
      "P-valor: 0.2950\n",
      "No rechazamos la hipótesis nula: No hay suficiente evidencia estadística para concluir que hay diferencias significativas.\n",
      "\n",
      "Comparación: Grupo 248 vs Grupo 247\n",
      "Evento: MainScreenAppear\n",
      "Grupo 248: Éxitos = 2493, Total = 2537, Proporción = 0.9827\n",
      "Grupo 247: Éxitos = 2476, Total = 2513, Proporción = 0.9853\n",
      "Diferencia entre proporciones: -0.0026\n",
      "Estadístico Z: -0.7410\n",
      "P-valor: 0.4587\n",
      "No rechazamos la hipótesis nula: No hay suficiente evidencia estadística para concluir que hay diferencias significativas.\n",
      "\n",
      "Comparación: Grupo 248 vs Control Combinado\n",
      "Evento: MainScreenAppear\n",
      "Grupo 248: Éxitos = 2493, Total = 2537, Proporción = 0.9827\n",
      "Control Combinado: Éxitos = 4926, Total = 4997, Proporción = 0.9858\n",
      "Diferencia entre proporciones: -0.0031\n",
      "Estadístico Z: -1.0489\n",
      "P-valor: 0.2942\n",
      "No rechazamos la hipótesis nula: No hay suficiente evidencia estadística para concluir que hay diferencias significativas.\n",
      "\n",
      "Comparación: Grupo 248 vs Grupo 246\n",
      "Evento: OffersScreenAppear\n",
      "Grupo 248: Éxitos = 1531, Total = 2537, Proporción = 0.6035\n",
      "Grupo 246: Éxitos = 1542, Total = 2484, Proporción = 0.6208\n",
      "Diferencia entre proporciones: -0.0173\n",
      "Estadístico Z: -1.2581\n",
      "P-valor: 0.2084\n",
      "No rechazamos la hipótesis nula: No hay suficiente evidencia estadística para concluir que hay diferencias significativas.\n",
      "\n",
      "Comparación: Grupo 248 vs Grupo 247\n",
      "Evento: OffersScreenAppear\n",
      "Grupo 248: Éxitos = 1531, Total = 2537, Proporción = 0.6035\n",
      "Grupo 247: Éxitos = 1520, Total = 2513, Proporción = 0.6049\n",
      "Diferencia entre proporciones: -0.0014\n",
      "Estadístico Z: -0.1007\n",
      "P-valor: 0.9198\n",
      "No rechazamos la hipótesis nula: No hay suficiente evidencia estadística para concluir que hay diferencias significativas.\n",
      "\n",
      "Comparación: Grupo 248 vs Control Combinado\n",
      "Evento: OffersScreenAppear\n",
      "Grupo 248: Éxitos = 1531, Total = 2537, Proporción = 0.6035\n",
      "Control Combinado: Éxitos = 3062, Total = 4997, Proporción = 0.6128\n",
      "Diferencia entre proporciones: -0.0093\n",
      "Estadístico Z: -0.7819\n",
      "P-valor: 0.4343\n",
      "No rechazamos la hipótesis nula: No hay suficiente evidencia estadística para concluir que hay diferencias significativas.\n",
      "\n",
      "Comparación: Grupo 248 vs Grupo 246\n",
      "Evento: CartScreenAppear\n",
      "Grupo 248: Éxitos = 1230, Total = 2537, Proporción = 0.4848\n",
      "Grupo 246: Éxitos = 1266, Total = 2484, Proporción = 0.5097\n",
      "Diferencia entre proporciones: -0.0248\n",
      "Estadístico Z: -1.7599\n",
      "P-valor: 0.0784\n",
      "No rechazamos la hipótesis nula: No hay suficiente evidencia estadística para concluir que hay diferencias significativas.\n",
      "\n",
      "Comparación: Grupo 248 vs Grupo 247\n",
      "Evento: CartScreenAppear\n",
      "Grupo 248: Éxitos = 1230, Total = 2537, Proporción = 0.4848\n",
      "Grupo 247: Éxitos = 1238, Total = 2513, Proporción = 0.4926\n",
      "Diferencia entre proporciones: -0.0078\n",
      "Estadístico Z: -0.5554\n",
      "P-valor: 0.5786\n",
      "No rechazamos la hipótesis nula: No hay suficiente evidencia estadística para concluir que hay diferencias significativas.\n",
      "\n",
      "Comparación: Grupo 248 vs Control Combinado\n",
      "Evento: CartScreenAppear\n",
      "Grupo 248: Éxitos = 1230, Total = 2537, Proporción = 0.4848\n",
      "Control Combinado: Éxitos = 2504, Total = 4997, Proporción = 0.5011\n",
      "Diferencia entre proporciones: -0.0163\n",
      "Estadístico Z: -1.3354\n",
      "P-valor: 0.1818\n",
      "No rechazamos la hipótesis nula: No hay suficiente evidencia estadística para concluir que hay diferencias significativas.\n",
      "\n",
      "Comparación: Grupo 248 vs Grupo 246\n",
      "Evento: PaymentScreenSuccessful\n",
      "Grupo 248: Éxitos = 1181, Total = 2537, Proporción = 0.4655\n",
      "Grupo 246: Éxitos = 1200, Total = 2484, Proporción = 0.4831\n",
      "Diferencia entre proporciones: -0.0176\n",
      "Estadístico Z: -1.2474\n",
      "P-valor: 0.2123\n",
      "No rechazamos la hipótesis nula: No hay suficiente evidencia estadística para concluir que hay diferencias significativas.\n",
      "\n",
      "Comparación: Grupo 248 vs Grupo 247\n",
      "Evento: PaymentScreenSuccessful\n",
      "Grupo 248: Éxitos = 1181, Total = 2537, Proporción = 0.4655\n",
      "Grupo 247: Éxitos = 1158, Total = 2513, Proporción = 0.4608\n",
      "Diferencia entre proporciones: 0.0047\n",
      "Estadístico Z: 0.3354\n",
      "P-valor: 0.7373\n",
      "No rechazamos la hipótesis nula: No hay suficiente evidencia estadística para concluir que hay diferencias significativas.\n",
      "\n",
      "Comparación: Grupo 248 vs Control Combinado\n",
      "Evento: PaymentScreenSuccessful\n",
      "Grupo 248: Éxitos = 1181, Total = 2537, Proporción = 0.4655\n",
      "Control Combinado: Éxitos = 2358, Total = 4997, Proporción = 0.4719\n",
      "Diferencia entre proporciones: -0.0064\n",
      "Estadístico Z: -0.5238\n",
      "P-valor: 0.6004\n",
      "No rechazamos la hipótesis nula: No hay suficiente evidencia estadística para concluir que hay diferencias significativas.\n"
     ]
    }
   ],
   "source": [
    "# Crear un grupo combinado de control (246 + 247)\n",
    "grupo_control_combinado = data_clean[data_clean['exp_id'].isin([246, 247])]\n",
    "\n",
    "# Función extendida para comparar con varios grupos\n",
    "def prueba_diferencia_proporciones_multiple(data, evento, grupo_1, grupo_2, nombre_grupo_1, nombre_grupo_2, alpha=0.05):\n",
    "    \"\"\"\n",
    "    Realiza la prueba de diferencia de proporciones entre dos grupos para un evento específico.\n",
    "    \"\"\"\n",
    "    # Filtrar los datos por los grupos\n",
    "    if grupo_2 == \"control_combinado\":  # Manejo especial para el grupo combinado\n",
    "        grupo_1_data = data[data['exp_id'] == grupo_1]\n",
    "        grupo_2_data = grupo_control_combinado\n",
    "    else:\n",
    "        grupo_1_data = data[data['exp_id'] == grupo_1]\n",
    "        grupo_2_data = data[data['exp_id'] == grupo_2]\n",
    "    \n",
    "    # Calcular éxitos y totales por grupo\n",
    "    exito_1 = grupo_1_data[grupo_1_data['event'] == evento]['user'].nunique()\n",
    "    exito_2 = grupo_2_data[grupo_2_data['event'] == evento]['user'].nunique()\n",
    "    total_1 = grupo_1_data['user'].nunique()\n",
    "    total_2 = grupo_2_data['user'].nunique()\n",
    "    \n",
    "    # Verificar que los totales no sean cero\n",
    "    if total_1 == 0 or total_2 == 0:\n",
    "        print(f\"\\nEvento: {evento}\")\n",
    "        print(f\"No hay datos suficientes en {nombre_grupo_1} o {nombre_grupo_2}.\")\n",
    "        print(f\"{nombre_grupo_1}: Total usuarios = {total_1}\")\n",
    "        print(f\"{nombre_grupo_2}: Total usuarios = {total_2}\")\n",
    "        return  # Salir de la función para este evento\n",
    "    \n",
    "    # Calcular proporciones\n",
    "    p1 = exito_1 / total_1\n",
    "    p2 = exito_2 / total_2\n",
    "    \n",
    "    # Proporción combinada\n",
    "    p_combined = (exito_1 + exito_2) / (total_1 + total_2)\n",
    "    \n",
    "    # Error estándar\n",
    "    SE = np.sqrt(p_combined * (1 - p_combined) * (1 / total_1 + 1 / total_2))\n",
    "    \n",
    "    # Estadístico Z\n",
    "    z_score = (p1 - p2) / SE\n",
    "    \n",
    "    # p-valor (bilateral)\n",
    "    p_value = 2 * (1 - norm.cdf(abs(z_score)))\n",
    "    \n",
    "    # Resultados\n",
    "    print(f\"\\nComparación: {nombre_grupo_1} vs {nombre_grupo_2}\")\n",
    "    print(f\"Evento: {evento}\")\n",
    "    print(f\"{nombre_grupo_1}: Éxitos = {exito_1}, Total = {total_1}, Proporción = {p1:.4f}\")\n",
    "    print(f\"{nombre_grupo_2}: Éxitos = {exito_2}, Total = {total_2}, Proporción = {p2:.4f}\")\n",
    "    print(f\"Diferencia entre proporciones: {p1 - p2:.4f}\")\n",
    "    print(f\"Estadístico Z: {z_score:.4f}\")\n",
    "    print(f\"P-valor: {p_value:.4f}\")\n",
    "    \n",
    "    # Conclusión\n",
    "    if p_value < alpha:\n",
    "        print(\"Rechazamos la hipótesis nula: Existe una diferencia estadísticamente significativa.\")\n",
    "    else:\n",
    "        print(\"No rechazamos la hipótesis nula: No hay suficiente evidencia estadística para concluir que hay diferencias significativas.\")\n",
    "\n",
    "# Iterar por cada evento y comparar los grupos\n",
    "eventos_unicos = data_clean['event'].unique()\n",
    "\n",
    "print(\"\\n--- Comparaciones para el grupo con fuentes alteradas (248) ---\")\n",
    "for evento in eventos_unicos:\n",
    "    # Comparar 248 vs 246\n",
    "    prueba_diferencia_proporciones_multiple(data_clean, evento, 248, 246, \"Grupo 248\", \"Grupo 246\")\n",
    "    # Comparar 248 vs 247\n",
    "    prueba_diferencia_proporciones_multiple(data_clean, evento, 248, 247, \"Grupo 248\", \"Grupo 247\")\n",
    "    # Comparar 248 vs grupo combinado (246 + 247)\n",
    "    prueba_diferencia_proporciones_multiple(data_clean, evento, 248, \"control_combinado\", \"Grupo 248\", \"Control Combinado\", alpha=0.05)\n"
   ]
  },
  {
   "cell_type": "markdown",
   "metadata": {},
   "source": [
    "### ¿Qué nivel de significancia has establecido para probar las hipótesis estadísticas mencionadas anteriormente? Calcula cuántas pruebas de hipótesis estadísticas has realizado. Con un nivel de significancia estadística de 0.1, uno de cada 10 resultados podría ser falso. ¿Cuál debería ser el nivel de significancia? Si deseas cambiarlo, vuelve a ejecutar los pasos anteriores y comprueba tus conclusiones."
   ]
  },
  {
   "cell_type": "markdown",
   "metadata": {},
   "source": [
    "1. Nivel de significancia establecido\n",
    "\n",
    "En todas las pruebas de hipótesis, el nivel de significancia α (alfa) utilizado fue 0.05 (5%).\n",
    "Esto significa que hay un 5% de probabilidad de cometer un error tipo I (rechazar la hipótesis nula cuando es verdadera).\n",
    "\n",
    "2. Cantidad de pruebas de hipótesis realizadas\n",
    "\n",
    "Se realizaron 15 pruebas de hipótesis con comparación de proporciones entre grupos. Estas incluyen:\n",
    "\n",
    "Comparaciones entre Grupo 246 y Grupo 247.\n",
    "Comparaciones entre Grupo 248 y los grupos de control (246 y 247).\n",
    "Comparaciones entre Grupo 248 y el grupo combinado de control (246 + 247).\n",
    "Cada prueba se hizo para los siguientes eventos:\n",
    "\n",
    "MainScreenAppear\n",
    "OffersScreenAppear\n",
    "CartScreenAppear\n",
    "PaymentScreenSuccessful\n",
    "Tutorial\n",
    "Dado que cada comparación se hizo entre distintos grupos, el número total de pruebas es:\n",
    "\n",
    "3 (comparaciones) × 5 (eventos) = 15 pruebas\n",
    "\n",
    "\n",
    "3. Interpretación del nivel de significancia y falsos positivos\n",
    "\n",
    "Con un nivel de significancia de 0.1 (10%), se esperaría que 1 de cada 10 pruebas arroje un falso positivo.\n",
    "Si mantenemos 15 pruebas, podríamos esperar alrededor de 1.5 pruebas con falsos positivos en promedio.\n",
    "\n",
    "El nivel de significancia óptimo depende del riesgo que estemos dispuestos a aceptar. Si queremos minimizar los falsos positivos, podríamos reducir  α(alfa) a 0.01 (1%), pero esto también aumenta el riesgo de error tipo II (no detectar una diferencia real cuando sí existe).\n",
    "\n",
    "4. ¿Cuál debería ser el nivel de significancia?\n",
    "\n",
    "Dado que el análisis no se encontró diferencias significativas en las pruebas ( p>0.05  en todos los casos), cambiar el nivel de significancia no afectará las conclusiones.\n",
    "Si queremos asegurarnos de que las diferencias sean realmente significativas, podemos reducir α a 0.01 (1%), pero en este caso, ya que no hubo diferencias estadísticamente significativas con \n",
    "\n",
    "α = 0.05 tampoco las habría con  α=0.01.\n",
    "\n",
    "\n",
    "5. Conclusiones del análisis\n",
    "\n",
    "No se encontraron diferencias estadísticamente significativas entre los grupos (p-valor > 0.05 en todas las pruebas).\n",
    "\n",
    "El evento con mayor pérdida de usuarios es \"MainScreenAppear\", con un 38% de abandono.\n",
    "\n",
    "El 47.81% de los usuarios completan el embudo de compra hasta el pago.\n",
    "Las muestras de los grupos 246 y 247 parecen haber sido bien divididas, ya que no se encontraron diferencias significativas.\n",
    "\n",
    "El grupo 248 (con fuentes alteradas) tampoco mostró diferencias significativas respecto a los grupos de control.\n",
    "\n",
    "\n",
    "\n",
    "Recomendaciones\n",
    "Si deseas ser más estricto, usa \n",
    "α=0.01\n",
    "\n",
    "pero los resultados seguirán sin diferencias significativas.\n",
    "Para mejorar la conversión, enfócate en reducir la pérdida en la pantalla principal (MainScreenAppear).\n",
    "\n",
    "Considera realizar nuevas pruebas A/B con cambios más significativos para ver si hay efectos reales en la conversión."
   ]
  }
 ],
 "metadata": {
  "kernelspec": {
   "display_name": "base",
   "language": "python",
   "name": "python3"
  },
  "language_info": {
   "codemirror_mode": {
    "name": "ipython",
    "version": 3
   },
   "file_extension": ".py",
   "mimetype": "text/x-python",
   "name": "python",
   "nbconvert_exporter": "python",
   "pygments_lexer": "ipython3",
   "version": "3.12.7"
  }
 },
 "nbformat": 4,
 "nbformat_minor": 2
}

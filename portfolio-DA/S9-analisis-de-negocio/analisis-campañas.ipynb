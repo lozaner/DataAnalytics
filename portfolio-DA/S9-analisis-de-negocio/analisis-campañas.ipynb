{
 "cells": [
  {
   "cell_type": "markdown",
   "metadata": {},
   "source": [
    "# Hola Elpidio! <a class=\"tocSkip\"></a>\n",
    "\n",
    "Mi nombre es Oscar Flores y tengo el gusto de revisar tu proyecto. Si tienes algún comentario que quieras agregar en tus respuestas te puedes referir a mi como Oscar, no hay problema que me trates de tú.\n",
    "\n",
    "Si veo un error en la primera revisión solamente lo señalaré y dejaré que tú encuentres de qué se trata y cómo arreglarlo. Debo prepararte para que te desempeñes como especialista en Data, en un trabajo real, el responsable a cargo tuyo hará lo mismo. Si aún tienes dificultades para resolver esta tarea, te daré indicaciones más precisas en una siguiente iteración.\n",
    "\n",
    "Te dejaré mis comentarios más abajo - **por favor, no los muevas, modifiques o borres**\n",
    "\n",
    "Comenzaré mis comentarios con un resumen de los puntos que están bien, aquellos que debes corregir y aquellos que puedes mejorar. Luego deberás revisar todo el notebook para leer mis comentarios, los cuales estarán en rectángulos de color verde, amarillo o rojo como siguen:\n",
    "\n",
    "<div class=\"alert alert-block alert-success\">\n",
    "<b>Comentario de Reviewer</b> <a class=\"tocSkip\"></a>\n",
    "    \n",
    "Muy bien! Toda la respuesta fue lograda satisfactoriamente.\n",
    "</div>\n",
    "\n",
    "<div class=\"alert alert-block alert-warning\">\n",
    "<b>Comentario de Reviewer</b> <a class=\"tocSkip\"></a>\n",
    "\n",
    "Existen detalles a mejorar. Existen recomendaciones.\n",
    "</div>\n",
    "\n",
    "<div class=\"alert alert-block alert-danger\">\n",
    "\n",
    "<b>Comentario de Reviewer</b> <a class=\"tocSkip\"></a>\n",
    "\n",
    "Se necesitan correcciones en el bloque. El trabajo no puede ser aceptado con comentarios en rojo sin solucionar.\n",
    "</div>\n",
    "\n",
    "Cualquier comentario que quieras agregar entre iteraciones de revisión lo puedes hacer de la siguiente manera:\n",
    "\n",
    "<div class=\"alert alert-block alert-info\">\n",
    "\n",
    "<b>Respuesta estudiante.</b> <a class=\"tocSkip\"></a>\n",
    "</div>\n",
    "\n",
    "Mucho éxito en el proyecto!"
   ]
  },
  {
   "cell_type": "markdown",
   "metadata": {},
   "source": [
    "## Resumen de la revisión 1 <a class=\"tocSkip\"></a>"
   ]
  },
  {
   "cell_type": "markdown",
   "metadata": {},
   "source": [
    "<div class=\"alert alert-block alert-danger\">\n",
    "<b>Comentario de Revisor</b> <a class=\"tocSkip\"></a>\n",
    "\n",
    "Buen trabajo en la primera parte, pero veo que no has desarrollado nada para las siguientes secciones. Por favor envialo completo, si tienes dudas de las secciones me las puedes dejar en recuadros azules y las responderé en la siguiente revisión.\n",
    "    \n",
    "Saludos!    \n",
    "\n",
    "</div>"
   ]
  },
  {
   "cell_type": "markdown",
   "metadata": {},
   "source": [
    "## Resumen de la revisión 3 <a class=\"tocSkip\"></a>"
   ]
  },
  {
   "cell_type": "markdown",
   "metadata": {},
   "source": [
    "<div class=\"alert alert-block alert-danger\">\n",
    "<b>Comentario de Revisor v3</b> <a class=\"tocSkip\"></a>\n",
    "\n",
    "Bien hecho con las partes que agregaste, están muy bien, salvo donde calculaste el revenue pero se pide la cantidad de pedidos. Para las conclusiones que preguntas al final del notebook, debes continuar el desarrollo para llegar a calcular el gasto de adquisición de usuarios y el retorno de inversión para cada fuente, con esto podrás responder las preguntas.\n",
    "    \n",
    "Saludos!    \n",
    "\n",
    "</div>"
   ]
  },
  {
   "cell_type": "markdown",
   "metadata": {},
   "source": [
    "## Resumen de la revisión 4 <a class=\"tocSkip\"></a>"
   ]
  },
  {
   "cell_type": "markdown",
   "metadata": {},
   "source": [
    "<div class=\"alert alert-block alert-danger\">\n",
    "<b>Comentario de Revisor v4</b> <a class=\"tocSkip\"></a>\n",
    "\n",
    "Muy buen avance Elpidio. Ahora tan solo falta corregir el cálculo del CAC y el ROMI. Te dejé comentarios detallados acerca de cómo completar el cálculo de esas métricas.\n",
    "    \n",
    "Saludos!\n",
    "\n",
    "</div>"
   ]
  },
  {
   "cell_type": "markdown",
   "metadata": {},
   "source": [
    "## Resumen de la revisión 5 <a class=\"tocSkip\"></a>"
   ]
  },
  {
   "cell_type": "markdown",
   "metadata": {},
   "source": [
    "<div class=\"alert alert-block alert-danger\">\n",
    "<b>Comentario de Revisor v5</b> <a class=\"tocSkip\"></a>\n",
    "\n",
    "Hola Elpidio, te dejé instrucciones detalladas para completar el CAC y para calcular el ROMI. Por favor, revísalas con atención y escribe las conclusiones que se pueden extraer de esos resultados.\n",
    "    \n",
    "Saludos!\n",
    "\n",
    "</div>"
   ]
  },
  {
   "cell_type": "markdown",
   "metadata": {},
   "source": [
    "## Resumen de la revisión 6 <a class=\"tocSkip\"></a>"
   ]
  },
  {
   "cell_type": "markdown",
   "metadata": {},
   "source": [
    "<div class=\"alert alert-block alert-success\">\n",
    "<b>Comentario de Revisor v6</b> <a class=\"tocSkip\"></a>\n",
    "\n",
    "Bien hecho Elpidio, has completado correctamente todo lo necesario del notebook, no tengo comentarios de correccion adicionales. Está aprobado.\n",
    "    \n",
    "Saludos!\n",
    "\n",
    "</div>"
   ]
  },
  {
   "cell_type": "markdown",
   "metadata": {},
   "source": [
    "# Proposito del proyecto"
   ]
  },
  {
   "cell_type": "markdown",
   "metadata": {},
   "source": [
    "Es hacer un analisis de la empresa de venta de entradas de eventos. \n",
    "\n",
    "Mi tarea es ayudar a optimizar los gastos de marketing. "
   ]
  },
  {
   "cell_type": "markdown",
   "metadata": {},
   "source": [
    "# Iniciacion"
   ]
  },
  {
   "cell_type": "code",
   "execution_count": 4,
   "metadata": {},
   "outputs": [],
   "source": [
    "import pandas as pd\n",
    "import numpy as np\n",
    "from matplotlib import pyplot as plt\n",
    "import seaborn as sns\n",
    "from scipy import stats\n",
    "#import sidetable as stb"
   ]
  },
  {
   "cell_type": "code",
   "execution_count": 5,
   "metadata": {},
   "outputs": [
    {
     "name": "stdout",
     "output_type": "stream",
     "text": [
      "Requirement already satisfied: sidetable in /opt/anaconda3/lib/python3.12/site-packages (0.9.1)\n",
      "Requirement already satisfied: pandas>=1.0 in /opt/anaconda3/lib/python3.12/site-packages (from sidetable) (2.2.2)\n",
      "Requirement already satisfied: numpy>=1.26.0 in /opt/anaconda3/lib/python3.12/site-packages (from pandas>=1.0->sidetable) (1.26.4)\n",
      "Requirement already satisfied: python-dateutil>=2.8.2 in /opt/anaconda3/lib/python3.12/site-packages (from pandas>=1.0->sidetable) (2.9.0.post0)\n",
      "Requirement already satisfied: pytz>=2020.1 in /opt/anaconda3/lib/python3.12/site-packages (from pandas>=1.0->sidetable) (2024.1)\n",
      "Requirement already satisfied: tzdata>=2022.7 in /opt/anaconda3/lib/python3.12/site-packages (from pandas>=1.0->sidetable) (2023.3)\n",
      "Requirement already satisfied: six>=1.5 in /opt/anaconda3/lib/python3.12/site-packages (from python-dateutil>=2.8.2->pandas>=1.0->sidetable) (1.16.0)\n",
      "Note: you may need to restart the kernel to use updated packages.\n"
     ]
    }
   ],
   "source": [
    "pip install sidetable"
   ]
  },
  {
   "cell_type": "markdown",
   "metadata": {},
   "source": [
    "## 1.2 Cargar datos"
   ]
  },
  {
   "cell_type": "raw",
   "metadata": {},
   "source": [
    "\n",
    "visitor_raw = pd.read_csv(\"visits_log_us.csv\")\n",
    "orders_raw = pd.read_csv(\"orders_log_us.csv\")\n",
    "cost_raw = pd.read_csv(\"costs_us.csv\")\n",
    "\n",
    "#/datasets/"
   ]
  },
  {
   "cell_type": "code",
   "execution_count": 6,
   "metadata": {},
   "outputs": [],
   "source": [
    "\n",
    "visitor_raw = pd.read_csv(\"visits_log_us.csv\")\n",
    "orders_raw = pd.read_csv(\"orders_log_us.csv\")\n",
    "cost_raw = pd.read_csv(\"costs_us.csv\")\n",
    "\n",
    "#/datasets/"
   ]
  },
  {
   "cell_type": "markdown",
   "metadata": {},
   "source": [
    "## 1.3 Preparar los datos"
   ]
  },
  {
   "cell_type": "code",
   "execution_count": 7,
   "metadata": {},
   "outputs": [],
   "source": [
    "def info_gral(datos):\n",
    "    print(\"------Primeras Filas------\")\n",
    "    print(datos.head())\n",
    "    print()\n",
    "    print(\"------Datos Generales------\")\n",
    "    print(datos.info())\n",
    "    print()\n",
    "    print(\"------Revision de Datos Ausentes------\")\n",
    "    print(datos.isna().sum())\n",
    "    print()\n",
    "    print(\"------Revision de Duplicados------\")\n",
    "    print(datos.duplicated().sum())\n",
    "    print()\n",
    "    print(\"------Valores Faltantes------\")\n",
    "    #print(datos.stb.missing())"
   ]
  },
  {
   "cell_type": "markdown",
   "metadata": {},
   "source": [
    "<div class=\"alert alert-block alert-success\">\n",
    "<b>Comentario de Revisor</b> <a class=\"tocSkip\"></a>\n",
    "\n",
    "Ok, bien al crear una función que nos dará qué contienen los dataframes\n",
    "\n",
    "</div>"
   ]
  },
  {
   "cell_type": "markdown",
   "metadata": {},
   "source": [
    "## 1.4 Limpieza de Datos"
   ]
  },
  {
   "cell_type": "code",
   "execution_count": 8,
   "metadata": {},
   "outputs": [
    {
     "name": "stdout",
     "output_type": "stream",
     "text": [
      "------Primeras Filas------\n",
      "    Device               End Ts  Source Id             Start Ts  \\\n",
      "0    touch  2017-12-20 17:38:00          4  2017-12-20 17:20:00   \n",
      "1  desktop  2018-02-19 17:21:00          2  2018-02-19 16:53:00   \n",
      "2    touch  2017-07-01 01:54:00          5  2017-07-01 01:54:00   \n",
      "3  desktop  2018-05-20 11:23:00          9  2018-05-20 10:59:00   \n",
      "4  desktop  2017-12-27 14:06:00          3  2017-12-27 14:06:00   \n",
      "\n",
      "                    Uid  \n",
      "0  16879256277535980062  \n",
      "1    104060357244891740  \n",
      "2   7459035603376831527  \n",
      "3  16174680259334210214  \n",
      "4   9969694820036681168  \n",
      "\n",
      "------Datos Generales------\n",
      "<class 'pandas.core.frame.DataFrame'>\n",
      "RangeIndex: 359400 entries, 0 to 359399\n",
      "Data columns (total 5 columns):\n",
      " #   Column     Non-Null Count   Dtype \n",
      "---  ------     --------------   ----- \n",
      " 0   Device     359400 non-null  object\n",
      " 1   End Ts     359400 non-null  object\n",
      " 2   Source Id  359400 non-null  int64 \n",
      " 3   Start Ts   359400 non-null  object\n",
      " 4   Uid        359400 non-null  uint64\n",
      "dtypes: int64(1), object(3), uint64(1)\n",
      "memory usage: 13.7+ MB\n",
      "None\n",
      "\n",
      "------Revision de Datos Ausentes------\n",
      "Device       0\n",
      "End Ts       0\n",
      "Source Id    0\n",
      "Start Ts     0\n",
      "Uid          0\n",
      "dtype: int64\n",
      "\n",
      "------Revision de Duplicados------\n",
      "0\n",
      "\n",
      "------Valores Faltantes------\n"
     ]
    }
   ],
   "source": [
    "info_gral(visitor_raw)"
   ]
  },
  {
   "cell_type": "code",
   "execution_count": 9,
   "metadata": {},
   "outputs": [],
   "source": [
    "#los titulos de las columna las convertimos en minusculas y remplazamos ('espacios' , '_')\n",
    "visitor_raw.columns = visitor_raw.columns.str.lower().str.replace(' ', '_')\n",
    "\n",
    "#cambiamos a formato de datetime\n",
    "visitor_raw['end_ts']=pd.to_datetime(visitor_raw['end_ts'])\n",
    "visitor_raw['start_ts']=pd.to_datetime(visitor_raw['start_ts'])"
   ]
  },
  {
   "cell_type": "code",
   "execution_count": 10,
   "metadata": {},
   "outputs": [
    {
     "name": "stdout",
     "output_type": "stream",
     "text": [
      "------Primeras Filas------\n",
      "                Buy Ts  Revenue                   Uid\n",
      "0  2017-06-01 00:10:00    17.00  10329302124590727494\n",
      "1  2017-06-01 00:25:00     0.55  11627257723692907447\n",
      "2  2017-06-01 00:27:00     0.37  17903680561304213844\n",
      "3  2017-06-01 00:29:00     0.55  16109239769442553005\n",
      "4  2017-06-01 07:58:00     0.37  14200605875248379450\n",
      "\n",
      "------Datos Generales------\n",
      "<class 'pandas.core.frame.DataFrame'>\n",
      "RangeIndex: 50415 entries, 0 to 50414\n",
      "Data columns (total 3 columns):\n",
      " #   Column   Non-Null Count  Dtype  \n",
      "---  ------   --------------  -----  \n",
      " 0   Buy Ts   50415 non-null  object \n",
      " 1   Revenue  50415 non-null  float64\n",
      " 2   Uid      50415 non-null  uint64 \n",
      "dtypes: float64(1), object(1), uint64(1)\n",
      "memory usage: 1.2+ MB\n",
      "None\n",
      "\n",
      "------Revision de Datos Ausentes------\n",
      "Buy Ts     0\n",
      "Revenue    0\n",
      "Uid        0\n",
      "dtype: int64\n",
      "\n",
      "------Revision de Duplicados------\n",
      "0\n",
      "\n",
      "------Valores Faltantes------\n"
     ]
    }
   ],
   "source": [
    "info_gral(orders_raw)"
   ]
  },
  {
   "cell_type": "code",
   "execution_count": 11,
   "metadata": {},
   "outputs": [],
   "source": [
    "#los titulos de las columna las convertimos en minusculas y remplazamos ('espacios' , '_')\n",
    "orders_raw.columns = orders_raw.columns.str.lower().str.replace(' ', '_')\n",
    "\n",
    "#cambiamos a formato de datetime\n",
    "orders_raw['buy_ts']=pd.to_datetime(orders_raw['buy_ts'])\n"
   ]
  },
  {
   "cell_type": "code",
   "execution_count": 12,
   "metadata": {},
   "outputs": [
    {
     "name": "stdout",
     "output_type": "stream",
     "text": [
      "------Primeras Filas------\n",
      "   source_id          dt  costs\n",
      "0          1  2017-06-01  75.20\n",
      "1          1  2017-06-02  62.25\n",
      "2          1  2017-06-03  36.53\n",
      "3          1  2017-06-04  55.00\n",
      "4          1  2017-06-05  57.08\n",
      "\n",
      "------Datos Generales------\n",
      "<class 'pandas.core.frame.DataFrame'>\n",
      "RangeIndex: 2542 entries, 0 to 2541\n",
      "Data columns (total 3 columns):\n",
      " #   Column     Non-Null Count  Dtype  \n",
      "---  ------     --------------  -----  \n",
      " 0   source_id  2542 non-null   int64  \n",
      " 1   dt         2542 non-null   object \n",
      " 2   costs      2542 non-null   float64\n",
      "dtypes: float64(1), int64(1), object(1)\n",
      "memory usage: 59.7+ KB\n",
      "None\n",
      "\n",
      "------Revision de Datos Ausentes------\n",
      "source_id    0\n",
      "dt           0\n",
      "costs        0\n",
      "dtype: int64\n",
      "\n",
      "------Revision de Duplicados------\n",
      "0\n",
      "\n",
      "------Valores Faltantes------\n"
     ]
    }
   ],
   "source": [
    "info_gral(cost_raw)"
   ]
  },
  {
   "cell_type": "code",
   "execution_count": 13,
   "metadata": {},
   "outputs": [],
   "source": [
    "#cambiamos a formato de datetime\n",
    "\n",
    "cost_raw['dt']=pd.to_datetime(cost_raw['dt'])\n"
   ]
  },
  {
   "cell_type": "markdown",
   "metadata": {},
   "source": [
    "<div class=\"alert alert-block alert-success\">\n",
    "<b>Comentario de Revisor</b> <a class=\"tocSkip\"></a>\n",
    "\n",
    "Bien al transformar las columnas snakecase y cambiar las fechas a datetime\n",
    "\n",
    "</div>"
   ]
  },
  {
   "cell_type": "markdown",
   "metadata": {},
   "source": [
    "# 1.5 Informes y calcula métricas"
   ]
  },
  {
   "cell_type": "code",
   "execution_count": 14,
   "metadata": {},
   "outputs": [
    {
     "data": {
      "text/plain": [
       "device\n",
       "desktop    262567\n",
       "touch       96833\n",
       "Name: count, dtype: int64"
      ]
     },
     "execution_count": 14,
     "metadata": {},
     "output_type": "execute_result"
    }
   ],
   "source": [
    "visitor_raw.value_counts('device')"
   ]
  },
  {
   "cell_type": "markdown",
   "metadata": {},
   "source": [
    "### Mayor visitas son las computadoras."
   ]
  },
  {
   "cell_type": "code",
   "execution_count": 15,
   "metadata": {},
   "outputs": [
    {
     "data": {
      "text/plain": [
       "source_id\n",
       "4     101794\n",
       "3      85610\n",
       "5      66905\n",
       "2      47626\n",
       "1      34121\n",
       "9      13277\n",
       "10     10025\n",
       "7         36\n",
       "6          6\n",
       "Name: count, dtype: int64"
      ]
     },
     "execution_count": 15,
     "metadata": {},
     "output_type": "execute_result"
    }
   ],
   "source": [
    "visitor_raw.value_counts('source_id').sort_values(ascending=False)"
   ]
  },
  {
   "cell_type": "markdown",
   "metadata": {},
   "source": [
    "Nos damos cuenta que la fuente que tiene mas visitas es la #4 "
   ]
  },
  {
   "cell_type": "code",
   "execution_count": 16,
   "metadata": {},
   "outputs": [
    {
     "name": "stdout",
     "output_type": "stream",
     "text": [
      "Inicio de Sesion 2017-06-01 00:01:00 2018-05-31 23:59:00\n",
      "Fin de Sesion 2017-06-01 00:02:00 2018-06-01 01:26:00\n"
     ]
    }
   ],
   "source": [
    "print(\"Inicio de Sesion\", visitor_raw['start_ts'].min(), visitor_raw['start_ts'].max())\n",
    "print(\"Fin de Sesion\", visitor_raw['end_ts'].min(), visitor_raw['end_ts'].max())"
   ]
  },
  {
   "cell_type": "markdown",
   "metadata": {},
   "source": [
    "Aqui mostramos el inicio de seccion la fecha minima y la fecha maxima"
   ]
  },
  {
   "cell_type": "code",
   "execution_count": 17,
   "metadata": {},
   "outputs": [
    {
     "name": "stdout",
     "output_type": "stream",
     "text": [
      "Fecha de compra Min y Max 2017-06-01 00:10:00 2018-06-01 00:02:00\n"
     ]
    }
   ],
   "source": [
    "print(\"Fecha de compra Min y Max\", orders_raw['buy_ts'].min(), orders_raw['buy_ts'].max())"
   ]
  },
  {
   "cell_type": "markdown",
   "metadata": {},
   "source": [
    "primera orden de compra y la ultima orden de compra"
   ]
  },
  {
   "cell_type": "code",
   "execution_count": 18,
   "metadata": {},
   "outputs": [
    {
     "name": "stdout",
     "output_type": "stream",
     "text": [
      "Fecha de Gastos Min y Max 2017-06-01 00:00:00 2018-05-31 00:00:00\n"
     ]
    }
   ],
   "source": [
    "print(\"Fecha de Gastos Min y Max\", cost_raw['dt'].min(), cost_raw['dt'].max())\n"
   ]
  },
  {
   "cell_type": "markdown",
   "metadata": {},
   "source": [
    "<div class=\"alert alert-block alert-success\">\n",
    "<b>Comentario de Revisor</b> <a class=\"tocSkip\"></a>\n",
    "\n",
    "Muy bien con esta exploración de los datos, nos da una idea de lo que contienen\n",
    "\n",
    "</div>"
   ]
  },
  {
   "cell_type": "markdown",
   "metadata": {},
   "source": [
    "## Visitas\n",
    "### Cuantas personas entraron a la web en temporalidad diaria, semanal y mensual"
   ]
  },
  {
   "cell_type": "code",
   "execution_count": 19,
   "metadata": {},
   "outputs": [
    {
     "name": "stdout",
     "output_type": "stream",
     "text": [
      "<class 'pandas.core.frame.DataFrame'>\n",
      "RangeIndex: 359400 entries, 0 to 359399\n",
      "Data columns (total 5 columns):\n",
      " #   Column     Non-Null Count   Dtype         \n",
      "---  ------     --------------   -----         \n",
      " 0   device     359400 non-null  object        \n",
      " 1   end_ts     359400 non-null  datetime64[ns]\n",
      " 2   source_id  359400 non-null  int64         \n",
      " 3   start_ts   359400 non-null  datetime64[ns]\n",
      " 4   uid        359400 non-null  uint64        \n",
      "dtypes: datetime64[ns](2), int64(1), object(1), uint64(1)\n",
      "memory usage: 13.7+ MB\n"
     ]
    }
   ],
   "source": [
    "visitor_raw.info()"
   ]
  },
  {
   "cell_type": "code",
   "execution_count": 21,
   "metadata": {
    "scrolled": true
   },
   "outputs": [
    {
     "data": {
      "text/html": [
       "<div>\n",
       "<style scoped>\n",
       "    .dataframe tbody tr th:only-of-type {\n",
       "        vertical-align: middle;\n",
       "    }\n",
       "\n",
       "    .dataframe tbody tr th {\n",
       "        vertical-align: top;\n",
       "    }\n",
       "\n",
       "    .dataframe thead th {\n",
       "        text-align: right;\n",
       "    }\n",
       "</style>\n",
       "<table border=\"1\" class=\"dataframe\">\n",
       "  <thead>\n",
       "    <tr style=\"text-align: right;\">\n",
       "      <th></th>\n",
       "      <th>device</th>\n",
       "      <th>end_ts</th>\n",
       "      <th>source_id</th>\n",
       "      <th>start_ts</th>\n",
       "      <th>uid</th>\n",
       "      <th>sesion_mes</th>\n",
       "      <th>sesion_mes_anio</th>\n",
       "      <th>sesion_semana</th>\n",
       "      <th>sesion_semana_anio</th>\n",
       "      <th>sesion_dia</th>\n",
       "    </tr>\n",
       "  </thead>\n",
       "  <tbody>\n",
       "    <tr>\n",
       "      <th>0</th>\n",
       "      <td>touch</td>\n",
       "      <td>2017-12-20 17:38:00</td>\n",
       "      <td>4</td>\n",
       "      <td>2017-12-20 17:20:00</td>\n",
       "      <td>16879256277535980062</td>\n",
       "      <td>2017-12-01</td>\n",
       "      <td>2017-12</td>\n",
       "      <td>51</td>\n",
       "      <td>2017-51</td>\n",
       "      <td>2017-12-20</td>\n",
       "    </tr>\n",
       "    <tr>\n",
       "      <th>1</th>\n",
       "      <td>desktop</td>\n",
       "      <td>2018-02-19 17:21:00</td>\n",
       "      <td>2</td>\n",
       "      <td>2018-02-19 16:53:00</td>\n",
       "      <td>104060357244891740</td>\n",
       "      <td>2018-02-01</td>\n",
       "      <td>2018-02</td>\n",
       "      <td>8</td>\n",
       "      <td>2018-07</td>\n",
       "      <td>2018-02-19</td>\n",
       "    </tr>\n",
       "    <tr>\n",
       "      <th>2</th>\n",
       "      <td>touch</td>\n",
       "      <td>2017-07-01 01:54:00</td>\n",
       "      <td>5</td>\n",
       "      <td>2017-07-01 01:54:00</td>\n",
       "      <td>7459035603376831527</td>\n",
       "      <td>2017-07-01</td>\n",
       "      <td>2017-07</td>\n",
       "      <td>26</td>\n",
       "      <td>2017-26</td>\n",
       "      <td>2017-07-01</td>\n",
       "    </tr>\n",
       "    <tr>\n",
       "      <th>3</th>\n",
       "      <td>desktop</td>\n",
       "      <td>2018-05-20 11:23:00</td>\n",
       "      <td>9</td>\n",
       "      <td>2018-05-20 10:59:00</td>\n",
       "      <td>16174680259334210214</td>\n",
       "      <td>2018-05-01</td>\n",
       "      <td>2018-05</td>\n",
       "      <td>20</td>\n",
       "      <td>2018-20</td>\n",
       "      <td>2018-05-20</td>\n",
       "    </tr>\n",
       "    <tr>\n",
       "      <th>4</th>\n",
       "      <td>desktop</td>\n",
       "      <td>2017-12-27 14:06:00</td>\n",
       "      <td>3</td>\n",
       "      <td>2017-12-27 14:06:00</td>\n",
       "      <td>9969694820036681168</td>\n",
       "      <td>2017-12-01</td>\n",
       "      <td>2017-12</td>\n",
       "      <td>52</td>\n",
       "      <td>2017-52</td>\n",
       "      <td>2017-12-27</td>\n",
       "    </tr>\n",
       "  </tbody>\n",
       "</table>\n",
       "</div>"
      ],
      "text/plain": [
       "    device              end_ts  source_id            start_ts  \\\n",
       "0    touch 2017-12-20 17:38:00          4 2017-12-20 17:20:00   \n",
       "1  desktop 2018-02-19 17:21:00          2 2018-02-19 16:53:00   \n",
       "2    touch 2017-07-01 01:54:00          5 2017-07-01 01:54:00   \n",
       "3  desktop 2018-05-20 11:23:00          9 2018-05-20 10:59:00   \n",
       "4  desktop 2017-12-27 14:06:00          3 2017-12-27 14:06:00   \n",
       "\n",
       "                    uid sesion_mes sesion_mes_anio  sesion_semana  \\\n",
       "0  16879256277535980062 2017-12-01         2017-12             51   \n",
       "1    104060357244891740 2018-02-01         2018-02              8   \n",
       "2   7459035603376831527 2017-07-01         2017-07             26   \n",
       "3  16174680259334210214 2018-05-01         2018-05             20   \n",
       "4   9969694820036681168 2017-12-01         2017-12             52   \n",
       "\n",
       "  sesion_semana_anio  sesion_dia  \n",
       "0            2017-51  2017-12-20  \n",
       "1            2018-07  2018-02-19  \n",
       "2            2017-26  2017-07-01  \n",
       "3            2018-20  2018-05-20  \n",
       "4            2017-52  2017-12-27  "
      ]
     },
     "execution_count": 21,
     "metadata": {},
     "output_type": "execute_result"
    }
   ],
   "source": [
    "visitor_raw['sesion_mes']=visitor_raw['start_ts'].apply(lambda fecha: pd.to_datetime(fecha.strftime('%Y-%m-%01')))\n",
    "#visitor_raw['sesion_mes']=visitor_raw['start_ts'].astype('datetime64[M]')\n",
    "\n",
    "visitor_raw['sesion_mes_anio']=visitor_raw['start_ts'].dt.strftime('%Y-%m')\n",
    "visitor_raw['sesion_semana']=visitor_raw['start_ts'].dt.isocalendar().week\n",
    "visitor_raw['sesion_semana_anio']=visitor_raw['start_ts'].dt.strftime('%Y-%U')\n",
    "visitor_raw['sesion_dia']=visitor_raw['start_ts'].dt.date\n",
    "visitor_raw.head()\n"
   ]
  },
  {
   "cell_type": "code",
   "execution_count": 22,
   "metadata": {},
   "outputs": [],
   "source": [
    "users_day= visitor_raw.groupby('sesion_dia')['uid'].nunique()\n",
    "user_week = visitor_raw.groupby('sesion_semana_anio')['uid'].nunique()\n",
    "user_month = visitor_raw.groupby('sesion_mes_anio')['uid'].nunique()"
   ]
  },
  {
   "cell_type": "code",
   "execution_count": 23,
   "metadata": {},
   "outputs": [
    {
     "name": "stdout",
     "output_type": "stream",
     "text": [
      "DAU - Day Average User : 907 visitors in 2017-2018\n",
      "WAU - Week Average User: 5612 visitors in 2017-2018\n",
      "MAU - Month Average User: 23228 visitors in 2017-2018\n"
     ]
    }
   ],
   "source": [
    "print('DAU - Day Average User :', int(users_day.mean()), 'visitors in 2017-2018')\n",
    "print('WAU - Week Average User:', int(user_week.mean()), 'visitors in 2017-2018')\n",
    "print('MAU - Month Average User:', int(user_month.mean()), 'visitors in 2017-2018')"
   ]
  },
  {
   "cell_type": "code",
   "execution_count": 24,
   "metadata": {},
   "outputs": [
    {
     "data": {
      "image/png": "[encoded data removed]",
      "text/plain": [
       "<Figure size 2000x500 with 3 Axes>"
      ]
     },
     "metadata": {},
     "output_type": "display_data"
    }
   ],
   "source": [
    "fig, ax =plt.subplots(1,3, figsize=(20,5))\n",
    "ax[0].plot(users_day)\n",
    "ax[0].set(title='DAU',xlabel='Dia', ylabel='Visitantes')\n",
    "\n",
    "ax[1].plot(user_week)\n",
    "ax[1].set(title='WAU', xlabel='Semana', ylabel= 'Visitantes')\n",
    "\n",
    "ax[2].plot(user_month)\n",
    "ax[2].set(title='MAU', xlabel='Mes', ylabel= 'Visitantes')\n",
    "\n",
    "fig.autofmt_xdate(rotation=75)"
   ]
  },
  {
   "cell_type": "markdown",
   "metadata": {},
   "source": [
    "<div class=\"alert alert-block alert-success\">\n",
    "<b>Comentario de Revisor</b> <a class=\"tocSkip\"></a>\n",
    "\n",
    "Correcto, muy bien con los gráficos que muestran el comportamietno de cada variable a lo largo del tiempo. Lo único que me llama la atención es la caida de los usuarios en la mitad del gráfico semanal. Probablemente esto se debe a que el 2017 termina con una semana de menos días.\n",
    "\n",
    "</div>"
   ]
  },
  {
   "cell_type": "markdown",
   "metadata": {},
   "source": [
    "### ¿Cuántas sesiones hay por día/usuario? (Un usuario puede tener más de una sesión)."
   ]
  },
  {
   "cell_type": "code",
   "execution_count": 25,
   "metadata": {},
   "outputs": [],
   "source": [
    "session_per_user = visitor_raw.groupby('sesion_dia').agg({'uid':['count','nunique' ]})\n",
    "\n",
    "session_per_user.columns = ['num_sesiones', 'num_usuarios']\n"
   ]
  },
  {
   "cell_type": "code",
   "execution_count": 26,
   "metadata": {},
   "outputs": [
    {
     "data": {
      "text/html": [
       "<div>\n",
       "<style scoped>\n",
       "    .dataframe tbody tr th:only-of-type {\n",
       "        vertical-align: middle;\n",
       "    }\n",
       "\n",
       "    .dataframe tbody tr th {\n",
       "        vertical-align: top;\n",
       "    }\n",
       "\n",
       "    .dataframe thead th {\n",
       "        text-align: right;\n",
       "    }\n",
       "</style>\n",
       "<table border=\"1\" class=\"dataframe\">\n",
       "  <thead>\n",
       "    <tr style=\"text-align: right;\">\n",
       "      <th></th>\n",
       "      <th>num_sesiones</th>\n",
       "      <th>num_usuarios</th>\n",
       "      <th>sesiones_por_usuarios</th>\n",
       "    </tr>\n",
       "    <tr>\n",
       "      <th>sesion_dia</th>\n",
       "      <th></th>\n",
       "      <th></th>\n",
       "      <th></th>\n",
       "    </tr>\n",
       "  </thead>\n",
       "  <tbody>\n",
       "    <tr>\n",
       "      <th>2017-06-01</th>\n",
       "      <td>664</td>\n",
       "      <td>605</td>\n",
       "      <td>1.097521</td>\n",
       "    </tr>\n",
       "    <tr>\n",
       "      <th>2017-06-02</th>\n",
       "      <td>658</td>\n",
       "      <td>608</td>\n",
       "      <td>1.082237</td>\n",
       "    </tr>\n",
       "    <tr>\n",
       "      <th>2017-06-03</th>\n",
       "      <td>477</td>\n",
       "      <td>445</td>\n",
       "      <td>1.071910</td>\n",
       "    </tr>\n",
       "    <tr>\n",
       "      <th>2017-06-04</th>\n",
       "      <td>510</td>\n",
       "      <td>476</td>\n",
       "      <td>1.071429</td>\n",
       "    </tr>\n",
       "    <tr>\n",
       "      <th>2017-06-05</th>\n",
       "      <td>893</td>\n",
       "      <td>820</td>\n",
       "      <td>1.089024</td>\n",
       "    </tr>\n",
       "    <tr>\n",
       "      <th>...</th>\n",
       "      <td>...</td>\n",
       "      <td>...</td>\n",
       "      <td>...</td>\n",
       "    </tr>\n",
       "    <tr>\n",
       "      <th>2018-05-27</th>\n",
       "      <td>672</td>\n",
       "      <td>620</td>\n",
       "      <td>1.083871</td>\n",
       "    </tr>\n",
       "    <tr>\n",
       "      <th>2018-05-28</th>\n",
       "      <td>1156</td>\n",
       "      <td>1039</td>\n",
       "      <td>1.112608</td>\n",
       "    </tr>\n",
       "    <tr>\n",
       "      <th>2018-05-29</th>\n",
       "      <td>1035</td>\n",
       "      <td>948</td>\n",
       "      <td>1.091772</td>\n",
       "    </tr>\n",
       "    <tr>\n",
       "      <th>2018-05-30</th>\n",
       "      <td>1410</td>\n",
       "      <td>1289</td>\n",
       "      <td>1.093871</td>\n",
       "    </tr>\n",
       "    <tr>\n",
       "      <th>2018-05-31</th>\n",
       "      <td>2256</td>\n",
       "      <td>1997</td>\n",
       "      <td>1.129695</td>\n",
       "    </tr>\n",
       "  </tbody>\n",
       "</table>\n",
       "<p>364 rows × 3 columns</p>\n",
       "</div>"
      ],
      "text/plain": [
       "            num_sesiones  num_usuarios  sesiones_por_usuarios\n",
       "sesion_dia                                                   \n",
       "2017-06-01           664           605               1.097521\n",
       "2017-06-02           658           608               1.082237\n",
       "2017-06-03           477           445               1.071910\n",
       "2017-06-04           510           476               1.071429\n",
       "2017-06-05           893           820               1.089024\n",
       "...                  ...           ...                    ...\n",
       "2018-05-27           672           620               1.083871\n",
       "2018-05-28          1156          1039               1.112608\n",
       "2018-05-29          1035           948               1.091772\n",
       "2018-05-30          1410          1289               1.093871\n",
       "2018-05-31          2256          1997               1.129695\n",
       "\n",
       "[364 rows x 3 columns]"
      ]
     },
     "execution_count": 26,
     "metadata": {},
     "output_type": "execute_result"
    }
   ],
   "source": [
    "session_per_user['sesiones_por_usuarios']= session_per_user['num_sesiones'] / session_per_user['num_usuarios']\n",
    "session_per_user"
   ]
  },
  {
   "cell_type": "code",
   "execution_count": 27,
   "metadata": {},
   "outputs": [
    {
     "data": {
      "text/plain": [
       "[Text(0.5, 1.0, 'Session por Usuario'),\n",
       " Text(0.5, 0, 'Dia'),\n",
       " Text(0, 0.5, 'Sesiones')]"
      ]
     },
     "execution_count": 27,
     "metadata": {},
     "output_type": "execute_result"
    },
    {
     "data": {
      "image/png": "[encoded data removed]",
      "text/plain": [
       "<Figure size 2000x500 with 1 Axes>"
      ]
     },
     "metadata": {},
     "output_type": "display_data"
    }
   ],
   "source": [
    "plt.figure(figsize=(20,5))\n",
    "\n",
    "session_per_user['sesiones_por_usuarios'].plot().set(title='Session por Usuario', xlabel='Dia', ylabel= 'Sesiones')"
   ]
  },
  {
   "cell_type": "markdown",
   "metadata": {},
   "source": [
    "<div class=\"alert alert-block alert-success\">\n",
    "<b>Comentario de Revisor</b> <a class=\"tocSkip\"></a>\n",
    "\n",
    "Buen trabajo, mostrar la proporción de sesiones por usuario nos da la idea de que cómo se diferencian estas dos métricas. Queda claro que es más o menos constante en el rango de 1.05 a 1.15, por lo que casi siempre un usuario visita el sitio una vez al día.\n",
    "\n",
    "</div>"
   ]
  },
  {
   "cell_type": "markdown",
   "metadata": {},
   "source": [
    "### ¿Cuál es la duración de cada sesión?"
   ]
  },
  {
   "cell_type": "code",
   "execution_count": 28,
   "metadata": {},
   "outputs": [
    {
     "name": "stdout",
     "output_type": "stream",
     "text": [
      "El promedio por usuario es: 1.082\n"
     ]
    }
   ],
   "source": [
    "print('El promedio por usuario es: {}'.format(round(session_per_user['sesiones_por_usuarios'].mean(),3)))"
   ]
  },
  {
   "cell_type": "code",
   "execution_count": 29,
   "metadata": {},
   "outputs": [
    {
     "data": {
      "text/plain": [
       "count    359400.000000\n",
       "mean        643.506489\n",
       "std        1016.334786\n",
       "min           0.000000\n",
       "25%         120.000000\n",
       "50%         300.000000\n",
       "75%         840.000000\n",
       "max       84480.000000\n",
       "Name: duracion_sesion_seg, dtype: float64"
      ]
     },
     "execution_count": 29,
     "metadata": {},
     "output_type": "execute_result"
    }
   ],
   "source": [
    "visitor_raw['duracion_sesion_seg']= (visitor_raw['end_ts']-visitor_raw['start_ts']).dt.seconds\n",
    "visitor_raw['duracion_sesion_seg'].describe()"
   ]
  },
  {
   "cell_type": "code",
   "execution_count": 30,
   "metadata": {},
   "outputs": [
    {
     "data": {
      "text/plain": [
       "[Text(0.5, 1.0, 'Duracion de la sesion en segundos'),\n",
       " Text(0.5, 0, 'visitantes que tienen el mismo tiempo'),\n",
       " Text(0, 0.5, 'Segundos')]"
      ]
     },
     "execution_count": 30,
     "metadata": {},
     "output_type": "execute_result"
    },
    {
     "data": {
      "image/png": "[encoded data removed]",
      "text/plain": [
       "<Figure size 1200x500 with 1 Axes>"
      ]
     },
     "metadata": {},
     "output_type": "display_data"
    }
   ],
   "source": [
    "plt.figure(figsize=(12,5))\n",
    "visitor_raw['duracion_sesion_seg'].hist(bins=50).set(title='Duracion de la sesion en segundos',xlabel='visitantes que tienen el mismo tiempo', ylabel= 'Segundos')"
   ]
  },
  {
   "cell_type": "code",
   "execution_count": 31,
   "metadata": {},
   "outputs": [
    {
     "name": "stdout",
     "output_type": "stream",
     "text": [
      "La moda de la duracion es: 0    60\n",
      "Name: duracion_sesion_seg, dtype: int32\n",
      "La media de la duracion es : 643.506488592098\n"
     ]
    }
   ],
   "source": [
    "print(f\"La moda de la duracion es: {visitor_raw['duracion_sesion_seg'].mode()}\")\n",
    "\n",
    "print(f\"La media de la duracion es : {visitor_raw['duracion_sesion_seg'].mean()}\")\n"
   ]
  },
  {
   "cell_type": "markdown",
   "metadata": {},
   "source": [
    "<div class=\"alert alert-block alert-success\">\n",
    "<b>Comentario de Revisor</b> <a class=\"tocSkip\"></a>\n",
    "\n",
    "Correcto, el histograma muestra cómo distribuye esta duración. Dado que está muy cargado a valores pequeños, la moda y media son útiles para dimensionar dónde se concentran o qué valor es representativo.\n",
    "\n",
    "</div>"
   ]
  },
  {
   "cell_type": "markdown",
   "metadata": {},
   "source": [
    "\n",
    "### ¿Con qué frecuencia los usuarios regresan?"
   ]
  },
  {
   "cell_type": "code",
   "execution_count": 32,
   "metadata": {},
   "outputs": [
    {
     "data": {
      "text/html": [
       "<div>\n",
       "<style scoped>\n",
       "    .dataframe tbody tr th:only-of-type {\n",
       "        vertical-align: middle;\n",
       "    }\n",
       "\n",
       "    .dataframe tbody tr th {\n",
       "        vertical-align: top;\n",
       "    }\n",
       "\n",
       "    .dataframe thead th {\n",
       "        text-align: right;\n",
       "    }\n",
       "</style>\n",
       "<table border=\"1\" class=\"dataframe\">\n",
       "  <thead>\n",
       "    <tr style=\"text-align: right;\">\n",
       "      <th></th>\n",
       "      <th>uid</th>\n",
       "      <th>inicio_ts_primera_sesion</th>\n",
       "    </tr>\n",
       "  </thead>\n",
       "  <tbody>\n",
       "    <tr>\n",
       "      <th>0</th>\n",
       "      <td>11863502262781</td>\n",
       "      <td>2018-03-01 17:27:00</td>\n",
       "    </tr>\n",
       "    <tr>\n",
       "      <th>1</th>\n",
       "      <td>49537067089222</td>\n",
       "      <td>2018-02-06 15:55:00</td>\n",
       "    </tr>\n",
       "    <tr>\n",
       "      <th>2</th>\n",
       "      <td>297729379853735</td>\n",
       "      <td>2017-06-07 18:47:00</td>\n",
       "    </tr>\n",
       "    <tr>\n",
       "      <th>3</th>\n",
       "      <td>313578113262317</td>\n",
       "      <td>2017-09-18 22:49:00</td>\n",
       "    </tr>\n",
       "    <tr>\n",
       "      <th>4</th>\n",
       "      <td>325320750514679</td>\n",
       "      <td>2017-09-30 14:29:00</td>\n",
       "    </tr>\n",
       "  </tbody>\n",
       "</table>\n",
       "</div>"
      ],
      "text/plain": [
       "               uid inicio_ts_primera_sesion\n",
       "0   11863502262781      2018-03-01 17:27:00\n",
       "1   49537067089222      2018-02-06 15:55:00\n",
       "2  297729379853735      2017-06-07 18:47:00\n",
       "3  313578113262317      2017-09-18 22:49:00\n",
       "4  325320750514679      2017-09-30 14:29:00"
      ]
     },
     "execution_count": 32,
     "metadata": {},
     "output_type": "execute_result"
    }
   ],
   "source": [
    "\n",
    "primeras_visitas = visitor_raw.groupby('uid')['start_ts'].min().reset_index()\n",
    "primeras_visitas.columns = ['uid','inicio_ts_primera_sesion']\n",
    "primeras_visitas.head()"
   ]
  },
  {
   "cell_type": "code",
   "execution_count": null,
   "metadata": {},
   "outputs": [
    {
     "data": {
      "text/html": [
       "<div>\n",
       "<style scoped>\n",
       "    .dataframe tbody tr th:only-of-type {\n",
       "        vertical-align: middle;\n",
       "    }\n",
       "\n",
       "    .dataframe tbody tr th {\n",
       "        vertical-align: top;\n",
       "    }\n",
       "\n",
       "    .dataframe thead th {\n",
       "        text-align: right;\n",
       "    }\n",
       "</style>\n",
       "<table border=\"1\" class=\"dataframe\">\n",
       "  <thead>\n",
       "    <tr style=\"text-align: right;\">\n",
       "      <th></th>\n",
       "      <th>uid</th>\n",
       "      <th>inicio_ts_primera_sesion</th>\n",
       "      <th>primera_sesion_dias</th>\n",
       "      <th>primera_sesion_mes</th>\n",
       "    </tr>\n",
       "  </thead>\n",
       "  <tbody>\n",
       "    <tr>\n",
       "      <th>0</th>\n",
       "      <td>11863502262781</td>\n",
       "      <td>2018-03-01 17:27:00</td>\n",
       "      <td>2018-03-01</td>\n",
       "      <td>2018-03-01</td>\n",
       "    </tr>\n",
       "    <tr>\n",
       "      <th>1</th>\n",
       "      <td>49537067089222</td>\n",
       "      <td>2018-02-06 15:55:00</td>\n",
       "      <td>2018-02-06</td>\n",
       "      <td>2018-02-01</td>\n",
       "    </tr>\n",
       "    <tr>\n",
       "      <th>2</th>\n",
       "      <td>297729379853735</td>\n",
       "      <td>2017-06-07 18:47:00</td>\n",
       "      <td>2017-06-07</td>\n",
       "      <td>2017-06-01</td>\n",
       "    </tr>\n",
       "    <tr>\n",
       "      <th>3</th>\n",
       "      <td>313578113262317</td>\n",
       "      <td>2017-09-18 22:49:00</td>\n",
       "      <td>2017-09-18</td>\n",
       "      <td>2017-09-01</td>\n",
       "    </tr>\n",
       "    <tr>\n",
       "      <th>4</th>\n",
       "      <td>325320750514679</td>\n",
       "      <td>2017-09-30 14:29:00</td>\n",
       "      <td>2017-09-30</td>\n",
       "      <td>2017-09-01</td>\n",
       "    </tr>\n",
       "  </tbody>\n",
       "</table>\n",
       "</div>"
      ],
      "text/plain": [
       "               uid inicio_ts_primera_sesion primera_sesion_dias  \\\n",
       "0   11863502262781      2018-03-01 17:27:00          2018-03-01   \n",
       "1   49537067089222      2018-02-06 15:55:00          2018-02-06   \n",
       "2  297729379853735      2017-06-07 18:47:00          2017-06-07   \n",
       "3  313578113262317      2017-09-18 22:49:00          2017-09-18   \n",
       "4  325320750514679      2017-09-30 14:29:00          2017-09-30   \n",
       "\n",
       "  primera_sesion_mes  \n",
       "0         2018-03-01  \n",
       "1         2018-02-01  \n",
       "2         2017-06-01  \n",
       "3         2017-09-01  \n",
       "4         2017-09-01  "
      ]
     },
     "execution_count": 36,
     "metadata": {},
     "output_type": "execute_result"
    }
   ],
   "source": [
    "primeras_visitas ['primera_sesion_dias'] = primeras_visitas ['inicio_ts_primera_sesion'].dt.date\n",
    "\n",
    "primeras_visitas ['primera_sesion_mes'] = primeras_visitas ['inicio_ts_primera_sesion'].apply(lambda fecha: pd.to_datetime(fecha.strftime('%Y-%m-%01')))\n",
    "#primeras_visitas ['primera_sesion_mes'] = primeras_visitas ['inicio_ts_primera_sesion'].astype('datetime64[M]')\n",
    "\n",
    "primeras_visitas.head()"
   ]
  },
  {
   "cell_type": "code",
   "execution_count": 37,
   "metadata": {},
   "outputs": [
    {
     "data": {
      "text/html": [
       "<div>\n",
       "<style scoped>\n",
       "    .dataframe tbody tr th:only-of-type {\n",
       "        vertical-align: middle;\n",
       "    }\n",
       "\n",
       "    .dataframe tbody tr th {\n",
       "        vertical-align: top;\n",
       "    }\n",
       "\n",
       "    .dataframe thead th {\n",
       "        text-align: right;\n",
       "    }\n",
       "</style>\n",
       "<table border=\"1\" class=\"dataframe\">\n",
       "  <thead>\n",
       "    <tr style=\"text-align: right;\">\n",
       "      <th></th>\n",
       "      <th>device</th>\n",
       "      <th>end_ts</th>\n",
       "      <th>source_id</th>\n",
       "      <th>start_ts</th>\n",
       "      <th>uid</th>\n",
       "      <th>sesion_mes</th>\n",
       "      <th>sesion_mes_anio</th>\n",
       "      <th>sesion_semana</th>\n",
       "      <th>sesion_semana_anio</th>\n",
       "      <th>sesion_dia</th>\n",
       "      <th>duracion_sesion_seg</th>\n",
       "      <th>inicio_ts_primera_sesion</th>\n",
       "      <th>primera_sesion_dias</th>\n",
       "      <th>primera_sesion_mes</th>\n",
       "    </tr>\n",
       "  </thead>\n",
       "  <tbody>\n",
       "    <tr>\n",
       "      <th>0</th>\n",
       "      <td>touch</td>\n",
       "      <td>2017-12-20 17:38:00</td>\n",
       "      <td>4</td>\n",
       "      <td>2017-12-20 17:20:00</td>\n",
       "      <td>16879256277535980062</td>\n",
       "      <td>2017-12-01</td>\n",
       "      <td>2017-12</td>\n",
       "      <td>51</td>\n",
       "      <td>2017-51</td>\n",
       "      <td>2017-12-20</td>\n",
       "      <td>1080</td>\n",
       "      <td>2017-12-20 17:20:00</td>\n",
       "      <td>2017-12-20</td>\n",
       "      <td>2017-12-01</td>\n",
       "    </tr>\n",
       "    <tr>\n",
       "      <th>1</th>\n",
       "      <td>desktop</td>\n",
       "      <td>2018-02-19 17:21:00</td>\n",
       "      <td>2</td>\n",
       "      <td>2018-02-19 16:53:00</td>\n",
       "      <td>104060357244891740</td>\n",
       "      <td>2018-02-01</td>\n",
       "      <td>2018-02</td>\n",
       "      <td>8</td>\n",
       "      <td>2018-07</td>\n",
       "      <td>2018-02-19</td>\n",
       "      <td>1680</td>\n",
       "      <td>2018-02-19 16:53:00</td>\n",
       "      <td>2018-02-19</td>\n",
       "      <td>2018-02-01</td>\n",
       "    </tr>\n",
       "  </tbody>\n",
       "</table>\n",
       "</div>"
      ],
      "text/plain": [
       "    device              end_ts  source_id            start_ts  \\\n",
       "0    touch 2017-12-20 17:38:00          4 2017-12-20 17:20:00   \n",
       "1  desktop 2018-02-19 17:21:00          2 2018-02-19 16:53:00   \n",
       "\n",
       "                    uid sesion_mes sesion_mes_anio  sesion_semana  \\\n",
       "0  16879256277535980062 2017-12-01         2017-12             51   \n",
       "1    104060357244891740 2018-02-01         2018-02              8   \n",
       "\n",
       "  sesion_semana_anio  sesion_dia  duracion_sesion_seg  \\\n",
       "0            2017-51  2017-12-20                 1080   \n",
       "1            2018-07  2018-02-19                 1680   \n",
       "\n",
       "  inicio_ts_primera_sesion primera_sesion_dias primera_sesion_mes  \n",
       "0      2017-12-20 17:20:00          2017-12-20         2017-12-01  \n",
       "1      2018-02-19 16:53:00          2018-02-19         2018-02-01  "
      ]
     },
     "execution_count": 37,
     "metadata": {},
     "output_type": "execute_result"
    }
   ],
   "source": [
    "visitas_full = pd.merge(visitor_raw , primeras_visitas, how='inner', on='uid')\n",
    "visitas_full.head(2)"
   ]
  },
  {
   "cell_type": "code",
   "execution_count": 38,
   "metadata": {},
   "outputs": [],
   "source": [
    "visitas_full['edad_meses'] = ((visitas_full['sesion_mes'] - visitas_full['primera_sesion_mes'])/(30 * np.timedelta64(1,'D'))).round().astype('int')"
   ]
  },
  {
   "cell_type": "code",
   "execution_count": 39,
   "metadata": {},
   "outputs": [],
   "source": [
    "cohortes =visitas_full.pivot_table(index= 'primera_sesion_mes', \n",
    "                                   columns ='edad_meses', \n",
    "                                   values='uid' , \n",
    "                                   aggfunc ='nunique' )"
   ]
  },
  {
   "cell_type": "code",
   "execution_count": 40,
   "metadata": {},
   "outputs": [
    {
     "data": {
      "text/html": [
       "<div>\n",
       "<style scoped>\n",
       "    .dataframe tbody tr th:only-of-type {\n",
       "        vertical-align: middle;\n",
       "    }\n",
       "\n",
       "    .dataframe tbody tr th {\n",
       "        vertical-align: top;\n",
       "    }\n",
       "\n",
       "    .dataframe thead th {\n",
       "        text-align: right;\n",
       "    }\n",
       "</style>\n",
       "<table border=\"1\" class=\"dataframe\">\n",
       "  <thead>\n",
       "    <tr style=\"text-align: right;\">\n",
       "      <th>edad_meses</th>\n",
       "      <th>0</th>\n",
       "      <th>1</th>\n",
       "      <th>2</th>\n",
       "      <th>3</th>\n",
       "      <th>4</th>\n",
       "      <th>5</th>\n",
       "      <th>6</th>\n",
       "      <th>7</th>\n",
       "      <th>8</th>\n",
       "      <th>9</th>\n",
       "      <th>10</th>\n",
       "      <th>11</th>\n",
       "    </tr>\n",
       "    <tr>\n",
       "      <th>primera_sesion_mes</th>\n",
       "      <th></th>\n",
       "      <th></th>\n",
       "      <th></th>\n",
       "      <th></th>\n",
       "      <th></th>\n",
       "      <th></th>\n",
       "      <th></th>\n",
       "      <th></th>\n",
       "      <th></th>\n",
       "      <th></th>\n",
       "      <th></th>\n",
       "      <th></th>\n",
       "    </tr>\n",
       "  </thead>\n",
       "  <tbody>\n",
       "    <tr>\n",
       "      <th>2017-06-01</th>\n",
       "      <td>13259.0</td>\n",
       "      <td>1043.0</td>\n",
       "      <td>713.0</td>\n",
       "      <td>814.0</td>\n",
       "      <td>909.0</td>\n",
       "      <td>947.0</td>\n",
       "      <td>809.0</td>\n",
       "      <td>766.0</td>\n",
       "      <td>694.0</td>\n",
       "      <td>674.0</td>\n",
       "      <td>539.0</td>\n",
       "      <td>596.0</td>\n",
       "    </tr>\n",
       "    <tr>\n",
       "      <th>2017-07-01</th>\n",
       "      <td>13140.0</td>\n",
       "      <td>737.0</td>\n",
       "      <td>674.0</td>\n",
       "      <td>738.0</td>\n",
       "      <td>765.0</td>\n",
       "      <td>633.0</td>\n",
       "      <td>596.0</td>\n",
       "      <td>601.0</td>\n",
       "      <td>510.0</td>\n",
       "      <td>376.0</td>\n",
       "      <td>361.0</td>\n",
       "      <td>0.0</td>\n",
       "    </tr>\n",
       "    <tr>\n",
       "      <th>2017-08-01</th>\n",
       "      <td>10181.0</td>\n",
       "      <td>783.0</td>\n",
       "      <td>640.0</td>\n",
       "      <td>639.0</td>\n",
       "      <td>510.0</td>\n",
       "      <td>448.0</td>\n",
       "      <td>370.0</td>\n",
       "      <td>402.0</td>\n",
       "      <td>284.0</td>\n",
       "      <td>265.0</td>\n",
       "      <td>0.0</td>\n",
       "      <td>0.0</td>\n",
       "    </tr>\n",
       "    <tr>\n",
       "      <th>2017-09-01</th>\n",
       "      <td>16704.0</td>\n",
       "      <td>1428.0</td>\n",
       "      <td>1156.0</td>\n",
       "      <td>847.0</td>\n",
       "      <td>658.0</td>\n",
       "      <td>632.0</td>\n",
       "      <td>599.0</td>\n",
       "      <td>404.0</td>\n",
       "      <td>381.0</td>\n",
       "      <td>0.0</td>\n",
       "      <td>0.0</td>\n",
       "      <td>0.0</td>\n",
       "    </tr>\n",
       "    <tr>\n",
       "      <th>2017-10-01</th>\n",
       "      <td>25977.0</td>\n",
       "      <td>2042.0</td>\n",
       "      <td>1357.0</td>\n",
       "      <td>1012.0</td>\n",
       "      <td>890.0</td>\n",
       "      <td>837.0</td>\n",
       "      <td>555.0</td>\n",
       "      <td>529.0</td>\n",
       "      <td>0.0</td>\n",
       "      <td>0.0</td>\n",
       "      <td>0.0</td>\n",
       "      <td>0.0</td>\n",
       "    </tr>\n",
       "    <tr>\n",
       "      <th>2017-11-01</th>\n",
       "      <td>27248.0</td>\n",
       "      <td>2133.0</td>\n",
       "      <td>1202.0</td>\n",
       "      <td>1054.0</td>\n",
       "      <td>919.0</td>\n",
       "      <td>638.0</td>\n",
       "      <td>594.0</td>\n",
       "      <td>0.0</td>\n",
       "      <td>0.0</td>\n",
       "      <td>0.0</td>\n",
       "      <td>0.0</td>\n",
       "      <td>0.0</td>\n",
       "    </tr>\n",
       "    <tr>\n",
       "      <th>2017-12-01</th>\n",
       "      <td>25268.0</td>\n",
       "      <td>1410.0</td>\n",
       "      <td>960.0</td>\n",
       "      <td>786.0</td>\n",
       "      <td>512.0</td>\n",
       "      <td>481.0</td>\n",
       "      <td>0.0</td>\n",
       "      <td>0.0</td>\n",
       "      <td>0.0</td>\n",
       "      <td>0.0</td>\n",
       "      <td>0.0</td>\n",
       "      <td>0.0</td>\n",
       "    </tr>\n",
       "    <tr>\n",
       "      <th>2018-01-01</th>\n",
       "      <td>22624.0</td>\n",
       "      <td>1351.0</td>\n",
       "      <td>890.0</td>\n",
       "      <td>565.0</td>\n",
       "      <td>458.0</td>\n",
       "      <td>0.0</td>\n",
       "      <td>0.0</td>\n",
       "      <td>0.0</td>\n",
       "      <td>0.0</td>\n",
       "      <td>0.0</td>\n",
       "      <td>0.0</td>\n",
       "      <td>0.0</td>\n",
       "    </tr>\n",
       "    <tr>\n",
       "      <th>2018-02-01</th>\n",
       "      <td>22197.0</td>\n",
       "      <td>1267.0</td>\n",
       "      <td>565.0</td>\n",
       "      <td>446.0</td>\n",
       "      <td>0.0</td>\n",
       "      <td>0.0</td>\n",
       "      <td>0.0</td>\n",
       "      <td>0.0</td>\n",
       "      <td>0.0</td>\n",
       "      <td>0.0</td>\n",
       "      <td>0.0</td>\n",
       "      <td>0.0</td>\n",
       "    </tr>\n",
       "    <tr>\n",
       "      <th>2018-03-01</th>\n",
       "      <td>20589.0</td>\n",
       "      <td>861.0</td>\n",
       "      <td>557.0</td>\n",
       "      <td>0.0</td>\n",
       "      <td>0.0</td>\n",
       "      <td>0.0</td>\n",
       "      <td>0.0</td>\n",
       "      <td>0.0</td>\n",
       "      <td>0.0</td>\n",
       "      <td>0.0</td>\n",
       "      <td>0.0</td>\n",
       "      <td>0.0</td>\n",
       "    </tr>\n",
       "    <tr>\n",
       "      <th>2018-04-01</th>\n",
       "      <td>15709.0</td>\n",
       "      <td>760.0</td>\n",
       "      <td>0.0</td>\n",
       "      <td>0.0</td>\n",
       "      <td>0.0</td>\n",
       "      <td>0.0</td>\n",
       "      <td>0.0</td>\n",
       "      <td>0.0</td>\n",
       "      <td>0.0</td>\n",
       "      <td>0.0</td>\n",
       "      <td>0.0</td>\n",
       "      <td>0.0</td>\n",
       "    </tr>\n",
       "    <tr>\n",
       "      <th>2018-05-01</th>\n",
       "      <td>15273.0</td>\n",
       "      <td>0.0</td>\n",
       "      <td>0.0</td>\n",
       "      <td>0.0</td>\n",
       "      <td>0.0</td>\n",
       "      <td>0.0</td>\n",
       "      <td>0.0</td>\n",
       "      <td>0.0</td>\n",
       "      <td>0.0</td>\n",
       "      <td>0.0</td>\n",
       "      <td>0.0</td>\n",
       "      <td>0.0</td>\n",
       "    </tr>\n",
       "  </tbody>\n",
       "</table>\n",
       "</div>"
      ],
      "text/plain": [
       "edad_meses               0       1       2       3      4      5      6   \\\n",
       "primera_sesion_mes                                                         \n",
       "2017-06-01          13259.0  1043.0   713.0   814.0  909.0  947.0  809.0   \n",
       "2017-07-01          13140.0   737.0   674.0   738.0  765.0  633.0  596.0   \n",
       "2017-08-01          10181.0   783.0   640.0   639.0  510.0  448.0  370.0   \n",
       "2017-09-01          16704.0  1428.0  1156.0   847.0  658.0  632.0  599.0   \n",
       "2017-10-01          25977.0  2042.0  1357.0  1012.0  890.0  837.0  555.0   \n",
       "2017-11-01          27248.0  2133.0  1202.0  1054.0  919.0  638.0  594.0   \n",
       "2017-12-01          25268.0  1410.0   960.0   786.0  512.0  481.0    0.0   \n",
       "2018-01-01          22624.0  1351.0   890.0   565.0  458.0    0.0    0.0   \n",
       "2018-02-01          22197.0  1267.0   565.0   446.0    0.0    0.0    0.0   \n",
       "2018-03-01          20589.0   861.0   557.0     0.0    0.0    0.0    0.0   \n",
       "2018-04-01          15709.0   760.0     0.0     0.0    0.0    0.0    0.0   \n",
       "2018-05-01          15273.0     0.0     0.0     0.0    0.0    0.0    0.0   \n",
       "\n",
       "edad_meses             7      8      9      10     11  \n",
       "primera_sesion_mes                                     \n",
       "2017-06-01          766.0  694.0  674.0  539.0  596.0  \n",
       "2017-07-01          601.0  510.0  376.0  361.0    0.0  \n",
       "2017-08-01          402.0  284.0  265.0    0.0    0.0  \n",
       "2017-09-01          404.0  381.0    0.0    0.0    0.0  \n",
       "2017-10-01          529.0    0.0    0.0    0.0    0.0  \n",
       "2017-11-01            0.0    0.0    0.0    0.0    0.0  \n",
       "2017-12-01            0.0    0.0    0.0    0.0    0.0  \n",
       "2018-01-01            0.0    0.0    0.0    0.0    0.0  \n",
       "2018-02-01            0.0    0.0    0.0    0.0    0.0  \n",
       "2018-03-01            0.0    0.0    0.0    0.0    0.0  \n",
       "2018-04-01            0.0    0.0    0.0    0.0    0.0  \n",
       "2018-05-01            0.0    0.0    0.0    0.0    0.0  "
      ]
     },
     "execution_count": 40,
     "metadata": {},
     "output_type": "execute_result"
    }
   ],
   "source": [
    "cohortes.fillna(0, inplace=True)\n",
    "cohortes"
   ]
  },
  {
   "cell_type": "code",
   "execution_count": 41,
   "metadata": {},
   "outputs": [],
   "source": [
    "retencion = pd.DataFrame()"
   ]
  },
  {
   "cell_type": "code",
   "execution_count": 42,
   "metadata": {},
   "outputs": [],
   "source": [
    "for edad_mes in cohortes.columns:\n",
    "    retencion = pd.concat([retencion, cohortes[edad_mes]/cohortes[0]], axis=1)"
   ]
  },
  {
   "cell_type": "code",
   "execution_count": 43,
   "metadata": {},
   "outputs": [
    {
     "data": {
      "text/html": [
       "<div>\n",
       "<style scoped>\n",
       "    .dataframe tbody tr th:only-of-type {\n",
       "        vertical-align: middle;\n",
       "    }\n",
       "\n",
       "    .dataframe tbody tr th {\n",
       "        vertical-align: top;\n",
       "    }\n",
       "\n",
       "    .dataframe thead th {\n",
       "        text-align: right;\n",
       "    }\n",
       "</style>\n",
       "<table border=\"1\" class=\"dataframe\">\n",
       "  <thead>\n",
       "    <tr style=\"text-align: right;\">\n",
       "      <th>edad_meses</th>\n",
       "      <th>0</th>\n",
       "      <th>1</th>\n",
       "      <th>2</th>\n",
       "      <th>3</th>\n",
       "      <th>4</th>\n",
       "      <th>5</th>\n",
       "      <th>6</th>\n",
       "      <th>7</th>\n",
       "      <th>8</th>\n",
       "      <th>9</th>\n",
       "      <th>10</th>\n",
       "      <th>11</th>\n",
       "    </tr>\n",
       "  </thead>\n",
       "  <tbody>\n",
       "    <tr>\n",
       "      <th>2017-06-01 00:00:00</th>\n",
       "      <td>1.0</td>\n",
       "      <td>0.078664</td>\n",
       "      <td>0.053775</td>\n",
       "      <td>0.061392</td>\n",
       "      <td>0.068557</td>\n",
       "      <td>0.071423</td>\n",
       "      <td>0.061015</td>\n",
       "      <td>0.057772</td>\n",
       "      <td>0.052342</td>\n",
       "      <td>0.050833</td>\n",
       "      <td>0.040652</td>\n",
       "      <td>0.044951</td>\n",
       "    </tr>\n",
       "    <tr>\n",
       "      <th>2017-07-01 00:00:00</th>\n",
       "      <td>1.0</td>\n",
       "      <td>0.056088</td>\n",
       "      <td>0.051294</td>\n",
       "      <td>0.056164</td>\n",
       "      <td>0.058219</td>\n",
       "      <td>0.048174</td>\n",
       "      <td>0.045358</td>\n",
       "      <td>0.045738</td>\n",
       "      <td>0.038813</td>\n",
       "      <td>0.028615</td>\n",
       "      <td>0.027473</td>\n",
       "      <td>0.000000</td>\n",
       "    </tr>\n",
       "    <tr>\n",
       "      <th>2017-08-01 00:00:00</th>\n",
       "      <td>1.0</td>\n",
       "      <td>0.076908</td>\n",
       "      <td>0.062862</td>\n",
       "      <td>0.062764</td>\n",
       "      <td>0.050093</td>\n",
       "      <td>0.044004</td>\n",
       "      <td>0.036342</td>\n",
       "      <td>0.039485</td>\n",
       "      <td>0.027895</td>\n",
       "      <td>0.026029</td>\n",
       "      <td>0.000000</td>\n",
       "      <td>0.000000</td>\n",
       "    </tr>\n",
       "    <tr>\n",
       "      <th>2017-09-01 00:00:00</th>\n",
       "      <td>1.0</td>\n",
       "      <td>0.085489</td>\n",
       "      <td>0.069205</td>\n",
       "      <td>0.050706</td>\n",
       "      <td>0.039392</td>\n",
       "      <td>0.037835</td>\n",
       "      <td>0.035860</td>\n",
       "      <td>0.024186</td>\n",
       "      <td>0.022809</td>\n",
       "      <td>0.000000</td>\n",
       "      <td>0.000000</td>\n",
       "      <td>0.000000</td>\n",
       "    </tr>\n",
       "    <tr>\n",
       "      <th>2017-10-01 00:00:00</th>\n",
       "      <td>1.0</td>\n",
       "      <td>0.078608</td>\n",
       "      <td>0.052239</td>\n",
       "      <td>0.038958</td>\n",
       "      <td>0.034261</td>\n",
       "      <td>0.032221</td>\n",
       "      <td>0.021365</td>\n",
       "      <td>0.020364</td>\n",
       "      <td>0.000000</td>\n",
       "      <td>0.000000</td>\n",
       "      <td>0.000000</td>\n",
       "      <td>0.000000</td>\n",
       "    </tr>\n",
       "    <tr>\n",
       "      <th>2017-11-01 00:00:00</th>\n",
       "      <td>1.0</td>\n",
       "      <td>0.078281</td>\n",
       "      <td>0.044113</td>\n",
       "      <td>0.038682</td>\n",
       "      <td>0.033727</td>\n",
       "      <td>0.023415</td>\n",
       "      <td>0.021800</td>\n",
       "      <td>0.000000</td>\n",
       "      <td>0.000000</td>\n",
       "      <td>0.000000</td>\n",
       "      <td>0.000000</td>\n",
       "      <td>0.000000</td>\n",
       "    </tr>\n",
       "    <tr>\n",
       "      <th>2017-12-01 00:00:00</th>\n",
       "      <td>1.0</td>\n",
       "      <td>0.055802</td>\n",
       "      <td>0.037993</td>\n",
       "      <td>0.031107</td>\n",
       "      <td>0.020263</td>\n",
       "      <td>0.019036</td>\n",
       "      <td>0.000000</td>\n",
       "      <td>0.000000</td>\n",
       "      <td>0.000000</td>\n",
       "      <td>0.000000</td>\n",
       "      <td>0.000000</td>\n",
       "      <td>0.000000</td>\n",
       "    </tr>\n",
       "    <tr>\n",
       "      <th>2018-01-01 00:00:00</th>\n",
       "      <td>1.0</td>\n",
       "      <td>0.059715</td>\n",
       "      <td>0.039339</td>\n",
       "      <td>0.024973</td>\n",
       "      <td>0.020244</td>\n",
       "      <td>0.000000</td>\n",
       "      <td>0.000000</td>\n",
       "      <td>0.000000</td>\n",
       "      <td>0.000000</td>\n",
       "      <td>0.000000</td>\n",
       "      <td>0.000000</td>\n",
       "      <td>0.000000</td>\n",
       "    </tr>\n",
       "    <tr>\n",
       "      <th>2018-02-01 00:00:00</th>\n",
       "      <td>1.0</td>\n",
       "      <td>0.057080</td>\n",
       "      <td>0.025454</td>\n",
       "      <td>0.020093</td>\n",
       "      <td>0.000000</td>\n",
       "      <td>0.000000</td>\n",
       "      <td>0.000000</td>\n",
       "      <td>0.000000</td>\n",
       "      <td>0.000000</td>\n",
       "      <td>0.000000</td>\n",
       "      <td>0.000000</td>\n",
       "      <td>0.000000</td>\n",
       "    </tr>\n",
       "    <tr>\n",
       "      <th>2018-03-01 00:00:00</th>\n",
       "      <td>1.0</td>\n",
       "      <td>0.041818</td>\n",
       "      <td>0.027053</td>\n",
       "      <td>0.000000</td>\n",
       "      <td>0.000000</td>\n",
       "      <td>0.000000</td>\n",
       "      <td>0.000000</td>\n",
       "      <td>0.000000</td>\n",
       "      <td>0.000000</td>\n",
       "      <td>0.000000</td>\n",
       "      <td>0.000000</td>\n",
       "      <td>0.000000</td>\n",
       "    </tr>\n",
       "    <tr>\n",
       "      <th>2018-04-01 00:00:00</th>\n",
       "      <td>1.0</td>\n",
       "      <td>0.048380</td>\n",
       "      <td>0.000000</td>\n",
       "      <td>0.000000</td>\n",
       "      <td>0.000000</td>\n",
       "      <td>0.000000</td>\n",
       "      <td>0.000000</td>\n",
       "      <td>0.000000</td>\n",
       "      <td>0.000000</td>\n",
       "      <td>0.000000</td>\n",
       "      <td>0.000000</td>\n",
       "      <td>0.000000</td>\n",
       "    </tr>\n",
       "    <tr>\n",
       "      <th>2018-05-01 00:00:00</th>\n",
       "      <td>1.0</td>\n",
       "      <td>0.000000</td>\n",
       "      <td>0.000000</td>\n",
       "      <td>0.000000</td>\n",
       "      <td>0.000000</td>\n",
       "      <td>0.000000</td>\n",
       "      <td>0.000000</td>\n",
       "      <td>0.000000</td>\n",
       "      <td>0.000000</td>\n",
       "      <td>0.000000</td>\n",
       "      <td>0.000000</td>\n",
       "      <td>0.000000</td>\n",
       "    </tr>\n",
       "  </tbody>\n",
       "</table>\n",
       "</div>"
      ],
      "text/plain": [
       "edad_meses            0         1         2         3         4         5   \\\n",
       "2017-06-01 00:00:00  1.0  0.078664  0.053775  0.061392  0.068557  0.071423   \n",
       "2017-07-01 00:00:00  1.0  0.056088  0.051294  0.056164  0.058219  0.048174   \n",
       "2017-08-01 00:00:00  1.0  0.076908  0.062862  0.062764  0.050093  0.044004   \n",
       "2017-09-01 00:00:00  1.0  0.085489  0.069205  0.050706  0.039392  0.037835   \n",
       "2017-10-01 00:00:00  1.0  0.078608  0.052239  0.038958  0.034261  0.032221   \n",
       "2017-11-01 00:00:00  1.0  0.078281  0.044113  0.038682  0.033727  0.023415   \n",
       "2017-12-01 00:00:00  1.0  0.055802  0.037993  0.031107  0.020263  0.019036   \n",
       "2018-01-01 00:00:00  1.0  0.059715  0.039339  0.024973  0.020244  0.000000   \n",
       "2018-02-01 00:00:00  1.0  0.057080  0.025454  0.020093  0.000000  0.000000   \n",
       "2018-03-01 00:00:00  1.0  0.041818  0.027053  0.000000  0.000000  0.000000   \n",
       "2018-04-01 00:00:00  1.0  0.048380  0.000000  0.000000  0.000000  0.000000   \n",
       "2018-05-01 00:00:00  1.0  0.000000  0.000000  0.000000  0.000000  0.000000   \n",
       "\n",
       "edad_meses                 6         7         8         9         10  \\\n",
       "2017-06-01 00:00:00  0.061015  0.057772  0.052342  0.050833  0.040652   \n",
       "2017-07-01 00:00:00  0.045358  0.045738  0.038813  0.028615  0.027473   \n",
       "2017-08-01 00:00:00  0.036342  0.039485  0.027895  0.026029  0.000000   \n",
       "2017-09-01 00:00:00  0.035860  0.024186  0.022809  0.000000  0.000000   \n",
       "2017-10-01 00:00:00  0.021365  0.020364  0.000000  0.000000  0.000000   \n",
       "2017-11-01 00:00:00  0.021800  0.000000  0.000000  0.000000  0.000000   \n",
       "2017-12-01 00:00:00  0.000000  0.000000  0.000000  0.000000  0.000000   \n",
       "2018-01-01 00:00:00  0.000000  0.000000  0.000000  0.000000  0.000000   \n",
       "2018-02-01 00:00:00  0.000000  0.000000  0.000000  0.000000  0.000000   \n",
       "2018-03-01 00:00:00  0.000000  0.000000  0.000000  0.000000  0.000000   \n",
       "2018-04-01 00:00:00  0.000000  0.000000  0.000000  0.000000  0.000000   \n",
       "2018-05-01 00:00:00  0.000000  0.000000  0.000000  0.000000  0.000000   \n",
       "\n",
       "edad_meses                 11  \n",
       "2017-06-01 00:00:00  0.044951  \n",
       "2017-07-01 00:00:00  0.000000  \n",
       "2017-08-01 00:00:00  0.000000  \n",
       "2017-09-01 00:00:00  0.000000  \n",
       "2017-10-01 00:00:00  0.000000  \n",
       "2017-11-01 00:00:00  0.000000  \n",
       "2017-12-01 00:00:00  0.000000  \n",
       "2018-01-01 00:00:00  0.000000  \n",
       "2018-02-01 00:00:00  0.000000  \n",
       "2018-03-01 00:00:00  0.000000  \n",
       "2018-04-01 00:00:00  0.000000  \n",
       "2018-05-01 00:00:00  0.000000  "
      ]
     },
     "execution_count": 43,
     "metadata": {},
     "output_type": "execute_result"
    }
   ],
   "source": [
    "retencion.columns = cohortes.columns\n",
    "retencion"
   ]
  },
  {
   "cell_type": "code",
   "execution_count": 44,
   "metadata": {},
   "outputs": [
    {
     "data": {
      "text/html": [
       "<div>\n",
       "<style scoped>\n",
       "    .dataframe tbody tr th:only-of-type {\n",
       "        vertical-align: middle;\n",
       "    }\n",
       "\n",
       "    .dataframe tbody tr th {\n",
       "        vertical-align: top;\n",
       "    }\n",
       "\n",
       "    .dataframe thead th {\n",
       "        text-align: right;\n",
       "    }\n",
       "</style>\n",
       "<table border=\"1\" class=\"dataframe\">\n",
       "  <thead>\n",
       "    <tr style=\"text-align: right;\">\n",
       "      <th>edad_meses</th>\n",
       "      <th>0</th>\n",
       "      <th>1</th>\n",
       "      <th>2</th>\n",
       "      <th>3</th>\n",
       "      <th>4</th>\n",
       "      <th>5</th>\n",
       "      <th>6</th>\n",
       "      <th>7</th>\n",
       "      <th>8</th>\n",
       "      <th>9</th>\n",
       "      <th>10</th>\n",
       "      <th>11</th>\n",
       "    </tr>\n",
       "  </thead>\n",
       "  <tbody>\n",
       "    <tr>\n",
       "      <th>2017-06-01</th>\n",
       "      <td>1.0</td>\n",
       "      <td>0.078664</td>\n",
       "      <td>0.053775</td>\n",
       "      <td>0.061392</td>\n",
       "      <td>0.068557</td>\n",
       "      <td>0.071423</td>\n",
       "      <td>0.061015</td>\n",
       "      <td>0.057772</td>\n",
       "      <td>0.052342</td>\n",
       "      <td>0.050833</td>\n",
       "      <td>0.040652</td>\n",
       "      <td>0.044951</td>\n",
       "    </tr>\n",
       "    <tr>\n",
       "      <th>2017-07-01</th>\n",
       "      <td>1.0</td>\n",
       "      <td>0.056088</td>\n",
       "      <td>0.051294</td>\n",
       "      <td>0.056164</td>\n",
       "      <td>0.058219</td>\n",
       "      <td>0.048174</td>\n",
       "      <td>0.045358</td>\n",
       "      <td>0.045738</td>\n",
       "      <td>0.038813</td>\n",
       "      <td>0.028615</td>\n",
       "      <td>0.027473</td>\n",
       "      <td>0.000000</td>\n",
       "    </tr>\n",
       "    <tr>\n",
       "      <th>2017-08-01</th>\n",
       "      <td>1.0</td>\n",
       "      <td>0.076908</td>\n",
       "      <td>0.062862</td>\n",
       "      <td>0.062764</td>\n",
       "      <td>0.050093</td>\n",
       "      <td>0.044004</td>\n",
       "      <td>0.036342</td>\n",
       "      <td>0.039485</td>\n",
       "      <td>0.027895</td>\n",
       "      <td>0.026029</td>\n",
       "      <td>0.000000</td>\n",
       "      <td>0.000000</td>\n",
       "    </tr>\n",
       "    <tr>\n",
       "      <th>2017-09-01</th>\n",
       "      <td>1.0</td>\n",
       "      <td>0.085489</td>\n",
       "      <td>0.069205</td>\n",
       "      <td>0.050706</td>\n",
       "      <td>0.039392</td>\n",
       "      <td>0.037835</td>\n",
       "      <td>0.035860</td>\n",
       "      <td>0.024186</td>\n",
       "      <td>0.022809</td>\n",
       "      <td>0.000000</td>\n",
       "      <td>0.000000</td>\n",
       "      <td>0.000000</td>\n",
       "    </tr>\n",
       "    <tr>\n",
       "      <th>2017-10-01</th>\n",
       "      <td>1.0</td>\n",
       "      <td>0.078608</td>\n",
       "      <td>0.052239</td>\n",
       "      <td>0.038958</td>\n",
       "      <td>0.034261</td>\n",
       "      <td>0.032221</td>\n",
       "      <td>0.021365</td>\n",
       "      <td>0.020364</td>\n",
       "      <td>0.000000</td>\n",
       "      <td>0.000000</td>\n",
       "      <td>0.000000</td>\n",
       "      <td>0.000000</td>\n",
       "    </tr>\n",
       "    <tr>\n",
       "      <th>2017-11-01</th>\n",
       "      <td>1.0</td>\n",
       "      <td>0.078281</td>\n",
       "      <td>0.044113</td>\n",
       "      <td>0.038682</td>\n",
       "      <td>0.033727</td>\n",
       "      <td>0.023415</td>\n",
       "      <td>0.021800</td>\n",
       "      <td>0.000000</td>\n",
       "      <td>0.000000</td>\n",
       "      <td>0.000000</td>\n",
       "      <td>0.000000</td>\n",
       "      <td>0.000000</td>\n",
       "    </tr>\n",
       "    <tr>\n",
       "      <th>2017-12-01</th>\n",
       "      <td>1.0</td>\n",
       "      <td>0.055802</td>\n",
       "      <td>0.037993</td>\n",
       "      <td>0.031107</td>\n",
       "      <td>0.020263</td>\n",
       "      <td>0.019036</td>\n",
       "      <td>0.000000</td>\n",
       "      <td>0.000000</td>\n",
       "      <td>0.000000</td>\n",
       "      <td>0.000000</td>\n",
       "      <td>0.000000</td>\n",
       "      <td>0.000000</td>\n",
       "    </tr>\n",
       "    <tr>\n",
       "      <th>2018-01-01</th>\n",
       "      <td>1.0</td>\n",
       "      <td>0.059715</td>\n",
       "      <td>0.039339</td>\n",
       "      <td>0.024973</td>\n",
       "      <td>0.020244</td>\n",
       "      <td>0.000000</td>\n",
       "      <td>0.000000</td>\n",
       "      <td>0.000000</td>\n",
       "      <td>0.000000</td>\n",
       "      <td>0.000000</td>\n",
       "      <td>0.000000</td>\n",
       "      <td>0.000000</td>\n",
       "    </tr>\n",
       "    <tr>\n",
       "      <th>2018-02-01</th>\n",
       "      <td>1.0</td>\n",
       "      <td>0.057080</td>\n",
       "      <td>0.025454</td>\n",
       "      <td>0.020093</td>\n",
       "      <td>0.000000</td>\n",
       "      <td>0.000000</td>\n",
       "      <td>0.000000</td>\n",
       "      <td>0.000000</td>\n",
       "      <td>0.000000</td>\n",
       "      <td>0.000000</td>\n",
       "      <td>0.000000</td>\n",
       "      <td>0.000000</td>\n",
       "    </tr>\n",
       "    <tr>\n",
       "      <th>2018-03-01</th>\n",
       "      <td>1.0</td>\n",
       "      <td>0.041818</td>\n",
       "      <td>0.027053</td>\n",
       "      <td>0.000000</td>\n",
       "      <td>0.000000</td>\n",
       "      <td>0.000000</td>\n",
       "      <td>0.000000</td>\n",
       "      <td>0.000000</td>\n",
       "      <td>0.000000</td>\n",
       "      <td>0.000000</td>\n",
       "      <td>0.000000</td>\n",
       "      <td>0.000000</td>\n",
       "    </tr>\n",
       "    <tr>\n",
       "      <th>2018-04-01</th>\n",
       "      <td>1.0</td>\n",
       "      <td>0.048380</td>\n",
       "      <td>0.000000</td>\n",
       "      <td>0.000000</td>\n",
       "      <td>0.000000</td>\n",
       "      <td>0.000000</td>\n",
       "      <td>0.000000</td>\n",
       "      <td>0.000000</td>\n",
       "      <td>0.000000</td>\n",
       "      <td>0.000000</td>\n",
       "      <td>0.000000</td>\n",
       "      <td>0.000000</td>\n",
       "    </tr>\n",
       "    <tr>\n",
       "      <th>2018-05-01</th>\n",
       "      <td>1.0</td>\n",
       "      <td>0.000000</td>\n",
       "      <td>0.000000</td>\n",
       "      <td>0.000000</td>\n",
       "      <td>0.000000</td>\n",
       "      <td>0.000000</td>\n",
       "      <td>0.000000</td>\n",
       "      <td>0.000000</td>\n",
       "      <td>0.000000</td>\n",
       "      <td>0.000000</td>\n",
       "      <td>0.000000</td>\n",
       "      <td>0.000000</td>\n",
       "    </tr>\n",
       "  </tbody>\n",
       "</table>\n",
       "</div>"
      ],
      "text/plain": [
       "edad_meses   0         1         2         3         4         5         6   \\\n",
       "2017-06-01  1.0  0.078664  0.053775  0.061392  0.068557  0.071423  0.061015   \n",
       "2017-07-01  1.0  0.056088  0.051294  0.056164  0.058219  0.048174  0.045358   \n",
       "2017-08-01  1.0  0.076908  0.062862  0.062764  0.050093  0.044004  0.036342   \n",
       "2017-09-01  1.0  0.085489  0.069205  0.050706  0.039392  0.037835  0.035860   \n",
       "2017-10-01  1.0  0.078608  0.052239  0.038958  0.034261  0.032221  0.021365   \n",
       "2017-11-01  1.0  0.078281  0.044113  0.038682  0.033727  0.023415  0.021800   \n",
       "2017-12-01  1.0  0.055802  0.037993  0.031107  0.020263  0.019036  0.000000   \n",
       "2018-01-01  1.0  0.059715  0.039339  0.024973  0.020244  0.000000  0.000000   \n",
       "2018-02-01  1.0  0.057080  0.025454  0.020093  0.000000  0.000000  0.000000   \n",
       "2018-03-01  1.0  0.041818  0.027053  0.000000  0.000000  0.000000  0.000000   \n",
       "2018-04-01  1.0  0.048380  0.000000  0.000000  0.000000  0.000000  0.000000   \n",
       "2018-05-01  1.0  0.000000  0.000000  0.000000  0.000000  0.000000  0.000000   \n",
       "\n",
       "edad_meses        7         8         9         10        11  \n",
       "2017-06-01  0.057772  0.052342  0.050833  0.040652  0.044951  \n",
       "2017-07-01  0.045738  0.038813  0.028615  0.027473  0.000000  \n",
       "2017-08-01  0.039485  0.027895  0.026029  0.000000  0.000000  \n",
       "2017-09-01  0.024186  0.022809  0.000000  0.000000  0.000000  \n",
       "2017-10-01  0.020364  0.000000  0.000000  0.000000  0.000000  \n",
       "2017-11-01  0.000000  0.000000  0.000000  0.000000  0.000000  \n",
       "2017-12-01  0.000000  0.000000  0.000000  0.000000  0.000000  \n",
       "2018-01-01  0.000000  0.000000  0.000000  0.000000  0.000000  \n",
       "2018-02-01  0.000000  0.000000  0.000000  0.000000  0.000000  \n",
       "2018-03-01  0.000000  0.000000  0.000000  0.000000  0.000000  \n",
       "2018-04-01  0.000000  0.000000  0.000000  0.000000  0.000000  \n",
       "2018-05-01  0.000000  0.000000  0.000000  0.000000  0.000000  "
      ]
     },
     "execution_count": 44,
     "metadata": {},
     "output_type": "execute_result"
    }
   ],
   "source": [
    "retencion.index = [str(fecha)[:10]for fecha in retencion.index]\n",
    "retencion"
   ]
  },
  {
   "cell_type": "code",
   "execution_count": 45,
   "metadata": {},
   "outputs": [
    {
     "data": {
      "image/png": "[encoded data removed]",
      "text/plain": [
       "<Figure size 640x480 with 2 Axes>"
      ]
     },
     "metadata": {},
     "output_type": "display_data"
    }
   ],
   "source": [
    "plt.Figure(figsize= (20,18))\n",
    "sns.heatmap(retencion, \n",
    "            annot=True, \n",
    "            fmt='.1%', \n",
    "            linewidths=0.5, \n",
    "            linecolor='grey', \n",
    "            vmax=0.15,\n",
    "            cbar_kws={'orientation': 'horizontal'}).set(title = 'Ratio de Retencion')\n",
    "plt.show()"
   ]
  },
  {
   "cell_type": "markdown",
   "metadata": {},
   "source": [
    "Aqui en la grafica de calor se muestra la retencion y el porcentaje que regresan los clientes en meses  nos damos cuenta que en junio los clientes siguen visitando la pagina desde esa fecha hasta el resto del año sigue visitando la web "
   ]
  },
  {
   "cell_type": "markdown",
   "metadata": {},
   "source": [
    "<div class=\"alert alert-block alert-danger\">\n",
    "<b>Comentario de Revisor</b> <a class=\"tocSkip\"></a>\n",
    "\n",
    "En esta parte no es necesario calcular un tiempo en que vuelven los usuarios. Una forma más simple de ver cuántos usuarios vuelven es determinar el styckiness factor semanal y mensual, los cuales se calculan como DAU/WAU y DAU/MAU\n",
    "\n",
    "</div>"
   ]
  },
  {
   "cell_type": "markdown",
   "metadata": {},
   "source": [
    "<div class=\"alert alert-block alert-success\">\n",
    "<b>Comentario de Revisor v3</b> <a class=\"tocSkip\"></a>\n",
    "\n",
    "Ok, ahora el resultado de la parte anterior es correcto. Muy bien al calcular este tipo de retención, es el más completo. Nota que las cohortes más nuevas tienen peor retención en el tiempo\n",
    "\n",
    "</div>"
   ]
  },
  {
   "cell_type": "markdown",
   "metadata": {},
   "source": [
    "<div class=\"alert alert-block alert-info\">\n",
    "<b>Me faltaba mucho por hacer en la parte que me dejo este comentario aparte de que fue el ultimo lo baje hasta donde estaba usted analisando mi progreso en la revision</b> <a class=\"tocSkip\"></a>\n",
    "</div>"
   ]
  },
  {
   "cell_type": "markdown",
   "metadata": {},
   "source": [
    "## Ventas"
   ]
  },
  {
   "cell_type": "markdown",
   "metadata": {},
   "source": [
    "### ¿Cuándo empieza la gente a comprar?"
   ]
  },
  {
   "cell_type": "code",
   "execution_count": 46,
   "metadata": {},
   "outputs": [
    {
     "data": {
      "text/html": [
       "<div>\n",
       "<style scoped>\n",
       "    .dataframe tbody tr th:only-of-type {\n",
       "        vertical-align: middle;\n",
       "    }\n",
       "\n",
       "    .dataframe tbody tr th {\n",
       "        vertical-align: top;\n",
       "    }\n",
       "\n",
       "    .dataframe thead th {\n",
       "        text-align: right;\n",
       "    }\n",
       "</style>\n",
       "<table border=\"1\" class=\"dataframe\">\n",
       "  <thead>\n",
       "    <tr style=\"text-align: right;\">\n",
       "      <th></th>\n",
       "      <th>buy_ts</th>\n",
       "      <th>revenue</th>\n",
       "      <th>uid</th>\n",
       "    </tr>\n",
       "  </thead>\n",
       "  <tbody>\n",
       "    <tr>\n",
       "      <th>0</th>\n",
       "      <td>2017-06-01 00:10:00</td>\n",
       "      <td>17.00</td>\n",
       "      <td>10329302124590727494</td>\n",
       "    </tr>\n",
       "    <tr>\n",
       "      <th>1</th>\n",
       "      <td>2017-06-01 00:25:00</td>\n",
       "      <td>0.55</td>\n",
       "      <td>11627257723692907447</td>\n",
       "    </tr>\n",
       "    <tr>\n",
       "      <th>2</th>\n",
       "      <td>2017-06-01 00:27:00</td>\n",
       "      <td>0.37</td>\n",
       "      <td>17903680561304213844</td>\n",
       "    </tr>\n",
       "    <tr>\n",
       "      <th>3</th>\n",
       "      <td>2017-06-01 00:29:00</td>\n",
       "      <td>0.55</td>\n",
       "      <td>16109239769442553005</td>\n",
       "    </tr>\n",
       "    <tr>\n",
       "      <th>4</th>\n",
       "      <td>2017-06-01 07:58:00</td>\n",
       "      <td>0.37</td>\n",
       "      <td>14200605875248379450</td>\n",
       "    </tr>\n",
       "  </tbody>\n",
       "</table>\n",
       "</div>"
      ],
      "text/plain": [
       "               buy_ts  revenue                   uid\n",
       "0 2017-06-01 00:10:00    17.00  10329302124590727494\n",
       "1 2017-06-01 00:25:00     0.55  11627257723692907447\n",
       "2 2017-06-01 00:27:00     0.37  17903680561304213844\n",
       "3 2017-06-01 00:29:00     0.55  16109239769442553005\n",
       "4 2017-06-01 07:58:00     0.37  14200605875248379450"
      ]
     },
     "execution_count": 46,
     "metadata": {},
     "output_type": "execute_result"
    }
   ],
   "source": [
    "orders_raw.head()"
   ]
  },
  {
   "cell_type": "code",
   "execution_count": 47,
   "metadata": {},
   "outputs": [],
   "source": [
    "orders_raw['dia_compras']= orders_raw['buy_ts'].dt.date\n"
   ]
  },
  {
   "cell_type": "code",
   "execution_count": 48,
   "metadata": {},
   "outputs": [],
   "source": [
    "orders_raw['mes_compra']= orders_raw['buy_ts'].apply(lambda fecha: pd.to_datetime(fecha.strftime('%Y-%m-%01')))\n",
    "#orders_raw['mes_compra']= orders_raw['buy_ts'].astype('datetime64[M]')"
   ]
  },
  {
   "cell_type": "code",
   "execution_count": 50,
   "metadata": {},
   "outputs": [
    {
     "data": {
      "text/html": [
       "<div>\n",
       "<style scoped>\n",
       "    .dataframe tbody tr th:only-of-type {\n",
       "        vertical-align: middle;\n",
       "    }\n",
       "\n",
       "    .dataframe tbody tr th {\n",
       "        vertical-align: top;\n",
       "    }\n",
       "\n",
       "    .dataframe thead th {\n",
       "        text-align: right;\n",
       "    }\n",
       "</style>\n",
       "<table border=\"1\" class=\"dataframe\">\n",
       "  <thead>\n",
       "    <tr style=\"text-align: right;\">\n",
       "      <th></th>\n",
       "      <th>buy_ts</th>\n",
       "      <th>revenue</th>\n",
       "      <th>uid</th>\n",
       "      <th>dia_compras</th>\n",
       "      <th>mes_compra</th>\n",
       "    </tr>\n",
       "  </thead>\n",
       "  <tbody>\n",
       "    <tr>\n",
       "      <th>0</th>\n",
       "      <td>2017-06-01 00:10:00</td>\n",
       "      <td>17.00</td>\n",
       "      <td>10329302124590727494</td>\n",
       "      <td>2017-06-01</td>\n",
       "      <td>2017-06-01</td>\n",
       "    </tr>\n",
       "    <tr>\n",
       "      <th>1</th>\n",
       "      <td>2017-06-01 00:25:00</td>\n",
       "      <td>0.55</td>\n",
       "      <td>11627257723692907447</td>\n",
       "      <td>2017-06-01</td>\n",
       "      <td>2017-06-01</td>\n",
       "    </tr>\n",
       "    <tr>\n",
       "      <th>2</th>\n",
       "      <td>2017-06-01 00:27:00</td>\n",
       "      <td>0.37</td>\n",
       "      <td>17903680561304213844</td>\n",
       "      <td>2017-06-01</td>\n",
       "      <td>2017-06-01</td>\n",
       "    </tr>\n",
       "    <tr>\n",
       "      <th>3</th>\n",
       "      <td>2017-06-01 00:29:00</td>\n",
       "      <td>0.55</td>\n",
       "      <td>16109239769442553005</td>\n",
       "      <td>2017-06-01</td>\n",
       "      <td>2017-06-01</td>\n",
       "    </tr>\n",
       "    <tr>\n",
       "      <th>4</th>\n",
       "      <td>2017-06-01 07:58:00</td>\n",
       "      <td>0.37</td>\n",
       "      <td>14200605875248379450</td>\n",
       "      <td>2017-06-01</td>\n",
       "      <td>2017-06-01</td>\n",
       "    </tr>\n",
       "    <tr>\n",
       "      <th>...</th>\n",
       "      <td>...</td>\n",
       "      <td>...</td>\n",
       "      <td>...</td>\n",
       "      <td>...</td>\n",
       "      <td>...</td>\n",
       "    </tr>\n",
       "    <tr>\n",
       "      <th>50410</th>\n",
       "      <td>2018-05-31 23:50:00</td>\n",
       "      <td>4.64</td>\n",
       "      <td>12296626599487328624</td>\n",
       "      <td>2018-05-31</td>\n",
       "      <td>2018-05-01</td>\n",
       "    </tr>\n",
       "    <tr>\n",
       "      <th>50411</th>\n",
       "      <td>2018-05-31 23:50:00</td>\n",
       "      <td>5.80</td>\n",
       "      <td>11369640365507475976</td>\n",
       "      <td>2018-05-31</td>\n",
       "      <td>2018-05-01</td>\n",
       "    </tr>\n",
       "    <tr>\n",
       "      <th>50412</th>\n",
       "      <td>2018-05-31 23:54:00</td>\n",
       "      <td>0.30</td>\n",
       "      <td>1786462140797698849</td>\n",
       "      <td>2018-05-31</td>\n",
       "      <td>2018-05-01</td>\n",
       "    </tr>\n",
       "    <tr>\n",
       "      <th>50413</th>\n",
       "      <td>2018-05-31 23:56:00</td>\n",
       "      <td>3.67</td>\n",
       "      <td>3993697860786194247</td>\n",
       "      <td>2018-05-31</td>\n",
       "      <td>2018-05-01</td>\n",
       "    </tr>\n",
       "    <tr>\n",
       "      <th>50414</th>\n",
       "      <td>2018-06-01 00:02:00</td>\n",
       "      <td>3.42</td>\n",
       "      <td>83872787173869366</td>\n",
       "      <td>2018-06-01</td>\n",
       "      <td>2018-06-01</td>\n",
       "    </tr>\n",
       "  </tbody>\n",
       "</table>\n",
       "<p>50415 rows × 5 columns</p>\n",
       "</div>"
      ],
      "text/plain": [
       "                   buy_ts  revenue                   uid dia_compras  \\\n",
       "0     2017-06-01 00:10:00    17.00  10329302124590727494  2017-06-01   \n",
       "1     2017-06-01 00:25:00     0.55  11627257723692907447  2017-06-01   \n",
       "2     2017-06-01 00:27:00     0.37  17903680561304213844  2017-06-01   \n",
       "3     2017-06-01 00:29:00     0.55  16109239769442553005  2017-06-01   \n",
       "4     2017-06-01 07:58:00     0.37  14200605875248379450  2017-06-01   \n",
       "...                   ...      ...                   ...         ...   \n",
       "50410 2018-05-31 23:50:00     4.64  12296626599487328624  2018-05-31   \n",
       "50411 2018-05-31 23:50:00     5.80  11369640365507475976  2018-05-31   \n",
       "50412 2018-05-31 23:54:00     0.30   1786462140797698849  2018-05-31   \n",
       "50413 2018-05-31 23:56:00     3.67   3993697860786194247  2018-05-31   \n",
       "50414 2018-06-01 00:02:00     3.42     83872787173869366  2018-06-01   \n",
       "\n",
       "      mes_compra  \n",
       "0     2017-06-01  \n",
       "1     2017-06-01  \n",
       "2     2017-06-01  \n",
       "3     2017-06-01  \n",
       "4     2017-06-01  \n",
       "...          ...  \n",
       "50410 2018-05-01  \n",
       "50411 2018-05-01  \n",
       "50412 2018-05-01  \n",
       "50413 2018-05-01  \n",
       "50414 2018-06-01  \n",
       "\n",
       "[50415 rows x 5 columns]"
      ]
     },
     "execution_count": 50,
     "metadata": {},
     "output_type": "execute_result"
    }
   ],
   "source": [
    "orders_raw"
   ]
  },
  {
   "cell_type": "code",
   "execution_count": 51,
   "metadata": {},
   "outputs": [],
   "source": [
    "primeras_compras = orders_raw.groupby('uid')['buy_ts'].min().reset_index()"
   ]
  },
  {
   "cell_type": "code",
   "execution_count": 52,
   "metadata": {},
   "outputs": [],
   "source": [
    "primeras_compras.columns = ['uid','primera_compra_ts']"
   ]
  },
  {
   "cell_type": "code",
   "execution_count": 53,
   "metadata": {},
   "outputs": [],
   "source": [
    "primeras_compras['primera_compra_dia']= primeras_compras['primera_compra_ts'].dt.date"
   ]
  },
  {
   "cell_type": "code",
   "execution_count": 54,
   "metadata": {},
   "outputs": [],
   "source": [
    "primeras_compras['primera_compra_mes']= primeras_compras['primera_compra_dia'].apply(lambda fecha: pd.to_datetime(fecha.strftime('%Y-%m-%01')))\n",
    "#primeras_compras['primera_compra_mes']= primeras_compras['primera_compra_dia'].astype('datetime64[M]')"
   ]
  },
  {
   "cell_type": "code",
   "execution_count": 56,
   "metadata": {},
   "outputs": [
    {
     "data": {
      "text/html": [
       "<div>\n",
       "<style scoped>\n",
       "    .dataframe tbody tr th:only-of-type {\n",
       "        vertical-align: middle;\n",
       "    }\n",
       "\n",
       "    .dataframe tbody tr th {\n",
       "        vertical-align: top;\n",
       "    }\n",
       "\n",
       "    .dataframe thead th {\n",
       "        text-align: right;\n",
       "    }\n",
       "</style>\n",
       "<table border=\"1\" class=\"dataframe\">\n",
       "  <thead>\n",
       "    <tr style=\"text-align: right;\">\n",
       "      <th></th>\n",
       "      <th>uid</th>\n",
       "      <th>primera_compra_ts</th>\n",
       "      <th>primera_compra_dia</th>\n",
       "      <th>primera_compra_mes</th>\n",
       "    </tr>\n",
       "  </thead>\n",
       "  <tbody>\n",
       "    <tr>\n",
       "      <th>0</th>\n",
       "      <td>313578113262317</td>\n",
       "      <td>2018-01-03 21:51:00</td>\n",
       "      <td>2018-01-03</td>\n",
       "      <td>2018-01-01</td>\n",
       "    </tr>\n",
       "    <tr>\n",
       "      <th>1</th>\n",
       "      <td>1575281904278712</td>\n",
       "      <td>2017-06-03 10:13:00</td>\n",
       "      <td>2017-06-03</td>\n",
       "      <td>2017-06-01</td>\n",
       "    </tr>\n",
       "    <tr>\n",
       "      <th>2</th>\n",
       "      <td>2429014661409475</td>\n",
       "      <td>2017-10-11 18:33:00</td>\n",
       "      <td>2017-10-11</td>\n",
       "      <td>2017-10-01</td>\n",
       "    </tr>\n",
       "    <tr>\n",
       "      <th>3</th>\n",
       "      <td>2464366381792757</td>\n",
       "      <td>2018-01-28 15:54:00</td>\n",
       "      <td>2018-01-28</td>\n",
       "      <td>2018-01-01</td>\n",
       "    </tr>\n",
       "    <tr>\n",
       "      <th>4</th>\n",
       "      <td>2551852515556206</td>\n",
       "      <td>2017-11-24 10:14:00</td>\n",
       "      <td>2017-11-24</td>\n",
       "      <td>2017-11-01</td>\n",
       "    </tr>\n",
       "    <tr>\n",
       "      <th>...</th>\n",
       "      <td>...</td>\n",
       "      <td>...</td>\n",
       "      <td>...</td>\n",
       "      <td>...</td>\n",
       "    </tr>\n",
       "    <tr>\n",
       "      <th>36518</th>\n",
       "      <td>18445147675727495770</td>\n",
       "      <td>2017-11-24 09:03:00</td>\n",
       "      <td>2017-11-24</td>\n",
       "      <td>2017-11-01</td>\n",
       "    </tr>\n",
       "    <tr>\n",
       "      <th>36519</th>\n",
       "      <td>18445407535914413204</td>\n",
       "      <td>2017-09-22 23:55:00</td>\n",
       "      <td>2017-09-22</td>\n",
       "      <td>2017-09-01</td>\n",
       "    </tr>\n",
       "    <tr>\n",
       "      <th>36520</th>\n",
       "      <td>18445601152732270159</td>\n",
       "      <td>2018-03-26 22:54:00</td>\n",
       "      <td>2018-03-26</td>\n",
       "      <td>2018-03-01</td>\n",
       "    </tr>\n",
       "    <tr>\n",
       "      <th>36521</th>\n",
       "      <td>18446156210226471712</td>\n",
       "      <td>2018-02-18 19:34:00</td>\n",
       "      <td>2018-02-18</td>\n",
       "      <td>2018-02-01</td>\n",
       "    </tr>\n",
       "    <tr>\n",
       "      <th>36522</th>\n",
       "      <td>18446167067214817906</td>\n",
       "      <td>2017-10-17 10:16:00</td>\n",
       "      <td>2017-10-17</td>\n",
       "      <td>2017-10-01</td>\n",
       "    </tr>\n",
       "  </tbody>\n",
       "</table>\n",
       "<p>36523 rows × 4 columns</p>\n",
       "</div>"
      ],
      "text/plain": [
       "                        uid   primera_compra_ts primera_compra_dia  \\\n",
       "0           313578113262317 2018-01-03 21:51:00         2018-01-03   \n",
       "1          1575281904278712 2017-06-03 10:13:00         2017-06-03   \n",
       "2          2429014661409475 2017-10-11 18:33:00         2017-10-11   \n",
       "3          2464366381792757 2018-01-28 15:54:00         2018-01-28   \n",
       "4          2551852515556206 2017-11-24 10:14:00         2017-11-24   \n",
       "...                     ...                 ...                ...   \n",
       "36518  18445147675727495770 2017-11-24 09:03:00         2017-11-24   \n",
       "36519  18445407535914413204 2017-09-22 23:55:00         2017-09-22   \n",
       "36520  18445601152732270159 2018-03-26 22:54:00         2018-03-26   \n",
       "36521  18446156210226471712 2018-02-18 19:34:00         2018-02-18   \n",
       "36522  18446167067214817906 2017-10-17 10:16:00         2017-10-17   \n",
       "\n",
       "      primera_compra_mes  \n",
       "0             2018-01-01  \n",
       "1             2017-06-01  \n",
       "2             2017-10-01  \n",
       "3             2018-01-01  \n",
       "4             2017-11-01  \n",
       "...                  ...  \n",
       "36518         2017-11-01  \n",
       "36519         2017-09-01  \n",
       "36520         2018-03-01  \n",
       "36521         2018-02-01  \n",
       "36522         2017-10-01  \n",
       "\n",
       "[36523 rows x 4 columns]"
      ]
     },
     "execution_count": 56,
     "metadata": {},
     "output_type": "execute_result"
    }
   ],
   "source": [
    "primeras_compras"
   ]
  },
  {
   "cell_type": "code",
   "execution_count": 57,
   "metadata": {},
   "outputs": [],
   "source": [
    "compradores =pd.merge(primeras_visitas, primeras_compras, how='inner',on= 'uid')"
   ]
  },
  {
   "cell_type": "code",
   "execution_count": 58,
   "metadata": {},
   "outputs": [
    {
     "name": "stdout",
     "output_type": "stream",
     "text": [
      "<class 'pandas.core.frame.DataFrame'>\n",
      "RangeIndex: 36523 entries, 0 to 36522\n",
      "Data columns (total 7 columns):\n",
      " #   Column                    Non-Null Count  Dtype         \n",
      "---  ------                    --------------  -----         \n",
      " 0   uid                       36523 non-null  uint64        \n",
      " 1   inicio_ts_primera_sesion  36523 non-null  datetime64[ns]\n",
      " 2   primera_sesion_dias       36523 non-null  object        \n",
      " 3   primera_sesion_mes        36523 non-null  datetime64[ns]\n",
      " 4   primera_compra_ts         36523 non-null  datetime64[ns]\n",
      " 5   primera_compra_dia        36523 non-null  object        \n",
      " 6   primera_compra_mes        36523 non-null  datetime64[ns]\n",
      "dtypes: datetime64[ns](4), object(2), uint64(1)\n",
      "memory usage: 2.0+ MB\n"
     ]
    }
   ],
   "source": [
    "compradores.info()"
   ]
  },
  {
   "cell_type": "code",
   "execution_count": 59,
   "metadata": {},
   "outputs": [
    {
     "data": {
      "text/html": [
       "<div>\n",
       "<style scoped>\n",
       "    .dataframe tbody tr th:only-of-type {\n",
       "        vertical-align: middle;\n",
       "    }\n",
       "\n",
       "    .dataframe tbody tr th {\n",
       "        vertical-align: top;\n",
       "    }\n",
       "\n",
       "    .dataframe thead th {\n",
       "        text-align: right;\n",
       "    }\n",
       "</style>\n",
       "<table border=\"1\" class=\"dataframe\">\n",
       "  <thead>\n",
       "    <tr style=\"text-align: right;\">\n",
       "      <th></th>\n",
       "      <th>uid</th>\n",
       "      <th>inicio_ts_primera_sesion</th>\n",
       "      <th>primera_sesion_dias</th>\n",
       "      <th>primera_sesion_mes</th>\n",
       "      <th>primera_compra_ts</th>\n",
       "      <th>primera_compra_dia</th>\n",
       "      <th>primera_compra_mes</th>\n",
       "      <th>dias_a_la_primera_compra</th>\n",
       "    </tr>\n",
       "  </thead>\n",
       "  <tbody>\n",
       "    <tr>\n",
       "      <th>0</th>\n",
       "      <td>313578113262317</td>\n",
       "      <td>2017-09-18 22:49:00</td>\n",
       "      <td>2017-09-18</td>\n",
       "      <td>2017-09-01</td>\n",
       "      <td>2018-01-03 21:51:00</td>\n",
       "      <td>2018-01-03</td>\n",
       "      <td>2018-01-01</td>\n",
       "      <td>106</td>\n",
       "    </tr>\n",
       "    <tr>\n",
       "      <th>1</th>\n",
       "      <td>1575281904278712</td>\n",
       "      <td>2017-06-03 10:13:00</td>\n",
       "      <td>2017-06-03</td>\n",
       "      <td>2017-06-01</td>\n",
       "      <td>2017-06-03 10:13:00</td>\n",
       "      <td>2017-06-03</td>\n",
       "      <td>2017-06-01</td>\n",
       "      <td>0</td>\n",
       "    </tr>\n",
       "    <tr>\n",
       "      <th>2</th>\n",
       "      <td>2429014661409475</td>\n",
       "      <td>2017-10-11 17:14:00</td>\n",
       "      <td>2017-10-11</td>\n",
       "      <td>2017-10-01</td>\n",
       "      <td>2017-10-11 18:33:00</td>\n",
       "      <td>2017-10-11</td>\n",
       "      <td>2017-10-01</td>\n",
       "      <td>0</td>\n",
       "    </tr>\n",
       "    <tr>\n",
       "      <th>3</th>\n",
       "      <td>2464366381792757</td>\n",
       "      <td>2018-01-27 20:10:00</td>\n",
       "      <td>2018-01-27</td>\n",
       "      <td>2018-01-01</td>\n",
       "      <td>2018-01-28 15:54:00</td>\n",
       "      <td>2018-01-28</td>\n",
       "      <td>2018-01-01</td>\n",
       "      <td>0</td>\n",
       "    </tr>\n",
       "    <tr>\n",
       "      <th>4</th>\n",
       "      <td>2551852515556206</td>\n",
       "      <td>2017-11-24 10:14:00</td>\n",
       "      <td>2017-11-24</td>\n",
       "      <td>2017-11-01</td>\n",
       "      <td>2017-11-24 10:14:00</td>\n",
       "      <td>2017-11-24</td>\n",
       "      <td>2017-11-01</td>\n",
       "      <td>0</td>\n",
       "    </tr>\n",
       "    <tr>\n",
       "      <th>...</th>\n",
       "      <td>...</td>\n",
       "      <td>...</td>\n",
       "      <td>...</td>\n",
       "      <td>...</td>\n",
       "      <td>...</td>\n",
       "      <td>...</td>\n",
       "      <td>...</td>\n",
       "      <td>...</td>\n",
       "    </tr>\n",
       "    <tr>\n",
       "      <th>36518</th>\n",
       "      <td>18445147675727495770</td>\n",
       "      <td>2017-08-20 13:30:00</td>\n",
       "      <td>2017-08-20</td>\n",
       "      <td>2017-08-01</td>\n",
       "      <td>2017-11-24 09:03:00</td>\n",
       "      <td>2017-11-24</td>\n",
       "      <td>2017-11-01</td>\n",
       "      <td>95</td>\n",
       "    </tr>\n",
       "    <tr>\n",
       "      <th>36519</th>\n",
       "      <td>18445407535914413204</td>\n",
       "      <td>2017-09-22 23:48:00</td>\n",
       "      <td>2017-09-22</td>\n",
       "      <td>2017-09-01</td>\n",
       "      <td>2017-09-22 23:55:00</td>\n",
       "      <td>2017-09-22</td>\n",
       "      <td>2017-09-01</td>\n",
       "      <td>0</td>\n",
       "    </tr>\n",
       "    <tr>\n",
       "      <th>36520</th>\n",
       "      <td>18445601152732270159</td>\n",
       "      <td>2017-08-07 11:51:00</td>\n",
       "      <td>2017-08-07</td>\n",
       "      <td>2017-08-01</td>\n",
       "      <td>2018-03-26 22:54:00</td>\n",
       "      <td>2018-03-26</td>\n",
       "      <td>2018-03-01</td>\n",
       "      <td>231</td>\n",
       "    </tr>\n",
       "    <tr>\n",
       "      <th>36521</th>\n",
       "      <td>18446156210226471712</td>\n",
       "      <td>2017-11-07 10:01:00</td>\n",
       "      <td>2017-11-07</td>\n",
       "      <td>2017-11-01</td>\n",
       "      <td>2018-02-18 19:34:00</td>\n",
       "      <td>2018-02-18</td>\n",
       "      <td>2018-02-01</td>\n",
       "      <td>103</td>\n",
       "    </tr>\n",
       "    <tr>\n",
       "      <th>36522</th>\n",
       "      <td>18446167067214817906</td>\n",
       "      <td>2017-10-17 10:05:00</td>\n",
       "      <td>2017-10-17</td>\n",
       "      <td>2017-10-01</td>\n",
       "      <td>2017-10-17 10:16:00</td>\n",
       "      <td>2017-10-17</td>\n",
       "      <td>2017-10-01</td>\n",
       "      <td>0</td>\n",
       "    </tr>\n",
       "  </tbody>\n",
       "</table>\n",
       "<p>36523 rows × 8 columns</p>\n",
       "</div>"
      ],
      "text/plain": [
       "                        uid inicio_ts_primera_sesion primera_sesion_dias  \\\n",
       "0           313578113262317      2017-09-18 22:49:00          2017-09-18   \n",
       "1          1575281904278712      2017-06-03 10:13:00          2017-06-03   \n",
       "2          2429014661409475      2017-10-11 17:14:00          2017-10-11   \n",
       "3          2464366381792757      2018-01-27 20:10:00          2018-01-27   \n",
       "4          2551852515556206      2017-11-24 10:14:00          2017-11-24   \n",
       "...                     ...                      ...                 ...   \n",
       "36518  18445147675727495770      2017-08-20 13:30:00          2017-08-20   \n",
       "36519  18445407535914413204      2017-09-22 23:48:00          2017-09-22   \n",
       "36520  18445601152732270159      2017-08-07 11:51:00          2017-08-07   \n",
       "36521  18446156210226471712      2017-11-07 10:01:00          2017-11-07   \n",
       "36522  18446167067214817906      2017-10-17 10:05:00          2017-10-17   \n",
       "\n",
       "      primera_sesion_mes   primera_compra_ts primera_compra_dia  \\\n",
       "0             2017-09-01 2018-01-03 21:51:00         2018-01-03   \n",
       "1             2017-06-01 2017-06-03 10:13:00         2017-06-03   \n",
       "2             2017-10-01 2017-10-11 18:33:00         2017-10-11   \n",
       "3             2018-01-01 2018-01-28 15:54:00         2018-01-28   \n",
       "4             2017-11-01 2017-11-24 10:14:00         2017-11-24   \n",
       "...                  ...                 ...                ...   \n",
       "36518         2017-08-01 2017-11-24 09:03:00         2017-11-24   \n",
       "36519         2017-09-01 2017-09-22 23:55:00         2017-09-22   \n",
       "36520         2017-08-01 2018-03-26 22:54:00         2018-03-26   \n",
       "36521         2017-11-01 2018-02-18 19:34:00         2018-02-18   \n",
       "36522         2017-10-01 2017-10-17 10:16:00         2017-10-17   \n",
       "\n",
       "      primera_compra_mes  dias_a_la_primera_compra  \n",
       "0             2018-01-01                       106  \n",
       "1             2017-06-01                         0  \n",
       "2             2017-10-01                         0  \n",
       "3             2018-01-01                         0  \n",
       "4             2017-11-01                         0  \n",
       "...                  ...                       ...  \n",
       "36518         2017-11-01                        95  \n",
       "36519         2017-09-01                         0  \n",
       "36520         2018-03-01                       231  \n",
       "36521         2018-02-01                       103  \n",
       "36522         2017-10-01                         0  \n",
       "\n",
       "[36523 rows x 8 columns]"
      ]
     },
     "execution_count": 59,
     "metadata": {},
     "output_type": "execute_result"
    }
   ],
   "source": [
    "compradores['dias_a_la_primera_compra']= ((compradores['primera_compra_ts']-compradores['inicio_ts_primera_sesion'])/np.timedelta64(1, 'D')).astype('int')\n",
    "compradores"
   ]
  },
  {
   "cell_type": "markdown",
   "metadata": {},
   "source": [
    "##### Dias en ser clientes \n",
    "La gente vuelve a comprar desde el primer dia, muy poca gente tarda mas de 50 dias en volver a comprar desde su primera compra.\n",
    "\n",
    "En esta tabla mostramos que tiempo dura en dias de la primera compra a la ultima fecha de compra hay unos que marcan horas lo cual no se tomo en cuenta, se tomo los datos en dias "
   ]
  },
  {
   "cell_type": "code",
   "execution_count": 60,
   "metadata": {},
   "outputs": [
    {
     "data": {
      "image/png": "[encoded data removed]",
      "text/plain": [
       "<Figure size 1200x700 with 1 Axes>"
      ]
     },
     "metadata": {},
     "output_type": "display_data"
    }
   ],
   "source": [
    "compradores['dias_a_la_primera_compra'].plot(kind='hist', bins=70, figsize=(12,7)).set(title='Dias desde la primera visita a la compra', xlabel='dias', ylabel='Frecuencia')\n",
    "plt.show()"
   ]
  },
  {
   "cell_type": "markdown",
   "metadata": {},
   "source": [
    "<div class=\"alert alert-block alert-success\">\n",
    "<b>Comentario de Revisor v3</b> <a class=\"tocSkip\"></a>\n",
    "\n",
    "Correcto! Muy bien, el punto clave es hacer directamente el merge de primeras visitas a primeras ordenes.\n",
    "\n",
    "</div>"
   ]
  },
  {
   "cell_type": "markdown",
   "metadata": {},
   "source": [
    "#### ¿Cuántos pedidos hacen durante un período de tiempo dado?"
   ]
  },
  {
   "cell_type": "code",
   "execution_count": 61,
   "metadata": {},
   "outputs": [],
   "source": [
    "tamano_cohortes = compradores.groupby('primera_compra_mes')['uid'].nunique().reset_index()\n",
    "tamano_cohortes.columns = ['primera_compra_mes', 'total_compradores']"
   ]
  },
  {
   "cell_type": "code",
   "execution_count": 62,
   "metadata": {},
   "outputs": [],
   "source": [
    "cohortes =pd.merge(orders_raw, compradores, how='inner', on= 'uid'\n",
    "                    ).groupby(['primera_compra_mes', 'mes_compra']\n",
    "                    ).agg({'revenue': 'sum'}\n",
    "                    ).reset_index()"
   ]
  },
  {
   "cell_type": "code",
   "execution_count": 63,
   "metadata": {},
   "outputs": [
    {
     "data": {
      "text/html": [
       "<div>\n",
       "<style scoped>\n",
       "    .dataframe tbody tr th:only-of-type {\n",
       "        vertical-align: middle;\n",
       "    }\n",
       "\n",
       "    .dataframe tbody tr th {\n",
       "        vertical-align: top;\n",
       "    }\n",
       "\n",
       "    .dataframe thead th {\n",
       "        text-align: right;\n",
       "    }\n",
       "</style>\n",
       "<table border=\"1\" class=\"dataframe\">\n",
       "  <thead>\n",
       "    <tr style=\"text-align: right;\">\n",
       "      <th></th>\n",
       "      <th>primera_compra_mes</th>\n",
       "      <th>mes_compra</th>\n",
       "      <th>revenue</th>\n",
       "    </tr>\n",
       "  </thead>\n",
       "  <tbody>\n",
       "    <tr>\n",
       "      <th>0</th>\n",
       "      <td>2017-06-01</td>\n",
       "      <td>2017-06-01</td>\n",
       "      <td>9557.49</td>\n",
       "    </tr>\n",
       "    <tr>\n",
       "      <th>1</th>\n",
       "      <td>2017-06-01</td>\n",
       "      <td>2017-07-01</td>\n",
       "      <td>981.82</td>\n",
       "    </tr>\n",
       "    <tr>\n",
       "      <th>2</th>\n",
       "      <td>2017-06-01</td>\n",
       "      <td>2017-08-01</td>\n",
       "      <td>885.34</td>\n",
       "    </tr>\n",
       "    <tr>\n",
       "      <th>3</th>\n",
       "      <td>2017-06-01</td>\n",
       "      <td>2017-09-01</td>\n",
       "      <td>1931.30</td>\n",
       "    </tr>\n",
       "    <tr>\n",
       "      <th>4</th>\n",
       "      <td>2017-06-01</td>\n",
       "      <td>2017-10-01</td>\n",
       "      <td>2068.58</td>\n",
       "    </tr>\n",
       "    <tr>\n",
       "      <th>...</th>\n",
       "      <td>...</td>\n",
       "      <td>...</td>\n",
       "      <td>...</td>\n",
       "    </tr>\n",
       "    <tr>\n",
       "      <th>74</th>\n",
       "      <td>2018-03-01</td>\n",
       "      <td>2018-05-01</td>\n",
       "      <td>1114.87</td>\n",
       "    </tr>\n",
       "    <tr>\n",
       "      <th>75</th>\n",
       "      <td>2018-04-01</td>\n",
       "      <td>2018-04-01</td>\n",
       "      <td>10600.69</td>\n",
       "    </tr>\n",
       "    <tr>\n",
       "      <th>76</th>\n",
       "      <td>2018-04-01</td>\n",
       "      <td>2018-05-01</td>\n",
       "      <td>1209.92</td>\n",
       "    </tr>\n",
       "    <tr>\n",
       "      <th>77</th>\n",
       "      <td>2018-05-01</td>\n",
       "      <td>2018-05-01</td>\n",
       "      <td>13925.76</td>\n",
       "    </tr>\n",
       "    <tr>\n",
       "      <th>78</th>\n",
       "      <td>2018-06-01</td>\n",
       "      <td>2018-06-01</td>\n",
       "      <td>3.42</td>\n",
       "    </tr>\n",
       "  </tbody>\n",
       "</table>\n",
       "<p>79 rows × 3 columns</p>\n",
       "</div>"
      ],
      "text/plain": [
       "   primera_compra_mes mes_compra   revenue\n",
       "0          2017-06-01 2017-06-01   9557.49\n",
       "1          2017-06-01 2017-07-01    981.82\n",
       "2          2017-06-01 2017-08-01    885.34\n",
       "3          2017-06-01 2017-09-01   1931.30\n",
       "4          2017-06-01 2017-10-01   2068.58\n",
       "..                ...        ...       ...\n",
       "74         2018-03-01 2018-05-01   1114.87\n",
       "75         2018-04-01 2018-04-01  10600.69\n",
       "76         2018-04-01 2018-05-01   1209.92\n",
       "77         2018-05-01 2018-05-01  13925.76\n",
       "78         2018-06-01 2018-06-01      3.42\n",
       "\n",
       "[79 rows x 3 columns]"
      ]
     },
     "execution_count": 63,
     "metadata": {},
     "output_type": "execute_result"
    }
   ],
   "source": [
    "cohortes"
   ]
  },
  {
   "cell_type": "markdown",
   "metadata": {},
   "source": [
    "##### Pedidos de Cada Periodo\n",
    "\n",
    "En la tabla anterior se muestra la los pedidos o ganancia que hay al mes desde la primer compra hasta que termina el mes."
   ]
  },
  {
   "cell_type": "markdown",
   "metadata": {},
   "source": [
    "<div class=\"alert alert-block alert-danger\">\n",
    "<b>Comentario de Revisor v3</b> <a class=\"tocSkip\"></a>\n",
    "\n",
    "Para esta pregunta debes calcular la cantidad de pedidos, no la ganancia. Puedes obtener el total de pedidos por mes para tener una representación de lo que ocurre en la data.\n",
    "\n",
    "</div>"
   ]
  },
  {
   "cell_type": "markdown",
   "metadata": {},
   "source": [
    "<div class=\"alert alert-block alert-info\">\n",
    "\n",
    "<b>Listo ya hice el analis de Total de pedidos por mes </b> <a class=\"tocSkip\"></a>\n",
    "</div>"
   ]
  },
  {
   "cell_type": "code",
   "execution_count": 64,
   "metadata": {},
   "outputs": [
    {
     "data": {
      "text/html": [
       "<div>\n",
       "<style scoped>\n",
       "    .dataframe tbody tr th:only-of-type {\n",
       "        vertical-align: middle;\n",
       "    }\n",
       "\n",
       "    .dataframe tbody tr th {\n",
       "        vertical-align: top;\n",
       "    }\n",
       "\n",
       "    .dataframe thead th {\n",
       "        text-align: right;\n",
       "    }\n",
       "</style>\n",
       "<table border=\"1\" class=\"dataframe\">\n",
       "  <thead>\n",
       "    <tr style=\"text-align: right;\">\n",
       "      <th></th>\n",
       "      <th>buy_ts</th>\n",
       "      <th>total orders</th>\n",
       "    </tr>\n",
       "  </thead>\n",
       "  <tbody>\n",
       "    <tr>\n",
       "      <th>0</th>\n",
       "      <td>2017-06</td>\n",
       "      <td>2354</td>\n",
       "    </tr>\n",
       "    <tr>\n",
       "      <th>1</th>\n",
       "      <td>2017-07</td>\n",
       "      <td>2363</td>\n",
       "    </tr>\n",
       "    <tr>\n",
       "      <th>2</th>\n",
       "      <td>2017-08</td>\n",
       "      <td>1807</td>\n",
       "    </tr>\n",
       "    <tr>\n",
       "      <th>3</th>\n",
       "      <td>2017-09</td>\n",
       "      <td>3387</td>\n",
       "    </tr>\n",
       "    <tr>\n",
       "      <th>4</th>\n",
       "      <td>2017-10</td>\n",
       "      <td>5679</td>\n",
       "    </tr>\n",
       "    <tr>\n",
       "      <th>5</th>\n",
       "      <td>2017-11</td>\n",
       "      <td>5659</td>\n",
       "    </tr>\n",
       "    <tr>\n",
       "      <th>6</th>\n",
       "      <td>2017-12</td>\n",
       "      <td>6218</td>\n",
       "    </tr>\n",
       "    <tr>\n",
       "      <th>7</th>\n",
       "      <td>2018-01</td>\n",
       "      <td>4721</td>\n",
       "    </tr>\n",
       "    <tr>\n",
       "      <th>8</th>\n",
       "      <td>2018-02</td>\n",
       "      <td>5281</td>\n",
       "    </tr>\n",
       "    <tr>\n",
       "      <th>9</th>\n",
       "      <td>2018-03</td>\n",
       "      <td>5326</td>\n",
       "    </tr>\n",
       "    <tr>\n",
       "      <th>10</th>\n",
       "      <td>2018-04</td>\n",
       "      <td>3273</td>\n",
       "    </tr>\n",
       "    <tr>\n",
       "      <th>11</th>\n",
       "      <td>2018-05</td>\n",
       "      <td>4346</td>\n",
       "    </tr>\n",
       "    <tr>\n",
       "      <th>12</th>\n",
       "      <td>2018-06</td>\n",
       "      <td>1</td>\n",
       "    </tr>\n",
       "  </tbody>\n",
       "</table>\n",
       "</div>"
      ],
      "text/plain": [
       "     buy_ts  total orders\n",
       "0   2017-06          2354\n",
       "1   2017-07          2363\n",
       "2   2017-08          1807\n",
       "3   2017-09          3387\n",
       "4   2017-10          5679\n",
       "5   2017-11          5659\n",
       "6   2017-12          6218\n",
       "7   2018-01          4721\n",
       "8   2018-02          5281\n",
       "9   2018-03          5326\n",
       "10  2018-04          3273\n",
       "11  2018-05          4346\n",
       "12  2018-06             1"
      ]
     },
     "execution_count": 64,
     "metadata": {},
     "output_type": "execute_result"
    }
   ],
   "source": [
    "# Asegurar que buy ts es de tipo datetime\n",
    "orders_raw['buy_ts'] = pd.to_datetime(orders_raw['buy_ts'])\n",
    "\n",
    "# Agrupar por mes y contar la cantidad de pedidos\n",
    "orders_by_month = orders_raw.groupby(orders_raw['buy_ts'].dt.to_period('M')).size().reset_index(name='total orders')\n",
    "\n",
    "orders_by_month\n"
   ]
  },
  {
   "cell_type": "markdown",
   "metadata": {},
   "source": [
    "En la tabla anterior visualizamos cuantas fueron el total de ordenes (pedidos) al mes "
   ]
  },
  {
   "cell_type": "markdown",
   "metadata": {},
   "source": [
    "<div class=\"alert alert-block alert-success\">\n",
    "<b>Comentario de Revisor v4</b> <a class=\"tocSkip\"></a>\n",
    "\n",
    "Correcto!\n",
    "\n",
    "</div>"
   ]
  },
  {
   "cell_type": "markdown",
   "metadata": {},
   "source": [
    "#### ¿Cuál es el tamaño promedio de compra?"
   ]
  },
  {
   "cell_type": "code",
   "execution_count": 65,
   "metadata": {},
   "outputs": [],
   "source": [
    "cohortes['edad_mes']= ((cohortes['mes_compra']-cohortes['primera_compra_mes'])/ (30* np.timedelta64(1, 'D'))).round().astype('int')\n",
    "\n",
    "cohortes.columns = ['primera_compra_mes','mes_compra', 'revenue', 'edad_mes']"
   ]
  },
  {
   "cell_type": "code",
   "execution_count": 66,
   "metadata": {},
   "outputs": [],
   "source": [
    "cohortes_reporte = pd.merge(tamano_cohortes, cohortes, how='inner', on='primera_compra_mes')"
   ]
  },
  {
   "cell_type": "code",
   "execution_count": 67,
   "metadata": {},
   "outputs": [
    {
     "data": {
      "text/html": [
       "<div>\n",
       "<style scoped>\n",
       "    .dataframe tbody tr th:only-of-type {\n",
       "        vertical-align: middle;\n",
       "    }\n",
       "\n",
       "    .dataframe tbody tr th {\n",
       "        vertical-align: top;\n",
       "    }\n",
       "\n",
       "    .dataframe thead th {\n",
       "        text-align: right;\n",
       "    }\n",
       "</style>\n",
       "<table border=\"1\" class=\"dataframe\">\n",
       "  <thead>\n",
       "    <tr style=\"text-align: right;\">\n",
       "      <th></th>\n",
       "      <th>primera_compra_mes</th>\n",
       "      <th>total_compradores</th>\n",
       "      <th>mes_compra</th>\n",
       "      <th>revenue</th>\n",
       "      <th>edad_mes</th>\n",
       "      <th>revenue_por_comprador</th>\n",
       "    </tr>\n",
       "  </thead>\n",
       "  <tbody>\n",
       "    <tr>\n",
       "      <th>0</th>\n",
       "      <td>2017-06-01</td>\n",
       "      <td>2023</td>\n",
       "      <td>2017-06-01</td>\n",
       "      <td>9557.49</td>\n",
       "      <td>0</td>\n",
       "      <td>4.724414</td>\n",
       "    </tr>\n",
       "    <tr>\n",
       "      <th>1</th>\n",
       "      <td>2017-06-01</td>\n",
       "      <td>2023</td>\n",
       "      <td>2017-07-01</td>\n",
       "      <td>981.82</td>\n",
       "      <td>1</td>\n",
       "      <td>0.485329</td>\n",
       "    </tr>\n",
       "    <tr>\n",
       "      <th>2</th>\n",
       "      <td>2017-06-01</td>\n",
       "      <td>2023</td>\n",
       "      <td>2017-08-01</td>\n",
       "      <td>885.34</td>\n",
       "      <td>2</td>\n",
       "      <td>0.437637</td>\n",
       "    </tr>\n",
       "    <tr>\n",
       "      <th>3</th>\n",
       "      <td>2017-06-01</td>\n",
       "      <td>2023</td>\n",
       "      <td>2017-09-01</td>\n",
       "      <td>1931.30</td>\n",
       "      <td>3</td>\n",
       "      <td>0.954671</td>\n",
       "    </tr>\n",
       "    <tr>\n",
       "      <th>4</th>\n",
       "      <td>2017-06-01</td>\n",
       "      <td>2023</td>\n",
       "      <td>2017-10-01</td>\n",
       "      <td>2068.58</td>\n",
       "      <td>4</td>\n",
       "      <td>1.022531</td>\n",
       "    </tr>\n",
       "    <tr>\n",
       "      <th>...</th>\n",
       "      <td>...</td>\n",
       "      <td>...</td>\n",
       "      <td>...</td>\n",
       "      <td>...</td>\n",
       "      <td>...</td>\n",
       "      <td>...</td>\n",
       "    </tr>\n",
       "    <tr>\n",
       "      <th>74</th>\n",
       "      <td>2018-03-01</td>\n",
       "      <td>3533</td>\n",
       "      <td>2018-05-01</td>\n",
       "      <td>1114.87</td>\n",
       "      <td>2</td>\n",
       "      <td>0.315559</td>\n",
       "    </tr>\n",
       "    <tr>\n",
       "      <th>75</th>\n",
       "      <td>2018-04-01</td>\n",
       "      <td>2276</td>\n",
       "      <td>2018-04-01</td>\n",
       "      <td>10600.69</td>\n",
       "      <td>0</td>\n",
       "      <td>4.657597</td>\n",
       "    </tr>\n",
       "    <tr>\n",
       "      <th>76</th>\n",
       "      <td>2018-04-01</td>\n",
       "      <td>2276</td>\n",
       "      <td>2018-05-01</td>\n",
       "      <td>1209.92</td>\n",
       "      <td>1</td>\n",
       "      <td>0.531599</td>\n",
       "    </tr>\n",
       "    <tr>\n",
       "      <th>77</th>\n",
       "      <td>2018-05-01</td>\n",
       "      <td>2988</td>\n",
       "      <td>2018-05-01</td>\n",
       "      <td>13925.76</td>\n",
       "      <td>0</td>\n",
       "      <td>4.660562</td>\n",
       "    </tr>\n",
       "    <tr>\n",
       "      <th>78</th>\n",
       "      <td>2018-06-01</td>\n",
       "      <td>1</td>\n",
       "      <td>2018-06-01</td>\n",
       "      <td>3.42</td>\n",
       "      <td>0</td>\n",
       "      <td>3.420000</td>\n",
       "    </tr>\n",
       "  </tbody>\n",
       "</table>\n",
       "<p>79 rows × 6 columns</p>\n",
       "</div>"
      ],
      "text/plain": [
       "   primera_compra_mes  total_compradores mes_compra   revenue  edad_mes  \\\n",
       "0          2017-06-01               2023 2017-06-01   9557.49         0   \n",
       "1          2017-06-01               2023 2017-07-01    981.82         1   \n",
       "2          2017-06-01               2023 2017-08-01    885.34         2   \n",
       "3          2017-06-01               2023 2017-09-01   1931.30         3   \n",
       "4          2017-06-01               2023 2017-10-01   2068.58         4   \n",
       "..                ...                ...        ...       ...       ...   \n",
       "74         2018-03-01               3533 2018-05-01   1114.87         2   \n",
       "75         2018-04-01               2276 2018-04-01  10600.69         0   \n",
       "76         2018-04-01               2276 2018-05-01   1209.92         1   \n",
       "77         2018-05-01               2988 2018-05-01  13925.76         0   \n",
       "78         2018-06-01                  1 2018-06-01      3.42         0   \n",
       "\n",
       "    revenue_por_comprador  \n",
       "0                4.724414  \n",
       "1                0.485329  \n",
       "2                0.437637  \n",
       "3                0.954671  \n",
       "4                1.022531  \n",
       "..                    ...  \n",
       "74               0.315559  \n",
       "75               4.657597  \n",
       "76               0.531599  \n",
       "77               4.660562  \n",
       "78               3.420000  \n",
       "\n",
       "[79 rows x 6 columns]"
      ]
     },
     "execution_count": 67,
     "metadata": {},
     "output_type": "execute_result"
    }
   ],
   "source": [
    "cohortes_reporte['revenue_por_comprador']= cohortes_reporte['revenue']/cohortes_reporte['total_compradores']\n",
    "cohortes_reporte"
   ]
  },
  {
   "cell_type": "markdown",
   "metadata": {},
   "source": [
    "##### El promedio por comprador \n",
    "En la tabla anterior se muestra el promedio de cada comprador en la columna \"revenue_por_comprador\"\n"
   ]
  },
  {
   "cell_type": "markdown",
   "metadata": {},
   "source": [
    "<div class=\"alert alert-block alert-success\">\n",
    "<b>Comentario de Revisor v3</b> <a class=\"tocSkip\"></a>\n",
    "\n",
    "Buen trabajo con la generación de la data, pero me parece que se podría mostrar de mejor forma, como por ejemplo con una tabla pivote que muestre para cada cohorte el promedio de revenue a medida que avanza la edad de cada cohorte\n",
    "\n",
    "</div>"
   ]
  },
  {
   "cell_type": "markdown",
   "metadata": {},
   "source": [
    "#### ¿Cuánto dinero traen? (LTV)"
   ]
  },
  {
   "cell_type": "code",
   "execution_count": 68,
   "metadata": {},
   "outputs": [
    {
     "data": {
      "text/html": [
       "<div>\n",
       "<style scoped>\n",
       "    .dataframe tbody tr th:only-of-type {\n",
       "        vertical-align: middle;\n",
       "    }\n",
       "\n",
       "    .dataframe tbody tr th {\n",
       "        vertical-align: top;\n",
       "    }\n",
       "\n",
       "    .dataframe thead th {\n",
       "        text-align: right;\n",
       "    }\n",
       "</style>\n",
       "<table border=\"1\" class=\"dataframe\">\n",
       "  <thead>\n",
       "    <tr style=\"text-align: right;\">\n",
       "      <th>edad_mes</th>\n",
       "      <th>0</th>\n",
       "      <th>1</th>\n",
       "      <th>2</th>\n",
       "      <th>3</th>\n",
       "      <th>4</th>\n",
       "      <th>5</th>\n",
       "      <th>6</th>\n",
       "      <th>7</th>\n",
       "      <th>8</th>\n",
       "      <th>9</th>\n",
       "      <th>10</th>\n",
       "      <th>11</th>\n",
       "    </tr>\n",
       "    <tr>\n",
       "      <th>primera_compra_mes</th>\n",
       "      <th></th>\n",
       "      <th></th>\n",
       "      <th></th>\n",
       "      <th></th>\n",
       "      <th></th>\n",
       "      <th></th>\n",
       "      <th></th>\n",
       "      <th></th>\n",
       "      <th></th>\n",
       "      <th></th>\n",
       "      <th></th>\n",
       "      <th></th>\n",
       "    </tr>\n",
       "  </thead>\n",
       "  <tbody>\n",
       "    <tr>\n",
       "      <th>2017-06-01</th>\n",
       "      <td>4.724414</td>\n",
       "      <td>0.485329</td>\n",
       "      <td>0.437637</td>\n",
       "      <td>0.954671</td>\n",
       "      <td>1.022531</td>\n",
       "      <td>0.735502</td>\n",
       "      <td>0.950440</td>\n",
       "      <td>0.581592</td>\n",
       "      <td>0.553213</td>\n",
       "      <td>0.605788</td>\n",
       "      <td>0.571261</td>\n",
       "      <td>0.256856</td>\n",
       "    </tr>\n",
       "    <tr>\n",
       "      <th>2017-07-01</th>\n",
       "      <td>6.010218</td>\n",
       "      <td>0.335211</td>\n",
       "      <td>0.623531</td>\n",
       "      <td>0.358976</td>\n",
       "      <td>0.176791</td>\n",
       "      <td>0.156048</td>\n",
       "      <td>0.120208</td>\n",
       "      <td>0.141820</td>\n",
       "      <td>0.161232</td>\n",
       "      <td>0.147145</td>\n",
       "      <td>0.155673</td>\n",
       "      <td>NaN</td>\n",
       "    </tr>\n",
       "    <tr>\n",
       "      <th>2017-08-01</th>\n",
       "      <td>5.276518</td>\n",
       "      <td>0.471993</td>\n",
       "      <td>0.458482</td>\n",
       "      <td>0.391277</td>\n",
       "      <td>0.494051</td>\n",
       "      <td>0.283540</td>\n",
       "      <td>0.210664</td>\n",
       "      <td>0.405007</td>\n",
       "      <td>0.292212</td>\n",
       "      <td>0.187978</td>\n",
       "      <td>NaN</td>\n",
       "      <td>NaN</td>\n",
       "    </tr>\n",
       "    <tr>\n",
       "      <th>2017-09-01</th>\n",
       "      <td>5.644529</td>\n",
       "      <td>1.117586</td>\n",
       "      <td>0.520930</td>\n",
       "      <td>3.975792</td>\n",
       "      <td>0.400558</td>\n",
       "      <td>0.647067</td>\n",
       "      <td>0.701608</td>\n",
       "      <td>0.243150</td>\n",
       "      <td>0.184006</td>\n",
       "      <td>NaN</td>\n",
       "      <td>NaN</td>\n",
       "      <td>NaN</td>\n",
       "    </tr>\n",
       "    <tr>\n",
       "      <th>2017-10-01</th>\n",
       "      <td>5.003733</td>\n",
       "      <td>0.535763</td>\n",
       "      <td>0.191394</td>\n",
       "      <td>0.157145</td>\n",
       "      <td>0.151560</td>\n",
       "      <td>0.120362</td>\n",
       "      <td>0.084816</td>\n",
       "      <td>0.115470</td>\n",
       "      <td>NaN</td>\n",
       "      <td>NaN</td>\n",
       "      <td>NaN</td>\n",
       "      <td>NaN</td>\n",
       "    </tr>\n",
       "    <tr>\n",
       "      <th>2017-11-01</th>\n",
       "      <td>5.154683</td>\n",
       "      <td>0.399233</td>\n",
       "      <td>0.199556</td>\n",
       "      <td>0.324952</td>\n",
       "      <td>0.148013</td>\n",
       "      <td>0.053879</td>\n",
       "      <td>0.114928</td>\n",
       "      <td>NaN</td>\n",
       "      <td>NaN</td>\n",
       "      <td>NaN</td>\n",
       "      <td>NaN</td>\n",
       "      <td>NaN</td>\n",
       "    </tr>\n",
       "    <tr>\n",
       "      <th>2017-12-01</th>\n",
       "      <td>4.738191</td>\n",
       "      <td>0.260374</td>\n",
       "      <td>0.925097</td>\n",
       "      <td>1.065275</td>\n",
       "      <td>0.312930</td>\n",
       "      <td>0.338047</td>\n",
       "      <td>NaN</td>\n",
       "      <td>NaN</td>\n",
       "      <td>NaN</td>\n",
       "      <td>NaN</td>\n",
       "      <td>NaN</td>\n",
       "      <td>NaN</td>\n",
       "    </tr>\n",
       "    <tr>\n",
       "      <th>2018-01-01</th>\n",
       "      <td>4.135636</td>\n",
       "      <td>0.294758</td>\n",
       "      <td>0.304281</td>\n",
       "      <td>0.142778</td>\n",
       "      <td>0.062698</td>\n",
       "      <td>NaN</td>\n",
       "      <td>NaN</td>\n",
       "      <td>NaN</td>\n",
       "      <td>NaN</td>\n",
       "      <td>NaN</td>\n",
       "      <td>NaN</td>\n",
       "      <td>NaN</td>\n",
       "    </tr>\n",
       "    <tr>\n",
       "      <th>2018-02-01</th>\n",
       "      <td>4.156987</td>\n",
       "      <td>0.278274</td>\n",
       "      <td>0.078515</td>\n",
       "      <td>0.074144</td>\n",
       "      <td>NaN</td>\n",
       "      <td>NaN</td>\n",
       "      <td>NaN</td>\n",
       "      <td>NaN</td>\n",
       "      <td>NaN</td>\n",
       "      <td>NaN</td>\n",
       "      <td>NaN</td>\n",
       "      <td>NaN</td>\n",
       "    </tr>\n",
       "    <tr>\n",
       "      <th>2018-03-01</th>\n",
       "      <td>4.838803</td>\n",
       "      <td>0.300892</td>\n",
       "      <td>0.315559</td>\n",
       "      <td>NaN</td>\n",
       "      <td>NaN</td>\n",
       "      <td>NaN</td>\n",
       "      <td>NaN</td>\n",
       "      <td>NaN</td>\n",
       "      <td>NaN</td>\n",
       "      <td>NaN</td>\n",
       "      <td>NaN</td>\n",
       "      <td>NaN</td>\n",
       "    </tr>\n",
       "    <tr>\n",
       "      <th>2018-04-01</th>\n",
       "      <td>4.657597</td>\n",
       "      <td>0.531599</td>\n",
       "      <td>NaN</td>\n",
       "      <td>NaN</td>\n",
       "      <td>NaN</td>\n",
       "      <td>NaN</td>\n",
       "      <td>NaN</td>\n",
       "      <td>NaN</td>\n",
       "      <td>NaN</td>\n",
       "      <td>NaN</td>\n",
       "      <td>NaN</td>\n",
       "      <td>NaN</td>\n",
       "    </tr>\n",
       "    <tr>\n",
       "      <th>2018-05-01</th>\n",
       "      <td>4.660562</td>\n",
       "      <td>NaN</td>\n",
       "      <td>NaN</td>\n",
       "      <td>NaN</td>\n",
       "      <td>NaN</td>\n",
       "      <td>NaN</td>\n",
       "      <td>NaN</td>\n",
       "      <td>NaN</td>\n",
       "      <td>NaN</td>\n",
       "      <td>NaN</td>\n",
       "      <td>NaN</td>\n",
       "      <td>NaN</td>\n",
       "    </tr>\n",
       "    <tr>\n",
       "      <th>2018-06-01</th>\n",
       "      <td>3.420000</td>\n",
       "      <td>NaN</td>\n",
       "      <td>NaN</td>\n",
       "      <td>NaN</td>\n",
       "      <td>NaN</td>\n",
       "      <td>NaN</td>\n",
       "      <td>NaN</td>\n",
       "      <td>NaN</td>\n",
       "      <td>NaN</td>\n",
       "      <td>NaN</td>\n",
       "      <td>NaN</td>\n",
       "      <td>NaN</td>\n",
       "    </tr>\n",
       "  </tbody>\n",
       "</table>\n",
       "</div>"
      ],
      "text/plain": [
       "edad_mes                  0         1         2         3         4   \\\n",
       "primera_compra_mes                                                     \n",
       "2017-06-01          4.724414  0.485329  0.437637  0.954671  1.022531   \n",
       "2017-07-01          6.010218  0.335211  0.623531  0.358976  0.176791   \n",
       "2017-08-01          5.276518  0.471993  0.458482  0.391277  0.494051   \n",
       "2017-09-01          5.644529  1.117586  0.520930  3.975792  0.400558   \n",
       "2017-10-01          5.003733  0.535763  0.191394  0.157145  0.151560   \n",
       "2017-11-01          5.154683  0.399233  0.199556  0.324952  0.148013   \n",
       "2017-12-01          4.738191  0.260374  0.925097  1.065275  0.312930   \n",
       "2018-01-01          4.135636  0.294758  0.304281  0.142778  0.062698   \n",
       "2018-02-01          4.156987  0.278274  0.078515  0.074144       NaN   \n",
       "2018-03-01          4.838803  0.300892  0.315559       NaN       NaN   \n",
       "2018-04-01          4.657597  0.531599       NaN       NaN       NaN   \n",
       "2018-05-01          4.660562       NaN       NaN       NaN       NaN   \n",
       "2018-06-01          3.420000       NaN       NaN       NaN       NaN   \n",
       "\n",
       "edad_mes                  5         6         7         8         9   \\\n",
       "primera_compra_mes                                                     \n",
       "2017-06-01          0.735502  0.950440  0.581592  0.553213  0.605788   \n",
       "2017-07-01          0.156048  0.120208  0.141820  0.161232  0.147145   \n",
       "2017-08-01          0.283540  0.210664  0.405007  0.292212  0.187978   \n",
       "2017-09-01          0.647067  0.701608  0.243150  0.184006       NaN   \n",
       "2017-10-01          0.120362  0.084816  0.115470       NaN       NaN   \n",
       "2017-11-01          0.053879  0.114928       NaN       NaN       NaN   \n",
       "2017-12-01          0.338047       NaN       NaN       NaN       NaN   \n",
       "2018-01-01               NaN       NaN       NaN       NaN       NaN   \n",
       "2018-02-01               NaN       NaN       NaN       NaN       NaN   \n",
       "2018-03-01               NaN       NaN       NaN       NaN       NaN   \n",
       "2018-04-01               NaN       NaN       NaN       NaN       NaN   \n",
       "2018-05-01               NaN       NaN       NaN       NaN       NaN   \n",
       "2018-06-01               NaN       NaN       NaN       NaN       NaN   \n",
       "\n",
       "edad_mes                  10        11  \n",
       "primera_compra_mes                      \n",
       "2017-06-01          0.571261  0.256856  \n",
       "2017-07-01          0.155673       NaN  \n",
       "2017-08-01               NaN       NaN  \n",
       "2017-09-01               NaN       NaN  \n",
       "2017-10-01               NaN       NaN  \n",
       "2017-11-01               NaN       NaN  \n",
       "2017-12-01               NaN       NaN  \n",
       "2018-01-01               NaN       NaN  \n",
       "2018-02-01               NaN       NaN  \n",
       "2018-03-01               NaN       NaN  \n",
       "2018-04-01               NaN       NaN  \n",
       "2018-05-01               NaN       NaN  \n",
       "2018-06-01               NaN       NaN  "
      ]
     },
     "execution_count": 68,
     "metadata": {},
     "output_type": "execute_result"
    }
   ],
   "source": [
    "cohortes_ltv_raw = cohortes_reporte.pivot_table(\n",
    "    index='primera_compra_mes',\n",
    "    columns='edad_mes',\n",
    "    values= 'revenue_por_comprador',\n",
    "    aggfunc='sum',)\n",
    "\n",
    "cohortes_ltv_raw"
   ]
  },
  {
   "cell_type": "markdown",
   "metadata": {},
   "source": [
    "por ordenes acumulativas se ocupo .cumsum()"
   ]
  },
  {
   "cell_type": "code",
   "execution_count": 69,
   "metadata": {},
   "outputs": [],
   "source": [
    "cohortes_ltv = cohortes_reporte.pivot_table(\n",
    "    index='primera_compra_mes',\n",
    "    columns='edad_mes',\n",
    "    values= 'revenue_por_comprador',\n",
    "    aggfunc='sum',).cumsum(axis=1)"
   ]
  },
  {
   "cell_type": "code",
   "execution_count": 70,
   "metadata": {},
   "outputs": [
    {
     "data": {
      "text/html": [
       "<div>\n",
       "<style scoped>\n",
       "    .dataframe tbody tr th:only-of-type {\n",
       "        vertical-align: middle;\n",
       "    }\n",
       "\n",
       "    .dataframe tbody tr th {\n",
       "        vertical-align: top;\n",
       "    }\n",
       "\n",
       "    .dataframe thead th {\n",
       "        text-align: right;\n",
       "    }\n",
       "</style>\n",
       "<table border=\"1\" class=\"dataframe\">\n",
       "  <thead>\n",
       "    <tr style=\"text-align: right;\">\n",
       "      <th>edad_mes</th>\n",
       "      <th>0</th>\n",
       "      <th>1</th>\n",
       "      <th>2</th>\n",
       "      <th>3</th>\n",
       "      <th>4</th>\n",
       "      <th>5</th>\n",
       "      <th>6</th>\n",
       "      <th>7</th>\n",
       "      <th>8</th>\n",
       "      <th>9</th>\n",
       "      <th>10</th>\n",
       "      <th>11</th>\n",
       "    </tr>\n",
       "    <tr>\n",
       "      <th>primera_compra_mes</th>\n",
       "      <th></th>\n",
       "      <th></th>\n",
       "      <th></th>\n",
       "      <th></th>\n",
       "      <th></th>\n",
       "      <th></th>\n",
       "      <th></th>\n",
       "      <th></th>\n",
       "      <th></th>\n",
       "      <th></th>\n",
       "      <th></th>\n",
       "      <th></th>\n",
       "    </tr>\n",
       "  </thead>\n",
       "  <tbody>\n",
       "    <tr>\n",
       "      <th>2017-06-01</th>\n",
       "      <td>4.724414</td>\n",
       "      <td>5.209743</td>\n",
       "      <td>5.647380</td>\n",
       "      <td>6.602051</td>\n",
       "      <td>7.624582</td>\n",
       "      <td>8.360084</td>\n",
       "      <td>9.310524</td>\n",
       "      <td>9.892116</td>\n",
       "      <td>10.445329</td>\n",
       "      <td>11.051117</td>\n",
       "      <td>11.622378</td>\n",
       "      <td>11.879234</td>\n",
       "    </tr>\n",
       "    <tr>\n",
       "      <th>2017-07-01</th>\n",
       "      <td>6.010218</td>\n",
       "      <td>6.345429</td>\n",
       "      <td>6.968960</td>\n",
       "      <td>7.327936</td>\n",
       "      <td>7.504727</td>\n",
       "      <td>7.660775</td>\n",
       "      <td>7.780983</td>\n",
       "      <td>7.922803</td>\n",
       "      <td>8.084035</td>\n",
       "      <td>8.231180</td>\n",
       "      <td>8.386854</td>\n",
       "      <td>NaN</td>\n",
       "    </tr>\n",
       "    <tr>\n",
       "      <th>2017-08-01</th>\n",
       "      <td>5.276518</td>\n",
       "      <td>5.748511</td>\n",
       "      <td>6.206993</td>\n",
       "      <td>6.598270</td>\n",
       "      <td>7.092321</td>\n",
       "      <td>7.375861</td>\n",
       "      <td>7.586526</td>\n",
       "      <td>7.991533</td>\n",
       "      <td>8.283745</td>\n",
       "      <td>8.471723</td>\n",
       "      <td>NaN</td>\n",
       "      <td>NaN</td>\n",
       "    </tr>\n",
       "    <tr>\n",
       "      <th>2017-09-01</th>\n",
       "      <td>5.644529</td>\n",
       "      <td>6.762115</td>\n",
       "      <td>7.283045</td>\n",
       "      <td>11.258838</td>\n",
       "      <td>11.659396</td>\n",
       "      <td>12.306463</td>\n",
       "      <td>13.008071</td>\n",
       "      <td>13.251220</td>\n",
       "      <td>13.435227</td>\n",
       "      <td>NaN</td>\n",
       "      <td>NaN</td>\n",
       "      <td>NaN</td>\n",
       "    </tr>\n",
       "    <tr>\n",
       "      <th>2017-10-01</th>\n",
       "      <td>5.003733</td>\n",
       "      <td>5.539495</td>\n",
       "      <td>5.730889</td>\n",
       "      <td>5.888035</td>\n",
       "      <td>6.039594</td>\n",
       "      <td>6.159956</td>\n",
       "      <td>6.244772</td>\n",
       "      <td>6.360242</td>\n",
       "      <td>NaN</td>\n",
       "      <td>NaN</td>\n",
       "      <td>NaN</td>\n",
       "      <td>NaN</td>\n",
       "    </tr>\n",
       "    <tr>\n",
       "      <th>2017-11-01</th>\n",
       "      <td>5.154683</td>\n",
       "      <td>5.553916</td>\n",
       "      <td>5.753472</td>\n",
       "      <td>6.078424</td>\n",
       "      <td>6.226437</td>\n",
       "      <td>6.280316</td>\n",
       "      <td>6.395244</td>\n",
       "      <td>NaN</td>\n",
       "      <td>NaN</td>\n",
       "      <td>NaN</td>\n",
       "      <td>NaN</td>\n",
       "      <td>NaN</td>\n",
       "    </tr>\n",
       "    <tr>\n",
       "      <th>2017-12-01</th>\n",
       "      <td>4.738191</td>\n",
       "      <td>4.998565</td>\n",
       "      <td>5.923662</td>\n",
       "      <td>6.988937</td>\n",
       "      <td>7.301866</td>\n",
       "      <td>7.639913</td>\n",
       "      <td>NaN</td>\n",
       "      <td>NaN</td>\n",
       "      <td>NaN</td>\n",
       "      <td>NaN</td>\n",
       "      <td>NaN</td>\n",
       "      <td>NaN</td>\n",
       "    </tr>\n",
       "    <tr>\n",
       "      <th>2018-01-01</th>\n",
       "      <td>4.135636</td>\n",
       "      <td>4.430394</td>\n",
       "      <td>4.734675</td>\n",
       "      <td>4.877453</td>\n",
       "      <td>4.940151</td>\n",
       "      <td>NaN</td>\n",
       "      <td>NaN</td>\n",
       "      <td>NaN</td>\n",
       "      <td>NaN</td>\n",
       "      <td>NaN</td>\n",
       "      <td>NaN</td>\n",
       "      <td>NaN</td>\n",
       "    </tr>\n",
       "    <tr>\n",
       "      <th>2018-02-01</th>\n",
       "      <td>4.156987</td>\n",
       "      <td>4.435262</td>\n",
       "      <td>4.513777</td>\n",
       "      <td>4.587921</td>\n",
       "      <td>NaN</td>\n",
       "      <td>NaN</td>\n",
       "      <td>NaN</td>\n",
       "      <td>NaN</td>\n",
       "      <td>NaN</td>\n",
       "      <td>NaN</td>\n",
       "      <td>NaN</td>\n",
       "      <td>NaN</td>\n",
       "    </tr>\n",
       "    <tr>\n",
       "      <th>2018-03-01</th>\n",
       "      <td>4.838803</td>\n",
       "      <td>5.139694</td>\n",
       "      <td>5.455253</td>\n",
       "      <td>NaN</td>\n",
       "      <td>NaN</td>\n",
       "      <td>NaN</td>\n",
       "      <td>NaN</td>\n",
       "      <td>NaN</td>\n",
       "      <td>NaN</td>\n",
       "      <td>NaN</td>\n",
       "      <td>NaN</td>\n",
       "      <td>NaN</td>\n",
       "    </tr>\n",
       "    <tr>\n",
       "      <th>2018-04-01</th>\n",
       "      <td>4.657597</td>\n",
       "      <td>5.189196</td>\n",
       "      <td>NaN</td>\n",
       "      <td>NaN</td>\n",
       "      <td>NaN</td>\n",
       "      <td>NaN</td>\n",
       "      <td>NaN</td>\n",
       "      <td>NaN</td>\n",
       "      <td>NaN</td>\n",
       "      <td>NaN</td>\n",
       "      <td>NaN</td>\n",
       "      <td>NaN</td>\n",
       "    </tr>\n",
       "    <tr>\n",
       "      <th>2018-05-01</th>\n",
       "      <td>4.660562</td>\n",
       "      <td>NaN</td>\n",
       "      <td>NaN</td>\n",
       "      <td>NaN</td>\n",
       "      <td>NaN</td>\n",
       "      <td>NaN</td>\n",
       "      <td>NaN</td>\n",
       "      <td>NaN</td>\n",
       "      <td>NaN</td>\n",
       "      <td>NaN</td>\n",
       "      <td>NaN</td>\n",
       "      <td>NaN</td>\n",
       "    </tr>\n",
       "    <tr>\n",
       "      <th>2018-06-01</th>\n",
       "      <td>3.420000</td>\n",
       "      <td>NaN</td>\n",
       "      <td>NaN</td>\n",
       "      <td>NaN</td>\n",
       "      <td>NaN</td>\n",
       "      <td>NaN</td>\n",
       "      <td>NaN</td>\n",
       "      <td>NaN</td>\n",
       "      <td>NaN</td>\n",
       "      <td>NaN</td>\n",
       "      <td>NaN</td>\n",
       "      <td>NaN</td>\n",
       "    </tr>\n",
       "  </tbody>\n",
       "</table>\n",
       "</div>"
      ],
      "text/plain": [
       "edad_mes                  0         1         2          3          4   \\\n",
       "primera_compra_mes                                                       \n",
       "2017-06-01          4.724414  5.209743  5.647380   6.602051   7.624582   \n",
       "2017-07-01          6.010218  6.345429  6.968960   7.327936   7.504727   \n",
       "2017-08-01          5.276518  5.748511  6.206993   6.598270   7.092321   \n",
       "2017-09-01          5.644529  6.762115  7.283045  11.258838  11.659396   \n",
       "2017-10-01          5.003733  5.539495  5.730889   5.888035   6.039594   \n",
       "2017-11-01          5.154683  5.553916  5.753472   6.078424   6.226437   \n",
       "2017-12-01          4.738191  4.998565  5.923662   6.988937   7.301866   \n",
       "2018-01-01          4.135636  4.430394  4.734675   4.877453   4.940151   \n",
       "2018-02-01          4.156987  4.435262  4.513777   4.587921        NaN   \n",
       "2018-03-01          4.838803  5.139694  5.455253        NaN        NaN   \n",
       "2018-04-01          4.657597  5.189196       NaN        NaN        NaN   \n",
       "2018-05-01          4.660562       NaN       NaN        NaN        NaN   \n",
       "2018-06-01          3.420000       NaN       NaN        NaN        NaN   \n",
       "\n",
       "edad_mes                   5          6          7          8          9   \\\n",
       "primera_compra_mes                                                          \n",
       "2017-06-01           8.360084   9.310524   9.892116  10.445329  11.051117   \n",
       "2017-07-01           7.660775   7.780983   7.922803   8.084035   8.231180   \n",
       "2017-08-01           7.375861   7.586526   7.991533   8.283745   8.471723   \n",
       "2017-09-01          12.306463  13.008071  13.251220  13.435227        NaN   \n",
       "2017-10-01           6.159956   6.244772   6.360242        NaN        NaN   \n",
       "2017-11-01           6.280316   6.395244        NaN        NaN        NaN   \n",
       "2017-12-01           7.639913        NaN        NaN        NaN        NaN   \n",
       "2018-01-01                NaN        NaN        NaN        NaN        NaN   \n",
       "2018-02-01                NaN        NaN        NaN        NaN        NaN   \n",
       "2018-03-01                NaN        NaN        NaN        NaN        NaN   \n",
       "2018-04-01                NaN        NaN        NaN        NaN        NaN   \n",
       "2018-05-01                NaN        NaN        NaN        NaN        NaN   \n",
       "2018-06-01                NaN        NaN        NaN        NaN        NaN   \n",
       "\n",
       "edad_mes                   10         11  \n",
       "primera_compra_mes                        \n",
       "2017-06-01          11.622378  11.879234  \n",
       "2017-07-01           8.386854        NaN  \n",
       "2017-08-01                NaN        NaN  \n",
       "2017-09-01                NaN        NaN  \n",
       "2017-10-01                NaN        NaN  \n",
       "2017-11-01                NaN        NaN  \n",
       "2017-12-01                NaN        NaN  \n",
       "2018-01-01                NaN        NaN  \n",
       "2018-02-01                NaN        NaN  \n",
       "2018-03-01                NaN        NaN  \n",
       "2018-04-01                NaN        NaN  \n",
       "2018-05-01                NaN        NaN  \n",
       "2018-06-01                NaN        NaN  "
      ]
     },
     "execution_count": 70,
     "metadata": {},
     "output_type": "execute_result"
    }
   ],
   "source": [
    "cohortes_ltv"
   ]
  },
  {
   "cell_type": "code",
   "execution_count": 71,
   "metadata": {},
   "outputs": [
    {
     "data": {
      "text/html": [
       "<div>\n",
       "<style scoped>\n",
       "    .dataframe tbody tr th:only-of-type {\n",
       "        vertical-align: middle;\n",
       "    }\n",
       "\n",
       "    .dataframe tbody tr th {\n",
       "        vertical-align: top;\n",
       "    }\n",
       "\n",
       "    .dataframe thead th {\n",
       "        text-align: right;\n",
       "    }\n",
       "</style>\n",
       "<table border=\"1\" class=\"dataframe\">\n",
       "  <thead>\n",
       "    <tr style=\"text-align: right;\">\n",
       "      <th>edad_mes</th>\n",
       "      <th>0</th>\n",
       "      <th>1</th>\n",
       "      <th>2</th>\n",
       "      <th>3</th>\n",
       "      <th>4</th>\n",
       "      <th>5</th>\n",
       "      <th>6</th>\n",
       "      <th>7</th>\n",
       "      <th>8</th>\n",
       "      <th>9</th>\n",
       "      <th>10</th>\n",
       "      <th>11</th>\n",
       "    </tr>\n",
       "    <tr>\n",
       "      <th>primera_compra_mes</th>\n",
       "      <th></th>\n",
       "      <th></th>\n",
       "      <th></th>\n",
       "      <th></th>\n",
       "      <th></th>\n",
       "      <th></th>\n",
       "      <th></th>\n",
       "      <th></th>\n",
       "      <th></th>\n",
       "      <th></th>\n",
       "      <th></th>\n",
       "      <th></th>\n",
       "    </tr>\n",
       "  </thead>\n",
       "  <tbody>\n",
       "    <tr>\n",
       "      <th>2017-06-01</th>\n",
       "      <td>4.72</td>\n",
       "      <td>5.21</td>\n",
       "      <td>5.65</td>\n",
       "      <td>6.60</td>\n",
       "      <td>7.62</td>\n",
       "      <td>8.36</td>\n",
       "      <td>9.31</td>\n",
       "      <td>9.89</td>\n",
       "      <td>10.45</td>\n",
       "      <td>11.05</td>\n",
       "      <td>11.62</td>\n",
       "      <td>11.88</td>\n",
       "    </tr>\n",
       "    <tr>\n",
       "      <th>2017-07-01</th>\n",
       "      <td>6.01</td>\n",
       "      <td>6.35</td>\n",
       "      <td>6.97</td>\n",
       "      <td>7.33</td>\n",
       "      <td>7.50</td>\n",
       "      <td>7.66</td>\n",
       "      <td>7.78</td>\n",
       "      <td>7.92</td>\n",
       "      <td>8.08</td>\n",
       "      <td>8.23</td>\n",
       "      <td>8.39</td>\n",
       "      <td>0.00</td>\n",
       "    </tr>\n",
       "    <tr>\n",
       "      <th>2017-08-01</th>\n",
       "      <td>5.28</td>\n",
       "      <td>5.75</td>\n",
       "      <td>6.21</td>\n",
       "      <td>6.60</td>\n",
       "      <td>7.09</td>\n",
       "      <td>7.38</td>\n",
       "      <td>7.59</td>\n",
       "      <td>7.99</td>\n",
       "      <td>8.28</td>\n",
       "      <td>8.47</td>\n",
       "      <td>0.00</td>\n",
       "      <td>0.00</td>\n",
       "    </tr>\n",
       "    <tr>\n",
       "      <th>2017-09-01</th>\n",
       "      <td>5.64</td>\n",
       "      <td>6.76</td>\n",
       "      <td>7.28</td>\n",
       "      <td>11.26</td>\n",
       "      <td>11.66</td>\n",
       "      <td>12.31</td>\n",
       "      <td>13.01</td>\n",
       "      <td>13.25</td>\n",
       "      <td>13.44</td>\n",
       "      <td>0.00</td>\n",
       "      <td>0.00</td>\n",
       "      <td>0.00</td>\n",
       "    </tr>\n",
       "    <tr>\n",
       "      <th>2017-10-01</th>\n",
       "      <td>5.00</td>\n",
       "      <td>5.54</td>\n",
       "      <td>5.73</td>\n",
       "      <td>5.89</td>\n",
       "      <td>6.04</td>\n",
       "      <td>6.16</td>\n",
       "      <td>6.24</td>\n",
       "      <td>6.36</td>\n",
       "      <td>0.00</td>\n",
       "      <td>0.00</td>\n",
       "      <td>0.00</td>\n",
       "      <td>0.00</td>\n",
       "    </tr>\n",
       "    <tr>\n",
       "      <th>2017-11-01</th>\n",
       "      <td>5.15</td>\n",
       "      <td>5.55</td>\n",
       "      <td>5.75</td>\n",
       "      <td>6.08</td>\n",
       "      <td>6.23</td>\n",
       "      <td>6.28</td>\n",
       "      <td>6.40</td>\n",
       "      <td>0.00</td>\n",
       "      <td>0.00</td>\n",
       "      <td>0.00</td>\n",
       "      <td>0.00</td>\n",
       "      <td>0.00</td>\n",
       "    </tr>\n",
       "    <tr>\n",
       "      <th>2017-12-01</th>\n",
       "      <td>4.74</td>\n",
       "      <td>5.00</td>\n",
       "      <td>5.92</td>\n",
       "      <td>6.99</td>\n",
       "      <td>7.30</td>\n",
       "      <td>7.64</td>\n",
       "      <td>0.00</td>\n",
       "      <td>0.00</td>\n",
       "      <td>0.00</td>\n",
       "      <td>0.00</td>\n",
       "      <td>0.00</td>\n",
       "      <td>0.00</td>\n",
       "    </tr>\n",
       "    <tr>\n",
       "      <th>2018-01-01</th>\n",
       "      <td>4.14</td>\n",
       "      <td>4.43</td>\n",
       "      <td>4.73</td>\n",
       "      <td>4.88</td>\n",
       "      <td>4.94</td>\n",
       "      <td>0.00</td>\n",
       "      <td>0.00</td>\n",
       "      <td>0.00</td>\n",
       "      <td>0.00</td>\n",
       "      <td>0.00</td>\n",
       "      <td>0.00</td>\n",
       "      <td>0.00</td>\n",
       "    </tr>\n",
       "    <tr>\n",
       "      <th>2018-02-01</th>\n",
       "      <td>4.16</td>\n",
       "      <td>4.44</td>\n",
       "      <td>4.51</td>\n",
       "      <td>4.59</td>\n",
       "      <td>0.00</td>\n",
       "      <td>0.00</td>\n",
       "      <td>0.00</td>\n",
       "      <td>0.00</td>\n",
       "      <td>0.00</td>\n",
       "      <td>0.00</td>\n",
       "      <td>0.00</td>\n",
       "      <td>0.00</td>\n",
       "    </tr>\n",
       "    <tr>\n",
       "      <th>2018-03-01</th>\n",
       "      <td>4.84</td>\n",
       "      <td>5.14</td>\n",
       "      <td>5.46</td>\n",
       "      <td>0.00</td>\n",
       "      <td>0.00</td>\n",
       "      <td>0.00</td>\n",
       "      <td>0.00</td>\n",
       "      <td>0.00</td>\n",
       "      <td>0.00</td>\n",
       "      <td>0.00</td>\n",
       "      <td>0.00</td>\n",
       "      <td>0.00</td>\n",
       "    </tr>\n",
       "    <tr>\n",
       "      <th>2018-04-01</th>\n",
       "      <td>4.66</td>\n",
       "      <td>5.19</td>\n",
       "      <td>0.00</td>\n",
       "      <td>0.00</td>\n",
       "      <td>0.00</td>\n",
       "      <td>0.00</td>\n",
       "      <td>0.00</td>\n",
       "      <td>0.00</td>\n",
       "      <td>0.00</td>\n",
       "      <td>0.00</td>\n",
       "      <td>0.00</td>\n",
       "      <td>0.00</td>\n",
       "    </tr>\n",
       "    <tr>\n",
       "      <th>2018-05-01</th>\n",
       "      <td>4.66</td>\n",
       "      <td>0.00</td>\n",
       "      <td>0.00</td>\n",
       "      <td>0.00</td>\n",
       "      <td>0.00</td>\n",
       "      <td>0.00</td>\n",
       "      <td>0.00</td>\n",
       "      <td>0.00</td>\n",
       "      <td>0.00</td>\n",
       "      <td>0.00</td>\n",
       "      <td>0.00</td>\n",
       "      <td>0.00</td>\n",
       "    </tr>\n",
       "    <tr>\n",
       "      <th>2018-06-01</th>\n",
       "      <td>3.42</td>\n",
       "      <td>0.00</td>\n",
       "      <td>0.00</td>\n",
       "      <td>0.00</td>\n",
       "      <td>0.00</td>\n",
       "      <td>0.00</td>\n",
       "      <td>0.00</td>\n",
       "      <td>0.00</td>\n",
       "      <td>0.00</td>\n",
       "      <td>0.00</td>\n",
       "      <td>0.00</td>\n",
       "      <td>0.00</td>\n",
       "    </tr>\n",
       "  </tbody>\n",
       "</table>\n",
       "</div>"
      ],
      "text/plain": [
       "edad_mes              0     1     2      3      4      5      6      7   \\\n",
       "primera_compra_mes                                                        \n",
       "2017-06-01          4.72  5.21  5.65   6.60   7.62   8.36   9.31   9.89   \n",
       "2017-07-01          6.01  6.35  6.97   7.33   7.50   7.66   7.78   7.92   \n",
       "2017-08-01          5.28  5.75  6.21   6.60   7.09   7.38   7.59   7.99   \n",
       "2017-09-01          5.64  6.76  7.28  11.26  11.66  12.31  13.01  13.25   \n",
       "2017-10-01          5.00  5.54  5.73   5.89   6.04   6.16   6.24   6.36   \n",
       "2017-11-01          5.15  5.55  5.75   6.08   6.23   6.28   6.40   0.00   \n",
       "2017-12-01          4.74  5.00  5.92   6.99   7.30   7.64   0.00   0.00   \n",
       "2018-01-01          4.14  4.43  4.73   4.88   4.94   0.00   0.00   0.00   \n",
       "2018-02-01          4.16  4.44  4.51   4.59   0.00   0.00   0.00   0.00   \n",
       "2018-03-01          4.84  5.14  5.46   0.00   0.00   0.00   0.00   0.00   \n",
       "2018-04-01          4.66  5.19  0.00   0.00   0.00   0.00   0.00   0.00   \n",
       "2018-05-01          4.66  0.00  0.00   0.00   0.00   0.00   0.00   0.00   \n",
       "2018-06-01          3.42  0.00  0.00   0.00   0.00   0.00   0.00   0.00   \n",
       "\n",
       "edad_mes               8      9      10     11  \n",
       "primera_compra_mes                              \n",
       "2017-06-01          10.45  11.05  11.62  11.88  \n",
       "2017-07-01           8.08   8.23   8.39   0.00  \n",
       "2017-08-01           8.28   8.47   0.00   0.00  \n",
       "2017-09-01          13.44   0.00   0.00   0.00  \n",
       "2017-10-01           0.00   0.00   0.00   0.00  \n",
       "2017-11-01           0.00   0.00   0.00   0.00  \n",
       "2017-12-01           0.00   0.00   0.00   0.00  \n",
       "2018-01-01           0.00   0.00   0.00   0.00  \n",
       "2018-02-01           0.00   0.00   0.00   0.00  \n",
       "2018-03-01           0.00   0.00   0.00   0.00  \n",
       "2018-04-01           0.00   0.00   0.00   0.00  \n",
       "2018-05-01           0.00   0.00   0.00   0.00  \n",
       "2018-06-01           0.00   0.00   0.00   0.00  "
      ]
     },
     "execution_count": 71,
     "metadata": {},
     "output_type": "execute_result"
    }
   ],
   "source": [
    "cohortes_ltv= cohortes_ltv.round(2).fillna(0)\n",
    "cohortes_ltv.index = cohortes_ltv.index.astype(str)\n",
    "cohortes_ltv"
   ]
  },
  {
   "cell_type": "code",
   "execution_count": 72,
   "metadata": {},
   "outputs": [
    {
     "data": {
      "image/png": "[encoded data removed]",
      "text/plain": [
       "<Figure size 1300x900 with 2 Axes>"
      ]
     },
     "metadata": {},
     "output_type": "display_data"
    }
   ],
   "source": [
    "plt.figure(figsize=(13,9))\n",
    "sns.heatmap(\n",
    "    cohortes_ltv,\n",
    "    annot=True,\n",
    "    fmt='.2f',\n",
    "    linewidths=1, \n",
    "    linecolor ='grey',\n",
    ")\n",
    "\n",
    "plt.show()"
   ]
  },
  {
   "cell_type": "markdown",
   "metadata": {},
   "source": [
    "##### En la grafica de calor vemos cuanto es la ganancia acumulada y los meses con los dias de mayor ganancia."
   ]
  },
  {
   "cell_type": "markdown",
   "metadata": {},
   "source": [
    "<div class=\"alert alert-block alert-success\">\n",
    "<b>Comentario de Revisor v3</b> <a class=\"tocSkip\"></a>\n",
    "\n",
    "Excelente! Muy bien con este resultado, nos muestra la generación de valor de cada cohorte.\n",
    "\n",
    "</div>"
   ]
  },
  {
   "cell_type": "markdown",
   "metadata": {},
   "source": [
    "## Marketing"
   ]
  },
  {
   "cell_type": "markdown",
   "metadata": {},
   "source": [
    " ### 1. ¿Cuánto dinero se gastó?  (Total/por fuente de adquisición/a lo largo del tiempo) "
   ]
  },
  {
   "cell_type": "code",
   "execution_count": 73,
   "metadata": {},
   "outputs": [
    {
     "name": "stdout",
     "output_type": "stream",
     "text": [
      "Total gastado: 329131.62\n",
      "----------------------------------\n",
      "\n",
      "Gasto por fuente de adquisición:\n",
      "   source_id      costs\n",
      "0          3  141321.63\n",
      "1          4   61073.60\n",
      "2          5   51757.10\n",
      "3          2   42806.04\n",
      "4          1   20833.27\n",
      "5         10    5822.49\n",
      "6          9    5517.49\n",
      "----------------------------------\n",
      "\n",
      "Gasto a lo largo del tiempo:\n",
      "         dt     costs\n",
      "0   2017-06  18015.00\n",
      "1   2017-07  18240.59\n",
      "2   2017-08  14790.54\n",
      "3   2017-09  24368.91\n",
      "4   2017-10  36322.88\n",
      "5   2017-11  37907.88\n",
      "6   2017-12  38315.35\n",
      "7   2018-01  33518.52\n",
      "8   2018-02  32723.03\n",
      "9   2018-03  30415.27\n",
      "10  2018-04  22289.38\n",
      "11  2018-05  22224.27\n"
     ]
    }
   ],
   "source": [
    "# Asegurar que la columna de fecha es de tipo datetime\n",
    "cost_raw['dt'] = pd.to_datetime(cost_raw['dt'])\n",
    "\n",
    "#  Calcular el gasto total\n",
    "total_cost = cost_raw['costs'].sum()\n",
    "\n",
    "#  Calcular el gasto por fuente de adquisición\n",
    "cost_by_source = cost_raw.groupby('source_id')['costs'].sum().sort_values(ascending=False).reset_index()\n",
    "\n",
    "#  Calcular el gasto a lo largo del tiempo (por día, mes o año)\n",
    "cost_by_date = cost_raw.groupby(cost_raw['dt'].dt.to_period('M'))['costs'].sum().reset_index()\n",
    "\n",
    "# Mostrar los resultados\n",
    "print(f\"Total gastado: {total_cost}\")\n",
    "print('----------------------------------')\n",
    "print(\"\\nGasto por fuente de adquisición:\")\n",
    "print(cost_by_source)\n",
    "print('----------------------------------')\n",
    "print(\"\\nGasto a lo largo del tiempo:\")\n",
    "print(cost_by_date)\n",
    "\n"
   ]
  },
  {
   "cell_type": "code",
   "execution_count": 74,
   "metadata": {},
   "outputs": [
    {
     "name": "stderr",
     "output_type": "stream",
     "text": [
      "/var/folders/lb/kp8wpfls0cl3fyn5r3qhm7zm0000gn/T/ipykernel_1037/604277344.py:5: FutureWarning: \n",
      "\n",
      "Passing `palette` without assigning `hue` is deprecated and will be removed in v0.14.0. Assign the `x` variable to `hue` and set `legend=False` for the same effect.\n",
      "\n",
      "  sns.barplot(x=cost_by_source['source_id'], y=cost_by_source['costs'], palette=\"Blues_r\")\n"
     ]
    },
    {
     "data": {
      "image/png": "[encoded data removed]",
      "text/plain": [
       "<Figure size 1000x500 with 1 Axes>"
      ]
     },
     "metadata": {},
     "output_type": "display_data"
    }
   ],
   "source": [
    "sns.set_style(\"whitegrid\")\n",
    "\n",
    "# Crear gráfico de barras\n",
    "plt.figure(figsize=(10, 5))\n",
    "sns.barplot(x=cost_by_source['source_id'], y=cost_by_source['costs'], palette=\"Blues_r\")\n",
    "\n",
    "# Etiquetas\n",
    "plt.xlabel(\"Fuente de Adquisición\")\n",
    "plt.ylabel(\"Gasto Total\")\n",
    "plt.title(\"Gasto Total en Marketing por Fuente de Adquisición\")\n",
    "\n",
    "# Mostrar gráfico\n",
    "plt.show()"
   ]
  },
  {
   "cell_type": "markdown",
   "metadata": {},
   "source": [
    "<div class=\"alert alert-block alert-warning\">\n",
    "<b>Comentario de Revisor v4</b> <a class=\"tocSkip\"></a>\n",
    "\n",
    "Correcto, aunque este tipo de información es mucho mejor ponerla en un gráfico.\n",
    "\n",
    "</div>"
   ]
  },
  {
   "cell_type": "markdown",
   "metadata": {},
   "source": [
    "<div class=\"alert alert-block alert-info\">\n",
    "<b>Listo la grafica.</b> <a class=\"tocSkip\"></a>\n",
    "</div>"
   ]
  },
  {
   "cell_type": "markdown",
   "metadata": {},
   "source": [
    "### 2. ¿Cuál fue el costo de adquisición de clientes de cada una de las fuentes?\n"
   ]
  },
  {
   "cell_type": "markdown",
   "metadata": {},
   "source": [
    "<div class=\"alert alert-block alert-danger\">\n",
    "<b>Comentario de Revisor v4</b> <a class=\"tocSkip\"></a>\n",
    "\n",
    "En esta parte el CAC está calculado incorrectamente. El CAC es el costo de adquisición de los usuarios, para esto debes tener los usuarios adquiridos (que hicieron al menos una compra) y la fuente por la que fueron adquiridos (fuente de su primera visita).\n",
    "    \n",
    "La inversión de marketing es variable según el día y la fuente, de la misma forma que el ingreso de usuarios varia por día y fuente. Debes juntar el gasto de mkt por día y fuente con la cantidad de usuarios compradores que fueron obtenidos por esa fuente. Con ello obtienes un cac para cada día y fuente, luego puedes agrupar por fuente y obtener un promedio del cac diario. Te dejo un esquema de cómo realizar esto.\n",
    "    \n",
    "- Para cada usuario debes tener la fuente de la primera visita y la fecha de la primera compra\n",
    "- Agrupa lo anterior por fuente y fecha para contar la cantidad diferente de compradores\n",
    "- A lo anterior une los costos por fecha y fuente.\n",
    "- El cac diario es el costo del día, dividido la cantidad de compradores\n",
    "- Obtén un cac por fuente: agrupa los cac diarios por fuente y obtén el promedio como el cac por fuente   \n",
    "</div>"
   ]
  },
  {
   "cell_type": "markdown",
   "metadata": {},
   "source": [
    "<div class=\"alert alert-block alert-info\">\n",
    "<b>Hola sigo sin entender la idea de como hacer esta parte por mas que le he dado la vuelta sigo sin entenderle como hacerlo debo sacar una grafica de cliente unico por fuente y primera compra y costo es que ahora si que ando bien perdido y por mas que entro al co-learning me dan ideas pero no se como plantearlo aqui y ni con ayuda de charGPT he podido hacerlo ya se me acabaron las idea lo hago y termino borrando las cosas porque sale peor que la que tengo actualmente </b> <a class=\"tocSkip\"></a>\n",
    "</div>"
   ]
  },
  {
   "cell_type": "markdown",
   "metadata": {},
   "source": [
    "<div class=\"alert alert-block alert-danger\">\n",
    "<b>Comentario de Revisor v5</b> <a class=\"tocSkip\"></a>\n",
    "\n",
    "Ok Elpidio, no hay problema, te puedo guiar paso por paso, a continuación te dejo indicado lo necesario\n",
    "</div>"
   ]
  },
  {
   "cell_type": "code",
   "execution_count": 75,
   "metadata": {},
   "outputs": [
    {
     "data": {
      "text/html": [
       "<div>\n",
       "<style scoped>\n",
       "    .dataframe tbody tr th:only-of-type {\n",
       "        vertical-align: middle;\n",
       "    }\n",
       "\n",
       "    .dataframe tbody tr th {\n",
       "        vertical-align: top;\n",
       "    }\n",
       "\n",
       "    .dataframe thead th {\n",
       "        text-align: right;\n",
       "    }\n",
       "</style>\n",
       "<table border=\"1\" class=\"dataframe\">\n",
       "  <thead>\n",
       "    <tr style=\"text-align: right;\">\n",
       "      <th></th>\n",
       "      <th>uid</th>\n",
       "      <th>dia_compras</th>\n",
       "    </tr>\n",
       "  </thead>\n",
       "  <tbody>\n",
       "    <tr>\n",
       "      <th>0</th>\n",
       "      <td>313578113262317</td>\n",
       "      <td>2018-01-03</td>\n",
       "    </tr>\n",
       "    <tr>\n",
       "      <th>1</th>\n",
       "      <td>1575281904278712</td>\n",
       "      <td>2017-06-03</td>\n",
       "    </tr>\n",
       "    <tr>\n",
       "      <th>2</th>\n",
       "      <td>2429014661409475</td>\n",
       "      <td>2017-10-11</td>\n",
       "    </tr>\n",
       "    <tr>\n",
       "      <th>3</th>\n",
       "      <td>2464366381792757</td>\n",
       "      <td>2018-01-28</td>\n",
       "    </tr>\n",
       "    <tr>\n",
       "      <th>4</th>\n",
       "      <td>2551852515556206</td>\n",
       "      <td>2017-11-24</td>\n",
       "    </tr>\n",
       "    <tr>\n",
       "      <th>...</th>\n",
       "      <td>...</td>\n",
       "      <td>...</td>\n",
       "    </tr>\n",
       "    <tr>\n",
       "      <th>36518</th>\n",
       "      <td>18445147675727495770</td>\n",
       "      <td>2017-11-24</td>\n",
       "    </tr>\n",
       "    <tr>\n",
       "      <th>36519</th>\n",
       "      <td>18445407535914413204</td>\n",
       "      <td>2017-09-22</td>\n",
       "    </tr>\n",
       "    <tr>\n",
       "      <th>36520</th>\n",
       "      <td>18445601152732270159</td>\n",
       "      <td>2018-03-26</td>\n",
       "    </tr>\n",
       "    <tr>\n",
       "      <th>36521</th>\n",
       "      <td>18446156210226471712</td>\n",
       "      <td>2018-02-18</td>\n",
       "    </tr>\n",
       "    <tr>\n",
       "      <th>36522</th>\n",
       "      <td>18446167067214817906</td>\n",
       "      <td>2017-10-17</td>\n",
       "    </tr>\n",
       "  </tbody>\n",
       "</table>\n",
       "<p>36523 rows × 2 columns</p>\n",
       "</div>"
      ],
      "text/plain": [
       "                        uid dia_compras\n",
       "0           313578113262317  2018-01-03\n",
       "1          1575281904278712  2017-06-03\n",
       "2          2429014661409475  2017-10-11\n",
       "3          2464366381792757  2018-01-28\n",
       "4          2551852515556206  2017-11-24\n",
       "...                     ...         ...\n",
       "36518  18445147675727495770  2017-11-24\n",
       "36519  18445407535914413204  2017-09-22\n",
       "36520  18445601152732270159  2018-03-26\n",
       "36521  18446156210226471712  2018-02-18\n",
       "36522  18446167067214817906  2017-10-17\n",
       "\n",
       "[36523 rows x 2 columns]"
      ]
     },
     "execution_count": 75,
     "metadata": {},
     "output_type": "execute_result"
    }
   ],
   "source": [
    "#Sacamos las primeras 'dia_compras' por usuario\n",
    "primera_compra_usuarios = (\n",
    "    orders_raw\n",
    "    .sort_values('buy_ts', ascending=True)\n",
    "    .groupby('uid')\n",
    "    .first()\n",
    "    .reset_index()\n",
    "    [['uid','dia_compras']]\n",
    ")\n",
    "primera_compra_usuarios"
   ]
  },
  {
   "cell_type": "code",
   "execution_count": 76,
   "metadata": {},
   "outputs": [
    {
     "data": {
      "text/html": [
       "<div>\n",
       "<style scoped>\n",
       "    .dataframe tbody tr th:only-of-type {\n",
       "        vertical-align: middle;\n",
       "    }\n",
       "\n",
       "    .dataframe tbody tr th {\n",
       "        vertical-align: top;\n",
       "    }\n",
       "\n",
       "    .dataframe thead th {\n",
       "        text-align: right;\n",
       "    }\n",
       "</style>\n",
       "<table border=\"1\" class=\"dataframe\">\n",
       "  <thead>\n",
       "    <tr style=\"text-align: right;\">\n",
       "      <th></th>\n",
       "      <th>source_id</th>\n",
       "      <th>uid</th>\n",
       "    </tr>\n",
       "  </thead>\n",
       "  <tbody>\n",
       "    <tr>\n",
       "      <th>0</th>\n",
       "      <td>4</td>\n",
       "      <td>16879256277535980062</td>\n",
       "    </tr>\n",
       "    <tr>\n",
       "      <th>1</th>\n",
       "      <td>2</td>\n",
       "      <td>104060357244891740</td>\n",
       "    </tr>\n",
       "    <tr>\n",
       "      <th>2</th>\n",
       "      <td>5</td>\n",
       "      <td>7459035603376831527</td>\n",
       "    </tr>\n",
       "    <tr>\n",
       "      <th>3</th>\n",
       "      <td>9</td>\n",
       "      <td>16174680259334210214</td>\n",
       "    </tr>\n",
       "    <tr>\n",
       "      <th>4</th>\n",
       "      <td>3</td>\n",
       "      <td>9969694820036681168</td>\n",
       "    </tr>\n",
       "    <tr>\n",
       "      <th>...</th>\n",
       "      <td>...</td>\n",
       "      <td>...</td>\n",
       "    </tr>\n",
       "    <tr>\n",
       "      <th>359395</th>\n",
       "      <td>2</td>\n",
       "      <td>18363291481961487539</td>\n",
       "    </tr>\n",
       "    <tr>\n",
       "      <th>359396</th>\n",
       "      <td>1</td>\n",
       "      <td>18370831553019119586</td>\n",
       "    </tr>\n",
       "    <tr>\n",
       "      <th>359397</th>\n",
       "      <td>4</td>\n",
       "      <td>18387297585500748294</td>\n",
       "    </tr>\n",
       "    <tr>\n",
       "      <th>359398</th>\n",
       "      <td>5</td>\n",
       "      <td>18388616944624776485</td>\n",
       "    </tr>\n",
       "    <tr>\n",
       "      <th>359399</th>\n",
       "      <td>2</td>\n",
       "      <td>18396128934054549559</td>\n",
       "    </tr>\n",
       "  </tbody>\n",
       "</table>\n",
       "<p>359400 rows × 2 columns</p>\n",
       "</div>"
      ],
      "text/plain": [
       "        source_id                   uid\n",
       "0               4  16879256277535980062\n",
       "1               2    104060357244891740\n",
       "2               5   7459035603376831527\n",
       "3               9  16174680259334210214\n",
       "4               3   9969694820036681168\n",
       "...           ...                   ...\n",
       "359395          2  18363291481961487539\n",
       "359396          1  18370831553019119586\n",
       "359397          4  18387297585500748294\n",
       "359398          5  18388616944624776485\n",
       "359399          2  18396128934054549559\n",
       "\n",
       "[359400 rows x 2 columns]"
      ]
     },
     "execution_count": 76,
     "metadata": {},
     "output_type": "execute_result"
    }
   ],
   "source": [
    "primera_fuente_usuarios = visitor_raw[['source_id', 'uid']]\n",
    "primera_fuente_usuarios\n",
    "\n"
   ]
  },
  {
   "cell_type": "code",
   "execution_count": 77,
   "metadata": {},
   "outputs": [
    {
     "data": {
      "text/html": [
       "<div>\n",
       "<style scoped>\n",
       "    .dataframe tbody tr th:only-of-type {\n",
       "        vertical-align: middle;\n",
       "    }\n",
       "\n",
       "    .dataframe tbody tr th {\n",
       "        vertical-align: top;\n",
       "    }\n",
       "\n",
       "    .dataframe thead th {\n",
       "        text-align: right;\n",
       "    }\n",
       "</style>\n",
       "<table border=\"1\" class=\"dataframe\">\n",
       "  <thead>\n",
       "    <tr style=\"text-align: right;\">\n",
       "      <th></th>\n",
       "      <th>source_id</th>\n",
       "      <th>uid</th>\n",
       "      <th>dia_compras</th>\n",
       "    </tr>\n",
       "  </thead>\n",
       "  <tbody>\n",
       "    <tr>\n",
       "      <th>0</th>\n",
       "      <td>9</td>\n",
       "      <td>16174680259334210214</td>\n",
       "      <td>2018-03-09</td>\n",
       "    </tr>\n",
       "    <tr>\n",
       "      <th>1</th>\n",
       "      <td>5</td>\n",
       "      <td>16007536194108375387</td>\n",
       "      <td>2017-09-04</td>\n",
       "    </tr>\n",
       "    <tr>\n",
       "      <th>2</th>\n",
       "      <td>4</td>\n",
       "      <td>8056418121947262981</td>\n",
       "      <td>2017-06-25</td>\n",
       "    </tr>\n",
       "    <tr>\n",
       "      <th>3</th>\n",
       "      <td>2</td>\n",
       "      <td>18188358787673499603</td>\n",
       "      <td>2018-02-12</td>\n",
       "    </tr>\n",
       "    <tr>\n",
       "      <th>4</th>\n",
       "      <td>4</td>\n",
       "      <td>2307401184189569202</td>\n",
       "      <td>2017-09-27</td>\n",
       "    </tr>\n",
       "    <tr>\n",
       "      <th>...</th>\n",
       "      <td>...</td>\n",
       "      <td>...</td>\n",
       "      <td>...</td>\n",
       "    </tr>\n",
       "    <tr>\n",
       "      <th>97389</th>\n",
       "      <td>2</td>\n",
       "      <td>18363291481961487539</td>\n",
       "      <td>2017-07-29</td>\n",
       "    </tr>\n",
       "    <tr>\n",
       "      <th>97390</th>\n",
       "      <td>1</td>\n",
       "      <td>18370831553019119586</td>\n",
       "      <td>2018-01-25</td>\n",
       "    </tr>\n",
       "    <tr>\n",
       "      <th>97391</th>\n",
       "      <td>4</td>\n",
       "      <td>18387297585500748294</td>\n",
       "      <td>2018-03-03</td>\n",
       "    </tr>\n",
       "    <tr>\n",
       "      <th>97392</th>\n",
       "      <td>5</td>\n",
       "      <td>18388616944624776485</td>\n",
       "      <td>2017-11-02</td>\n",
       "    </tr>\n",
       "    <tr>\n",
       "      <th>97393</th>\n",
       "      <td>2</td>\n",
       "      <td>18396128934054549559</td>\n",
       "      <td>2017-09-10</td>\n",
       "    </tr>\n",
       "  </tbody>\n",
       "</table>\n",
       "<p>97394 rows × 3 columns</p>\n",
       "</div>"
      ],
      "text/plain": [
       "       source_id                   uid dia_compras\n",
       "0              9  16174680259334210214  2018-03-09\n",
       "1              5  16007536194108375387  2017-09-04\n",
       "2              4   8056418121947262981  2017-06-25\n",
       "3              2  18188358787673499603  2018-02-12\n",
       "4              4   2307401184189569202  2017-09-27\n",
       "...          ...                   ...         ...\n",
       "97389          2  18363291481961487539  2017-07-29\n",
       "97390          1  18370831553019119586  2018-01-25\n",
       "97391          4  18387297585500748294  2018-03-03\n",
       "97392          5  18388616944624776485  2017-11-02\n",
       "97393          2  18396128934054549559  2017-09-10\n",
       "\n",
       "[97394 rows x 3 columns]"
      ]
     },
     "execution_count": 77,
     "metadata": {},
     "output_type": "execute_result"
    }
   ],
   "source": [
    "#combina los dos DataFrames\n",
    "primera_data_usuarios = (\n",
    "    pd\n",
    "    .merge(primera_fuente_usuarios,\n",
    "           primera_compra_usuarios,\n",
    "           on='uid',\n",
    "           how='inner')\n",
    ")\n",
    "primera_data_usuarios"
   ]
  },
  {
   "cell_type": "code",
   "execution_count": 78,
   "metadata": {},
   "outputs": [
    {
     "data": {
      "text/html": [
       "<div>\n",
       "<style scoped>\n",
       "    .dataframe tbody tr th:only-of-type {\n",
       "        vertical-align: middle;\n",
       "    }\n",
       "\n",
       "    .dataframe tbody tr th {\n",
       "        vertical-align: top;\n",
       "    }\n",
       "\n",
       "    .dataframe thead th {\n",
       "        text-align: right;\n",
       "    }\n",
       "</style>\n",
       "<table border=\"1\" class=\"dataframe\">\n",
       "  <thead>\n",
       "    <tr style=\"text-align: right;\">\n",
       "      <th></th>\n",
       "      <th>source_id</th>\n",
       "      <th>dia_compras</th>\n",
       "      <th>cantidad_compradores</th>\n",
       "    </tr>\n",
       "  </thead>\n",
       "  <tbody>\n",
       "    <tr>\n",
       "      <th>0</th>\n",
       "      <td>1</td>\n",
       "      <td>2017-06-01</td>\n",
       "      <td>21</td>\n",
       "    </tr>\n",
       "    <tr>\n",
       "      <th>1</th>\n",
       "      <td>1</td>\n",
       "      <td>2017-06-02</td>\n",
       "      <td>19</td>\n",
       "    </tr>\n",
       "    <tr>\n",
       "      <th>2</th>\n",
       "      <td>1</td>\n",
       "      <td>2017-06-03</td>\n",
       "      <td>11</td>\n",
       "    </tr>\n",
       "    <tr>\n",
       "      <th>3</th>\n",
       "      <td>1</td>\n",
       "      <td>2017-06-04</td>\n",
       "      <td>8</td>\n",
       "    </tr>\n",
       "    <tr>\n",
       "      <th>4</th>\n",
       "      <td>1</td>\n",
       "      <td>2017-06-05</td>\n",
       "      <td>36</td>\n",
       "    </tr>\n",
       "    <tr>\n",
       "      <th>...</th>\n",
       "      <td>...</td>\n",
       "      <td>...</td>\n",
       "      <td>...</td>\n",
       "    </tr>\n",
       "    <tr>\n",
       "      <th>2501</th>\n",
       "      <td>10</td>\n",
       "      <td>2018-05-27</td>\n",
       "      <td>2</td>\n",
       "    </tr>\n",
       "    <tr>\n",
       "      <th>2502</th>\n",
       "      <td>10</td>\n",
       "      <td>2018-05-28</td>\n",
       "      <td>11</td>\n",
       "    </tr>\n",
       "    <tr>\n",
       "      <th>2503</th>\n",
       "      <td>10</td>\n",
       "      <td>2018-05-29</td>\n",
       "      <td>8</td>\n",
       "    </tr>\n",
       "    <tr>\n",
       "      <th>2504</th>\n",
       "      <td>10</td>\n",
       "      <td>2018-05-30</td>\n",
       "      <td>5</td>\n",
       "    </tr>\n",
       "    <tr>\n",
       "      <th>2505</th>\n",
       "      <td>10</td>\n",
       "      <td>2018-05-31</td>\n",
       "      <td>45</td>\n",
       "    </tr>\n",
       "  </tbody>\n",
       "</table>\n",
       "<p>2506 rows × 3 columns</p>\n",
       "</div>"
      ],
      "text/plain": [
       "      source_id dia_compras  cantidad_compradores\n",
       "0             1  2017-06-01                    21\n",
       "1             1  2017-06-02                    19\n",
       "2             1  2017-06-03                    11\n",
       "3             1  2017-06-04                     8\n",
       "4             1  2017-06-05                    36\n",
       "...         ...         ...                   ...\n",
       "2501         10  2018-05-27                     2\n",
       "2502         10  2018-05-28                    11\n",
       "2503         10  2018-05-29                     8\n",
       "2504         10  2018-05-30                     5\n",
       "2505         10  2018-05-31                    45\n",
       "\n",
       "[2506 rows x 3 columns]"
      ]
     },
     "execution_count": 78,
     "metadata": {},
     "output_type": "execute_result"
    }
   ],
   "source": [
    "# Agrupa lo anterior por fuente y fecha para contar la cantidad diferente de compradores\n",
    "\n",
    "data_compradores_fecha_fuente = (primera_data_usuarios\n",
    "                                 .groupby(['source_id','dia_compras'])\n",
    "                                 .agg(cantidad_compradores=('uid','nunique'))\n",
    "                                 .reset_index())\n",
    " \n",
    "data_compradores_fecha_fuente"
   ]
  },
  {
   "cell_type": "code",
   "execution_count": 79,
   "metadata": {},
   "outputs": [
    {
     "data": {
      "text/html": [
       "<div>\n",
       "<style scoped>\n",
       "    .dataframe tbody tr th:only-of-type {\n",
       "        vertical-align: middle;\n",
       "    }\n",
       "\n",
       "    .dataframe tbody tr th {\n",
       "        vertical-align: top;\n",
       "    }\n",
       "\n",
       "    .dataframe thead th {\n",
       "        text-align: right;\n",
       "    }\n",
       "</style>\n",
       "<table border=\"1\" class=\"dataframe\">\n",
       "  <thead>\n",
       "    <tr style=\"text-align: right;\">\n",
       "      <th></th>\n",
       "      <th>source_id</th>\n",
       "      <th>dia_compras</th>\n",
       "      <th>cantidad_compradores</th>\n",
       "      <th>dt</th>\n",
       "      <th>costs</th>\n",
       "    </tr>\n",
       "  </thead>\n",
       "  <tbody>\n",
       "    <tr>\n",
       "      <th>0</th>\n",
       "      <td>1</td>\n",
       "      <td>2017-06-01</td>\n",
       "      <td>21</td>\n",
       "      <td>2017-06-01</td>\n",
       "      <td>75.20</td>\n",
       "    </tr>\n",
       "    <tr>\n",
       "      <th>1</th>\n",
       "      <td>1</td>\n",
       "      <td>2017-06-02</td>\n",
       "      <td>19</td>\n",
       "      <td>2017-06-02</td>\n",
       "      <td>62.25</td>\n",
       "    </tr>\n",
       "    <tr>\n",
       "      <th>2</th>\n",
       "      <td>1</td>\n",
       "      <td>2017-06-03</td>\n",
       "      <td>11</td>\n",
       "      <td>2017-06-03</td>\n",
       "      <td>36.53</td>\n",
       "    </tr>\n",
       "    <tr>\n",
       "      <th>3</th>\n",
       "      <td>1</td>\n",
       "      <td>2017-06-04</td>\n",
       "      <td>8</td>\n",
       "      <td>2017-06-04</td>\n",
       "      <td>55.00</td>\n",
       "    </tr>\n",
       "    <tr>\n",
       "      <th>4</th>\n",
       "      <td>1</td>\n",
       "      <td>2017-06-05</td>\n",
       "      <td>36</td>\n",
       "      <td>2017-06-05</td>\n",
       "      <td>57.08</td>\n",
       "    </tr>\n",
       "    <tr>\n",
       "      <th>...</th>\n",
       "      <td>...</td>\n",
       "      <td>...</td>\n",
       "      <td>...</td>\n",
       "      <td>...</td>\n",
       "      <td>...</td>\n",
       "    </tr>\n",
       "    <tr>\n",
       "      <th>2499</th>\n",
       "      <td>10</td>\n",
       "      <td>2018-05-27</td>\n",
       "      <td>2</td>\n",
       "      <td>2018-05-27</td>\n",
       "      <td>9.92</td>\n",
       "    </tr>\n",
       "    <tr>\n",
       "      <th>2500</th>\n",
       "      <td>10</td>\n",
       "      <td>2018-05-28</td>\n",
       "      <td>11</td>\n",
       "      <td>2018-05-28</td>\n",
       "      <td>21.26</td>\n",
       "    </tr>\n",
       "    <tr>\n",
       "      <th>2501</th>\n",
       "      <td>10</td>\n",
       "      <td>2018-05-29</td>\n",
       "      <td>8</td>\n",
       "      <td>2018-05-29</td>\n",
       "      <td>11.32</td>\n",
       "    </tr>\n",
       "    <tr>\n",
       "      <th>2502</th>\n",
       "      <td>10</td>\n",
       "      <td>2018-05-30</td>\n",
       "      <td>5</td>\n",
       "      <td>2018-05-30</td>\n",
       "      <td>33.15</td>\n",
       "    </tr>\n",
       "    <tr>\n",
       "      <th>2503</th>\n",
       "      <td>10</td>\n",
       "      <td>2018-05-31</td>\n",
       "      <td>45</td>\n",
       "      <td>2018-05-31</td>\n",
       "      <td>17.60</td>\n",
       "    </tr>\n",
       "  </tbody>\n",
       "</table>\n",
       "<p>2504 rows × 5 columns</p>\n",
       "</div>"
      ],
      "text/plain": [
       "      source_id dia_compras  cantidad_compradores         dt  costs\n",
       "0             1  2017-06-01                    21 2017-06-01  75.20\n",
       "1             1  2017-06-02                    19 2017-06-02  62.25\n",
       "2             1  2017-06-03                    11 2017-06-03  36.53\n",
       "3             1  2017-06-04                     8 2017-06-04  55.00\n",
       "4             1  2017-06-05                    36 2017-06-05  57.08\n",
       "...         ...         ...                   ...        ...    ...\n",
       "2499         10  2018-05-27                     2 2018-05-27   9.92\n",
       "2500         10  2018-05-28                    11 2018-05-28  21.26\n",
       "2501         10  2018-05-29                     8 2018-05-29  11.32\n",
       "2502         10  2018-05-30                     5 2018-05-30  33.15\n",
       "2503         10  2018-05-31                    45 2018-05-31  17.60\n",
       "\n",
       "[2504 rows x 5 columns]"
      ]
     },
     "execution_count": 79,
     "metadata": {},
     "output_type": "execute_result"
    }
   ],
   "source": [
    "# primero hacemos a formato pd.to_datetime la fecha de la tabla costos y la nueva tabla la columna data_compradores_fecha_fuente\n",
    "cost_raw['dt'] = pd.to_datetime(cost_raw['dt'])\n",
    "data_compradores_fecha_fuente['dia_compras'] = pd.to_datetime(data_compradores_fecha_fuente['dia_compras'])\n",
    "\n",
    "#combiamos dos tablas data_compradores_fecha_fuente quedando a la izquierda y  a la derecha cost_raw\n",
    "usuarios_costos_fecha_fuente = (\n",
    "    pd\n",
    "    .merge(data_compradores_fecha_fuente,\n",
    "           cost_raw,\n",
    "           left_on=['source_id','dia_compras'],\n",
    "           right_on=['source_id','dt']\n",
    "          )\n",
    ")\n",
    "usuarios_costos_fecha_fuente"
   ]
  },
  {
   "cell_type": "code",
   "execution_count": 80,
   "metadata": {},
   "outputs": [
    {
     "data": {
      "text/html": [
       "<div>\n",
       "<style scoped>\n",
       "    .dataframe tbody tr th:only-of-type {\n",
       "        vertical-align: middle;\n",
       "    }\n",
       "\n",
       "    .dataframe tbody tr th {\n",
       "        vertical-align: top;\n",
       "    }\n",
       "\n",
       "    .dataframe thead th {\n",
       "        text-align: right;\n",
       "    }\n",
       "</style>\n",
       "<table border=\"1\" class=\"dataframe\">\n",
       "  <thead>\n",
       "    <tr style=\"text-align: right;\">\n",
       "      <th></th>\n",
       "      <th>source_id</th>\n",
       "      <th>dia_compras</th>\n",
       "      <th>cantidad_compradores</th>\n",
       "      <th>dt</th>\n",
       "      <th>costs</th>\n",
       "      <th>cac</th>\n",
       "    </tr>\n",
       "  </thead>\n",
       "  <tbody>\n",
       "    <tr>\n",
       "      <th>0</th>\n",
       "      <td>1</td>\n",
       "      <td>2017-06-01</td>\n",
       "      <td>21</td>\n",
       "      <td>2017-06-01</td>\n",
       "      <td>75.20</td>\n",
       "      <td>3.580952</td>\n",
       "    </tr>\n",
       "    <tr>\n",
       "      <th>1</th>\n",
       "      <td>1</td>\n",
       "      <td>2017-06-02</td>\n",
       "      <td>19</td>\n",
       "      <td>2017-06-02</td>\n",
       "      <td>62.25</td>\n",
       "      <td>3.276316</td>\n",
       "    </tr>\n",
       "    <tr>\n",
       "      <th>2</th>\n",
       "      <td>1</td>\n",
       "      <td>2017-06-03</td>\n",
       "      <td>11</td>\n",
       "      <td>2017-06-03</td>\n",
       "      <td>36.53</td>\n",
       "      <td>3.320909</td>\n",
       "    </tr>\n",
       "    <tr>\n",
       "      <th>3</th>\n",
       "      <td>1</td>\n",
       "      <td>2017-06-04</td>\n",
       "      <td>8</td>\n",
       "      <td>2017-06-04</td>\n",
       "      <td>55.00</td>\n",
       "      <td>6.875000</td>\n",
       "    </tr>\n",
       "    <tr>\n",
       "      <th>4</th>\n",
       "      <td>1</td>\n",
       "      <td>2017-06-05</td>\n",
       "      <td>36</td>\n",
       "      <td>2017-06-05</td>\n",
       "      <td>57.08</td>\n",
       "      <td>1.585556</td>\n",
       "    </tr>\n",
       "    <tr>\n",
       "      <th>...</th>\n",
       "      <td>...</td>\n",
       "      <td>...</td>\n",
       "      <td>...</td>\n",
       "      <td>...</td>\n",
       "      <td>...</td>\n",
       "      <td>...</td>\n",
       "    </tr>\n",
       "    <tr>\n",
       "      <th>2499</th>\n",
       "      <td>10</td>\n",
       "      <td>2018-05-27</td>\n",
       "      <td>2</td>\n",
       "      <td>2018-05-27</td>\n",
       "      <td>9.92</td>\n",
       "      <td>4.960000</td>\n",
       "    </tr>\n",
       "    <tr>\n",
       "      <th>2500</th>\n",
       "      <td>10</td>\n",
       "      <td>2018-05-28</td>\n",
       "      <td>11</td>\n",
       "      <td>2018-05-28</td>\n",
       "      <td>21.26</td>\n",
       "      <td>1.932727</td>\n",
       "    </tr>\n",
       "    <tr>\n",
       "      <th>2501</th>\n",
       "      <td>10</td>\n",
       "      <td>2018-05-29</td>\n",
       "      <td>8</td>\n",
       "      <td>2018-05-29</td>\n",
       "      <td>11.32</td>\n",
       "      <td>1.415000</td>\n",
       "    </tr>\n",
       "    <tr>\n",
       "      <th>2502</th>\n",
       "      <td>10</td>\n",
       "      <td>2018-05-30</td>\n",
       "      <td>5</td>\n",
       "      <td>2018-05-30</td>\n",
       "      <td>33.15</td>\n",
       "      <td>6.630000</td>\n",
       "    </tr>\n",
       "    <tr>\n",
       "      <th>2503</th>\n",
       "      <td>10</td>\n",
       "      <td>2018-05-31</td>\n",
       "      <td>45</td>\n",
       "      <td>2018-05-31</td>\n",
       "      <td>17.60</td>\n",
       "      <td>0.391111</td>\n",
       "    </tr>\n",
       "  </tbody>\n",
       "</table>\n",
       "<p>2504 rows × 6 columns</p>\n",
       "</div>"
      ],
      "text/plain": [
       "      source_id dia_compras  cantidad_compradores         dt  costs       cac\n",
       "0             1  2017-06-01                    21 2017-06-01  75.20  3.580952\n",
       "1             1  2017-06-02                    19 2017-06-02  62.25  3.276316\n",
       "2             1  2017-06-03                    11 2017-06-03  36.53  3.320909\n",
       "3             1  2017-06-04                     8 2017-06-04  55.00  6.875000\n",
       "4             1  2017-06-05                    36 2017-06-05  57.08  1.585556\n",
       "...         ...         ...                   ...        ...    ...       ...\n",
       "2499         10  2018-05-27                     2 2018-05-27   9.92  4.960000\n",
       "2500         10  2018-05-28                    11 2018-05-28  21.26  1.932727\n",
       "2501         10  2018-05-29                     8 2018-05-29  11.32  1.415000\n",
       "2502         10  2018-05-30                     5 2018-05-30  33.15  6.630000\n",
       "2503         10  2018-05-31                    45 2018-05-31  17.60  0.391111\n",
       "\n",
       "[2504 rows x 6 columns]"
      ]
     },
     "execution_count": 80,
     "metadata": {},
     "output_type": "execute_result"
    }
   ],
   "source": [
    "#  El CAC diario es el costo del día, dividido la cantidad de compradores\n",
    "usuarios_costos_fecha_fuente['cac'] = (\n",
    "    usuarios_costos_fecha_fuente['costs']\n",
    "    /usuarios_costos_fecha_fuente['cantidad_compradores']\n",
    ")\n",
    "\n",
    "usuarios_costos_fecha_fuente"
   ]
  },
  {
   "cell_type": "code",
   "execution_count": 81,
   "metadata": {},
   "outputs": [
    {
     "data": {
      "text/html": [
       "<div>\n",
       "<style scoped>\n",
       "    .dataframe tbody tr th:only-of-type {\n",
       "        vertical-align: middle;\n",
       "    }\n",
       "\n",
       "    .dataframe tbody tr th {\n",
       "        vertical-align: top;\n",
       "    }\n",
       "\n",
       "    .dataframe thead th {\n",
       "        text-align: right;\n",
       "    }\n",
       "</style>\n",
       "<table border=\"1\" class=\"dataframe\">\n",
       "  <thead>\n",
       "    <tr style=\"text-align: right;\">\n",
       "      <th></th>\n",
       "      <th>source_id</th>\n",
       "      <th>dia_compras</th>\n",
       "      <th>cantidad_compradores</th>\n",
       "      <th>dt</th>\n",
       "      <th>costs</th>\n",
       "      <th>cac</th>\n",
       "    </tr>\n",
       "  </thead>\n",
       "  <tbody>\n",
       "    <tr>\n",
       "      <th>0</th>\n",
       "      <td>1</td>\n",
       "      <td>2017-06-01</td>\n",
       "      <td>14</td>\n",
       "      <td>2017-06-01</td>\n",
       "      <td>75.20</td>\n",
       "      <td>5.371429</td>\n",
       "    </tr>\n",
       "    <tr>\n",
       "      <th>1</th>\n",
       "      <td>1</td>\n",
       "      <td>2017-06-02</td>\n",
       "      <td>7</td>\n",
       "      <td>2017-06-02</td>\n",
       "      <td>62.25</td>\n",
       "      <td>8.892857</td>\n",
       "    </tr>\n",
       "    <tr>\n",
       "      <th>2</th>\n",
       "      <td>1</td>\n",
       "      <td>2017-06-03</td>\n",
       "      <td>7</td>\n",
       "      <td>2017-06-03</td>\n",
       "      <td>36.53</td>\n",
       "      <td>5.218571</td>\n",
       "    </tr>\n",
       "    <tr>\n",
       "      <th>3</th>\n",
       "      <td>1</td>\n",
       "      <td>2017-06-04</td>\n",
       "      <td>3</td>\n",
       "      <td>2017-06-04</td>\n",
       "      <td>55.00</td>\n",
       "      <td>18.333333</td>\n",
       "    </tr>\n",
       "    <tr>\n",
       "      <th>4</th>\n",
       "      <td>1</td>\n",
       "      <td>2017-06-05</td>\n",
       "      <td>18</td>\n",
       "      <td>2017-06-05</td>\n",
       "      <td>57.08</td>\n",
       "      <td>3.171111</td>\n",
       "    </tr>\n",
       "    <tr>\n",
       "      <th>...</th>\n",
       "      <td>...</td>\n",
       "      <td>...</td>\n",
       "      <td>...</td>\n",
       "      <td>...</td>\n",
       "      <td>...</td>\n",
       "      <td>...</td>\n",
       "    </tr>\n",
       "    <tr>\n",
       "      <th>2428</th>\n",
       "      <td>10</td>\n",
       "      <td>2018-05-27</td>\n",
       "      <td>2</td>\n",
       "      <td>2018-05-27</td>\n",
       "      <td>9.92</td>\n",
       "      <td>4.960000</td>\n",
       "    </tr>\n",
       "    <tr>\n",
       "      <th>2429</th>\n",
       "      <td>10</td>\n",
       "      <td>2018-05-28</td>\n",
       "      <td>10</td>\n",
       "      <td>2018-05-28</td>\n",
       "      <td>21.26</td>\n",
       "      <td>2.126000</td>\n",
       "    </tr>\n",
       "    <tr>\n",
       "      <th>2430</th>\n",
       "      <td>10</td>\n",
       "      <td>2018-05-29</td>\n",
       "      <td>7</td>\n",
       "      <td>2018-05-29</td>\n",
       "      <td>11.32</td>\n",
       "      <td>1.617143</td>\n",
       "    </tr>\n",
       "    <tr>\n",
       "      <th>2431</th>\n",
       "      <td>10</td>\n",
       "      <td>2018-05-30</td>\n",
       "      <td>5</td>\n",
       "      <td>2018-05-30</td>\n",
       "      <td>33.15</td>\n",
       "      <td>6.630000</td>\n",
       "    </tr>\n",
       "    <tr>\n",
       "      <th>2432</th>\n",
       "      <td>10</td>\n",
       "      <td>2018-05-31</td>\n",
       "      <td>35</td>\n",
       "      <td>2018-05-31</td>\n",
       "      <td>17.60</td>\n",
       "      <td>0.502857</td>\n",
       "    </tr>\n",
       "  </tbody>\n",
       "</table>\n",
       "<p>2433 rows × 6 columns</p>\n",
       "</div>"
      ],
      "text/plain": [
       "      source_id dia_compras  cantidad_compradores         dt  costs        cac\n",
       "0             1  2017-06-01                    14 2017-06-01  75.20   5.371429\n",
       "1             1  2017-06-02                     7 2017-06-02  62.25   8.892857\n",
       "2             1  2017-06-03                     7 2017-06-03  36.53   5.218571\n",
       "3             1  2017-06-04                     3 2017-06-04  55.00  18.333333\n",
       "4             1  2017-06-05                    18 2017-06-05  57.08   3.171111\n",
       "...         ...         ...                   ...        ...    ...        ...\n",
       "2428         10  2018-05-27                     2 2018-05-27   9.92   4.960000\n",
       "2429         10  2018-05-28                    10 2018-05-28  21.26   2.126000\n",
       "2430         10  2018-05-29                     7 2018-05-29  11.32   1.617143\n",
       "2431         10  2018-05-30                     5 2018-05-30  33.15   6.630000\n",
       "2432         10  2018-05-31                    35 2018-05-31  17.60   0.502857\n",
       "\n",
       "[2433 rows x 6 columns]"
      ]
     },
     "execution_count": 81,
     "metadata": {},
     "output_type": "execute_result"
    }
   ],
   "source": [
    "# Para cada usuario debes tener la fuente de la primera visita y la fecha de la primera compra\n",
    "primera_fuente_usuarios = (\n",
    "    visitor_raw\n",
    "    .sort_values('start_ts', ascending=True)\n",
    "    .groupby('uid')\n",
    "    .first()\n",
    "    .reset_index()\n",
    "    [['uid','source_id']]\n",
    ")\n",
    "\n",
    "primera_compra_usuarios = (\n",
    "    orders_raw\n",
    "    .sort_values('buy_ts', ascending=True)\n",
    "    .groupby('uid')\n",
    "    .first()\n",
    "    .reset_index()\n",
    "    [['uid','dia_compras']]\n",
    ")\n",
    "\n",
    "primera_data_usuarios = (\n",
    "    pd\n",
    "    .merge(primera_fuente_usuarios,\n",
    "           primera_compra_usuarios,\n",
    "           on='uid',\n",
    "           how='inner')\n",
    ")\n",
    "\n",
    "# Agrupa lo anterior por fuente y fecha para contar la cantidad diferente de compradores\n",
    "data_compradores_fecha_fuente = (\n",
    "    primera_data_usuarios\n",
    "    .groupby(['source_id','dia_compras'])\n",
    "    .agg(cantidad_compradores=('uid','nunique'))\n",
    "    .reset_index()\n",
    ")\n",
    "\n",
    "# A lo anterior une los costos por fecha y fuente\n",
    "cost_raw['dt'] = pd.to_datetime(cost_raw['dt'])\n",
    "data_compradores_fecha_fuente['dia_compras'] = pd.to_datetime(data_compradores_fecha_fuente['dia_compras'])\n",
    "usuarios_costos_fecha_fuente = (\n",
    "    pd\n",
    "    .merge(data_compradores_fecha_fuente,\n",
    "           cost_raw,\n",
    "           left_on=['source_id','dia_compras'],\n",
    "           right_on=['source_id','dt']\n",
    "          )\n",
    ")\n",
    "usuarios_costos_fecha_fuente\n",
    "\n",
    "#  El cac diario es el costo del día, dividido la cantidad de compradores\n",
    "usuarios_costos_fecha_fuente['cac'] = (\n",
    "    usuarios_costos_fecha_fuente['costs']\n",
    "    /usuarios_costos_fecha_fuente['cantidad_compradores']\n",
    ")\n",
    "\n",
    "usuarios_costos_fecha_fuente"
   ]
  },
  {
   "cell_type": "code",
   "execution_count": null,
   "metadata": {},
   "outputs": [],
   "source": [
    "# AHORA REALIZA EL ÚLTIMO PASO\n",
    "## Obtén un cac por fuente: agrupa los cac diarios por fuente y obtén el promedio como el cac por fuente \n"
   ]
  },
  {
   "cell_type": "markdown",
   "metadata": {},
   "source": [
    "<div class=\"alert alert-block alert-info\">\n",
    "<b>Listo y tambien lo grafique.</b> <a class=\"tocSkip\"></a>\n",
    "</div>"
   ]
  },
  {
   "cell_type": "code",
   "execution_count": null,
   "metadata": {},
   "outputs": [
    {
     "data": {
      "text/html": [
       "<div>\n",
       "<style scoped>\n",
       "    .dataframe tbody tr th:only-of-type {\n",
       "        vertical-align: middle;\n",
       "    }\n",
       "\n",
       "    .dataframe tbody tr th {\n",
       "        vertical-align: top;\n",
       "    }\n",
       "\n",
       "    .dataframe thead th {\n",
       "        text-align: right;\n",
       "    }\n",
       "</style>\n",
       "<table border=\"1\" class=\"dataframe\">\n",
       "  <thead>\n",
       "    <tr style=\"text-align: right;\">\n",
       "      <th></th>\n",
       "      <th>source_id</th>\n",
       "      <th>cac_promedio</th>\n",
       "    </tr>\n",
       "  </thead>\n",
       "  <tbody>\n",
       "    <tr>\n",
       "      <th>0</th>\n",
       "      <td>1</td>\n",
       "      <td>9.489732</td>\n",
       "    </tr>\n",
       "    <tr>\n",
       "      <th>1</th>\n",
       "      <td>2</td>\n",
       "      <td>16.287024</td>\n",
       "    </tr>\n",
       "    <tr>\n",
       "      <th>2</th>\n",
       "      <td>3</td>\n",
       "      <td>15.580474</td>\n",
       "    </tr>\n",
       "    <tr>\n",
       "      <th>3</th>\n",
       "      <td>4</td>\n",
       "      <td>7.271743</td>\n",
       "    </tr>\n",
       "    <tr>\n",
       "      <th>4</th>\n",
       "      <td>5</td>\n",
       "      <td>8.336731</td>\n",
       "    </tr>\n",
       "    <tr>\n",
       "      <th>5</th>\n",
       "      <td>9</td>\n",
       "      <td>6.842532</td>\n",
       "    </tr>\n",
       "    <tr>\n",
       "      <th>6</th>\n",
       "      <td>10</td>\n",
       "      <td>6.555415</td>\n",
       "    </tr>\n",
       "  </tbody>\n",
       "</table>\n",
       "</div>"
      ],
      "text/plain": [
       "   source_id  cac_promedio\n",
       "0          1      9.489732\n",
       "1          2     16.287024\n",
       "2          3     15.580474\n",
       "3          4      7.271743\n",
       "4          5      8.336731\n",
       "5          9      6.842532\n",
       "6         10      6.555415"
      ]
     },
     "execution_count": 74,
     "metadata": {},
     "output_type": "execute_result"
    }
   ],
   "source": [
    "## CAC por fuente: agrupa los cac diarios por fuente y obtén el promedio como el cac por fuente \n",
    "\n",
    "cac_por_fuente = (\n",
    "    usuarios_costos_fecha_fuente\n",
    "    .groupby('source_id')\n",
    "    .agg(cac_promedio=('cac', 'mean'))  # Promedio del CAC diario por fuente\n",
    "    .reset_index())\n",
    "\n",
    "cac_por_fuente"
   ]
  },
  {
   "cell_type": "code",
   "execution_count": null,
   "metadata": {},
   "outputs": [
    {
     "name": "stderr",
     "output_type": "stream",
     "text": [
      "/var/folders/lb/kp8wpfls0cl3fyn5r3qhm7zm0000gn/T/ipykernel_812/1561262295.py:3: FutureWarning: \n",
      "\n",
      "Passing `palette` without assigning `hue` is deprecated and will be removed in v0.14.0. Assign the `x` variable to `hue` and set `legend=False` for the same effect.\n",
      "\n",
      "  sns.barplot(x='source_id', y='cac_promedio', data=cac_por_fuente, palette='Blues_r')\n"
     ]
    },
    {
     "data": {
      "image/png": "[encoded data removed]",
      "text/plain": [
       "<Figure size 1000x600 with 1 Axes>"
      ]
     },
     "metadata": {},
     "output_type": "display_data"
    }
   ],
   "source": [
    "# Crear el gráfico\n",
    "plt.figure(figsize=(10, 6))\n",
    "sns.barplot(x='source_id', y='cac_promedio', data=cac_por_fuente, palette='Blues_r')\n",
    "\n",
    "# Agregar etiquetas y título\n",
    "plt.xlabel('Fuente de Adquisición o Campaña')\n",
    "plt.ylabel('Costo de Adquisición de Clientes (CAC)')\n",
    "plt.title('Costo de Adquisición de Clientes por Fuente')\n",
    "plt.xticks(rotation=45)\n",
    "\n",
    "# Mostrar el gráfico\n",
    "plt.show()"
   ]
  },
  {
   "cell_type": "markdown",
   "metadata": {},
   "source": [
    "<div class=\"alert alert-block alert-success\">\n",
    "<b>Comentario de Revisor v6</b> <a class=\"tocSkip\"></a>\n",
    "\n",
    "Bien hecho! Está correcto\n",
    "\n",
    "</div>"
   ]
  },
  {
   "cell_type": "markdown",
   "metadata": {},
   "source": [
    "1. Costo de Adquisición de Clientes (CAC)\n",
    "\n",
    "Fuente 2 y 3 muestra el CAC más alto, lo que indica que adquirir clientes a través de esta fuente es significativamente más costoso que otras.\n",
    "\n",
    "Las fuentes 4, 9 y 10 tienen un CAC relativamente más bajo, siendo la Fuente más efectiva en términos de costos por adquisición."
   ]
  },
  {
   "cell_type": "markdown",
   "metadata": {},
   "source": [
    "### 3. ¿Cuán rentables eran las inversiones? (ROMI)"
   ]
  },
  {
   "cell_type": "markdown",
   "metadata": {},
   "source": [
    "<div class=\"alert alert-block alert-danger\">\n",
    "<b>Comentario de Revisor</b> <a class=\"tocSkip\"></a>\n",
    "\n",
    "El ROMI depende del ltv y del cac, ya que queremos ver la rentabilidad de acuerdo al valor acumulado de la vida de los usuarios y el costo de haberlos traido. Para cada fuente, con solo sus usuarios que entraron a través de dicha fuente, calculas el ltv y el cac. Luego efectivamente el romi puede ser ltv/cac.\n",
    " \n",
    "</div>"
   ]
  },
  {
   "cell_type": "markdown",
   "metadata": {},
   "source": [
    "<div class=\"alert alert-block alert-danger\">\n",
    "<b>Comentario de Revisor v4</b> <a class=\"tocSkip\"></a>\n",
    "\n",
    "Te orientaré para esta parte:\n",
    "    \n",
    "- Debes tener para cada usuario su source de primera visita, mes de primera compra y todas sus compras. Es decir, una tabla con una fila para cada compra y en cada fila tener el source de la 1era visita y mes de 1era compra del usuario correspondiente.\n",
    "   - Este primer dataframe lo puedes construir obteniendo la primera visita de cada usuario, eso te da la source de la primera visita\n",
    "   - Luego obtén la fecha de primera compra para cada usuario\n",
    "   - Haz un par de left joins para unir esta data a orders, así tendrás lo requerido\n",
    "  \n",
    "    \n",
    "- Debes iterar sobre las source. \n",
    "  - Supongamos estamos iterando sobre la source i.\n",
    "  - Filtra la tabla por la source i, de manera que solamente te quedan los usuarios que llegaron por la source i.\n",
    "  - Con esta data filtrada, calcular el tamaño inicial de cada cohorte y por otro lado, el revenue por mes de cada cohorte (hay que agregar la edad si aún no estaba calculada)\n",
    "  - Con eso calculamos un revenue por comprador de cada mes para cada cohorte\n",
    "  - Además, obtén los costos mensuales de la source i y únelos como mes de primera orden = mes de gasto\n",
    "  - Así, tendremos ltv=revenue/tamaño cohorte y cac=gasto/tamaño cohorte\n",
    "  - Finalmente ROMI = ltv/cac\n",
    "  - Presenta esto en una tabla pivote, similara como se presentó el ltv\n",
    "    \n",
    "</div>"
   ]
  },
  {
   "cell_type": "markdown",
   "metadata": {},
   "source": [
    "<div class=\"alert alert-block alert-danger\">\n",
    "<b>Comentario de Revisor v5</b> <a class=\"tocSkip\"></a>\n",
    "\n",
    "Para el ROMI te dejé las instrucciones completas, por favor, revísalas y escribe las conclusiones\n",
    "</div>"
   ]
  },
  {
   "cell_type": "code",
   "execution_count": null,
   "metadata": {},
   "outputs": [],
   "source": [
    "# INSTRUCCIONES BASE:\n",
    "# Debes tener para cada usuario su source de primera visita, mes de primera compra y todas sus compras. \n",
    "# Es decir, una tabla con una fila para cada compra y en cada fila tener el source de la 1era visita \n",
    "# y mes de 1era compra del usuario correspondiente.\n",
    "\n",
    "#   - Este primer dataframe lo puedes construir obteniendo la primera visita de cada usuario, eso te da la source de la primera visita\n",
    "#   - Luego obtén la fecha de primera compra para cada usuario\n",
    "# ESTOS DOS PASOS YA SE REALIZARON EN LA PARTE DEL CAC: primera_data_usuarios CONTIENE ESA DATA\n",
    "#   - Haz un par de left joins para unir esta data a orders, así tendrás lo requerido"
   ]
  },
  {
   "cell_type": "code",
   "execution_count": null,
   "metadata": {},
   "outputs": [
    {
     "data": {
      "text/html": [
       "<div>\n",
       "<style scoped>\n",
       "    .dataframe tbody tr th:only-of-type {\n",
       "        vertical-align: middle;\n",
       "    }\n",
       "\n",
       "    .dataframe tbody tr th {\n",
       "        vertical-align: top;\n",
       "    }\n",
       "\n",
       "    .dataframe thead th {\n",
       "        text-align: right;\n",
       "    }\n",
       "</style>\n",
       "<table border=\"1\" class=\"dataframe\">\n",
       "  <thead>\n",
       "    <tr style=\"text-align: right;\">\n",
       "      <th></th>\n",
       "      <th>uid</th>\n",
       "      <th>source_id</th>\n",
       "      <th>dia_compras</th>\n",
       "    </tr>\n",
       "  </thead>\n",
       "  <tbody>\n",
       "    <tr>\n",
       "      <th>0</th>\n",
       "      <td>313578113262317</td>\n",
       "      <td>2</td>\n",
       "      <td>2018-01-03</td>\n",
       "    </tr>\n",
       "    <tr>\n",
       "      <th>1</th>\n",
       "      <td>1575281904278712</td>\n",
       "      <td>10</td>\n",
       "      <td>2017-06-03</td>\n",
       "    </tr>\n",
       "    <tr>\n",
       "      <th>2</th>\n",
       "      <td>2429014661409475</td>\n",
       "      <td>3</td>\n",
       "      <td>2017-10-11</td>\n",
       "    </tr>\n",
       "    <tr>\n",
       "      <th>3</th>\n",
       "      <td>2464366381792757</td>\n",
       "      <td>5</td>\n",
       "      <td>2018-01-28</td>\n",
       "    </tr>\n",
       "    <tr>\n",
       "      <th>4</th>\n",
       "      <td>2551852515556206</td>\n",
       "      <td>5</td>\n",
       "      <td>2017-11-24</td>\n",
       "    </tr>\n",
       "    <tr>\n",
       "      <th>...</th>\n",
       "      <td>...</td>\n",
       "      <td>...</td>\n",
       "      <td>...</td>\n",
       "    </tr>\n",
       "    <tr>\n",
       "      <th>36518</th>\n",
       "      <td>18445147675727495770</td>\n",
       "      <td>5</td>\n",
       "      <td>2017-11-24</td>\n",
       "    </tr>\n",
       "    <tr>\n",
       "      <th>36519</th>\n",
       "      <td>18445407535914413204</td>\n",
       "      <td>3</td>\n",
       "      <td>2017-09-22</td>\n",
       "    </tr>\n",
       "    <tr>\n",
       "      <th>36520</th>\n",
       "      <td>18445601152732270159</td>\n",
       "      <td>2</td>\n",
       "      <td>2018-03-26</td>\n",
       "    </tr>\n",
       "    <tr>\n",
       "      <th>36521</th>\n",
       "      <td>18446156210226471712</td>\n",
       "      <td>3</td>\n",
       "      <td>2018-02-18</td>\n",
       "    </tr>\n",
       "    <tr>\n",
       "      <th>36522</th>\n",
       "      <td>18446167067214817906</td>\n",
       "      <td>5</td>\n",
       "      <td>2017-10-17</td>\n",
       "    </tr>\n",
       "  </tbody>\n",
       "</table>\n",
       "<p>36523 rows × 3 columns</p>\n",
       "</div>"
      ],
      "text/plain": [
       "                        uid  source_id dia_compras\n",
       "0           313578113262317          2  2018-01-03\n",
       "1          1575281904278712         10  2017-06-03\n",
       "2          2429014661409475          3  2017-10-11\n",
       "3          2464366381792757          5  2018-01-28\n",
       "4          2551852515556206          5  2017-11-24\n",
       "...                     ...        ...         ...\n",
       "36518  18445147675727495770          5  2017-11-24\n",
       "36519  18445407535914413204          3  2017-09-22\n",
       "36520  18445601152732270159          2  2018-03-26\n",
       "36521  18446156210226471712          3  2018-02-18\n",
       "36522  18446167067214817906          5  2017-10-17\n",
       "\n",
       "[36523 rows x 3 columns]"
      ]
     },
     "execution_count": 84,
     "metadata": {},
     "output_type": "execute_result"
    }
   ],
   "source": [
    "primera_data_usuarios"
   ]
  },
  {
   "cell_type": "code",
   "execution_count": null,
   "metadata": {},
   "outputs": [
    {
     "data": {
      "text/html": [
       "<div>\n",
       "<style scoped>\n",
       "    .dataframe tbody tr th:only-of-type {\n",
       "        vertical-align: middle;\n",
       "    }\n",
       "\n",
       "    .dataframe tbody tr th {\n",
       "        vertical-align: top;\n",
       "    }\n",
       "\n",
       "    .dataframe thead th {\n",
       "        text-align: right;\n",
       "    }\n",
       "</style>\n",
       "<table border=\"1\" class=\"dataframe\">\n",
       "  <thead>\n",
       "    <tr style=\"text-align: right;\">\n",
       "      <th></th>\n",
       "      <th>source_id</th>\n",
       "      <th>dia_compras</th>\n",
       "      <th>cantidad_compradores</th>\n",
       "    </tr>\n",
       "  </thead>\n",
       "  <tbody>\n",
       "    <tr>\n",
       "      <th>0</th>\n",
       "      <td>1</td>\n",
       "      <td>2017-06-01</td>\n",
       "      <td>14</td>\n",
       "    </tr>\n",
       "    <tr>\n",
       "      <th>1</th>\n",
       "      <td>1</td>\n",
       "      <td>2017-06-02</td>\n",
       "      <td>7</td>\n",
       "    </tr>\n",
       "    <tr>\n",
       "      <th>2</th>\n",
       "      <td>1</td>\n",
       "      <td>2017-06-03</td>\n",
       "      <td>7</td>\n",
       "    </tr>\n",
       "    <tr>\n",
       "      <th>3</th>\n",
       "      <td>1</td>\n",
       "      <td>2017-06-04</td>\n",
       "      <td>3</td>\n",
       "    </tr>\n",
       "    <tr>\n",
       "      <th>4</th>\n",
       "      <td>1</td>\n",
       "      <td>2017-06-05</td>\n",
       "      <td>18</td>\n",
       "    </tr>\n",
       "    <tr>\n",
       "      <th>...</th>\n",
       "      <td>...</td>\n",
       "      <td>...</td>\n",
       "      <td>...</td>\n",
       "    </tr>\n",
       "    <tr>\n",
       "      <th>2430</th>\n",
       "      <td>10</td>\n",
       "      <td>2018-05-27</td>\n",
       "      <td>2</td>\n",
       "    </tr>\n",
       "    <tr>\n",
       "      <th>2431</th>\n",
       "      <td>10</td>\n",
       "      <td>2018-05-28</td>\n",
       "      <td>10</td>\n",
       "    </tr>\n",
       "    <tr>\n",
       "      <th>2432</th>\n",
       "      <td>10</td>\n",
       "      <td>2018-05-29</td>\n",
       "      <td>7</td>\n",
       "    </tr>\n",
       "    <tr>\n",
       "      <th>2433</th>\n",
       "      <td>10</td>\n",
       "      <td>2018-05-30</td>\n",
       "      <td>5</td>\n",
       "    </tr>\n",
       "    <tr>\n",
       "      <th>2434</th>\n",
       "      <td>10</td>\n",
       "      <td>2018-05-31</td>\n",
       "      <td>35</td>\n",
       "    </tr>\n",
       "  </tbody>\n",
       "</table>\n",
       "<p>2435 rows × 3 columns</p>\n",
       "</div>"
      ],
      "text/plain": [
       "      source_id dia_compras  cantidad_compradores\n",
       "0             1  2017-06-01                    14\n",
       "1             1  2017-06-02                     7\n",
       "2             1  2017-06-03                     7\n",
       "3             1  2017-06-04                     3\n",
       "4             1  2017-06-05                    18\n",
       "...         ...         ...                   ...\n",
       "2430         10  2018-05-27                     2\n",
       "2431         10  2018-05-28                    10\n",
       "2432         10  2018-05-29                     7\n",
       "2433         10  2018-05-30                     5\n",
       "2434         10  2018-05-31                    35\n",
       "\n",
       "[2435 rows x 3 columns]"
      ]
     },
     "execution_count": 78,
     "metadata": {},
     "output_type": "execute_result"
    }
   ],
   "source": [
    "data_compradores_fecha_fuente"
   ]
  },
  {
   "cell_type": "code",
   "execution_count": null,
   "metadata": {},
   "outputs": [
    {
     "ename": "SyntaxError",
     "evalue": "incomplete input (2478364177.py, line 1)",
     "output_type": "error",
     "traceback": [
      "\u001b[0;36m  Cell \u001b[0;32mIn[5], line 1\u001b[0;36m\u001b[0m\n\u001b[0;31m    for source_i in data_compradores_fecha_fuente.source_id.unique():\u001b[0m\n\u001b[0m                                                                     ^\u001b[0m\n\u001b[0;31mSyntaxError\u001b[0m\u001b[0;31m:\u001b[0m incomplete input\n"
     ]
    }
   ],
   "source": [
    "#hacemos una funcion para que imprima cada fuente \n",
    "for source_i in data_compradores.source_id.unique():\n",
    "    \n",
    "    # Filtrar para solo tener compradores adquiridos por la (variable externa source_i que solo es 1)\n",
    "    data_compradores_i = data_compradores.query('source_id==@source_i')\n",
    "    \n",
    "    #Calcular tamaño cohorte agrupamos 'mes_primera_compra' con 'uid' y sacando clientes unicos\n",
    "    tamano_cohorte = (\n",
    "        data_compradores_i\n",
    "        .groupby('mes_primera_compra')\n",
    "        .agg(cantidad_compradores = ('uid','nunique'))\n",
    "        .reset_index()\n",
    "    )\n",
    "    \n",
    "    # Calcular revenue por mes por cohorte y agrupamos 'mes_primera_compra' y 'mes_compra' y a revenue los sumamos \n",
    "    revenue_cohorte_mes = (\n",
    "        data_compradores_i\n",
    "        .groupby(['mes_primera_compra','mes_compra'])\n",
    "        .agg(revenue_mes = ('revenue','sum'))\n",
    "        .reset_index()\n",
    "    )\n",
    "        \n",
    "    # Revenue por comprador de cada mes para cada cohorte (LTV)\n",
    "    #combina la tabla de 'revenue_cohorte_mes' y 'tamano_cohorte' con on='mes_primera_compra' que se tomara como indice\n",
    "    ltv_source_i = (\n",
    "        pd\n",
    "        .merge(revenue_cohorte_mes,\n",
    "               tamano_cohorte,\n",
    "               on='mes_primera_compra')\n",
    "    )\n",
    "    #Aqui crearemos ingreso por cohorte de compradores que es ganancia mes / cantida de compradores\n",
    "    ltv_source_i['rev_per_buyer_cohort'] = (\n",
    "        ltv_source_i['revenue_mes']\n",
    "        /ltv_source_i['cantidad_compradores']\n",
    "    )\n",
    "    #aqui crearemos la columna mes_edad que es ltv mes_compra - ltv mes_primera_compra (lo convertimos en datetime64)/ 30 dias\n",
    "    ltv_source_i['mes_edad'] = (\n",
    "    ((ltv_source_i['mes_compra'] - ltv_source_i['mes_primera_compra'].dt.to_timestamp())\n",
    "     / np.timedelta64(30, 'D'))\n",
    "    .round()\n",
    "    .astype('int')\n",
    "    )  \n",
    "    \n",
    "    #ltv_source_i['mes_edad'] = (\n",
    "    #    ((ltv_source_i['mes_compra']\n",
    "    #     -ltv_source_i['mes_primera_compra'])\n",
    "    #    /(30* np.timedelta64(1, 'D'))).round().astype('int')\n",
    "    #)\n",
    "    \n",
    "    \n",
    "    \n",
    "    # costos mensuales de la source i y únelos como mes de primera orden = mes de gasto\n",
    "    \n",
    "    #cost_raw['mes'] = cost_raw['dt'].astype('datetime64[M]')\n",
    "    #filtramos solamente mes y lo dejamos con solamente mes sin dia.\n",
    "    cost_raw['mes'] = cost_raw['dt'].dt.to_period('M')\n",
    "    costos_mensuales_i = (\n",
    "        cost_raw\n",
    "        .query('source_id==@source_i')\n",
    "        .groupby('mes')\n",
    "        .agg(costos_mes = ('costs','sum'))\n",
    "        .reset_index()\n",
    "    )\n",
    "    # combinamos la tabla 'ltv_source_i' y 'costos_mensuales_i'\n",
    "    ltv_costos_source_i = (\n",
    "        pd\n",
    "        .merge(ltv_source_i,\n",
    "               costos_mensuales_i,\n",
    "               left_on='mes_primera_compra',\n",
    "               right_on='mes'\n",
    "              )\n",
    "    )\n",
    "    \n",
    "    # Así, tendremos ltv=revenue/tamaño cohorte \n",
    "    ltv_costos_source_i['ltv'] = (\n",
    "        ltv_costos_source_i['revenue_mes']\n",
    "        /ltv_costos_source_i['cantidad_compradores']\n",
    "    )\n",
    "    \n",
    "    #cac=gasto/tamaño cohorte\n",
    "    ltv_costos_source_i['cac'] = (\n",
    "        ltv_costos_source_i['costos_mes']\n",
    "        /ltv_costos_source_i['cantidad_compradores']\n",
    "    )\n",
    "    \n",
    "    #  - Finalmente ROMI = ltv/cac\n",
    "    ltv_costos_source_i['romi'] = (\n",
    "        ltv_costos_source_i['ltv']\n",
    "        /ltv_costos_source_i['cac']\n",
    "    )\n",
    "    \n",
    "    \n",
    "    #  - Presenta esto en una tabla pivote, similara como se presentó el ltv\n",
    "    ltv_costos_source_i_final = (\n",
    "        pd\n",
    "        .pivot_table(data=ltv_costos_source_i,\n",
    "                     index='mes_primera_compra',\n",
    "                     columns='mes_edad',\n",
    "                     values='romi')\n",
    "        .cumsum(axis=1)\n",
    "    )\n",
    "    \n",
    "    \n",
    "    if source_i==7: # esta source no tiene suficientes datos, da error\n",
    "        continue\n",
    "    plt.figure(figsize=(13,9))\n",
    "    sns.heatmap(\n",
    "        ltv_costos_source_i_final,\n",
    "        annot=True,\n",
    "        fmt='.2f',\n",
    "        linewidths=1, \n",
    "        linecolor ='grey',\n",
    "        \n",
    "    ).set_title('ROMI fuente: '+str(source_i))\n",
    "\n",
    "    plt.show()\n",
    "    \n",
    "    \n",
    "\n",
    "    "
   ]
  },
  {
   "cell_type": "code",
   "execution_count": null,
   "metadata": {
    "scrolled": false
   },
   "outputs": [
    {
     "ename": "NameError",
     "evalue": "name 'data_compradores' is not defined",
     "output_type": "error",
     "traceback": [
      "\u001b[0;31m---------------------------------------------------------------------------\u001b[0m",
      "\u001b[0;31mNameError\u001b[0m                                 Traceback (most recent call last)",
      "Cell \u001b[0;32mIn[82], line 2\u001b[0m\n\u001b[1;32m      1\u001b[0m \u001b[38;5;66;03m#hacemos una funcion para que imprima cada fuente \u001b[39;00m\n\u001b[0;32m----> 2\u001b[0m \u001b[38;5;28;01mfor\u001b[39;00m source_i \u001b[38;5;129;01min\u001b[39;00m data_compradores\u001b[38;5;241m.\u001b[39msource_id\u001b[38;5;241m.\u001b[39munique():\n\u001b[1;32m      3\u001b[0m     \n\u001b[1;32m      4\u001b[0m     \u001b[38;5;66;03m# Filtrar para solo tener compradores adquiridos por la (variable externa source_i que solo es 1)\u001b[39;00m\n\u001b[1;32m      5\u001b[0m     data_compradores_i \u001b[38;5;241m=\u001b[39m data_compradores\u001b[38;5;241m.\u001b[39mquery(\u001b[38;5;124m'\u001b[39m\u001b[38;5;124msource_id==@source_i\u001b[39m\u001b[38;5;124m'\u001b[39m)\n\u001b[1;32m      7\u001b[0m     \u001b[38;5;66;03m#Calcular tamaño cohorte agrupamos 'mes_primera_compra' con 'uid' y sacando clientes unicos\u001b[39;00m\n",
      "\u001b[0;31mNameError\u001b[0m: name 'data_compradores' is not defined"
     ]
    }
   ],
   "source": [
    "#hacemos una funcion para que imprima cada fuente \n",
    "for source_i in data_compradores.source_id.unique():\n",
    "    \n",
    "    # Filtrar para solo tener compradores adquiridos por la (variable externa source_i que solo es 1)\n",
    "    data_compradores_i = data_compradores.query('source_id==@source_i')\n",
    "    \n",
    "    #Calcular tamaño cohorte agrupamos 'mes_primera_compra' con 'uid' y sacando clientes unicos\n",
    "    tamano_cohorte = (\n",
    "        data_compradores_i\n",
    "        .groupby('mes_primera_compra')\n",
    "        .agg(cantidad_compradores = ('uid','nunique'))\n",
    "        .reset_index()\n",
    "    )\n",
    "    \n",
    "    # Calcular revenue por mes por cohorte y agrupamos 'mes_primera_compra' y 'mes_compra' y a revenue los sumamos \n",
    "    revenue_cohorte_mes = (\n",
    "        data_compradores_i\n",
    "        .groupby(['mes_primera_compra','mes_compra'])\n",
    "        .agg(revenue_mes = ('revenue','sum'))\n",
    "        .reset_index()\n",
    "    )\n",
    "        \n",
    "    # Revenue por comprador de cada mes para cada cohorte (LTV)\n",
    "    #combina la tabla de 'revenue_cohorte_mes' y 'tamano_cohorte' con on='mes_primera_compra' que se tomara como indice\n",
    "    ltv_source_i = (\n",
    "        pd\n",
    "        .merge(revenue_cohorte_mes,\n",
    "               tamano_cohorte,\n",
    "               on='mes_primera_compra')\n",
    "    )\n",
    "    #Aqui crearemos ingreso por cohorte de compradores que es ganancia mes / cantida de compradores\n",
    "    ltv_source_i['rev_per_buyer_cohort'] = (\n",
    "        ltv_source_i['revenue_mes']\n",
    "        /ltv_source_i['cantidad_compradores']\n",
    "    )\n",
    "    #aqui crearemos la columna mes_edad que es ltv mes_compra - ltv mes_primera_compra (lo convertimos en datetime64)/ 30 dias\n",
    "    ltv_source_i['mes_edad'] = (\n",
    "    ((ltv_source_i['mes_compra'] - ltv_source_i['mes_primera_compra'].dt.to_timestamp())\n",
    "     / np.timedelta64(30, 'D'))\n",
    "    .round()\n",
    "    .astype('int')\n",
    "    )  \n",
    "    \n",
    "    #ltv_source_i['mes_edad'] = (\n",
    "    #    ((ltv_source_i['mes_compra']\n",
    "    #     -ltv_source_i['mes_primera_compra'])\n",
    "    #    /(30* np.timedelta64(1, 'D'))).round().astype('int')\n",
    "    #)\n",
    "    \n",
    "    \n",
    "    \n",
    "    # costos mensuales de la source i y únelos como mes de primera orden = mes de gasto\n",
    "    \n",
    "    #cost_raw['mes'] = cost_raw['dt'].astype('datetime64[M]')\n",
    "    #filtramos solamente mes y lo dejamos con solamente mes sin dia.\n",
    "    cost_raw['mes'] = cost_raw['dt'].dt.to_period('M')\n",
    "    costos_mensuales_i = (\n",
    "        cost_raw\n",
    "        .query('source_id==@source_i')\n",
    "        .groupby('mes')\n",
    "        .agg(costos_mes = ('costs','sum'))\n",
    "        .reset_index()\n",
    "    )\n",
    "    # combinamos la tabla 'ltv_source_i' y 'costos_mensuales_i'\n",
    "    ltv_costos_source_i = (\n",
    "        pd\n",
    "        .merge(ltv_source_i,\n",
    "               costos_mensuales_i,\n",
    "               left_on='mes_primera_compra',\n",
    "               right_on='mes'\n",
    "              )\n",
    "    )\n",
    "    \n",
    "    # Así, tendremos ltv=revenue/tamaño cohorte \n",
    "    ltv_costos_source_i['ltv'] = (\n",
    "        ltv_costos_source_i['revenue_mes']\n",
    "        /ltv_costos_source_i['cantidad_compradores']\n",
    "    )\n",
    "    \n",
    "    #cac=gasto/tamaño cohorte\n",
    "    ltv_costos_source_i['cac'] = (\n",
    "        ltv_costos_source_i['costos_mes']\n",
    "        /ltv_costos_source_i['cantidad_compradores']\n",
    "    )\n",
    "    \n",
    "    #  - Finalmente ROMI = ltv/cac\n",
    "    ltv_costos_source_i['romi'] = (\n",
    "        ltv_costos_source_i['ltv']\n",
    "        /ltv_costos_source_i['cac']\n",
    "    )\n",
    "    \n",
    "    \n",
    "    #  - Presenta esto en una tabla pivote, similara como se presentó el ltv\n",
    "    ltv_costos_source_i_final = (\n",
    "        pd\n",
    "        .pivot_table(data=ltv_costos_source_i,\n",
    "                     index='mes_primera_compra',\n",
    "                     columns='mes_edad',\n",
    "                     values='romi')\n",
    "        .cumsum(axis=1)\n",
    "    )\n",
    "    \n",
    "    \n",
    "    if source_i==7: # esta source no tiene suficientes datos, da error\n",
    "        continue\n",
    "    plt.figure(figsize=(13,9))\n",
    "    sns.heatmap(\n",
    "        ltv_costos_source_i_final,\n",
    "        annot=True,\n",
    "        fmt='.2f',\n",
    "        linewidths=1, \n",
    "        linecolor ='grey',\n",
    "        \n",
    "    ).set_title('ROMI fuente: '+str(source_i))\n",
    "\n",
    "    plt.show()\n",
    "    \n",
    "    \n"
   ]
  },
  {
   "cell_type": "code",
   "execution_count": null,
   "metadata": {},
   "outputs": [],
   "source": [
    "primera_compra_usuarios"
   ]
  },
  {
   "cell_type": "markdown",
   "metadata": {},
   "source": [
    "2. Rentabilidad sobre la Inversión en Marketing (ROMI)\n",
    "\n",
    "ROMI fuente:1 \n",
    "Las cohortes más antiguas (ej. 2017-06, 2017-07) muestran un crecimiento constante en ROMI con el tiempo.\n",
    "A partir del mes 6-7, los valores superan 3.0 y alcanzan más de 5.0, lo que indica una alta rentabilidad con el tiempo.\n",
    "Esto sugiere que los usuarios adquiridos en esos meses tienen una alta retención y gasto continuo. El marketing es rentable a largo plazo\n",
    "\n",
    "ROMI fuente:2\n",
    "El ROMI más alto (2.88) ocurre para las compras realizadas en diciembre de 2017 (2017-12) al alcanzar una edad de 4 meses.\n",
    "Otros valores altos (como 2.63 y 2.39) también se encuentran en esta misma fila, lo que sugiere que el mes de diciembre de 2017 tuvo un muy buen desempeño en retorno.\n",
    "Para las compras realizadas en septiembre de 2017 (2017-09), el ROMI es alto y consistente desde los 4 meses de edad en adelante, alcanzando valores cercanos a 1.98 en 8 meses de edad.\n",
    "En general, los primeros meses suelen mostrar retornos menores, y el rendimiento mejora entre los 4 y 8 meses de edad.\n",
    "\n",
    "\n",
    "ROMI Fuente:3\n",
    "Los valores de ROMI en esta fuente son bajos y no alcanzan el valor de 1 en ninguno de los periodos. Esto significa que la inversión en marketing no se está recuperando completamente con los ingresos generados.\n",
    "Hay una tendencia de crecimiento en algunos meses, pero de manera muy gradual y sin llegar a una rentabilidad clara.\n",
    "La mejor cohorte (mes de primera compra) es octubre de 2017, con valores que superan el 0.5 después de varios meses, pero sigue sin ser rentable.\n",
    "En general, esta fuente parece poco eficiente, ya que los ingresos generados no logran justificar el gasto en adquisición de clientes.\n",
    "\n",
    "ROMI fuente:4\n",
    "Los valores comienzan cerca de 0.56 y crecen progresivamente a medida que los meses avanzan, alcanzando un pico de 1.48 en el mes de edad 7 (clientes más antiguos).\n",
    "El retorno parece consistente y sostenido, con valores superiores a 1 a partir de 5 meses de edad.\n",
    "\n",
    "ROMI Fuente:5\n",
    "Los valores de ROMI son significativamente más altos, con varias cohortes que superan el 1, lo que indica que se ha recuperado la inversión en marketing y se están obteniendo ganancias.\n",
    "Destaca la cohorte de septiembre de 2017, donde los valores crecen rápidamente y alcanzan hasta 4 en el séptimo mes de edad, lo que sugiere una fuente muy rentable.\n",
    "La mayoría de las cohortes tienen una tendencia ascendente, lo que sugiere que los clientes adquiridos a través de esta fuente generan ingresos consistentes con el tiempo.\n",
    "Comparado con la fuente 3, esta fuente es mucho más eficiente y rentable para la empresa.\n",
    "\n",
    "**ROMI fuente:9\n",
    "Muestra un comportamiento más agresivo. Inicia con valores altos (~0.85) y alcanza hasta 2.02 en el mes de edad 7.\n",
    "Los valores permanecen superiores a 1 desde los primeros meses, indicando una recuperación rápida de la inversión y beneficios significativos con el tiempo.\n",
    "el mayor crecimiento absoluto y un rendimiento superior, especialmente a partir de los meses 5 y 6.\n",
    "\n",
    "ROMI fuente:10\n",
    "Presenta un comportamiento más irregular. Los valores se encuentran mayormente debajo de 1, con algunas excepciones (p. ej., 1.25 en el mes de edad 2).\n",
    "No parece ser una fuente tan efectiva en comparación con las otras, ya que no logra retornos consistentes superiores a 1 en la mayoría de los casos.\n",
    "\n",
    "\n",
    "\n",
    "\n",
    "*** como conclusion general ***\n",
    "\n",
    "Para estrategias a largo plazo: Fuente 1 es la mejor opción, ya que muestra el mayor ROMI (> 5.0) y crecimiento constante.\n",
    "\n",
    "Para estrategias de mediano plazo: Fuente 5 es altamente rentable, con un crecimiento rápido y consistente.\n",
    "\n",
    "Para estrategias de corto plazo: Fuente 9 es ideal, ya que comienza con valores altos (> 1) y muestra un crecimiento agresivo en pocos meses."
   ]
  },
  {
   "cell_type": "markdown",
   "metadata": {},
   "source": [
    "<div class=\"alert alert-block alert-success\">\n",
    "<b>Comentario de Revisor v6</b> <a class=\"tocSkip\"></a>\n",
    "\n",
    "Muy bien con la separación de estrategias para las concluesiones! Efectivamente puede ocurrir que no exista un solo tipo de mejor actuar para todos los casos y hay que ajustar las acciones a la realidad de cada grupo.\n",
    "\n",
    "</div>"
   ]
  },
  {
   "cell_type": "markdown",
   "metadata": {},
   "source": [
    " # Conclusión\n",
    " \n"
   ]
  },
  {
   "cell_type": "code",
   "execution_count": null,
   "metadata": {},
   "outputs": [],
   "source": [
    "#Con base en el análisis combinado de ROMI y Costo de Adquisición de Clientes (CAC):\n",
    "\n",
    "#Fuente 1:\n",
    "#CAC: Bajo (alrededor de 8).\n",
    "#ROMI: Muy alto (>5 en cohortes más antiguas), con un crecimiento constante.\n",
    "#Ventaja: Excelente rentabilidad a largo plazo con un costo moderado de adquisición.\n",
    "\n",
    "#Fuente 5:\n",
    "#CAC: Medio (alrededor de 10).\n",
    "#ROMI: Alto (rápido crecimiento hasta 4 en el mes 7), consistente y eficiente en el mediano plazo.\n",
    "#Ventaja: Una buena opción para estrategias de mediano plazo con un balance entre costo y retorno.\n",
    "\n",
    "#Fuente 9:\n",
    "#CAC: Medio-bajo (alrededor de 9).\n",
    "#ROMI: Alto (>1 desde el inicio, alcanzando 2.02 en el mes 7).\n",
    "#Ventaja: Retorno rápido y crecimiento agresivo con un CAC moderado.\n",
    "\n",
    "\n",
    "#*** Mejor opción:***\n",
    "#Fuente 1 sigue siendo la mejor opción si se considera tanto el ROMI como el CAC\n",
    "#Tiene el CAC más bajo entre las opciones más rentables.\n",
    "#Ofrece el ROMI más alto a largo plazo con un crecimiento constante, maximizando la rentabilidad total.\n",
    "\n",
    "#Resumen:\n",
    "#Si el objetivo es largo plazo con bajo CAC: Fuente 1.\n",
    "#Si el objetivo es retorno rápido con buen ROMI: Fuente 9.\n",
    "#Si el objetivo es equilibrio en mediano plazo: Fuente 5."
   ]
  },
  {
   "cell_type": "markdown",
   "metadata": {},
   "source": [
    "Paso 3. Escribe una conclusión: aconseja a los expertos de marketing cuánto dinero invertir y dónde\n",
    "\n",
    "1. Priorizar Fuente 1:\n",
    "Motivo: Fuente 1 tiene el mejor rendimiento a largo plazo, con un ROMI >5.0 en cohortes maduras y un CAC bajo (8), lo que maximiza la rentabilidad.\n",
    "Recomendación:\n",
    "Inversión primaria: Alocar al menos el 60-70% del presupuesto de marketing en esta fuente.\n",
    "Justificación: Esto asegura que los recursos estén enfocados en una estrategia que genera un retorno alto y consistente, con un costo de adquisición competitivo.\n",
    "\n",
    "2. Distribución del presupuesto restante:\n",
    "Fuente 5:\n",
    "Motivo: Fuente 5 tiene un buen equilibrio entre CAC (10) y un ROMI alto (>4 en el mes 7). Es una fuente rentable a mediano plazo.\n",
    "Recomendación: Invertir 20-30% del presupuesto aquí para diversificar y obtener retornos consistentes en plazos más cortos.\n",
    "Fuente 9:\n",
    "Motivo: Aunque no es tan rentable a largo plazo como Fuente 1, tiene un retorno rápido con ROMI >1 desde el inicio y un CAC moderado (9).\n",
    "Recomendación: Asignar 10-15% del presupuesto para probar estrategias que capturen retornos rápidos mientras se trabaja en la consolidación de estrategias a largo plazo.\n",
    "\n",
    "3. Estimación de inversión total:\n",
    "Para estimar el monto a invertir:\n",
    "Calcular el presupuesto total disponible para marketing.\n",
    "Definir un objetivo de crecimiento, por ejemplo:\n",
    "Si el CAC de la Fuente 1 es 8 y se espera adquirir 10,000 clientes, se necesitarán $80,000.\n",
    "Ajustar este monto según las proyecciones de ingresos y el flujo de efectivo.\n",
    "\n",
    "4. Medición y optimización constante:\n",
    "Revisar periódicamente el rendimiento de cada fuente (cada mes o trimestre).\n",
    "Redistribuir el presupuesto si otras fuentes, como Fuente 5 o Fuente 9, comienzan a mostrar un mejor rendimiento o si el CAC de la Fuente 1 aumenta significativamente.\n",
    "\n",
    "5. Consideraciones estratégicas:\n",
    "Mantener diversificación: No depender exclusivamente de una fuente, aunque sea la más rentable, para mitigar riesgos de saturación o cambios en la efectividad.\n",
    "Escalar gradualmente: Si se planea aumentar la inversión en Fuente 1, hacerlo de manera controlada para no perder eficiencia en el gasto.\n",
    "En resumen, enfocar el 60-70% del presupuesto en Fuente 1, con el resto en Fuente 5 y Fuente 9 como opciones secundarias, sería una estrategia sólida para maximizar retornos en el corto y largo plazo."
   ]
  },
  {
   "cell_type": "markdown",
   "metadata": {},
   "source": [
    "<div class=\"alert alert-block alert-info\">\n",
    "<b>Muchas Gracias\n",
    "\n",
    "Analice todo los codigos que me mando y a algunos los modifique y los adapte a mi trabajo agregando notas para volverlo a estudiar mas tarde y en caso que necesite este trabajo para guiarme a un futuro de el la verdad que desde que entre no habia tenido tantas revisiones siempre maximo eran 3 y en este proyecto lo senti muy completo con muchas metricas me gusta porque se aprende y saber para lo que trabajaremos pero en lo personal este proyecto ya empezaba a frustrarme porque por mas que intentaba no entendia y de la mano la desmotivacion porque se que estoy eliguiendo esta carrera y si un proyecto tan simple me empece a frustrar que toca pensar cuando trabaje dare mi mayor esfuerzo y pues lo que busco es un trabajo de analista de datos junior y que me den la oportunidad de crecer y aprender al mismo tiempo sin mas por decir muchas, muchas gracias por su ayuda y estamos pendiente si falta alguna modificacion o comentario\n",
    "\n",
    "una pregunta para subir al GitHub mi trabajo me recomienda dejar todas las revisiones que me ha puesto y los comentarios azules dejarlos o eso los retiro para no confundir \n",
    "\n",
    "saludos  </b> <a class=\"tocSkip\"></a>\n",
    "</div>"
   ]
  },
  {
   "cell_type": "markdown",
   "metadata": {},
   "source": [
    "<div class=\"alert alert-block alert-success\">\n",
    "<b>Comentario de Revisor v6</b> <a class=\"tocSkip\"></a>\n",
    "\n",
    "No hay problema Elpidio, te comento de todas formas que este notebook es de lo más complicados en términos de métricas y manejo de data para generarlas. Es común que a los estudiantes les tome más revisiones para aprobarlo, no te sientas mal por ello.\n",
    "    \n",
    "Para subirlo a github te recomiendo retirar comentarios de cualquier tipo.\n",
    "\n",
    "</div>"
   ]
  },
  {
   "cell_type": "markdown",
   "metadata": {},
   "source": [
    "<div class=\"alert alert-block alert-info\">\n",
    "<b>No se que tomar de dato para sacar la conclusion que me piden se que la las visitas en la web entran mas con equipos de computo y la fuente o campaña la mejor es la #4 y tengo varias metricas mas pero no se con cual determinar cuanto dinero y donde invertir solo se que invertir seria en equipos de computo y campaña o fuente #4 pero con forme de cuanto dinero no se que metricas ocupar o como hacer mi analisis no se si me podrian apoyar en que visualizar para hacer mi conclusion saludos..</b> <a class=\"tocSkip\"></a>\n",
    "</div>"
   ]
  },
  {
   "cell_type": "markdown",
   "metadata": {},
   "source": [
    "<div class=\"alert alert-block alert-danger\">\n",
    "<b>Comentario de Revisor v3</b> <a class=\"tocSkip\"></a>\n",
    "\n",
    "Esto debes determinarlo con las siguientes partes, donde evaluas el costo del marketing, la cantidad de usuarios que trae la inversión de cada fuente y finalmente el retorno en la inversión sobre cada fuente\n",
    "\n",
    "</div>"
   ]
  }
 ],
 "metadata": {
  "ExecuteTimeLog": [
   {
    "duration": 2858,
    "start_time": "2025-01-21T22:30:05.328Z"
   },
   {
    "duration": 0,
    "start_time": "2025-01-21T22:30:08.190Z"
   },
   {
    "duration": 0,
    "start_time": "2025-01-21T22:30:08.192Z"
   },
   {
    "duration": 0,
    "start_time": "2025-01-21T22:30:08.193Z"
   },
   {
    "duration": 0,
    "start_time": "2025-01-21T22:30:08.195Z"
   },
   {
    "duration": 0,
    "start_time": "2025-01-21T22:30:08.196Z"
   },
   {
    "duration": 0,
    "start_time": "2025-01-21T22:30:08.198Z"
   },
   {
    "duration": 0,
    "start_time": "2025-01-21T22:30:08.199Z"
   },
   {
    "duration": 0,
    "start_time": "2025-01-21T22:30:08.200Z"
   },
   {
    "duration": 0,
    "start_time": "2025-01-21T22:30:08.202Z"
   },
   {
    "duration": 0,
    "start_time": "2025-01-21T22:30:08.203Z"
   },
   {
    "duration": 0,
    "start_time": "2025-01-21T22:30:08.230Z"
   },
   {
    "duration": 0,
    "start_time": "2025-01-21T22:30:08.232Z"
   },
   {
    "duration": 0,
    "start_time": "2025-01-21T22:30:08.233Z"
   },
   {
    "duration": 1,
    "start_time": "2025-01-21T22:30:08.234Z"
   },
   {
    "duration": 0,
    "start_time": "2025-01-21T22:30:08.238Z"
   },
   {
    "duration": 0,
    "start_time": "2025-01-21T22:30:08.239Z"
   },
   {
    "duration": 0,
    "start_time": "2025-01-21T22:30:08.240Z"
   },
   {
    "duration": 0,
    "start_time": "2025-01-21T22:30:08.242Z"
   },
   {
    "duration": 0,
    "start_time": "2025-01-21T22:30:08.244Z"
   },
   {
    "duration": 0,
    "start_time": "2025-01-21T22:30:08.245Z"
   },
   {
    "duration": 0,
    "start_time": "2025-01-21T22:30:08.250Z"
   },
   {
    "duration": 0,
    "start_time": "2025-01-21T22:30:08.251Z"
   },
   {
    "duration": 0,
    "start_time": "2025-01-21T22:30:08.252Z"
   },
   {
    "duration": 1,
    "start_time": "2025-01-21T22:30:08.252Z"
   },
   {
    "duration": 0,
    "start_time": "2025-01-21T22:30:08.253Z"
   },
   {
    "duration": 0,
    "start_time": "2025-01-21T22:30:08.254Z"
   },
   {
    "duration": 0,
    "start_time": "2025-01-21T22:30:08.256Z"
   },
   {
    "duration": 0,
    "start_time": "2025-01-21T22:30:08.258Z"
   },
   {
    "duration": 0,
    "start_time": "2025-01-21T22:30:08.259Z"
   },
   {
    "duration": 0,
    "start_time": "2025-01-21T22:30:08.261Z"
   },
   {
    "duration": 0,
    "start_time": "2025-01-21T22:30:08.262Z"
   },
   {
    "duration": 0,
    "start_time": "2025-01-21T22:30:08.264Z"
   },
   {
    "duration": 0,
    "start_time": "2025-01-21T22:30:08.265Z"
   },
   {
    "duration": 0,
    "start_time": "2025-01-21T22:30:08.267Z"
   },
   {
    "duration": 0,
    "start_time": "2025-01-21T22:30:08.268Z"
   },
   {
    "duration": 0,
    "start_time": "2025-01-21T22:30:08.270Z"
   },
   {
    "duration": 0,
    "start_time": "2025-01-21T22:30:08.271Z"
   },
   {
    "duration": 0,
    "start_time": "2025-01-21T22:30:08.272Z"
   },
   {
    "duration": 0,
    "start_time": "2025-01-21T22:30:08.276Z"
   },
   {
    "duration": 0,
    "start_time": "2025-01-21T22:30:08.277Z"
   },
   {
    "duration": 0,
    "start_time": "2025-01-21T22:30:08.332Z"
   },
   {
    "duration": 0,
    "start_time": "2025-01-21T22:30:08.333Z"
   },
   {
    "duration": 0,
    "start_time": "2025-01-21T22:30:08.335Z"
   },
   {
    "duration": 0,
    "start_time": "2025-01-21T22:30:08.337Z"
   },
   {
    "duration": 0,
    "start_time": "2025-01-21T22:30:08.338Z"
   },
   {
    "duration": 0,
    "start_time": "2025-01-21T22:30:08.339Z"
   },
   {
    "duration": 1,
    "start_time": "2025-01-21T22:30:08.339Z"
   },
   {
    "duration": 0,
    "start_time": "2025-01-21T22:30:08.341Z"
   },
   {
    "duration": 0,
    "start_time": "2025-01-21T22:30:08.342Z"
   },
   {
    "duration": 0,
    "start_time": "2025-01-21T22:30:08.343Z"
   },
   {
    "duration": 0,
    "start_time": "2025-01-21T22:30:08.344Z"
   },
   {
    "duration": 0,
    "start_time": "2025-01-21T22:30:08.345Z"
   },
   {
    "duration": 0,
    "start_time": "2025-01-21T22:30:08.346Z"
   },
   {
    "duration": 0,
    "start_time": "2025-01-21T22:30:08.348Z"
   },
   {
    "duration": 0,
    "start_time": "2025-01-21T22:30:08.349Z"
   },
   {
    "duration": 0,
    "start_time": "2025-01-21T22:30:08.350Z"
   },
   {
    "duration": 0,
    "start_time": "2025-01-21T22:30:08.350Z"
   },
   {
    "duration": 0,
    "start_time": "2025-01-21T22:30:08.352Z"
   },
   {
    "duration": 0,
    "start_time": "2025-01-21T22:30:08.353Z"
   },
   {
    "duration": 0,
    "start_time": "2025-01-21T22:30:08.354Z"
   },
   {
    "duration": 0,
    "start_time": "2025-01-21T22:30:08.355Z"
   },
   {
    "duration": 0,
    "start_time": "2025-01-21T22:30:08.356Z"
   },
   {
    "duration": 0,
    "start_time": "2025-01-21T22:30:08.358Z"
   },
   {
    "duration": 0,
    "start_time": "2025-01-21T22:30:08.360Z"
   },
   {
    "duration": 3,
    "start_time": "2025-01-21T22:36:57.515Z"
   },
   {
    "duration": 2183,
    "start_time": "2025-01-21T22:36:57.520Z"
   },
   {
    "duration": 418,
    "start_time": "2025-01-21T22:36:59.706Z"
   },
   {
    "duration": 0,
    "start_time": "2025-01-21T22:37:00.133Z"
   },
   {
    "duration": 0,
    "start_time": "2025-01-21T22:37:00.134Z"
   },
   {
    "duration": 0,
    "start_time": "2025-01-21T22:37:00.135Z"
   },
   {
    "duration": 0,
    "start_time": "2025-01-21T22:37:00.136Z"
   },
   {
    "duration": 0,
    "start_time": "2025-01-21T22:37:00.137Z"
   },
   {
    "duration": 0,
    "start_time": "2025-01-21T22:37:00.140Z"
   },
   {
    "duration": 0,
    "start_time": "2025-01-21T22:37:00.142Z"
   },
   {
    "duration": 0,
    "start_time": "2025-01-21T22:37:00.143Z"
   },
   {
    "duration": 0,
    "start_time": "2025-01-21T22:37:00.145Z"
   },
   {
    "duration": 0,
    "start_time": "2025-01-21T22:37:00.146Z"
   },
   {
    "duration": 0,
    "start_time": "2025-01-21T22:37:00.148Z"
   },
   {
    "duration": 0,
    "start_time": "2025-01-21T22:37:00.149Z"
   },
   {
    "duration": 0,
    "start_time": "2025-01-21T22:37:00.151Z"
   },
   {
    "duration": 0,
    "start_time": "2025-01-21T22:37:00.152Z"
   },
   {
    "duration": 0,
    "start_time": "2025-01-21T22:37:00.153Z"
   },
   {
    "duration": 0,
    "start_time": "2025-01-21T22:37:00.155Z"
   },
   {
    "duration": 0,
    "start_time": "2025-01-21T22:37:00.156Z"
   },
   {
    "duration": 0,
    "start_time": "2025-01-21T22:37:00.157Z"
   },
   {
    "duration": 0,
    "start_time": "2025-01-21T22:37:00.158Z"
   },
   {
    "duration": 0,
    "start_time": "2025-01-21T22:37:00.159Z"
   },
   {
    "duration": 0,
    "start_time": "2025-01-21T22:37:00.160Z"
   },
   {
    "duration": 0,
    "start_time": "2025-01-21T22:37:00.161Z"
   },
   {
    "duration": 0,
    "start_time": "2025-01-21T22:37:00.162Z"
   },
   {
    "duration": 0,
    "start_time": "2025-01-21T22:37:00.163Z"
   },
   {
    "duration": 0,
    "start_time": "2025-01-21T22:37:00.165Z"
   },
   {
    "duration": 0,
    "start_time": "2025-01-21T22:37:00.166Z"
   },
   {
    "duration": 0,
    "start_time": "2025-01-21T22:37:00.167Z"
   },
   {
    "duration": 0,
    "start_time": "2025-01-21T22:37:00.168Z"
   },
   {
    "duration": 0,
    "start_time": "2025-01-21T22:37:00.169Z"
   },
   {
    "duration": 0,
    "start_time": "2025-01-21T22:37:00.170Z"
   },
   {
    "duration": 0,
    "start_time": "2025-01-21T22:37:00.171Z"
   },
   {
    "duration": 0,
    "start_time": "2025-01-21T22:37:00.172Z"
   },
   {
    "duration": 0,
    "start_time": "2025-01-21T22:37:00.173Z"
   },
   {
    "duration": 0,
    "start_time": "2025-01-21T22:37:00.174Z"
   },
   {
    "duration": 0,
    "start_time": "2025-01-21T22:37:00.232Z"
   },
   {
    "duration": 0,
    "start_time": "2025-01-21T22:37:00.233Z"
   },
   {
    "duration": 0,
    "start_time": "2025-01-21T22:37:00.234Z"
   },
   {
    "duration": 0,
    "start_time": "2025-01-21T22:37:00.236Z"
   },
   {
    "duration": 0,
    "start_time": "2025-01-21T22:37:00.238Z"
   },
   {
    "duration": 0,
    "start_time": "2025-01-21T22:37:00.239Z"
   },
   {
    "duration": 0,
    "start_time": "2025-01-21T22:37:00.240Z"
   },
   {
    "duration": 0,
    "start_time": "2025-01-21T22:37:00.241Z"
   },
   {
    "duration": 0,
    "start_time": "2025-01-21T22:37:00.242Z"
   },
   {
    "duration": 0,
    "start_time": "2025-01-21T22:37:00.244Z"
   },
   {
    "duration": 0,
    "start_time": "2025-01-21T22:37:00.245Z"
   },
   {
    "duration": 0,
    "start_time": "2025-01-21T22:37:00.246Z"
   },
   {
    "duration": 0,
    "start_time": "2025-01-21T22:37:00.247Z"
   },
   {
    "duration": 0,
    "start_time": "2025-01-21T22:37:00.248Z"
   },
   {
    "duration": 0,
    "start_time": "2025-01-21T22:37:00.249Z"
   },
   {
    "duration": 0,
    "start_time": "2025-01-21T22:37:00.250Z"
   },
   {
    "duration": 0,
    "start_time": "2025-01-21T22:37:00.251Z"
   },
   {
    "duration": 0,
    "start_time": "2025-01-21T22:37:00.252Z"
   },
   {
    "duration": 0,
    "start_time": "2025-01-21T22:37:00.258Z"
   },
   {
    "duration": 0,
    "start_time": "2025-01-21T22:37:00.259Z"
   },
   {
    "duration": 0,
    "start_time": "2025-01-21T22:37:00.260Z"
   },
   {
    "duration": 0,
    "start_time": "2025-01-21T22:37:00.261Z"
   },
   {
    "duration": 0,
    "start_time": "2025-01-21T22:37:00.262Z"
   },
   {
    "duration": 0,
    "start_time": "2025-01-21T22:37:00.263Z"
   },
   {
    "duration": 0,
    "start_time": "2025-01-21T22:37:00.265Z"
   },
   {
    "duration": 0,
    "start_time": "2025-01-21T22:37:00.266Z"
   },
   {
    "duration": 0,
    "start_time": "2025-01-21T22:37:00.268Z"
   },
   {
    "duration": 0,
    "start_time": "2025-01-21T22:37:00.269Z"
   },
   {
    "duration": 0,
    "start_time": "2025-01-21T22:37:00.271Z"
   },
   {
    "duration": 0,
    "start_time": "2025-01-21T22:37:00.331Z"
   },
   {
    "duration": 0,
    "start_time": "2025-01-21T22:37:00.332Z"
   },
   {
    "duration": 0,
    "start_time": "2025-01-21T22:37:00.333Z"
   },
   {
    "duration": 0,
    "start_time": "2025-01-21T22:37:00.335Z"
   },
   {
    "duration": 0,
    "start_time": "2025-01-21T22:37:00.336Z"
   },
   {
    "duration": 416,
    "start_time": "2025-01-21T22:37:20.118Z"
   },
   {
    "duration": 408,
    "start_time": "2025-01-21T22:37:22.596Z"
   },
   {
    "duration": 3,
    "start_time": "2025-01-21T22:37:24.471Z"
   },
   {
    "duration": 233,
    "start_time": "2025-01-21T22:37:25.616Z"
   },
   {
    "duration": 134,
    "start_time": "2025-01-21T22:37:25.851Z"
   },
   {
    "duration": 38,
    "start_time": "2025-01-21T22:37:26.061Z"
   },
   {
    "duration": 11,
    "start_time": "2025-01-21T22:37:26.476Z"
   },
   {
    "duration": 25,
    "start_time": "2025-01-21T22:37:26.732Z"
   },
   {
    "duration": 6,
    "start_time": "2025-01-21T22:37:27.004Z"
   },
   {
    "duration": 22,
    "start_time": "2025-01-21T22:37:27.850Z"
   },
   {
    "duration": 9,
    "start_time": "2025-01-21T22:37:28.212Z"
   },
   {
    "duration": 6,
    "start_time": "2025-01-21T22:37:29.038Z"
   },
   {
    "duration": 4,
    "start_time": "2025-01-21T22:37:29.396Z"
   },
   {
    "duration": 3,
    "start_time": "2025-01-21T22:37:29.765Z"
   },
   {
    "duration": 1302,
    "start_time": "2025-01-21T22:37:30.354Z"
   },
   {
    "duration": 0,
    "start_time": "2025-01-21T22:37:31.658Z"
   },
   {
    "duration": 0,
    "start_time": "2025-01-21T22:37:31.659Z"
   },
   {
    "duration": 0,
    "start_time": "2025-01-21T22:37:31.661Z"
   },
   {
    "duration": 369,
    "start_time": "2025-01-21T22:37:48.738Z"
   },
   {
    "duration": 15,
    "start_time": "2025-01-21T22:37:50.548Z"
   },
   {
    "duration": 387,
    "start_time": "2025-01-21T22:37:50.828Z"
   },
   {
    "duration": 53,
    "start_time": "2025-01-21T22:37:52.846Z"
   },
   {
    "duration": 13,
    "start_time": "2025-01-21T22:37:53.044Z"
   },
   {
    "duration": 16,
    "start_time": "2025-01-21T22:37:53.228Z"
   },
   {
    "duration": 13,
    "start_time": "2025-01-21T22:37:53.836Z"
   },
   {
    "duration": 18,
    "start_time": "2025-01-21T22:37:54.035Z"
   },
   {
    "duration": 172,
    "start_time": "2025-01-21T22:37:54.196Z"
   },
   {
    "duration": 5,
    "start_time": "2025-01-21T22:37:54.455Z"
   },
   {
    "duration": 60,
    "start_time": "2025-01-21T22:37:55.244Z"
   },
   {
    "duration": 642,
    "start_time": "2025-01-21T22:37:55.444Z"
   },
   {
    "duration": 0,
    "start_time": "2025-01-21T22:37:56.088Z"
   },
   {
    "duration": 0,
    "start_time": "2025-01-21T22:37:56.089Z"
   },
   {
    "duration": 17,
    "start_time": "2025-01-21T22:37:56.148Z"
   },
   {
    "duration": 14,
    "start_time": "2025-01-21T22:37:56.417Z"
   },
   {
    "duration": 3,
    "start_time": "2025-01-21T22:37:56.694Z"
   },
   {
    "duration": 14,
    "start_time": "2025-01-21T22:37:56.968Z"
   },
   {
    "duration": 13,
    "start_time": "2025-01-21T22:37:57.175Z"
   },
   {
    "duration": 5,
    "start_time": "2025-01-21T22:37:57.379Z"
   },
   {
    "duration": 155,
    "start_time": "2025-01-21T22:37:57.573Z"
   },
   {
    "duration": 7,
    "start_time": "2025-01-21T22:37:59.332Z"
   },
   {
    "duration": 12,
    "start_time": "2025-01-21T22:37:59.548Z"
   },
   {
    "duration": 183,
    "start_time": "2025-01-21T22:37:59.773Z"
   },
   {
    "duration": 11,
    "start_time": "2025-01-21T22:37:59.958Z"
   },
   {
    "duration": 11,
    "start_time": "2025-01-21T22:38:00.168Z"
   },
   {
    "duration": 3,
    "start_time": "2025-01-21T22:38:00.372Z"
   },
   {
    "duration": 10,
    "start_time": "2025-01-21T22:38:00.597Z"
   },
   {
    "duration": 231,
    "start_time": "2025-01-21T22:38:00.797Z"
   },
   {
    "duration": 0,
    "start_time": "2025-01-21T22:38:01.031Z"
   },
   {
    "duration": 35,
    "start_time": "2025-01-21T22:38:01.231Z"
   },
   {
    "duration": 13,
    "start_time": "2025-01-21T22:38:01.445Z"
   },
   {
    "duration": 13,
    "start_time": "2025-01-21T22:38:01.672Z"
   },
   {
    "duration": 190,
    "start_time": "2025-01-21T22:38:02.173Z"
   },
   {
    "duration": 41,
    "start_time": "2025-01-21T22:38:02.852Z"
   },
   {
    "duration": 59,
    "start_time": "2025-01-21T22:38:03.084Z"
   },
   {
    "duration": 14,
    "start_time": "2025-01-21T22:38:03.300Z"
   },
   {
    "duration": 17,
    "start_time": "2025-01-21T22:38:04.180Z"
   },
   {
    "duration": 15,
    "start_time": "2025-01-21T22:38:05.052Z"
   },
   {
    "duration": 14,
    "start_time": "2025-01-21T22:38:05.256Z"
   },
   {
    "duration": 14,
    "start_time": "2025-01-21T22:38:05.490Z"
   },
   {
    "duration": 13,
    "start_time": "2025-01-21T22:38:06.422Z"
   },
   {
    "duration": 17,
    "start_time": "2025-01-21T22:38:06.892Z"
   },
   {
    "duration": 13,
    "start_time": "2025-01-21T22:38:07.126Z"
   },
   {
    "duration": 13,
    "start_time": "2025-01-21T22:38:07.326Z"
   },
   {
    "duration": 17,
    "start_time": "2025-01-21T22:38:07.568Z"
   },
   {
    "duration": 3,
    "start_time": "2025-01-21T22:38:30.694Z"
   },
   {
    "duration": 111,
    "start_time": "2025-01-21T22:38:31.582Z"
   },
   {
    "duration": 16,
    "start_time": "2025-01-21T22:38:32.830Z"
   },
   {
    "duration": 21,
    "start_time": "2025-01-21T22:38:33.430Z"
   },
   {
    "duration": 9,
    "start_time": "2025-01-21T22:38:34.504Z"
   },
   {
    "duration": 12,
    "start_time": "2025-01-21T22:38:34.845Z"
   },
   {
    "duration": 5,
    "start_time": "2025-01-21T22:38:35.065Z"
   },
   {
    "duration": 26,
    "start_time": "2025-01-21T22:38:36.172Z"
   },
   {
    "duration": 9,
    "start_time": "2025-01-21T22:38:39.253Z"
   },
   {
    "duration": 8,
    "start_time": "2025-01-21T22:38:39.573Z"
   },
   {
    "duration": 4,
    "start_time": "2025-01-21T22:38:39.917Z"
   },
   {
    "duration": 3,
    "start_time": "2025-01-21T22:38:40.319Z"
   },
   {
    "duration": 953,
    "start_time": "2025-01-21T22:38:41.992Z"
   },
   {
    "duration": 21,
    "start_time": "2025-01-21T22:39:25.941Z"
   },
   {
    "duration": 2263,
    "start_time": "2025-01-21T22:39:50.214Z"
   },
   {
    "duration": 190,
    "start_time": "2025-01-21T22:39:55.332Z"
   },
   {
    "duration": 4,
    "start_time": "2025-01-21T22:39:55.653Z"
   },
   {
    "duration": 858,
    "start_time": "2025-01-21T22:39:55.870Z"
   },
   {
    "duration": 73,
    "start_time": "2025-01-21T22:39:56.730Z"
   },
   {
    "duration": 89,
    "start_time": "2025-01-21T22:39:56.805Z"
   },
   {
    "duration": 172,
    "start_time": "2025-01-21T22:39:58.091Z"
   },
   {
    "duration": 3,
    "start_time": "2025-01-21T22:39:58.734Z"
   },
   {
    "duration": 18,
    "start_time": "2025-01-21T22:39:58.939Z"
   },
   {
    "duration": 168,
    "start_time": "2025-01-21T22:39:59.159Z"
   },
   {
    "duration": 6,
    "start_time": "2025-01-21T22:39:59.379Z"
   },
   {
    "duration": 58,
    "start_time": "2025-01-21T22:40:00.145Z"
   },
   {
    "duration": 839,
    "start_time": "2025-01-21T22:40:00.392Z"
   },
   {
    "duration": 0,
    "start_time": "2025-01-21T22:40:01.234Z"
   },
   {
    "duration": 0,
    "start_time": "2025-01-21T22:40:01.235Z"
   },
   {
    "duration": 0,
    "start_time": "2025-01-21T22:40:01.237Z"
   },
   {
    "duration": 14,
    "start_time": "2025-01-21T22:40:01.413Z"
   },
   {
    "duration": 3,
    "start_time": "2025-01-21T22:40:01.799Z"
   },
   {
    "duration": 61,
    "start_time": "2025-01-21T22:40:24.257Z"
   },
   {
    "duration": 165,
    "start_time": "2025-01-21T22:40:26.101Z"
   },
   {
    "duration": 8,
    "start_time": "2025-01-21T22:40:26.275Z"
   },
   {
    "duration": 102,
    "start_time": "2025-01-21T22:40:26.434Z"
   },
   {
    "duration": 16,
    "start_time": "2025-01-21T22:40:26.647Z"
   },
   {
    "duration": 2,
    "start_time": "2025-01-21T22:40:27.191Z"
   },
   {
    "duration": 16,
    "start_time": "2025-01-21T22:40:27.376Z"
   },
   {
    "duration": 14,
    "start_time": "2025-01-21T22:40:27.578Z"
   },
   {
    "duration": 13,
    "start_time": "2025-01-21T22:40:27.777Z"
   },
   {
    "duration": 842,
    "start_time": "2025-01-21T22:40:28.584Z"
   },
   {
    "duration": 7,
    "start_time": "2025-01-21T22:40:31.844Z"
   },
   {
    "duration": 11,
    "start_time": "2025-01-21T22:40:32.047Z"
   },
   {
    "duration": 175,
    "start_time": "2025-01-21T22:40:32.272Z"
   },
   {
    "duration": 10,
    "start_time": "2025-01-21T22:40:32.494Z"
   },
   {
    "duration": 12,
    "start_time": "2025-01-21T22:40:32.755Z"
   },
   {
    "duration": 5,
    "start_time": "2025-01-21T22:41:44.475Z"
   },
   {
    "duration": 12,
    "start_time": "2025-01-21T22:41:45.160Z"
   },
   {
    "duration": 11,
    "start_time": "2025-01-21T22:41:45.535Z"
   },
   {
    "duration": 3,
    "start_time": "2025-01-21T22:41:45.902Z"
   },
   {
    "duration": 10,
    "start_time": "2025-01-21T22:41:46.354Z"
   },
   {
    "duration": 11,
    "start_time": "2025-01-21T22:42:07.627Z"
   },
   {
    "duration": 11,
    "start_time": "2025-01-21T22:42:08.283Z"
   },
   {
    "duration": 13,
    "start_time": "2025-01-21T22:42:08.465Z"
   },
   {
    "duration": 32,
    "start_time": "2025-01-21T22:42:08.663Z"
   },
   {
    "duration": 14,
    "start_time": "2025-01-21T22:42:08.839Z"
   },
   {
    "duration": 16,
    "start_time": "2025-01-21T22:42:09.105Z"
   },
   {
    "duration": 191,
    "start_time": "2025-01-21T22:42:09.711Z"
   },
   {
    "duration": 7,
    "start_time": "2025-01-21T22:42:11.398Z"
   },
   {
    "duration": 31,
    "start_time": "2025-01-21T22:42:12.367Z"
   },
   {
    "duration": 11,
    "start_time": "2025-01-21T22:42:13.654Z"
   },
   {
    "duration": 17,
    "start_time": "2025-01-21T22:42:16.695Z"
   },
   {
    "duration": 5,
    "start_time": "2025-01-21T22:42:18.449Z"
   },
   {
    "duration": 5,
    "start_time": "2025-01-21T22:42:18.695Z"
   },
   {
    "duration": 14,
    "start_time": "2025-01-21T22:42:19.201Z"
   },
   {
    "duration": 21,
    "start_time": "2025-01-21T22:42:20.792Z"
   },
   {
    "duration": 12,
    "start_time": "2025-01-21T22:42:21.207Z"
   },
   {
    "duration": 12,
    "start_time": "2025-01-21T22:42:21.433Z"
   },
   {
    "duration": 18,
    "start_time": "2025-01-21T22:42:21.620Z"
   },
   {
    "duration": 920,
    "start_time": "2025-01-21T22:42:21.792Z"
   },
   {
    "duration": 14,
    "start_time": "2025-01-21T22:42:25.038Z"
   },
   {
    "duration": 147,
    "start_time": "2025-01-21T22:42:25.640Z"
   },
   {
    "duration": 52,
    "start_time": "2025-01-21T22:42:27.375Z"
   },
   {
    "duration": 18,
    "start_time": "2025-01-21T22:43:13.960Z"
   },
   {
    "duration": 12,
    "start_time": "2025-01-21T22:43:18.516Z"
   },
   {
    "duration": 641,
    "start_time": "2025-01-21T22:44:40.625Z"
   },
   {
    "duration": 498,
    "start_time": "2025-01-21T22:44:56.543Z"
   },
   {
    "duration": 489,
    "start_time": "2025-01-21T22:45:04.426Z"
   },
   {
    "duration": 114,
    "start_time": "2025-01-21T22:45:24.463Z"
   },
   {
    "duration": 109,
    "start_time": "2025-01-21T22:45:29.216Z"
   },
   {
    "duration": 482,
    "start_time": "2025-01-21T22:45:39.455Z"
   },
   {
    "duration": 521,
    "start_time": "2025-01-21T22:46:06.649Z"
   },
   {
    "duration": 531,
    "start_time": "2025-01-21T22:50:01.358Z"
   },
   {
    "duration": 550,
    "start_time": "2025-01-21T22:51:22.008Z"
   },
   {
    "duration": 10,
    "start_time": "2025-01-21T22:52:22.131Z"
   },
   {
    "duration": 690,
    "start_time": "2025-01-21T22:53:24.371Z"
   },
   {
    "duration": 610,
    "start_time": "2025-01-21T22:53:53.388Z"
   },
   {
    "duration": 562,
    "start_time": "2025-01-21T22:54:16.729Z"
   },
   {
    "duration": 690,
    "start_time": "2025-01-21T22:54:49.813Z"
   },
   {
    "duration": 750,
    "start_time": "2025-01-21T22:55:14.612Z"
   },
   {
    "duration": 609,
    "start_time": "2025-01-21T22:55:23.981Z"
   },
   {
    "duration": 2,
    "start_time": "2025-01-21T22:55:49.901Z"
   },
   {
    "duration": 14,
    "start_time": "2025-01-21T22:56:48.718Z"
   },
   {
    "duration": 20,
    "start_time": "2025-01-21T22:56:48.904Z"
   },
   {
    "duration": 205,
    "start_time": "2025-01-21T22:56:49.631Z"
   },
   {
    "duration": 17,
    "start_time": "2025-01-21T22:57:12.070Z"
   },
   {
    "duration": 93,
    "start_time": "2025-01-21T22:57:14.506Z"
   },
   {
    "duration": 176,
    "start_time": "2025-01-21T22:57:15.434Z"
   },
   {
    "duration": 9,
    "start_time": "2025-01-21T23:01:55.293Z"
   },
   {
    "duration": 15,
    "start_time": "2025-01-21T23:03:02.754Z"
   },
   {
    "duration": 21,
    "start_time": "2025-01-21T23:03:06.608Z"
   },
   {
    "duration": 114,
    "start_time": "2025-01-21T23:04:40.427Z"
   },
   {
    "duration": 35,
    "start_time": "2025-01-21T23:04:47.113Z"
   },
   {
    "duration": 34,
    "start_time": "2025-01-21T23:05:10.097Z"
   },
   {
    "duration": 48,
    "start_time": "2025-01-21T23:05:59.930Z"
   },
   {
    "duration": 15,
    "start_time": "2025-01-21T23:08:26.282Z"
   },
   {
    "duration": 22,
    "start_time": "2025-01-21T23:08:32.291Z"
   },
   {
    "duration": 27,
    "start_time": "2025-01-21T23:09:27.323Z"
   },
   {
    "duration": 35,
    "start_time": "2025-01-21T23:11:35.413Z"
   },
   {
    "duration": 30,
    "start_time": "2025-01-21T23:11:46.332Z"
   },
   {
    "duration": 31,
    "start_time": "2025-01-21T23:11:58.460Z"
   },
   {
    "duration": 5,
    "start_time": "2025-01-21T23:16:07.408Z"
   },
   {
    "duration": 57,
    "start_time": "2025-01-21T23:16:21.647Z"
   },
   {
    "duration": 50,
    "start_time": "2025-01-21T23:16:25.999Z"
   },
   {
    "duration": 10,
    "start_time": "2025-01-21T23:17:31.359Z"
   },
   {
    "duration": 40,
    "start_time": "2025-01-21T23:17:37.423Z"
   },
   {
    "duration": 37,
    "start_time": "2025-01-21T23:17:52.807Z"
   },
   {
    "duration": 249,
    "start_time": "2025-01-21T23:20:21.008Z"
   },
   {
    "duration": 197,
    "start_time": "2025-01-21T23:20:31.343Z"
   },
   {
    "duration": 249,
    "start_time": "2025-01-21T23:20:38.822Z"
   },
   {
    "duration": 14,
    "start_time": "2025-01-21T23:21:49.075Z"
   },
   {
    "duration": 11,
    "start_time": "2025-01-21T23:21:50.504Z"
   },
   {
    "duration": 389,
    "start_time": "2025-01-21T23:22:42.623Z"
   },
   {
    "duration": 41,
    "start_time": "2025-01-21T23:23:06.412Z"
   },
   {
    "duration": 41,
    "start_time": "2025-01-21T23:24:44.957Z"
   },
   {
    "duration": 45,
    "start_time": "2025-01-21T23:26:41.386Z"
   },
   {
    "duration": 54,
    "start_time": "2025-01-21T23:27:04.303Z"
   },
   {
    "duration": 44,
    "start_time": "2025-01-21T23:27:14.963Z"
   },
   {
    "duration": 52,
    "start_time": "2025-01-21T23:27:27.125Z"
   },
   {
    "duration": 46,
    "start_time": "2025-01-21T23:27:34.944Z"
   },
   {
    "duration": 45,
    "start_time": "2025-01-21T23:28:33.535Z"
   },
   {
    "duration": 5186,
    "start_time": "2025-01-21T23:29:36.132Z"
   },
   {
    "duration": 240,
    "start_time": "2025-01-21T23:30:05.839Z"
   },
   {
    "duration": 8,
    "start_time": "2025-01-21T23:30:38.521Z"
   },
   {
    "duration": 5101,
    "start_time": "2025-01-21T23:30:41.500Z"
   },
   {
    "duration": 732,
    "start_time": "2025-01-21T23:31:40.784Z"
   },
   {
    "duration": 742,
    "start_time": "2025-01-21T23:31:52.371Z"
   },
   {
    "duration": 755,
    "start_time": "2025-01-21T23:32:09.831Z"
   },
   {
    "duration": 5695,
    "start_time": "2025-01-21T23:32:15.312Z"
   },
   {
    "duration": 2816,
    "start_time": "2025-01-22T00:49:25.262Z"
   },
   {
    "duration": 2232,
    "start_time": "2025-01-22T00:49:28.080Z"
   },
   {
    "duration": 485,
    "start_time": "2025-01-22T00:49:30.315Z"
   },
   {
    "duration": 4,
    "start_time": "2025-01-22T00:49:30.803Z"
   },
   {
    "duration": 314,
    "start_time": "2025-01-22T00:49:30.809Z"
   },
   {
    "duration": 183,
    "start_time": "2025-01-22T00:49:31.126Z"
   },
   {
    "duration": 38,
    "start_time": "2025-01-22T00:49:31.311Z"
   },
   {
    "duration": 11,
    "start_time": "2025-01-22T00:49:31.350Z"
   },
   {
    "duration": 14,
    "start_time": "2025-01-22T00:49:31.363Z"
   },
   {
    "duration": 4,
    "start_time": "2025-01-22T00:49:31.379Z"
   },
   {
    "duration": 24,
    "start_time": "2025-01-22T00:49:31.384Z"
   },
   {
    "duration": 34,
    "start_time": "2025-01-22T00:49:31.410Z"
   },
   {
    "duration": 7,
    "start_time": "2025-01-22T00:49:31.446Z"
   },
   {
    "duration": 4,
    "start_time": "2025-01-22T00:49:31.455Z"
   },
   {
    "duration": 5,
    "start_time": "2025-01-22T00:49:31.461Z"
   },
   {
    "duration": 20,
    "start_time": "2025-01-22T00:49:31.467Z"
   },
   {
    "duration": 2279,
    "start_time": "2025-01-22T00:49:31.489Z"
   },
   {
    "duration": 202,
    "start_time": "2025-01-22T00:49:33.770Z"
   },
   {
    "duration": 4,
    "start_time": "2025-01-22T00:49:33.974Z"
   },
   {
    "duration": 912,
    "start_time": "2025-01-22T00:49:33.980Z"
   },
   {
    "duration": 76,
    "start_time": "2025-01-22T00:49:34.895Z"
   },
   {
    "duration": 11,
    "start_time": "2025-01-22T00:49:34.973Z"
   },
   {
    "duration": 210,
    "start_time": "2025-01-22T00:49:34.986Z"
   },
   {
    "duration": 3,
    "start_time": "2025-01-22T00:49:35.199Z"
   },
   {
    "duration": 22,
    "start_time": "2025-01-22T00:49:35.204Z"
   },
   {
    "duration": 205,
    "start_time": "2025-01-22T00:49:35.227Z"
   },
   {
    "duration": 6,
    "start_time": "2025-01-22T00:49:35.442Z"
   },
   {
    "duration": 61,
    "start_time": "2025-01-22T00:49:35.453Z"
   },
   {
    "duration": 81,
    "start_time": "2025-01-22T00:49:35.518Z"
   },
   {
    "duration": 207,
    "start_time": "2025-01-22T00:49:35.601Z"
   },
   {
    "duration": 8,
    "start_time": "2025-01-22T00:49:35.810Z"
   },
   {
    "duration": 144,
    "start_time": "2025-01-22T00:49:35.820Z"
   },
   {
    "duration": 17,
    "start_time": "2025-01-22T00:49:35.966Z"
   },
   {
    "duration": 3,
    "start_time": "2025-01-22T00:49:35.985Z"
   },
   {
    "duration": 15,
    "start_time": "2025-01-22T00:49:35.989Z"
   },
   {
    "duration": 37,
    "start_time": "2025-01-22T00:49:36.006Z"
   },
   {
    "duration": 17,
    "start_time": "2025-01-22T00:49:36.045Z"
   },
   {
    "duration": 898,
    "start_time": "2025-01-22T00:49:36.064Z"
   },
   {
    "duration": 7,
    "start_time": "2025-01-22T00:49:36.963Z"
   },
   {
    "duration": 12,
    "start_time": "2025-01-22T00:49:36.972Z"
   },
   {
    "duration": 5,
    "start_time": "2025-01-22T00:49:36.986Z"
   },
   {
    "duration": 12,
    "start_time": "2025-01-22T00:49:36.993Z"
   },
   {
    "duration": 40,
    "start_time": "2025-01-22T00:49:37.007Z"
   },
   {
    "duration": 3,
    "start_time": "2025-01-22T00:49:37.049Z"
   },
   {
    "duration": 11,
    "start_time": "2025-01-22T00:49:37.054Z"
   },
   {
    "duration": 11,
    "start_time": "2025-01-22T00:49:37.067Z"
   },
   {
    "duration": 11,
    "start_time": "2025-01-22T00:49:37.079Z"
   },
   {
    "duration": 63,
    "start_time": "2025-01-22T00:49:37.092Z"
   },
   {
    "duration": 15,
    "start_time": "2025-01-22T00:49:37.157Z"
   },
   {
    "duration": 20,
    "start_time": "2025-01-22T00:49:37.174Z"
   },
   {
    "duration": 241,
    "start_time": "2025-01-22T00:49:37.196Z"
   },
   {
    "duration": 9,
    "start_time": "2025-01-22T00:49:37.444Z"
   },
   {
    "duration": 29,
    "start_time": "2025-01-22T00:49:37.455Z"
   },
   {
    "duration": 10,
    "start_time": "2025-01-22T00:49:37.485Z"
   },
   {
    "duration": 123,
    "start_time": "2025-01-22T00:49:37.497Z"
   },
   {
    "duration": 5,
    "start_time": "2025-01-22T00:49:37.622Z"
   },
   {
    "duration": 21,
    "start_time": "2025-01-22T00:49:37.628Z"
   },
   {
    "duration": 17,
    "start_time": "2025-01-22T00:49:37.651Z"
   },
   {
    "duration": 20,
    "start_time": "2025-01-22T00:49:37.670Z"
   },
   {
    "duration": 16,
    "start_time": "2025-01-22T00:49:37.693Z"
   },
   {
    "duration": 12,
    "start_time": "2025-01-22T00:49:37.742Z"
   },
   {
    "duration": 17,
    "start_time": "2025-01-22T00:49:37.756Z"
   },
   {
    "duration": 923,
    "start_time": "2025-01-22T00:49:37.775Z"
   },
   {
    "duration": 16,
    "start_time": "2025-01-22T00:49:38.700Z"
   },
   {
    "duration": 167,
    "start_time": "2025-01-22T00:49:38.719Z"
   },
   {
    "duration": 64,
    "start_time": "2025-01-22T00:49:38.888Z"
   },
   {
    "duration": 902,
    "start_time": "2025-01-22T00:49:38.954Z"
   },
   {
    "duration": 0,
    "start_time": "2025-01-22T00:49:39.858Z"
   },
   {
    "duration": 0,
    "start_time": "2025-01-22T00:49:39.860Z"
   },
   {
    "duration": 0,
    "start_time": "2025-01-22T00:49:39.861Z"
   },
   {
    "duration": 0,
    "start_time": "2025-01-22T00:49:39.863Z"
   },
   {
    "duration": 0,
    "start_time": "2025-01-22T00:49:39.864Z"
   },
   {
    "duration": 0,
    "start_time": "2025-01-22T00:49:39.865Z"
   },
   {
    "duration": 0,
    "start_time": "2025-01-22T00:49:39.866Z"
   },
   {
    "duration": 0,
    "start_time": "2025-01-22T00:49:39.868Z"
   }
  ],
  "kernelspec": {
   "display_name": "base",
   "language": "python",
   "name": "python3"
  },
  "language_info": {
   "codemirror_mode": {
    "name": "ipython",
    "version": 3
   },
   "file_extension": ".py",
   "mimetype": "text/x-python",
   "name": "python",
   "nbconvert_exporter": "python",
   "pygments_lexer": "ipython3",
   "version": "3.12.2"
  },
  "toc": {
   "base_numbering": 1,
   "nav_menu": {},
   "number_sections": true,
   "sideBar": true,
   "skip_h1_title": true,
   "title_cell": "Table of Contents",
   "title_sidebar": "Contents",
   "toc_cell": false,
   "toc_position": {},
   "toc_section_display": true,
   "toc_window_display": false
  }
 },
 "nbformat": 4,
 "nbformat_minor": 2
}

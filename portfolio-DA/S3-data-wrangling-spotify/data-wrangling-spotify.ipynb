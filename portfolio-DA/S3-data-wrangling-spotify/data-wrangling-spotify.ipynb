{
 "cells": [
  {
   "cell_type": "markdown",
   "metadata": {},
   "source": [
    "# ¡Hola  !🙋🏻‍♂️\n",
    "\n",
    "Te escribe Lisandro Saez, soy revisor de código en Tripleten y tengo el agrado de revisar el proyecto que entregaste.\n",
    "\n",
    "Para simular la dinámica de un ambiente de trabajo, si veo algún error, en primer instancia solo los señalaré, dándote la oportunidad de encontrarlos y corregirlos por tu cuenta. En un trabajo real, el líder de tu equipo hará una dinámica similar. En caso de que no puedas resolver la tarea, te daré una información más precisa en la próxima revisión.\n",
    "\n",
    "Encontrarás mis comentarios más abajo - **por favor, no los muevas, no los modifiques ni los borres**.\n",
    "\n",
    "¿Cómo lo voy a hacer? Voy a leer detenidamente cada una de las implementaciones que has llevado a cabo para cumplir con lo solicitado. Verás los comentarios de esta forma:\n",
    "\n",
    "<div class=\"alert alert-block alert-success\">\n",
    "<b>Comentario del revisor</b> <a class=\"tocSkip\"></a>\n",
    "\n",
    "Si todo está perfecto.\n",
    "</div>\n",
    "\n",
    "\n",
    "<div class=\"alert alert-block alert-warning\">\n",
    "<b>Comentario del revisor</b> <a class=\"tocSkip\"></a>\n",
    "\n",
    "Si tu código está bien pero se puede mejorar o hay algún detalle que le hace falta. Se aceptan uno o dos comentarios de este tipo en el borrador, pero si hay más, deberías hacer las correcciones. Es como una tarea de prueba al solicitar un trabajo: muchos pequeños errores pueden hacer que un candidato sea rechazado.\n",
    "</div>\n",
    "\n",
    "<div class=\"alert alert-block alert-danger\">\n",
    "\n",
    "<b>Comentario del revisor</b> <a class=\"tocSkip\"></a>\n",
    "\n",
    "Si de pronto hace falta algo o existe algún problema con tu código o conclusiones.\n",
    "</div>\n",
    "\n",
    "Puedes responderme de esta forma (no te preocupes, no es obligatorio):\n",
    "\n",
    "<div class=\"alert alert-block alert-info\">\n",
    "<b>Respuesta del estudiante</b> <a class=\"tocSkip\"></a>\n",
    "\n",
    "Hola, muchas gracias por tus comentarios y la revisión.\n",
    "</div>\n",
    "\n",
    "¡Empecemos!"
   ]
  },
  {
   "cell_type": "markdown",
   "metadata": {
    "id": "E0vqbgi9ay0H"
   },
   "source": [
    "# Déjame escuchar la música"
   ]
  },
  {
   "cell_type": "markdown",
   "metadata": {
    "id": "fhq_eyov_Zcs"
   },
   "source": [
    "# Contenido <a id='back'></a>\n",
    "\n",
    "* [Introducción](#intro)\n",
    "* [Etapa 1. Descripción de los datos](#data_review)\n",
    "    * [Conclusiones](#data_review_conclusions)\n",
    "* [Etapa 2. Preprocesamiento de datos](#data_preprocessing)\n",
    "    * [2.1 Estilo del encabezado](#header_style)\n",
    "    * [2.2 Valores ausentes](#missing_values)\n",
    "    * [2.3 Duplicados](#duplicates)\n",
    "    * [2.4 Conclusiones](#data_preprocessing_conclusions)\n",
    "* [Etapa 3. Prueba de hipótesis](#hypothesis)\n",
    "    * [3.1 Hipótesis 1: actividad de los usuarios y las usuarias en las dos ciudades](#activity)\n",
    "* [Conclusiones](#end)"
   ]
  },
  {
   "cell_type": "markdown",
   "metadata": {
    "id": "VUC88oWjTJw2"
   },
   "source": [
    "## Introducción <a id='intro'></a>\n",
    "Como analista de datos, tu trabajo consiste en analizar datos para extraer información valiosa y tomar decisiones basadas en ellos. Esto implica diferentes etapas, como la descripción general de los datos, el preprocesamiento y la prueba de hipótesis.\n",
    "\n",
    "Siempre que investigamos, necesitamos formular hipótesis que después podamos probar. A veces aceptamos estas hipótesis; otras veces, las rechazamos. Para tomar las decisiones correctas, una empresa debe ser capaz de entender si está haciendo las suposiciones correctas.\n",
    "\n",
    "En este proyecto, compararás las preferencias musicales de las ciudades de Springfield y Shelbyville. Estudiarás datos reales de transmisión de música online para probar la hipótesis a continuación y comparar el comportamiento de los usuarios y las usuarias de estas dos ciudades.\n",
    "\n",
    "### Objetivo:\n",
    "Prueba la hipótesis:\n",
    "1. La actividad de los usuarios y las usuarias difiere según el día de la semana y dependiendo de la ciudad.\n",
    "\n",
    "\n",
    "### Etapas\n",
    "Los datos del comportamiento del usuario se almacenan en el archivo `/datasets/music_project_en.csv`. No hay ninguna información sobre la calidad de los datos, así que necesitarás examinarlos antes de probar la hipótesis.\n",
    "\n",
    "Primero, evaluarás la calidad de los datos y verás si los problemas son significativos. Entonces, durante el preprocesamiento de datos, tomarás en cuenta los problemas más críticos.\n",
    "\n",
    "Tu proyecto consistirá en tres etapas:\n",
    " 1. Descripción de los datos.\n",
    " 2. Preprocesamiento de datos.\n",
    " 3. Prueba de hipótesis.\n",
    "\n",
    "\n",
    "\n",
    "\n",
    "\n",
    "\n"
   ]
  },
  {
   "cell_type": "markdown",
   "metadata": {
    "id": "hDt6pg-Rw-1U"
   },
   "source": [
    "[Volver a Contenidos](#back)"
   ]
  },
  {
   "cell_type": "markdown",
   "metadata": {
    "id": "Ml1hmfXC_Zcs"
   },
   "source": [
    "## Etapa 1. Descripción de los datos <a id='data_review'></a>\n",
    "\n",
    "Abre los datos y examínalos."
   ]
  },
  {
   "cell_type": "markdown",
   "metadata": {
    "id": "57eAOGIz_Zcs"
   },
   "source": [
    "Necesitarás `pandas`, así que impórtalo."
   ]
  },
  {
   "cell_type": "code",
   "execution_count": 4,
   "metadata": {},
   "outputs": [
    {
     "data": {
      "text/plain": [
       "'/Users/macbook/Documents/GitHub/DataAnalytics/portfolio-DA/S3-data-wrangling-spotify'"
      ]
     },
     "execution_count": 4,
     "metadata": {},
     "output_type": "execute_result"
    }
   ],
   "source": [
    "import os\n",
    "os.getcwd()  # Para ver el directorio actual\n",
    "\n"
   ]
  },
  {
   "cell_type": "code",
   "execution_count": 2,
   "metadata": {
    "id": "AXN7PHPN_Zcs"
   },
   "outputs": [],
   "source": [
    "import pandas as pd\n"
   ]
  },
  {
   "cell_type": "markdown",
   "metadata": {
    "id": "SG23P8tt_Zcs"
   },
   "source": [
    "Lee el archivo `music_project_en.csv` de la carpeta `/datasets/` y guárdalo en la variable `df`:"
   ]
  },
  {
   "cell_type": "code",
   "execution_count": 8,
   "metadata": {
    "id": "fFVu7vqh_Zct"
   },
   "outputs": [
    {
     "ename": "NameError",
     "evalue": "name 'pandas' is not defined",
     "output_type": "error",
     "traceback": [
      "\u001b[0;31m---------------------------------------------------------------------------\u001b[0m",
      "\u001b[0;31mNameError\u001b[0m                                 Traceback (most recent call last)",
      "Cell \u001b[0;32mIn[8], line 1\u001b[0m\n\u001b[0;32m----> 1\u001b[0m data_music \u001b[38;5;241m=\u001b[39m \u001b[43mpandas\u001b[49m\u001b[38;5;241m.\u001b[39mread_csv(\u001b[38;5;124m'\u001b[39m\u001b[38;5;124mmusic_project_en.csv\u001b[39m\u001b[38;5;124m'\u001b[39m)\n",
      "\u001b[0;31mNameError\u001b[0m: name 'pandas' is not defined"
     ]
    }
   ],
   "source": [
    "data_music = pandas.read_csv('music_project_en.csv')\n",
    "\n"
   ]
  },
  {
   "cell_type": "markdown",
   "metadata": {
    "id": "rDoOMd3uTqnZ"
   },
   "source": [
    "Muestra las 10 primeras filas de la tabla:"
   ]
  },
  {
   "cell_type": "code",
   "execution_count": null,
   "metadata": {
    "id": "oWTVX3gW_Zct"
   },
   "outputs": [
    {
     "data": {
      "text/html": [
       "<div>\n",
       "<style scoped>\n",
       "    .dataframe tbody tr th:only-of-type {\n",
       "        vertical-align: middle;\n",
       "    }\n",
       "\n",
       "    .dataframe tbody tr th {\n",
       "        vertical-align: top;\n",
       "    }\n",
       "\n",
       "    .dataframe thead th {\n",
       "        text-align: right;\n",
       "    }\n",
       "</style>\n",
       "<table border=\"1\" class=\"dataframe\">\n",
       "  <thead>\n",
       "    <tr style=\"text-align: right;\">\n",
       "      <th></th>\n",
       "      <th>userID</th>\n",
       "      <th>Track</th>\n",
       "      <th>artist</th>\n",
       "      <th>genre</th>\n",
       "      <th>City</th>\n",
       "      <th>time</th>\n",
       "      <th>Day</th>\n",
       "    </tr>\n",
       "  </thead>\n",
       "  <tbody>\n",
       "    <tr>\n",
       "      <th>0</th>\n",
       "      <td>FFB692EC</td>\n",
       "      <td>Kamigata To Boots</td>\n",
       "      <td>The Mass Missile</td>\n",
       "      <td>rock</td>\n",
       "      <td>Shelbyville</td>\n",
       "      <td>20:28:33</td>\n",
       "      <td>Wednesday</td>\n",
       "    </tr>\n",
       "    <tr>\n",
       "      <th>1</th>\n",
       "      <td>55204538</td>\n",
       "      <td>Delayed Because of Accident</td>\n",
       "      <td>Andreas Rönnberg</td>\n",
       "      <td>rock</td>\n",
       "      <td>Springfield</td>\n",
       "      <td>14:07:09</td>\n",
       "      <td>Friday</td>\n",
       "    </tr>\n",
       "    <tr>\n",
       "      <th>2</th>\n",
       "      <td>20EC38</td>\n",
       "      <td>Funiculì funiculà</td>\n",
       "      <td>Mario Lanza</td>\n",
       "      <td>pop</td>\n",
       "      <td>Shelbyville</td>\n",
       "      <td>20:58:07</td>\n",
       "      <td>Wednesday</td>\n",
       "    </tr>\n",
       "    <tr>\n",
       "      <th>3</th>\n",
       "      <td>A3DD03C9</td>\n",
       "      <td>Dragons in the Sunset</td>\n",
       "      <td>Fire + Ice</td>\n",
       "      <td>folk</td>\n",
       "      <td>Shelbyville</td>\n",
       "      <td>08:37:09</td>\n",
       "      <td>Monday</td>\n",
       "    </tr>\n",
       "    <tr>\n",
       "      <th>4</th>\n",
       "      <td>E2DC1FAE</td>\n",
       "      <td>Soul People</td>\n",
       "      <td>Space Echo</td>\n",
       "      <td>dance</td>\n",
       "      <td>Springfield</td>\n",
       "      <td>08:34:34</td>\n",
       "      <td>Monday</td>\n",
       "    </tr>\n",
       "    <tr>\n",
       "      <th>5</th>\n",
       "      <td>842029A1</td>\n",
       "      <td>Chains</td>\n",
       "      <td>Obladaet</td>\n",
       "      <td>rusrap</td>\n",
       "      <td>Shelbyville</td>\n",
       "      <td>13:09:41</td>\n",
       "      <td>Friday</td>\n",
       "    </tr>\n",
       "    <tr>\n",
       "      <th>6</th>\n",
       "      <td>4CB90AA5</td>\n",
       "      <td>True</td>\n",
       "      <td>Roman Messer</td>\n",
       "      <td>dance</td>\n",
       "      <td>Springfield</td>\n",
       "      <td>13:00:07</td>\n",
       "      <td>Wednesday</td>\n",
       "    </tr>\n",
       "    <tr>\n",
       "      <th>7</th>\n",
       "      <td>F03E1C1F</td>\n",
       "      <td>Feeling This Way</td>\n",
       "      <td>Polina Griffith</td>\n",
       "      <td>dance</td>\n",
       "      <td>Springfield</td>\n",
       "      <td>20:47:49</td>\n",
       "      <td>Wednesday</td>\n",
       "    </tr>\n",
       "    <tr>\n",
       "      <th>8</th>\n",
       "      <td>8FA1D3BE</td>\n",
       "      <td>L’estate</td>\n",
       "      <td>Julia Dalia</td>\n",
       "      <td>ruspop</td>\n",
       "      <td>Springfield</td>\n",
       "      <td>09:17:40</td>\n",
       "      <td>Friday</td>\n",
       "    </tr>\n",
       "    <tr>\n",
       "      <th>9</th>\n",
       "      <td>E772D5C0</td>\n",
       "      <td>Pessimist</td>\n",
       "      <td>NaN</td>\n",
       "      <td>dance</td>\n",
       "      <td>Shelbyville</td>\n",
       "      <td>21:20:49</td>\n",
       "      <td>Wednesday</td>\n",
       "    </tr>\n",
       "  </tbody>\n",
       "</table>\n",
       "</div>"
      ],
      "text/plain": [
       "     userID                        Track            artist   genre  \\\n",
       "0  FFB692EC            Kamigata To Boots  The Mass Missile    rock   \n",
       "1  55204538  Delayed Because of Accident  Andreas Rönnberg    rock   \n",
       "2    20EC38            Funiculì funiculà       Mario Lanza     pop   \n",
       "3  A3DD03C9        Dragons in the Sunset        Fire + Ice    folk   \n",
       "4  E2DC1FAE                  Soul People        Space Echo   dance   \n",
       "5  842029A1                       Chains          Obladaet  rusrap   \n",
       "6  4CB90AA5                         True      Roman Messer   dance   \n",
       "7  F03E1C1F             Feeling This Way   Polina Griffith   dance   \n",
       "8  8FA1D3BE                     L’estate       Julia Dalia  ruspop   \n",
       "9  E772D5C0                    Pessimist               NaN   dance   \n",
       "\n",
       "        City        time        Day  \n",
       "0  Shelbyville  20:28:33  Wednesday  \n",
       "1  Springfield  14:07:09     Friday  \n",
       "2  Shelbyville  20:58:07  Wednesday  \n",
       "3  Shelbyville  08:37:09     Monday  \n",
       "4  Springfield  08:34:34     Monday  \n",
       "5  Shelbyville  13:09:41     Friday  \n",
       "6  Springfield  13:00:07  Wednesday  \n",
       "7  Springfield  20:47:49  Wednesday  \n",
       "8  Springfield  09:17:40     Friday  \n",
       "9  Shelbyville  21:20:49  Wednesday  "
      ]
     },
     "execution_count": 3,
     "metadata": {},
     "output_type": "execute_result"
    }
   ],
   "source": [
    "data_music.head(10)\n"
   ]
  },
  {
   "cell_type": "markdown",
   "metadata": {
    "id": "EO73Kwic_Zct"
   },
   "source": [
    "Obtén la información general sobre la tabla con un comando. Conoces el método que muestra la información general que necesitamos."
   ]
  },
  {
   "cell_type": "code",
   "execution_count": null,
   "metadata": {
    "id": "DSf2kIb-_Zct"
   },
   "outputs": [
    {
     "name": "stdout",
     "output_type": "stream",
     "text": [
      "<class 'pandas.core.frame.DataFrame'>\n",
      "RangeIndex: 65079 entries, 0 to 65078\n",
      "Data columns (total 7 columns):\n",
      " #   Column    Non-Null Count  Dtype \n",
      "---  ------    --------------  ----- \n",
      " 0     userID  65079 non-null  object\n",
      " 1   Track     63736 non-null  object\n",
      " 2   artist    57512 non-null  object\n",
      " 3   genre     63881 non-null  object\n",
      " 4     City    65079 non-null  object\n",
      " 5   time      65079 non-null  object\n",
      " 6   Day       65079 non-null  object\n",
      "dtypes: object(7)\n",
      "memory usage: 3.5+ MB\n"
     ]
    }
   ],
   "source": [
    "data_music.info() # Obtener la información general sobre nuestros datos\n"
   ]
  },
  {
   "cell_type": "markdown",
   "metadata": {
    "id": "TaQ2Iwbr_Zct"
   },
   "source": [
    "Estas son nuestras observaciones sobre la tabla. Contiene siete columnas. Almacenan los mismos tipos de datos: `object`.\n",
    "\n",
    "Según la documentación:\n",
    "- `' userID'`: identificador del usuario o la usuaria;\n",
    "- `'Track'`: título de la canción;\n",
    "- `'artist'`: nombre del artista;\n",
    "- `'genre'`: género de la pista;\n",
    "- `'City'`: ciudad del usuario o la usuaria;\n",
    "- `'time'`: la hora exacta en la que se reprodujo la canción;\n",
    "- `'Day'`: día de la semana.\n",
    "\n",
    "Podemos ver tres problemas con el estilo en los encabezados de la tabla:\n",
    "1. Algunos encabezados están en mayúsculas, otros en minúsculas.\n",
    "2. Hay espacios en algunos encabezados.\n",
    "3. userID necesita agregarle un _ para que quede user_ID\n",
    "\n",
    "\n"
   ]
  },
  {
   "cell_type": "markdown",
   "metadata": {
    "id": "MCB6-dXG_Zct"
   },
   "source": [
    "### Escribe observaciones de tu parte. Estas son algunas de las preguntas que pueden ser útiles: <a id='data_review_conclusions'></a>\n",
    "\n",
    "`1.   ¿Qué tipo de datos tenemos a nuestra disposición en las filas? ¿Y cómo podemos entender lo que almacenan las columnas?`\n",
    "\n",
    "`2.   ¿Hay suficientes datos para proporcionar respuestas a nuestra hipótesis o necesitamos más información?`\n",
    "\n",
    "`3.   ¿Notaste algún problema en los datos, como valores ausentes, duplicados o tipos de datos incorrectos?`"
   ]
  },
  {
   "cell_type": "markdown",
   "metadata": {},
   "source": [
    "\n",
    "<div class=\"alert alert-block alert-warning\">\n",
    "<b>Comentario del revisor</b> <a class=\"tocSkip\"></a>\n",
    "\n",
    "Recuerda que, para futuros sprints, debes contestar las preguntas para guiar tus observaciones.</div>\n"
   ]
  },
  {
   "cell_type": "markdown",
   "metadata": {
    "id": "3eL__vcwViOi"
   },
   "source": [
    "[Volver a Contenidos](#back)"
   ]
  },
  {
   "cell_type": "markdown",
   "metadata": {
    "id": "SjYF6Ub9_Zct"
   },
   "source": [
    "## Etapa 2. Preprocesamiento de datos <a id='data_preprocessing'></a>\n",
    "\n",
    "El objetivo aquí es preparar los datos para que sean analizados.\n",
    "El primer paso es resolver cualquier problema con los encabezados. Luego podemos avanzar a los valores ausentes y duplicados. Empecemos.\n",
    "\n",
    "Corrige el formato en los encabezados de la tabla.\n"
   ]
  },
  {
   "cell_type": "markdown",
   "metadata": {
    "id": "dIaKXr29_Zct"
   },
   "source": [
    "### Estilo del encabezado <a id='header_style'></a>\n",
    "Muestra los encabezados de la tabla (los nombres de las columnas):"
   ]
  },
  {
   "cell_type": "code",
   "execution_count": null,
   "metadata": {
    "id": "oKOTdF_Q_Zct"
   },
   "outputs": [
    {
     "data": {
      "text/plain": [
       "Index(['  userID', 'Track', 'artist', 'genre', '  City  ', 'time', 'Day'], dtype='object')"
      ]
     },
     "execution_count": 5,
     "metadata": {},
     "output_type": "execute_result"
    }
   ],
   "source": [
    "data_music.columns # Muestra los nombres de las columnas\n"
   ]
  },
  {
   "cell_type": "markdown",
   "metadata": {
    "id": "zj5534cv_Zct"
   },
   "source": [
    "Cambia los encabezados de la tabla de acuerdo con las reglas del buen estilo:\n",
    "* Todos los caracteres deben ser minúsculas.\n",
    "* Elimina los espacios.\n",
    "* Si el nombre tiene varias palabras, utiliza snake_case."
   ]
  },
  {
   "cell_type": "markdown",
   "metadata": {
    "id": "Xu0zkfe5zNJe"
   },
   "source": [
    "Anteriormente, aprendiste acerca de la forma automática de cambiar el nombre de las columnas. Vamos a aplicarla ahora. Utiliza el bucle for para iterar sobre los nombres de las columnas y poner todos los caracteres en minúsculas. Cuando hayas terminado, vuelve a mostrar los encabezados de la tabla:"
   ]
  },
  {
   "cell_type": "markdown",
   "metadata": {
    "id": "pweIRxjSzPYW"
   },
   "source": [
    "Ahora, utilizando el mismo método, elimina los espacios al principio y al final de los nombres de las columnas e imprime los nombres de las columnas nuevamente:"
   ]
  },
  {
   "cell_type": "code",
   "execution_count": null,
   "metadata": {
    "id": "6I_RwwMhzM4e"
   },
   "outputs": [
    {
     "data": {
      "text/plain": [
       "Index(['user_id', 'track', 'artist', 'genre', 'city', 'time', 'day'], dtype='object')"
      ]
     },
     "execution_count": 29,
     "metadata": {},
     "output_type": "execute_result"
    }
   ],
   "source": [
    "# Bucle en los encabezados poniendo todo en minúsculas\n",
    "\n",
    "new_column = []\n",
    "\n",
    "for column in data_music.columns:\n",
    "    name_clean = column.lower()\n",
    "    name_clean = name_clean.strip()\n",
    "    \n",
    "  \n",
    "        \n",
    "    new_column.append(name_clean)\n",
    "    \n",
    "data_music.columns = new_column\n",
    "    \n",
    "data_music.columns\n"
   ]
  },
  {
   "cell_type": "markdown",
   "metadata": {
    "id": "yCb8MW1JzURd"
   },
   "source": [
    "Necesitamos aplicar la regla de snake_case a la columna `userid`. Debe ser `user_id`. Cambia el nombre de esta columna y muestra los nombres de todas las columnas cuando hayas terminado."
   ]
  },
  {
   "cell_type": "code",
   "execution_count": null,
   "metadata": {},
   "outputs": [
    {
     "data": {
      "text/plain": [
       "Index(['user_id', 'track', 'artist', 'genre', 'city', 'time', 'day'], dtype='object')"
      ]
     },
     "execution_count": 7,
     "metadata": {},
     "output_type": "execute_result"
    }
   ],
   "source": [
    "data_music.rename(columns={'userid':'user_id'},inplace=True)\n",
    "\n",
    "data_music.columns"
   ]
  },
  {
   "cell_type": "markdown",
   "metadata": {
    "id": "1dqbh00J_Zct"
   },
   "source": [
    "Comprueba el resultado. Muestra los encabezados una vez más:"
   ]
  },
  {
   "cell_type": "code",
   "execution_count": null,
   "metadata": {
    "id": "d4NOAmTW_Zct"
   },
   "outputs": [
    {
     "name": "stdout",
     "output_type": "stream",
     "text": [
      "Index(['user_id', 'track', 'artist', 'genre', 'city', 'time', 'day'], dtype='object')\n"
     ]
    }
   ],
   "source": [
    "print(data_music.columns) # Comprobar el resultado: la lista de encabezados\n"
   ]
  },
  {
   "cell_type": "markdown",
   "metadata": {
    "id": "xYJk6ksJVpOl"
   },
   "source": [
    "[Volver a Contenidos](#back)"
   ]
  },
  {
   "cell_type": "markdown",
   "metadata": {
    "id": "5ISfbcfY_Zct"
   },
   "source": [
    "### Valores ausentes <a id='missing_values'></a>\n",
    " Primero, encuentra el número de valores ausentes en la tabla. Debes utilizar dos métodos en una secuencia para obtener el número de valores ausentes."
   ]
  },
  {
   "cell_type": "code",
   "execution_count": null,
   "metadata": {
    "id": "RskX29qr_Zct"
   },
   "outputs": [
    {
     "data": {
      "text/plain": [
       "user_id       0\n",
       "track      1343\n",
       "artist     7567\n",
       "genre      1198\n",
       "city          0\n",
       "time          0\n",
       "day           0\n",
       "dtype: int64"
      ]
     },
     "execution_count": 9,
     "metadata": {},
     "output_type": "execute_result"
    }
   ],
   "source": [
    " # Calcular el número de valores ausentes\n",
    "\n",
    "data_music.isna().sum()\n"
   ]
  },
  {
   "cell_type": "markdown",
   "metadata": {
    "id": "qubhgnlO_Zct"
   },
   "source": [
    "No todos los valores ausentes afectan a la investigación. Por ejemplo, los valores ausentes en `track` y `artist` no son cruciales. Simplemente puedes reemplazarlos con valores predeterminados como el string `'unknown'` (desconocido).\n",
    "\n",
    "Pero los valores ausentes en `'genre'` pueden afectar la comparación entre las preferencias musicales de Springfield y Shelbyville. En la vida real, sería útil saber las razones por las cuales hay datos ausentes e intentar recuperarlos. Pero no tenemos esa oportunidad en este proyecto. Así que tendrás que:\n",
    "* rellenar estos valores ausentes con un valor predeterminado;\n",
    "* evaluar cuánto podrían afectar los valores ausentes a tus cómputos;"
   ]
  },
  {
   "cell_type": "markdown",
   "metadata": {
    "id": "fSv2laPA_Zct"
   },
   "source": [
    "Reemplazar los valores ausentes en las columnas `'track'`, `'artist'` y `'genre'` con el string `'unknown'`. Como mostramos anteriormente en las lecciones, la mejor forma de hacerlo es crear una lista que almacene los nombres de las columnas donde se necesita el reemplazo. Luego, utiliza esta lista e itera sobre las columnas donde se necesita el reemplazo haciendo el propio reemplazo."
   ]
  },
  {
   "cell_type": "code",
   "execution_count": null,
   "metadata": {
    "id": "KplB5qWs_Zct"
   },
   "outputs": [],
   "source": [
    "# Bucle en los encabezados reemplazando los valores ausentes con 'unknown'\n",
    "\n",
    "column_to_clean = ['track', 'artist', 'genre']\n",
    "\n",
    "for column in column_to_clean:\n",
    "    data_music[column] = data_music[column].fillna(value='unknown')\n"
   ]
  },
  {
   "cell_type": "markdown",
   "metadata": {
    "id": "Ilsm-MZo_Zct"
   },
   "source": [
    "Ahora comprueba el resultado para asegurarte de que después del reemplazo no haya valores ausentes en el conjunto de datos. Para hacer esto, cuenta los valores ausentes nuevamente."
   ]
  },
  {
   "cell_type": "code",
   "execution_count": null,
   "metadata": {
    "id": "Tq4nYRX4_Zct",
    "scrolled": false
   },
   "outputs": [
    {
     "data": {
      "text/plain": [
       "user_id    0\n",
       "track      0\n",
       "artist     0\n",
       "genre      0\n",
       "city       0\n",
       "time       0\n",
       "day        0\n",
       "dtype: int64"
      ]
     },
     "execution_count": 11,
     "metadata": {},
     "output_type": "execute_result"
    }
   ],
   "source": [
    "# Contar valores ausentes\n",
    "data_music.isna().sum()\n"
   ]
  },
  {
   "cell_type": "markdown",
   "metadata": {
    "id": "74ZIBmq9VrsK"
   },
   "source": [
    "[Volver a Contenidos](#back)"
   ]
  },
  {
   "cell_type": "markdown",
   "metadata": {},
   "source": [
    "\n",
    "<div class=\"alert alert-block alert-success\">\n",
    "<b>Comentario del revisor</b> <a class=\"tocSkip\"></a>\n",
    "\n",
    "Te felicito por haber eliminado los NaNs! Es una parte fundamental del análisis de datos!\n",
    "</div>"
   ]
  },
  {
   "cell_type": "markdown",
   "metadata": {
    "id": "BWKRtBJ3_Zct"
   },
   "source": [
    "### Duplicados <a id='duplicates'></a>\n",
    "Encuentra el número de duplicados explícitos en la tabla. Una vez más, debes aplicar dos métodos en una secuencia para obtener la cantidad de duplicados explícitos."
   ]
  },
  {
   "cell_type": "code",
   "execution_count": null,
   "metadata": {
    "id": "36eES_S0_Zct"
   },
   "outputs": [
    {
     "name": "stdout",
     "output_type": "stream",
     "text": [
      "3826\n"
     ]
    }
   ],
   "source": [
    "# Contar duplicados explícitos\n",
    "\n",
    "duplicates = data_music.duplicated().sum()\n",
    "\n",
    "print(duplicates)\n"
   ]
  },
  {
   "cell_type": "markdown",
   "metadata": {
    "id": "Ot25h6XR_Zct"
   },
   "source": [
    "Ahora, elimina todos los duplicados. Para ello, llama al método que hace exactamente esto."
   ]
  },
  {
   "cell_type": "code",
   "execution_count": null,
   "metadata": {
    "id": "exFHq6tt_Zct"
   },
   "outputs": [],
   "source": [
    "# Eliminar duplicados explícitos\n",
    "data_music=data_music.drop_duplicates().reset_index(drop=True)\n"
   ]
  },
  {
   "cell_type": "markdown",
   "metadata": {
    "id": "Im2YwBEG_Zct"
   },
   "source": [
    "Comprobemos ahora si eliminamos con éxito todos los duplicados. Cuenta los duplicados explícitos una vez más para asegurarte de haberlos eliminado todos:"
   ]
  },
  {
   "cell_type": "code",
   "execution_count": null,
   "metadata": {
    "id": "-8PuNWQ0_Zct"
   },
   "outputs": [
    {
     "name": "stdout",
     "output_type": "stream",
     "text": [
      "0\n"
     ]
    }
   ],
   "source": [
    "# Comprobar de nuevo si hay duplicados\n",
    "\n",
    "duplicates = data_music.duplicated().sum()\n",
    "\n",
    "print(duplicates)\n"
   ]
  },
  {
   "cell_type": "markdown",
   "metadata": {
    "id": "QlFBsxAr_Zct"
   },
   "source": [
    "Ahora queremos deshacernos de los duplicados implícitos en la columna `genre`. Por ejemplo, el nombre de un género se puede escribir de varias formas. Dichos errores también pueden afectar al resultado."
   ]
  },
  {
   "cell_type": "markdown",
   "metadata": {
    "id": "eSjWwsOh_Zct"
   },
   "source": [
    "Para hacerlo, primero mostremos una lista de nombres de género únicos, ordenados en orden alfabético. Para ello:\n",
    "* Extrae la columna `genre` del DataFrame.\n",
    "* Llama al método que devolverá todos los valores únicos en la columna extraída.\n"
   ]
  },
  {
   "cell_type": "code",
   "execution_count": null,
   "metadata": {
    "id": "JIUcqzZN_Zct"
   },
   "outputs": [
    {
     "name": "stdout",
     "output_type": "stream",
     "text": [
      "['rock' 'pop' 'folk' 'dance' 'rusrap' 'ruspop' 'world' 'electronic'\n",
      " 'unknown' 'alternative' 'children' 'rnb' 'hip' 'jazz' 'postrock' 'latin'\n",
      " 'classical' 'metal' 'reggae' 'triphop' 'blues' 'instrumental' 'rusrock'\n",
      " 'dnb' 'türk' 'post' 'country' 'psychedelic' 'conjazz' 'indie'\n",
      " 'posthardcore' 'local' 'avantgarde' 'punk' 'videogame' 'techno' 'house'\n",
      " 'christmas' 'melodic' 'caucasian' 'reggaeton' 'soundtrack' 'singer' 'ska'\n",
      " 'salsa' 'ambient' 'film' 'western' 'rap' 'beats' \"hard'n'heavy\"\n",
      " 'progmetal' 'minimal' 'tropical' 'contemporary' 'new' 'soul' 'holiday'\n",
      " 'german' 'jpop' 'spiritual' 'urban' 'gospel' 'nujazz' 'folkmetal'\n",
      " 'trance' 'miscellaneous' 'anime' 'hardcore' 'progressive' 'korean'\n",
      " 'numetal' 'vocal' 'estrada' 'tango' 'loungeelectronic' 'classicmetal'\n",
      " 'dubstep' 'club' 'deep' 'southern' 'black' 'folkrock' 'fitness' 'french'\n",
      " 'disco' 'religious' 'hiphop' 'drum' 'extrememetal' 'türkçe'\n",
      " 'experimental' 'easy' 'metalcore' 'modern' 'argentinetango' 'old' 'swing'\n",
      " 'breaks' 'eurofolk' 'stonerrock' 'industrial' 'funk' 'middle' 'variété'\n",
      " 'other' 'adult' 'christian' 'thrash' 'gothic' 'international' 'muslim'\n",
      " 'relax' 'schlager' 'caribbean' 'nu' 'breakbeat' 'comedy' 'chill' 'newage'\n",
      " 'specialty' 'uzbek' 'k-pop' 'balkan' 'chinese' 'meditative' 'dub' 'power'\n",
      " 'death' 'grime' 'arabesk' 'romance' 'flamenco' 'leftfield' 'european'\n",
      " 'tech' 'newwave' 'dancehall' 'mpb' 'piano' 'top' 'bigroom' 'opera'\n",
      " 'celtic' 'tradjazz' 'acoustic' 'epicmetal' 'hip-hop' 'historisch'\n",
      " 'downbeat' 'downtempo' 'africa' 'audiobook' 'jewish' 'sängerportrait'\n",
      " 'deutschrock' 'eastern' 'action' 'future' 'electropop' 'folklore'\n",
      " 'bollywood' 'marschmusik' 'rnr' 'karaoke' 'indian' 'rancheras'\n",
      " 'afrikaans' 'rhythm' 'sound' 'deutschspr' 'trip' 'lovers' 'choral'\n",
      " 'dancepop' 'retro' 'smooth' 'mexican' 'brazilian' 'ïîï' 'mood' 'surf'\n",
      " 'gangsta' 'inspirational' 'idm' 'ethnic' 'bluegrass' 'broadway'\n",
      " 'animated' 'americana' 'karadeniz' 'rockabilly' 'colombian' 'self' 'hop'\n",
      " 'sertanejo' 'japanese' 'canzone' 'lounge' 'sport' 'ragga' 'traditional'\n",
      " 'gitarre' 'frankreich' 'emo' 'laiko' 'cantopop' 'glitch' 'documentary'\n",
      " 'oceania' 'popeurodance' 'dark' 'vi' 'grunge' 'hardstyle' 'samba'\n",
      " 'garage' 'art' 'folktronica' 'entehno' 'mediterranean' 'chamber' 'cuban'\n",
      " 'taraftar' 'gypsy' 'hardtechno' 'shoegazing' 'bossa' 'latino' 'worldbeat'\n",
      " 'malaysian' 'baile' 'ghazal' 'arabic' 'popelectronic' 'acid' 'kayokyoku'\n",
      " 'neoklassik' 'tribal' 'tanzorchester' 'native' 'independent' 'cantautori'\n",
      " 'handsup' 'punjabi' 'synthpop' 'rave' 'französisch' 'quebecois' 'speech'\n",
      " 'soulful' 'jam' 'ram' 'horror' 'orchestral' 'neue' 'roots' 'slow'\n",
      " 'jungle' 'indipop' 'axé' 'fado' 'showtunes' 'arena' 'irish' 'mandopop'\n",
      " 'forró' 'dirty' 'regional']\n"
     ]
    }
   ],
   "source": [
    "# Inspeccionar los nombres de géneros únicos\n",
    "\n",
    "print(data_music['genre'].unique())\n",
    "\n"
   ]
  },
  {
   "cell_type": "markdown",
   "metadata": {
    "id": "qej-Qmuo_Zct"
   },
   "source": [
    "Busca en la lista para encontrar duplicados implícitos del género `hiphop`. Estos pueden ser nombres escritos incorrectamente o nombres alternativos para el mismo género.\n",
    "\n",
    "Verás los siguientes duplicados implícitos:\n",
    "* `hip`\n",
    "* `hop`\n",
    "* `hip-hop`\n",
    "\n",
    "Para deshacerte de ellos, crea una función llamada `replace_wrong_genres()` con dos parámetros:\n",
    "* `wrong_genres=`: esta es una lista que contiene todos los valores que necesitas reemplazar.\n",
    "* `correct_genre=`: este es un string que vas a utilizar como reemplazo.\n",
    "\n",
    "Como resultado, la función debería corregir los nombres en la columna `'genre'` de la tabla `df`, es decir, remplazar cada valor de la lista `wrong_genres` por el valor en `correct_genre`.\n",
    "\n",
    "Dentro del cuerpo de la función, utiliza un bucle `'for'` para iterar sobre la lista de géneros incorrectos, extrae la columna `'genre'` y aplica el método `replace` para hacer correcciones."
   ]
  },
  {
   "cell_type": "code",
   "execution_count": null,
   "metadata": {
    "id": "ErNDkmns_Zct"
   },
   "outputs": [],
   "source": [
    "# Función para reemplazar duplicados implícitos\n",
    "\n",
    "def replace_wrong_genres( wrong_genres , correct_genre): \n",
    "\n",
    "    for mistake_genres in wrong_genres: \n",
    "        \n",
    "        data_music.loc[data_music['genre']==mistake_genres,'genre'] = correct_genre\n",
    "        \n",
    "        \n",
    "        \n",
    "    return data_music\n",
    "\n",
    "duplicates = ['hip', 'hop', 'hip-hop']\n",
    "name = 'hiphop' \n"
   ]
  },
  {
   "cell_type": "markdown",
   "metadata": {},
   "source": [
    "llamo unique para verificar que se haya corregido"
   ]
  },
  {
   "cell_type": "markdown",
   "metadata": {
    "id": "aDoBJxbA_Zct"
   },
   "source": [
    "Ahora, llama a `replace_wrong_genres()` y pásale tales argumentos para que retire los duplicados implícitos (`hip`, `hop` y `hip-hop`) y los reemplace por `hiphop`:"
   ]
  },
  {
   "cell_type": "code",
   "execution_count": null,
   "metadata": {
    "id": "YN5i2hpmSo09"
   },
   "outputs": [
    {
     "name": "stdout",
     "output_type": "stream",
     "text": [
      "        user_id                              track            artist  \\\n",
      "0      FFB692EC                  Kamigata To Boots  The Mass Missile   \n",
      "1      55204538        Delayed Because of Accident  Andreas Rönnberg   \n",
      "2        20EC38                  Funiculì funiculà       Mario Lanza   \n",
      "3      A3DD03C9              Dragons in the Sunset        Fire + Ice   \n",
      "4      E2DC1FAE                        Soul People        Space Echo   \n",
      "...         ...                                ...               ...   \n",
      "61248  729CBB09                            My Name            McLean   \n",
      "61249  D08D4A55  Maybe One Day (feat. Black Spade)       Blu & Exile   \n",
      "61250  C5E3A0D5                          Jalopiina           unknown   \n",
      "61251  321D0506                      Freight Train     Chas McDevitt   \n",
      "61252  3A64EF84          Tell Me Sweet Little Lies      Monica Lopez   \n",
      "\n",
      "            genre         city      time        day  \n",
      "0            rock  Shelbyville  20:28:33  Wednesday  \n",
      "1            rock  Springfield  14:07:09     Friday  \n",
      "2             pop  Shelbyville  20:58:07  Wednesday  \n",
      "3            folk  Shelbyville  08:37:09     Monday  \n",
      "4           dance  Springfield  08:34:34     Monday  \n",
      "...           ...          ...       ...        ...  \n",
      "61248         rnb  Springfield  13:32:28  Wednesday  \n",
      "61249      hiphop  Shelbyville  10:00:00     Monday  \n",
      "61250  industrial  Springfield  20:09:26     Friday  \n",
      "61251        rock  Springfield  21:43:59     Friday  \n",
      "61252     country  Springfield  21:59:46     Friday  \n",
      "\n",
      "[61253 rows x 7 columns]\n"
     ]
    }
   ],
   "source": [
    "# Eliminar duplicados implícitos\n",
    "\n",
    "new_genre = replace_wrong_genres(duplicates, name )  \n",
    "\n",
    "print(new_genre)\n",
    "\n"
   ]
  },
  {
   "cell_type": "markdown",
   "metadata": {
    "id": "zQKF16_RG15m"
   },
   "source": [
    "Asegúrate de que los nombres duplicados han sido eliminados. Muestra la lista de valores únicos de la columna `'genre'` una vez más:"
   ]
  },
  {
   "cell_type": "code",
   "execution_count": null,
   "metadata": {
    "id": "wvixALnFG15m"
   },
   "outputs": [
    {
     "data": {
      "text/plain": [
       "array(['rock', 'pop', 'folk', 'dance', 'rusrap', 'ruspop', 'world',\n",
       "       'electronic', 'unknown', 'alternative', 'children', 'rnb',\n",
       "       'hiphop', 'jazz', 'postrock', 'latin', 'classical', 'metal',\n",
       "       'reggae', 'triphop', 'blues', 'instrumental', 'rusrock', 'dnb',\n",
       "       'türk', 'post', 'country', 'psychedelic', 'conjazz', 'indie',\n",
       "       'posthardcore', 'local', 'avantgarde', 'punk', 'videogame',\n",
       "       'techno', 'house', 'christmas', 'melodic', 'caucasian',\n",
       "       'reggaeton', 'soundtrack', 'singer', 'ska', 'salsa', 'ambient',\n",
       "       'film', 'western', 'rap', 'beats', \"hard'n'heavy\", 'progmetal',\n",
       "       'minimal', 'tropical', 'contemporary', 'new', 'soul', 'holiday',\n",
       "       'german', 'jpop', 'spiritual', 'urban', 'gospel', 'nujazz',\n",
       "       'folkmetal', 'trance', 'miscellaneous', 'anime', 'hardcore',\n",
       "       'progressive', 'korean', 'numetal', 'vocal', 'estrada', 'tango',\n",
       "       'loungeelectronic', 'classicmetal', 'dubstep', 'club', 'deep',\n",
       "       'southern', 'black', 'folkrock', 'fitness', 'french', 'disco',\n",
       "       'religious', 'drum', 'extrememetal', 'türkçe', 'experimental',\n",
       "       'easy', 'metalcore', 'modern', 'argentinetango', 'old', 'swing',\n",
       "       'breaks', 'eurofolk', 'stonerrock', 'industrial', 'funk', 'middle',\n",
       "       'variété', 'other', 'adult', 'christian', 'thrash', 'gothic',\n",
       "       'international', 'muslim', 'relax', 'schlager', 'caribbean', 'nu',\n",
       "       'breakbeat', 'comedy', 'chill', 'newage', 'specialty', 'uzbek',\n",
       "       'k-pop', 'balkan', 'chinese', 'meditative', 'dub', 'power',\n",
       "       'death', 'grime', 'arabesk', 'romance', 'flamenco', 'leftfield',\n",
       "       'european', 'tech', 'newwave', 'dancehall', 'mpb', 'piano', 'top',\n",
       "       'bigroom', 'opera', 'celtic', 'tradjazz', 'acoustic', 'epicmetal',\n",
       "       'historisch', 'downbeat', 'downtempo', 'africa', 'audiobook',\n",
       "       'jewish', 'sängerportrait', 'deutschrock', 'eastern', 'action',\n",
       "       'future', 'electropop', 'folklore', 'bollywood', 'marschmusik',\n",
       "       'rnr', 'karaoke', 'indian', 'rancheras', 'afrikaans', 'rhythm',\n",
       "       'sound', 'deutschspr', 'trip', 'lovers', 'choral', 'dancepop',\n",
       "       'retro', 'smooth', 'mexican', 'brazilian', 'ïîï', 'mood', 'surf',\n",
       "       'gangsta', 'inspirational', 'idm', 'ethnic', 'bluegrass',\n",
       "       'broadway', 'animated', 'americana', 'karadeniz', 'rockabilly',\n",
       "       'colombian', 'self', 'sertanejo', 'japanese', 'canzone', 'lounge',\n",
       "       'sport', 'ragga', 'traditional', 'gitarre', 'frankreich', 'emo',\n",
       "       'laiko', 'cantopop', 'glitch', 'documentary', 'oceania',\n",
       "       'popeurodance', 'dark', 'vi', 'grunge', 'hardstyle', 'samba',\n",
       "       'garage', 'art', 'folktronica', 'entehno', 'mediterranean',\n",
       "       'chamber', 'cuban', 'taraftar', 'gypsy', 'hardtechno',\n",
       "       'shoegazing', 'bossa', 'latino', 'worldbeat', 'malaysian', 'baile',\n",
       "       'ghazal', 'arabic', 'popelectronic', 'acid', 'kayokyoku',\n",
       "       'neoklassik', 'tribal', 'tanzorchester', 'native', 'independent',\n",
       "       'cantautori', 'handsup', 'punjabi', 'synthpop', 'rave',\n",
       "       'französisch', 'quebecois', 'speech', 'soulful', 'jam', 'ram',\n",
       "       'horror', 'orchestral', 'neue', 'roots', 'slow', 'jungle',\n",
       "       'indipop', 'axé', 'fado', 'showtunes', 'arena', 'irish',\n",
       "       'mandopop', 'forró', 'dirty', 'regional'], dtype=object)"
      ]
     },
     "execution_count": 18,
     "metadata": {},
     "output_type": "execute_result"
    }
   ],
   "source": [
    "# Comprobación de duplicados implícitos  \n",
    "\n",
    "data_music['genre'].unique()\n"
   ]
  },
  {
   "cell_type": "markdown",
   "metadata": {
    "id": "ALgNbvF3VtPA"
   },
   "source": [
    "[Volver a Contenidos](#back)"
   ]
  },
  {
   "cell_type": "markdown",
   "metadata": {},
   "source": [
    "<div class=\"alert alert-block alert-success\">\n",
    "<b>Comentario del revisor</b> <a class=\"tocSkip\"></a>\n",
    "\n",
    "Te felicito por haber eliminado los duplicados! Es una parte fundamental del análisis de datos!\n",
    "</div>"
   ]
  },
  {
   "cell_type": "markdown",
   "metadata": {
    "id": "jz6a9-7HQUDd"
   },
   "source": [
    "### Tus observaciones <a id='data_preprocessing_conclusions'></a>\n",
    "\n",
    "`Primero revisamos las columnas que tenía el df y empezamos a lo que es la limpieza después se revisó y calculó el número de valores ausentes y posteriormente se reemplazaron con escritura desconocido para poder hacer un mejor análisis se volvieron a contar los valores ausentes para que nos diera cero posteriormente contamos los duplicados explícitos y los eliminamos y revisamos si habíamos duplicados posteriormente revisamos los nombres de los géneros para saber si no había algún género repetido en los cuales encontramos tres géneros repetidos que se reemplazaron por uno nada más se volvió a revisar si ya se habían sido corregidos y nos dimos cuenta que ya se habían corregido posteriormente empezamos con los análisis`"
   ]
  },
  {
   "cell_type": "markdown",
   "metadata": {},
   "source": [
    "\n",
    "<div class=\"alert alert-block alert-success\">\n",
    "<b>Comentario del revisor</b> <a class=\"tocSkip\"></a>\n",
    "\n",
    "Te felicito por la precisión que muestras a la hora de realizar las observaciones!</div>\n"
   ]
  },
  {
   "cell_type": "markdown",
   "metadata": {
    "id": "eK1es74rVujj"
   },
   "source": [
    "[Volver a Contenidos](#back)"
   ]
  },
  {
   "cell_type": "markdown",
   "metadata": {
    "id": "WttZHXH0SqKk"
   },
   "source": [
    "## Etapa 3. Prueba de hipótesis <a id='hypothesis'></a>"
   ]
  },
  {
   "cell_type": "markdown",
   "metadata": {
    "id": "Im936VVi_Zcu"
   },
   "source": [
    "### Hipótesis: comparar el comportamiento del usuario o la usuaria en las dos ciudades <a id='activity'></a>"
   ]
  },
  {
   "cell_type": "markdown",
   "metadata": {
    "id": "nwt_MuaL_Zcu"
   },
   "source": [
    "La hipótesis afirma que existen diferencias en la forma en que los usuarios y las usuarias de Springfield y Shelbyville consumen música. Para comprobar esto, usa los datos de tres días de la semana: lunes, miércoles y viernes.\n",
    "\n",
    "* Agrupa a los usuarios y las usuarias por ciudad.\n",
    "* Compara el número de canciones que cada grupo reprodujo el lunes, el miércoles y el viernes.\n"
   ]
  },
  {
   "cell_type": "markdown",
   "metadata": {
    "id": "8Dw_YMmT_Zcu"
   },
   "source": [
    "Realiza cada cálculo por separado.\n",
    "\n",
    "El primer paso es evaluar la actividad del usuario en cada ciudad. Recuerda las etapas dividir-aplicar-combinar de las que hablamos anteriormente en la lección. Tu objetivo ahora es agrupar los datos por ciudad, aplicar el método apropiado para contar durante la etapa de aplicación y luego encontrar la cantidad de canciones reproducidas en cada grupo especificando la columna para obtener el recuento.\n",
    "\n",
    "A continuación se muestra un ejemplo de cómo debería verse el resultado final:\n",
    "`df.groupby(by='....')['column'].method()`Realiza cada cálculo por separado.\n",
    "\n",
    "Para evaluar la actividad de los usuarios y las usuarias en cada ciudad, agrupa los datos por ciudad y encuentra la cantidad de canciones reproducidas en cada grupo.\n",
    "\n"
   ]
  },
  {
   "cell_type": "code",
   "execution_count": null,
   "metadata": {
    "id": "0_Qs96oh_Zcu"
   },
   "outputs": [
    {
     "name": "stdout",
     "output_type": "stream",
     "text": [
      "city\n",
      "Shelbyville    18512\n",
      "Springfield    42741\n",
      "Name: track, dtype: int64\n"
     ]
    }
   ],
   "source": [
    "# Contar las canciones reproducidas en cada ciudad \n",
    "\n",
    "track_per_city = data_music.groupby(by='city')['track'].count()\n",
    "\n",
    "print(track_per_city)\n"
   ]
  },
  {
   "cell_type": "markdown",
   "metadata": {
    "id": "t_Qx-3NewAnK"
   },
   "source": [
    "`Analisamos primero que ciudad tiene mejor lista de reproduccion de musica siendo la mejor ciudad Shelbyville con 18512 canciones reproducidas `"
   ]
  },
  {
   "cell_type": "markdown",
   "metadata": {
    "id": "dzli3w8o_Zcu"
   },
   "source": [
    "Ahora agrupemos los datos por día de la semana y encontremos el número de canciones reproducidas el lunes, miércoles y viernes. Utiliza el mismo método que antes, pero ahora necesitamos una agrupación diferente.\n"
   ]
  },
  {
   "cell_type": "code",
   "execution_count": null,
   "metadata": {
    "id": "uZMKjiJz_Zcu"
   },
   "outputs": [
    {
     "name": "stdout",
     "output_type": "stream",
     "text": [
      "day\n",
      "Friday       21840\n",
      "Monday       21354\n",
      "Wednesday    18059\n",
      "Name: track, dtype: int64\n"
     ]
    }
   ],
   "source": [
    "# Calcular las canciones reproducidas en cada uno de los tres días\n",
    "\n",
    "track_per_monday = data_music.groupby(by='day')['track'].count()\n",
    "\n",
    "print(track_per_monday)"
   ]
  },
  {
   "cell_type": "markdown",
   "metadata": {},
   "source": [
    "\n",
    "<div class=\"alert alert-block alert-success\">\n",
    "<b>Comentario del revisor</b> <a class=\"tocSkip\"></a>\n",
    "\n",
    "Gran trabajo utilizando `groupby()`!</div>\n",
    "\n"
   ]
  },
  {
   "cell_type": "markdown",
   "metadata": {
    "id": "cC2tNrlL_Zcu"
   },
   "source": [
    "`Ya sabiendo que ciudad tiene mayor numero de reproducion de musica tambien necesitabamos hacer por dia para saber que dias son los mejores y que competencia tiene de una ciudad a otra siendo aqui el dia con mayor reproduccion de musica es viernes con 21840 canciones reproducidas `"
   ]
  },
  {
   "cell_type": "markdown",
   "metadata": {
    "id": "POzs8bGa_Zcu"
   },
   "source": [
    "Ya sabes cómo contar entradas agrupándolas por ciudad o día. Ahora necesitas escribir una función que pueda contar entradas según ambos criterios simultáneamente.\n",
    "\n",
    "Crea la función `number_tracks()` para calcular el número de canciones reproducidas en un determinado día **y** ciudad. La función debe aceptar dos parámetros:\n",
    "\n",
    "- `day`: un día de la semana para filtrar. Por ejemplo, `'Monday'` (lunes).\n",
    "- `city`: una ciudad para filtrar. Por ejemplo, `'Springfield'`.\n",
    "\n",
    "Dentro de la función, aplicarás un filtrado consecutivo con indexación lógica.\n",
    "\n",
    "Primero filtra los datos por día y luego filtra la tabla resultante por ciudad.\n",
    "\n",
    "Después de filtrar los datos por dos criterios, cuenta el número de valores de la columna 'user_id' en la tabla resultante. Este recuento representa el número de entradas que estás buscando. Guarda el resultado en una nueva variable y devuélvelo desde la función."
   ]
  },
  {
   "cell_type": "code",
   "execution_count": null,
   "metadata": {
    "id": "Nz3GdQB1_Zcu"
   },
   "outputs": [],
   "source": [
    "    # Declara la función number_tracks() con dos parámetros: day= y city=.\n",
    "\n",
    "    # Almacena las filas del DataFrame donde el valor en la columna 'day' es igual al parámetro day=\n",
    "\n",
    "    # Filtra las filas donde el valor en la columna 'city' es igual al parámetro city=\n",
    "\n",
    "    # Extrae la columna 'user_id' de la tabla filtrada y aplica el método count()\n",
    "\n",
    "    # Devolve el número de valores de la columna 'user_id'\n",
    "    "
   ]
  },
  {
   "cell_type": "code",
   "execution_count": null,
   "metadata": {},
   "outputs": [],
   "source": [
    "def number_tracks(data_music, day, city):\n",
    "\n",
    "    filter_city=data_music[data_music['city']== city]\n",
    "\n",
    "    filter_day=filter_city[filter_city['day'] == day]\n",
    "\n",
    "    result = filter_day['user_id'].count()\n",
    "\n",
    "    return result"
   ]
  },
  {
   "cell_type": "markdown",
   "metadata": {
    "id": "ytf7xFrFJQ2r"
   },
   "source": [
    "Llama a `number_tracks()` seis veces, cambiando los valores de los parámetros para que recuperes los datos de ambas ciudades para cada uno de los tres días."
   ]
  },
  {
   "cell_type": "code",
   "execution_count": null,
   "metadata": {
    "id": "rJcRATNQ_Zcu"
   },
   "outputs": [
    {
     "name": "stdout",
     "output_type": "stream",
     "text": [
      "15740\n"
     ]
    }
   ],
   "source": [
    "# El número de canciones reproducidas en Springfield el lunes\n",
    "day = 'Monday'\n",
    "city = 'Springfield'\n",
    "monday = number_tracks(data_music, day, city)\n",
    "\n",
    "print(monday)"
   ]
  },
  {
   "cell_type": "code",
   "execution_count": null,
   "metadata": {
    "id": "hq_ncZ5T_Zcu"
   },
   "outputs": [
    {
     "name": "stdout",
     "output_type": "stream",
     "text": [
      "5614\n"
     ]
    }
   ],
   "source": [
    "# El número de canciones reproducidas en Shelbyville el lunes\n",
    "day = 'Monday'\n",
    "city = 'Shelbyville'\n",
    "monday = number_tracks(data_music, day, city) \n",
    "print(monday)\n"
   ]
  },
  {
   "cell_type": "code",
   "execution_count": null,
   "metadata": {
    "id": "_NTy2VPU_Zcu"
   },
   "outputs": [
    {
     "name": "stdout",
     "output_type": "stream",
     "text": [
      "11056\n"
     ]
    }
   ],
   "source": [
    "# El número de canciones reproducidas en Springfield el miércoles\n",
    "\n",
    "day = 'Wednesday'\n",
    "city = 'Springfield'\n",
    "wednesday = number_tracks(data_music, day, city) \n",
    "print(wednesday)\n"
   ]
  },
  {
   "cell_type": "code",
   "execution_count": null,
   "metadata": {
    "id": "j2y3TAwo_Zcu"
   },
   "outputs": [
    {
     "name": "stdout",
     "output_type": "stream",
     "text": [
      "7003\n"
     ]
    }
   ],
   "source": [
    "# El número de canciones reproducidas en Shelbyville el miércoles\n",
    "day = 'Wednesday'\n",
    "city = 'Shelbyville'\n",
    "wednesday= number_tracks(data_music, day, city) \n",
    "print(wednesday)\n"
   ]
  },
  {
   "cell_type": "code",
   "execution_count": null,
   "metadata": {
    "id": "vYDw5u_K_Zcu"
   },
   "outputs": [
    {
     "name": "stdout",
     "output_type": "stream",
     "text": [
      "15945\n"
     ]
    }
   ],
   "source": [
    "# El número de canciones reproducidas en Springfield el viernes\n",
    "day = 'Friday'\n",
    "city = 'Springfield'\n",
    "friday = number_tracks(data_music, day, city)\n",
    "print(friday)\n"
   ]
  },
  {
   "cell_type": "code",
   "execution_count": null,
   "metadata": {
    "id": "8_yzFtW3_Zcu"
   },
   "outputs": [
    {
     "name": "stdout",
     "output_type": "stream",
     "text": [
      "5895\n"
     ]
    }
   ],
   "source": [
    "# El número de canciones reproducidas en Shelbyville el viernes\n",
    "day = 'Friday'\n",
    "city = 'Shelbyville'\n",
    "friday = number_tracks(data_music, day, city)\n",
    "print(friday)\n"
   ]
  },
  {
   "cell_type": "markdown",
   "metadata": {
    "id": "-EgPIHYu_Zcu"
   },
   "source": [
    "**Conclusiones**\n",
    "\n",
    "`La hipótesis es correcta la actividad de los usuarios y usuarias difieren segun el dia de la semana y dependiendo la ciudad`"
   ]
  },
  {
   "cell_type": "markdown",
   "metadata": {
    "id": "p7nFQajCVw5B"
   },
   "source": [
    "[Volver a Contenidos](#back)"
   ]
  },
  {
   "cell_type": "markdown",
   "metadata": {
    "id": "ykKQ0N65_Zcv"
   },
   "source": [
    "# Conclusiones <a id='end'></a>"
   ]
  },
  {
   "cell_type": "markdown",
   "metadata": {
    "id": "tjUwbHb3_Zcv"
   },
   "source": [
    "`La mejor ciudad en reproduccion de musica es Springfield y su dia mayor reproduccion es vienes con 15945 `"
   ]
  },
  {
   "cell_type": "markdown",
   "metadata": {
    "id": "azLHu64yOIp7"
   },
   "source": [
    "### Nota\n",
    "En proyectos de investigación reales, la prueba de hipótesis estadística es más precisa y cuantitativa. También ten en cuenta que no siempre se pueden sacar conclusiones sobre una ciudad entera a partir de datos de una sola fuente.\n",
    "\n",
    "Aprenderás más sobre la prueba de hipótesis en el sprint de análisis estadístico de datos."
   ]
  },
  {
   "cell_type": "markdown",
   "metadata": {
    "id": "Ju4AHDSgV1FE"
   },
   "source": [
    "[Volver a Contenidos](#back)"
   ]
  },
  {
   "cell_type": "markdown",
   "metadata": {},
   "source": [
    "\n",
    "\n",
    "<div class=\"alert alert-block alert-success\">\n",
    "<b>Comentario del revisor</b> <a class=\"tocSkip\"></a>\n",
    "\n",
    "Felicitaciones por el excelente trabajo que hiciste durante todo el sprint!</div>\n",
    "\n"
   ]
  }
 ],
 "metadata": {
  "ExecuteTimeLog": [
   {
    "duration": 10,
    "start_time": "2024-09-17T04:26:37.085Z"
   },
   {
    "duration": 3,
    "start_time": "2024-09-17T04:27:06.604Z"
   },
   {
    "duration": 154,
    "start_time": "2024-09-17T04:27:38.059Z"
   },
   {
    "duration": 13,
    "start_time": "2024-09-17T04:28:02.999Z"
   },
   {
    "duration": 325,
    "start_time": "2024-09-17T04:29:29.250Z"
   },
   {
    "duration": 2,
    "start_time": "2024-09-17T04:29:31.306Z"
   },
   {
    "duration": 34,
    "start_time": "2024-09-17T04:29:33.439Z"
   },
   {
    "duration": 163,
    "start_time": "2024-09-17T04:31:26.687Z"
   },
   {
    "duration": 12,
    "start_time": "2024-09-17T04:32:20.629Z"
   },
   {
    "duration": 24,
    "start_time": "2024-09-17T04:33:08.507Z"
   },
   {
    "duration": 7,
    "start_time": "2024-09-17T04:34:26.187Z"
   },
   {
    "duration": 21,
    "start_time": "2024-09-17T04:35:49.207Z"
   },
   {
    "duration": 3,
    "start_time": "2024-09-17T04:42:26.079Z"
   },
   {
    "duration": 12,
    "start_time": "2024-09-17T04:58:19.786Z"
   },
   {
    "duration": 15,
    "start_time": "2024-09-17T04:59:11.410Z"
   },
   {
    "duration": 12,
    "start_time": "2024-09-17T04:59:25.603Z"
   },
   {
    "duration": 10,
    "start_time": "2024-09-17T04:59:31.154Z"
   },
   {
    "duration": 10,
    "start_time": "2024-09-17T04:59:36.390Z"
   },
   {
    "duration": 3,
    "start_time": "2024-09-17T05:00:06.393Z"
   },
   {
    "duration": 3,
    "start_time": "2024-09-17T05:00:21.369Z"
   },
   {
    "duration": 4,
    "start_time": "2024-09-17T05:00:44.050Z"
   },
   {
    "duration": 4,
    "start_time": "2024-09-17T05:02:25.953Z"
   },
   {
    "duration": 3,
    "start_time": "2024-09-17T05:03:52.526Z"
   },
   {
    "duration": 13,
    "start_time": "2024-09-17T05:05:07.137Z"
   },
   {
    "duration": 3,
    "start_time": "2024-09-17T05:05:39.325Z"
   },
   {
    "duration": 3,
    "start_time": "2024-09-17T05:06:14.970Z"
   },
   {
    "duration": 3,
    "start_time": "2024-09-17T05:06:51.011Z"
   },
   {
    "duration": 4,
    "start_time": "2024-09-17T05:07:24.173Z"
   },
   {
    "duration": 5,
    "start_time": "2024-09-17T05:09:32.433Z"
   },
   {
    "duration": 15,
    "start_time": "2024-09-17T05:09:56.719Z"
   },
   {
    "duration": 3,
    "start_time": "2024-09-17T05:11:06.298Z"
   },
   {
    "duration": 7,
    "start_time": "2024-09-17T05:11:46.510Z"
   },
   {
    "duration": 3,
    "start_time": "2024-09-17T05:12:17.495Z"
   },
   {
    "duration": 3,
    "start_time": "2024-09-17T05:14:03.530Z"
   },
   {
    "duration": 4,
    "start_time": "2024-09-17T05:14:50.293Z"
   },
   {
    "duration": 3,
    "start_time": "2024-09-17T05:14:55.170Z"
   },
   {
    "duration": 3,
    "start_time": "2024-09-17T05:14:58.262Z"
   },
   {
    "duration": 4,
    "start_time": "2024-09-17T05:15:04.829Z"
   },
   {
    "duration": 2,
    "start_time": "2024-09-17T05:15:08.552Z"
   },
   {
    "duration": 3,
    "start_time": "2024-09-17T05:15:10.148Z"
   },
   {
    "duration": 3,
    "start_time": "2024-09-17T05:15:10.713Z"
   },
   {
    "duration": 3,
    "start_time": "2024-09-17T05:15:11.095Z"
   },
   {
    "duration": 3,
    "start_time": "2024-09-17T05:15:11.757Z"
   },
   {
    "duration": 7,
    "start_time": "2024-09-17T05:15:12.113Z"
   },
   {
    "duration": 11,
    "start_time": "2024-09-17T05:15:12.709Z"
   },
   {
    "duration": 11,
    "start_time": "2024-09-17T05:15:13.014Z"
   },
   {
    "duration": 3,
    "start_time": "2024-09-17T05:15:13.864Z"
   },
   {
    "duration": 3,
    "start_time": "2024-09-17T05:15:14.226Z"
   },
   {
    "duration": 309,
    "start_time": "2024-09-17T05:15:43.415Z"
   },
   {
    "duration": 97,
    "start_time": "2024-09-17T05:15:45.831Z"
   },
   {
    "duration": 8,
    "start_time": "2024-09-17T05:15:47.444Z"
   },
   {
    "duration": 22,
    "start_time": "2024-09-17T05:15:50.931Z"
   },
   {
    "duration": 6,
    "start_time": "2024-09-17T05:15:54.826Z"
   },
   {
    "duration": 3,
    "start_time": "2024-09-17T05:15:57.284Z"
   },
   {
    "duration": 3,
    "start_time": "2024-09-17T05:16:00.569Z"
   },
   {
    "duration": 2,
    "start_time": "2024-09-17T05:16:27.774Z"
   },
   {
    "duration": 3,
    "start_time": "2024-09-17T05:16:33.176Z"
   },
   {
    "duration": 4,
    "start_time": "2024-09-17T05:16:37.029Z"
   },
   {
    "duration": 160,
    "start_time": "2024-09-17T15:15:25.404Z"
   },
   {
    "duration": 12,
    "start_time": "2024-09-17T15:15:44.334Z"
   },
   {
    "duration": 12,
    "start_time": "2024-09-17T15:15:53.191Z"
   },
   {
    "duration": 13,
    "start_time": "2024-09-17T15:16:23.400Z"
   },
   {
    "duration": 15,
    "start_time": "2024-09-17T15:16:32.054Z"
   },
   {
    "duration": 294,
    "start_time": "2024-09-17T15:16:41.189Z"
   },
   {
    "duration": 122,
    "start_time": "2024-09-17T15:16:43.445Z"
   },
   {
    "duration": 7,
    "start_time": "2024-09-17T15:16:45.428Z"
   },
   {
    "duration": 23,
    "start_time": "2024-09-17T15:16:48.592Z"
   },
   {
    "duration": 3,
    "start_time": "2024-09-17T15:16:52.882Z"
   },
   {
    "duration": 3,
    "start_time": "2024-09-17T15:17:02.058Z"
   },
   {
    "duration": 3,
    "start_time": "2024-09-17T15:17:06.575Z"
   },
   {
    "duration": 35,
    "start_time": "2024-09-17T15:17:55.303Z"
   },
   {
    "duration": 4,
    "start_time": "2024-09-17T15:18:14.850Z"
   },
   {
    "duration": 13,
    "start_time": "2024-09-17T15:21:47.390Z"
   },
   {
    "duration": 17,
    "start_time": "2024-09-17T15:22:44.545Z"
   },
   {
    "duration": 154,
    "start_time": "2024-09-17T16:01:07.325Z"
   },
   {
    "duration": 12,
    "start_time": "2024-09-17T16:01:19.162Z"
   },
   {
    "duration": 12,
    "start_time": "2024-09-17T16:01:25.279Z"
   },
   {
    "duration": 289,
    "start_time": "2024-09-17T16:01:40.156Z"
   },
   {
    "duration": 121,
    "start_time": "2024-09-17T16:01:40.447Z"
   },
   {
    "duration": 7,
    "start_time": "2024-09-17T16:01:40.570Z"
   },
   {
    "duration": 29,
    "start_time": "2024-09-17T16:01:40.580Z"
   },
   {
    "duration": 2,
    "start_time": "2024-09-17T16:01:40.612Z"
   },
   {
    "duration": 3,
    "start_time": "2024-09-17T16:01:40.616Z"
   },
   {
    "duration": 2,
    "start_time": "2024-09-17T16:01:40.622Z"
   },
   {
    "duration": 3,
    "start_time": "2024-09-17T16:01:40.626Z"
   },
   {
    "duration": 0,
    "start_time": "2024-09-17T16:01:40.631Z"
   },
   {
    "duration": 0,
    "start_time": "2024-09-17T16:01:40.633Z"
   },
   {
    "duration": 0,
    "start_time": "2024-09-17T16:01:40.634Z"
   },
   {
    "duration": 0,
    "start_time": "2024-09-17T16:01:40.636Z"
   },
   {
    "duration": 0,
    "start_time": "2024-09-17T16:01:40.637Z"
   },
   {
    "duration": 0,
    "start_time": "2024-09-17T16:01:40.639Z"
   },
   {
    "duration": 0,
    "start_time": "2024-09-17T16:01:40.640Z"
   },
   {
    "duration": 0,
    "start_time": "2024-09-17T16:01:40.642Z"
   },
   {
    "duration": 0,
    "start_time": "2024-09-17T16:01:40.643Z"
   },
   {
    "duration": 0,
    "start_time": "2024-09-17T16:01:40.644Z"
   },
   {
    "duration": 0,
    "start_time": "2024-09-17T16:01:40.646Z"
   },
   {
    "duration": 0,
    "start_time": "2024-09-17T16:01:40.647Z"
   },
   {
    "duration": 0,
    "start_time": "2024-09-17T16:01:40.649Z"
   },
   {
    "duration": 0,
    "start_time": "2024-09-17T16:01:40.650Z"
   },
   {
    "duration": 0,
    "start_time": "2024-09-17T16:01:40.651Z"
   },
   {
    "duration": 0,
    "start_time": "2024-09-17T16:01:40.653Z"
   },
   {
    "duration": 0,
    "start_time": "2024-09-17T16:01:40.705Z"
   },
   {
    "duration": 0,
    "start_time": "2024-09-17T16:01:40.707Z"
   },
   {
    "duration": 0,
    "start_time": "2024-09-17T16:01:40.708Z"
   },
   {
    "duration": 0,
    "start_time": "2024-09-17T16:01:40.709Z"
   },
   {
    "duration": 3,
    "start_time": "2024-09-17T16:01:55.050Z"
   },
   {
    "duration": 3,
    "start_time": "2024-09-17T16:02:15.992Z"
   },
   {
    "duration": 3,
    "start_time": "2024-09-17T16:02:42.520Z"
   },
   {
    "duration": 3,
    "start_time": "2024-09-17T16:03:08.079Z"
   },
   {
    "duration": 3,
    "start_time": "2024-09-17T16:03:16.349Z"
   },
   {
    "duration": 3,
    "start_time": "2024-09-17T16:03:52.866Z"
   },
   {
    "duration": 3,
    "start_time": "2024-09-17T16:04:09.096Z"
   },
   {
    "duration": 3,
    "start_time": "2024-09-17T16:04:39.977Z"
   },
   {
    "duration": 3,
    "start_time": "2024-09-17T16:13:52.224Z"
   },
   {
    "duration": 104,
    "start_time": "2024-09-17T16:14:17.471Z"
   },
   {
    "duration": 5,
    "start_time": "2024-09-17T16:14:30.748Z"
   },
   {
    "duration": 22,
    "start_time": "2024-09-17T16:14:40.698Z"
   },
   {
    "duration": 3,
    "start_time": "2024-09-17T16:14:52.562Z"
   },
   {
    "duration": 4,
    "start_time": "2024-09-17T16:15:39.502Z"
   },
   {
    "duration": 11,
    "start_time": "2024-09-17T16:18:50.658Z"
   },
   {
    "duration": 3,
    "start_time": "2024-09-17T16:48:11.042Z"
   },
   {
    "duration": 3,
    "start_time": "2024-09-17T16:48:30.042Z"
   },
   {
    "duration": 3,
    "start_time": "2024-09-17T16:49:09.460Z"
   },
   {
    "duration": 3,
    "start_time": "2024-09-17T16:51:09.233Z"
   },
   {
    "duration": 4,
    "start_time": "2024-09-17T16:51:13.068Z"
   },
   {
    "duration": 3,
    "start_time": "2024-09-17T16:51:23.436Z"
   },
   {
    "duration": 3,
    "start_time": "2024-09-17T16:51:29.191Z"
   },
   {
    "duration": 4,
    "start_time": "2024-09-17T16:52:26.963Z"
   },
   {
    "duration": 3,
    "start_time": "2024-09-17T16:52:38.830Z"
   },
   {
    "duration": 3,
    "start_time": "2024-09-17T16:54:53.940Z"
   },
   {
    "duration": 3,
    "start_time": "2024-09-17T16:55:55.010Z"
   },
   {
    "duration": 3,
    "start_time": "2024-09-17T16:56:21.216Z"
   },
   {
    "duration": 2,
    "start_time": "2024-09-17T16:56:58.113Z"
   },
   {
    "duration": 3,
    "start_time": "2024-09-17T16:57:01.558Z"
   },
   {
    "duration": 3,
    "start_time": "2024-09-17T16:57:05.940Z"
   },
   {
    "duration": 7,
    "start_time": "2024-09-17T17:00:02.398Z"
   },
   {
    "duration": 3,
    "start_time": "2024-09-17T17:00:15.423Z"
   },
   {
    "duration": 2,
    "start_time": "2024-09-17T17:00:39.298Z"
   },
   {
    "duration": 16,
    "start_time": "2024-09-17T17:01:13.851Z"
   },
   {
    "duration": 17,
    "start_time": "2024-09-17T17:03:28.247Z"
   },
   {
    "duration": 3,
    "start_time": "2024-09-17T17:13:44.987Z"
   },
   {
    "duration": 4,
    "start_time": "2024-09-17T17:16:27.779Z"
   },
   {
    "duration": 175,
    "start_time": "2024-09-17T17:17:23.812Z"
   },
   {
    "duration": 13,
    "start_time": "2024-09-17T17:17:42.487Z"
   },
   {
    "duration": 14,
    "start_time": "2024-09-17T17:18:08.122Z"
   },
   {
    "duration": 12,
    "start_time": "2024-09-17T17:18:46.835Z"
   },
   {
    "duration": 12,
    "start_time": "2024-09-17T17:19:09.715Z"
   },
   {
    "duration": 3,
    "start_time": "2024-09-17T17:19:20.146Z"
   },
   {
    "duration": 90,
    "start_time": "2024-09-17T17:19:21.902Z"
   },
   {
    "duration": 9,
    "start_time": "2024-09-17T17:19:24.291Z"
   },
   {
    "duration": 21,
    "start_time": "2024-09-17T17:19:28.566Z"
   },
   {
    "duration": 4,
    "start_time": "2024-09-17T17:19:33.895Z"
   },
   {
    "duration": 291,
    "start_time": "2024-09-17T17:19:47.361Z"
   },
   {
    "duration": 91,
    "start_time": "2024-09-17T17:19:47.655Z"
   },
   {
    "duration": 12,
    "start_time": "2024-09-17T17:19:47.748Z"
   },
   {
    "duration": 20,
    "start_time": "2024-09-17T17:19:47.763Z"
   },
   {
    "duration": 3,
    "start_time": "2024-09-17T17:19:47.785Z"
   },
   {
    "duration": 4,
    "start_time": "2024-09-17T17:19:47.805Z"
   },
   {
    "duration": 8,
    "start_time": "2024-09-17T17:19:47.811Z"
   },
   {
    "duration": 2,
    "start_time": "2024-09-17T17:19:47.821Z"
   },
   {
    "duration": 3,
    "start_time": "2024-09-17T17:19:47.824Z"
   },
   {
    "duration": 2,
    "start_time": "2024-09-17T17:19:47.830Z"
   },
   {
    "duration": 17,
    "start_time": "2024-09-17T17:19:47.834Z"
   },
   {
    "duration": 210,
    "start_time": "2024-09-17T17:19:47.852Z"
   },
   {
    "duration": 0,
    "start_time": "2024-09-17T17:19:48.064Z"
   },
   {
    "duration": 0,
    "start_time": "2024-09-17T17:19:48.066Z"
   },
   {
    "duration": 0,
    "start_time": "2024-09-17T17:19:48.067Z"
   },
   {
    "duration": 0,
    "start_time": "2024-09-17T17:19:48.069Z"
   },
   {
    "duration": 0,
    "start_time": "2024-09-17T17:19:48.070Z"
   },
   {
    "duration": 0,
    "start_time": "2024-09-17T17:19:48.072Z"
   },
   {
    "duration": 0,
    "start_time": "2024-09-17T17:19:48.073Z"
   },
   {
    "duration": 0,
    "start_time": "2024-09-17T17:19:48.074Z"
   },
   {
    "duration": 0,
    "start_time": "2024-09-17T17:19:48.076Z"
   },
   {
    "duration": 0,
    "start_time": "2024-09-17T17:19:48.077Z"
   },
   {
    "duration": 0,
    "start_time": "2024-09-17T17:19:48.078Z"
   },
   {
    "duration": 0,
    "start_time": "2024-09-17T17:19:48.079Z"
   },
   {
    "duration": 0,
    "start_time": "2024-09-17T17:19:48.080Z"
   },
   {
    "duration": 0,
    "start_time": "2024-09-17T17:19:48.105Z"
   },
   {
    "duration": 0,
    "start_time": "2024-09-17T17:19:48.106Z"
   },
   {
    "duration": 0,
    "start_time": "2024-09-17T17:19:48.107Z"
   },
   {
    "duration": 0,
    "start_time": "2024-09-17T17:19:48.108Z"
   },
   {
    "duration": 4,
    "start_time": "2024-09-17T17:20:34.396Z"
   },
   {
    "duration": 3,
    "start_time": "2024-09-17T17:22:44.612Z"
   },
   {
    "duration": 3,
    "start_time": "2024-09-17T17:22:54.457Z"
   },
   {
    "duration": 22,
    "start_time": "2024-09-17T17:25:36.519Z"
   },
   {
    "duration": 9,
    "start_time": "2024-09-17T17:26:16.695Z"
   },
   {
    "duration": 5,
    "start_time": "2024-09-17T17:27:11.651Z"
   },
   {
    "duration": 4,
    "start_time": "2024-09-17T17:27:32.197Z"
   },
   {
    "duration": 293,
    "start_time": "2024-09-17T19:51:14.226Z"
   },
   {
    "duration": 123,
    "start_time": "2024-09-17T19:51:14.521Z"
   },
   {
    "duration": 13,
    "start_time": "2024-09-17T19:51:14.645Z"
   },
   {
    "duration": 25,
    "start_time": "2024-09-17T19:51:14.660Z"
   },
   {
    "duration": 4,
    "start_time": "2024-09-17T19:51:14.686Z"
   },
   {
    "duration": 4,
    "start_time": "2024-09-17T19:51:14.692Z"
   },
   {
    "duration": 4,
    "start_time": "2024-09-17T19:51:14.698Z"
   },
   {
    "duration": 3,
    "start_time": "2024-09-17T19:51:14.704Z"
   },
   {
    "duration": 19,
    "start_time": "2024-09-17T19:51:14.709Z"
   },
   {
    "duration": 214,
    "start_time": "2024-09-17T19:51:14.731Z"
   },
   {
    "duration": 0,
    "start_time": "2024-09-17T19:51:14.947Z"
   },
   {
    "duration": 0,
    "start_time": "2024-09-17T19:51:14.948Z"
   },
   {
    "duration": 0,
    "start_time": "2024-09-17T19:51:14.949Z"
   },
   {
    "duration": 0,
    "start_time": "2024-09-17T19:51:14.951Z"
   },
   {
    "duration": 1,
    "start_time": "2024-09-17T19:51:14.952Z"
   },
   {
    "duration": 0,
    "start_time": "2024-09-17T19:51:14.954Z"
   },
   {
    "duration": 0,
    "start_time": "2024-09-17T19:51:14.970Z"
   },
   {
    "duration": 0,
    "start_time": "2024-09-17T19:51:14.971Z"
   },
   {
    "duration": 0,
    "start_time": "2024-09-17T19:51:14.972Z"
   },
   {
    "duration": 0,
    "start_time": "2024-09-17T19:51:14.973Z"
   },
   {
    "duration": 0,
    "start_time": "2024-09-17T19:51:14.974Z"
   },
   {
    "duration": 0,
    "start_time": "2024-09-17T19:51:14.976Z"
   },
   {
    "duration": 0,
    "start_time": "2024-09-17T19:51:14.977Z"
   },
   {
    "duration": 0,
    "start_time": "2024-09-17T19:51:14.978Z"
   },
   {
    "duration": 0,
    "start_time": "2024-09-17T19:51:14.978Z"
   },
   {
    "duration": 0,
    "start_time": "2024-09-17T19:51:14.979Z"
   },
   {
    "duration": 0,
    "start_time": "2024-09-17T19:51:14.980Z"
   },
   {
    "duration": 6,
    "start_time": "2024-09-17T19:51:48.053Z"
   },
   {
    "duration": 3,
    "start_time": "2024-09-17T19:52:07.002Z"
   },
   {
    "duration": 292,
    "start_time": "2024-09-18T01:58:07.300Z"
   },
   {
    "duration": 119,
    "start_time": "2024-09-18T01:58:07.593Z"
   },
   {
    "duration": 14,
    "start_time": "2024-09-18T01:58:07.714Z"
   },
   {
    "duration": 23,
    "start_time": "2024-09-18T01:58:07.731Z"
   },
   {
    "duration": 4,
    "start_time": "2024-09-18T01:58:07.756Z"
   },
   {
    "duration": 5,
    "start_time": "2024-09-18T01:58:07.762Z"
   },
   {
    "duration": 5,
    "start_time": "2024-09-18T01:58:07.768Z"
   },
   {
    "duration": 3,
    "start_time": "2024-09-18T01:58:07.775Z"
   },
   {
    "duration": 19,
    "start_time": "2024-09-18T01:58:07.811Z"
   },
   {
    "duration": 184,
    "start_time": "2024-09-18T01:58:07.833Z"
   },
   {
    "duration": 0,
    "start_time": "2024-09-18T01:58:08.019Z"
   },
   {
    "duration": 0,
    "start_time": "2024-09-18T01:58:08.021Z"
   },
   {
    "duration": 0,
    "start_time": "2024-09-18T01:58:08.022Z"
   },
   {
    "duration": 0,
    "start_time": "2024-09-18T01:58:08.023Z"
   },
   {
    "duration": 0,
    "start_time": "2024-09-18T01:58:08.024Z"
   },
   {
    "duration": 0,
    "start_time": "2024-09-18T01:58:08.026Z"
   },
   {
    "duration": 0,
    "start_time": "2024-09-18T01:58:08.027Z"
   },
   {
    "duration": 0,
    "start_time": "2024-09-18T01:58:08.029Z"
   },
   {
    "duration": 0,
    "start_time": "2024-09-18T01:58:08.030Z"
   },
   {
    "duration": 0,
    "start_time": "2024-09-18T01:58:08.031Z"
   },
   {
    "duration": 0,
    "start_time": "2024-09-18T01:58:08.032Z"
   },
   {
    "duration": 0,
    "start_time": "2024-09-18T01:58:08.034Z"
   },
   {
    "duration": 0,
    "start_time": "2024-09-18T01:58:08.036Z"
   },
   {
    "duration": 0,
    "start_time": "2024-09-18T01:58:08.037Z"
   },
   {
    "duration": 0,
    "start_time": "2024-09-18T01:58:08.038Z"
   },
   {
    "duration": 0,
    "start_time": "2024-09-18T01:58:08.039Z"
   },
   {
    "duration": 0,
    "start_time": "2024-09-18T01:58:08.040Z"
   },
   {
    "duration": 18,
    "start_time": "2024-09-18T02:04:30.831Z"
   },
   {
    "duration": 12,
    "start_time": "2024-09-18T02:16:03.547Z"
   },
   {
    "duration": 24,
    "start_time": "2024-09-18T02:16:27.084Z"
   },
   {
    "duration": 15,
    "start_time": "2024-09-18T02:17:57.901Z"
   },
   {
    "duration": 14,
    "start_time": "2024-09-18T02:18:00.857Z"
   },
   {
    "duration": 9,
    "start_time": "2024-09-18T02:18:51.101Z"
   },
   {
    "duration": 17,
    "start_time": "2024-09-18T02:18:53.512Z"
   },
   {
    "duration": 33,
    "start_time": "2024-09-18T02:28:08.286Z"
   },
   {
    "duration": 36,
    "start_time": "2024-09-18T02:30:55.921Z"
   },
   {
    "duration": 28,
    "start_time": "2024-09-18T02:31:15.634Z"
   },
   {
    "duration": 32,
    "start_time": "2024-09-18T02:37:04.469Z"
   },
   {
    "duration": 34,
    "start_time": "2024-09-18T02:37:08.019Z"
   },
   {
    "duration": 343,
    "start_time": "2024-09-18T02:43:43.904Z"
   },
   {
    "duration": 3,
    "start_time": "2024-09-18T02:52:35.743Z"
   },
   {
    "duration": 18,
    "start_time": "2024-09-18T02:52:59.910Z"
   },
   {
    "duration": 17,
    "start_time": "2024-09-18T02:53:02.220Z"
   },
   {
    "duration": 20,
    "start_time": "2024-09-18T02:53:55.063Z"
   },
   {
    "duration": 3,
    "start_time": "2024-09-18T02:54:11.385Z"
   },
   {
    "duration": 20,
    "start_time": "2024-09-18T02:54:43.845Z"
   },
   {
    "duration": 14,
    "start_time": "2024-09-18T03:04:57.420Z"
   },
   {
    "duration": 2,
    "start_time": "2024-09-18T03:06:13.282Z"
   },
   {
    "duration": 4,
    "start_time": "2024-09-18T03:09:26.522Z"
   },
   {
    "duration": 12,
    "start_time": "2024-09-18T03:09:47.628Z"
   },
   {
    "duration": 13,
    "start_time": "2024-09-18T03:09:52.894Z"
   },
   {
    "duration": 13,
    "start_time": "2024-09-18T03:10:21.605Z"
   },
   {
    "duration": 12,
    "start_time": "2024-09-18T03:11:41.502Z"
   },
   {
    "duration": 4,
    "start_time": "2024-09-18T03:25:12.816Z"
   },
   {
    "duration": 18,
    "start_time": "2024-09-18T03:25:28.002Z"
   },
   {
    "duration": 12,
    "start_time": "2024-09-18T03:25:41.845Z"
   },
   {
    "duration": 13,
    "start_time": "2024-09-18T03:30:05.078Z"
   },
   {
    "duration": 298,
    "start_time": "2024-09-18T14:50:14.097Z"
   },
   {
    "duration": 121,
    "start_time": "2024-09-18T14:50:14.397Z"
   },
   {
    "duration": 13,
    "start_time": "2024-09-18T14:50:14.519Z"
   },
   {
    "duration": 22,
    "start_time": "2024-09-18T14:50:14.534Z"
   },
   {
    "duration": 4,
    "start_time": "2024-09-18T14:50:14.558Z"
   },
   {
    "duration": 5,
    "start_time": "2024-09-18T14:50:14.564Z"
   },
   {
    "duration": 37,
    "start_time": "2024-09-18T14:50:14.571Z"
   },
   {
    "duration": 3,
    "start_time": "2024-09-18T14:50:14.609Z"
   },
   {
    "duration": 18,
    "start_time": "2024-09-18T14:50:14.614Z"
   },
   {
    "duration": 12,
    "start_time": "2024-09-18T14:50:14.637Z"
   },
   {
    "duration": 17,
    "start_time": "2024-09-18T14:50:14.650Z"
   },
   {
    "duration": 75,
    "start_time": "2024-09-18T14:50:14.670Z"
   },
   {
    "duration": 64,
    "start_time": "2024-09-18T14:50:14.748Z"
   },
   {
    "duration": 41,
    "start_time": "2024-09-18T14:50:14.814Z"
   },
   {
    "duration": 2,
    "start_time": "2024-09-18T14:50:14.857Z"
   },
   {
    "duration": 3,
    "start_time": "2024-09-18T14:50:14.860Z"
   },
   {
    "duration": 2,
    "start_time": "2024-09-18T14:50:14.865Z"
   },
   {
    "duration": 2,
    "start_time": "2024-09-18T14:50:14.869Z"
   },
   {
    "duration": 32,
    "start_time": "2024-09-18T14:50:14.873Z"
   },
   {
    "duration": 2,
    "start_time": "2024-09-18T14:50:14.907Z"
   },
   {
    "duration": 2,
    "start_time": "2024-09-18T14:50:14.911Z"
   },
   {
    "duration": 4,
    "start_time": "2024-09-18T14:50:14.914Z"
   },
   {
    "duration": 2,
    "start_time": "2024-09-18T14:50:14.921Z"
   },
   {
    "duration": 3,
    "start_time": "2024-09-18T14:50:14.924Z"
   },
   {
    "duration": 3,
    "start_time": "2024-09-18T14:50:14.928Z"
   },
   {
    "duration": 2,
    "start_time": "2024-09-18T14:50:14.932Z"
   },
   {
    "duration": 2,
    "start_time": "2024-09-18T14:50:14.936Z"
   },
   {
    "duration": 304,
    "start_time": "2024-09-18T14:53:34.906Z"
   },
   {
    "duration": 97,
    "start_time": "2024-09-18T14:53:35.213Z"
   },
   {
    "duration": 11,
    "start_time": "2024-09-18T14:53:35.312Z"
   },
   {
    "duration": 21,
    "start_time": "2024-09-18T14:53:35.326Z"
   },
   {
    "duration": 5,
    "start_time": "2024-09-18T14:53:35.348Z"
   },
   {
    "duration": 5,
    "start_time": "2024-09-18T14:53:35.355Z"
   },
   {
    "duration": 5,
    "start_time": "2024-09-18T14:53:35.361Z"
   },
   {
    "duration": 38,
    "start_time": "2024-09-18T14:53:35.367Z"
   },
   {
    "duration": 18,
    "start_time": "2024-09-18T14:53:35.408Z"
   },
   {
    "duration": 10,
    "start_time": "2024-09-18T14:53:35.429Z"
   },
   {
    "duration": 16,
    "start_time": "2024-09-18T14:53:35.441Z"
   },
   {
    "duration": 68,
    "start_time": "2024-09-18T14:53:35.458Z"
   },
   {
    "duration": 51,
    "start_time": "2024-09-18T14:53:35.527Z"
   },
   {
    "duration": 53,
    "start_time": "2024-09-18T14:53:35.579Z"
   },
   {
    "duration": 2,
    "start_time": "2024-09-18T14:53:35.634Z"
   },
   {
    "duration": 3,
    "start_time": "2024-09-18T14:53:35.637Z"
   },
   {
    "duration": 2,
    "start_time": "2024-09-18T14:53:35.642Z"
   },
   {
    "duration": 2,
    "start_time": "2024-09-18T14:53:35.646Z"
   },
   {
    "duration": 2,
    "start_time": "2024-09-18T14:53:35.650Z"
   },
   {
    "duration": 2,
    "start_time": "2024-09-18T14:53:35.654Z"
   },
   {
    "duration": 3,
    "start_time": "2024-09-18T14:53:35.658Z"
   },
   {
    "duration": 3,
    "start_time": "2024-09-18T14:53:35.662Z"
   },
   {
    "duration": 2,
    "start_time": "2024-09-18T14:53:35.667Z"
   },
   {
    "duration": 36,
    "start_time": "2024-09-18T14:53:35.670Z"
   },
   {
    "duration": 3,
    "start_time": "2024-09-18T14:53:35.708Z"
   },
   {
    "duration": 2,
    "start_time": "2024-09-18T14:53:35.713Z"
   },
   {
    "duration": 3,
    "start_time": "2024-09-18T14:53:35.717Z"
   },
   {
    "duration": 6,
    "start_time": "2024-09-18T14:54:17.949Z"
   },
   {
    "duration": 364,
    "start_time": "2024-09-18T14:54:53.676Z"
   },
   {
    "duration": 6,
    "start_time": "2024-09-18T14:55:01.599Z"
   },
   {
    "duration": 6,
    "start_time": "2024-09-18T14:55:13.585Z"
   },
   {
    "duration": 4,
    "start_time": "2024-09-18T15:08:54.745Z"
   },
   {
    "duration": 154,
    "start_time": "2024-09-18T15:09:11.349Z"
   },
   {
    "duration": 24,
    "start_time": "2024-09-18T15:10:17.512Z"
   },
   {
    "duration": 53,
    "start_time": "2024-09-18T15:13:32.640Z"
   },
   {
    "duration": 5,
    "start_time": "2024-09-18T15:14:19.197Z"
   },
   {
    "duration": 4,
    "start_time": "2024-09-18T15:15:14.111Z"
   },
   {
    "duration": 11,
    "start_time": "2024-09-18T15:21:07.360Z"
   },
   {
    "duration": 7,
    "start_time": "2024-09-18T15:23:22.435Z"
   },
   {
    "duration": 11,
    "start_time": "2024-09-18T15:23:30.859Z"
   },
   {
    "duration": 18,
    "start_time": "2024-09-18T15:24:40.771Z"
   },
   {
    "duration": 4,
    "start_time": "2024-09-18T15:32:40.206Z"
   },
   {
    "duration": 22,
    "start_time": "2024-09-18T15:35:25.349Z"
   },
   {
    "duration": 4,
    "start_time": "2024-09-18T15:35:56.644Z"
   },
   {
    "duration": 6,
    "start_time": "2024-09-18T15:37:51.159Z"
   },
   {
    "duration": 299,
    "start_time": "2024-09-18T15:40:45.003Z"
   },
   {
    "duration": 93,
    "start_time": "2024-09-18T15:40:45.306Z"
   },
   {
    "duration": 13,
    "start_time": "2024-09-18T15:40:45.400Z"
   },
   {
    "duration": 21,
    "start_time": "2024-09-18T15:40:45.415Z"
   },
   {
    "duration": 4,
    "start_time": "2024-09-18T15:40:45.439Z"
   },
   {
    "duration": 5,
    "start_time": "2024-09-18T15:40:45.444Z"
   },
   {
    "duration": 5,
    "start_time": "2024-09-18T15:40:45.450Z"
   },
   {
    "duration": 2,
    "start_time": "2024-09-18T15:40:45.457Z"
   },
   {
    "duration": 55,
    "start_time": "2024-09-18T15:40:45.461Z"
   },
   {
    "duration": 12,
    "start_time": "2024-09-18T15:40:45.518Z"
   },
   {
    "duration": 17,
    "start_time": "2024-09-18T15:40:45.531Z"
   },
   {
    "duration": 68,
    "start_time": "2024-09-18T15:40:45.550Z"
   },
   {
    "duration": 51,
    "start_time": "2024-09-18T15:40:45.620Z"
   },
   {
    "duration": 51,
    "start_time": "2024-09-18T15:40:45.676Z"
   },
   {
    "duration": 6,
    "start_time": "2024-09-18T15:40:45.728Z"
   },
   {
    "duration": 4,
    "start_time": "2024-09-18T15:40:45.736Z"
   },
   {
    "duration": 5,
    "start_time": "2024-09-18T15:40:45.742Z"
   },
   {
    "duration": 2,
    "start_time": "2024-09-18T15:40:45.749Z"
   },
   {
    "duration": 3,
    "start_time": "2024-09-18T15:40:45.752Z"
   },
   {
    "duration": 3,
    "start_time": "2024-09-18T15:40:45.756Z"
   },
   {
    "duration": 2,
    "start_time": "2024-09-18T15:40:45.760Z"
   },
   {
    "duration": 3,
    "start_time": "2024-09-18T15:40:45.764Z"
   },
   {
    "duration": 38,
    "start_time": "2024-09-18T15:40:45.768Z"
   },
   {
    "duration": 2,
    "start_time": "2024-09-18T15:40:45.809Z"
   },
   {
    "duration": 2,
    "start_time": "2024-09-18T15:40:45.813Z"
   },
   {
    "duration": 3,
    "start_time": "2024-09-18T15:40:45.817Z"
   },
   {
    "duration": 2,
    "start_time": "2024-09-18T15:40:45.822Z"
   },
   {
    "duration": 3,
    "start_time": "2024-09-18T15:40:45.826Z"
   },
   {
    "duration": 6,
    "start_time": "2024-09-18T15:41:19.117Z"
   },
   {
    "duration": 4,
    "start_time": "2024-09-18T15:41:27.745Z"
   },
   {
    "duration": 6,
    "start_time": "2024-09-18T15:41:34.181Z"
   },
   {
    "duration": 4,
    "start_time": "2024-09-18T15:43:55.738Z"
   },
   {
    "duration": 6,
    "start_time": "2024-09-18T15:44:02.728Z"
   },
   {
    "duration": 327,
    "start_time": "2024-09-18T21:41:04.025Z"
   },
   {
    "duration": 125,
    "start_time": "2024-09-18T21:41:04.355Z"
   },
   {
    "duration": 14,
    "start_time": "2024-09-18T21:41:04.482Z"
   },
   {
    "duration": 26,
    "start_time": "2024-09-18T21:41:04.498Z"
   },
   {
    "duration": 4,
    "start_time": "2024-09-18T21:41:04.544Z"
   },
   {
    "duration": 5,
    "start_time": "2024-09-18T21:41:04.549Z"
   },
   {
    "duration": 5,
    "start_time": "2024-09-18T21:41:04.557Z"
   },
   {
    "duration": 3,
    "start_time": "2024-09-18T21:41:04.564Z"
   },
   {
    "duration": 24,
    "start_time": "2024-09-18T21:41:04.570Z"
   },
   {
    "duration": 51,
    "start_time": "2024-09-18T21:41:04.596Z"
   },
   {
    "duration": 19,
    "start_time": "2024-09-18T21:41:04.649Z"
   },
   {
    "duration": 47,
    "start_time": "2024-09-18T21:41:04.670Z"
   },
   {
    "duration": 77,
    "start_time": "2024-09-18T21:41:04.719Z"
   },
   {
    "duration": 54,
    "start_time": "2024-09-18T21:41:04.800Z"
   },
   {
    "duration": 7,
    "start_time": "2024-09-18T21:41:04.856Z"
   },
   {
    "duration": 5,
    "start_time": "2024-09-18T21:41:04.864Z"
   },
   {
    "duration": 7,
    "start_time": "2024-09-18T21:41:04.870Z"
   },
   {
    "duration": 2,
    "start_time": "2024-09-18T21:41:04.880Z"
   },
   {
    "duration": 3,
    "start_time": "2024-09-18T21:41:04.884Z"
   },
   {
    "duration": 3,
    "start_time": "2024-09-18T21:41:04.889Z"
   },
   {
    "duration": 3,
    "start_time": "2024-09-18T21:41:04.893Z"
   },
   {
    "duration": 46,
    "start_time": "2024-09-18T21:41:04.898Z"
   },
   {
    "duration": 2,
    "start_time": "2024-09-18T21:41:04.946Z"
   },
   {
    "duration": 3,
    "start_time": "2024-09-18T21:41:04.950Z"
   },
   {
    "duration": 3,
    "start_time": "2024-09-18T21:41:04.954Z"
   },
   {
    "duration": 2,
    "start_time": "2024-09-18T21:41:04.959Z"
   },
   {
    "duration": 2,
    "start_time": "2024-09-18T21:41:04.963Z"
   },
   {
    "duration": 3,
    "start_time": "2024-09-18T21:41:04.967Z"
   },
   {
    "duration": 245,
    "start_time": "2024-09-18T21:45:10.518Z"
   },
   {
    "duration": 22,
    "start_time": "2024-09-18T21:45:20.290Z"
   },
   {
    "duration": 21,
    "start_time": "2024-09-18T21:47:11.177Z"
   },
   {
    "duration": 270,
    "start_time": "2024-09-18T22:10:51.904Z"
   },
   {
    "duration": 116,
    "start_time": "2024-09-18T22:10:52.176Z"
   },
   {
    "duration": 13,
    "start_time": "2024-09-18T22:10:52.293Z"
   },
   {
    "duration": 28,
    "start_time": "2024-09-18T22:10:52.308Z"
   },
   {
    "duration": 4,
    "start_time": "2024-09-18T22:10:52.337Z"
   },
   {
    "duration": 4,
    "start_time": "2024-09-18T22:10:52.343Z"
   },
   {
    "duration": 5,
    "start_time": "2024-09-18T22:10:52.348Z"
   },
   {
    "duration": 3,
    "start_time": "2024-09-18T22:10:52.354Z"
   },
   {
    "duration": 19,
    "start_time": "2024-09-18T22:10:52.358Z"
   },
   {
    "duration": 14,
    "start_time": "2024-09-18T22:10:52.380Z"
   },
   {
    "duration": 52,
    "start_time": "2024-09-18T22:10:52.395Z"
   },
   {
    "duration": 42,
    "start_time": "2024-09-18T22:10:52.449Z"
   },
   {
    "duration": 67,
    "start_time": "2024-09-18T22:10:52.493Z"
   },
   {
    "duration": 38,
    "start_time": "2024-09-18T22:10:52.562Z"
   },
   {
    "duration": 5,
    "start_time": "2024-09-18T22:10:52.602Z"
   },
   {
    "duration": 201,
    "start_time": "2024-09-18T22:10:52.608Z"
   },
   {
    "duration": 0,
    "start_time": "2024-09-18T22:10:52.810Z"
   },
   {
    "duration": 0,
    "start_time": "2024-09-18T22:10:52.812Z"
   },
   {
    "duration": 0,
    "start_time": "2024-09-18T22:10:52.814Z"
   },
   {
    "duration": 0,
    "start_time": "2024-09-18T22:10:52.830Z"
   },
   {
    "duration": 0,
    "start_time": "2024-09-18T22:10:52.831Z"
   },
   {
    "duration": 0,
    "start_time": "2024-09-18T22:10:52.833Z"
   },
   {
    "duration": 0,
    "start_time": "2024-09-18T22:10:52.834Z"
   },
   {
    "duration": 0,
    "start_time": "2024-09-18T22:10:52.835Z"
   },
   {
    "duration": 0,
    "start_time": "2024-09-18T22:10:52.836Z"
   },
   {
    "duration": 0,
    "start_time": "2024-09-18T22:10:52.837Z"
   },
   {
    "duration": 0,
    "start_time": "2024-09-18T22:10:52.838Z"
   },
   {
    "duration": 0,
    "start_time": "2024-09-18T22:10:52.839Z"
   },
   {
    "duration": 28,
    "start_time": "2024-09-18T22:11:11.604Z"
   },
   {
    "duration": 19,
    "start_time": "2024-09-18T22:12:36.626Z"
   },
   {
    "duration": 18,
    "start_time": "2024-09-18T22:12:58.728Z"
   },
   {
    "duration": 6,
    "start_time": "2024-09-18T22:16:34.444Z"
   },
   {
    "duration": 20,
    "start_time": "2024-09-18T22:18:22.467Z"
   },
   {
    "duration": 19,
    "start_time": "2024-09-18T22:18:26.557Z"
   },
   {
    "duration": 4,
    "start_time": "2024-09-18T22:19:03.879Z"
   },
   {
    "duration": 20,
    "start_time": "2024-09-18T22:20:14.372Z"
   },
   {
    "duration": 4,
    "start_time": "2024-09-18T22:20:49.339Z"
   },
   {
    "duration": 37,
    "start_time": "2024-09-18T22:26:51.590Z"
   },
   {
    "duration": 3,
    "start_time": "2024-09-18T22:43:45.956Z"
   },
   {
    "duration": 443,
    "start_time": "2024-09-18T22:43:55.863Z"
   },
   {
    "duration": 3,
    "start_time": "2024-09-18T22:51:07.601Z"
   },
   {
    "duration": 19,
    "start_time": "2024-09-18T22:53:59.452Z"
   },
   {
    "duration": 17,
    "start_time": "2024-09-18T22:54:17.334Z"
   },
   {
    "duration": 19,
    "start_time": "2024-09-18T22:54:40.416Z"
   },
   {
    "duration": 18,
    "start_time": "2024-09-18T22:55:09.724Z"
   },
   {
    "duration": 6,
    "start_time": "2024-09-18T22:55:34.597Z"
   },
   {
    "duration": 6,
    "start_time": "2024-09-18T23:08:51.304Z"
   },
   {
    "duration": 3,
    "start_time": "2024-09-18T23:11:57.467Z"
   },
   {
    "duration": 6,
    "start_time": "2024-09-18T23:12:03.172Z"
   },
   {
    "duration": 17,
    "start_time": "2024-09-18T23:12:15.138Z"
   },
   {
    "duration": 10,
    "start_time": "2024-09-18T23:37:04.835Z"
   },
   {
    "duration": 19,
    "start_time": "2024-09-18T23:43:16.758Z"
   },
   {
    "duration": 13,
    "start_time": "2024-09-18T23:43:38.456Z"
   },
   {
    "duration": 12,
    "start_time": "2024-09-18T23:43:49.050Z"
   },
   {
    "duration": 15,
    "start_time": "2024-09-18T23:44:56.057Z"
   },
   {
    "duration": 7,
    "start_time": "2024-09-18T23:45:20.814Z"
   },
   {
    "duration": 6,
    "start_time": "2024-09-18T23:45:45.526Z"
   },
   {
    "duration": 6,
    "start_time": "2024-09-18T23:47:09.220Z"
   },
   {
    "duration": 8,
    "start_time": "2024-09-18T23:51:40.827Z"
   },
   {
    "duration": 3,
    "start_time": "2024-09-18T23:56:01.192Z"
   },
   {
    "duration": 22,
    "start_time": "2024-09-18T23:56:05.103Z"
   },
   {
    "duration": 302,
    "start_time": "2024-09-19T00:38:01.568Z"
   },
   {
    "duration": 126,
    "start_time": "2024-09-19T00:38:01.872Z"
   },
   {
    "duration": 13,
    "start_time": "2024-09-19T00:38:01.999Z"
   },
   {
    "duration": 22,
    "start_time": "2024-09-19T00:38:02.014Z"
   },
   {
    "duration": 4,
    "start_time": "2024-09-19T00:38:02.038Z"
   },
   {
    "duration": 5,
    "start_time": "2024-09-19T00:38:02.044Z"
   },
   {
    "duration": 21,
    "start_time": "2024-09-19T00:38:02.050Z"
   },
   {
    "duration": 4,
    "start_time": "2024-09-19T00:38:02.073Z"
   },
   {
    "duration": 18,
    "start_time": "2024-09-19T00:38:02.079Z"
   },
   {
    "duration": 12,
    "start_time": "2024-09-19T00:38:02.098Z"
   },
   {
    "duration": 17,
    "start_time": "2024-09-19T00:38:02.111Z"
   },
   {
    "duration": 71,
    "start_time": "2024-09-19T00:38:02.129Z"
   },
   {
    "duration": 47,
    "start_time": "2024-09-19T00:38:02.202Z"
   },
   {
    "duration": 52,
    "start_time": "2024-09-19T00:38:02.253Z"
   },
   {
    "duration": 5,
    "start_time": "2024-09-19T00:38:02.307Z"
   },
   {
    "duration": 5,
    "start_time": "2024-09-19T00:38:02.314Z"
   },
   {
    "duration": 15,
    "start_time": "2024-09-19T00:38:02.321Z"
   },
   {
    "duration": 7,
    "start_time": "2024-09-19T00:38:02.338Z"
   },
   {
    "duration": 24,
    "start_time": "2024-09-19T00:38:02.347Z"
   },
   {
    "duration": 3,
    "start_time": "2024-09-19T00:38:02.373Z"
   },
   {
    "duration": 2,
    "start_time": "2024-09-19T00:38:02.378Z"
   },
   {
    "duration": 3,
    "start_time": "2024-09-19T00:38:02.381Z"
   },
   {
    "duration": 3,
    "start_time": "2024-09-19T00:38:02.385Z"
   },
   {
    "duration": 3,
    "start_time": "2024-09-19T00:38:02.389Z"
   },
   {
    "duration": 2,
    "start_time": "2024-09-19T00:38:02.393Z"
   },
   {
    "duration": 2,
    "start_time": "2024-09-19T00:38:02.397Z"
   },
   {
    "duration": 2,
    "start_time": "2024-09-19T00:38:02.402Z"
   },
   {
    "duration": 487,
    "start_time": "2024-09-19T00:40:12.344Z"
   },
   {
    "duration": 301,
    "start_time": "2024-09-19T01:45:51.881Z"
   },
   {
    "duration": 119,
    "start_time": "2024-09-19T01:45:52.184Z"
   },
   {
    "duration": 11,
    "start_time": "2024-09-19T01:45:52.305Z"
   },
   {
    "duration": 22,
    "start_time": "2024-09-19T01:45:52.318Z"
   },
   {
    "duration": 3,
    "start_time": "2024-09-19T01:45:52.343Z"
   },
   {
    "duration": 5,
    "start_time": "2024-09-19T01:45:52.348Z"
   },
   {
    "duration": 34,
    "start_time": "2024-09-19T01:45:52.354Z"
   },
   {
    "duration": 4,
    "start_time": "2024-09-19T01:45:52.389Z"
   },
   {
    "duration": 18,
    "start_time": "2024-09-19T01:45:52.396Z"
   },
   {
    "duration": 13,
    "start_time": "2024-09-19T01:45:52.415Z"
   },
   {
    "duration": 17,
    "start_time": "2024-09-19T01:45:52.430Z"
   },
   {
    "duration": 72,
    "start_time": "2024-09-19T01:45:52.449Z"
   },
   {
    "duration": 48,
    "start_time": "2024-09-19T01:45:52.523Z"
   },
   {
    "duration": 45,
    "start_time": "2024-09-19T01:45:52.574Z"
   },
   {
    "duration": 6,
    "start_time": "2024-09-19T01:45:52.621Z"
   },
   {
    "duration": 3,
    "start_time": "2024-09-19T01:45:52.628Z"
   },
   {
    "duration": 15,
    "start_time": "2024-09-19T01:45:52.632Z"
   },
   {
    "duration": 7,
    "start_time": "2024-09-19T01:45:52.648Z"
   },
   {
    "duration": 541,
    "start_time": "2024-09-19T01:45:52.687Z"
   },
   {
    "duration": 0,
    "start_time": "2024-09-19T01:45:53.230Z"
   },
   {
    "duration": 0,
    "start_time": "2024-09-19T01:45:53.232Z"
   },
   {
    "duration": 0,
    "start_time": "2024-09-19T01:45:53.232Z"
   },
   {
    "duration": 0,
    "start_time": "2024-09-19T01:45:53.233Z"
   },
   {
    "duration": 0,
    "start_time": "2024-09-19T01:45:53.234Z"
   },
   {
    "duration": 0,
    "start_time": "2024-09-19T01:45:53.235Z"
   },
   {
    "duration": 0,
    "start_time": "2024-09-19T01:45:53.236Z"
   },
   {
    "duration": 0,
    "start_time": "2024-09-19T01:45:53.236Z"
   },
   {
    "duration": 114,
    "start_time": "2024-09-19T01:49:48.565Z"
   },
   {
    "duration": 34,
    "start_time": "2024-09-19T01:50:24.601Z"
   },
   {
    "duration": 994,
    "start_time": "2024-09-19T01:50:39.376Z"
   },
   {
    "duration": 14,
    "start_time": "2024-09-19T01:50:53.960Z"
   },
   {
    "duration": 10,
    "start_time": "2024-09-19T01:51:39.902Z"
   },
   {
    "duration": 993,
    "start_time": "2024-09-19T01:51:56.788Z"
   },
   {
    "duration": 9,
    "start_time": "2024-09-19T01:53:11.507Z"
   },
   {
    "duration": 10,
    "start_time": "2024-09-19T02:02:16.507Z"
   },
   {
    "duration": 4,
    "start_time": "2024-09-19T02:22:38.228Z"
   },
   {
    "duration": 4,
    "start_time": "2024-09-19T02:23:08.218Z"
   },
   {
    "duration": 4,
    "start_time": "2024-09-19T02:23:57.731Z"
   },
   {
    "duration": 285,
    "start_time": "2024-09-19T02:24:09.150Z"
   },
   {
    "duration": 94,
    "start_time": "2024-09-19T02:24:09.437Z"
   },
   {
    "duration": 14,
    "start_time": "2024-09-19T02:24:09.534Z"
   },
   {
    "duration": 43,
    "start_time": "2024-09-19T02:24:09.550Z"
   },
   {
    "duration": 4,
    "start_time": "2024-09-19T02:24:09.595Z"
   },
   {
    "duration": 5,
    "start_time": "2024-09-19T02:24:09.601Z"
   },
   {
    "duration": 4,
    "start_time": "2024-09-19T02:24:09.608Z"
   },
   {
    "duration": 3,
    "start_time": "2024-09-19T02:24:09.613Z"
   },
   {
    "duration": 17,
    "start_time": "2024-09-19T02:24:09.618Z"
   },
   {
    "duration": 11,
    "start_time": "2024-09-19T02:24:09.638Z"
   },
   {
    "duration": 18,
    "start_time": "2024-09-19T02:24:09.686Z"
   },
   {
    "duration": 43,
    "start_time": "2024-09-19T02:24:09.705Z"
   },
   {
    "duration": 65,
    "start_time": "2024-09-19T02:24:09.750Z"
   },
   {
    "duration": 38,
    "start_time": "2024-09-19T02:24:09.816Z"
   },
   {
    "duration": 8,
    "start_time": "2024-09-19T02:24:09.856Z"
   },
   {
    "duration": 3,
    "start_time": "2024-09-19T02:24:09.865Z"
   },
   {
    "duration": 16,
    "start_time": "2024-09-19T02:24:09.887Z"
   },
   {
    "duration": 9,
    "start_time": "2024-09-19T02:24:09.905Z"
   },
   {
    "duration": 9,
    "start_time": "2024-09-19T02:24:09.916Z"
   },
   {
    "duration": 9,
    "start_time": "2024-09-19T02:24:09.927Z"
   },
   {
    "duration": 4,
    "start_time": "2024-09-19T02:24:09.938Z"
   },
   {
    "duration": 0,
    "start_time": "2024-09-19T02:24:09.943Z"
   },
   {
    "duration": 0,
    "start_time": "2024-09-19T02:24:09.944Z"
   },
   {
    "duration": 0,
    "start_time": "2024-09-19T02:24:09.945Z"
   },
   {
    "duration": 0,
    "start_time": "2024-09-19T02:24:09.947Z"
   },
   {
    "duration": 0,
    "start_time": "2024-09-19T02:24:09.987Z"
   },
   {
    "duration": 0,
    "start_time": "2024-09-19T02:24:09.988Z"
   },
   {
    "duration": 3,
    "start_time": "2024-09-19T02:24:50.078Z"
   },
   {
    "duration": 2,
    "start_time": "2024-09-19T02:25:02.372Z"
   },
   {
    "duration": 14,
    "start_time": "2024-09-19T02:25:45.723Z"
   },
   {
    "duration": 14,
    "start_time": "2024-09-19T02:26:14.230Z"
   },
   {
    "duration": 11,
    "start_time": "2024-09-19T02:37:45.400Z"
   },
   {
    "duration": 184,
    "start_time": "2024-09-19T02:39:55.970Z"
   },
   {
    "duration": 14,
    "start_time": "2024-09-19T02:40:04.564Z"
   },
   {
    "duration": 11,
    "start_time": "2024-09-19T02:40:07.475Z"
   },
   {
    "duration": 14,
    "start_time": "2024-09-19T02:40:10.400Z"
   },
   {
    "duration": 11,
    "start_time": "2024-09-19T02:40:31.535Z"
   },
   {
    "duration": 11,
    "start_time": "2024-09-19T02:40:44.044Z"
   },
   {
    "duration": 325,
    "start_time": "2024-09-19T03:41:24.153Z"
   },
   {
    "duration": 128,
    "start_time": "2024-09-19T03:41:24.480Z"
   },
   {
    "duration": 11,
    "start_time": "2024-09-19T03:41:24.610Z"
   },
   {
    "duration": 26,
    "start_time": "2024-09-19T03:41:24.624Z"
   },
   {
    "duration": 3,
    "start_time": "2024-09-19T03:41:24.651Z"
   },
   {
    "duration": 4,
    "start_time": "2024-09-19T03:41:24.656Z"
   },
   {
    "duration": 4,
    "start_time": "2024-09-19T03:41:24.661Z"
   },
   {
    "duration": 3,
    "start_time": "2024-09-19T03:41:24.667Z"
   },
   {
    "duration": 18,
    "start_time": "2024-09-19T03:41:24.671Z"
   },
   {
    "duration": 47,
    "start_time": "2024-09-19T03:41:24.692Z"
   },
   {
    "duration": 18,
    "start_time": "2024-09-19T03:41:24.741Z"
   },
   {
    "duration": 43,
    "start_time": "2024-09-19T03:41:24.761Z"
   },
   {
    "duration": 64,
    "start_time": "2024-09-19T03:41:24.805Z"
   },
   {
    "duration": 37,
    "start_time": "2024-09-19T03:41:24.871Z"
   },
   {
    "duration": 6,
    "start_time": "2024-09-19T03:41:24.910Z"
   },
   {
    "duration": 3,
    "start_time": "2024-09-19T03:41:24.932Z"
   },
   {
    "duration": 14,
    "start_time": "2024-09-19T03:41:24.937Z"
   },
   {
    "duration": 8,
    "start_time": "2024-09-19T03:41:24.952Z"
   },
   {
    "duration": 10,
    "start_time": "2024-09-19T03:41:24.961Z"
   },
   {
    "duration": 9,
    "start_time": "2024-09-19T03:41:24.973Z"
   },
   {
    "duration": 3,
    "start_time": "2024-09-19T03:41:24.984Z"
   },
   {
    "duration": 42,
    "start_time": "2024-09-19T03:41:24.988Z"
   },
   {
    "duration": 15,
    "start_time": "2024-09-19T03:41:25.032Z"
   },
   {
    "duration": 11,
    "start_time": "2024-09-19T03:41:25.049Z"
   },
   {
    "duration": 14,
    "start_time": "2024-09-19T03:41:25.062Z"
   },
   {
    "duration": 11,
    "start_time": "2024-09-19T03:41:25.077Z"
   },
   {
    "duration": 48,
    "start_time": "2024-09-19T03:41:25.090Z"
   },
   {
    "duration": 13,
    "start_time": "2024-09-19T03:41:25.142Z"
   },
   {
    "duration": 276,
    "start_time": "2024-09-19T04:01:08.196Z"
   },
   {
    "duration": 97,
    "start_time": "2024-09-19T04:01:08.474Z"
   },
   {
    "duration": 13,
    "start_time": "2024-09-19T04:01:08.572Z"
   },
   {
    "duration": 21,
    "start_time": "2024-09-19T04:01:08.587Z"
   },
   {
    "duration": 24,
    "start_time": "2024-09-19T04:01:08.610Z"
   },
   {
    "duration": 5,
    "start_time": "2024-09-19T04:01:08.636Z"
   },
   {
    "duration": 4,
    "start_time": "2024-09-19T04:01:08.642Z"
   },
   {
    "duration": 2,
    "start_time": "2024-09-19T04:01:08.649Z"
   },
   {
    "duration": 17,
    "start_time": "2024-09-19T04:01:08.653Z"
   },
   {
    "duration": 12,
    "start_time": "2024-09-19T04:01:08.672Z"
   },
   {
    "duration": 50,
    "start_time": "2024-09-19T04:01:08.686Z"
   },
   {
    "duration": 44,
    "start_time": "2024-09-19T04:01:08.737Z"
   },
   {
    "duration": 65,
    "start_time": "2024-09-19T04:01:08.783Z"
   },
   {
    "duration": 38,
    "start_time": "2024-09-19T04:01:08.852Z"
   },
   {
    "duration": 6,
    "start_time": "2024-09-19T04:01:08.892Z"
   },
   {
    "duration": 3,
    "start_time": "2024-09-19T04:01:08.900Z"
   },
   {
    "duration": 35,
    "start_time": "2024-09-19T04:01:08.904Z"
   },
   {
    "duration": 6,
    "start_time": "2024-09-19T04:01:08.941Z"
   },
   {
    "duration": 9,
    "start_time": "2024-09-19T04:01:08.949Z"
   },
   {
    "duration": 10,
    "start_time": "2024-09-19T04:01:08.960Z"
   },
   {
    "duration": 2,
    "start_time": "2024-09-19T04:01:08.972Z"
   },
   {
    "duration": 4,
    "start_time": "2024-09-19T04:01:08.976Z"
   },
   {
    "duration": 54,
    "start_time": "2024-09-19T04:01:08.982Z"
   },
   {
    "duration": 13,
    "start_time": "2024-09-19T04:01:09.037Z"
   },
   {
    "duration": 12,
    "start_time": "2024-09-19T04:01:09.051Z"
   },
   {
    "duration": 10,
    "start_time": "2024-09-19T04:01:09.065Z"
   },
   {
    "duration": 14,
    "start_time": "2024-09-19T04:01:09.077Z"
   },
   {
    "duration": 43,
    "start_time": "2024-09-19T04:01:09.093Z"
   },
   {
    "duration": 5,
    "start_time": "2024-09-19T04:02:13.997Z"
   },
   {
    "duration": 8,
    "start_time": "2024-09-19T15:29:39.297Z"
   }
  ],
  "colab": {
   "collapsed_sections": [
    "E0vqbgi9ay0H",
    "VUC88oWjTJw2"
   ],
   "provenance": []
  },
  "kernelspec": {
   "display_name": "Python 3",
   "language": "python",
   "name": "python3"
  },
  "language_info": {
   "codemirror_mode": {
    "name": "ipython",
    "version": 3
   },
   "file_extension": ".py",
   "mimetype": "text/x-python",
   "name": "python",
   "nbconvert_exporter": "python",
   "pygments_lexer": "ipython3",
   "version": "3.9.6"
  },
  "toc": {
   "base_numbering": 1,
   "nav_menu": {},
   "number_sections": true,
   "sideBar": true,
   "skip_h1_title": true,
   "title_cell": "Table of Contents",
   "title_sidebar": "Contents",
   "toc_cell": false,
   "toc_position": {},
   "toc_section_display": true,
   "toc_window_display": false
  }
 },
 "nbformat": 4,
 "nbformat_minor": 1
}

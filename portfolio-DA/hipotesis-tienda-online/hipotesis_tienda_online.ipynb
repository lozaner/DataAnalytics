{
 "cells": [
  {
   "cell_type": "markdown",
   "metadata": {},
   "source": [
    "# Proposito del Proyecto"
   ]
  },
  {
   "cell_type": "markdown",
   "metadata": {},
   "source": []
  },
  {
   "cell_type": "markdown",
   "metadata": {},
   "source": [
    "# Iniciacion"
   ]
  },
  {
   "cell_type": "code",
   "execution_count": 76,
   "metadata": {},
   "outputs": [],
   "source": [
    "import pandas as pd\n",
    "import numpy as np\n",
    "from matplotlib import pyplot as plt\n",
    "import seaborn as sns\n",
    "from scipy import stats\n",
    "import datetime as dt"
   ]
  },
  {
   "cell_type": "markdown",
   "metadata": {},
   "source": [
    "## 1.2 Cargar datos"
   ]
  },
  {
   "cell_type": "code",
   "execution_count": 2,
   "metadata": {},
   "outputs": [],
   "source": [
    "hipotesis = pd.read_csv(\"hypotheses_us.csv\", sep=\";\")\n",
    "ordenes = pd.read_csv(\"orders_us.csv\", sep=\",\")\n",
    "visitantes = pd.read_csv(\"visits_us.csv\", sep=\",\")\n",
    "\n",
    "#/datasets/"
   ]
  },
  {
   "cell_type": "markdown",
   "metadata": {},
   "source": [
    "## 1.3 Preparar los datos"
   ]
  },
  {
   "cell_type": "code",
   "execution_count": 3,
   "metadata": {},
   "outputs": [],
   "source": [
    "def info_gral(datos):\n",
    "    print(\"------Primeras Filas------\")\n",
    "    print(datos.head())\n",
    "    print()\n",
    "    print(\"------Datos Generales------\")\n",
    "    print(datos.info())\n",
    "    print()\n",
    "    print(\"------Revision de Datos Ausentes------\")\n",
    "    print(datos.isna().sum())\n",
    "    print()\n",
    "    print(\"------Revision de Duplicados------\")\n",
    "    print(datos.duplicated().sum())\n",
    "    print()\n",
    "    print(\"------Valores Faltantes------\")"
   ]
  },
  {
   "cell_type": "markdown",
   "metadata": {},
   "source": [
    "## 1.4 Limpieza de Datos"
   ]
  },
  {
   "cell_type": "code",
   "execution_count": 4,
   "metadata": {},
   "outputs": [
    {
     "name": "stdout",
     "output_type": "stream",
     "text": [
      "------Primeras Filas------\n",
      "                                          Hypothesis  Reach  Impact  \\\n",
      "0  Add two new channels for attracting traffic. T...      3      10   \n",
      "1  Launch your own delivery service. This will sh...      2       5   \n",
      "2  Add product recommendation blocks to the store...      8       3   \n",
      "3  Change the category structure. This will incre...      8       3   \n",
      "4  Change the background color on the main page. ...      3       1   \n",
      "\n",
      "   Confidence  Effort  \n",
      "0           8       6  \n",
      "1           4      10  \n",
      "2           7       3  \n",
      "3           3       8  \n",
      "4           1       1  \n",
      "\n",
      "------Datos Generales------\n",
      "<class 'pandas.core.frame.DataFrame'>\n",
      "RangeIndex: 9 entries, 0 to 8\n",
      "Data columns (total 5 columns):\n",
      " #   Column      Non-Null Count  Dtype \n",
      "---  ------      --------------  ----- \n",
      " 0   Hypothesis  9 non-null      object\n",
      " 1   Reach       9 non-null      int64 \n",
      " 2   Impact      9 non-null      int64 \n",
      " 3   Confidence  9 non-null      int64 \n",
      " 4   Effort      9 non-null      int64 \n",
      "dtypes: int64(4), object(1)\n",
      "memory usage: 492.0+ bytes\n",
      "None\n",
      "\n",
      "------Revision de Datos Ausentes------\n",
      "Hypothesis    0\n",
      "Reach         0\n",
      "Impact        0\n",
      "Confidence    0\n",
      "Effort        0\n",
      "dtype: int64\n",
      "\n",
      "------Revision de Duplicados------\n",
      "0\n",
      "\n",
      "------Valores Faltantes------\n"
     ]
    }
   ],
   "source": [
    "info_gral(hipotesis)"
   ]
  },
  {
   "cell_type": "code",
   "execution_count": 5,
   "metadata": {},
   "outputs": [
    {
     "name": "stdout",
     "output_type": "stream",
     "text": [
      "------Primeras Filas------\n",
      "   transactionId   visitorId        date  revenue group\n",
      "0     3667963787  3312258926  2019-08-15     30.4     B\n",
      "1     2804400009  3642806036  2019-08-15     15.2     B\n",
      "2     2961555356  4069496402  2019-08-15     10.2     A\n",
      "3     3797467345  1196621759  2019-08-15    155.1     B\n",
      "4     2282983706  2322279887  2019-08-15     40.5     B\n",
      "\n",
      "------Datos Generales------\n",
      "<class 'pandas.core.frame.DataFrame'>\n",
      "RangeIndex: 1197 entries, 0 to 1196\n",
      "Data columns (total 5 columns):\n",
      " #   Column         Non-Null Count  Dtype  \n",
      "---  ------         --------------  -----  \n",
      " 0   transactionId  1197 non-null   int64  \n",
      " 1   visitorId      1197 non-null   int64  \n",
      " 2   date           1197 non-null   object \n",
      " 3   revenue        1197 non-null   float64\n",
      " 4   group          1197 non-null   object \n",
      "dtypes: float64(1), int64(2), object(2)\n",
      "memory usage: 46.9+ KB\n",
      "None\n",
      "\n",
      "------Revision de Datos Ausentes------\n",
      "transactionId    0\n",
      "visitorId        0\n",
      "date             0\n",
      "revenue          0\n",
      "group            0\n",
      "dtype: int64\n",
      "\n",
      "------Revision de Duplicados------\n",
      "0\n",
      "\n",
      "------Valores Faltantes------\n"
     ]
    }
   ],
   "source": [
    "info_gral(ordenes)"
   ]
  },
  {
   "cell_type": "code",
   "execution_count": 6,
   "metadata": {},
   "outputs": [],
   "source": [
    "ordenes['date']= pd.to_datetime(ordenes['date'])"
   ]
  },
  {
   "cell_type": "code",
   "execution_count": 7,
   "metadata": {},
   "outputs": [
    {
     "name": "stdout",
     "output_type": "stream",
     "text": [
      "------Primeras Filas------\n",
      "         date group  visits\n",
      "0  2019-08-01     A     719\n",
      "1  2019-08-02     A     619\n",
      "2  2019-08-03     A     507\n",
      "3  2019-08-04     A     717\n",
      "4  2019-08-05     A     756\n",
      "\n",
      "------Datos Generales------\n",
      "<class 'pandas.core.frame.DataFrame'>\n",
      "RangeIndex: 62 entries, 0 to 61\n",
      "Data columns (total 3 columns):\n",
      " #   Column  Non-Null Count  Dtype \n",
      "---  ------  --------------  ----- \n",
      " 0   date    62 non-null     object\n",
      " 1   group   62 non-null     object\n",
      " 2   visits  62 non-null     int64 \n",
      "dtypes: int64(1), object(2)\n",
      "memory usage: 1.6+ KB\n",
      "None\n",
      "\n",
      "------Revision de Datos Ausentes------\n",
      "date      0\n",
      "group     0\n",
      "visits    0\n",
      "dtype: int64\n",
      "\n",
      "------Revision de Duplicados------\n",
      "0\n",
      "\n",
      "------Valores Faltantes------\n"
     ]
    }
   ],
   "source": [
    "info_gral(visitantes)"
   ]
  },
  {
   "cell_type": "code",
   "execution_count": 8,
   "metadata": {},
   "outputs": [],
   "source": [
    "visitantes['date']= pd.to_datetime(visitantes['date'])"
   ]
  },
  {
   "cell_type": "markdown",
   "metadata": {},
   "source": [
    "## 1.5 Priorizar hipótesis"
   ]
  },
  {
   "cell_type": "code",
   "execution_count": 9,
   "metadata": {},
   "outputs": [
    {
     "data": {
      "text/html": [
       "<div>\n",
       "<style scoped>\n",
       "    .dataframe tbody tr th:only-of-type {\n",
       "        vertical-align: middle;\n",
       "    }\n",
       "\n",
       "    .dataframe tbody tr th {\n",
       "        vertical-align: top;\n",
       "    }\n",
       "\n",
       "    .dataframe thead th {\n",
       "        text-align: right;\n",
       "    }\n",
       "</style>\n",
       "<table border=\"1\" class=\"dataframe\">\n",
       "  <thead>\n",
       "    <tr style=\"text-align: right;\">\n",
       "      <th></th>\n",
       "      <th>Hypothesis</th>\n",
       "      <th>Reach</th>\n",
       "      <th>Impact</th>\n",
       "      <th>Confidence</th>\n",
       "      <th>Effort</th>\n",
       "      <th>ICE</th>\n",
       "    </tr>\n",
       "  </thead>\n",
       "  <tbody>\n",
       "    <tr>\n",
       "      <th>8</th>\n",
       "      <td>Launch a promotion that gives users discounts ...</td>\n",
       "      <td>1</td>\n",
       "      <td>9</td>\n",
       "      <td>9</td>\n",
       "      <td>5</td>\n",
       "      <td>16.200000</td>\n",
       "    </tr>\n",
       "    <tr>\n",
       "      <th>0</th>\n",
       "      <td>Add two new channels for attracting traffic. T...</td>\n",
       "      <td>3</td>\n",
       "      <td>10</td>\n",
       "      <td>8</td>\n",
       "      <td>6</td>\n",
       "      <td>13.333333</td>\n",
       "    </tr>\n",
       "    <tr>\n",
       "      <th>7</th>\n",
       "      <td>Add a subscription form to all the main pages....</td>\n",
       "      <td>10</td>\n",
       "      <td>7</td>\n",
       "      <td>8</td>\n",
       "      <td>5</td>\n",
       "      <td>11.200000</td>\n",
       "    </tr>\n",
       "    <tr>\n",
       "      <th>6</th>\n",
       "      <td>Show banners with current offers and sales on ...</td>\n",
       "      <td>5</td>\n",
       "      <td>3</td>\n",
       "      <td>8</td>\n",
       "      <td>3</td>\n",
       "      <td>8.000000</td>\n",
       "    </tr>\n",
       "    <tr>\n",
       "      <th>2</th>\n",
       "      <td>Add product recommendation blocks to the store...</td>\n",
       "      <td>8</td>\n",
       "      <td>3</td>\n",
       "      <td>7</td>\n",
       "      <td>3</td>\n",
       "      <td>7.000000</td>\n",
       "    </tr>\n",
       "    <tr>\n",
       "      <th>1</th>\n",
       "      <td>Launch your own delivery service. This will sh...</td>\n",
       "      <td>2</td>\n",
       "      <td>5</td>\n",
       "      <td>4</td>\n",
       "      <td>10</td>\n",
       "      <td>2.000000</td>\n",
       "    </tr>\n",
       "    <tr>\n",
       "      <th>5</th>\n",
       "      <td>Add a customer review page. This will increase...</td>\n",
       "      <td>3</td>\n",
       "      <td>2</td>\n",
       "      <td>2</td>\n",
       "      <td>3</td>\n",
       "      <td>1.333333</td>\n",
       "    </tr>\n",
       "    <tr>\n",
       "      <th>3</th>\n",
       "      <td>Change the category structure. This will incre...</td>\n",
       "      <td>8</td>\n",
       "      <td>3</td>\n",
       "      <td>3</td>\n",
       "      <td>8</td>\n",
       "      <td>1.125000</td>\n",
       "    </tr>\n",
       "    <tr>\n",
       "      <th>4</th>\n",
       "      <td>Change the background color on the main page. ...</td>\n",
       "      <td>3</td>\n",
       "      <td>1</td>\n",
       "      <td>1</td>\n",
       "      <td>1</td>\n",
       "      <td>1.000000</td>\n",
       "    </tr>\n",
       "  </tbody>\n",
       "</table>\n",
       "</div>"
      ],
      "text/plain": [
       "                                          Hypothesis  Reach  Impact  \\\n",
       "8  Launch a promotion that gives users discounts ...      1       9   \n",
       "0  Add two new channels for attracting traffic. T...      3      10   \n",
       "7  Add a subscription form to all the main pages....     10       7   \n",
       "6  Show banners with current offers and sales on ...      5       3   \n",
       "2  Add product recommendation blocks to the store...      8       3   \n",
       "1  Launch your own delivery service. This will sh...      2       5   \n",
       "5  Add a customer review page. This will increase...      3       2   \n",
       "3  Change the category structure. This will incre...      8       3   \n",
       "4  Change the background color on the main page. ...      3       1   \n",
       "\n",
       "   Confidence  Effort        ICE  \n",
       "8           9       5  16.200000  \n",
       "0           8       6  13.333333  \n",
       "7           8       5  11.200000  \n",
       "6           8       3   8.000000  \n",
       "2           7       3   7.000000  \n",
       "1           4      10   2.000000  \n",
       "5           2       3   1.333333  \n",
       "3           3       8   1.125000  \n",
       "4           1       1   1.000000  "
      ]
     },
     "execution_count": 9,
     "metadata": {},
     "output_type": "execute_result"
    }
   ],
   "source": [
    "hipotesis['ICE']= hipotesis['Impact']*hipotesis['Confidence'] / hipotesis['Effort']\n",
    "ICE_prioridad = hipotesis.sort_values('ICE', ascending=False)\n",
    "ICE_prioridad\n"
   ]
  },
  {
   "cell_type": "code",
   "execution_count": 10,
   "metadata": {},
   "outputs": [
    {
     "data": {
      "text/html": [
       "<div>\n",
       "<style scoped>\n",
       "    .dataframe tbody tr th:only-of-type {\n",
       "        vertical-align: middle;\n",
       "    }\n",
       "\n",
       "    .dataframe tbody tr th {\n",
       "        vertical-align: top;\n",
       "    }\n",
       "\n",
       "    .dataframe thead th {\n",
       "        text-align: right;\n",
       "    }\n",
       "</style>\n",
       "<table border=\"1\" class=\"dataframe\">\n",
       "  <thead>\n",
       "    <tr style=\"text-align: right;\">\n",
       "      <th></th>\n",
       "      <th>Hypothesis</th>\n",
       "      <th>Reach</th>\n",
       "      <th>Impact</th>\n",
       "      <th>Confidence</th>\n",
       "      <th>Effort</th>\n",
       "      <th>ICE</th>\n",
       "      <th>RICE</th>\n",
       "    </tr>\n",
       "  </thead>\n",
       "  <tbody>\n",
       "    <tr>\n",
       "      <th>7</th>\n",
       "      <td>Add a subscription form to all the main pages....</td>\n",
       "      <td>10</td>\n",
       "      <td>7</td>\n",
       "      <td>8</td>\n",
       "      <td>5</td>\n",
       "      <td>11.200000</td>\n",
       "      <td>112.0</td>\n",
       "    </tr>\n",
       "    <tr>\n",
       "      <th>2</th>\n",
       "      <td>Add product recommendation blocks to the store...</td>\n",
       "      <td>8</td>\n",
       "      <td>3</td>\n",
       "      <td>7</td>\n",
       "      <td>3</td>\n",
       "      <td>7.000000</td>\n",
       "      <td>56.0</td>\n",
       "    </tr>\n",
       "    <tr>\n",
       "      <th>0</th>\n",
       "      <td>Add two new channels for attracting traffic. T...</td>\n",
       "      <td>3</td>\n",
       "      <td>10</td>\n",
       "      <td>8</td>\n",
       "      <td>6</td>\n",
       "      <td>13.333333</td>\n",
       "      <td>40.0</td>\n",
       "    </tr>\n",
       "    <tr>\n",
       "      <th>6</th>\n",
       "      <td>Show banners with current offers and sales on ...</td>\n",
       "      <td>5</td>\n",
       "      <td>3</td>\n",
       "      <td>8</td>\n",
       "      <td>3</td>\n",
       "      <td>8.000000</td>\n",
       "      <td>40.0</td>\n",
       "    </tr>\n",
       "    <tr>\n",
       "      <th>8</th>\n",
       "      <td>Launch a promotion that gives users discounts ...</td>\n",
       "      <td>1</td>\n",
       "      <td>9</td>\n",
       "      <td>9</td>\n",
       "      <td>5</td>\n",
       "      <td>16.200000</td>\n",
       "      <td>16.2</td>\n",
       "    </tr>\n",
       "    <tr>\n",
       "      <th>3</th>\n",
       "      <td>Change the category structure. This will incre...</td>\n",
       "      <td>8</td>\n",
       "      <td>3</td>\n",
       "      <td>3</td>\n",
       "      <td>8</td>\n",
       "      <td>1.125000</td>\n",
       "      <td>9.0</td>\n",
       "    </tr>\n",
       "    <tr>\n",
       "      <th>1</th>\n",
       "      <td>Launch your own delivery service. This will sh...</td>\n",
       "      <td>2</td>\n",
       "      <td>5</td>\n",
       "      <td>4</td>\n",
       "      <td>10</td>\n",
       "      <td>2.000000</td>\n",
       "      <td>4.0</td>\n",
       "    </tr>\n",
       "    <tr>\n",
       "      <th>5</th>\n",
       "      <td>Add a customer review page. This will increase...</td>\n",
       "      <td>3</td>\n",
       "      <td>2</td>\n",
       "      <td>2</td>\n",
       "      <td>3</td>\n",
       "      <td>1.333333</td>\n",
       "      <td>4.0</td>\n",
       "    </tr>\n",
       "    <tr>\n",
       "      <th>4</th>\n",
       "      <td>Change the background color on the main page. ...</td>\n",
       "      <td>3</td>\n",
       "      <td>1</td>\n",
       "      <td>1</td>\n",
       "      <td>1</td>\n",
       "      <td>1.000000</td>\n",
       "      <td>3.0</td>\n",
       "    </tr>\n",
       "  </tbody>\n",
       "</table>\n",
       "</div>"
      ],
      "text/plain": [
       "                                          Hypothesis  Reach  Impact  \\\n",
       "7  Add a subscription form to all the main pages....     10       7   \n",
       "2  Add product recommendation blocks to the store...      8       3   \n",
       "0  Add two new channels for attracting traffic. T...      3      10   \n",
       "6  Show banners with current offers and sales on ...      5       3   \n",
       "8  Launch a promotion that gives users discounts ...      1       9   \n",
       "3  Change the category structure. This will incre...      8       3   \n",
       "1  Launch your own delivery service. This will sh...      2       5   \n",
       "5  Add a customer review page. This will increase...      3       2   \n",
       "4  Change the background color on the main page. ...      3       1   \n",
       "\n",
       "   Confidence  Effort        ICE   RICE  \n",
       "7           8       5  11.200000  112.0  \n",
       "2           7       3   7.000000   56.0  \n",
       "0           8       6  13.333333   40.0  \n",
       "6           8       3   8.000000   40.0  \n",
       "8           9       5  16.200000   16.2  \n",
       "3           3       8   1.125000    9.0  \n",
       "1           4      10   2.000000    4.0  \n",
       "5           2       3   1.333333    4.0  \n",
       "4           1       1   1.000000    3.0  "
      ]
     },
     "execution_count": 10,
     "metadata": {},
     "output_type": "execute_result"
    }
   ],
   "source": [
    "hipotesis['RICE']= hipotesis['Reach']*hipotesis['Impact']*hipotesis['Confidence'] / hipotesis['Effort']\n",
    "RICE_prioridad = hipotesis.sort_values('RICE', ascending=False)\n",
    "RICE_prioridad"
   ]
  },
  {
   "cell_type": "code",
   "execution_count": 11,
   "metadata": {},
   "outputs": [
    {
     "data": {
      "text/plain": [
       "\"Add product recommendation blocks to the store's site. This will increase conversion and average purchase size\""
      ]
     },
     "execution_count": 11,
     "metadata": {},
     "output_type": "execute_result"
    }
   ],
   "source": [
    "hipotesis['Hypothesis'][2]"
   ]
  },
  {
   "cell_type": "markdown",
   "metadata": {},
   "source": [
    "### El mayor ICE score:\n",
    "\n",
    "Representa la prioridad más alta. Este es el elemento que tiene el mejor equilibrio entre alto impacto, alta confianza y bajo esfuerzo.\n",
    "los tres con mayor prioridad son los que estan en el indice como #8 #0 y #7 \n",
    "\n",
    "### El mayor RICE score:\n",
    "\n",
    "La iniciativa más prioritaria. es #7 #2 y #0\n",
    "Ya que tiene el mejor balance entre:\n",
    "Alcanzar a un gran número de personas,\n",
    "Generar un impacto significativo,\n",
    "Contar con alta confianza en los resultados esperados,\n",
    "Y requerir un esfuerzo moderado o bajo.\n",
    "\n",
    "\n",
    "\n",
    "\n",
    "### La Hipótesis 2 (\"Add product recommendation blocks to the store's site. This will increase conversion and average purchase size\") es la mejor opción para un análisis A/B:\n",
    "\n",
    "Tiene el mayor RICE Score (112.0).\n",
    "\n",
    "Afecta a un alto número de usuarios (Reach = 10).\n",
    "\n",
    "Tiene un impacto significativo (Impact = 7) y alta confianza (Confidence = 8).\n",
    "\n",
    "El esfuerzo es razonable (Effort = 5) para su beneficio esperado.\n",
    "\n",
    "Además, probar cambios como formularios en páginas clave es medible fácilmente en un A/B test, lo que asegura resultados claros y accionables"
   ]
  },
  {
   "cell_type": "markdown",
   "metadata": {},
   "source": [
    "## Análisis del test A/B"
   ]
  },
  {
   "cell_type": "code",
   "execution_count": 12,
   "metadata": {},
   "outputs": [
    {
     "data": {
      "text/html": [
       "<div>\n",
       "<style scoped>\n",
       "    .dataframe tbody tr th:only-of-type {\n",
       "        vertical-align: middle;\n",
       "    }\n",
       "\n",
       "    .dataframe tbody tr th {\n",
       "        vertical-align: top;\n",
       "    }\n",
       "\n",
       "    .dataframe thead th {\n",
       "        text-align: right;\n",
       "    }\n",
       "</style>\n",
       "<table border=\"1\" class=\"dataframe\">\n",
       "  <thead>\n",
       "    <tr style=\"text-align: right;\">\n",
       "      <th></th>\n",
       "      <th>transactionId</th>\n",
       "      <th>visitorId</th>\n",
       "      <th>date</th>\n",
       "      <th>revenue</th>\n",
       "      <th>group</th>\n",
       "    </tr>\n",
       "  </thead>\n",
       "  <tbody>\n",
       "    <tr>\n",
       "      <th>0</th>\n",
       "      <td>3667963787</td>\n",
       "      <td>3312258926</td>\n",
       "      <td>2019-08-15</td>\n",
       "      <td>30.4</td>\n",
       "      <td>B</td>\n",
       "    </tr>\n",
       "    <tr>\n",
       "      <th>1</th>\n",
       "      <td>2804400009</td>\n",
       "      <td>3642806036</td>\n",
       "      <td>2019-08-15</td>\n",
       "      <td>15.2</td>\n",
       "      <td>B</td>\n",
       "    </tr>\n",
       "    <tr>\n",
       "      <th>2</th>\n",
       "      <td>2961555356</td>\n",
       "      <td>4069496402</td>\n",
       "      <td>2019-08-15</td>\n",
       "      <td>10.2</td>\n",
       "      <td>A</td>\n",
       "    </tr>\n",
       "    <tr>\n",
       "      <th>3</th>\n",
       "      <td>3797467345</td>\n",
       "      <td>1196621759</td>\n",
       "      <td>2019-08-15</td>\n",
       "      <td>155.1</td>\n",
       "      <td>B</td>\n",
       "    </tr>\n",
       "    <tr>\n",
       "      <th>4</th>\n",
       "      <td>2282983706</td>\n",
       "      <td>2322279887</td>\n",
       "      <td>2019-08-15</td>\n",
       "      <td>40.5</td>\n",
       "      <td>B</td>\n",
       "    </tr>\n",
       "  </tbody>\n",
       "</table>\n",
       "</div>"
      ],
      "text/plain": [
       "   transactionId   visitorId       date  revenue group\n",
       "0     3667963787  3312258926 2019-08-15     30.4     B\n",
       "1     2804400009  3642806036 2019-08-15     15.2     B\n",
       "2     2961555356  4069496402 2019-08-15     10.2     A\n",
       "3     3797467345  1196621759 2019-08-15    155.1     B\n",
       "4     2282983706  2322279887 2019-08-15     40.5     B"
      ]
     },
     "execution_count": 12,
     "metadata": {},
     "output_type": "execute_result"
    }
   ],
   "source": [
    "ordenes.head()"
   ]
  },
  {
   "cell_type": "code",
   "execution_count": 13,
   "metadata": {},
   "outputs": [
    {
     "data": {
      "text/html": [
       "<div>\n",
       "<style scoped>\n",
       "    .dataframe tbody tr th:only-of-type {\n",
       "        vertical-align: middle;\n",
       "    }\n",
       "\n",
       "    .dataframe tbody tr th {\n",
       "        vertical-align: top;\n",
       "    }\n",
       "\n",
       "    .dataframe thead th {\n",
       "        text-align: right;\n",
       "    }\n",
       "</style>\n",
       "<table border=\"1\" class=\"dataframe\">\n",
       "  <thead>\n",
       "    <tr style=\"text-align: right;\">\n",
       "      <th></th>\n",
       "      <th>date</th>\n",
       "      <th>group</th>\n",
       "      <th>visits</th>\n",
       "    </tr>\n",
       "  </thead>\n",
       "  <tbody>\n",
       "    <tr>\n",
       "      <th>0</th>\n",
       "      <td>2019-08-01</td>\n",
       "      <td>A</td>\n",
       "      <td>719</td>\n",
       "    </tr>\n",
       "    <tr>\n",
       "      <th>1</th>\n",
       "      <td>2019-08-02</td>\n",
       "      <td>A</td>\n",
       "      <td>619</td>\n",
       "    </tr>\n",
       "    <tr>\n",
       "      <th>2</th>\n",
       "      <td>2019-08-03</td>\n",
       "      <td>A</td>\n",
       "      <td>507</td>\n",
       "    </tr>\n",
       "    <tr>\n",
       "      <th>3</th>\n",
       "      <td>2019-08-04</td>\n",
       "      <td>A</td>\n",
       "      <td>717</td>\n",
       "    </tr>\n",
       "    <tr>\n",
       "      <th>4</th>\n",
       "      <td>2019-08-05</td>\n",
       "      <td>A</td>\n",
       "      <td>756</td>\n",
       "    </tr>\n",
       "  </tbody>\n",
       "</table>\n",
       "</div>"
      ],
      "text/plain": [
       "        date group  visits\n",
       "0 2019-08-01     A     719\n",
       "1 2019-08-02     A     619\n",
       "2 2019-08-03     A     507\n",
       "3 2019-08-04     A     717\n",
       "4 2019-08-05     A     756"
      ]
     },
     "execution_count": 13,
     "metadata": {},
     "output_type": "execute_result"
    }
   ],
   "source": [
    "visitantes.head()"
   ]
  },
  {
   "cell_type": "code",
   "execution_count": 14,
   "metadata": {},
   "outputs": [
    {
     "data": {
      "text/html": [
       "<div>\n",
       "<style scoped>\n",
       "    .dataframe tbody tr th:only-of-type {\n",
       "        vertical-align: middle;\n",
       "    }\n",
       "\n",
       "    .dataframe tbody tr th {\n",
       "        vertical-align: top;\n",
       "    }\n",
       "\n",
       "    .dataframe thead th {\n",
       "        text-align: right;\n",
       "    }\n",
       "</style>\n",
       "<table border=\"1\" class=\"dataframe\">\n",
       "  <thead>\n",
       "    <tr style=\"text-align: right;\">\n",
       "      <th></th>\n",
       "      <th>date</th>\n",
       "      <th>group</th>\n",
       "    </tr>\n",
       "  </thead>\n",
       "  <tbody>\n",
       "    <tr>\n",
       "      <th>0</th>\n",
       "      <td>2019-08-01</td>\n",
       "      <td>A</td>\n",
       "    </tr>\n",
       "    <tr>\n",
       "      <th>1</th>\n",
       "      <td>2019-08-02</td>\n",
       "      <td>A</td>\n",
       "    </tr>\n",
       "    <tr>\n",
       "      <th>2</th>\n",
       "      <td>2019-08-03</td>\n",
       "      <td>A</td>\n",
       "    </tr>\n",
       "    <tr>\n",
       "      <th>3</th>\n",
       "      <td>2019-08-04</td>\n",
       "      <td>A</td>\n",
       "    </tr>\n",
       "    <tr>\n",
       "      <th>4</th>\n",
       "      <td>2019-08-05</td>\n",
       "      <td>A</td>\n",
       "    </tr>\n",
       "    <tr>\n",
       "      <th>...</th>\n",
       "      <td>...</td>\n",
       "      <td>...</td>\n",
       "    </tr>\n",
       "    <tr>\n",
       "      <th>57</th>\n",
       "      <td>2019-08-27</td>\n",
       "      <td>B</td>\n",
       "    </tr>\n",
       "    <tr>\n",
       "      <th>58</th>\n",
       "      <td>2019-08-28</td>\n",
       "      <td>B</td>\n",
       "    </tr>\n",
       "    <tr>\n",
       "      <th>59</th>\n",
       "      <td>2019-08-29</td>\n",
       "      <td>B</td>\n",
       "    </tr>\n",
       "    <tr>\n",
       "      <th>60</th>\n",
       "      <td>2019-08-30</td>\n",
       "      <td>B</td>\n",
       "    </tr>\n",
       "    <tr>\n",
       "      <th>61</th>\n",
       "      <td>2019-08-31</td>\n",
       "      <td>B</td>\n",
       "    </tr>\n",
       "  </tbody>\n",
       "</table>\n",
       "<p>62 rows × 2 columns</p>\n",
       "</div>"
      ],
      "text/plain": [
       "         date group\n",
       "0  2019-08-01     A\n",
       "1  2019-08-02     A\n",
       "2  2019-08-03     A\n",
       "3  2019-08-04     A\n",
       "4  2019-08-05     A\n",
       "..        ...   ...\n",
       "57 2019-08-27     B\n",
       "58 2019-08-28     B\n",
       "59 2019-08-29     B\n",
       "60 2019-08-30     B\n",
       "61 2019-08-31     B\n",
       "\n",
       "[62 rows x 2 columns]"
      ]
     },
     "execution_count": 14,
     "metadata": {},
     "output_type": "execute_result"
    }
   ],
   "source": [
    "fechas_grupos = visitantes[['date','group']].drop_duplicates()\n",
    "fechas_grupos"
   ]
  },
  {
   "cell_type": "code",
   "execution_count": 15,
   "metadata": {},
   "outputs": [
    {
     "data": {
      "text/html": [
       "<div>\n",
       "<style scoped>\n",
       "    .dataframe tbody tr th:only-of-type {\n",
       "        vertical-align: middle;\n",
       "    }\n",
       "\n",
       "    .dataframe tbody tr th {\n",
       "        vertical-align: top;\n",
       "    }\n",
       "\n",
       "    .dataframe thead th {\n",
       "        text-align: right;\n",
       "    }\n",
       "</style>\n",
       "<table border=\"1\" class=\"dataframe\">\n",
       "  <thead>\n",
       "    <tr style=\"text-align: right;\">\n",
       "      <th></th>\n",
       "      <th>date</th>\n",
       "      <th>group</th>\n",
       "      <th>n_transaction</th>\n",
       "      <th>n_client</th>\n",
       "      <th>acumulative_revenue</th>\n",
       "    </tr>\n",
       "  </thead>\n",
       "  <tbody>\n",
       "    <tr>\n",
       "      <th>0</th>\n",
       "      <td>2019-08-01</td>\n",
       "      <td>A</td>\n",
       "      <td>24</td>\n",
       "      <td>20</td>\n",
       "      <td>2356.8</td>\n",
       "    </tr>\n",
       "    <tr>\n",
       "      <th>31</th>\n",
       "      <td>2019-08-01</td>\n",
       "      <td>B</td>\n",
       "      <td>21</td>\n",
       "      <td>20</td>\n",
       "      <td>1620.0</td>\n",
       "    </tr>\n",
       "    <tr>\n",
       "      <th>1</th>\n",
       "      <td>2019-08-02</td>\n",
       "      <td>A</td>\n",
       "      <td>44</td>\n",
       "      <td>38</td>\n",
       "      <td>3860.3</td>\n",
       "    </tr>\n",
       "    <tr>\n",
       "      <th>32</th>\n",
       "      <td>2019-08-02</td>\n",
       "      <td>B</td>\n",
       "      <td>45</td>\n",
       "      <td>43</td>\n",
       "      <td>4243.8</td>\n",
       "    </tr>\n",
       "    <tr>\n",
       "      <th>2</th>\n",
       "      <td>2019-08-03</td>\n",
       "      <td>A</td>\n",
       "      <td>68</td>\n",
       "      <td>62</td>\n",
       "      <td>5675.5</td>\n",
       "    </tr>\n",
       "  </tbody>\n",
       "</table>\n",
       "</div>"
      ],
      "text/plain": [
       "         date group  n_transaction  n_client  acumulative_revenue\n",
       "0  2019-08-01     A             24        20               2356.8\n",
       "31 2019-08-01     B             21        20               1620.0\n",
       "1  2019-08-02     A             44        38               3860.3\n",
       "32 2019-08-02     B             45        43               4243.8\n",
       "2  2019-08-03     A             68        62               5675.5"
      ]
     },
     "execution_count": 15,
     "metadata": {},
     "output_type": "execute_result"
    }
   ],
   "source": [
    "ordene_acumuladas = fechas_grupos.apply(\n",
    "    lambda fila:\n",
    "    ordenes[np.logical_and(ordenes['date'] <= fila['date'], ordenes['group'] == fila['group'])].agg({\n",
    "        'date':'max',\n",
    "        'group': 'max',\n",
    "        'transactionId': 'nunique',\n",
    "        'visitorId' : 'nunique',\n",
    "        'revenue': 'sum'\n",
    "        \n",
    "    }),axis=1\n",
    "    ).sort_values(by=['date','group'])\n",
    "\n",
    "ordene_acumuladas.columns = ['date','group','n_transaction','n_client','acumulative_revenue']\n",
    "ordene_acumuladas.head()"
   ]
  },
  {
   "cell_type": "code",
   "execution_count": 16,
   "metadata": {},
   "outputs": [
    {
     "data": {
      "text/html": [
       "<div>\n",
       "<style scoped>\n",
       "    .dataframe tbody tr th:only-of-type {\n",
       "        vertical-align: middle;\n",
       "    }\n",
       "\n",
       "    .dataframe tbody tr th {\n",
       "        vertical-align: top;\n",
       "    }\n",
       "\n",
       "    .dataframe thead th {\n",
       "        text-align: right;\n",
       "    }\n",
       "</style>\n",
       "<table border=\"1\" class=\"dataframe\">\n",
       "  <thead>\n",
       "    <tr style=\"text-align: right;\">\n",
       "      <th></th>\n",
       "      <th>date</th>\n",
       "      <th>group</th>\n",
       "      <th>acumulative_visits</th>\n",
       "    </tr>\n",
       "  </thead>\n",
       "  <tbody>\n",
       "    <tr>\n",
       "      <th>0</th>\n",
       "      <td>2019-08-01</td>\n",
       "      <td>A</td>\n",
       "      <td>719</td>\n",
       "    </tr>\n",
       "    <tr>\n",
       "      <th>31</th>\n",
       "      <td>2019-08-01</td>\n",
       "      <td>B</td>\n",
       "      <td>713</td>\n",
       "    </tr>\n",
       "    <tr>\n",
       "      <th>1</th>\n",
       "      <td>2019-08-02</td>\n",
       "      <td>A</td>\n",
       "      <td>1338</td>\n",
       "    </tr>\n",
       "    <tr>\n",
       "      <th>32</th>\n",
       "      <td>2019-08-02</td>\n",
       "      <td>B</td>\n",
       "      <td>1294</td>\n",
       "    </tr>\n",
       "    <tr>\n",
       "      <th>2</th>\n",
       "      <td>2019-08-03</td>\n",
       "      <td>A</td>\n",
       "      <td>1845</td>\n",
       "    </tr>\n",
       "  </tbody>\n",
       "</table>\n",
       "</div>"
      ],
      "text/plain": [
       "         date group  acumulative_visits\n",
       "0  2019-08-01     A                 719\n",
       "31 2019-08-01     B                 713\n",
       "1  2019-08-02     A                1338\n",
       "32 2019-08-02     B                1294\n",
       "2  2019-08-03     A                1845"
      ]
     },
     "execution_count": 16,
     "metadata": {},
     "output_type": "execute_result"
    }
   ],
   "source": [
    "visitas_acumuladas = fechas_grupos.apply(\n",
    "    lambda fila:\n",
    "    visitantes[np.logical_and(visitantes['date'] <= fila['date'], visitantes['group'] == fila['group'])].agg({\n",
    "        'date':'max',\n",
    "        'group': 'max',\n",
    "        'visits': 'sum'\n",
    "        \n",
    "    }),axis=1\n",
    "    ).sort_values(by=['date','group'])\n",
    "\n",
    "visitas_acumuladas.columns = ['date','group','acumulative_visits']\n",
    "visitas_acumuladas.head()"
   ]
  },
  {
   "cell_type": "code",
   "execution_count": 17,
   "metadata": {},
   "outputs": [
    {
     "data": {
      "text/html": [
       "<div>\n",
       "<style scoped>\n",
       "    .dataframe tbody tr th:only-of-type {\n",
       "        vertical-align: middle;\n",
       "    }\n",
       "\n",
       "    .dataframe tbody tr th {\n",
       "        vertical-align: top;\n",
       "    }\n",
       "\n",
       "    .dataframe thead th {\n",
       "        text-align: right;\n",
       "    }\n",
       "</style>\n",
       "<table border=\"1\" class=\"dataframe\">\n",
       "  <thead>\n",
       "    <tr style=\"text-align: right;\">\n",
       "      <th></th>\n",
       "      <th>date</th>\n",
       "      <th>group</th>\n",
       "      <th>acumulative_visits</th>\n",
       "      <th>n_transaction</th>\n",
       "      <th>n_client</th>\n",
       "      <th>acumulative_revenue</th>\n",
       "    </tr>\n",
       "  </thead>\n",
       "  <tbody>\n",
       "    <tr>\n",
       "      <th>0</th>\n",
       "      <td>2019-08-01</td>\n",
       "      <td>A</td>\n",
       "      <td>719</td>\n",
       "      <td>24</td>\n",
       "      <td>20</td>\n",
       "      <td>2356.8</td>\n",
       "    </tr>\n",
       "    <tr>\n",
       "      <th>1</th>\n",
       "      <td>2019-08-01</td>\n",
       "      <td>B</td>\n",
       "      <td>713</td>\n",
       "      <td>21</td>\n",
       "      <td>20</td>\n",
       "      <td>1620.0</td>\n",
       "    </tr>\n",
       "    <tr>\n",
       "      <th>2</th>\n",
       "      <td>2019-08-02</td>\n",
       "      <td>A</td>\n",
       "      <td>1338</td>\n",
       "      <td>44</td>\n",
       "      <td>38</td>\n",
       "      <td>3860.3</td>\n",
       "    </tr>\n",
       "    <tr>\n",
       "      <th>3</th>\n",
       "      <td>2019-08-02</td>\n",
       "      <td>B</td>\n",
       "      <td>1294</td>\n",
       "      <td>45</td>\n",
       "      <td>43</td>\n",
       "      <td>4243.8</td>\n",
       "    </tr>\n",
       "    <tr>\n",
       "      <th>4</th>\n",
       "      <td>2019-08-03</td>\n",
       "      <td>A</td>\n",
       "      <td>1845</td>\n",
       "      <td>68</td>\n",
       "      <td>62</td>\n",
       "      <td>5675.5</td>\n",
       "    </tr>\n",
       "    <tr>\n",
       "      <th>...</th>\n",
       "      <td>...</td>\n",
       "      <td>...</td>\n",
       "      <td>...</td>\n",
       "      <td>...</td>\n",
       "      <td>...</td>\n",
       "      <td>...</td>\n",
       "    </tr>\n",
       "    <tr>\n",
       "      <th>57</th>\n",
       "      <td>2019-08-29</td>\n",
       "      <td>B</td>\n",
       "      <td>17708</td>\n",
       "      <td>596</td>\n",
       "      <td>544</td>\n",
       "      <td>87343.0</td>\n",
       "    </tr>\n",
       "    <tr>\n",
       "      <th>58</th>\n",
       "      <td>2019-08-30</td>\n",
       "      <td>A</td>\n",
       "      <td>18037</td>\n",
       "      <td>545</td>\n",
       "      <td>493</td>\n",
       "      <td>63563.5</td>\n",
       "    </tr>\n",
       "    <tr>\n",
       "      <th>59</th>\n",
       "      <td>2019-08-30</td>\n",
       "      <td>B</td>\n",
       "      <td>18198</td>\n",
       "      <td>620</td>\n",
       "      <td>567</td>\n",
       "      <td>90736.3</td>\n",
       "    </tr>\n",
       "    <tr>\n",
       "      <th>60</th>\n",
       "      <td>2019-08-31</td>\n",
       "      <td>A</td>\n",
       "      <td>18736</td>\n",
       "      <td>557</td>\n",
       "      <td>503</td>\n",
       "      <td>64554.9</td>\n",
       "    </tr>\n",
       "    <tr>\n",
       "      <th>61</th>\n",
       "      <td>2019-08-31</td>\n",
       "      <td>B</td>\n",
       "      <td>18916</td>\n",
       "      <td>640</td>\n",
       "      <td>586</td>\n",
       "      <td>92840.6</td>\n",
       "    </tr>\n",
       "  </tbody>\n",
       "</table>\n",
       "<p>62 rows × 6 columns</p>\n",
       "</div>"
      ],
      "text/plain": [
       "         date group  acumulative_visits  n_transaction  n_client  \\\n",
       "0  2019-08-01     A                 719             24        20   \n",
       "1  2019-08-01     B                 713             21        20   \n",
       "2  2019-08-02     A                1338             44        38   \n",
       "3  2019-08-02     B                1294             45        43   \n",
       "4  2019-08-03     A                1845             68        62   \n",
       "..        ...   ...                 ...            ...       ...   \n",
       "57 2019-08-29     B               17708            596       544   \n",
       "58 2019-08-30     A               18037            545       493   \n",
       "59 2019-08-30     B               18198            620       567   \n",
       "60 2019-08-31     A               18736            557       503   \n",
       "61 2019-08-31     B               18916            640       586   \n",
       "\n",
       "    acumulative_revenue  \n",
       "0                2356.8  \n",
       "1                1620.0  \n",
       "2                3860.3  \n",
       "3                4243.8  \n",
       "4                5675.5  \n",
       "..                  ...  \n",
       "57              87343.0  \n",
       "58              63563.5  \n",
       "59              90736.3  \n",
       "60              64554.9  \n",
       "61              92840.6  \n",
       "\n",
       "[62 rows x 6 columns]"
      ]
     },
     "execution_count": 17,
     "metadata": {},
     "output_type": "execute_result"
    }
   ],
   "source": [
    "datos_acumulados= pd.merge(visitas_acumuladas ,ordene_acumuladas,on=['date','group'] )\n",
    "datos_acumulados"
   ]
  },
  {
   "cell_type": "markdown",
   "metadata": {},
   "source": [
    "### 1. Representa gráficamente el ingreso acumulado por grupo."
   ]
  },
  {
   "cell_type": "code",
   "execution_count": 31,
   "metadata": {},
   "outputs": [
    {
     "name": "stdout",
     "output_type": "stream",
     "text": [
      "         date group  acumulative_revenue\n",
      "0  2019-08-01     A               2356.8\n",
      "2  2019-08-02     A               3860.3\n",
      "4  2019-08-03     A               5675.5\n",
      "6  2019-08-04     A               6822.1\n",
      "8  2019-08-05     A               8810.2\n",
      "10 2019-08-06     A               9600.0\n",
      "12 2019-08-07     A              11842.9\n",
      "14 2019-08-08     A              13373.3\n",
      "16 2019-08-09     A              16320.4\n",
      "18 2019-08-10     A              19608.6\n",
      "20 2019-08-11     A              20838.3\n",
      "22 2019-08-12     A              24749.1\n",
      "24 2019-08-13     A              28846.0\n",
      "26 2019-08-14     A              29910.8\n",
      "28 2019-08-15     A              31319.0\n",
      "30 2019-08-16     A              32918.1\n",
      "32 2019-08-17     A              33723.6\n",
      "34 2019-08-18     A              34895.4\n",
      "36 2019-08-19     A              37884.5\n",
      "38 2019-08-20     A              39116.8\n",
      "40 2019-08-21     A              41872.3\n",
      "42 2019-08-22     A              43655.6\n",
      "44 2019-08-23     A              45543.6\n",
      "46 2019-08-24     A              47546.3\n",
      "48 2019-08-25     A              48625.2\n",
      "50 2019-08-26     A              51090.0\n",
      "52 2019-08-27     A              55601.1\n",
      "54 2019-08-28     A              57203.7\n",
      "56 2019-08-29     A              62199.2\n",
      "58 2019-08-30     A              63563.5\n",
      "60 2019-08-31     A              64554.9\n",
      "         date group  acumulative_revenue\n",
      "1  2019-08-01     B               1620.0\n",
      "3  2019-08-02     B               4243.8\n",
      "5  2019-08-03     B               6050.6\n",
      "7  2019-08-04     B               7767.9\n",
      "9  2019-08-05     B               9262.9\n",
      "11 2019-08-06     B              13069.3\n",
      "13 2019-08-07     B              16600.8\n",
      "15 2019-08-08     B              20088.6\n",
      "17 2019-08-09     B              22646.7\n",
      "19 2019-08-10     B              24367.1\n",
      "21 2019-08-11     B              25228.3\n",
      "23 2019-08-12     B              27474.0\n",
      "25 2019-08-13     B              29384.0\n",
      "27 2019-08-14     B              32095.7\n",
      "29 2019-08-15     B              37457.6\n",
      "31 2019-08-16     B              40155.3\n",
      "33 2019-08-17     B              41436.8\n",
      "35 2019-08-18     B              42481.7\n",
      "37 2019-08-19     B              64546.6\n",
      "39 2019-08-20     B              66871.2\n",
      "41 2019-08-21     B              69427.1\n",
      "43 2019-08-22     B              71987.9\n",
      "45 2019-08-23     B              73787.4\n",
      "47 2019-08-24     B              75314.6\n",
      "49 2019-08-25     B              76941.1\n",
      "51 2019-08-26     B              79841.5\n",
      "53 2019-08-27     B              82161.3\n",
      "55 2019-08-28     B              83719.3\n",
      "57 2019-08-29     B              87343.0\n",
      "59 2019-08-30     B              90736.3\n",
      "61 2019-08-31     B              92840.6\n"
     ]
    }
   ],
   "source": [
    "rentabilidad_acumulada_A = datos_acumulados.query('group == \"A\"') [['date','group','acumulative_revenue']]\n",
    "rentabilidad_acumulada_B = datos_acumulados.query('group == \"B\"') [['date','group','acumulative_revenue']]\n",
    "print(rentabilidad_acumulada_A)\n",
    "print(rentabilidad_acumulada_B)\n"
   ]
  },
  {
   "cell_type": "code",
   "execution_count": 54,
   "metadata": {},
   "outputs": [
    {
     "data": {
      "image/png": "[encoded data removed]",
      "text/plain": [
       "<Figure size 640x480 with 1 Axes>"
      ]
     },
     "metadata": {},
     "output_type": "display_data"
    }
   ],
   "source": [
    "plt.plot(rentabilidad_acumulada_A['date'], rentabilidad_acumulada_A['acumulative_revenue'],label='A')\n",
    "plt.plot(rentabilidad_acumulada_B['date'], rentabilidad_acumulada_B['acumulative_revenue'],label='B') \n",
    "plt.xlabel('FECHA')\n",
    "plt.ylabel('GANANCIA ACUMULADA')\n",
    "plt.title('RENTABILIDAD ACUMULADA DE GRUPO A Y B')\n",
    "plt.xticks(rotation=45)\n",
    "\n",
    "\n",
    "plt.legend()\n",
    "\n",
    "plt.show()"
   ]
  },
  {
   "cell_type": "markdown",
   "metadata": {},
   "source": [
    "A simple vista el grupo A es la principal y la prueba que se puso fue la de grupo B y a simple vista se ve que las ventas an aumentado aunque para estar mas seguro seria hacer una prueba test A/B."
   ]
  },
  {
   "cell_type": "markdown",
   "metadata": {},
   "source": [
    "### 2. Representa gráficamente el tamaño de pedido promedio acumulado por grupo."
   ]
  },
  {
   "cell_type": "code",
   "execution_count": null,
   "metadata": {},
   "outputs": [
    {
     "name": "stdout",
     "output_type": "stream",
     "text": [
      "         date group  n_transaction\n",
      "0  2019-08-01     A             24\n",
      "2  2019-08-02     A             44\n",
      "4  2019-08-03     A             68\n",
      "6  2019-08-04     A             84\n",
      "8  2019-08-05     A            109\n",
      "10 2019-08-06     A            127\n",
      "12 2019-08-07     A            145\n",
      "14 2019-08-08     A            161\n",
      "16 2019-08-09     A            177\n",
      "18 2019-08-10     A            193\n",
      "20 2019-08-11     A            206\n",
      "22 2019-08-12     A            230\n",
      "24 2019-08-13     A            244\n",
      "26 2019-08-14     A            268\n",
      "28 2019-08-15     A            283\n",
      "30 2019-08-16     A            301\n",
      "32 2019-08-17     A            311\n",
      "34 2019-08-18     A            328\n",
      "36 2019-08-19     A            350\n",
      "38 2019-08-20     A            362\n",
      "40 2019-08-21     A            385\n",
      "42 2019-08-22     A            401\n",
      "44 2019-08-23     A            426\n",
      "46 2019-08-24     A            441\n",
      "48 2019-08-25     A            451\n",
      "50 2019-08-26     A            467\n",
      "52 2019-08-27     A            495\n",
      "54 2019-08-28     A            512\n",
      "56 2019-08-29     A            534\n",
      "58 2019-08-30     A            545\n",
      "60 2019-08-31     A            557\n",
      "         date group  n_transaction\n",
      "1  2019-08-01     B             21\n",
      "3  2019-08-02     B             45\n",
      "5  2019-08-03     B             61\n",
      "7  2019-08-04     B             78\n",
      "9  2019-08-05     B            101\n",
      "11 2019-08-06     B            129\n",
      "13 2019-08-07     B            153\n",
      "15 2019-08-08     B            180\n",
      "17 2019-08-09     B            205\n",
      "19 2019-08-10     B            228\n",
      "21 2019-08-11     B            241\n",
      "23 2019-08-12     B            264\n",
      "25 2019-08-13     B            285\n",
      "27 2019-08-14     B            308\n",
      "29 2019-08-15     B            339\n",
      "31 2019-08-16     B            359\n",
      "33 2019-08-17     B            373\n",
      "35 2019-08-18     B            382\n",
      "37 2019-08-19     B            403\n",
      "39 2019-08-20     B            423\n",
      "41 2019-08-21     B            437\n",
      "43 2019-08-22     B            462\n",
      "45 2019-08-23     B            477\n",
      "47 2019-08-24     B            493\n",
      "49 2019-08-25     B            507\n",
      "51 2019-08-26     B            532\n",
      "53 2019-08-27     B            548\n",
      "55 2019-08-28     B            576\n",
      "57 2019-08-29     B            596\n",
      "59 2019-08-30     B            620\n",
      "61 2019-08-31     B            640\n"
     ]
    }
   ],
   "source": [
    "# Calcular el acumulado de transacciones para cada grupo\n",
    "promedio_transaction_A = datos_acumulados.query('group == \"A\"')[['date','group','n_transaction']]\n",
    "promedio_transaction_B = datos_acumulados.query('group == \"B\"')[['date','group','n_transaction']]\n",
    "\n",
    "print(promedio_transaction_A)\n",
    "print(promedio_transaction_B)\n"
   ]
  },
  {
   "cell_type": "code",
   "execution_count": 64,
   "metadata": {},
   "outputs": [
    {
     "data": {
      "image/png": "[encoded data removed]",
      "text/plain": [
       "<Figure size 640x480 with 1 Axes>"
      ]
     },
     "metadata": {},
     "output_type": "display_data"
    }
   ],
   "source": [
    "plt.plot(promedio_transaction_A['date'], promedio_transaction_A['n_transaction'],label='A')\n",
    "plt.plot(promedio_transaction_B['date'], promedio_transaction_B['n_transaction'],label='B') \n",
    "plt.xlabel('FECHA')\n",
    "plt.ylabel('GANANCIA ACUMULADA')\n",
    "plt.title('TRANSACCIONES ACUMULADAS POR GRUPO A Y B')\n",
    "plt.xticks(rotation=45)\n",
    "\n",
    "\n",
    "plt.legend()\n",
    "\n",
    "plt.show()"
   ]
  },
  {
   "cell_type": "markdown",
   "metadata": {},
   "source": [
    "A simple vista graficamente se ve que el grupo B tiene mejores ganancias con el tiempo."
   ]
  },
  {
   "cell_type": "markdown",
   "metadata": {},
   "source": [
    "### 3.Representa gráficamente la diferencia relativa en el tamaño de pedido promedio acumulado para el grupo B en comparación con el grupo A."
   ]
  },
  {
   "cell_type": "code",
   "execution_count": 67,
   "metadata": {},
   "outputs": [
    {
     "data": {
      "image/png": "[encoded data removed]",
      "text/plain": [
       "<Figure size 640x480 with 1 Axes>"
      ]
     },
     "metadata": {},
     "output_type": "display_data"
    }
   ],
   "source": [
    "# Calcular el tamaño de pedido promedio acumulado para cada grupo\n",
    "datos_acumulados['average_order_size'] = datos_acumulados['acumulative_revenue'] / datos_acumulados['n_transaction']\n",
    "\n",
    "# Separar datos por grupo\n",
    "grupo_A = datos_acumulados[datos_acumulados['group'] == 'A']\n",
    "grupo_B = datos_acumulados[datos_acumulados['group'] == 'B']\n",
    "\n",
    "# Calcular la diferencia relativa\n",
    "diferencia_relativa = pd.merge(\n",
    "    grupo_A[['date', 'average_order_size']],\n",
    "    grupo_B[['date', 'average_order_size']],\n",
    "    on='date',\n",
    "    suffixes=('_A', '_B')\n",
    ")\n",
    "\n",
    "diferencia_relativa['relative_difference'] = (\n",
    "    (diferencia_relativa['average_order_size_B'] - diferencia_relativa['average_order_size_A'])\n",
    "    / diferencia_relativa['average_order_size_A']\n",
    ")\n",
    "\n",
    "# Graficar la diferencia relativa\n",
    "plt.plot(diferencia_relativa['date'], diferencia_relativa['relative_difference'], label='Diferencia Relativa (B vs A)')\n",
    "\n",
    "# Configuración del gráfico\n",
    "plt.title(\"Diferencia Relativa en el Tamaño de Pedido Promedio (B vs A)\")\n",
    "plt.xlabel(\"Fecha\")\n",
    "plt.ylabel(\"Diferencia Relativa\")\n",
    "plt.axhline(0, color='gray', linestyle='--', linewidth=0.8)  # Línea de referencia en 0\n",
    "plt.xticks(rotation=45)\n",
    "plt.legend()\n",
    "plt.grid()\n",
    "\n",
    "# Mostrar el gráfico\n",
    "plt.show()\n"
   ]
  },
  {
   "cell_type": "markdown",
   "metadata": {},
   "source": [
    "En general, el grupo B tiene un mejor desempeño en términos de tamaño de pedido promedio acumulado, lo que indica una estrategia más efectiva para aumentar el valor por pedido.\n",
    "Los picos negativos señalan áreas donde el grupo A tiene un mejor desempeño momentáneo. Esto podría ser una oportunidad para investigar y aprender qué factores contribuyeron al éxito del grupo A en esos momentos específicos.\n",
    "Se debería analizar más a fondo la causa de las fluctuaciones (positivas y negativas) para ajustar las estrategias y optimizar el rendimiento del grupo B.\n"
   ]
  },
  {
   "cell_type": "markdown",
   "metadata": {},
   "source": [
    "### 4. Calcula la tasa de conversión de cada grupo como la relación entre los pedidos y el número de visitas de cada día. Representa gráficamente las tasas de conversión diarias de los dos grupos y describe la diferencia. "
   ]
  },
  {
   "cell_type": "code",
   "execution_count": 111,
   "metadata": {},
   "outputs": [
    {
     "data": {
      "image/png": "[encoded data removed]",
      "text/plain": [
       "<Figure size 1000x600 with 1 Axes>"
      ]
     },
     "metadata": {},
     "output_type": "display_data"
    }
   ],
   "source": [
    "# Cálculo de la tasa de conversión diaria\n",
    "datos_acumulados['conversion_rate'] = datos_acumulados['n_transaction'] / datos_acumulados['acumulative_visits']\n",
    "\n",
    "# Separar los datos por grupo\n",
    "conversion_grupo_A = datos_acumulados[datos_acumulados['group'] == 'A']\n",
    "conversion_grupo_B = datos_acumulados[datos_acumulados['group'] == 'B']\n",
    "\n",
    "# Representación gráfica de las tasas de conversión diarias\n",
    "plt.figure(figsize=(10, 6))\n",
    "plt.plot(conversion_grupo_A['date'], conversion_grupo_A['conversion_rate'], label='Grupo A', marker='o')\n",
    "plt.plot(conversion_grupo_B['date'], conversion_grupo_B['conversion_rate'], label='Grupo B', marker='o')\n",
    "\n",
    "# Personalización del gráfico\n",
    "plt.title('Tasa de Conversión Diaria por Grupo', fontsize=14)\n",
    "plt.xlabel('Fecha', fontsize=12)\n",
    "plt.ylabel('Tasa de Conversión', fontsize=12)\n",
    "plt.legend(title='Grupo')\n",
    "plt.grid(True)\n",
    "plt.xticks(rotation=45)\n",
    "plt.tight_layout()\n",
    "\n",
    "plt.show()\n"
   ]
  },
  {
   "cell_type": "markdown",
   "metadata": {},
   "source": [
    "Grupo B tiene una tasa de conversión consistentemente mayor:\n",
    "\n",
    "A lo largo del tiempo, la tasa de conversión del Grupo B es más alta que la del Grupo A en la mayoría de los días.\n",
    "Esto indica que las estrategias o características del Grupo B están siendo más efectivas para convertir visitas en transacciones.\n",
    "Fluctuaciones iniciales:\n",
    "\n",
    "\n",
    "En los primeros días, ambos grupos muestran fluctuaciones significativas, posiblemente debido a una menor cantidad de datos o ajustes en las estrategias iniciales.\n",
    "Después de los primeros días, el Grupo B se estabiliza con una tasa superior, mientras que el Grupo A presenta una ligera disminución constante.\n",
    "Estabilidad en el Grupo B:\n",
    "\n",
    "\n",
    "La tasa de conversión del Grupo B es más estable después del 5 de agosto, lo que podría sugerir que las acciones implementadas en este grupo son consistentes.\n",
    "Tendencia decreciente en el Grupo A:\n",
    "\n",
    "El Grupo A muestra una tendencia decreciente a lo largo del período, lo que podría reflejar un desgaste en la efectividad de las estrategias aplicadas o problemas en la captación de clientes."
   ]
  },
  {
   "cell_type": "markdown",
   "metadata": {},
   "source": [
    "### 5. Traza un gráfico de dispersión del número de pedidos por usuario."
   ]
  },
  {
   "cell_type": "code",
   "execution_count": 100,
   "metadata": {},
   "outputs": [
    {
     "data": {
      "image/png": "[encoded data removed]",
      "text/plain": [
       "<Figure size 1000x600 with 1 Axes>"
      ]
     },
     "metadata": {},
     "output_type": "display_data"
    }
   ],
   "source": [
    "# Crear un DataFrame con el número de pedidos por usuario\n",
    "pedidos_por_usuario = datos_acumulados.groupby('n_client')['n_transaction'].sum().reset_index()\n",
    "\n",
    "# Traza un gráfico de dispersión\n",
    "plt.figure(figsize=(10, 6))\n",
    "plt.scatter(pedidos_por_usuario['n_client'], pedidos_por_usuario['n_transaction'], alpha=0.6, edgecolor='k')\n",
    "\n",
    "# Configurar títulos y etiquetas\n",
    "plt.title('Gráfico de Dispersión: Número de Pedidos por Usuario', fontsize=14)\n",
    "plt.xlabel('Numero de clientes', fontsize=12)\n",
    "plt.ylabel('Número de Transacciones', fontsize=12)\n",
    "\n",
    "# Ajustar diseño\n",
    "plt.grid(alpha=0.3)\n",
    "plt.show()\n"
   ]
  },
  {
   "cell_type": "markdown",
   "metadata": {},
   "source": [
    "### 6. Calcula los percentiles 95 y 99 del número de pedidos por usuario. Define el punto en el cual un punto de datos se convierte en una anomalía."
   ]
  },
  {
   "cell_type": "code",
   "execution_count": 108,
   "metadata": {},
   "outputs": [
    {
     "name": "stdout",
     "output_type": "stream",
     "text": [
      "       visitorId  orders\n",
      "1023  4256040402      11\n",
      "591   2458001652      11\n",
      "569   2378935119       9\n",
      "487   2038680547       8\n",
      "44     199603092       5\n",
      "744   3062433592       5\n",
      "55     237748145       5\n",
      "917   3803269165       5\n",
      "299   1230306981       5\n",
      "897   3717692402       5\n",
      "\n",
      "Percentil 95: 2.00\n",
      "Percentil 99: 4.00\n",
      "Usuarios con más de 2.0 pedidos serán considerados anomalías (95%).\n",
      "Usuarios con más de 4.0 pedidos serán considerados anomalías extremas (99%).\n",
      "Número de usuarios anómalos (95%): 30\n"
     ]
    }
   ],
   "source": [
    "#Calcular la cantidad de pedidos por usuario\n",
    "ordersByUsers = ordenes.groupby('visitorId', as_index=False).agg({'transactionId': 'count'})\n",
    "ordersByUsers.columns = ['visitorId', 'orders']\n",
    "\n",
    "#Calcular los percentiles\n",
    "percentiles = np.percentile(ordersByUsers['orders'], [95, 99])\n",
    "\n",
    "print(ordersByUsers.sort_values(by='orders', ascending=False).head(10))\n",
    "print()\n",
    "\n",
    "#Mostrar los resultados\n",
    "print(f\"Percentil 95: {percentiles[0]:.2f}\")\n",
    "print(f\"Percentil 99: {percentiles[1]:.2f}\")\n",
    "\n",
    "#Definir puntos de corte para anomalías\n",
    "anomaly_threshold_95 = percentiles[0]\n",
    "anomaly_threshold_99 = percentiles[1]\n",
    "\n",
    "print(f\"Usuarios con más de {anomaly_threshold_95} pedidos serán considerados anomalías (95%).\")\n",
    "print(f\"Usuarios con más de {anomaly_threshold_99} pedidos serán considerados anomalías extremas (99%).\")\n",
    "\n",
    "#Filtrar usuarios anómalos\n",
    "anomalous_users = ordersByUsers[ordersByUsers['orders'] > anomaly_threshold_95]\n",
    "print(f\"Número de usuarios anómalos (95%): {len(anomalous_users)}\")"
   ]
  },
  {
   "cell_type": "markdown",
   "metadata": {},
   "source": [
    "Percentil 95 (2):\n",
    "La mayoría de los usuarios (95%) realizan 2 pedidos o menos, lo que indica que los clientes generalmente no realizan pedidos recurrentes en gran cantidad.\n",
    "\n",
    "Percentil 99 (4):\n",
    "Los usuarios con más de 4 pedidos son considerados casos extremadamente raros. Estos clientes podrían ser:\n",
    "Clientes VIP o de alto valor.\n",
    "Indicadores de patrones de comportamiento que podrían ser estudiados para replicar en otros usuarios\n",
    "\n",
    "Umbral para anomalías (30):\n",
    "Los 30 usuarios que tienen más de 2 pedidos representan comportamientos inusuales en comparación con la mayoría de los clientes. Estos usuarios podrían ser:\n",
    "Clientes altamente comprometidos.\n",
    "Usuarios con necesidades específicas o recurrentes.\n",
    "Oportunidades para fidelización, ya que parecen valorar el producto/servicio."
   ]
  },
  {
   "cell_type": "markdown",
   "metadata": {},
   "source": [
    "### 7. Traza un gráfico de dispersión de los precios de los pedidos."
   ]
  },
  {
   "cell_type": "code",
   "execution_count": 114,
   "metadata": {},
   "outputs": [
    {
     "name": "stdout",
     "output_type": "stream",
     "text": [
      "      transactionId   visitorId       date  revenue group\n",
      "425       590470918  1920142716 2019-08-19  19920.4     B\n",
      "1196     3936777065  2108080724 2019-08-15   3120.1     B\n",
      "858       192721366  1316129916 2019-08-27   1450.2     A\n",
      "1136      666610489  1307669133 2019-08-13   1425.8     A\n",
      "744      3668308183   888512513 2019-08-27   1335.6     B\n",
      "662      1811671147  4266935830 2019-08-29   1220.2     A\n",
      "682      1216533772  4266935830 2019-08-29   1220.2     B\n",
      "743      3603576309  4133034833 2019-08-09   1050.0     A\n",
      "1103     1348774318  1164614297 2019-08-12   1025.8     A\n",
      "1099      316924019   148427295 2019-08-12   1015.9     A\n"
     ]
    }
   ],
   "source": [
    "\n",
    "print(ordenes.sort_values(by='revenue',ascending=False).head(10))\n"
   ]
  },
  {
   "cell_type": "code",
   "execution_count": 117,
   "metadata": {},
   "outputs": [
    {
     "data": {
      "image/png": "[encoded data removed]",
      "text/plain": [
       "<Figure size 1200x600 with 1 Axes>"
      ]
     },
     "metadata": {},
     "output_type": "display_data"
    }
   ],
   "source": [
    "# Configurar el estilo del gráfico\n",
    "sns.set_theme(style=\"whitegrid\")\n",
    "\n",
    "# Crear el gráfico de dispersión\n",
    "plt.figure(figsize=(12, 6))\n",
    "sns.scatterplot(\n",
    "    data=ordenes,\n",
    "    x='date',\n",
    "    y='revenue',\n",
    "    hue='group',\n",
    "    palette={'A': 'blue', 'B': 'orange'},\n",
    "    alpha=0.7\n",
    ")\n",
    "\n",
    "# Configurar etiquetas y título\n",
    "plt.title(\"Gráfico de Dispersión de los Precios de los Pedidos\", fontsize=14)\n",
    "plt.xlabel(\"Fecha\", fontsize=12)\n",
    "plt.ylabel(\"Revenue (Ingresos)\", fontsize=12)\n",
    "plt.xticks(rotation=45)\n",
    "plt.legend(title=\"Grupo\", loc='upper right')\n",
    "\n",
    "# Mostrar el gráfico\n",
    "plt.show()\n"
   ]
  },
  {
   "cell_type": "markdown",
   "metadata": {},
   "source": [
    "\n",
    "aqui se muestra una grafica de dispersion de los ingresos de los dias con mayor ingreso y de cada grupo "
   ]
  },
  {
   "cell_type": "markdown",
   "metadata": {},
   "source": [
    "### 8. Calcula los percentiles 95 y 99 de los precios de los pedidos. Define el punto en el cual un punto de datos se convierte en una anomalía."
   ]
  },
  {
   "cell_type": "code",
   "execution_count": 124,
   "metadata": {},
   "outputs": [
    {
     "name": "stdout",
     "output_type": "stream",
     "text": [
      "      transactionId   visitorId       date  revenue group\n",
      "425       590470918  1920142716 2019-08-19  19920.4     B\n",
      "1196     3936777065  2108080724 2019-08-15   3120.1     B\n",
      "858       192721366  1316129916 2019-08-27   1450.2     A\n",
      "1136      666610489  1307669133 2019-08-13   1425.8     A\n",
      "744      3668308183   888512513 2019-08-27   1335.6     B\n",
      "662      1811671147  4266935830 2019-08-29   1220.2     A\n",
      "682      1216533772  4266935830 2019-08-29   1220.2     B\n",
      "743      3603576309  4133034833 2019-08-09   1050.0     A\n",
      "1103     1348774318  1164614297 2019-08-12   1025.8     A\n",
      "1099      316924019   148427295 2019-08-12   1015.9     A\n",
      "\n",
      "Percentil 95: 435.54\n",
      "Percentil 99: 900.90\n",
      "Pedidos con un precio superior a 435.54 serán considerados anomalías (95%).\n",
      "Pedidos con un precio superior a 900.9039999999999 serán considerados anomalías extremas (99%).\n",
      "Número de pedidos anómalos (95%): 60\n"
     ]
    }
   ],
   "source": [
    "# Calcular los percentiles para los precios de los pedidos\n",
    "percentiles = np.percentile(ordenes['revenue'], [95, 99])\n",
    "\n",
    "print(ordenes.sort_values(by='revenue', ascending=False).head(10))\n",
    "print()\n",
    "\n",
    "# Mostrar los resultados\n",
    "print(f\"Percentil 95: {percentiles[0]:.2f}\")\n",
    "print(f\"Percentil 99: {percentiles[1]:.2f}\")\n",
    "\n",
    "# Definir puntos de corte para anomalías\n",
    "anomaly_threshold_95 = percentiles[0]\n",
    "anomaly_threshold_99 = percentiles[1]\n",
    "\n",
    "print(f\"Pedidos con un precio superior a {anomaly_threshold_95} serán considerados anomalías (95%).\")\n",
    "print(f\"Pedidos con un precio superior a {anomaly_threshold_99} serán considerados anomalías extremas (99%).\")\n",
    "\n",
    "# Filtrar pedidos anómalos\n",
    "anomalous_orders = ordenes[ordenes['revenue'] > anomaly_threshold_95]\n",
    "print(f\"Número de pedidos anómalos (95%): {len(anomalous_orders)}\")\n"
   ]
  },
  {
   "cell_type": "markdown",
   "metadata": {},
   "source": [
    "El percentil 95 indica que el 95% de los pedidos tienen un precio igual o inferior a 435.54. Esto significa que los pedidos con un precio mayor a este valor son considerados anómalos.\n",
    "\n",
    "El percentil 99 indica que el 99% de los pedidos tienen un precio igual o inferior a 900.90. Los pedidos con un precio superior a este valor son considerados anomalías extremas.\n",
    "\n",
    "Se identificaron 60 pedidos con un precio superior al percentil 95, lo que representa un pequeño porcentaje de las transacciones totales. Estos pedidos tienen precios significativamente más altos que el resto y podrían deberse a:\n",
    "Clientes comprando grandes cantidades o productos premium.\n",
    "Promociones o descuentos que impulsaron compras de mayor valor.\n",
    "Posibles errores en el registro de precios o pedidos."
   ]
  },
  {
   "cell_type": "markdown",
   "metadata": {},
   "source": [
    "### 9. Encuentra la significancia estadística de la diferencia en la conversión entre los grupos utilizando los datos en bruto."
   ]
  },
  {
   "cell_type": "code",
   "execution_count": 136,
   "metadata": {},
   "outputs": [
    {
     "name": "stdout",
     "output_type": "stream",
     "text": [
      "Prueba estadística de Mann-Whitney: 0.01679\n",
      "Diferencia relativa en las tasas de conversión: 0.138\n"
     ]
    }
   ],
   "source": [
    "ordersByUsersA = (\n",
    "    ordenes[ordenes['group'] == 'A']\n",
    "    .groupby('visitorId', as_index=False)\n",
    "    .agg({'transactionId': pd.Series.nunique})\n",
    ")\n",
    "ordersByUsersA.columns = ['visitorId', 'orders']\n",
    "\n",
    "ordersByUsersB = (\n",
    "    ordenes[ordenes['group'] == 'B']\n",
    "    .groupby('visitorId', as_index=False)\n",
    "    .agg({'transactionId': pd.Series.nunique})\n",
    ")\n",
    "ordersByUsersB.columns = ['visitorId', 'orders']\n",
    "\n",
    "sampleA = pd.concat(\n",
    "    [\n",
    "        ordersByUsersA['orders'],\n",
    "        pd.Series(\n",
    "            0,\n",
    "            index=np.arange(\n",
    "                visitantes[visitantes['group'] == 'A']['visits'].sum()\n",
    "                - len(ordersByUsersA['orders'])\n",
    "            ),\n",
    "            name='orders',\n",
    "        ),\n",
    "    ],\n",
    "    axis=0,\n",
    ")\n",
    "sampleB = pd.concat(\n",
    "    [\n",
    "        ordersByUsersB['orders'],\n",
    "        pd.Series(\n",
    "            0,\n",
    "            index=np.arange(\n",
    "                visitantes[visitantes['group'] == 'B']['visits'].sum()\n",
    "                - len(ordersByUsersB['orders'])\n",
    "            ),\n",
    "            name='orders',\n",
    "        ),\n",
    "    ],\n",
    "    axis=0,\n",
    ")\n",
    "\n",
    "p_value = (stats.mannwhitneyu(sampleA, sampleB)[1])\n",
    "relative_difference = sampleB.mean() / sampleA.mean() - 1\n",
    "\n",
    "print(f\"Prueba estadística de Mann-Whitney: {p_value:.5f}\")\n",
    "print(f\"Diferencia relativa en las tasas de conversión: {relative_difference:.3f}\")"
   ]
  },
  {
   "cell_type": "markdown",
   "metadata": {},
   "source": [
    "Resultados:\n",
    "\n",
    "\n",
    "Prueba estadística de Mann-Whitney: 0.01679\n",
    "Este valor corresponde al p-valor de la prueba estadística de Mann-Whitney, que evalúa si hay una diferencia significativa entre las distribuciones de los grupos A y B en términos de conversión.\n",
    "\n",
    "\n",
    "Como el p-valor es 0.01679, que es menor a 0.05, se concluye que la diferencia entre las tasas de conversión de los grupos A y B es estadísticamente significativa. Esto implica que las diferencias observadas no son producto del azar.\n",
    "Diferencia relativa en las tasas de conversión: 0.138\n",
    "Este valor indica que la tasa de conversión del grupo B es 13.8% mayor que la del grupo A. Es una mejora considerable, y refleja que las estrategias aplicadas en el grupo B parecen tener un impacto positivo.\n",
    "\n",
    "Conclusión:\n",
    "El grupo B está superando al grupo A en términos de conversión, y esta diferencia es significativa. Esto sugiere que cualquier cambio o estrategia aplicada al grupo B podría estar funcionando mejor que lo que se aplicó al grupo A. Se recomienda investigar más a fondo qué factores específicos influyen en esta mejora para poder optimizar la conversión en general."
   ]
  },
  {
   "cell_type": "markdown",
   "metadata": {},
   "source": [
    "### 10.Encuentra la significancia estadística de la diferencia en el tamaño promedio de pedido entre los grupos utilizando los datos en bruto."
   ]
  },
  {
   "cell_type": "code",
   "execution_count": 141,
   "metadata": {},
   "outputs": [
    {
     "name": "stdout",
     "output_type": "stream",
     "text": [
      "Valor p para comparar los tamaños de pedido promedio de los grupos: 0.692\n",
      "Ganancia Relativa: 0.252\n"
     ]
    }
   ],
   "source": [
    "promedio_grupos = stats.mannwhitneyu(ordenes[ordenes['group'] == 'A']['revenue'],ordenes[ordenes['group'] == 'B']['revenue'],)[1]\n",
    "\n",
    "revenue_relative = ordenes[ordenes['group'] == 'B']['revenue'].mean()/ ordenes[ordenes['group'] == 'A']['revenue'].mean()- 1\n",
    "\n",
    "\n",
    "print(f\"Valor p para comparar los tamaños de pedido promedio de los grupos: {promedio_grupos:.3f}\")\n",
    "print(f\"Ganancia Relativa: {revenue_relative:.3f}\")"
   ]
  },
  {
   "cell_type": "markdown",
   "metadata": {},
   "source": [
    "1. Valor p (0.692):\n",
    "Un valor p de 0.692 indica que no hay una diferencia estadísticamente significativa entre los tamaños promedio de pedido de los grupos A y B.\n",
    "Esto significa que cualquier diferencia observada en los tamaños de pedido promedio podría ser atribuida al azar, y no a un efecto real de las condiciones o estrategias aplicadas en los grupos.\n",
    "\n",
    "2. Ganancia relativa (0.252):\n",
    "La ganancia relativa de 0.252 indica que el tamaño promedio de los pedidos en el grupo B es 25.2% mayor que en el grupo A.\n",
    "Aunque este aumento parece considerable en términos prácticos, el valor p alto sugiere que esta diferencia no es confiable desde un punto de vista estadístico.\n",
    "\n",
    "Diferencia no significativa: Aunque el grupo B muestra un tamaño promedio de pedido mayor que el grupo A (25.2%), esta diferencia no es estadísticamente significativa. Por lo tanto, no se puede asegurar que el grupo B sea consistentemente mejor en términos de tamaño de pedido promedio.\n",
    "\n",
    "Recomendación: Podría ser útil recopilar más datos o analizar otros factores que puedan estar influyendo en el tamaño de los pedidos antes de tomar decisiones basadas en estos resultados.\n",
    "\n"
   ]
  },
  {
   "cell_type": "markdown",
   "metadata": {},
   "source": [
    "### 11.Encuentra la significancia estadística de la diferencia en la conversión entre los grupos utilizando los datos filtrados"
   ]
  },
  {
   "cell_type": "code",
   "execution_count": 171,
   "metadata": {},
   "outputs": [
    {
     "name": "stdout",
     "output_type": "stream",
     "text": [
      "0.01254\n",
      "0.168\n"
     ]
    }
   ],
   "source": [
    "ordersByUsersA = (\n",
    "    ordenes[ordenes['group'] == 'A']\n",
    "    .groupby('visitorId', as_index=False)\n",
    "    .agg({'transactionId': pd.Series.nunique}) \n",
    ")\n",
    "ordersByUsersA.columns = ['visitorId', 'orders']  \n",
    "\n",
    "ordersByUsersB = (\n",
    "    ordenes[ordenes['group'] == 'B']\n",
    "    .groupby('visitorId', as_index=False)\n",
    "    .agg({'transactionId': pd.Series.nunique})  \n",
    ")\n",
    "ordersByUsersB.columns = ['visitorId', 'orders']  \n",
    "\n",
    "usersWithManyOrders = pd.concat(\n",
    "    [\n",
    "        ordersByUsersA[ordersByUsersA['orders'] > 2]['visitorId'],\n",
    "        ordersByUsersB[ordersByUsersB['orders'] > 2]['visitorId'],\n",
    "    ],\n",
    "    axis=0,\n",
    ")\n",
    "\n",
    "usersWithExpensiveOrders = ordenes[ordenes['revenue'] > 10000]['visitorId']\n",
    "\n",
    "abnormalUsers = (\n",
    "    pd.concat([usersWithManyOrders, usersWithExpensiveOrders], axis=0)\n",
    "    .drop_duplicates()\n",
    "    .sort_values()\n",
    ")\n",
    "\n",
    "\n",
    "\n",
    "sampleAFiltered = pd.concat(\n",
    "    [\n",
    "        ordersByUsersA[\n",
    "            np.logical_not(ordersByUsersA['visitorId'].isin(abnormalUsers))\n",
    "        ]['orders'],\n",
    "        pd.Series(\n",
    "            0,\n",
    "            index=np.arange(\n",
    "                visitantes[visitantes['group'] == 'A']['visits'].sum()\n",
    "                - len(ordersByUsersA['orders'])\n",
    "            ),\n",
    "            name='orders',\n",
    "        ),\n",
    "    ],\n",
    "    axis=0,\n",
    ")\n",
    "\n",
    "sampleAFiltered = pd.concat(\n",
    "    [\n",
    "        ordersByUsersA[\n",
    "            np.logical_not(ordersByUsersA['visitorId'].isin(abnormalUsers))\n",
    "        ]['orders'],\n",
    "        pd.Series(\n",
    "            0,\n",
    "            index=np.arange(\n",
    "                visitantes[visitantes['group'] == 'A']['visits'].sum()\n",
    "                - len(ordersByUsersA['orders'])\n",
    "            ),\n",
    "            name='orders',\n",
    "        ),\n",
    "    ],\n",
    "    axis=0,\n",
    ")\n",
    "\n",
    "sampleBFiltered = pd.concat(\n",
    "    [\n",
    "        ordersByUsersB[\n",
    "            np.logical_not(ordersByUsersB['visitorId'].isin(abnormalUsers))\n",
    "        ]['orders'],\n",
    "        pd.Series(\n",
    "            0,\n",
    "            index=np.arange(\n",
    "                visitantes[visitantes['group'] == 'B']['visits'].sum()\n",
    "                - len(ordersByUsersB['orders'])\n",
    "            ),\n",
    "            name='orders',\n",
    "        ),\n",
    "    ],\n",
    "    axis=0,\n",
    ")\n",
    "\n",
    "print(\n",
    "    \"{0:.5f}\".format(stats.mannwhitneyu(sampleAFiltered, sampleBFiltered)[1])\n",
    ")\n",
    "print(\"{0:.3f}\".format(sampleBFiltered.mean() / sampleAFiltered.mean() - 1))"
   ]
  },
  {
   "cell_type": "markdown",
   "metadata": {},
   "source": [
    "1. Prueba estadística de Mann-Whitney (p-valor): 0.01254\n",
    "El p-valor de 0.01254 es menor al umbral comúnmente utilizado de 0.05, lo que significa que hay una diferencia estadísticamente significativa entre las tasas de conversión de los grupos A y B, incluso después de filtrar los datos de usuarios anómalos.\n",
    "\n",
    "2. Diferencia relativa en las tasas de conversión: 0.168 (16.8%)\n",
    "Este valor indica que la tasa de conversión del grupo B es un 16.8% mayor en comparación con la del grupo A.\n",
    "\n",
    "Conclusión:\n",
    "\n",
    "Después de filtrar usuarios anómalos (aquellos con pedidos excesivos o muy caros), encontramos una diferencia significativa entre los grupos A y B en términos de conversión. El grupo B tiene una tasa de conversión significativamente más alta que el grupo A, con una diferencia relativa del 16.8%. Esto podría ser indicativo de que las estrategias aplicadas al grupo B son más efectivas, aunque es importante considerar otros factores antes de tomar decisiones comerciales definitivas."
   ]
  },
  {
   "cell_type": "markdown",
   "metadata": {},
   "source": [
    "### 12. Encuentra la significancia estadística de la diferencia en el tamaño promedio de pedido entre los grupos utilizando los datos filtrados. Haz conclusiones y conjeturas."
   ]
  },
  {
   "cell_type": "code",
   "execution_count": 172,
   "metadata": {},
   "outputs": [
    {
     "name": "stdout",
     "output_type": "stream",
     "text": [
      "Valor p para la prueba de Mann-Whitney: 0.66987\n",
      "Diferencia relativa en los tamaños promedio de pedidos: -0.055\n"
     ]
    }
   ],
   "source": [
    "# Filtrar datos para excluir usuarios anómalos\n",
    "ordersFiltered = ordenes[\n",
    "    ~ordenes['visitorId'].isin(abnormalUsers)  # Excluir usuarios anómalos\n",
    "]\n",
    "\n",
    "# Separar los datos en los dos grupos\n",
    "revenueA = ordersFiltered[ordersFiltered['group'] == 'A']['revenue']\n",
    "revenueB = ordersFiltered[ordersFiltered['group'] == 'B']['revenue']\n",
    "\n",
    "# Prueba estadística de Mann-Whitney para comparar los tamaños promedio de los pedidos entre los grupos\n",
    "p_value = stats.mannwhitneyu(revenueA, revenueB)[1]\n",
    "\n",
    "# Calcular la diferencia relativa entre los tamaños promedio de los pedidos\n",
    "relative_difference = revenueB.mean() / revenueA.mean() - 1\n",
    "\n",
    "# Imprimir resultados\n",
    "print(\"Valor p para la prueba de Mann-Whitney: {0:.5f}\".format(p_value))\n",
    "print(\"Diferencia relativa en los tamaños promedio de pedidos: {0:.3f}\".format(relative_difference))\n"
   ]
  },
  {
   "cell_type": "markdown",
   "metadata": {},
   "source": [
    "Valor p (0.66987):\n",
    "Este valor p es mucho mayor que el nivel de significancia típico de 0.05. Por lo tanto, no hay suficiente evidencia estadística para rechazar la hipótesis nula. Esto significa que no hay una diferencia estadísticamente significativa en el tamaño promedio de los pedidos entre los grupos A y B.\n",
    "\n",
    "Diferencia relativa (-0.055):\n",
    "El tamaño promedio de los pedidos en el grupo B es aproximadamente un 5.5% más bajo que en el grupo A. Sin embargo, esta diferencia no es estadísticamente significativa debido al alto valor p."
   ]
  },
  {
   "cell_type": "markdown",
   "metadata": {},
   "source": [
    "### 13.Toma una decisión basada en los resultados de la prueba. Las decisiones posibles son: \n",
    "\n",
    "1. Parar la prueba, considerar a uno de los grupos como líder. \n",
    "\n",
    "2. Parar la prueba, concluir que no hay diferencia entre los grupos. \n",
    "\n",
    "3. Continuar la prueba."
   ]
  },
  {
   "cell_type": "markdown",
   "metadata": {},
   "source": [
    "1. Conversión:\n",
    "Valor p (0.01254): Hay una diferencia estadísticamente significativa en la conversión entre los grupos (p < 0.05).\n",
    "Diferencia relativa (16.8%): El grupo B tiene una conversión significativamente mayor que el grupo A.\n",
    "\n",
    "2. Tamaño promedio de pedidos:\n",
    "Valor p (0.66987): No hay diferencia estadísticamente significativa en el tamaño promedio de los pedidos entre los grupos (p > 0.05).\n",
    "Diferencia relativa (-5.5%): El tamaño promedio de los pedidos en el grupo B es ligeramente menor, pero esta diferencia no es estadísticamente significativa.\n",
    "\n",
    "3. Ganancia relativa:\n",
    "En los análisis previos, el grupo B mostró una ganancia relativa positiva (13.8%), indicando que en general, es más rentable en términos de ingresos totales."
   ]
  },
  {
   "cell_type": "markdown",
   "metadata": {},
   "source": [
    "## Decisión:\n",
    "## Basándonos en estos resultados, se recomienda parar la prueba y considerar al grupo B como líder."
   ]
  },
  {
   "cell_type": "markdown",
   "metadata": {},
   "source": [
    "Justificación:\n",
    "\n",
    "1. Conversión superior en el grupo B: El grupo B tiene una conversión significativamente mayor que el grupo A, lo que implica que más usuarios completan una compra en el grupo B.\n",
    "\n",
    "2. Tamaño promedio de pedidos: Aunque no hay una diferencia estadísticamente significativa en los tamaños de pedido, el grupo B no muestra una desventaja crítica en este aspecto.\n",
    "\n",
    "3. Ganancia total: La combinación de una conversión significativamente mayor y un tamaño promedio de pedido comparable (ligeramente menor pero no significativo) resulta en una ganancia relativa positiva para el grupo B."
   ]
  },
  {
   "cell_type": "markdown",
   "metadata": {},
   "source": [
    "## Dado que el grupo B es más efectivo en términos de conversión y ganancias totales, se recomienda implementar las estrategias del grupo B como la nueva norma."
   ]
  }
 ],
 "metadata": {
  "ExecuteTimeLog": [
   {
    "duration": 170,
    "start_time": "2025-01-23T04:41:09.079Z"
   },
   {
    "duration": 2564,
    "start_time": "2025-01-23T04:41:17.711Z"
   },
   {
    "duration": 23,
    "start_time": "2025-01-23T04:41:23.920Z"
   },
   {
    "duration": 6,
    "start_time": "2025-01-23T04:46:05.140Z"
   },
   {
    "duration": 33,
    "start_time": "2025-01-23T04:46:45.678Z"
   },
   {
    "duration": 10,
    "start_time": "2025-01-23T04:46:55.130Z"
   },
   {
    "duration": 7,
    "start_time": "2025-01-23T04:47:21.796Z"
   },
   {
    "duration": 105,
    "start_time": "2025-01-23T04:47:57.085Z"
   },
   {
    "duration": 14,
    "start_time": "2025-01-23T04:48:07.101Z"
   },
   {
    "duration": 10,
    "start_time": "2025-01-23T04:48:10.143Z"
   },
   {
    "duration": 7,
    "start_time": "2025-01-23T04:48:13.939Z"
   },
   {
    "duration": 8,
    "start_time": "2025-01-23T04:48:16.580Z"
   },
   {
    "duration": 12,
    "start_time": "2025-01-23T04:48:25.953Z"
   },
   {
    "duration": 7,
    "start_time": "2025-01-23T04:48:30.915Z"
   },
   {
    "duration": 10,
    "start_time": "2025-01-23T04:48:43.854Z"
   },
   {
    "duration": 9,
    "start_time": "2025-01-23T04:48:49.712Z"
   },
   {
    "duration": 7,
    "start_time": "2025-01-23T04:55:23.812Z"
   },
   {
    "duration": 6,
    "start_time": "2025-01-23T04:55:30.171Z"
   },
   {
    "duration": 6,
    "start_time": "2025-01-23T04:55:36.187Z"
   }
  ],
  "kernelspec": {
   "display_name": "base",
   "language": "python",
   "name": "python3"
  },
  "language_info": {
   "codemirror_mode": {
    "name": "ipython",
    "version": 3
   },
   "file_extension": ".py",
   "mimetype": "text/x-python",
   "name": "python",
   "nbconvert_exporter": "python",
   "pygments_lexer": "ipython3",
   "version": "3.12.7"
  },
  "toc": {
   "base_numbering": 1,
   "nav_menu": {},
   "number_sections": true,
   "sideBar": true,
   "skip_h1_title": true,
   "title_cell": "Table of Contents",
   "title_sidebar": "Contents",
   "toc_cell": false,
   "toc_position": {},
   "toc_section_display": true,
   "toc_window_display": false
  }
 },
 "nbformat": 4,
 "nbformat_minor": 2
}

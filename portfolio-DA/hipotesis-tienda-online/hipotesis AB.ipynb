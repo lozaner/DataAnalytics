{
 "cells": [
  {
   "cell_type": "markdown",
   "metadata": {},
   "source": [
    "# Hola Elpidio!\n",
    "\n",
    "Mi nombre es David Bautista, soy code reviewer de TripleTen y voy a revisar el proyecto que acabas de desarrollar.\n",
    "\n",
    "Cuando vea un error la primera vez, lo señalaré. Deberás encontrarlo y arreglarlo. La intención es que te prepares para un espacio real de trabajo. En un trabajo, el líder de tu equipo hará lo mismo. Si no puedes solucionar el error, te daré más información en la próxima ocasión.\n",
    "\n",
    "Encontrarás mis comentarios más abajo - **por favor, no los muevas, no los modifiques ni los borres.**\n",
    "\n",
    "¿Cómo lo voy a hacer? Voy a leer detenidamente cada una de las implementaciones que has llevado a cabo para cumplir con lo solicitado. Verás los comentarios de esta forma:\n",
    "\n",
    "<div class=\"alert alert-block alert-success\">\n",
    "<b>Comentario del revisor</b> <a class=\"tocSkip\"></a>\n",
    "    \n",
    "Si todo está perfecto.\n",
    "</div>\n",
    "\n",
    "\n",
    "<div class=\"alert alert-block alert-warning\">\n",
    "<b>Comentario del revisor</b> <a class=\"tocSkip\"></a>\n",
    "    \n",
    "Si tu código está bien pero se puede mejorar o hay algún detalle que le hace falta.\n",
    "</div>\n",
    "\n",
    "\n",
    "<div class=\"alert alert-block alert-danger\">\n",
    "    \n",
    "<b>Comentario del revisor</b> <a class=\"tocSkip\"></a>\n",
    "    \n",
    "    \n",
    "Si de pronto hace falta algo o existe algún problema con tu código o conclusiones.\n",
    "</div>\n",
    "\n",
    "\n",
    "Puedes responderme de esta forma: \n",
    "\n",
    "<div class=\"alert alert-block alert-info\">\n",
    "<b>Respuesta del estudiante</b> <a class=\"tocSkip\"></a>\n",
    "</div>\n",
    "\n",
    "¡Empecemos!"
   ]
  },
  {
   "cell_type": "markdown",
   "metadata": {},
   "source": [
    "<div class=\"alert alert-block alert-danger\">\n",
    "<b>Comentario del revisor </b> <a class=\"tocSkip\"></a>\n",
    "\n",
    "# Comentario General\n",
    "\n",
    "~~Hola, Elpidio, te felicito por el desarrollo del proyecto hasta el momento. Ahora bien, he dejado diferentes comentarios para que los pueda revisar y tener en cuenta para la siguiente entrega, sobre todo uno documentado con el subtítulo **Comentario Importante**.~~ </div>\n",
    "\n",
    "<div class=\"alert alert-block alert-danger\">\n",
    "<b>Comentario del revisor </b> <a class=\"tocSkip\"></a>\n",
    "\n",
    "# Comentario General #2\n",
    "\n",
    "~~Hola, Elpidio, he dejado nuevos comentarios etiquetados con el #2 para que los puedas revisar y tener en cuenta para la sigiente entrega.~~ </div>\n",
    "\n",
    "<div class=\"alert alert-block alert-success\">\n",
    "<b>Comentario del revisor </b> <a class=\"tocSkip\"></a>\n",
    "\n",
    "# Comentario General #3\n",
    "\n",
    "Hola, Elpidio, te felicito por la culminación del proyecto. Muy buen trabajo.  </div>"
   ]
  },
  {
   "cell_type": "markdown",
   "metadata": {},
   "source": [
    "# Proposito del Proyecto"
   ]
  },
  {
   "cell_type": "markdown",
   "metadata": {},
   "source": []
  },
  {
   "cell_type": "markdown",
   "metadata": {},
   "source": [
    "# Iniciacion"
   ]
  },
  {
   "cell_type": "code",
   "execution_count": 1,
   "metadata": {},
   "outputs": [],
   "source": [
    "import pandas as pd\n",
    "import numpy as np\n",
    "from matplotlib import pyplot as plt\n",
    "import seaborn as sns\n",
    "from scipy import stats\n",
    "import datetime as dt"
   ]
  },
  {
   "cell_type": "markdown",
   "metadata": {},
   "source": [
    "<div class=\"alert alert-block alert-success\">\n",
    "<b>Comentario del revisor </b> <a class=\"tocSkip\"></a>\n",
    "\n",
    "Perfecto, buen trabajo importando las librerías necesarias para el desarrollo del proyecto.  </div>"
   ]
  },
  {
   "cell_type": "markdown",
   "metadata": {},
   "source": [
    "## 1.2 Cargar datos"
   ]
  },
  {
   "cell_type": "code",
   "execution_count": 2,
   "metadata": {},
   "outputs": [],
   "source": [
    "hipotesis = pd.read_csv(\"/datasets/hypotheses_us.csv\", sep=\";\")\n",
    "ordenes = pd.read_csv(\"/datasets/orders_us.csv\", sep=\",\")\n",
    "visitantes = pd.read_csv(\"/datasets/visits_us.csv\", sep=\",\")\n",
    "\n",
    "#/datasets/"
   ]
  },
  {
   "cell_type": "markdown",
   "metadata": {},
   "source": [
    "<div class=\"alert alert-block alert-success\">\n",
    "<b>Comentario del revisor </b> <a class=\"tocSkip\"></a>\n",
    "\n",
    "Perfecto, buen trabajo importando las librerías necesarias para el desarrollo del proyecto.  </div>"
   ]
  },
  {
   "cell_type": "markdown",
   "metadata": {},
   "source": [
    "## 1.3 Preparar los datos"
   ]
  },
  {
   "cell_type": "code",
   "execution_count": 3,
   "metadata": {},
   "outputs": [],
   "source": [
    "def info_gral(datos):\n",
    "    print(\"------Primeras Filas------\")\n",
    "    print(datos.head())\n",
    "    print()\n",
    "    print(\"------Datos Generales------\")\n",
    "    print(datos.info())\n",
    "    print()\n",
    "    print(\"------Revision de Datos Ausentes------\")\n",
    "    print(datos.isna().sum())\n",
    "    print()\n",
    "    print(\"------Revision de Duplicados------\")\n",
    "    print(datos.duplicated().sum())\n",
    "    print()\n",
    "    print(\"------Valores Faltantes------\")"
   ]
  },
  {
   "cell_type": "markdown",
   "metadata": {},
   "source": [
    "<div class=\"alert alert-block alert-success\">\n",
    "<b>Comentario del revisor </b> <a class=\"tocSkip\"></a>\n",
    "\n",
    "Perfecto, buen trabajo estructurando esta función para explorar de manera inicial el contenido de los datasets.  </div>"
   ]
  },
  {
   "cell_type": "markdown",
   "metadata": {},
   "source": [
    "## 1.4 Limpieza de Datos"
   ]
  },
  {
   "cell_type": "code",
   "execution_count": 4,
   "metadata": {},
   "outputs": [
    {
     "name": "stdout",
     "output_type": "stream",
     "text": [
      "------Primeras Filas------\n",
      "                                          Hypothesis  Reach  Impact  \\\n",
      "0  Add two new channels for attracting traffic. T...      3      10   \n",
      "1  Launch your own delivery service. This will sh...      2       5   \n",
      "2  Add product recommendation blocks to the store...      8       3   \n",
      "3  Change the category structure. This will incre...      8       3   \n",
      "4  Change the background color on the main page. ...      3       1   \n",
      "\n",
      "   Confidence  Effort  \n",
      "0           8       6  \n",
      "1           4      10  \n",
      "2           7       3  \n",
      "3           3       8  \n",
      "4           1       1  \n",
      "\n",
      "------Datos Generales------\n",
      "<class 'pandas.core.frame.DataFrame'>\n",
      "RangeIndex: 9 entries, 0 to 8\n",
      "Data columns (total 5 columns):\n",
      " #   Column      Non-Null Count  Dtype \n",
      "---  ------      --------------  ----- \n",
      " 0   Hypothesis  9 non-null      object\n",
      " 1   Reach       9 non-null      int64 \n",
      " 2   Impact      9 non-null      int64 \n",
      " 3   Confidence  9 non-null      int64 \n",
      " 4   Effort      9 non-null      int64 \n",
      "dtypes: int64(4), object(1)\n",
      "memory usage: 488.0+ bytes\n",
      "None\n",
      "\n",
      "------Revision de Datos Ausentes------\n",
      "Hypothesis    0\n",
      "Reach         0\n",
      "Impact        0\n",
      "Confidence    0\n",
      "Effort        0\n",
      "dtype: int64\n",
      "\n",
      "------Revision de Duplicados------\n",
      "0\n",
      "\n",
      "------Valores Faltantes------\n"
     ]
    }
   ],
   "source": [
    "info_gral(hipotesis)"
   ]
  },
  {
   "cell_type": "code",
   "execution_count": 5,
   "metadata": {},
   "outputs": [
    {
     "name": "stdout",
     "output_type": "stream",
     "text": [
      "------Primeras Filas------\n",
      "   transactionId   visitorId        date  revenue group\n",
      "0     3667963787  3312258926  2019-08-15     30.4     B\n",
      "1     2804400009  3642806036  2019-08-15     15.2     B\n",
      "2     2961555356  4069496402  2019-08-15     10.2     A\n",
      "3     3797467345  1196621759  2019-08-15    155.1     B\n",
      "4     2282983706  2322279887  2019-08-15     40.5     B\n",
      "\n",
      "------Datos Generales------\n",
      "<class 'pandas.core.frame.DataFrame'>\n",
      "RangeIndex: 1197 entries, 0 to 1196\n",
      "Data columns (total 5 columns):\n",
      " #   Column         Non-Null Count  Dtype  \n",
      "---  ------         --------------  -----  \n",
      " 0   transactionId  1197 non-null   int64  \n",
      " 1   visitorId      1197 non-null   int64  \n",
      " 2   date           1197 non-null   object \n",
      " 3   revenue        1197 non-null   float64\n",
      " 4   group          1197 non-null   object \n",
      "dtypes: float64(1), int64(2), object(2)\n",
      "memory usage: 46.9+ KB\n",
      "None\n",
      "\n",
      "------Revision de Datos Ausentes------\n",
      "transactionId    0\n",
      "visitorId        0\n",
      "date             0\n",
      "revenue          0\n",
      "group            0\n",
      "dtype: int64\n",
      "\n",
      "------Revision de Duplicados------\n",
      "0\n",
      "\n",
      "------Valores Faltantes------\n"
     ]
    }
   ],
   "source": [
    "info_gral(ordenes)"
   ]
  },
  {
   "cell_type": "code",
   "execution_count": 6,
   "metadata": {},
   "outputs": [],
   "source": [
    "ordenes['date']= pd.to_datetime(ordenes['date'])"
   ]
  },
  {
   "cell_type": "code",
   "execution_count": 7,
   "metadata": {},
   "outputs": [
    {
     "name": "stdout",
     "output_type": "stream",
     "text": [
      "------Primeras Filas------\n",
      "         date group  visits\n",
      "0  2019-08-01     A     719\n",
      "1  2019-08-02     A     619\n",
      "2  2019-08-03     A     507\n",
      "3  2019-08-04     A     717\n",
      "4  2019-08-05     A     756\n",
      "\n",
      "------Datos Generales------\n",
      "<class 'pandas.core.frame.DataFrame'>\n",
      "RangeIndex: 62 entries, 0 to 61\n",
      "Data columns (total 3 columns):\n",
      " #   Column  Non-Null Count  Dtype \n",
      "---  ------  --------------  ----- \n",
      " 0   date    62 non-null     object\n",
      " 1   group   62 non-null     object\n",
      " 2   visits  62 non-null     int64 \n",
      "dtypes: int64(1), object(2)\n",
      "memory usage: 1.6+ KB\n",
      "None\n",
      "\n",
      "------Revision de Datos Ausentes------\n",
      "date      0\n",
      "group     0\n",
      "visits    0\n",
      "dtype: int64\n",
      "\n",
      "------Revision de Duplicados------\n",
      "0\n",
      "\n",
      "------Valores Faltantes------\n"
     ]
    }
   ],
   "source": [
    "info_gral(visitantes)"
   ]
  },
  {
   "cell_type": "code",
   "execution_count": 8,
   "metadata": {},
   "outputs": [],
   "source": [
    "visitantes['date']= pd.to_datetime(visitantes['date'])"
   ]
  },
  {
   "cell_type": "markdown",
   "metadata": {},
   "source": [
    "<div class=\"alert alert-block alert-success\">\n",
    "<b>Comentario del revisor </b> <a class=\"tocSkip\"></a>\n",
    "\n",
    "Excelente, buen trabajo explorando y modificando de manera inicial el contenido de los datasets.   </div>"
   ]
  },
  {
   "cell_type": "code",
   "execution_count": 9,
   "metadata": {},
   "outputs": [
    {
     "name": "stdout",
     "output_type": "stream",
     "text": [
      "Número de usuarios repetidos: 58\n",
      "Total de registros después de eliminar usuarios repetidos: 1016\n"
     ]
    }
   ],
   "source": [
    "# Encontrar usuarios que están en ambos grupos\n",
    "usuarios_repetidos = ordenes.groupby('visitorId')['group'].nunique()\n",
    "usuarios_repetidos = usuarios_repetidos[usuarios_repetidos > 1].index\n",
    "\n",
    "# Remover usuarios repetidos directamente en la variable 'ordenes'\n",
    "ordenes = ordenes[~ordenes['visitorId'].isin(usuarios_repetidos)]\n",
    "\n",
    "# Verificar el resultado\n",
    "print(f\"Número de usuarios repetidos: {len(usuarios_repetidos)}\")\n",
    "print(f\"Total de registros después de eliminar usuarios repetidos: {len(ordenes)}\")\n"
   ]
  },
  {
   "cell_type": "markdown",
   "metadata": {},
   "source": [
    "## 1.5 Priorizar hipótesis"
   ]
  },
  {
   "cell_type": "code",
   "execution_count": 10,
   "metadata": {},
   "outputs": [
    {
     "data": {
      "text/html": [
       "<div>\n",
       "<style scoped>\n",
       "    .dataframe tbody tr th:only-of-type {\n",
       "        vertical-align: middle;\n",
       "    }\n",
       "\n",
       "    .dataframe tbody tr th {\n",
       "        vertical-align: top;\n",
       "    }\n",
       "\n",
       "    .dataframe thead th {\n",
       "        text-align: right;\n",
       "    }\n",
       "</style>\n",
       "<table border=\"1\" class=\"dataframe\">\n",
       "  <thead>\n",
       "    <tr style=\"text-align: right;\">\n",
       "      <th></th>\n",
       "      <th>Hypothesis</th>\n",
       "      <th>Reach</th>\n",
       "      <th>Impact</th>\n",
       "      <th>Confidence</th>\n",
       "      <th>Effort</th>\n",
       "      <th>ICE</th>\n",
       "    </tr>\n",
       "  </thead>\n",
       "  <tbody>\n",
       "    <tr>\n",
       "      <th>8</th>\n",
       "      <td>Launch a promotion that gives users discounts ...</td>\n",
       "      <td>1</td>\n",
       "      <td>9</td>\n",
       "      <td>9</td>\n",
       "      <td>5</td>\n",
       "      <td>16.200000</td>\n",
       "    </tr>\n",
       "    <tr>\n",
       "      <th>0</th>\n",
       "      <td>Add two new channels for attracting traffic. T...</td>\n",
       "      <td>3</td>\n",
       "      <td>10</td>\n",
       "      <td>8</td>\n",
       "      <td>6</td>\n",
       "      <td>13.333333</td>\n",
       "    </tr>\n",
       "    <tr>\n",
       "      <th>7</th>\n",
       "      <td>Add a subscription form to all the main pages....</td>\n",
       "      <td>10</td>\n",
       "      <td>7</td>\n",
       "      <td>8</td>\n",
       "      <td>5</td>\n",
       "      <td>11.200000</td>\n",
       "    </tr>\n",
       "    <tr>\n",
       "      <th>6</th>\n",
       "      <td>Show banners with current offers and sales on ...</td>\n",
       "      <td>5</td>\n",
       "      <td>3</td>\n",
       "      <td>8</td>\n",
       "      <td>3</td>\n",
       "      <td>8.000000</td>\n",
       "    </tr>\n",
       "    <tr>\n",
       "      <th>2</th>\n",
       "      <td>Add product recommendation blocks to the store...</td>\n",
       "      <td>8</td>\n",
       "      <td>3</td>\n",
       "      <td>7</td>\n",
       "      <td>3</td>\n",
       "      <td>7.000000</td>\n",
       "    </tr>\n",
       "    <tr>\n",
       "      <th>1</th>\n",
       "      <td>Launch your own delivery service. This will sh...</td>\n",
       "      <td>2</td>\n",
       "      <td>5</td>\n",
       "      <td>4</td>\n",
       "      <td>10</td>\n",
       "      <td>2.000000</td>\n",
       "    </tr>\n",
       "    <tr>\n",
       "      <th>5</th>\n",
       "      <td>Add a customer review page. This will increase...</td>\n",
       "      <td>3</td>\n",
       "      <td>2</td>\n",
       "      <td>2</td>\n",
       "      <td>3</td>\n",
       "      <td>1.333333</td>\n",
       "    </tr>\n",
       "    <tr>\n",
       "      <th>3</th>\n",
       "      <td>Change the category structure. This will incre...</td>\n",
       "      <td>8</td>\n",
       "      <td>3</td>\n",
       "      <td>3</td>\n",
       "      <td>8</td>\n",
       "      <td>1.125000</td>\n",
       "    </tr>\n",
       "    <tr>\n",
       "      <th>4</th>\n",
       "      <td>Change the background color on the main page. ...</td>\n",
       "      <td>3</td>\n",
       "      <td>1</td>\n",
       "      <td>1</td>\n",
       "      <td>1</td>\n",
       "      <td>1.000000</td>\n",
       "    </tr>\n",
       "  </tbody>\n",
       "</table>\n",
       "</div>"
      ],
      "text/plain": [
       "                                          Hypothesis  Reach  Impact  \\\n",
       "8  Launch a promotion that gives users discounts ...      1       9   \n",
       "0  Add two new channels for attracting traffic. T...      3      10   \n",
       "7  Add a subscription form to all the main pages....     10       7   \n",
       "6  Show banners with current offers and sales on ...      5       3   \n",
       "2  Add product recommendation blocks to the store...      8       3   \n",
       "1  Launch your own delivery service. This will sh...      2       5   \n",
       "5  Add a customer review page. This will increase...      3       2   \n",
       "3  Change the category structure. This will incre...      8       3   \n",
       "4  Change the background color on the main page. ...      3       1   \n",
       "\n",
       "   Confidence  Effort        ICE  \n",
       "8           9       5  16.200000  \n",
       "0           8       6  13.333333  \n",
       "7           8       5  11.200000  \n",
       "6           8       3   8.000000  \n",
       "2           7       3   7.000000  \n",
       "1           4      10   2.000000  \n",
       "5           2       3   1.333333  \n",
       "3           3       8   1.125000  \n",
       "4           1       1   1.000000  "
      ]
     },
     "execution_count": 10,
     "metadata": {},
     "output_type": "execute_result"
    }
   ],
   "source": [
    "hipotesis['ICE']= hipotesis['Impact']*hipotesis['Confidence'] / hipotesis['Effort']\n",
    "ICE_prioridad = hipotesis.sort_values('ICE', ascending=False)\n",
    "ICE_prioridad\n"
   ]
  },
  {
   "cell_type": "code",
   "execution_count": 11,
   "metadata": {},
   "outputs": [
    {
     "data": {
      "text/html": [
       "<div>\n",
       "<style scoped>\n",
       "    .dataframe tbody tr th:only-of-type {\n",
       "        vertical-align: middle;\n",
       "    }\n",
       "\n",
       "    .dataframe tbody tr th {\n",
       "        vertical-align: top;\n",
       "    }\n",
       "\n",
       "    .dataframe thead th {\n",
       "        text-align: right;\n",
       "    }\n",
       "</style>\n",
       "<table border=\"1\" class=\"dataframe\">\n",
       "  <thead>\n",
       "    <tr style=\"text-align: right;\">\n",
       "      <th></th>\n",
       "      <th>Hypothesis</th>\n",
       "      <th>Reach</th>\n",
       "      <th>Impact</th>\n",
       "      <th>Confidence</th>\n",
       "      <th>Effort</th>\n",
       "      <th>ICE</th>\n",
       "      <th>RICE</th>\n",
       "    </tr>\n",
       "  </thead>\n",
       "  <tbody>\n",
       "    <tr>\n",
       "      <th>7</th>\n",
       "      <td>Add a subscription form to all the main pages....</td>\n",
       "      <td>10</td>\n",
       "      <td>7</td>\n",
       "      <td>8</td>\n",
       "      <td>5</td>\n",
       "      <td>11.200000</td>\n",
       "      <td>112.0</td>\n",
       "    </tr>\n",
       "    <tr>\n",
       "      <th>2</th>\n",
       "      <td>Add product recommendation blocks to the store...</td>\n",
       "      <td>8</td>\n",
       "      <td>3</td>\n",
       "      <td>7</td>\n",
       "      <td>3</td>\n",
       "      <td>7.000000</td>\n",
       "      <td>56.0</td>\n",
       "    </tr>\n",
       "    <tr>\n",
       "      <th>0</th>\n",
       "      <td>Add two new channels for attracting traffic. T...</td>\n",
       "      <td>3</td>\n",
       "      <td>10</td>\n",
       "      <td>8</td>\n",
       "      <td>6</td>\n",
       "      <td>13.333333</td>\n",
       "      <td>40.0</td>\n",
       "    </tr>\n",
       "    <tr>\n",
       "      <th>6</th>\n",
       "      <td>Show banners with current offers and sales on ...</td>\n",
       "      <td>5</td>\n",
       "      <td>3</td>\n",
       "      <td>8</td>\n",
       "      <td>3</td>\n",
       "      <td>8.000000</td>\n",
       "      <td>40.0</td>\n",
       "    </tr>\n",
       "    <tr>\n",
       "      <th>8</th>\n",
       "      <td>Launch a promotion that gives users discounts ...</td>\n",
       "      <td>1</td>\n",
       "      <td>9</td>\n",
       "      <td>9</td>\n",
       "      <td>5</td>\n",
       "      <td>16.200000</td>\n",
       "      <td>16.2</td>\n",
       "    </tr>\n",
       "    <tr>\n",
       "      <th>3</th>\n",
       "      <td>Change the category structure. This will incre...</td>\n",
       "      <td>8</td>\n",
       "      <td>3</td>\n",
       "      <td>3</td>\n",
       "      <td>8</td>\n",
       "      <td>1.125000</td>\n",
       "      <td>9.0</td>\n",
       "    </tr>\n",
       "    <tr>\n",
       "      <th>1</th>\n",
       "      <td>Launch your own delivery service. This will sh...</td>\n",
       "      <td>2</td>\n",
       "      <td>5</td>\n",
       "      <td>4</td>\n",
       "      <td>10</td>\n",
       "      <td>2.000000</td>\n",
       "      <td>4.0</td>\n",
       "    </tr>\n",
       "    <tr>\n",
       "      <th>5</th>\n",
       "      <td>Add a customer review page. This will increase...</td>\n",
       "      <td>3</td>\n",
       "      <td>2</td>\n",
       "      <td>2</td>\n",
       "      <td>3</td>\n",
       "      <td>1.333333</td>\n",
       "      <td>4.0</td>\n",
       "    </tr>\n",
       "    <tr>\n",
       "      <th>4</th>\n",
       "      <td>Change the background color on the main page. ...</td>\n",
       "      <td>3</td>\n",
       "      <td>1</td>\n",
       "      <td>1</td>\n",
       "      <td>1</td>\n",
       "      <td>1.000000</td>\n",
       "      <td>3.0</td>\n",
       "    </tr>\n",
       "  </tbody>\n",
       "</table>\n",
       "</div>"
      ],
      "text/plain": [
       "                                          Hypothesis  Reach  Impact  \\\n",
       "7  Add a subscription form to all the main pages....     10       7   \n",
       "2  Add product recommendation blocks to the store...      8       3   \n",
       "0  Add two new channels for attracting traffic. T...      3      10   \n",
       "6  Show banners with current offers and sales on ...      5       3   \n",
       "8  Launch a promotion that gives users discounts ...      1       9   \n",
       "3  Change the category structure. This will incre...      8       3   \n",
       "1  Launch your own delivery service. This will sh...      2       5   \n",
       "5  Add a customer review page. This will increase...      3       2   \n",
       "4  Change the background color on the main page. ...      3       1   \n",
       "\n",
       "   Confidence  Effort        ICE   RICE  \n",
       "7           8       5  11.200000  112.0  \n",
       "2           7       3   7.000000   56.0  \n",
       "0           8       6  13.333333   40.0  \n",
       "6           8       3   8.000000   40.0  \n",
       "8           9       5  16.200000   16.2  \n",
       "3           3       8   1.125000    9.0  \n",
       "1           4      10   2.000000    4.0  \n",
       "5           2       3   1.333333    4.0  \n",
       "4           1       1   1.000000    3.0  "
      ]
     },
     "execution_count": 11,
     "metadata": {},
     "output_type": "execute_result"
    }
   ],
   "source": [
    "hipotesis['RICE']= hipotesis['Reach']*hipotesis['Impact']*hipotesis['Confidence'] / hipotesis['Effort']\n",
    "RICE_prioridad = hipotesis.sort_values('RICE', ascending=False)\n",
    "RICE_prioridad"
   ]
  },
  {
   "cell_type": "code",
   "execution_count": 12,
   "metadata": {},
   "outputs": [
    {
     "data": {
      "text/plain": [
       "\"Add product recommendation blocks to the store's site. This will increase conversion and average purchase size\""
      ]
     },
     "execution_count": 12,
     "metadata": {},
     "output_type": "execute_result"
    }
   ],
   "source": [
    "hipotesis['Hypothesis'][2]"
   ]
  },
  {
   "cell_type": "markdown",
   "metadata": {},
   "source": [
    "<div class=\"alert alert-block alert-success\">\n",
    "<b>Comentario del revisor </b> <a class=\"tocSkip\"></a>\n",
    "\n",
    "Excelente, buen trabajo calculando los frameworks RICE e ICE.  </div>"
   ]
  },
  {
   "cell_type": "markdown",
   "metadata": {},
   "source": [
    "### El mayor ICE score:\n",
    "\n",
    "Representa la prioridad más alta. Este es el elemento que tiene el mejor equilibrio entre alto impacto, alta confianza y bajo esfuerzo.\n",
    "los tres con mayor prioridad son los que estan en el indice como #8 #0 y #7 \n",
    "\n",
    "### El mayor RICE score:\n",
    "\n",
    "La iniciativa más prioritaria. es #7 #2 y #0\n",
    "Ya que tiene el mejor balance entre:\n",
    "Alcanzar a un gran número de personas,\n",
    "Generar un impacto significativo,\n",
    "Contar con alta confianza en los resultados esperados,\n",
    "Y requerir un esfuerzo moderado o bajo.\n",
    "\n",
    "\n",
    "\n",
    "\n",
    "### La Hipótesis 2 (\"Add product recommendation blocks to the store's site. This will increase conversion and average purchase size\") es la mejor opción para un análisis A/B:\n",
    "\n",
    "Tiene el mayor RICE Score (112.0).\n",
    "\n",
    "Afecta a un alto número de usuarios (Reach = 10).\n",
    "\n",
    "Tiene un impacto significativo (Impact = 7) y alta confianza (Confidence = 8).\n",
    "\n",
    "El esfuerzo es razonable (Effort = 5) para su beneficio esperado.\n",
    "\n",
    "Además, probar cambios como formularios en páginas clave es medible fácilmente en un A/B test, lo que asegura resultados claros y accionables"
   ]
  },
  {
   "cell_type": "markdown",
   "metadata": {},
   "source": [
    "<div class=\"alert alert-block alert-success\">\n",
    "<b>Comentario del revisor </b> <a class=\"tocSkip\"></a>\n",
    "\n",
    "Perfecto, buen trabajo estudiando los resultados.  </div>"
   ]
  },
  {
   "cell_type": "markdown",
   "metadata": {},
   "source": [
    "\n",
    "<div class=\"alert alert-block alert-info\">\n",
    "<b>Listo lo deje en el apartado de limpieza solo los identifique como me indico y los elimine y los deje con la misma variable para que siguiera corriendo el archivo ya corregui mis comentarios cambio un poco el resultado obvio por eliminar los duplicados entre grupos.</b> <a class=\"tocSkip\"></a>\n",
    "</div>"
   ]
  },
  {
   "cell_type": "markdown",
   "metadata": {},
   "source": [
    "<div class=\"alert alert-block alert-danger\">\n",
    "<b>Comentario del revisor </b> <a class=\"tocSkip\"></a>\n",
    "\n",
    "**Comentario Importante**\n",
    "\n",
    "~~Hola Elpidio, previo al desarrollo de la sección de prueba de hipótesis, es fundamental poder identificar los usuarios que están repetidos en los grupos y eliminarlos para así llegar a las conclusiones correctas, sería fundamental que pudieras desplegar esta modificación previo a que revisemos los resultados del análisis del test A/B.~~ </div>"
   ]
  },
  {
   "cell_type": "markdown",
   "metadata": {},
   "source": [
    "## Análisis del test A/B"
   ]
  },
  {
   "cell_type": "code",
   "execution_count": 13,
   "metadata": {},
   "outputs": [
    {
     "data": {
      "text/html": [
       "<div>\n",
       "<style scoped>\n",
       "    .dataframe tbody tr th:only-of-type {\n",
       "        vertical-align: middle;\n",
       "    }\n",
       "\n",
       "    .dataframe tbody tr th {\n",
       "        vertical-align: top;\n",
       "    }\n",
       "\n",
       "    .dataframe thead th {\n",
       "        text-align: right;\n",
       "    }\n",
       "</style>\n",
       "<table border=\"1\" class=\"dataframe\">\n",
       "  <thead>\n",
       "    <tr style=\"text-align: right;\">\n",
       "      <th></th>\n",
       "      <th>transactionId</th>\n",
       "      <th>visitorId</th>\n",
       "      <th>date</th>\n",
       "      <th>revenue</th>\n",
       "      <th>group</th>\n",
       "    </tr>\n",
       "  </thead>\n",
       "  <tbody>\n",
       "    <tr>\n",
       "      <th>0</th>\n",
       "      <td>3667963787</td>\n",
       "      <td>3312258926</td>\n",
       "      <td>2019-08-15</td>\n",
       "      <td>30.4</td>\n",
       "      <td>B</td>\n",
       "    </tr>\n",
       "    <tr>\n",
       "      <th>1</th>\n",
       "      <td>2804400009</td>\n",
       "      <td>3642806036</td>\n",
       "      <td>2019-08-15</td>\n",
       "      <td>15.2</td>\n",
       "      <td>B</td>\n",
       "    </tr>\n",
       "    <tr>\n",
       "      <th>3</th>\n",
       "      <td>3797467345</td>\n",
       "      <td>1196621759</td>\n",
       "      <td>2019-08-15</td>\n",
       "      <td>155.1</td>\n",
       "      <td>B</td>\n",
       "    </tr>\n",
       "    <tr>\n",
       "      <th>4</th>\n",
       "      <td>2282983706</td>\n",
       "      <td>2322279887</td>\n",
       "      <td>2019-08-15</td>\n",
       "      <td>40.5</td>\n",
       "      <td>B</td>\n",
       "    </tr>\n",
       "    <tr>\n",
       "      <th>5</th>\n",
       "      <td>182168103</td>\n",
       "      <td>935554773</td>\n",
       "      <td>2019-08-15</td>\n",
       "      <td>35.0</td>\n",
       "      <td>B</td>\n",
       "    </tr>\n",
       "  </tbody>\n",
       "</table>\n",
       "</div>"
      ],
      "text/plain": [
       "   transactionId   visitorId       date  revenue group\n",
       "0     3667963787  3312258926 2019-08-15     30.4     B\n",
       "1     2804400009  3642806036 2019-08-15     15.2     B\n",
       "3     3797467345  1196621759 2019-08-15    155.1     B\n",
       "4     2282983706  2322279887 2019-08-15     40.5     B\n",
       "5      182168103   935554773 2019-08-15     35.0     B"
      ]
     },
     "execution_count": 13,
     "metadata": {},
     "output_type": "execute_result"
    }
   ],
   "source": [
    "ordenes.head()"
   ]
  },
  {
   "cell_type": "code",
   "execution_count": 14,
   "metadata": {},
   "outputs": [
    {
     "data": {
      "text/html": [
       "<div>\n",
       "<style scoped>\n",
       "    .dataframe tbody tr th:only-of-type {\n",
       "        vertical-align: middle;\n",
       "    }\n",
       "\n",
       "    .dataframe tbody tr th {\n",
       "        vertical-align: top;\n",
       "    }\n",
       "\n",
       "    .dataframe thead th {\n",
       "        text-align: right;\n",
       "    }\n",
       "</style>\n",
       "<table border=\"1\" class=\"dataframe\">\n",
       "  <thead>\n",
       "    <tr style=\"text-align: right;\">\n",
       "      <th></th>\n",
       "      <th>date</th>\n",
       "      <th>group</th>\n",
       "      <th>visits</th>\n",
       "    </tr>\n",
       "  </thead>\n",
       "  <tbody>\n",
       "    <tr>\n",
       "      <th>0</th>\n",
       "      <td>2019-08-01</td>\n",
       "      <td>A</td>\n",
       "      <td>719</td>\n",
       "    </tr>\n",
       "    <tr>\n",
       "      <th>1</th>\n",
       "      <td>2019-08-02</td>\n",
       "      <td>A</td>\n",
       "      <td>619</td>\n",
       "    </tr>\n",
       "    <tr>\n",
       "      <th>2</th>\n",
       "      <td>2019-08-03</td>\n",
       "      <td>A</td>\n",
       "      <td>507</td>\n",
       "    </tr>\n",
       "    <tr>\n",
       "      <th>3</th>\n",
       "      <td>2019-08-04</td>\n",
       "      <td>A</td>\n",
       "      <td>717</td>\n",
       "    </tr>\n",
       "    <tr>\n",
       "      <th>4</th>\n",
       "      <td>2019-08-05</td>\n",
       "      <td>A</td>\n",
       "      <td>756</td>\n",
       "    </tr>\n",
       "  </tbody>\n",
       "</table>\n",
       "</div>"
      ],
      "text/plain": [
       "        date group  visits\n",
       "0 2019-08-01     A     719\n",
       "1 2019-08-02     A     619\n",
       "2 2019-08-03     A     507\n",
       "3 2019-08-04     A     717\n",
       "4 2019-08-05     A     756"
      ]
     },
     "execution_count": 14,
     "metadata": {},
     "output_type": "execute_result"
    }
   ],
   "source": [
    "visitantes.head()"
   ]
  },
  {
   "cell_type": "code",
   "execution_count": 15,
   "metadata": {},
   "outputs": [
    {
     "data": {
      "text/html": [
       "<div>\n",
       "<style scoped>\n",
       "    .dataframe tbody tr th:only-of-type {\n",
       "        vertical-align: middle;\n",
       "    }\n",
       "\n",
       "    .dataframe tbody tr th {\n",
       "        vertical-align: top;\n",
       "    }\n",
       "\n",
       "    .dataframe thead th {\n",
       "        text-align: right;\n",
       "    }\n",
       "</style>\n",
       "<table border=\"1\" class=\"dataframe\">\n",
       "  <thead>\n",
       "    <tr style=\"text-align: right;\">\n",
       "      <th></th>\n",
       "      <th>date</th>\n",
       "      <th>group</th>\n",
       "    </tr>\n",
       "  </thead>\n",
       "  <tbody>\n",
       "    <tr>\n",
       "      <th>0</th>\n",
       "      <td>2019-08-01</td>\n",
       "      <td>A</td>\n",
       "    </tr>\n",
       "    <tr>\n",
       "      <th>1</th>\n",
       "      <td>2019-08-02</td>\n",
       "      <td>A</td>\n",
       "    </tr>\n",
       "    <tr>\n",
       "      <th>2</th>\n",
       "      <td>2019-08-03</td>\n",
       "      <td>A</td>\n",
       "    </tr>\n",
       "    <tr>\n",
       "      <th>3</th>\n",
       "      <td>2019-08-04</td>\n",
       "      <td>A</td>\n",
       "    </tr>\n",
       "    <tr>\n",
       "      <th>4</th>\n",
       "      <td>2019-08-05</td>\n",
       "      <td>A</td>\n",
       "    </tr>\n",
       "    <tr>\n",
       "      <th>...</th>\n",
       "      <td>...</td>\n",
       "      <td>...</td>\n",
       "    </tr>\n",
       "    <tr>\n",
       "      <th>57</th>\n",
       "      <td>2019-08-27</td>\n",
       "      <td>B</td>\n",
       "    </tr>\n",
       "    <tr>\n",
       "      <th>58</th>\n",
       "      <td>2019-08-28</td>\n",
       "      <td>B</td>\n",
       "    </tr>\n",
       "    <tr>\n",
       "      <th>59</th>\n",
       "      <td>2019-08-29</td>\n",
       "      <td>B</td>\n",
       "    </tr>\n",
       "    <tr>\n",
       "      <th>60</th>\n",
       "      <td>2019-08-30</td>\n",
       "      <td>B</td>\n",
       "    </tr>\n",
       "    <tr>\n",
       "      <th>61</th>\n",
       "      <td>2019-08-31</td>\n",
       "      <td>B</td>\n",
       "    </tr>\n",
       "  </tbody>\n",
       "</table>\n",
       "<p>62 rows × 2 columns</p>\n",
       "</div>"
      ],
      "text/plain": [
       "         date group\n",
       "0  2019-08-01     A\n",
       "1  2019-08-02     A\n",
       "2  2019-08-03     A\n",
       "3  2019-08-04     A\n",
       "4  2019-08-05     A\n",
       "..        ...   ...\n",
       "57 2019-08-27     B\n",
       "58 2019-08-28     B\n",
       "59 2019-08-29     B\n",
       "60 2019-08-30     B\n",
       "61 2019-08-31     B\n",
       "\n",
       "[62 rows x 2 columns]"
      ]
     },
     "execution_count": 15,
     "metadata": {},
     "output_type": "execute_result"
    }
   ],
   "source": [
    "fechas_grupos = visitantes[['date','group']].drop_duplicates()\n",
    "fechas_grupos"
   ]
  },
  {
   "cell_type": "code",
   "execution_count": 16,
   "metadata": {},
   "outputs": [
    {
     "data": {
      "text/html": [
       "<div>\n",
       "<style scoped>\n",
       "    .dataframe tbody tr th:only-of-type {\n",
       "        vertical-align: middle;\n",
       "    }\n",
       "\n",
       "    .dataframe tbody tr th {\n",
       "        vertical-align: top;\n",
       "    }\n",
       "\n",
       "    .dataframe thead th {\n",
       "        text-align: right;\n",
       "    }\n",
       "</style>\n",
       "<table border=\"1\" class=\"dataframe\">\n",
       "  <thead>\n",
       "    <tr style=\"text-align: right;\">\n",
       "      <th></th>\n",
       "      <th>date</th>\n",
       "      <th>group</th>\n",
       "      <th>n_transaction</th>\n",
       "      <th>n_client</th>\n",
       "      <th>acumulative_revenue</th>\n",
       "    </tr>\n",
       "  </thead>\n",
       "  <tbody>\n",
       "    <tr>\n",
       "      <th>0</th>\n",
       "      <td>2019-08-01</td>\n",
       "      <td>A</td>\n",
       "      <td>23</td>\n",
       "      <td>19</td>\n",
       "      <td>2266.6</td>\n",
       "    </tr>\n",
       "    <tr>\n",
       "      <th>31</th>\n",
       "      <td>2019-08-01</td>\n",
       "      <td>B</td>\n",
       "      <td>17</td>\n",
       "      <td>17</td>\n",
       "      <td>967.2</td>\n",
       "    </tr>\n",
       "    <tr>\n",
       "      <th>1</th>\n",
       "      <td>2019-08-02</td>\n",
       "      <td>A</td>\n",
       "      <td>42</td>\n",
       "      <td>36</td>\n",
       "      <td>3734.9</td>\n",
       "    </tr>\n",
       "    <tr>\n",
       "      <th>32</th>\n",
       "      <td>2019-08-02</td>\n",
       "      <td>B</td>\n",
       "      <td>40</td>\n",
       "      <td>39</td>\n",
       "      <td>3535.3</td>\n",
       "    </tr>\n",
       "    <tr>\n",
       "      <th>2</th>\n",
       "      <td>2019-08-03</td>\n",
       "      <td>A</td>\n",
       "      <td>66</td>\n",
       "      <td>60</td>\n",
       "      <td>5550.1</td>\n",
       "    </tr>\n",
       "  </tbody>\n",
       "</table>\n",
       "</div>"
      ],
      "text/plain": [
       "         date group  n_transaction  n_client  acumulative_revenue\n",
       "0  2019-08-01     A             23        19               2266.6\n",
       "31 2019-08-01     B             17        17                967.2\n",
       "1  2019-08-02     A             42        36               3734.9\n",
       "32 2019-08-02     B             40        39               3535.3\n",
       "2  2019-08-03     A             66        60               5550.1"
      ]
     },
     "execution_count": 16,
     "metadata": {},
     "output_type": "execute_result"
    }
   ],
   "source": [
    "ordene_acumuladas = fechas_grupos.apply(\n",
    "    lambda fila:\n",
    "    ordenes[np.logical_and(ordenes['date'] <= fila['date'], ordenes['group'] == fila['group'])].agg({\n",
    "        'date':'max',\n",
    "        'group': 'max',\n",
    "        'transactionId': 'nunique',\n",
    "        'visitorId' : 'nunique',\n",
    "        'revenue': 'sum'\n",
    "        \n",
    "    }),axis=1\n",
    "    ).sort_values(by=['date','group'])\n",
    "\n",
    "ordene_acumuladas.columns = ['date','group','n_transaction','n_client','acumulative_revenue']\n",
    "ordene_acumuladas.head()"
   ]
  },
  {
   "cell_type": "code",
   "execution_count": 17,
   "metadata": {},
   "outputs": [
    {
     "data": {
      "text/html": [
       "<div>\n",
       "<style scoped>\n",
       "    .dataframe tbody tr th:only-of-type {\n",
       "        vertical-align: middle;\n",
       "    }\n",
       "\n",
       "    .dataframe tbody tr th {\n",
       "        vertical-align: top;\n",
       "    }\n",
       "\n",
       "    .dataframe thead th {\n",
       "        text-align: right;\n",
       "    }\n",
       "</style>\n",
       "<table border=\"1\" class=\"dataframe\">\n",
       "  <thead>\n",
       "    <tr style=\"text-align: right;\">\n",
       "      <th></th>\n",
       "      <th>date</th>\n",
       "      <th>group</th>\n",
       "      <th>acumulative_visits</th>\n",
       "    </tr>\n",
       "  </thead>\n",
       "  <tbody>\n",
       "    <tr>\n",
       "      <th>0</th>\n",
       "      <td>2019-08-01</td>\n",
       "      <td>A</td>\n",
       "      <td>719</td>\n",
       "    </tr>\n",
       "    <tr>\n",
       "      <th>31</th>\n",
       "      <td>2019-08-01</td>\n",
       "      <td>B</td>\n",
       "      <td>713</td>\n",
       "    </tr>\n",
       "    <tr>\n",
       "      <th>1</th>\n",
       "      <td>2019-08-02</td>\n",
       "      <td>A</td>\n",
       "      <td>1338</td>\n",
       "    </tr>\n",
       "    <tr>\n",
       "      <th>32</th>\n",
       "      <td>2019-08-02</td>\n",
       "      <td>B</td>\n",
       "      <td>1294</td>\n",
       "    </tr>\n",
       "    <tr>\n",
       "      <th>2</th>\n",
       "      <td>2019-08-03</td>\n",
       "      <td>A</td>\n",
       "      <td>1845</td>\n",
       "    </tr>\n",
       "  </tbody>\n",
       "</table>\n",
       "</div>"
      ],
      "text/plain": [
       "         date group  acumulative_visits\n",
       "0  2019-08-01     A                 719\n",
       "31 2019-08-01     B                 713\n",
       "1  2019-08-02     A                1338\n",
       "32 2019-08-02     B                1294\n",
       "2  2019-08-03     A                1845"
      ]
     },
     "execution_count": 17,
     "metadata": {},
     "output_type": "execute_result"
    }
   ],
   "source": [
    "visitas_acumuladas = fechas_grupos.apply(\n",
    "    lambda fila:\n",
    "    visitantes[np.logical_and(visitantes['date'] <= fila['date'], visitantes['group'] == fila['group'])].agg({\n",
    "        'date':'max',\n",
    "        'group': 'max',\n",
    "        'visits': 'sum'\n",
    "        \n",
    "    }),axis=1\n",
    "    ).sort_values(by=['date','group'])\n",
    "\n",
    "visitas_acumuladas.columns = ['date','group','acumulative_visits']\n",
    "visitas_acumuladas.head()"
   ]
  },
  {
   "cell_type": "code",
   "execution_count": 18,
   "metadata": {},
   "outputs": [
    {
     "data": {
      "text/html": [
       "<div>\n",
       "<style scoped>\n",
       "    .dataframe tbody tr th:only-of-type {\n",
       "        vertical-align: middle;\n",
       "    }\n",
       "\n",
       "    .dataframe tbody tr th {\n",
       "        vertical-align: top;\n",
       "    }\n",
       "\n",
       "    .dataframe thead th {\n",
       "        text-align: right;\n",
       "    }\n",
       "</style>\n",
       "<table border=\"1\" class=\"dataframe\">\n",
       "  <thead>\n",
       "    <tr style=\"text-align: right;\">\n",
       "      <th></th>\n",
       "      <th>date</th>\n",
       "      <th>group</th>\n",
       "      <th>acumulative_visits</th>\n",
       "      <th>n_transaction</th>\n",
       "      <th>n_client</th>\n",
       "      <th>acumulative_revenue</th>\n",
       "    </tr>\n",
       "  </thead>\n",
       "  <tbody>\n",
       "    <tr>\n",
       "      <th>0</th>\n",
       "      <td>2019-08-01</td>\n",
       "      <td>A</td>\n",
       "      <td>719</td>\n",
       "      <td>23</td>\n",
       "      <td>19</td>\n",
       "      <td>2266.6</td>\n",
       "    </tr>\n",
       "    <tr>\n",
       "      <th>1</th>\n",
       "      <td>2019-08-01</td>\n",
       "      <td>B</td>\n",
       "      <td>713</td>\n",
       "      <td>17</td>\n",
       "      <td>17</td>\n",
       "      <td>967.2</td>\n",
       "    </tr>\n",
       "    <tr>\n",
       "      <th>2</th>\n",
       "      <td>2019-08-02</td>\n",
       "      <td>A</td>\n",
       "      <td>1338</td>\n",
       "      <td>42</td>\n",
       "      <td>36</td>\n",
       "      <td>3734.9</td>\n",
       "    </tr>\n",
       "    <tr>\n",
       "      <th>3</th>\n",
       "      <td>2019-08-02</td>\n",
       "      <td>B</td>\n",
       "      <td>1294</td>\n",
       "      <td>40</td>\n",
       "      <td>39</td>\n",
       "      <td>3535.3</td>\n",
       "    </tr>\n",
       "    <tr>\n",
       "      <th>4</th>\n",
       "      <td>2019-08-03</td>\n",
       "      <td>A</td>\n",
       "      <td>1845</td>\n",
       "      <td>66</td>\n",
       "      <td>60</td>\n",
       "      <td>5550.1</td>\n",
       "    </tr>\n",
       "    <tr>\n",
       "      <th>...</th>\n",
       "      <td>...</td>\n",
       "      <td>...</td>\n",
       "      <td>...</td>\n",
       "      <td>...</td>\n",
       "      <td>...</td>\n",
       "      <td>...</td>\n",
       "    </tr>\n",
       "    <tr>\n",
       "      <th>57</th>\n",
       "      <td>2019-08-29</td>\n",
       "      <td>B</td>\n",
       "      <td>17708</td>\n",
       "      <td>510</td>\n",
       "      <td>490</td>\n",
       "      <td>74576.7</td>\n",
       "    </tr>\n",
       "    <tr>\n",
       "      <th>58</th>\n",
       "      <td>2019-08-30</td>\n",
       "      <td>A</td>\n",
       "      <td>18037</td>\n",
       "      <td>460</td>\n",
       "      <td>437</td>\n",
       "      <td>52363.7</td>\n",
       "    </tr>\n",
       "    <tr>\n",
       "      <th>59</th>\n",
       "      <td>2019-08-30</td>\n",
       "      <td>B</td>\n",
       "      <td>18198</td>\n",
       "      <td>531</td>\n",
       "      <td>511</td>\n",
       "      <td>77863.5</td>\n",
       "    </tr>\n",
       "    <tr>\n",
       "      <th>60</th>\n",
       "      <td>2019-08-31</td>\n",
       "      <td>A</td>\n",
       "      <td>18736</td>\n",
       "      <td>468</td>\n",
       "      <td>445</td>\n",
       "      <td>53212.0</td>\n",
       "    </tr>\n",
       "    <tr>\n",
       "      <th>61</th>\n",
       "      <td>2019-08-31</td>\n",
       "      <td>B</td>\n",
       "      <td>18916</td>\n",
       "      <td>548</td>\n",
       "      <td>528</td>\n",
       "      <td>79651.2</td>\n",
       "    </tr>\n",
       "  </tbody>\n",
       "</table>\n",
       "<p>62 rows × 6 columns</p>\n",
       "</div>"
      ],
      "text/plain": [
       "         date group  acumulative_visits  n_transaction  n_client  \\\n",
       "0  2019-08-01     A                 719             23        19   \n",
       "1  2019-08-01     B                 713             17        17   \n",
       "2  2019-08-02     A                1338             42        36   \n",
       "3  2019-08-02     B                1294             40        39   \n",
       "4  2019-08-03     A                1845             66        60   \n",
       "..        ...   ...                 ...            ...       ...   \n",
       "57 2019-08-29     B               17708            510       490   \n",
       "58 2019-08-30     A               18037            460       437   \n",
       "59 2019-08-30     B               18198            531       511   \n",
       "60 2019-08-31     A               18736            468       445   \n",
       "61 2019-08-31     B               18916            548       528   \n",
       "\n",
       "    acumulative_revenue  \n",
       "0                2266.6  \n",
       "1                 967.2  \n",
       "2                3734.9  \n",
       "3                3535.3  \n",
       "4                5550.1  \n",
       "..                  ...  \n",
       "57              74576.7  \n",
       "58              52363.7  \n",
       "59              77863.5  \n",
       "60              53212.0  \n",
       "61              79651.2  \n",
       "\n",
       "[62 rows x 6 columns]"
      ]
     },
     "execution_count": 18,
     "metadata": {},
     "output_type": "execute_result"
    }
   ],
   "source": [
    "datos_acumulados= pd.merge(visitas_acumuladas ,ordene_acumuladas,on=['date','group'] )\n",
    "datos_acumulados"
   ]
  },
  {
   "cell_type": "markdown",
   "metadata": {},
   "source": [
    "### 1. Representa gráficamente el ingreso acumulado por grupo."
   ]
  },
  {
   "cell_type": "code",
   "execution_count": 19,
   "metadata": {},
   "outputs": [
    {
     "name": "stdout",
     "output_type": "stream",
     "text": [
      "         date group  acumulative_revenue\n",
      "0  2019-08-01     A               2266.6\n",
      "2  2019-08-02     A               3734.9\n",
      "4  2019-08-03     A               5550.1\n",
      "6  2019-08-04     A               6225.6\n",
      "8  2019-08-05     A               7623.6\n",
      "10 2019-08-06     A               8292.0\n",
      "12 2019-08-07     A              10234.0\n",
      "14 2019-08-08     A              11638.8\n",
      "16 2019-08-09     A              13734.0\n",
      "18 2019-08-10     A              16121.5\n",
      "20 2019-08-11     A              17084.9\n",
      "22 2019-08-12     A              20533.7\n",
      "24 2019-08-13     A              24630.6\n",
      "26 2019-08-14     A              25347.2\n",
      "28 2019-08-15     A              26622.5\n",
      "30 2019-08-16     A              28221.6\n",
      "32 2019-08-17     A              28770.1\n",
      "34 2019-08-18     A              29735.7\n",
      "36 2019-08-19     A              32389.3\n",
      "38 2019-08-20     A              33325.3\n",
      "40 2019-08-21     A              36004.2\n",
      "42 2019-08-22     A              37455.1\n",
      "44 2019-08-23     A              38409.2\n",
      "46 2019-08-24     A              40321.3\n",
      "48 2019-08-25     A              41139.5\n",
      "50 2019-08-26     A              43604.3\n",
      "52 2019-08-27     A              46539.0\n",
      "54 2019-08-28     A              48065.9\n",
      "56 2019-08-29     A              51134.8\n",
      "58 2019-08-30     A              52363.7\n",
      "60 2019-08-31     A              53212.0\n",
      "         date group  acumulative_revenue\n",
      "1  2019-08-01     B                967.2\n",
      "3  2019-08-02     B               3535.3\n",
      "5  2019-08-03     B               4606.9\n",
      "7  2019-08-04     B               6138.5\n",
      "9  2019-08-05     B               7587.8\n",
      "11 2019-08-06     B              10957.1\n",
      "13 2019-08-07     B              14392.7\n",
      "15 2019-08-08     B              16772.6\n",
      "17 2019-08-09     B              18428.8\n",
      "19 2019-08-10     B              20103.6\n",
      "21 2019-08-11     B              20959.0\n",
      "23 2019-08-12     B              22616.8\n",
      "25 2019-08-13     B              24491.3\n",
      "27 2019-08-14     B              26183.7\n",
      "29 2019-08-15     B              31033.2\n",
      "31 2019-08-16     B              32840.2\n",
      "33 2019-08-17     B              34116.2\n",
      "35 2019-08-18     B              34684.7\n",
      "37 2019-08-19     B              56749.6\n",
      "39 2019-08-20     B              59074.2\n",
      "41 2019-08-21     B              61274.4\n",
      "43 2019-08-22     B              63503.9\n",
      "45 2019-08-23     B              64732.8\n",
      "47 2019-08-24     B              66138.5\n",
      "49 2019-08-25     B              67393.8\n",
      "51 2019-08-26     B              70138.1\n",
      "53 2019-08-27     B              71885.0\n",
      "55 2019-08-28     B              72895.5\n",
      "57 2019-08-29     B              74576.7\n",
      "59 2019-08-30     B              77863.5\n",
      "61 2019-08-31     B              79651.2\n"
     ]
    }
   ],
   "source": [
    "rentabilidad_acumulada_A = datos_acumulados.query('group == \"A\"') [['date','group','acumulative_revenue']]\n",
    "rentabilidad_acumulada_B = datos_acumulados.query('group == \"B\"') [['date','group','acumulative_revenue']]\n",
    "print(rentabilidad_acumulada_A)\n",
    "print(rentabilidad_acumulada_B)\n"
   ]
  },
  {
   "cell_type": "code",
   "execution_count": 20,
   "metadata": {},
   "outputs": [
    {
     "data": {
      "image/png": "[encoded data removed]",
      "text/plain": [
       "<Figure size 640x480 with 1 Axes>"
      ]
     },
     "metadata": {},
     "output_type": "display_data"
    }
   ],
   "source": [
    "plt.plot(rentabilidad_acumulada_A['date'], rentabilidad_acumulada_A['acumulative_revenue'],label='A')\n",
    "plt.plot(rentabilidad_acumulada_B['date'], rentabilidad_acumulada_B['acumulative_revenue'],label='B') \n",
    "plt.xlabel('FECHA')\n",
    "plt.ylabel('GANANCIA ACUMULADA')\n",
    "plt.title('RENTABILIDAD ACUMULADA DE GRUPO A Y B')\n",
    "plt.xticks(rotation=45)\n",
    "\n",
    "\n",
    "plt.legend()\n",
    "\n",
    "plt.show()"
   ]
  },
  {
   "cell_type": "markdown",
   "metadata": {},
   "source": [
    "A simple vista el grupo A es la principal y la prueba que se puso fue la de grupo B y a simple vista se ve que las ventas an aumentado aunque para estar mas seguro seria hacer una prueba test A/B."
   ]
  },
  {
   "cell_type": "markdown",
   "metadata": {},
   "source": [
    "<div class=\"alert alert-block alert-success\">\n",
    "<b>Comentario del revisor #2</b> <a class=\"tocSkip\"></a>\n",
    "\n",
    "Perfecto, buen trabajo desplegando el gráfico de los ingresos acumulados por grupo.   </div>"
   ]
  },
  {
   "cell_type": "markdown",
   "metadata": {},
   "source": [
    "### 2. Representa gráficamente el tamaño de pedido promedio acumulado por grupo."
   ]
  },
  {
   "cell_type": "code",
   "execution_count": 21,
   "metadata": {},
   "outputs": [
    {
     "name": "stdout",
     "output_type": "stream",
     "text": [
      "         date group  n_transaction\n",
      "0  2019-08-01     A             23\n",
      "2  2019-08-02     A             42\n",
      "4  2019-08-03     A             66\n",
      "6  2019-08-04     A             77\n",
      "8  2019-08-05     A             99\n",
      "10 2019-08-06     A            114\n",
      "12 2019-08-07     A            130\n",
      "14 2019-08-08     A            144\n",
      "16 2019-08-09     A            155\n",
      "18 2019-08-10     A            170\n",
      "20 2019-08-11     A            181\n",
      "22 2019-08-12     A            200\n",
      "24 2019-08-13     A            214\n",
      "26 2019-08-14     A            231\n",
      "28 2019-08-15     A            241\n",
      "30 2019-08-16     A            259\n",
      "32 2019-08-17     A            265\n",
      "34 2019-08-18     A            278\n",
      "36 2019-08-19     A            299\n",
      "38 2019-08-20     A            309\n",
      "40 2019-08-21     A            329\n",
      "42 2019-08-22     A            339\n",
      "44 2019-08-23     A            359\n",
      "46 2019-08-24     A            372\n",
      "48 2019-08-25     A            380\n",
      "50 2019-08-26     A            396\n",
      "52 2019-08-27     A            419\n",
      "54 2019-08-28     A            434\n",
      "56 2019-08-29     A            451\n",
      "58 2019-08-30     A            460\n",
      "60 2019-08-31     A            468\n",
      "         date group  n_transaction\n",
      "1  2019-08-01     B             17\n",
      "3  2019-08-02     B             40\n",
      "5  2019-08-03     B             54\n",
      "7  2019-08-04     B             68\n",
      "9  2019-08-05     B             89\n",
      "11 2019-08-06     B            112\n",
      "13 2019-08-07     B            135\n",
      "15 2019-08-08     B            157\n",
      "17 2019-08-09     B            176\n",
      "19 2019-08-10     B            198\n",
      "21 2019-08-11     B            210\n",
      "23 2019-08-12     B            229\n",
      "25 2019-08-13     B            249\n",
      "27 2019-08-14     B            263\n",
      "29 2019-08-15     B            289\n",
      "31 2019-08-16     B            307\n",
      "33 2019-08-17     B            320\n",
      "35 2019-08-18     B            327\n",
      "37 2019-08-19     B            348\n",
      "39 2019-08-20     B            368\n",
      "41 2019-08-21     B            380\n",
      "43 2019-08-22     B            401\n",
      "45 2019-08-23     B            414\n",
      "47 2019-08-24     B            428\n",
      "49 2019-08-25     B            440\n",
      "51 2019-08-26     B            462\n",
      "53 2019-08-27     B            473\n",
      "55 2019-08-28     B            495\n",
      "57 2019-08-29     B            510\n",
      "59 2019-08-30     B            531\n",
      "61 2019-08-31     B            548\n"
     ]
    }
   ],
   "source": [
    "# Calcular el acumulado de transacciones para cada grupo\n",
    "promedio_transaction_A = datos_acumulados.query('group == \"A\"')[['date','group','n_transaction']]\n",
    "promedio_transaction_B = datos_acumulados.query('group == \"B\"')[['date','group','n_transaction']]\n",
    "\n",
    "print(promedio_transaction_A)\n",
    "print(promedio_transaction_B)\n"
   ]
  },
  {
   "cell_type": "code",
   "execution_count": 22,
   "metadata": {},
   "outputs": [
    {
     "data": {
      "image/png": "[encoded data removed]",
      "text/plain": [
       "<Figure size 640x480 with 1 Axes>"
      ]
     },
     "metadata": {},
     "output_type": "display_data"
    }
   ],
   "source": [
    "plt.plot(promedio_transaction_A['date'], promedio_transaction_A['n_transaction'],label='A')\n",
    "plt.plot(promedio_transaction_B['date'], promedio_transaction_B['n_transaction'],label='B') \n",
    "plt.xlabel('FECHA')\n",
    "plt.ylabel('GANANCIA ACUMULADA')\n",
    "plt.title('TRANSACCIONES ACUMULADAS POR GRUPO A Y B')\n",
    "plt.xticks(rotation=45)\n",
    "\n",
    "\n",
    "plt.legend()\n",
    "\n",
    "plt.show()"
   ]
  },
  {
   "cell_type": "markdown",
   "metadata": {},
   "source": [
    "A simple vista graficamente se ve que el grupo B tiene mejores ganancias con el tiempo."
   ]
  },
  {
   "cell_type": "markdown",
   "metadata": {},
   "source": [
    "<div class=\"alert alert-block alert-success\">\n",
    "<b>Comentario del revisor #2</b> <a class=\"tocSkip\"></a>\n",
    "\n",
    "Perfecto, buen trabajo desplegando el gráfico de las transacciones acumuladas.   </div>"
   ]
  },
  {
   "cell_type": "markdown",
   "metadata": {},
   "source": [
    "### 3.Representa gráficamente la diferencia relativa en el tamaño de pedido promedio acumulado para el grupo B en comparación con el grupo A."
   ]
  },
  {
   "cell_type": "code",
   "execution_count": 23,
   "metadata": {},
   "outputs": [
    {
     "data": {
      "image/png": "[encoded data removed]",
      "text/plain": [
       "<Figure size 640x480 with 1 Axes>"
      ]
     },
     "metadata": {},
     "output_type": "display_data"
    }
   ],
   "source": [
    "# Calcular el tamaño de pedido promedio acumulado para cada grupo\n",
    "datos_acumulados['average_order_size'] = datos_acumulados['acumulative_revenue'] / datos_acumulados['n_transaction']\n",
    "\n",
    "# Separar datos por grupo\n",
    "grupo_A = datos_acumulados[datos_acumulados['group'] == 'A']\n",
    "grupo_B = datos_acumulados[datos_acumulados['group'] == 'B']\n",
    "\n",
    "# Calcular la diferencia relativa\n",
    "diferencia_relativa = pd.merge(\n",
    "    grupo_A[['date', 'average_order_size']],\n",
    "    grupo_B[['date', 'average_order_size']],\n",
    "    on='date',\n",
    "    suffixes=('_A', '_B')\n",
    ")\n",
    "\n",
    "diferencia_relativa['relative_difference'] = (\n",
    "    (diferencia_relativa['average_order_size_B'] - diferencia_relativa['average_order_size_A'])\n",
    "    / diferencia_relativa['average_order_size_A']\n",
    ")\n",
    "\n",
    "# Graficar la diferencia relativa\n",
    "plt.plot(diferencia_relativa['date'], diferencia_relativa['relative_difference'], label='Diferencia Relativa (B vs A)')\n",
    "\n",
    "# Configuración del gráfico\n",
    "plt.title(\"Diferencia Relativa en el Tamaño de Pedido Promedio (B vs A)\")\n",
    "plt.xlabel(\"Fecha\")\n",
    "plt.ylabel(\"Diferencia Relativa\")\n",
    "plt.axhline(0, color='gray', linestyle='--', linewidth=0.8)  # Línea de referencia en 0\n",
    "plt.xticks(rotation=45)\n",
    "plt.legend()\n",
    "plt.grid()\n",
    "\n",
    "# Mostrar el gráfico\n",
    "plt.show()\n"
   ]
  },
  {
   "cell_type": "markdown",
   "metadata": {},
   "source": [
    "En general, el grupo B tiene un mejor desempeño en términos de tamaño de pedido promedio acumulado, lo que indica una estrategia más efectiva para aumentar el valor por pedido.\n",
    "Los picos negativos señalan áreas donde el grupo A tiene un mejor desempeño momentáneo. Esto podría ser una oportunidad para investigar y aprender qué factores contribuyeron al éxito del grupo A en esos momentos específicos.\n",
    "Se debería analizar más a fondo la causa de las fluctuaciones (positivas y negativas) para ajustar las estrategias y optimizar el rendimiento del grupo B.\n"
   ]
  },
  {
   "cell_type": "markdown",
   "metadata": {},
   "source": [
    "<div class=\"alert alert-block alert-success\">\n",
    "<b>Comentario del revisor #2</b> <a class=\"tocSkip\"></a>\n",
    "\n",
    "Excelente, buen trabajo con el despliegue del gráfico de la diferencia relativa en los tamaños de pedido promedio por grupo.   </div>"
   ]
  },
  {
   "cell_type": "markdown",
   "metadata": {},
   "source": [
    "### 4. Calcula la tasa de conversión de cada grupo como la relación entre los pedidos y el número de visitas de cada día. Representa gráficamente las tasas de conversión diarias de los dos grupos y describe la diferencia. "
   ]
  },
  {
   "cell_type": "code",
   "execution_count": 24,
   "metadata": {},
   "outputs": [
    {
     "data": {
      "image/png": "[encoded data removed]",
      "text/plain": [
       "<Figure size 1000x600 with 1 Axes>"
      ]
     },
     "metadata": {},
     "output_type": "display_data"
    }
   ],
   "source": [
    "# Cálculo de la tasa de conversión diaria\n",
    "datos_acumulados['conversion_rate'] = datos_acumulados['n_transaction'] / datos_acumulados['acumulative_visits']\n",
    "\n",
    "# Separar los datos por grupo\n",
    "conversion_grupo_A = datos_acumulados[datos_acumulados['group'] == 'A']\n",
    "conversion_grupo_B = datos_acumulados[datos_acumulados['group'] == 'B']\n",
    "\n",
    "# Representación gráfica de las tasas de conversión diarias\n",
    "plt.figure(figsize=(10, 6))\n",
    "plt.plot(conversion_grupo_A['date'], conversion_grupo_A['conversion_rate'], label='Grupo A', marker='o')\n",
    "plt.plot(conversion_grupo_B['date'], conversion_grupo_B['conversion_rate'], label='Grupo B', marker='o')\n",
    "\n",
    "# Personalización del gráfico\n",
    "plt.title('Tasa de Conversión Diaria por Grupo', fontsize=14)\n",
    "plt.xlabel('Fecha', fontsize=12)\n",
    "plt.ylabel('Tasa de Conversión', fontsize=12)\n",
    "plt.legend(title='Grupo')\n",
    "plt.grid(True)\n",
    "plt.xticks(rotation=45)\n",
    "plt.tight_layout()\n",
    "\n",
    "plt.show()\n"
   ]
  },
  {
   "cell_type": "markdown",
   "metadata": {},
   "source": [
    "Grupo B tiene una tasa de conversión consistentemente mayor:\n",
    "\n",
    "A lo largo del tiempo, la tasa de conversión del Grupo B es más alta que la del Grupo A en la mayoría de los días.\n",
    "Esto indica que las estrategias o características del Grupo B están siendo más efectivas para convertir visitas en transacciones.\n",
    "Fluctuaciones iniciales:\n",
    "\n",
    "\n",
    "En los primeros días, ambos grupos muestran fluctuaciones significativas, posiblemente debido a una menor cantidad de datos o ajustes en las estrategias iniciales.\n",
    "Después de los primeros días, el Grupo B se estabiliza con una tasa superior, mientras que el Grupo A presenta una ligera disminución constante.\n",
    "Estabilidad en el Grupo B:\n",
    "\n",
    "\n",
    "La tasa de conversión del Grupo B es más estable después del 5 de agosto, lo que podría sugerir que las acciones implementadas en este grupo son consistentes.\n",
    "Tendencia decreciente en el Grupo A:\n",
    "\n",
    "El Grupo A muestra una tendencia decreciente a lo largo del período, lo que podría reflejar un desgaste en la efectividad de las estrategias aplicadas o problemas en la captación de clientes."
   ]
  },
  {
   "cell_type": "markdown",
   "metadata": {},
   "source": [
    "<div class=\"alert alert-block alert-success\">\n",
    "<b>Comentario del revisor #2</b> <a class=\"tocSkip\"></a>\n",
    "\n",
    "Excelente, buen trabajo con el despliegue y estudio del gráfico de la tasa de conversión diaria por grupo.   </div>"
   ]
  },
  {
   "cell_type": "markdown",
   "metadata": {},
   "source": [
    "### 5. Traza un gráfico de dispersión del número de pedidos por usuario."
   ]
  },
  {
   "cell_type": "code",
   "execution_count": 25,
   "metadata": {},
   "outputs": [
    {
     "data": {
      "text/html": [
       "<div>\n",
       "<style scoped>\n",
       "    .dataframe tbody tr th:only-of-type {\n",
       "        vertical-align: middle;\n",
       "    }\n",
       "\n",
       "    .dataframe tbody tr th {\n",
       "        vertical-align: top;\n",
       "    }\n",
       "\n",
       "    .dataframe thead th {\n",
       "        text-align: right;\n",
       "    }\n",
       "</style>\n",
       "<table border=\"1\" class=\"dataframe\">\n",
       "  <thead>\n",
       "    <tr style=\"text-align: right;\">\n",
       "      <th></th>\n",
       "      <th>transactionId</th>\n",
       "      <th>visitorId</th>\n",
       "      <th>date</th>\n",
       "      <th>revenue</th>\n",
       "      <th>group</th>\n",
       "    </tr>\n",
       "  </thead>\n",
       "  <tbody>\n",
       "    <tr>\n",
       "      <th>0</th>\n",
       "      <td>3667963787</td>\n",
       "      <td>3312258926</td>\n",
       "      <td>2019-08-15</td>\n",
       "      <td>30.4</td>\n",
       "      <td>B</td>\n",
       "    </tr>\n",
       "    <tr>\n",
       "      <th>1</th>\n",
       "      <td>2804400009</td>\n",
       "      <td>3642806036</td>\n",
       "      <td>2019-08-15</td>\n",
       "      <td>15.2</td>\n",
       "      <td>B</td>\n",
       "    </tr>\n",
       "    <tr>\n",
       "      <th>3</th>\n",
       "      <td>3797467345</td>\n",
       "      <td>1196621759</td>\n",
       "      <td>2019-08-15</td>\n",
       "      <td>155.1</td>\n",
       "      <td>B</td>\n",
       "    </tr>\n",
       "    <tr>\n",
       "      <th>4</th>\n",
       "      <td>2282983706</td>\n",
       "      <td>2322279887</td>\n",
       "      <td>2019-08-15</td>\n",
       "      <td>40.5</td>\n",
       "      <td>B</td>\n",
       "    </tr>\n",
       "    <tr>\n",
       "      <th>5</th>\n",
       "      <td>182168103</td>\n",
       "      <td>935554773</td>\n",
       "      <td>2019-08-15</td>\n",
       "      <td>35.0</td>\n",
       "      <td>B</td>\n",
       "    </tr>\n",
       "    <tr>\n",
       "      <th>...</th>\n",
       "      <td>...</td>\n",
       "      <td>...</td>\n",
       "      <td>...</td>\n",
       "      <td>...</td>\n",
       "      <td>...</td>\n",
       "    </tr>\n",
       "    <tr>\n",
       "      <th>1191</th>\n",
       "      <td>3592955527</td>\n",
       "      <td>608641596</td>\n",
       "      <td>2019-08-14</td>\n",
       "      <td>255.7</td>\n",
       "      <td>B</td>\n",
       "    </tr>\n",
       "    <tr>\n",
       "      <th>1192</th>\n",
       "      <td>2662137336</td>\n",
       "      <td>3733762160</td>\n",
       "      <td>2019-08-14</td>\n",
       "      <td>100.8</td>\n",
       "      <td>B</td>\n",
       "    </tr>\n",
       "    <tr>\n",
       "      <th>1193</th>\n",
       "      <td>2203539145</td>\n",
       "      <td>370388673</td>\n",
       "      <td>2019-08-14</td>\n",
       "      <td>50.1</td>\n",
       "      <td>A</td>\n",
       "    </tr>\n",
       "    <tr>\n",
       "      <th>1194</th>\n",
       "      <td>1807773912</td>\n",
       "      <td>573423106</td>\n",
       "      <td>2019-08-14</td>\n",
       "      <td>165.3</td>\n",
       "      <td>A</td>\n",
       "    </tr>\n",
       "    <tr>\n",
       "      <th>1196</th>\n",
       "      <td>3936777065</td>\n",
       "      <td>2108080724</td>\n",
       "      <td>2019-08-15</td>\n",
       "      <td>3120.1</td>\n",
       "      <td>B</td>\n",
       "    </tr>\n",
       "  </tbody>\n",
       "</table>\n",
       "<p>1016 rows × 5 columns</p>\n",
       "</div>"
      ],
      "text/plain": [
       "      transactionId   visitorId       date  revenue group\n",
       "0        3667963787  3312258926 2019-08-15     30.4     B\n",
       "1        2804400009  3642806036 2019-08-15     15.2     B\n",
       "3        3797467345  1196621759 2019-08-15    155.1     B\n",
       "4        2282983706  2322279887 2019-08-15     40.5     B\n",
       "5         182168103   935554773 2019-08-15     35.0     B\n",
       "...             ...         ...        ...      ...   ...\n",
       "1191     3592955527   608641596 2019-08-14    255.7     B\n",
       "1192     2662137336  3733762160 2019-08-14    100.8     B\n",
       "1193     2203539145   370388673 2019-08-14     50.1     A\n",
       "1194     1807773912   573423106 2019-08-14    165.3     A\n",
       "1196     3936777065  2108080724 2019-08-15   3120.1     B\n",
       "\n",
       "[1016 rows x 5 columns]"
      ]
     },
     "execution_count": 25,
     "metadata": {},
     "output_type": "execute_result"
    }
   ],
   "source": [
    "ordenes"
   ]
  },
  {
   "cell_type": "code",
   "execution_count": 26,
   "metadata": {},
   "outputs": [
    {
     "data": {
      "text/html": [
       "<div>\n",
       "<style scoped>\n",
       "    .dataframe tbody tr th:only-of-type {\n",
       "        vertical-align: middle;\n",
       "    }\n",
       "\n",
       "    .dataframe tbody tr th {\n",
       "        vertical-align: top;\n",
       "    }\n",
       "\n",
       "    .dataframe thead th {\n",
       "        text-align: right;\n",
       "    }\n",
       "</style>\n",
       "<table border=\"1\" class=\"dataframe\">\n",
       "  <thead>\n",
       "    <tr style=\"text-align: right;\">\n",
       "      <th></th>\n",
       "      <th>visitorId</th>\n",
       "      <th>orders</th>\n",
       "    </tr>\n",
       "  </thead>\n",
       "  <tbody>\n",
       "    <tr>\n",
       "      <th>908</th>\n",
       "      <td>3967698036</td>\n",
       "      <td>3</td>\n",
       "    </tr>\n",
       "    <tr>\n",
       "      <th>55</th>\n",
       "      <td>249864742</td>\n",
       "      <td>3</td>\n",
       "    </tr>\n",
       "    <tr>\n",
       "      <th>478</th>\n",
       "      <td>2108163459</td>\n",
       "      <td>3</td>\n",
       "    </tr>\n",
       "    <tr>\n",
       "      <th>687</th>\n",
       "      <td>2988190573</td>\n",
       "      <td>3</td>\n",
       "    </tr>\n",
       "    <tr>\n",
       "      <th>890</th>\n",
       "      <td>3908431265</td>\n",
       "      <td>3</td>\n",
       "    </tr>\n",
       "    <tr>\n",
       "      <th>138</th>\n",
       "      <td>611059232</td>\n",
       "      <td>3</td>\n",
       "    </tr>\n",
       "    <tr>\n",
       "      <th>632</th>\n",
       "      <td>2742574263</td>\n",
       "      <td>3</td>\n",
       "    </tr>\n",
       "    <tr>\n",
       "      <th>157</th>\n",
       "      <td>678354126</td>\n",
       "      <td>2</td>\n",
       "    </tr>\n",
       "    <tr>\n",
       "      <th>323</th>\n",
       "      <td>1404560065</td>\n",
       "      <td>2</td>\n",
       "    </tr>\n",
       "    <tr>\n",
       "      <th>452</th>\n",
       "      <td>1985475298</td>\n",
       "      <td>2</td>\n",
       "    </tr>\n",
       "  </tbody>\n",
       "</table>\n",
       "</div>"
      ],
      "text/plain": [
       "      visitorId  orders\n",
       "908  3967698036       3\n",
       "55    249864742       3\n",
       "478  2108163459       3\n",
       "687  2988190573       3\n",
       "890  3908431265       3\n",
       "138   611059232       3\n",
       "632  2742574263       3\n",
       "157   678354126       2\n",
       "323  1404560065       2\n",
       "452  1985475298       2"
      ]
     },
     "execution_count": 26,
     "metadata": {},
     "output_type": "execute_result"
    }
   ],
   "source": [
    "#Calcular la cantidad de pedidos por usuario\n",
    "ordersByUsers = ordenes.groupby('visitorId', as_index=False).agg({'transactionId': pd.Series.nunique})\n",
    "ordersByUsers.columns = ['visitorId', 'orders']\n",
    "\n",
    "ordersByUsers.sort_values(by='orders', ascending=False).head(10)"
   ]
  },
  {
   "cell_type": "code",
   "execution_count": 27,
   "metadata": {},
   "outputs": [
    {
     "data": {
      "image/png": "[encoded data removed]",
      "text/plain": [
       "<Figure size 1000x600 with 1 Axes>"
      ]
     },
     "metadata": {},
     "output_type": "display_data"
    }
   ],
   "source": [
    "# Generar la gráfica de dispersión\n",
    "plt.figure(figsize=(10, 6))\n",
    "plt.scatter(ordersByUsers.index, ordersByUsers['orders'], alpha=0.6)\n",
    "plt.xlabel('Índice de Usuarios')\n",
    "plt.ylabel('Número de Pedidos')\n",
    "plt.title('Frecuencia de Pedidos por Usuario')\n",
    "plt.grid(True, linestyle='--', alpha=0.5)\n",
    "plt.show()"
   ]
  },
  {
   "cell_type": "markdown",
   "metadata": {},
   "source": [
    "La gran mayoría de los usuarios (representados en el eje X) han realizado solo un pedido, como se puede observar por la gran acumulación de puntos en el nivel 1 del eje Y.\n",
    "Algunos usuarios han realizado 2 pedidos, y una cantidad muy reducida ha llegado a realizar 3 pedidos."
   ]
  },
  {
   "cell_type": "markdown",
   "metadata": {},
   "source": [
    "<div class=\"alert alert-block alert-danger\">\n",
    "<b>Comentario del revisor #2</b> <a class=\"tocSkip\"></a>\n",
    "\n",
    "~~Recuerda que el ideal para este gráfico es desarrollar un scatter donde muestres el número de transacciones por cliente en el eje y asociado con un eje x que simplemente haga referencia a un índice. De este modo, podemos observar con qué frecuencia los clientes hacen determinado número de pedidos.~~   </div>"
   ]
  },
  {
   "cell_type": "markdown",
   "metadata": {},
   "source": [
    "<div class=\"alert alert-block alert-info\">\n",
    "<b>Listo corregido y puse una descripcion de lo que interpreto en la grafica de dispersion</b> <a class=\"tocSkip\"></a>\n",
    "</div>"
   ]
  },
  {
   "cell_type": "markdown",
   "metadata": {},
   "source": [
    "<div class=\"alert alert-block alert-success\">\n",
    "<b>Comentario del revisor #3</b> <a class=\"tocSkip\"></a>\n",
    "\n",
    "Perfecto, buen trabajo.    </div>"
   ]
  },
  {
   "cell_type": "markdown",
   "metadata": {},
   "source": [
    "### 6. Calcula los percentiles 95 y 99 del número de pedidos por usuario. Define el punto en el cual un punto de datos se convierte en una anomalía."
   ]
  },
  {
   "cell_type": "code",
   "execution_count": 28,
   "metadata": {},
   "outputs": [
    {
     "name": "stdout",
     "output_type": "stream",
     "text": [
      "      visitorId  orders\n",
      "908  3967698036       3\n",
      "55    249864742       3\n",
      "478  2108163459       3\n",
      "687  2988190573       3\n",
      "890  3908431265       3\n",
      "138   611059232       3\n",
      "632  2742574263       3\n",
      "157   678354126       2\n",
      "323  1404560065       2\n",
      "452  1985475298       2\n",
      "\n",
      "Percentil 95: 1.00\n",
      "Percentil 99: 2.00\n",
      "Usuarios con más de 1.0 pedidos serán considerados anomalías (95%).\n",
      "Usuarios con más de 2.0 pedidos serán considerados anomalías extremas (99%).\n",
      "Número de usuarios anómalos (95%): 36\n"
     ]
    }
   ],
   "source": [
    "#Calcular la cantidad de pedidos por usuario\n",
    "ordersByUsers = ordenes.groupby('visitorId', as_index=False).agg({'transactionId': 'count'})\n",
    "ordersByUsers.columns = ['visitorId', 'orders']\n",
    "\n",
    "#Calcular los percentiles\n",
    "percentiles = np.percentile(ordersByUsers['orders'], [95, 99])\n",
    "\n",
    "print(ordersByUsers.sort_values(by='orders', ascending=False).head(10))\n",
    "print()\n",
    "\n",
    "#Mostrar los resultados\n",
    "print(f\"Percentil 95: {percentiles[0]:.2f}\")\n",
    "print(f\"Percentil 99: {percentiles[1]:.2f}\")\n",
    "\n",
    "#Definir puntos de corte para anomalías\n",
    "anomaly_threshold_95 = percentiles[0]\n",
    "anomaly_threshold_99 = percentiles[1]\n",
    "\n",
    "print(f\"Usuarios con más de {anomaly_threshold_95} pedidos serán considerados anomalías (95%).\")\n",
    "print(f\"Usuarios con más de {anomaly_threshold_99} pedidos serán considerados anomalías extremas (99%).\")\n",
    "\n",
    "#Filtrar usuarios anómalos\n",
    "anomalous_users = ordersByUsers[ordersByUsers['orders'] > anomaly_threshold_95]\n",
    "print(f\"Número de usuarios anómalos (95%): {len(anomalous_users)}\")"
   ]
  },
  {
   "cell_type": "markdown",
   "metadata": {},
   "source": [
    "Percentil 95 (2):\n",
    "La mayoría de los usuarios (95%) realizan 1 pedidos o menos, lo que indica que los clientes generalmente no realizan pedidos recurrentes en gran cantidad.\n",
    "\n",
    "Percentil 99 (4):\n",
    "Los usuarios con más de 2 pedidos son considerados casos extremadamente raros. Estos clientes podrían ser:\n",
    "Clientes VIP o de alto valor.\n",
    "Indicadores de patrones de comportamiento que podrían ser estudiados para replicar en otros usuarios\n",
    "\n",
    "Umbral para anomalías (30):\n",
    "Los 30 usuarios que tienen más de 1 pedidos representan comportamientos inusuales en comparación con la mayoría de los clientes. Estos usuarios podrían ser:\n",
    "Clientes altamente comprometidos.\n",
    "Usuarios con necesidades específicas o recurrentes.\n",
    "Oportunidades para fidelización, ya que parecen valorar el producto/servicio."
   ]
  },
  {
   "cell_type": "markdown",
   "metadata": {},
   "source": [
    "<div class=\"alert alert-block alert-success\">\n",
    "<b>Comentario del revisor #2</b> <a class=\"tocSkip\"></a>\n",
    "\n",
    "Perfecto, buen trabajo estudiando los percentiles. "
   ]
  },
  {
   "cell_type": "markdown",
   "metadata": {},
   "source": [
    "### 7. Traza un gráfico de dispersión de los precios de los pedidos."
   ]
  },
  {
   "cell_type": "code",
   "execution_count": 29,
   "metadata": {},
   "outputs": [
    {
     "name": "stdout",
     "output_type": "stream",
     "text": [
      "      transactionId   visitorId       date  revenue group\n",
      "425       590470918  1920142716 2019-08-19  19920.4     B\n",
      "1196     3936777065  2108080724 2019-08-15   3120.1     B\n",
      "1136      666610489  1307669133 2019-08-13   1425.8     A\n",
      "744      3668308183   888512513 2019-08-27   1335.6     B\n",
      "743      3603576309  4133034833 2019-08-09   1050.0     A\n",
      "1103     1348774318  1164614297 2019-08-12   1025.8     A\n",
      "1099      316924019   148427295 2019-08-12   1015.9     A\n",
      "949      1347999392   887908475 2019-08-21    930.0     A\n",
      "940      2420050534  4003628586 2019-08-08    905.8     B\n",
      "613      4071177889  3931967268 2019-08-07    830.3     B\n"
     ]
    }
   ],
   "source": [
    "\n",
    "print(ordenes.sort_values(by='revenue',ascending=False).head(10))\n"
   ]
  },
  {
   "cell_type": "code",
   "execution_count": 30,
   "metadata": {},
   "outputs": [
    {
     "data": {
      "image/png": "[encoded data removed]",
      "text/plain": [
       "<Figure size 1200x600 with 1 Axes>"
      ]
     },
     "metadata": {},
     "output_type": "display_data"
    }
   ],
   "source": [
    "# Configurar el estilo del gráfico\n",
    "sns.set_theme(style=\"whitegrid\")\n",
    "\n",
    "# Crear el gráfico de dispersión\n",
    "plt.figure(figsize=(12, 6))\n",
    "sns.scatterplot(\n",
    "    data=ordenes,\n",
    "    x='date',\n",
    "    y='revenue',\n",
    "    hue='group',\n",
    "    palette={'A': 'blue', 'B': 'orange'},\n",
    "    alpha=0.7\n",
    ")\n",
    "\n",
    "# Configurar etiquetas y título\n",
    "plt.title(\"Gráfico de Dispersión de los Precios de los Pedidos\", fontsize=14)\n",
    "plt.xlabel(\"Fecha\", fontsize=12)\n",
    "plt.ylabel(\"Revenue (Ingresos)\", fontsize=12)\n",
    "plt.xticks(rotation=45)\n",
    "plt.legend(title=\"Grupo\", loc='upper right')\n",
    "\n",
    "# Mostrar el gráfico\n",
    "plt.show()\n"
   ]
  },
  {
   "cell_type": "markdown",
   "metadata": {},
   "source": [
    "\n",
    "aqui se muestra una grafica de dispersion de los ingresos de los dias con mayor ingreso y de cada grupo "
   ]
  },
  {
   "cell_type": "markdown",
   "metadata": {},
   "source": [
    "<div class=\"alert alert-block alert-success\">\n",
    "<b>Comentario del revisor #2</b> <a class=\"tocSkip\"></a>\n",
    "\n",
    "Excelente, buen trabajo desplegando el gráfico para estudiar la distribución del precio de los pedidos. "
   ]
  },
  {
   "cell_type": "markdown",
   "metadata": {},
   "source": [
    "### 8. Calcula los percentiles 95 y 99 de los precios de los pedidos. Define el punto en el cual un punto de datos se convierte en una anomalía."
   ]
  },
  {
   "cell_type": "code",
   "execution_count": 31,
   "metadata": {},
   "outputs": [
    {
     "name": "stdout",
     "output_type": "stream",
     "text": [
      "      transactionId   visitorId       date  revenue group\n",
      "425       590470918  1920142716 2019-08-19  19920.4     B\n",
      "1196     3936777065  2108080724 2019-08-15   3120.1     B\n",
      "1136      666610489  1307669133 2019-08-13   1425.8     A\n",
      "744      3668308183   888512513 2019-08-27   1335.6     B\n",
      "743      3603576309  4133034833 2019-08-09   1050.0     A\n",
      "1103     1348774318  1164614297 2019-08-12   1025.8     A\n",
      "1099      316924019   148427295 2019-08-12   1015.9     A\n",
      "949      1347999392   887908475 2019-08-21    930.0     A\n",
      "940      2420050534  4003628586 2019-08-08    905.8     B\n",
      "613      4071177889  3931967268 2019-08-07    830.3     B\n",
      "\n",
      "Percentil 95: 414.27\n",
      "Percentil 99: 830.30\n",
      "Pedidos con un precio superior a 414.275 serán considerados anomalías (95%).\n",
      "Pedidos con un precio superior a 830.3 serán considerados anomalías extremas (99%).\n",
      "Número de pedidos anómalos (95%): 51\n"
     ]
    }
   ],
   "source": [
    "# Calcular los percentiles para los precios de los pedidos\n",
    "percentiles = np.percentile(ordenes['revenue'], [95, 99])\n",
    "\n",
    "print(ordenes.sort_values(by='revenue', ascending=False).head(10))\n",
    "print()\n",
    "\n",
    "# Mostrar los resultados\n",
    "print(f\"Percentil 95: {percentiles[0]:.2f}\")\n",
    "print(f\"Percentil 99: {percentiles[1]:.2f}\")\n",
    "\n",
    "# Definir puntos de corte para anomalías\n",
    "anomaly_threshold_95 = percentiles[0]\n",
    "anomaly_threshold_99 = percentiles[1]\n",
    "\n",
    "print(f\"Pedidos con un precio superior a {anomaly_threshold_95} serán considerados anomalías (95%).\")\n",
    "print(f\"Pedidos con un precio superior a {anomaly_threshold_99} serán considerados anomalías extremas (99%).\")\n",
    "\n",
    "# Filtrar pedidos anómalos\n",
    "anomalous_orders = ordenes[ordenes['revenue'] > anomaly_threshold_95]\n",
    "print(f\"Número de pedidos anómalos (95%): {len(anomalous_orders)}\")\n"
   ]
  },
  {
   "cell_type": "markdown",
   "metadata": {},
   "source": [
    "El percentil 95 indica que el 95% de los pedidos tienen un precio igual o inferior a 414.27. Esto significa que los pedidos con un precio mayor a este valor son considerados anómalos.\n",
    "\n",
    "El percentil 99 indica que el 99% de los pedidos tienen un precio igual o inferior a 830.30 . Los pedidos con un precio superior a este valor son considerados anomalías extremas.\n",
    "\n",
    "Se identificaron 60 pedidos con un precio superior al percentil 95, lo que representa un pequeño porcentaje de las transacciones totales. Estos pedidos tienen precios significativamente más altos que el resto y podrían deberse a:\n",
    "Clientes comprando grandes cantidades o productos premium.\n",
    "Promociones o descuentos que impulsaron compras de mayor valor.\n",
    "Posibles errores en el registro de precios o pedidos."
   ]
  },
  {
   "cell_type": "markdown",
   "metadata": {},
   "source": [
    "<div class=\"alert alert-block alert-success\">\n",
    "<b>Comentario del revisor #2</b> <a class=\"tocSkip\"></a>\n",
    "\n",
    "Perfecto, buen trabajo con el estudio de la distribución. "
   ]
  },
  {
   "cell_type": "markdown",
   "metadata": {},
   "source": [
    "### 9. Encuentra la significancia estadística de la diferencia en la conversión entre los grupos utilizando los datos en bruto."
   ]
  },
  {
   "cell_type": "code",
   "execution_count": 32,
   "metadata": {},
   "outputs": [
    {
     "name": "stdout",
     "output_type": "stream",
     "text": [
      "Prueba estadística de Mann-Whitney: 0.01102\n",
      "Diferencia relativa en las tasas de conversión: 0.160\n"
     ]
    }
   ],
   "source": [
    "ordersByUsersA = (\n",
    "    ordenes[ordenes['group'] == 'A']\n",
    "    .groupby('visitorId', as_index=False)\n",
    "    .agg({'transactionId': pd.Series.nunique})\n",
    ")\n",
    "ordersByUsersA.columns = ['visitorId', 'orders']\n",
    "\n",
    "ordersByUsersB = (\n",
    "    ordenes[ordenes['group'] == 'B']\n",
    "    .groupby('visitorId', as_index=False)\n",
    "    .agg({'transactionId': pd.Series.nunique})\n",
    ")\n",
    "ordersByUsersB.columns = ['visitorId', 'orders']\n",
    "\n",
    "sampleA = pd.concat(\n",
    "    [\n",
    "        ordersByUsersA['orders'],\n",
    "        pd.Series(\n",
    "            0,\n",
    "            index=np.arange(\n",
    "                visitantes[visitantes['group'] == 'A']['visits'].sum()\n",
    "                - len(ordersByUsersA['orders'])\n",
    "            ),\n",
    "            name='orders',\n",
    "        ),\n",
    "    ],\n",
    "    axis=0,\n",
    ")\n",
    "sampleB = pd.concat(\n",
    "    [\n",
    "        ordersByUsersB['orders'],\n",
    "        pd.Series(\n",
    "            0,\n",
    "            index=np.arange(\n",
    "                visitantes[visitantes['group'] == 'B']['visits'].sum()\n",
    "                - len(ordersByUsersB['orders'])\n",
    "            ),\n",
    "            name='orders',\n",
    "        ),\n",
    "    ],\n",
    "    axis=0,\n",
    ")\n",
    "\n",
    "p_value = (stats.mannwhitneyu(sampleA, sampleB)[1])\n",
    "relative_difference = sampleB.mean() / sampleA.mean() - 1\n",
    "\n",
    "print(f\"Prueba estadística de Mann-Whitney: {p_value:.5f}\")\n",
    "print(f\"Diferencia relativa en las tasas de conversión: {relative_difference:.3f}\")"
   ]
  },
  {
   "cell_type": "markdown",
   "metadata": {},
   "source": [
    "Resultados:\n",
    "\n",
    "\n",
    "Prueba estadística de Mann-Whitney: 0.01102\n",
    "Este valor corresponde al p-valor de la prueba estadística de Mann-Whitney, que evalúa si hay una diferencia significativa entre las distribuciones de los grupos A y B en términos de conversión.\n",
    "\n",
    "\n",
    "Como el p-valor es 0.0160, que es menor a 0.05, se concluye que la diferencia entre las tasas de conversión de los grupos A y B es estadísticamente significativa. Esto implica que las diferencias observadas no son producto del azar.\n",
    "Diferencia relativa en las tasas de conversión: 0.138\n",
    "Este valor indica que la tasa de conversión del grupo B es 13.8% mayor que la del grupo A. Es una mejora considerable, y refleja que las estrategias aplicadas en el grupo B parecen tener un impacto positivo.\n",
    "\n",
    "Conclusión:\n",
    "El grupo B está superando al grupo A en términos de conversión, y esta diferencia es significativa. Esto sugiere que cualquier cambio o estrategia aplicada al grupo B podría estar funcionando mejor que lo que se aplicó al grupo A. Se recomienda investigar más a fondo qué factores específicos influyen en esta mejora para poder optimizar la conversión en general."
   ]
  },
  {
   "cell_type": "markdown",
   "metadata": {},
   "source": [
    "### 10.Encuentra la significancia estadística de la diferencia en el tamaño promedio de pedido entre los grupos utilizando los datos en bruto."
   ]
  },
  {
   "cell_type": "code",
   "execution_count": 33,
   "metadata": {},
   "outputs": [
    {
     "name": "stdout",
     "output_type": "stream",
     "text": [
      "Valor p para comparar los tamaños de pedido promedio de los grupos: 0.862\n",
      "Ganancia Relativa: 0.278\n"
     ]
    }
   ],
   "source": [
    "promedio_grupos = stats.mannwhitneyu(ordenes[ordenes['group'] == 'A']['revenue'],ordenes[ordenes['group'] == 'B']['revenue'],)[1]\n",
    "\n",
    "revenue_relative = ordenes[ordenes['group'] == 'B']['revenue'].mean()/ ordenes[ordenes['group'] == 'A']['revenue'].mean()- 1\n",
    "\n",
    "\n",
    "print(f\"Valor p para comparar los tamaños de pedido promedio de los grupos: {promedio_grupos:.3f}\")\n",
    "print(f\"Ganancia Relativa: {revenue_relative:.3f}\")"
   ]
  },
  {
   "cell_type": "markdown",
   "metadata": {},
   "source": [
    "1. Valor p (0.862):\n",
    "Un valor p de 0.862 indica que no hay una diferencia estadísticamente significativa entre los tamaños promedio de pedido de los grupos A y B.\n",
    "Esto significa que cualquier diferencia observada en los tamaños de pedido promedio podría ser atribuida al azar, y no a un efecto real de las condiciones o estrategias aplicadas en los grupos.\n",
    "\n",
    "2. Ganancia relativa (0.278):\n",
    "La ganancia relativa de 0.278 indica que el tamaño promedio de los pedidos en el grupo B es 27.8% mayor que en el grupo A.\n",
    "Aunque este aumento parece considerable en términos prácticos, el valor p alto sugiere que esta diferencia no es confiable desde un punto de vista estadístico.\n",
    "\n",
    "Diferencia no significativa: Aunque el grupo B muestra un tamaño promedio de pedido mayor que el grupo A (27.8%), esta diferencia no es estadísticamente significativa. Por lo tanto, no se puede asegurar que el grupo B sea consistentemente mejor en términos de tamaño de pedido promedio.\n",
    "\n",
    "Recomendación: Podría ser útil recopilar más datos o analizar otros factores que puedan estar influyendo en el tamaño de los pedidos antes de tomar decisiones basadas en estos resultados.\n",
    "\n"
   ]
  },
  {
   "cell_type": "markdown",
   "metadata": {},
   "source": [
    "### 11.Encuentra la significancia estadística de la diferencia en la conversión entre los grupos utilizando los datos filtrados"
   ]
  },
  {
   "cell_type": "code",
   "execution_count": 34,
   "metadata": {},
   "outputs": [
    {
     "name": "stdout",
     "output_type": "stream",
     "text": [
      "0.00879\n",
      "0.183\n"
     ]
    }
   ],
   "source": [
    "ordersByUsersA = (\n",
    "    ordenes[ordenes['group'] == 'A']\n",
    "    .groupby('visitorId', as_index=False)\n",
    "    .agg({'transactionId': pd.Series.nunique}) \n",
    ")\n",
    "ordersByUsersA.columns = ['visitorId', 'orders']  \n",
    "\n",
    "ordersByUsersB = (\n",
    "    ordenes[ordenes['group'] == 'B']\n",
    "    .groupby('visitorId', as_index=False)\n",
    "    .agg({'transactionId': pd.Series.nunique})  \n",
    ")\n",
    "ordersByUsersB.columns = ['visitorId', 'orders']  \n",
    "\n",
    "usersWithManyOrders = pd.concat(\n",
    "    [\n",
    "        ordersByUsersA[ordersByUsersA['orders'] > 2]['visitorId'],\n",
    "        ordersByUsersB[ordersByUsersB['orders'] > 2]['visitorId'],\n",
    "    ],\n",
    "    axis=0,\n",
    ")\n",
    "\n",
    "usersWithExpensiveOrders = ordenes[ordenes['revenue'] > 10000]['visitorId']\n",
    "\n",
    "abnormalUsers = (\n",
    "    pd.concat([usersWithManyOrders, usersWithExpensiveOrders], axis=0)\n",
    "    .drop_duplicates()\n",
    "    .sort_values()\n",
    ")\n",
    "\n",
    "\n",
    "\n",
    "sampleAFiltered = pd.concat(\n",
    "    [\n",
    "        ordersByUsersA[\n",
    "            np.logical_not(ordersByUsersA['visitorId'].isin(abnormalUsers))\n",
    "        ]['orders'],\n",
    "        pd.Series(\n",
    "            0,\n",
    "            index=np.arange(\n",
    "                visitantes[visitantes['group'] == 'A']['visits'].sum()\n",
    "                - len(ordersByUsersA['orders'])\n",
    "            ),\n",
    "            name='orders',\n",
    "        ),\n",
    "    ],\n",
    "    axis=0,\n",
    ")\n",
    "\n",
    "sampleAFiltered = pd.concat(\n",
    "    [\n",
    "        ordersByUsersA[\n",
    "            np.logical_not(ordersByUsersA['visitorId'].isin(abnormalUsers))\n",
    "        ]['orders'],\n",
    "        pd.Series(\n",
    "            0,\n",
    "            index=np.arange(\n",
    "                visitantes[visitantes['group'] == 'A']['visits'].sum()\n",
    "                - len(ordersByUsersA['orders'])\n",
    "            ),\n",
    "            name='orders',\n",
    "        ),\n",
    "    ],\n",
    "    axis=0,\n",
    ")\n",
    "\n",
    "sampleBFiltered = pd.concat(\n",
    "    [\n",
    "        ordersByUsersB[\n",
    "            np.logical_not(ordersByUsersB['visitorId'].isin(abnormalUsers))\n",
    "        ]['orders'],\n",
    "        pd.Series(\n",
    "            0,\n",
    "            index=np.arange(\n",
    "                visitantes[visitantes['group'] == 'B']['visits'].sum()\n",
    "                - len(ordersByUsersB['orders'])\n",
    "            ),\n",
    "            name='orders',\n",
    "        ),\n",
    "    ],\n",
    "    axis=0,\n",
    ")\n",
    "\n",
    "print(\n",
    "    \"{0:.5f}\".format(stats.mannwhitneyu(sampleAFiltered, sampleBFiltered)[1])\n",
    ")\n",
    "print(\"{0:.3f}\".format(sampleBFiltered.mean() / sampleAFiltered.mean() - 1))"
   ]
  },
  {
   "cell_type": "markdown",
   "metadata": {},
   "source": [
    "1. Prueba estadística de Mann-Whitney (p-valor): 0.00879\n",
    "El p-valor de 0.00879 es menor al umbral comúnmente utilizado de 0.05, lo que significa que hay una diferencia estadísticamente significativa entre las tasas de conversión de los grupos A y B, incluso después de filtrar los datos de usuarios anómalos.\n",
    "\n",
    "2. Diferencia relativa en las tasas de conversión: 0.183 (18.3%)\n",
    "Este valor indica que la tasa de conversión del grupo B es un 18.3% mayor en comparación con la del grupo A.\n",
    "\n",
    "Conclusión:\n",
    "\n",
    "Después de filtrar usuarios anómalos (aquellos con pedidos excesivos o muy caros), encontramos una diferencia significativa entre los grupos A y B en términos de conversión. El grupo B tiene una tasa de conversión significativamente más alta que el grupo A, con una diferencia relativa del 18.3%. Esto podría ser indicativo de que las estrategias aplicadas al grupo B son más efectivas, aunque es importante considerar otros factores antes de tomar decisiones comerciales definitivas."
   ]
  },
  {
   "cell_type": "markdown",
   "metadata": {},
   "source": [
    "### 12. Encuentra la significancia estadística de la diferencia en el tamaño promedio de pedido entre los grupos utilizando los datos filtrados. Haz conclusiones y conjeturas."
   ]
  },
  {
   "cell_type": "code",
   "execution_count": 35,
   "metadata": {},
   "outputs": [
    {
     "name": "stdout",
     "output_type": "stream",
     "text": [
      "Valor p para la prueba de Mann-Whitney: 0.71053\n",
      "Diferencia relativa en los tamaños promedio de pedidos: -0.042\n"
     ]
    }
   ],
   "source": [
    "# Filtrar datos para excluir usuarios anómalos\n",
    "ordersFiltered = ordenes[\n",
    "    ~ordenes['visitorId'].isin(abnormalUsers)  # Excluir usuarios anómalos\n",
    "]\n",
    "\n",
    "# Separar los datos en los dos grupos\n",
    "revenueA = ordersFiltered[ordersFiltered['group'] == 'A']['revenue']\n",
    "revenueB = ordersFiltered[ordersFiltered['group'] == 'B']['revenue']\n",
    "\n",
    "# Prueba estadística de Mann-Whitney para comparar los tamaños promedio de los pedidos entre los grupos\n",
    "p_value = stats.mannwhitneyu(revenueA, revenueB)[1]\n",
    "\n",
    "# Calcular la diferencia relativa entre los tamaños promedio de los pedidos\n",
    "relative_difference = revenueB.mean() / revenueA.mean() - 1\n",
    "\n",
    "# Imprimir resultados\n",
    "print(\"Valor p para la prueba de Mann-Whitney: {0:.5f}\".format(p_value))\n",
    "print(\"Diferencia relativa en los tamaños promedio de pedidos: {0:.3f}\".format(relative_difference))\n"
   ]
  },
  {
   "cell_type": "markdown",
   "metadata": {},
   "source": [
    "Valor p (0.71053):\n",
    "Este valor p es mucho mayor que el nivel de significancia típico de 0.05. Por lo tanto, no hay suficiente evidencia estadística para rechazar la hipótesis nula. Esto significa que no hay una diferencia estadísticamente significativa en el tamaño promedio de los pedidos entre los grupos A y B.\n",
    "\n",
    "Diferencia relativa (-0.042):\n",
    "El tamaño promedio de los pedidos en el grupo B es aproximadamente un 4.2% más bajo que en el grupo A. Sin embargo, esta diferencia no es estadísticamente significativa debido al alto valor p."
   ]
  },
  {
   "cell_type": "markdown",
   "metadata": {},
   "source": [
    "<div class=\"alert alert-block alert-success\">\n",
    "<b>Comentario del revisor #2</b> <a class=\"tocSkip\"></a>\n",
    "\n",
    "Perfecto, buen trabajo con el despliegue de la sección de estudio de la significancia estadística de las diferencias. "
   ]
  },
  {
   "cell_type": "markdown",
   "metadata": {},
   "source": [
    "### 13.Toma una decisión basada en los resultados de la prueba. Las decisiones posibles son: \n",
    "\n",
    "1. Parar la prueba, considerar a uno de los grupos como líder. \n",
    "\n",
    "2. Parar la prueba, concluir que no hay diferencia entre los grupos. \n",
    "\n",
    "3. Continuar la prueba."
   ]
  },
  {
   "cell_type": "markdown",
   "metadata": {},
   "source": [
    "1. Conversión:\n",
    "Valor p (0.00879): Hay una diferencia estadísticamente significativa en la conversión entre los grupos (p < 0.05).\n",
    "Diferencia relativa (18.3%): El grupo B tiene una conversión significativamente mayor que el grupo A.\n",
    "\n",
    "2. Tamaño promedio de pedidos:\n",
    "Valor p (0.71053): No hay diferencia estadísticamente significativa en el tamaño promedio de los pedidos entre los grupos (p > 0.05).\n",
    "Diferencia relativa (-4.2%): El tamaño promedio de los pedidos en el grupo B es ligeramente menor, pero esta diferencia no es estadísticamente significativa.\n",
    "\n",
    "3. Ganancia relativa:\n",
    "En los análisis previos, el grupo B mostró una ganancia relativa positiva (13.8%), indicando que en general, es más rentable en términos de ingresos totales."
   ]
  },
  {
   "cell_type": "markdown",
   "metadata": {},
   "source": [
    "## Decisión:\n",
    "## Basándonos en estos resultados, se recomienda parar la prueba y considerar al grupo B como líder."
   ]
  },
  {
   "cell_type": "markdown",
   "metadata": {},
   "source": [
    "Justificación:\n",
    "\n",
    "1. Conversión superior en el grupo B: El grupo B tiene una conversión significativamente mayor que el grupo A, lo que implica que más usuarios completan una compra en el grupo B.\n",
    "\n",
    "2. Tamaño promedio de pedidos: Aunque no hay una diferencia estadísticamente significativa en los tamaños de pedido, el grupo B no muestra una desventaja crítica en este aspecto.\n",
    "\n",
    "3. Ganancia total: La combinación de una conversión significativamente mayor y un tamaño promedio de pedido comparable (ligeramente menor pero no significativo) resulta en una ganancia relativa positiva para el grupo B."
   ]
  },
  {
   "cell_type": "markdown",
   "metadata": {},
   "source": [
    "## Dado que el grupo B es más efectivo en términos de conversión y ganancias totales, se recomienda implementar las estrategias del grupo B como la nueva norma."
   ]
  }
 ],
 "metadata": {
  "ExecuteTimeLog": [
   {
    "duration": 170,
    "start_time": "2025-01-23T04:41:09.079Z"
   },
   {
    "duration": 2564,
    "start_time": "2025-01-23T04:41:17.711Z"
   },
   {
    "duration": 23,
    "start_time": "2025-01-23T04:41:23.920Z"
   },
   {
    "duration": 6,
    "start_time": "2025-01-23T04:46:05.140Z"
   },
   {
    "duration": 33,
    "start_time": "2025-01-23T04:46:45.678Z"
   },
   {
    "duration": 10,
    "start_time": "2025-01-23T04:46:55.130Z"
   },
   {
    "duration": 7,
    "start_time": "2025-01-23T04:47:21.796Z"
   },
   {
    "duration": 105,
    "start_time": "2025-01-23T04:47:57.085Z"
   },
   {
    "duration": 14,
    "start_time": "2025-01-23T04:48:07.101Z"
   },
   {
    "duration": 10,
    "start_time": "2025-01-23T04:48:10.143Z"
   },
   {
    "duration": 7,
    "start_time": "2025-01-23T04:48:13.939Z"
   },
   {
    "duration": 8,
    "start_time": "2025-01-23T04:48:16.580Z"
   },
   {
    "duration": 12,
    "start_time": "2025-01-23T04:48:25.953Z"
   },
   {
    "duration": 7,
    "start_time": "2025-01-23T04:48:30.915Z"
   },
   {
    "duration": 10,
    "start_time": "2025-01-23T04:48:43.854Z"
   },
   {
    "duration": 9,
    "start_time": "2025-01-23T04:48:49.712Z"
   },
   {
    "duration": 7,
    "start_time": "2025-01-23T04:55:23.812Z"
   },
   {
    "duration": 6,
    "start_time": "2025-01-23T04:55:30.171Z"
   },
   {
    "duration": 6,
    "start_time": "2025-01-23T04:55:36.187Z"
   },
   {
    "duration": 8,
    "start_time": "2025-01-25T17:18:53.430Z"
   },
   {
    "duration": 2645,
    "start_time": "2025-01-25T17:23:23.854Z"
   },
   {
    "duration": 602,
    "start_time": "2025-01-25T17:23:26.501Z"
   },
   {
    "duration": 0,
    "start_time": "2025-01-25T17:23:27.106Z"
   },
   {
    "duration": 0,
    "start_time": "2025-01-25T17:23:27.107Z"
   },
   {
    "duration": 0,
    "start_time": "2025-01-25T17:23:27.109Z"
   },
   {
    "duration": 0,
    "start_time": "2025-01-25T17:23:27.110Z"
   },
   {
    "duration": 0,
    "start_time": "2025-01-25T17:23:27.112Z"
   },
   {
    "duration": 0,
    "start_time": "2025-01-25T17:23:27.114Z"
   },
   {
    "duration": 0,
    "start_time": "2025-01-25T17:23:27.115Z"
   },
   {
    "duration": 0,
    "start_time": "2025-01-25T17:23:27.117Z"
   },
   {
    "duration": 0,
    "start_time": "2025-01-25T17:23:27.118Z"
   },
   {
    "duration": 0,
    "start_time": "2025-01-25T17:23:27.120Z"
   },
   {
    "duration": 0,
    "start_time": "2025-01-25T17:23:27.121Z"
   },
   {
    "duration": 0,
    "start_time": "2025-01-25T17:23:27.123Z"
   },
   {
    "duration": 0,
    "start_time": "2025-01-25T17:23:27.124Z"
   },
   {
    "duration": 0,
    "start_time": "2025-01-25T17:23:27.126Z"
   },
   {
    "duration": 0,
    "start_time": "2025-01-25T17:23:27.127Z"
   },
   {
    "duration": 1,
    "start_time": "2025-01-25T17:23:27.128Z"
   },
   {
    "duration": 0,
    "start_time": "2025-01-25T17:23:27.130Z"
   },
   {
    "duration": 0,
    "start_time": "2025-01-25T17:23:27.131Z"
   },
   {
    "duration": 0,
    "start_time": "2025-01-25T17:23:27.131Z"
   },
   {
    "duration": 0,
    "start_time": "2025-01-25T17:23:27.170Z"
   },
   {
    "duration": 0,
    "start_time": "2025-01-25T17:23:27.172Z"
   },
   {
    "duration": 0,
    "start_time": "2025-01-25T17:23:27.176Z"
   },
   {
    "duration": 0,
    "start_time": "2025-01-25T17:23:27.177Z"
   },
   {
    "duration": 0,
    "start_time": "2025-01-25T17:23:27.178Z"
   },
   {
    "duration": 0,
    "start_time": "2025-01-25T17:23:27.179Z"
   },
   {
    "duration": 0,
    "start_time": "2025-01-25T17:23:27.180Z"
   },
   {
    "duration": 0,
    "start_time": "2025-01-25T17:23:27.180Z"
   },
   {
    "duration": 0,
    "start_time": "2025-01-25T17:23:27.181Z"
   },
   {
    "duration": 0,
    "start_time": "2025-01-25T17:23:27.185Z"
   },
   {
    "duration": 0,
    "start_time": "2025-01-25T17:23:27.187Z"
   },
   {
    "duration": 60,
    "start_time": "2025-01-25T17:23:58.825Z"
   },
   {
    "duration": 58,
    "start_time": "2025-01-25T17:24:12.706Z"
   },
   {
    "duration": 58,
    "start_time": "2025-01-25T17:24:43.407Z"
   },
   {
    "duration": 3,
    "start_time": "2025-01-25T17:24:50.577Z"
   },
   {
    "duration": 58,
    "start_time": "2025-01-25T17:24:55.663Z"
   },
   {
    "duration": 10,
    "start_time": "2025-01-25T17:25:17.131Z"
   },
   {
    "duration": 14,
    "start_time": "2025-01-25T17:26:02.193Z"
   },
   {
    "duration": 14,
    "start_time": "2025-01-25T17:26:09.971Z"
   },
   {
    "duration": 3,
    "start_time": "2025-01-25T17:26:13.091Z"
   },
   {
    "duration": 11,
    "start_time": "2025-01-25T17:26:13.097Z"
   },
   {
    "duration": 3,
    "start_time": "2025-01-25T17:26:13.109Z"
   },
   {
    "duration": 12,
    "start_time": "2025-01-25T17:26:13.114Z"
   },
   {
    "duration": 12,
    "start_time": "2025-01-25T17:26:13.127Z"
   },
   {
    "duration": 5,
    "start_time": "2025-01-25T17:26:13.166Z"
   },
   {
    "duration": 9,
    "start_time": "2025-01-25T17:26:13.173Z"
   },
   {
    "duration": 3,
    "start_time": "2025-01-25T17:26:13.184Z"
   },
   {
    "duration": 126,
    "start_time": "2025-01-25T17:26:13.189Z"
   },
   {
    "duration": 11,
    "start_time": "2025-01-25T17:26:13.318Z"
   },
   {
    "duration": 3,
    "start_time": "2025-01-25T17:26:13.331Z"
   },
   {
    "duration": 7,
    "start_time": "2025-01-25T17:26:13.336Z"
   },
   {
    "duration": 7,
    "start_time": "2025-01-25T17:26:13.344Z"
   },
   {
    "duration": 10,
    "start_time": "2025-01-25T17:26:13.352Z"
   },
   {
    "duration": 135,
    "start_time": "2025-01-25T17:26:13.363Z"
   },
   {
    "duration": 107,
    "start_time": "2025-01-25T17:26:13.499Z"
   },
   {
    "duration": 13,
    "start_time": "2025-01-25T17:26:13.608Z"
   },
   {
    "duration": 12,
    "start_time": "2025-01-25T17:26:13.623Z"
   },
   {
    "duration": 177,
    "start_time": "2025-01-25T17:26:13.638Z"
   },
   {
    "duration": 10,
    "start_time": "2025-01-25T17:26:13.817Z"
   },
   {
    "duration": 165,
    "start_time": "2025-01-25T17:26:13.829Z"
   },
   {
    "duration": 289,
    "start_time": "2025-01-25T17:26:13.996Z"
   },
   {
    "duration": 312,
    "start_time": "2025-01-25T17:26:14.287Z"
   },
   {
    "duration": 134,
    "start_time": "2025-01-25T17:26:14.600Z"
   },
   {
    "duration": 10,
    "start_time": "2025-01-25T17:26:14.736Z"
   },
   {
    "duration": 7,
    "start_time": "2025-01-25T17:26:14.747Z"
   },
   {
    "duration": 309,
    "start_time": "2025-01-25T17:26:14.756Z"
   },
   {
    "duration": 8,
    "start_time": "2025-01-25T17:26:15.071Z"
   },
   {
    "duration": 153,
    "start_time": "2025-01-25T17:26:15.080Z"
   },
   {
    "duration": 8,
    "start_time": "2025-01-25T17:26:15.236Z"
   },
   {
    "duration": 157,
    "start_time": "2025-01-25T17:26:15.246Z"
   },
   {
    "duration": 9,
    "start_time": "2025-01-25T17:26:15.404Z"
   },
   {
    "duration": 19,
    "start_time": "2025-01-25T17:26:56.438Z"
   },
   {
    "duration": 254,
    "start_time": "2025-01-25T17:27:12.689Z"
   },
   {
    "duration": 2535,
    "start_time": "2025-01-25T18:36:39.112Z"
   },
   {
    "duration": 22,
    "start_time": "2025-01-25T18:36:41.649Z"
   },
   {
    "duration": 3,
    "start_time": "2025-01-25T18:36:41.672Z"
   },
   {
    "duration": 13,
    "start_time": "2025-01-25T18:36:41.677Z"
   },
   {
    "duration": 13,
    "start_time": "2025-01-25T18:36:41.691Z"
   },
   {
    "duration": 4,
    "start_time": "2025-01-25T18:36:41.705Z"
   },
   {
    "duration": 10,
    "start_time": "2025-01-25T18:36:41.724Z"
   },
   {
    "duration": 3,
    "start_time": "2025-01-25T18:36:41.736Z"
   },
   {
    "duration": 6,
    "start_time": "2025-01-25T18:36:41.741Z"
   },
   {
    "duration": 10,
    "start_time": "2025-01-25T18:36:41.750Z"
   },
   {
    "duration": 10,
    "start_time": "2025-01-25T18:36:41.761Z"
   },
   {
    "duration": 3,
    "start_time": "2025-01-25T18:36:41.773Z"
   },
   {
    "duration": 47,
    "start_time": "2025-01-25T18:36:41.778Z"
   },
   {
    "duration": 7,
    "start_time": "2025-01-25T18:36:41.827Z"
   },
   {
    "duration": 9,
    "start_time": "2025-01-25T18:36:41.836Z"
   },
   {
    "duration": 145,
    "start_time": "2025-01-25T18:36:41.847Z"
   },
   {
    "duration": 108,
    "start_time": "2025-01-25T18:36:41.995Z"
   },
   {
    "duration": 22,
    "start_time": "2025-01-25T18:36:42.105Z"
   },
   {
    "duration": 12,
    "start_time": "2025-01-25T18:36:42.129Z"
   },
   {
    "duration": 190,
    "start_time": "2025-01-25T18:36:42.143Z"
   },
   {
    "duration": 11,
    "start_time": "2025-01-25T18:36:42.335Z"
   },
   {
    "duration": 155,
    "start_time": "2025-01-25T18:36:42.348Z"
   },
   {
    "duration": 290,
    "start_time": "2025-01-25T18:36:42.505Z"
   },
   {
    "duration": 332,
    "start_time": "2025-01-25T18:36:42.796Z"
   },
   {
    "duration": 139,
    "start_time": "2025-01-25T18:36:43.130Z"
   },
   {
    "duration": 9,
    "start_time": "2025-01-25T18:36:43.272Z"
   },
   {
    "duration": 6,
    "start_time": "2025-01-25T18:36:43.283Z"
   },
   {
    "duration": 363,
    "start_time": "2025-01-25T18:36:43.293Z"
   },
   {
    "duration": 8,
    "start_time": "2025-01-25T18:36:43.658Z"
   },
   {
    "duration": 143,
    "start_time": "2025-01-25T18:36:43.668Z"
   },
   {
    "duration": 16,
    "start_time": "2025-01-25T18:36:43.813Z"
   },
   {
    "duration": 146,
    "start_time": "2025-01-25T18:36:43.831Z"
   },
   {
    "duration": 8,
    "start_time": "2025-01-25T18:36:43.979Z"
   },
   {
    "duration": 824,
    "start_time": "2025-01-25T18:38:25.271Z"
   },
   {
    "duration": 12,
    "start_time": "2025-01-25T18:38:26.097Z"
   },
   {
    "duration": 3,
    "start_time": "2025-01-25T18:38:26.110Z"
   },
   {
    "duration": 11,
    "start_time": "2025-01-25T18:38:26.124Z"
   },
   {
    "duration": 11,
    "start_time": "2025-01-25T18:38:26.138Z"
   },
   {
    "duration": 3,
    "start_time": "2025-01-25T18:38:26.151Z"
   },
   {
    "duration": 10,
    "start_time": "2025-01-25T18:38:26.156Z"
   },
   {
    "duration": 4,
    "start_time": "2025-01-25T18:38:26.167Z"
   },
   {
    "duration": 6,
    "start_time": "2025-01-25T18:38:26.172Z"
   },
   {
    "duration": 45,
    "start_time": "2025-01-25T18:38:26.180Z"
   },
   {
    "duration": 9,
    "start_time": "2025-01-25T18:38:26.227Z"
   },
   {
    "duration": 4,
    "start_time": "2025-01-25T18:38:26.238Z"
   },
   {
    "duration": 7,
    "start_time": "2025-01-25T18:38:26.243Z"
   },
   {
    "duration": 6,
    "start_time": "2025-01-25T18:38:26.253Z"
   },
   {
    "duration": 9,
    "start_time": "2025-01-25T18:38:26.260Z"
   },
   {
    "duration": 164,
    "start_time": "2025-01-25T18:38:26.270Z"
   },
   {
    "duration": 102,
    "start_time": "2025-01-25T18:38:26.436Z"
   },
   {
    "duration": 13,
    "start_time": "2025-01-25T18:38:26.539Z"
   },
   {
    "duration": 13,
    "start_time": "2025-01-25T18:38:26.553Z"
   },
   {
    "duration": 183,
    "start_time": "2025-01-25T18:38:26.567Z"
   },
   {
    "duration": 10,
    "start_time": "2025-01-25T18:38:26.751Z"
   },
   {
    "duration": 163,
    "start_time": "2025-01-25T18:38:26.763Z"
   },
   {
    "duration": 286,
    "start_time": "2025-01-25T18:38:26.928Z"
   },
   {
    "duration": 356,
    "start_time": "2025-01-25T18:38:27.216Z"
   },
   {
    "duration": 143,
    "start_time": "2025-01-25T18:38:27.574Z"
   },
   {
    "duration": 10,
    "start_time": "2025-01-25T18:38:27.719Z"
   },
   {
    "duration": 5,
    "start_time": "2025-01-25T18:38:27.731Z"
   },
   {
    "duration": 300,
    "start_time": "2025-01-25T18:38:27.738Z"
   },
   {
    "duration": 9,
    "start_time": "2025-01-25T18:38:28.040Z"
   },
   {
    "duration": 137,
    "start_time": "2025-01-25T18:38:28.052Z"
   },
   {
    "duration": 8,
    "start_time": "2025-01-25T18:38:28.192Z"
   },
   {
    "duration": 137,
    "start_time": "2025-01-25T18:38:28.201Z"
   },
   {
    "duration": 8,
    "start_time": "2025-01-25T18:38:28.339Z"
   },
   {
    "duration": 807,
    "start_time": "2025-01-25T18:39:41.991Z"
   },
   {
    "duration": 11,
    "start_time": "2025-01-25T18:39:42.800Z"
   },
   {
    "duration": 3,
    "start_time": "2025-01-25T18:39:42.813Z"
   },
   {
    "duration": 16,
    "start_time": "2025-01-25T18:39:42.818Z"
   },
   {
    "duration": 13,
    "start_time": "2025-01-25T18:39:42.836Z"
   },
   {
    "duration": 4,
    "start_time": "2025-01-25T18:39:42.850Z"
   },
   {
    "duration": 10,
    "start_time": "2025-01-25T18:39:42.856Z"
   },
   {
    "duration": 3,
    "start_time": "2025-01-25T18:39:42.868Z"
   },
   {
    "duration": 6,
    "start_time": "2025-01-25T18:39:42.872Z"
   },
   {
    "duration": 47,
    "start_time": "2025-01-25T18:39:42.881Z"
   },
   {
    "duration": 9,
    "start_time": "2025-01-25T18:39:42.929Z"
   },
   {
    "duration": 4,
    "start_time": "2025-01-25T18:39:42.939Z"
   },
   {
    "duration": 6,
    "start_time": "2025-01-25T18:39:42.945Z"
   },
   {
    "duration": 6,
    "start_time": "2025-01-25T18:39:42.953Z"
   },
   {
    "duration": 9,
    "start_time": "2025-01-25T18:39:42.960Z"
   },
   {
    "duration": 170,
    "start_time": "2025-01-25T18:39:42.970Z"
   },
   {
    "duration": 97,
    "start_time": "2025-01-25T18:39:43.141Z"
   },
   {
    "duration": 13,
    "start_time": "2025-01-25T18:39:43.239Z"
   },
   {
    "duration": 12,
    "start_time": "2025-01-25T18:39:43.254Z"
   },
   {
    "duration": 192,
    "start_time": "2025-01-25T18:39:43.268Z"
   },
   {
    "duration": 11,
    "start_time": "2025-01-25T18:39:43.461Z"
   },
   {
    "duration": 163,
    "start_time": "2025-01-25T18:39:43.474Z"
   },
   {
    "duration": 293,
    "start_time": "2025-01-25T18:39:43.638Z"
   },
   {
    "duration": 319,
    "start_time": "2025-01-25T18:39:43.933Z"
   },
   {
    "duration": 141,
    "start_time": "2025-01-25T18:39:44.254Z"
   },
   {
    "duration": 9,
    "start_time": "2025-01-25T18:39:44.397Z"
   },
   {
    "duration": 16,
    "start_time": "2025-01-25T18:39:44.408Z"
   },
   {
    "duration": 300,
    "start_time": "2025-01-25T18:39:44.428Z"
   },
   {
    "duration": 9,
    "start_time": "2025-01-25T18:39:44.730Z"
   },
   {
    "duration": 158,
    "start_time": "2025-01-25T18:39:44.742Z"
   },
   {
    "duration": 22,
    "start_time": "2025-01-25T18:39:44.902Z"
   },
   {
    "duration": 134,
    "start_time": "2025-01-25T18:39:44.926Z"
   },
   {
    "duration": 8,
    "start_time": "2025-01-25T18:39:45.062Z"
   },
   {
    "duration": 2515,
    "start_time": "2025-01-27T01:11:18.103Z"
   },
   {
    "duration": 21,
    "start_time": "2025-01-27T01:11:20.620Z"
   },
   {
    "duration": 4,
    "start_time": "2025-01-27T01:11:20.643Z"
   },
   {
    "duration": 12,
    "start_time": "2025-01-27T01:11:20.650Z"
   },
   {
    "duration": 15,
    "start_time": "2025-01-27T01:11:20.663Z"
   },
   {
    "duration": 3,
    "start_time": "2025-01-27T01:11:20.681Z"
   },
   {
    "duration": 10,
    "start_time": "2025-01-27T01:11:20.686Z"
   },
   {
    "duration": 3,
    "start_time": "2025-01-27T01:11:20.699Z"
   },
   {
    "duration": 6,
    "start_time": "2025-01-27T01:11:20.705Z"
   },
   {
    "duration": 9,
    "start_time": "2025-01-27T01:11:20.715Z"
   },
   {
    "duration": 9,
    "start_time": "2025-01-27T01:11:20.726Z"
   },
   {
    "duration": 34,
    "start_time": "2025-01-27T01:11:20.737Z"
   },
   {
    "duration": 6,
    "start_time": "2025-01-27T01:11:20.773Z"
   },
   {
    "duration": 6,
    "start_time": "2025-01-27T01:11:20.781Z"
   },
   {
    "duration": 9,
    "start_time": "2025-01-27T01:11:20.788Z"
   },
   {
    "duration": 156,
    "start_time": "2025-01-27T01:11:20.799Z"
   },
   {
    "duration": 98,
    "start_time": "2025-01-27T01:11:20.956Z"
   },
   {
    "duration": 28,
    "start_time": "2025-01-27T01:11:21.055Z"
   },
   {
    "duration": 12,
    "start_time": "2025-01-27T01:11:21.084Z"
   },
   {
    "duration": 181,
    "start_time": "2025-01-27T01:11:21.098Z"
   },
   {
    "duration": 11,
    "start_time": "2025-01-27T01:11:21.280Z"
   },
   {
    "duration": 169,
    "start_time": "2025-01-27T01:11:21.292Z"
   },
   {
    "duration": 286,
    "start_time": "2025-01-27T01:11:21.463Z"
   },
   {
    "duration": 340,
    "start_time": "2025-01-27T01:11:21.751Z"
   },
   {
    "duration": 10,
    "start_time": "2025-01-27T01:11:22.092Z"
   },
   {
    "duration": 138,
    "start_time": "2025-01-27T01:11:22.103Z"
   },
   {
    "duration": 7,
    "start_time": "2025-01-27T01:11:22.243Z"
   },
   {
    "duration": 21,
    "start_time": "2025-01-27T01:11:22.254Z"
   },
   {
    "duration": 296,
    "start_time": "2025-01-27T01:11:22.276Z"
   },
   {
    "duration": 9,
    "start_time": "2025-01-27T01:11:22.574Z"
   },
   {
    "duration": 146,
    "start_time": "2025-01-27T01:11:22.584Z"
   },
   {
    "duration": 10,
    "start_time": "2025-01-27T01:11:22.732Z"
   },
   {
    "duration": 142,
    "start_time": "2025-01-27T01:11:22.743Z"
   },
   {
    "duration": 9,
    "start_time": "2025-01-27T01:11:22.887Z"
   },
   {
    "duration": 4,
    "start_time": "2025-01-27T01:13:47.596Z"
   },
   {
    "duration": 112,
    "start_time": "2025-01-27T01:13:57.247Z"
   },
   {
    "duration": 125,
    "start_time": "2025-01-27T01:15:13.246Z"
   },
   {
    "duration": 127,
    "start_time": "2025-01-27T01:23:27.317Z"
   },
   {
    "duration": 112,
    "start_time": "2025-01-27T01:23:39.830Z"
   },
   {
    "duration": 115,
    "start_time": "2025-01-27T01:23:50.162Z"
   },
   {
    "duration": 274,
    "start_time": "2025-01-27T01:28:01.650Z"
   },
   {
    "duration": 2638,
    "start_time": "2025-01-27T02:08:33.338Z"
   },
   {
    "duration": 16,
    "start_time": "2025-01-27T02:08:35.979Z"
   },
   {
    "duration": 3,
    "start_time": "2025-01-27T02:08:35.997Z"
   },
   {
    "duration": 11,
    "start_time": "2025-01-27T02:08:36.003Z"
   },
   {
    "duration": 22,
    "start_time": "2025-01-27T02:08:36.016Z"
   },
   {
    "duration": 4,
    "start_time": "2025-01-27T02:08:36.040Z"
   },
   {
    "duration": 10,
    "start_time": "2025-01-27T02:08:36.046Z"
   },
   {
    "duration": 3,
    "start_time": "2025-01-27T02:08:36.057Z"
   },
   {
    "duration": 7,
    "start_time": "2025-01-27T02:08:36.061Z"
   },
   {
    "duration": 10,
    "start_time": "2025-01-27T02:08:36.071Z"
   },
   {
    "duration": 9,
    "start_time": "2025-01-27T02:08:36.083Z"
   },
   {
    "duration": 40,
    "start_time": "2025-01-27T02:08:36.094Z"
   },
   {
    "duration": 10,
    "start_time": "2025-01-27T02:08:36.137Z"
   },
   {
    "duration": 6,
    "start_time": "2025-01-27T02:08:36.149Z"
   },
   {
    "duration": 11,
    "start_time": "2025-01-27T02:08:36.157Z"
   },
   {
    "duration": 160,
    "start_time": "2025-01-27T02:08:36.171Z"
   },
   {
    "duration": 104,
    "start_time": "2025-01-27T02:08:36.333Z"
   },
   {
    "duration": 13,
    "start_time": "2025-01-27T02:08:36.438Z"
   },
   {
    "duration": 12,
    "start_time": "2025-01-27T02:08:36.453Z"
   },
   {
    "duration": 189,
    "start_time": "2025-01-27T02:08:36.467Z"
   },
   {
    "duration": 10,
    "start_time": "2025-01-27T02:08:36.657Z"
   },
   {
    "duration": 164,
    "start_time": "2025-01-27T02:08:36.669Z"
   },
   {
    "duration": 300,
    "start_time": "2025-01-27T02:08:36.835Z"
   },
   {
    "duration": 325,
    "start_time": "2025-01-27T02:08:37.136Z"
   },
   {
    "duration": 12,
    "start_time": "2025-01-27T02:08:37.463Z"
   },
   {
    "duration": 114,
    "start_time": "2025-01-27T02:08:37.477Z"
   },
   {
    "duration": 168,
    "start_time": "2025-01-27T02:08:37.593Z"
   },
   {
    "duration": 12,
    "start_time": "2025-01-27T02:08:37.766Z"
   },
   {
    "duration": 5,
    "start_time": "2025-01-27T02:08:37.780Z"
   },
   {
    "duration": 327,
    "start_time": "2025-01-27T02:08:37.787Z"
   },
   {
    "duration": 16,
    "start_time": "2025-01-27T02:08:38.116Z"
   },
   {
    "duration": 201,
    "start_time": "2025-01-27T02:08:38.133Z"
   },
   {
    "duration": 11,
    "start_time": "2025-01-27T02:08:38.338Z"
   },
   {
    "duration": 148,
    "start_time": "2025-01-27T02:08:38.352Z"
   },
   {
    "duration": 9,
    "start_time": "2025-01-27T02:08:38.502Z"
   }
  ],
  "kernelspec": {
   "display_name": "Python 3 (ipykernel)",
   "language": "python",
   "name": "python3"
  },
  "language_info": {
   "codemirror_mode": {
    "name": "ipython",
    "version": 3
   },
   "file_extension": ".py",
   "mimetype": "text/x-python",
   "name": "python",
   "nbconvert_exporter": "python",
   "pygments_lexer": "ipython3",
   "version": "3.9.19"
  },
  "toc": {
   "base_numbering": 1,
   "nav_menu": {},
   "number_sections": true,
   "sideBar": true,
   "skip_h1_title": true,
   "title_cell": "Table of Contents",
   "title_sidebar": "Contents",
   "toc_cell": false,
   "toc_position": {},
   "toc_section_display": true,
   "toc_window_display": false
  }
 },
 "nbformat": 4,
 "nbformat_minor": 2
}

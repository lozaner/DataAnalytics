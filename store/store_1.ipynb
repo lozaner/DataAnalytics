{
 "cells": [
  {
   "cell_type": "markdown",
   "metadata": {},
   "source": [
    "<b>¡Hola Elpidio!</b>\n",
    "\n",
    "Mi nombre es Alejandro Abia y tengo el gusto de revisar tu proyecto.\n",
    "\n",
    "A continuación, encontrarás mis comentarios en celdas pintadas de tres colores (verde, amarillo y rojo), a manera de semáforo. Por favor, <b>no las borres ni muevas de posición</b> mientras dure el proceso de revisión.\n",
    "\n",
    "<div class=\"alert alert-block alert-success\">\n",
    "<b>Éxito</b> <a class=\"tocSkip\"></a>\n",
    "En celdas verdes encontrarás comentarios en relación a tus aciertos y fortalezas.\n",
    "</div>\n",
    "<div class=\"alert alert-block alert-warning\">\n",
    "<b>Antención</b> <a class=\"tocSkip\"></a>\n",
    "Utilizaré el color amarillo para llamar tu atención, expresar algo importante o compartirte alguna idea de valor.\n",
    "</div>\n",
    "<div class=\"alert alert-block alert-danger\">\n",
    "<b>A resolver</b> <a class=\"tocSkip\"></a>\n",
    "En rojo emitiré aquellos puntos que deberás atender para aprobar la revisión.\n",
    "</div>\n",
    "<div class=\"alert alert-block alert-info\">\n",
    "<b>Comentario estudiante</b><a class=\"tocSkip\"></a>\n",
    "Es factible que, a lo largo del proceso de revisión, quieras dejarme comentarios. Si es el caso, por favor realízalo dentro de celdas azules como esta.\n",
    "</div>\n",
    "Respecto del proceso de revisión, tu proyecto será aceptado una vez que los comentarios en rojo hayan sido atendidos.\n",
    "¡Empecemos!"
   ]
  },
  {
   "cell_type": "markdown",
   "metadata": {
    "id": "UCjlyTyyJm9R"
   },
   "source": [
    "\n",
    "\n",
    "Como parte del equipo de análisis, lo primero que debes hacer es evaluar la calidad de una muestra de datos recopilados y prepararla para analizarla posteriormente. Después, en la segunda parte de este proyecto en el segundo sprint, desarrollarás más tus habilidades y harás tu primer análisis completo, respondiendo a las necesidades del cliente."
   ]
  },
  {
   "cell_type": "markdown",
   "metadata": {
    "id": "EMQlsEYlxGET"
   },
   "source": [
    "Estos son los datos que el cliente nos proporcionó. Tienen el formato de una lista de Python, con las siguientes columnas de datos:\n",
    "\n",
    "- **user_id:** Identificador único para cada usuario.\n",
    "- **user_name:** El nombre del usuario.\n",
    "- **user_age:** La edad del usuario.\n",
    "- **fav_categories:** Categorías favoritas de los artículos que compró el usuario, como 'ELECTRONICS', 'SPORT' y 'BOOKS' (ELECTRÓNICOS, DEPORTES y LIBROS), etc.\n",
    "- **total_spendings:** Una lista de números enteros que indican la cantidad total gastada en cada una de las categorías favoritas.\n"
   ]
  },
  {
   "cell_type": "code",
   "execution_count": 1,
   "metadata": {
    "id": "LfBCH4crxLOt"
   },
   "outputs": [],
   "source": [
    "users = [\n",
    "    ['32415', ' mike_reed ', 32.0, ['ELECTRONICS', 'SPORT', 'BOOKS'], [894, 213, 173]],\n",
    "    ['31980', 'kate morgan', 24.0, ['CLOTHES', 'BOOKS'], [439, 390]],\n",
    "    ['32156', ' john doe ', 37.0, ['ELECTRONICS', 'HOME', 'FOOD'], [459, 120, 99]],\n",
    "    ['32761', 'SAMANTHA SMITH', 29.0, ['CLOTHES', 'ELECTRONICS', 'BEAUTY'], [299, 679, 85]],\n",
    "    ['32984', 'David White', 41.0, ['BOOKS', 'HOME', 'SPORT'], [234, 329, 243]],\n",
    "    ['33001', 'emily brown', 26.0, ['BEAUTY', 'HOME', 'FOOD'], [213, 659, 79]],\n",
    "    ['33767', ' Maria Garcia', 33.0, ['CLOTHES', 'FOOD', 'BEAUTY'], [499, 189, 63]],\n",
    "    ['33912', 'JOSE MARTINEZ', 22.0, ['SPORT', 'ELECTRONICS', 'HOME'], [259, 549, 109]],\n",
    "    ['34009', 'lisa wilson ', 35.0, ['HOME', 'BOOKS', 'CLOTHES'], [329, 189, 329]],\n",
    "    ['34278', 'James Lee', 28.0, ['BEAUTY', 'CLOTHES', 'ELECTRONICS'], [189, 299, 579]],\n",
    "]\n"
   ]
  },
  {
   "cell_type": "markdown",
   "metadata": {
    "id": "QJa5xuF-Jm9T"
   },
   "source": [
    "# Paso 1\n",
    "\n",
    "Store 1 tiene como objetivo garantizar la coherencia en la recopilación de datos. Como parte de esta iniciativa, se debe evaluar la calidad de los datos recopilados sobre los usuarios y las usuarias. Te han pedido que revises los datos recopilados y propongas cambios. A continuación verás datos sobre un usuario o una usuaria en particular; revisa los datos e identifica cualquier posible problema.\n"
   ]
  },
  {
   "cell_type": "code",
   "execution_count": 2,
   "metadata": {
    "id": "kvRIX_jfJm9U"
   },
   "outputs": [],
   "source": [
    "user_id = '32415'\n",
    "user_name = ' mike_reed '\n",
    "user_age = 32.0\n",
    "fav_categories = ['ELECTRONICS', 'SPORT', 'BOOKS']"
   ]
  },
  {
   "cell_type": "markdown",
   "metadata": {
    "id": "Fo28PV6wJm9U"
   },
   "source": [
    "**Opciones:**\n",
    "\n",
    "1. Se debe cambiar el tipo de dato de `user_id` de cadena a entero.\n",
    "    \n",
    "2. La variable `user_name` contiene una cadena que tiene espacios innecesarios y un guion bajo entre el nombre y el apellido.\n",
    "    \n",
    "3. El tipo de dato de `user_age` es correcto y no hay necesidad de convertirlo.\n",
    "    \n",
    "4. La lista `fav_categories` contiene cadenas en mayúsculas. En lugar de ello, debemos convertir los valores de la lista en minúsculas.\n"
   ]
  },
  {
   "cell_type": "markdown",
   "metadata": {
    "id": "uFd9fGjzJm9V"
   },
   "source": [
    "Para cada una de las opciones, escribe en la siguiente celda markdown si la identificaste como un problema real en los datos o no. Justifica tu razonamiento. Por ejemplo, si crees que la primera opción es correcta, escríbelo y explica por qué piensas que es correcta."
   ]
  },
  {
   "cell_type": "markdown",
   "metadata": {
    "id": "jBGXAwBkJm9V"
   },
   "source": [
    "**Escribe tu respuesta y explica tu argumentación:**"
   ]
  },
  {
   "cell_type": "markdown",
   "metadata": {},
   "source": [
    "<div class=\"alert alert-block alert-success\">\n",
    "<b>Éxito</b> <a class=\"tocSkip\"></a>\n",
    "Has identificado correctamente algunos problemas clave en los datos proporcionados, como los espacios innecesarios en `user_name` y la necesidad de estandarizar `fav_categories` a minúsculas. Reconocer estos problemas es un buen paso inicial para asegurar la calidad del análisis.\n",
    "</div>"
   ]
  },
  {
   "cell_type": "markdown",
   "metadata": {
    "id": "aZ40WbF5Jm9V"
   },
   "source": [
    "# Paso 2\n",
    "\n",
    "Vamos a implementar los cambios que identificamos. Primero, necesitamos corregir los problemas de la variable `user_name` Como vimos, tiene espacios innecesarios y un guion bajo como separador entre el nombre y el apellido; tu objetivo es eliminar los espacios y luego reemplazar el guion bajo con el espacio.\n"
   ]
  },
  {
   "cell_type": "code",
   "execution_count": 3,
   "metadata": {
    "colab": {
     "base_uri": "https://localhost:8080/"
    },
    "id": "_uOLKjF8Jm9V",
    "outputId": "630b0663-620c-44a2-f0d1-4b7b4a592b0b"
   },
   "outputs": [
    {
     "name": "stdout",
     "output_type": "stream",
     "text": [
      "mike reed\n"
     ]
    }
   ],
   "source": [
    "user_name = ' mike_reed '\n",
    "user_name = user_name.strip() # escribe tu código aquí\n",
    "user_name = user_name.replace('_',' ') # escribe tu código aquí\n",
    "\n",
    "print(user_name)"
   ]
  },
  {
   "cell_type": "markdown",
   "metadata": {
    "id": "Kxe9MxvVJm9V"
   },
   "source": [
    "********Hint********\n",
    "\n",
    "Existe un método, `strip()`, que puede eliminar espacios al principio y al final de una cadena. Además, el método `replace()` se puede usar para reemplazar una parte de una cadena. En este caso, queremos reemplazar los guiones bajos (`_`) con espacios.\n"
   ]
  },
  {
   "cell_type": "markdown",
   "metadata": {},
   "source": [
    "<div class=\"alert alert-block alert-success\">\n",
    "<b>Éxito</b> <a class=\"tocSkip\"></a>\n",
    "Elpidio, aplicaste correctamente las funciones `strip()` y `replace()` para limpiar el nombre del usuario, eliminando los espacios en blanco y reemplazando el guion bajo por un espacio. Es una buena práctica de limpieza de datos.\n",
    "</div>"
   ]
  },
  {
   "cell_type": "markdown",
   "metadata": {
    "id": "IBQlePCsJm9V"
   },
   "source": [
    "# Paso 3\n",
    "\n",
    "Luego, debemos dividir el `user_name` (nombre de usuario o usuaria) actualizado en dos subcadenas para obtener una lista que contenga dos valores: la cadena para el nombre y la cadena para el apellido."
   ]
  },
  {
   "cell_type": "code",
   "execution_count": 1,
   "metadata": {
    "colab": {
     "base_uri": "https://localhost:8080/"
    },
    "id": "0mYAxetNJm9W",
    "outputId": "2128b910-489c-4939-cb24-6d0f6d45e877"
   },
   "outputs": [
    {
     "name": "stdout",
     "output_type": "stream",
     "text": [
      "['mike', 'reed']\n"
     ]
    }
   ],
   "source": [
    "user_name = 'mike reed'\n",
    "name_split = user_name.split() \n",
    "\n",
    "print(name_split)"
   ]
  },
  {
   "cell_type": "markdown",
   "metadata": {
    "id": "sVDWXaavJm9W"
   },
   "source": [
    "********Hint********\n",
    "\n",
    "El método `split()` se utiliza para dividir una cadena. Por defecto, utiliza un espacio como separador.\n"
   ]
  },
  {
   "cell_type": "markdown",
   "metadata": {},
   "source": [
    "<div class=\"alert alert-block alert-warning\">\n",
    "<b>Atención</b> <a class=\"tocSkip\"></a>\n",
    "En este paso, utilizaste `split(\",\")` para dividir el nombre del usuario, pero como el nombre no contiene comas, este método no realiza la división esperada. En su lugar, deberías usar `split()` sin parámetros, que divide la cadena en cada espacio. Aquí está el código corregido:\n",
    "\n",
    "        user_name = 'mike reed'\n",
    "        name_split = user_name.split()  # Usa el espacio como separador por defecto\n",
    "        print(name_split)\n",
    "\n",
    "Esto te dará el resultado correcto: ['mike', 'reed'].\n",
    "\n",
    "</div>"
   ]
  },
  {
   "cell_type": "markdown",
   "metadata": {},
   "source": [
    "<div class=\"alert alert-block alert-info\">\n",
    "<b>Comentario estudiante</b><a class=\"tocSkip\"></a>\n",
    "Ok listo correguido.\n",
    "</div>"
   ]
  },
  {
   "cell_type": "markdown",
   "metadata": {
    "id": "bcNebWVsJm9W"
   },
   "source": [
    "# Paso 4\n",
    "\n",
    "¡Genial! Ahora debemos trabajar con la variable `user_age`. Como ya mencionamos, esta tiene un tipo de datos incorrecto. Arreglemos este problema transformando el tipo de datos y mostrando el resultado final.\n"
   ]
  },
  {
   "cell_type": "code",
   "execution_count": 5,
   "metadata": {
    "colab": {
     "base_uri": "https://localhost:8080/"
    },
    "id": "g0FZSll4Jm9W",
    "outputId": "8b977bc7-e315-4a27-97ad-645570ed60bc"
   },
   "outputs": [
    {
     "name": "stdout",
     "output_type": "stream",
     "text": [
      "32\n"
     ]
    }
   ],
   "source": [
    "user_age = 32.0\n",
    "user_age = int(user_age)# escribe tu código aquí\n",
    "\n",
    "print(user_age)"
   ]
  },
  {
   "cell_type": "markdown",
   "metadata": {
    "id": "r4a-d2veJm9W"
   },
   "source": [
    "********Hint********\n",
    "\n",
    "¿Qué tipo de datos eliminará la parte de coma flotante?\n"
   ]
  },
  {
   "cell_type": "markdown",
   "metadata": {},
   "source": [
    "<div class=\"alert alert-block alert-success\">\n",
    "<b>Éxito</b> <a class=\"tocSkip\"></a>\n",
    "Convertiste correctamente `user_age` de un flotante a un entero usando `int()`. Esta es una práctica importante para asegurar que los datos estén en el formato adecuado para el análisis.\n",
    "</div>"
   ]
  },
  {
   "cell_type": "markdown",
   "metadata": {
    "id": "U0bvLZOVJm9W"
   },
   "source": [
    "# Paso 5\n",
    "\n",
    "Como sabemos, los datos no siempre son perfectos. Debemos considerar escenarios en los que el valor de `user_age` no se pueda convertir en un número entero. Para evitar que nuestro sistema se bloquee, debemos tomar medidas con anticipación.\n",
    "\n",
    "Escribe un código que intente convertir la variable `user_age` en un número entero y asigna el valor transformado a `user_age_int`. Si el intento falla, mostramos un mensaje pidiendo al usuario o la usuaria que proporcione su edad como un valor numérico con el mensaje: `Please provide your age as a numerical value.` (Proporcione su edad como un valor numérico.)"
   ]
  },
  {
   "cell_type": "code",
   "execution_count": 3,
   "metadata": {
    "colab": {
     "base_uri": "https://localhost:8080/"
    },
    "id": "bKxiA-voJm9W",
    "outputId": "829a78ce-a7a5-4195-c424-90e9982c63ce"
   },
   "outputs": [
    {
     "name": "stdout",
     "output_type": "stream",
     "text": [
      "Please provide your age as a numerical value.\n"
     ]
    }
   ],
   "source": [
    "user_age = 'treinta y dos'\n",
    "\n",
    "try:\n",
    "    user_age=int(user_age)\n",
    "\n",
    "except:\n",
    "    print(\"Please provide your age as a numerical value.\")\n",
    "    \n",
    "# escribe tu código aquí"
   ]
  },
  {
   "cell_type": "markdown",
   "metadata": {
    "id": "YAFlIV8OL6S5"
   },
   "source": [
    "********Hint********\n",
    "\n",
    "Utiliza un bloque `try-except` para intentar la conversión; si falla, proporciona un mensaje claro indicando que la entrada debe ser numérica."
   ]
  },
  {
   "cell_type": "markdown",
   "metadata": {},
   "source": [
    "<div class=\"alert alert-block alert-success\">\n",
    "<b>Éxito</b> <a class=\"tocSkip\"></a>\n",
    "Implementaste un bloque `try-except` para manejar posibles errores al convertir la edad a un entero. Esto garantiza que el programa no falle si se introduce un valor no numérico, lo cual es un enfoque robusto.\n",
    "</div>"
   ]
  },
  {
   "cell_type": "markdown",
   "metadata": {
    "id": "geo-WB0KW3Ji"
   },
   "source": [
    "# Paso 6\n",
    "\n",
    "El equipo de dirección de Store 1 te pidió ayudarles a organizar los datos de sus clientes para analizarlos y gestionarlos mejor.\n",
    "\n",
    "Tu tarea es ordenar esta lista por ID de usuario de forma ascendente para que sea más fácil acceder a ella y analizarla.\n"
   ]
  },
  {
   "cell_type": "code",
   "execution_count": 7,
   "metadata": {
    "colab": {
     "base_uri": "https://localhost:8080/"
    },
    "id": "Re_QlnnLW3Jo",
    "outputId": "8b977bc7-e315-4a27-97ad-645570ed60bc"
   },
   "outputs": [
    {
     "name": "stdout",
     "output_type": "stream",
     "text": [
      "[['31980', 'kate morgan', 24.0, ['CLOTHES', 'BOOKS'], [439, 390]], ['32156', ' john doe ', 37.0, ['ELECTRONICS', 'HOME', 'FOOD'], [459, 120, 99]], ['32415', ' mike_reed ', 32.0, ['ELECTRONICS', 'SPORT', 'BOOKS'], [894, 213, 173]], ['32761', 'SAMANTHA SMITH', 29.0, ['CLOTHES', 'ELECTRONICS', 'BEAUTY'], [299, 679, 85]], ['32984', 'David White', 41.0, ['BOOKS', 'HOME', 'SPORT'], [234, 329, 243]], ['33001', 'emily brown', 26.0, ['BEAUTY', 'HOME', 'FOOD'], [213, 659, 79]], ['33767', ' Maria Garcia', 33.0, ['CLOTHES', 'FOOD', 'BEAUTY'], [499, 189, 63]], ['33912', 'JOSE MARTINEZ', 22.0, ['SPORT', 'ELECTRONICS', 'HOME'], [259, 549, 109]], ['34009', 'lisa wilson ', 35.0, ['HOME', 'BOOKS', 'CLOTHES'], [329, 189, 329]], ['34278', 'James Lee', 28.0, ['BEAUTY', 'CLOTHES', 'ELECTRONICS'], [189, 299, 579]]]\n"
     ]
    }
   ],
   "source": [
    "users = [\n",
    "    ['32415', ' mike_reed ', 32.0, ['ELECTRONICS', 'SPORT', 'BOOKS'], [894, 213, 173]],\n",
    "    ['31980', 'kate morgan', 24.0, ['CLOTHES', 'BOOKS'], [439, 390]],\n",
    "    ['32156', ' john doe ', 37.0, ['ELECTRONICS', 'HOME', 'FOOD'], [459, 120, 99]],\n",
    "    ['32761', 'SAMANTHA SMITH', 29.0, ['CLOTHES', 'ELECTRONICS', 'BEAUTY'], [299, 679, 85]],\n",
    "    ['32984', 'David White', 41.0, ['BOOKS', 'HOME', 'SPORT'], [234, 329, 243]],\n",
    "    ['33001', 'emily brown', 26.0, ['BEAUTY', 'HOME', 'FOOD'], [213, 659, 79]],\n",
    "    ['33767', ' Maria Garcia', 33.0, ['CLOTHES', 'FOOD', 'BEAUTY'], [499, 189, 63]],\n",
    "    ['33912', 'JOSE MARTINEZ', 22.0, ['SPORT', 'ELECTRONICS', 'HOME'], [259, 549, 109]],\n",
    "    ['34009', 'lisa wilson ', 35.0, ['HOME', 'BOOKS', 'CLOTHES'], [329, 189, 329]],\n",
    "    ['34278', 'James Lee', 28.0, ['BEAUTY', 'CLOTHES', 'ELECTRONICS'], [189, 299, 579]],\n",
    "]\n",
    "\n",
    "users.sort() # escribe tu código aquí\n",
    "\n",
    "print(users)"
   ]
  },
  {
   "cell_type": "markdown",
   "metadata": {
    "id": "uxG5diF0W3Jo"
   },
   "source": [
    "********Hint********\n",
    "\n",
    "Puedes utilizar el método `sort()` en la lista de usuarios para ordenarla de forma ascendente.\n"
   ]
  },
  {
   "cell_type": "markdown",
   "metadata": {},
   "source": [
    "<div class=\"alert alert-block alert-success\">\n",
    "<b>Éxito</b> <a class=\"tocSkip\"></a>\n",
    "Ordenaste correctamente la lista de usuarios por ID utilizando el método `sort()`. Esto facilita el acceso y la gestión de los datos.\n",
    "</div>"
   ]
  },
  {
   "cell_type": "markdown",
   "metadata": {
    "id": "VRqEQFJiJm9X"
   },
   "source": [
    "# Paso 7\n",
    "\n",
    "Tenemos la información de los hábitos de consumo de nuestros usuarios, incluyendo la cantidad gastada en cada una de sus categorías favoritas. La dirección está interesada en conocer la cantidad total gastada por el usuario.\n",
    "\n",
    "\n",
    "Calculemos este valor y despleguémoslo.\n"
   ]
  },
  {
   "cell_type": "code",
   "execution_count": 8,
   "metadata": {
    "colab": {
     "base_uri": "https://localhost:8080/"
    },
    "id": "sjNmuLsQJm9X",
    "outputId": "308483d6-8d3c-4763-9014-7e702307424f"
   },
   "outputs": [
    {
     "name": "stdout",
     "output_type": "stream",
     "text": [
      "1280\n",
      "173\n",
      "894\n"
     ]
    }
   ],
   "source": [
    "fav_categories_low = ['electronics', 'sport', 'books']\n",
    "spendings_per_category = [894, 213, 173]\n",
    "\n",
    "\n",
    "\n",
    "total_amount = sum(spendings_per_category)\n",
    "cantidad_minima = min(spendings_per_category)\n",
    "cantidad_maxima = max(spendings_per_category)# escribe tu código aquí\n",
    "\n",
    "print(total_amount)\n",
    "print(cantidad_minima)\n",
    "print(cantidad_maxima)\n"
   ]
  },
  {
   "cell_type": "markdown",
   "metadata": {
    "id": "VMh87UdWJm9X"
   },
   "source": [
    "********Hint********\n",
    "\n",
    "¿Cuáles son los tres métodos que se pueden aplicar a una lista para calcular sus valores mínimo, máximo y total?\n",
    "\n",
    "sum( )\n",
    "min( )\n",
    "max( )\n"
   ]
  },
  {
   "cell_type": "markdown",
   "metadata": {},
   "source": [
    "<div class=\"alert alert-block alert-success\">\n",
    "<b>Éxito</b> <a class=\"tocSkip\"></a>\n",
    "Calculaste de manera adecuada el importe total gastado por el usuario, así como los valores mínimo y máximo, utilizando las funciones `sum()`, `min()` y `max()`. Esto demuestra un buen manejo de las funciones básicas de Python para la manipulación de listas.\n",
    "</div>"
   ]
  },
  {
   "cell_type": "markdown",
   "metadata": {
    "id": "zP0nVV5FJm9Y"
   },
   "source": [
    "# Paso 8\n",
    "\n",
    "La dirección de la empresa nos pidió pensar en una manera de resumir toda la información de un usuario. Tu objetivo es crear una cadena formateada que utilice información de las variables `user_id`, `user_name` y `user_age`.\n",
    "\n",
    "Esta es la cadena final que queremos crear: `User 32415 is mike who is 32 years old.` (El usuario 32415 es Mike, quien tiene 32 años).\n"
   ]
  },
  {
   "cell_type": "code",
   "execution_count": 9,
   "metadata": {
    "colab": {
     "base_uri": "https://localhost:8080/"
    },
    "id": "8mlIJr4OJm9Y",
    "outputId": "909d84d1-5723-4676-fb2d-92f8a8c15b7b"
   },
   "outputs": [
    {
     "name": "stdout",
     "output_type": "stream",
     "text": [
      "El usuario 32415 es mike, quien tiene 32 años\n"
     ]
    }
   ],
   "source": [
    "user_id = '32415'\n",
    "user_name = ['mike', 'reed']\n",
    "user_age = 32\n",
    "\n",
    "user_info = f\"El usuario {user_id} es {user_name[0]}, quien tiene {user_age} años\"\n",
    "\n",
    "print(user_info)"
   ]
  },
  {
   "cell_type": "markdown",
   "metadata": {
    "id": "vZCOPWq9Jm9Y"
   },
   "source": [
    "********Hint********\n",
    "\n",
    "Para crear una cadena, puedes utilizar el método `format()` o f-string. Para extraer el nombre de la lista `user_name`, puedes utilizar la segmentación.\n"
   ]
  },
  {
   "cell_type": "markdown",
   "metadata": {},
   "source": [
    "<div class=\"alert alert-block alert-success\">\n",
    "<b>Éxito</b> <a class=\"tocSkip\"></a>\n",
    "Elpidio, has creado una cadena formateada correctamente usando un f-string para mostrar la información del usuario. Esto asegura que la presentación de datos sea clara y profesional.\n",
    "</div>"
   ]
  },
  {
   "cell_type": "markdown",
   "metadata": {
    "id": "xOj8_G0ZO9mM"
   },
   "source": [
    "# Paso 9\n",
    "\n",
    "La dirección también quiere una forma fácil de conocer la cantidad de clientes con cuyos datos contamos. Tu objetivo es crear una cadena formateada que muestre la cantidad de datos de clientes registrados.\n",
    "\n",
    "Esta es la cadena final que queremos crear: `Hemos registrado datos de X clientes`.\n"
   ]
  },
  {
   "cell_type": "code",
   "execution_count": 10,
   "metadata": {
    "colab": {
     "base_uri": "https://localhost:8080/"
    },
    "id": "eGvjS1rkO9mS",
    "outputId": "ce65761f-07d9-463e-e645-4a69c4c9cd9f"
   },
   "outputs": [
    {
     "name": "stdout",
     "output_type": "stream",
     "text": [
      "Hemos registrado datos de 10 clientes\n"
     ]
    }
   ],
   "source": [
    "users = [\n",
    "    ['32415', ' mike_reed ', 32.0, ['ELECTRONICS', 'SPORT', 'BOOKS'], [894, 213, 173]],\n",
    "    ['31980', 'kate morgan', 24.0, ['CLOTHES', 'BOOKS'], [439, 390]],\n",
    "    ['32156', ' john doe ', 37.0, ['ELECTRONICS', 'HOME', 'FOOD'], [459, 120, 99]],\n",
    "    ['32761', 'SAMANTHA SMITH', 29.0, ['CLOTHES', 'ELECTRONICS', 'BEAUTY'], [299, 679, 85]],\n",
    "    ['32984', 'David White', 41.0, ['BOOKS', 'HOME', 'SPORT'], [234, 329, 243]],\n",
    "    ['33001', 'emily brown', 26.0, ['BEAUTY', 'HOME', 'FOOD'], [213, 659, 79]],\n",
    "    ['33767', ' Maria Garcia', 33.0, ['CLOTHES', 'FOOD', 'BEAUTY'], [499, 189, 63]],\n",
    "    ['33912', 'JOSE MARTINEZ', 22.0, ['SPORT', 'ELECTRONICS', 'HOME'], [259, 549, 109]],\n",
    "    ['34009', 'lisa wilson ', 35.0, ['HOME', 'BOOKS', 'CLOTHES'], [329, 189, 329]],\n",
    "    ['34278', 'James Lee', 28.0, ['BEAUTY', 'CLOTHES', 'ELECTRONICS'], [189, 299, 579]],\n",
    "]\n",
    "\n",
    "\n",
    "user_info = f\"Hemos registrado datos de {len(users)} clientes\"\n",
    "print(user_info)"
   ]
  },
  {
   "cell_type": "markdown",
   "metadata": {
    "id": "B0oHnhDaO9mS"
   },
   "source": [
    "********Hint********\n",
    "\n",
    "Para crear una cadena, puedes utilizar el método `format()` o f-string. Para extraer la cantidad de clientes en la lista, puedes utilizar la función que devuelve la longitud de la lista.\n"
   ]
  },
  {
   "cell_type": "markdown",
   "metadata": {
    "id": "CVVBVYzORu7I"
   },
   "source": [
    "# Paso 10\n",
    "\n",
    "Apliquemos ahora todos los cambios a la lista de clientes. Para simplificar las cosas, te proporcionaremos una más corta.\n",
    "Debes:\n",
    "1. Eliminar todos los espacios iniciales y finales de los nombres, así como cualquier guion bajo.\n",
    "2. Convertir todas las edades en números enteros.\n",
    "3. Separar todos los nombres y apellidos en una sublista.\n",
    "\n",
    "Guarda la lista modificada como una nueva lista llamada `users_clean` y muéstrala en la pantalla.\n"
   ]
  },
  {
   "cell_type": "code",
   "execution_count": 11,
   "metadata": {
    "colab": {
     "base_uri": "https://localhost:8080/"
    },
    "id": "9qu_k6XURu7O",
    "outputId": "0bfb6d81-56c3-4c21-fa54-aa09b9752082"
   },
   "outputs": [
    {
     "name": "stdout",
     "output_type": "stream",
     "text": [
      "[[['mike', 'reed'], 32], [['kate', 'morgan'], 24], [['john', 'doe'], 37]]\n"
     ]
    }
   ],
   "source": [
    "users = [\n",
    "    ['32415', ' mike_reed ', 32.0, ['ELECTRONICS', 'SPORT', 'BOOKS'], [894, 213, 173]],\n",
    "    ['31980', 'kate morgan', 24.0, ['CLOTHES', 'BOOKS'], [439, 390]],\n",
    "    ['32156', ' john doe ', 37.0, ['ELECTRONICS', 'HOME', 'FOOD'], [459, 120, 99]],\n",
    "]\n",
    "\n",
    "users_clean = []\n",
    "\n",
    "\n",
    "# Procesa al primer usuario\n",
    "user_name_1 = users[0][1].strip().replace(\"_\",\" \")# se elige primero que columna que ocuparemos, \n",
    "                                                    #elimina los espacio de inicio y final y \n",
    "                                                    #remplazamos los guion bajo _ por espacios\n",
    "user_age_1 = int(users[0][2])# le quita el punto decimal para hacerlo entero\n",
    "user_name_1 = user_name_1.split()# elimina espacios\n",
    "users_clean.append([user_name_1,user_age_1])#agrega solo un elemento al final de la tabla \n",
    "\n",
    "# Procesa al segundo usuario\n",
    "user_name_2 = users[1][1].strip()  # se elige primero que columna que ocuparemos, \n",
    "user_age_2 = int(users[1][2]) # le quita el punto decimal para hacerlo entero\n",
    "user_name_2 = user_name_2.split()\n",
    "users_clean.append([user_name_2,user_age_2])# escribe tu código aquí\n",
    "\n",
    "# Procesa al tercer usuario\n",
    "user_name_3 = users[2][1].strip()\n",
    "user_age_3 = int(users[2][2]) \n",
    "user_name_3 = user_name_3.split()\n",
    "users_clean.append([user_name_3,user_age_3])\n",
    "\n",
    "\n",
    "print(users_clean)\n"
   ]
  },
  {
   "cell_type": "markdown",
   "metadata": {
    "id": "TXMzdgzkRu7P"
   },
   "source": [
    "********Hint********\n",
    "\n",
    "Para procesar a cada usuario, comienza por acceder a los elementos requeridos de la lista de usuarios. Utiliza el método `strip()` para eliminar los espacios iniciales y finales y el método `replace('_',' ')` para reemplazar los guiones bajos por espacios en los nombres. Convierte la edad a un número entero utilizando `int()`. Separa el nombre completo en nombre y apellido utilizando el método `split()`. Por último, `append` (agrega) los datos limpios a la lista `users_clean`.\n"
   ]
  },
  {
   "cell_type": "markdown",
   "metadata": {},
   "source": [
    "<div class=\"alert alert-block alert-success\">\n",
    "<b>Éxito</b> <a class=\"tocSkip\"></a>\n",
    "Procesaste correctamente los datos de los usuarios, aplicando la limpieza necesaria y estructurando la información en una nueva lista `users_clean`. Has manejado bien las funciones de Python para transformar y organizar los datos.\n",
    "</div>"
   ]
  },
  {
   "cell_type": "markdown",
   "metadata": {},
   "source": [
    "<div class=\"alert alert-block alert-success\">\n",
    "<b>Éxito</b> <a class=\"tocSkip\"></a>\n",
    "Elpidio, en general, has realizado un buen trabajo en este proyecto. Has demostrado una sólida comprensión de los conceptos clave de limpieza y manipulación de datos en Python. ¡Sigue así!\n",
    "</div>"
   ]
  },
  {
   "cell_type": "markdown",
   "metadata": {
    "id": "06IMoD_nRmtf"
   },
   "source": [
    "----------\n"
   ]
  }
 ],
 "metadata": {
  "ExecuteTimeLog": [
   {
    "duration": 14,
    "start_time": "2024-08-18T16:31:51.648Z"
   },
   {
    "duration": 4,
    "start_time": "2024-08-18T16:32:13.166Z"
   },
   {
    "duration": 5,
    "start_time": "2024-08-18T16:34:40.772Z"
   },
   {
    "duration": 309,
    "start_time": "2024-08-18T16:35:17.693Z"
   },
   {
    "duration": 24,
    "start_time": "2024-08-18T16:35:30.740Z"
   },
   {
    "duration": 22,
    "start_time": "2024-08-18T16:35:39.407Z"
   },
   {
    "duration": 22,
    "start_time": "2024-08-18T16:35:52.501Z"
   },
   {
    "duration": 22,
    "start_time": "2024-08-18T16:37:54.712Z"
   },
   {
    "duration": 24,
    "start_time": "2024-08-18T16:38:13.694Z"
   },
   {
    "duration": 5,
    "start_time": "2024-08-18T16:38:40.774Z"
   },
   {
    "duration": 6,
    "start_time": "2024-08-18T16:41:05.820Z"
   },
   {
    "duration": 5,
    "start_time": "2024-08-18T16:41:29.631Z"
   },
   {
    "duration": 4,
    "start_time": "2024-08-18T16:42:31.759Z"
   },
   {
    "duration": 4,
    "start_time": "2024-08-18T16:43:04.812Z"
   },
   {
    "duration": 6,
    "start_time": "2024-08-18T16:50:09.459Z"
   },
   {
    "duration": 4,
    "start_time": "2024-08-18T16:50:38.498Z"
   },
   {
    "duration": 4,
    "start_time": "2024-08-18T16:50:43.282Z"
   },
   {
    "duration": 4,
    "start_time": "2024-08-18T16:52:29.979Z"
   },
   {
    "duration": 34,
    "start_time": "2024-08-18T16:57:02.897Z"
   },
   {
    "duration": 10,
    "start_time": "2024-08-18T16:58:02.783Z"
   },
   {
    "duration": 6,
    "start_time": "2024-08-18T17:04:28.463Z"
   },
   {
    "duration": 6,
    "start_time": "2024-08-18T17:04:43.535Z"
   },
   {
    "duration": 7,
    "start_time": "2024-08-18T17:05:12.118Z"
   },
   {
    "duration": 5,
    "start_time": "2024-08-18T17:05:24.202Z"
   },
   {
    "duration": 6,
    "start_time": "2024-08-18T17:05:28.937Z"
   },
   {
    "duration": 7,
    "start_time": "2024-08-18T17:05:51.796Z"
   },
   {
    "duration": 5,
    "start_time": "2024-08-18T18:02:23.067Z"
   },
   {
    "duration": 4,
    "start_time": "2024-08-18T18:02:36.663Z"
   },
   {
    "duration": 5,
    "start_time": "2024-08-18T18:06:40.699Z"
   },
   {
    "duration": 4,
    "start_time": "2024-08-18T18:08:26.842Z"
   },
   {
    "duration": 6,
    "start_time": "2024-08-18T18:10:28.593Z"
   },
   {
    "duration": 56,
    "start_time": "2024-08-18T18:10:35.104Z"
   },
   {
    "duration": 6,
    "start_time": "2024-08-18T18:10:41.024Z"
   },
   {
    "duration": 7,
    "start_time": "2024-08-18T18:11:26.865Z"
   },
   {
    "duration": 7,
    "start_time": "2024-08-18T18:13:03.272Z"
   },
   {
    "duration": 25,
    "start_time": "2024-08-18T18:13:12.291Z"
   },
   {
    "duration": 24,
    "start_time": "2024-08-18T18:13:24.980Z"
   },
   {
    "duration": 24,
    "start_time": "2024-08-18T18:13:37.947Z"
   },
   {
    "duration": 23,
    "start_time": "2024-08-18T18:14:20.364Z"
   },
   {
    "duration": 4,
    "start_time": "2024-08-18T18:14:33.385Z"
   },
   {
    "duration": 4,
    "start_time": "2024-08-18T18:15:04.324Z"
   },
   {
    "duration": 8,
    "start_time": "2024-08-18T18:15:12.108Z"
   },
   {
    "duration": 5,
    "start_time": "2024-08-18T18:15:20.744Z"
   },
   {
    "duration": 23,
    "start_time": "2024-08-18T18:15:35.878Z"
   },
   {
    "duration": 29,
    "start_time": "2024-08-18T18:15:45.601Z"
   },
   {
    "duration": 5,
    "start_time": "2024-08-18T18:15:58.112Z"
   },
   {
    "duration": 27,
    "start_time": "2024-08-18T18:16:48.286Z"
   },
   {
    "duration": 5,
    "start_time": "2024-08-18T18:17:02.838Z"
   },
   {
    "duration": 4,
    "start_time": "2024-08-18T18:28:07.645Z"
   },
   {
    "duration": 7,
    "start_time": "2024-08-18T18:51:58.087Z"
   },
   {
    "duration": 6,
    "start_time": "2024-08-18T18:52:08.308Z"
   },
   {
    "duration": 6,
    "start_time": "2024-08-18T18:54:01.686Z"
   },
   {
    "duration": 5,
    "start_time": "2024-08-18T18:54:13.101Z"
   },
   {
    "duration": 6,
    "start_time": "2024-08-18T18:54:24.718Z"
   },
   {
    "duration": 5,
    "start_time": "2024-08-18T18:54:39.053Z"
   },
   {
    "duration": 4,
    "start_time": "2024-08-18T18:54:45.534Z"
   },
   {
    "duration": 4,
    "start_time": "2024-08-18T18:54:52.639Z"
   },
   {
    "duration": 4,
    "start_time": "2024-08-18T18:56:50.738Z"
   },
   {
    "duration": 5,
    "start_time": "2024-08-18T18:56:54.221Z"
   },
   {
    "duration": 5,
    "start_time": "2024-08-18T18:57:15.758Z"
   },
   {
    "duration": 6,
    "start_time": "2024-08-18T18:57:29.906Z"
   },
   {
    "duration": 7,
    "start_time": "2024-08-18T18:58:34.547Z"
   },
   {
    "duration": 5,
    "start_time": "2024-08-18T18:59:15.042Z"
   },
   {
    "duration": 6,
    "start_time": "2024-08-18T18:59:25.255Z"
   },
   {
    "duration": 8,
    "start_time": "2024-08-18T19:07:08.559Z"
   },
   {
    "duration": 5,
    "start_time": "2024-08-18T19:07:22.728Z"
   },
   {
    "duration": 25,
    "start_time": "2024-08-18T19:08:38.547Z"
   },
   {
    "duration": 24,
    "start_time": "2024-08-18T19:09:27.448Z"
   },
   {
    "duration": 23,
    "start_time": "2024-08-18T19:22:05.831Z"
   },
   {
    "duration": 6,
    "start_time": "2024-08-18T19:24:35.898Z"
   },
   {
    "duration": 5,
    "start_time": "2024-08-18T19:27:04.903Z"
   },
   {
    "duration": 5,
    "start_time": "2024-08-18T19:27:12.103Z"
   },
   {
    "duration": 5,
    "start_time": "2024-08-18T19:27:19.745Z"
   },
   {
    "duration": 6,
    "start_time": "2024-08-18T19:27:29.285Z"
   },
   {
    "duration": 5,
    "start_time": "2024-08-18T19:27:35.809Z"
   },
   {
    "duration": 6,
    "start_time": "2024-08-18T19:28:40.049Z"
   },
   {
    "duration": 7,
    "start_time": "2024-08-18T19:29:10.897Z"
   },
   {
    "duration": 6,
    "start_time": "2024-08-18T19:29:19.391Z"
   },
   {
    "duration": 5,
    "start_time": "2024-08-18T19:29:28.536Z"
   },
   {
    "duration": 7,
    "start_time": "2024-08-18T19:29:41.857Z"
   },
   {
    "duration": 5,
    "start_time": "2024-08-18T19:30:13.556Z"
   },
   {
    "duration": 11,
    "start_time": "2024-08-18T20:17:51.252Z"
   },
   {
    "duration": 6,
    "start_time": "2024-08-18T20:18:08.527Z"
   },
   {
    "duration": 6,
    "start_time": "2024-08-18T20:18:59.003Z"
   },
   {
    "duration": 6,
    "start_time": "2024-08-18T20:19:15.326Z"
   },
   {
    "duration": 5,
    "start_time": "2024-08-18T20:19:23.270Z"
   },
   {
    "duration": 15,
    "start_time": "2024-08-18T20:24:27.144Z"
   },
   {
    "duration": 10,
    "start_time": "2024-08-18T20:24:45.725Z"
   },
   {
    "duration": 10,
    "start_time": "2024-08-18T20:25:09.515Z"
   },
   {
    "duration": 10,
    "start_time": "2024-08-18T20:25:25.630Z"
   },
   {
    "duration": 12,
    "start_time": "2024-08-18T20:25:44.042Z"
   },
   {
    "duration": 10,
    "start_time": "2024-08-18T20:25:55.235Z"
   },
   {
    "duration": 14,
    "start_time": "2024-08-18T20:26:46.827Z"
   },
   {
    "duration": 11,
    "start_time": "2024-08-18T20:26:51.339Z"
   },
   {
    "duration": 9,
    "start_time": "2024-08-18T20:28:36.559Z"
   },
   {
    "duration": 10,
    "start_time": "2024-08-18T20:29:40.449Z"
   },
   {
    "duration": 9,
    "start_time": "2024-08-18T20:29:57.701Z"
   },
   {
    "duration": 12,
    "start_time": "2024-08-18T20:30:39.685Z"
   },
   {
    "duration": 10,
    "start_time": "2024-08-18T20:31:10.554Z"
   },
   {
    "duration": 10,
    "start_time": "2024-08-18T20:35:08.885Z"
   },
   {
    "duration": 11,
    "start_time": "2024-08-18T20:35:31.566Z"
   },
   {
    "duration": 10,
    "start_time": "2024-08-18T20:35:39.740Z"
   },
   {
    "duration": 13,
    "start_time": "2024-08-18T20:36:11.441Z"
   },
   {
    "duration": 11,
    "start_time": "2024-08-18T20:36:28.975Z"
   },
   {
    "duration": 12,
    "start_time": "2024-08-18T20:36:41.078Z"
   },
   {
    "duration": 10,
    "start_time": "2024-08-18T20:36:53.889Z"
   },
   {
    "duration": 9,
    "start_time": "2024-08-18T20:37:01.114Z"
   },
   {
    "duration": 11,
    "start_time": "2024-08-18T20:37:13.479Z"
   },
   {
    "duration": 12,
    "start_time": "2024-08-18T20:37:18.352Z"
   },
   {
    "duration": 11,
    "start_time": "2024-08-18T20:37:26.794Z"
   },
   {
    "duration": 11,
    "start_time": "2024-08-18T20:37:44.870Z"
   },
   {
    "duration": 11,
    "start_time": "2024-08-18T20:37:57.209Z"
   },
   {
    "duration": 12,
    "start_time": "2024-08-18T20:38:15.726Z"
   },
   {
    "duration": 10,
    "start_time": "2024-08-18T20:39:50.365Z"
   },
   {
    "duration": 10,
    "start_time": "2024-08-18T20:40:39.504Z"
   },
   {
    "duration": 11,
    "start_time": "2024-08-18T20:40:47.287Z"
   },
   {
    "duration": 10,
    "start_time": "2024-08-18T20:44:59.520Z"
   },
   {
    "duration": 9,
    "start_time": "2024-08-18T20:45:14.306Z"
   },
   {
    "duration": 12,
    "start_time": "2024-08-18T20:45:20.077Z"
   },
   {
    "duration": 14,
    "start_time": "2024-08-18T20:54:19.380Z"
   },
   {
    "duration": 18,
    "start_time": "2024-08-19T01:42:53.531Z"
   },
   {
    "duration": 10,
    "start_time": "2024-08-19T01:43:27.707Z"
   },
   {
    "duration": 11,
    "start_time": "2024-08-19T01:52:00.361Z"
   },
   {
    "duration": 326,
    "start_time": "2024-08-19T02:08:29.999Z"
   },
   {
    "duration": 9,
    "start_time": "2024-08-19T02:09:38.086Z"
   },
   {
    "duration": 10,
    "start_time": "2024-08-19T02:11:19.767Z"
   },
   {
    "duration": 35,
    "start_time": "2024-08-19T02:12:51.596Z"
   },
   {
    "duration": 35,
    "start_time": "2024-08-19T02:21:41.706Z"
   },
   {
    "duration": 36,
    "start_time": "2024-08-19T02:22:27.758Z"
   },
   {
    "duration": 32,
    "start_time": "2024-08-19T02:23:01.626Z"
   },
   {
    "duration": 72,
    "start_time": "2024-08-19T02:23:16.348Z"
   },
   {
    "duration": 32,
    "start_time": "2024-08-19T02:31:07.967Z"
   },
   {
    "duration": 34,
    "start_time": "2024-08-19T02:31:26.152Z"
   },
   {
    "duration": 35,
    "start_time": "2024-08-19T02:31:46.045Z"
   },
   {
    "duration": 37,
    "start_time": "2024-08-19T02:32:03.677Z"
   },
   {
    "duration": 37,
    "start_time": "2024-08-19T02:32:13.084Z"
   },
   {
    "duration": 33,
    "start_time": "2024-08-19T02:32:20.426Z"
   },
   {
    "duration": 34,
    "start_time": "2024-08-19T02:33:57.115Z"
   },
   {
    "duration": 39,
    "start_time": "2024-08-19T02:34:14.243Z"
   },
   {
    "duration": 34,
    "start_time": "2024-08-19T02:34:22.739Z"
   },
   {
    "duration": 34,
    "start_time": "2024-08-19T02:46:47.210Z"
   },
   {
    "duration": 36,
    "start_time": "2024-08-19T02:56:04.910Z"
   },
   {
    "duration": 10,
    "start_time": "2024-08-19T02:59:22.176Z"
   },
   {
    "duration": 34,
    "start_time": "2024-08-19T03:00:17.689Z"
   },
   {
    "duration": 9,
    "start_time": "2024-08-19T03:00:31.453Z"
   },
   {
    "duration": 32,
    "start_time": "2024-08-19T03:12:17.664Z"
   },
   {
    "duration": 36,
    "start_time": "2024-08-19T03:13:33.637Z"
   },
   {
    "duration": 12,
    "start_time": "2024-08-19T03:14:13.638Z"
   },
   {
    "duration": 9,
    "start_time": "2024-08-19T03:21:00.241Z"
   },
   {
    "duration": 14,
    "start_time": "2024-08-20T03:37:27.350Z"
   },
   {
    "duration": 7,
    "start_time": "2024-08-20T03:37:27.368Z"
   },
   {
    "duration": 6,
    "start_time": "2024-08-20T03:37:27.380Z"
   },
   {
    "duration": 6,
    "start_time": "2024-08-20T03:37:27.391Z"
   },
   {
    "duration": 9,
    "start_time": "2024-08-20T03:37:27.401Z"
   },
   {
    "duration": 6,
    "start_time": "2024-08-20T03:37:27.414Z"
   },
   {
    "duration": 11,
    "start_time": "2024-08-20T03:37:27.423Z"
   },
   {
    "duration": 6,
    "start_time": "2024-08-20T03:37:27.438Z"
   },
   {
    "duration": 5,
    "start_time": "2024-08-20T03:37:27.447Z"
   },
   {
    "duration": 58,
    "start_time": "2024-08-20T03:37:27.456Z"
   },
   {
    "duration": 14,
    "start_time": "2024-08-20T03:37:27.517Z"
   },
   {
    "duration": 13,
    "start_time": "2024-08-21T00:56:29.788Z"
   },
   {
    "duration": 5,
    "start_time": "2024-08-21T00:57:13.405Z"
   },
   {
    "duration": 5,
    "start_time": "2024-08-21T00:59:02.550Z"
   },
   {
    "duration": 6,
    "start_time": "2024-11-20T00:32:28.756Z"
   }
  ],
  "colab": {
   "provenance": []
  },
  "kernelspec": {
   "display_name": "Python 3 (ipykernel)",
   "language": "python",
   "name": "python3"
  },
  "language_info": {
   "codemirror_mode": {
    "name": "ipython",
    "version": 3
   },
   "file_extension": ".py",
   "mimetype": "text/x-python",
   "name": "python",
   "nbconvert_exporter": "python",
   "pygments_lexer": "ipython3",
   "version": "3.9.19"
  },
  "toc": {
   "base_numbering": 1,
   "nav_menu": {},
   "number_sections": true,
   "sideBar": true,
   "skip_h1_title": true,
   "title_cell": "Table of Contents",
   "title_sidebar": "Contents",
   "toc_cell": false,
   "toc_position": {},
   "toc_section_display": true,
   "toc_window_display": false
  }
 },
 "nbformat": 4,
 "nbformat_minor": 1
}
